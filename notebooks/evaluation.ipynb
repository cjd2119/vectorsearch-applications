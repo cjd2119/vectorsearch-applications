{
 "cells": [
  {
   "cell_type": "code",
   "execution_count": 10,
   "metadata": {},
   "outputs": [],
   "source": [
    "import sys\n",
    "\n",
    "sys.path.append(\"../\")\n",
    "\n",
    "# load from local .env file\n",
    "from dotenv import load_dotenv, find_dotenv\n",
    "\n",
    "env = load_dotenv(\".env\", override=True)\n",
    "\n",
    "# standard python\n",
    "from typing import List, Dict, Tuple\n",
    "import hyperopt as hp\n",
    "import os\n",
    "\n",
    "# external libraries\n",
    "from tqdm import tqdm\n",
    "from rich import (\n",
    "    print,\n",
    ")  # nice library that provides improved printing output (overrides default print function)\n",
    "\n",
    "# external files\n",
    "from src.reranker import ReRanker\n",
    "from src.database.weaviate_interface_v4 import WeaviateWCS\n",
    "\n",
    "from src.evaluation.retrieval_evaluation import execute_evaluation\n",
    "from src.preprocessor.preprocessing import FileIO\n",
    "\n",
    "api_key = os.environ[\"WEAVIATE_API_KEY\"]\n",
    "url = os.environ[\"WEAVIATE_ENDPOINT\"]"
   ]
  },
  {
   "cell_type": "code",
   "execution_count": 15,
   "metadata": {},
   "outputs": [
    {
     "name": "stderr",
     "output_type": "stream",
     "text": [
      "/opt/conda/envs/vec/lib/python3.10/site-packages/huggingface_hub/file_download.py:1132: FutureWarning: `resume_download` is deprecated and will be removed in version 1.0.0. Downloads always resume when possible. If you want to force a new download, use `force_download=True`.\n",
      "  warnings.warn(\n"
     ]
    }
   ],
   "source": [
    "# read env vars from local .env file\n",
    "model_path = \"../models/bge-base-finetuned-500\"\n",
    "reranker_path = \"BAAI/bge-reranker-base\"\n",
    "model_name_or_path = model_path\n",
    "\n",
    "# instantiate client\n",
    "client = WeaviateWCS(endpoint=url, api_key=api_key, model_name_or_path=model_path)\n",
    "reranker = ReRanker(model_name=reranker_path)\n",
    "\n",
    "# hyperparams\n",
    "sizes = [128, 256, 512]\n",
    "limits = [40, 50, 60, 80, 100]\n",
    "\n",
    "#################\n",
    "##  START CODE ##\n",
    "#################\n",
    "\n",
    "golden_datasets = [\n",
    "    FileIO.load_json(f\"../data/golden_datasets/golden_{size}_hard.json\")\n",
    "    for size in sizes\n",
    "]\n",
    "collection_names = [f\"Huberman_bge_finetuned_500_{size}\" for size in sizes]"
   ]
  },
  {
   "cell_type": "code",
   "execution_count": 16,
   "metadata": {},
   "outputs": [],
   "source": [
    "def f(x):\n",
    "    print(x[0], sizes[x[1]], limits[x[2]])\n",
    "    res = execute_evaluation(\n",
    "        golden_datasets[x[1]],\n",
    "        collection_names[x[1]],\n",
    "        retriever=client,\n",
    "        reranker=reranker,\n",
    "        chunk_size=sizes[x[1]],\n",
    "        alpha=x[0],\n",
    "        retrieve_limit=limits[x[2]],\n",
    "        dir_outpath=\"drive/MyDrive/outfiles4/\",\n",
    "    )\n",
    "    print(res[\"hybrid_hit_rate\"], x[0], sizes[x[1]], limits[x[2]])\n",
    "    return (-1) * res[\"hybrid_hit_rate\"]\n",
    "\n",
    "\n",
    "#################\n",
    "##  END CODE   ##\n",
    "#################"
   ]
  },
  {
   "cell_type": "code",
   "execution_count": 19,
   "metadata": {},
   "outputs": [
    {
     "name": "stderr",
     "output_type": "stream",
     "text": [
      "TPE is being used as the default algorithm.\n"
     ]
    },
    {
     "name": "stdout",
     "output_type": "stream",
     "text": [
      "  0%|          | 0/50 [00:00<?, ?trial/s, best loss=?]"
     ]
    },
    {
     "data": {
      "text/html": [
       "<pre style=\"white-space:pre;overflow-x:auto;line-height:normal;font-family:Menlo,'DejaVu Sans Mono',consolas,'Courier New',monospace\"><span style=\"color: #008080; text-decoration-color: #008080; font-weight: bold\">0.2838827089221218</span> <span style=\"color: #008080; text-decoration-color: #008080; font-weight: bold\">128</span> <span style=\"color: #008080; text-decoration-color: #008080; font-weight: bold\">60</span>\n",
       "</pre>\n"
      ],
      "text/plain": [
       "\u001b[1;36m0.2838827089221218\u001b[0m \u001b[1;36m128\u001b[0m \u001b[1;36m60\u001b[0m\n"
      ]
     },
     "metadata": {},
     "output_type": "display_data"
    },
    {
     "name": "stderr",
     "output_type": "stream",
     "text": [
      "Queries:   0%|          | 0/100 [00:00<?, ?it/s]\n",
      "Queries:   1%|1         | 1/100 [00:02<03:55,  2.38s/it]\n",
      "Queries:   2%|2         | 2/100 [00:04<03:50,  2.35s/it]\n",
      "Queries:   3%|3         | 3/100 [00:07<03:54,  2.42s/it]\n",
      "Queries:   4%|4         | 4/100 [00:09<03:50,  2.40s/it]\n",
      "Queries:   5%|5         | 5/100 [00:12<03:51,  2.43s/it]\n",
      "Queries:   6%|6         | 6/100 [00:14<03:45,  2.40s/it]\n",
      "Queries:   7%|7         | 7/100 [00:16<03:38,  2.35s/it]\n",
      "Queries:   8%|8         | 8/100 [00:19<03:37,  2.37s/it]\n",
      "Queries:   9%|9         | 9/100 [00:21<03:34,  2.36s/it]\n",
      "Queries:  10%|#         | 10/100 [00:23<03:28,  2.32s/it]\n",
      "Queries:  11%|#1        | 11/100 [00:26<03:32,  2.39s/it]\n",
      "Queries:  12%|#2        | 12/100 [00:28<03:30,  2.40s/it]\n",
      "Queries:  13%|#3        | 13/100 [00:31<03:29,  2.40s/it]\n",
      "Queries:  14%|#4        | 14/100 [00:33<03:28,  2.43s/it]\n",
      "Queries:  15%|#5        | 15/100 [00:35<03:26,  2.42s/it]\n",
      "Queries:  16%|#6        | 16/100 [00:38<03:22,  2.41s/it]\n",
      "Queries:  17%|#7        | 17/100 [00:40<03:17,  2.38s/it]\n",
      "Queries:  18%|#8        | 18/100 [00:42<03:14,  2.37s/it]\n",
      "Queries:  19%|#9        | 19/100 [00:45<03:10,  2.36s/it]\n",
      "Queries:  20%|##        | 20/100 [00:47<03:06,  2.34s/it]\n",
      "Queries:  21%|##1       | 21/100 [00:49<03:03,  2.33s/it]\n",
      "Queries:  22%|##2       | 22/100 [00:52<03:01,  2.33s/it]\n",
      "Queries:  23%|##3       | 23/100 [00:54<02:57,  2.31s/it]\n",
      "Queries:  24%|##4       | 24/100 [00:56<02:54,  2.29s/it]\n",
      "Queries:  25%|##5       | 25/100 [00:59<02:54,  2.32s/it]\n",
      "Queries:  26%|##6       | 26/100 [01:01<02:51,  2.31s/it]\n",
      "Queries:  27%|##7       | 27/100 [01:03<02:45,  2.27s/it]\n",
      "Queries:  28%|##8       | 28/100 [01:05<02:45,  2.29s/it]\n",
      "Queries:  29%|##9       | 29/100 [01:08<02:43,  2.31s/it]\n",
      "Queries:  30%|###       | 30/100 [01:10<02:39,  2.28s/it]\n",
      "Queries:  31%|###1      | 31/100 [01:12<02:36,  2.26s/it]\n",
      "Queries:  32%|###2      | 32/100 [01:15<02:36,  2.30s/it]\n",
      "Queries:  33%|###3      | 33/100 [01:17<02:33,  2.30s/it]\n",
      "Queries:  34%|###4      | 34/100 [01:19<02:36,  2.37s/it]\n",
      "Queries:  35%|###5      | 35/100 [01:22<02:31,  2.33s/it]\n",
      "Queries:  36%|###6      | 36/100 [01:24<02:36,  2.44s/it]\n",
      "Queries:  37%|###7      | 37/100 [01:27<02:32,  2.43s/it]\n",
      "Queries:  38%|###8      | 38/100 [01:29<02:26,  2.37s/it]\n",
      "Queries:  39%|###9      | 39/100 [01:31<02:20,  2.30s/it]\n",
      "Queries:  40%|####      | 40/100 [01:33<02:18,  2.30s/it]\n",
      "Queries:  41%|####1     | 41/100 [01:36<02:15,  2.29s/it]\n",
      "Queries:  42%|####2     | 42/100 [01:38<02:12,  2.28s/it]\n",
      "Queries:  43%|####3     | 43/100 [01:40<02:10,  2.28s/it]\n",
      "Queries:  44%|####4     | 44/100 [01:43<02:08,  2.30s/it]\n",
      "Queries:  45%|####5     | 45/100 [01:45<02:07,  2.32s/it]\n",
      "Queries:  46%|####6     | 46/100 [01:47<02:03,  2.29s/it]\n",
      "Queries:  47%|####6     | 47/100 [01:50<02:02,  2.30s/it]\n",
      "Queries:  48%|####8     | 48/100 [01:52<02:02,  2.35s/it]\n",
      "Queries:  49%|####9     | 49/100 [01:54<01:59,  2.34s/it]\n",
      "Queries:  50%|#####     | 50/100 [01:57<01:57,  2.35s/it]\n",
      "Queries:  51%|#####1    | 51/100 [01:59<01:54,  2.34s/it]\n",
      "Queries:  52%|#####2    | 52/100 [02:01<01:48,  2.27s/it]\n",
      "Queries:  53%|#####3    | 53/100 [02:03<01:47,  2.30s/it]\n",
      "Queries:  54%|#####4    | 54/100 [02:06<01:44,  2.27s/it]\n",
      "Queries:  55%|#####5    | 55/100 [02:08<01:44,  2.32s/it]\n",
      "Queries:  56%|#####6    | 56/100 [02:10<01:43,  2.35s/it]\n",
      "Queries:  57%|#####6    | 57/100 [02:13<01:40,  2.33s/it]\n",
      "Queries:  58%|#####8    | 58/100 [02:15<01:35,  2.27s/it]\n",
      "Queries:  59%|#####8    | 59/100 [02:17<01:36,  2.35s/it]\n",
      "Queries:  60%|######    | 60/100 [02:20<01:33,  2.35s/it]\n",
      "Queries:  61%|######1   | 61/100 [02:22<01:33,  2.40s/it]\n",
      "Queries:  62%|######2   | 62/100 [02:25<01:29,  2.36s/it]\n",
      "Queries:  63%|######3   | 63/100 [02:27<01:31,  2.47s/it]\n",
      "Queries:  64%|######4   | 64/100 [02:30<01:26,  2.40s/it]\n",
      "Queries:  65%|######5   | 65/100 [02:32<01:22,  2.37s/it]\n",
      "Queries:  66%|######6   | 66/100 [02:34<01:19,  2.33s/it]\n",
      "Queries:  67%|######7   | 67/100 [02:36<01:17,  2.34s/it]\n",
      "Queries:  68%|######8   | 68/100 [02:39<01:12,  2.27s/it]\n",
      "Queries:  69%|######9   | 69/100 [02:41<01:10,  2.28s/it]\n",
      "Queries:  70%|#######   | 70/100 [02:43<01:07,  2.26s/it]\n",
      "Queries:  71%|#######1  | 71/100 [02:45<01:05,  2.27s/it]\n",
      "Queries:  72%|#######2  | 72/100 [02:48<01:03,  2.28s/it]\n",
      "Queries:  73%|#######3  | 73/100 [02:50<01:01,  2.29s/it]\n",
      "Queries:  74%|#######4  | 74/100 [02:52<01:00,  2.31s/it]\n",
      "Queries:  75%|#######5  | 75/100 [02:55<00:58,  2.32s/it]\n",
      "Queries:  76%|#######6  | 76/100 [02:57<00:55,  2.32s/it]\n",
      "Queries:  77%|#######7  | 77/100 [02:59<00:53,  2.31s/it]\n",
      "Queries:  78%|#######8  | 78/100 [03:02<00:51,  2.34s/it]\n",
      "Queries:  79%|#######9  | 79/100 [03:04<00:49,  2.37s/it]\n",
      "Queries:  80%|########  | 80/100 [03:06<00:46,  2.34s/it]\n",
      "Queries:  81%|########1 | 81/100 [03:09<00:44,  2.33s/it]\n",
      "Queries:  82%|########2 | 82/100 [03:11<00:41,  2.32s/it]\n",
      "Queries:  83%|########2 | 83/100 [03:13<00:39,  2.33s/it]\n",
      "Queries:  84%|########4 | 84/100 [03:16<00:38,  2.39s/it]\n",
      "Queries:  85%|########5 | 85/100 [03:18<00:35,  2.40s/it]\n",
      "Queries:  86%|########6 | 86/100 [03:21<00:33,  2.39s/it]\n",
      "Queries:  87%|########7 | 87/100 [03:23<00:31,  2.39s/it]\n",
      "Queries:  88%|########8 | 88/100 [03:26<00:29,  2.45s/it]\n",
      "Queries:  89%|########9 | 89/100 [03:28<00:26,  2.42s/it]\n",
      "Queries:  90%|######### | 90/100 [03:30<00:23,  2.39s/it]\n",
      "Queries:  91%|#########1| 91/100 [03:33<00:21,  2.36s/it]\n",
      "Queries:  92%|#########2| 92/100 [03:35<00:19,  2.38s/it]\n",
      "Queries:  93%|#########3| 93/100 [03:37<00:16,  2.34s/it]\n",
      "Queries:  94%|#########3| 94/100 [03:40<00:14,  2.34s/it]\n",
      "Queries:  95%|#########5| 95/100 [03:42<00:11,  2.33s/it]\n",
      "Queries:  96%|#########6| 96/100 [03:44<00:09,  2.32s/it]\n",
      "Queries:  97%|#########7| 97/100 [03:47<00:07,  2.45s/it]\n",
      "Queries:  98%|#########8| 98/100 [03:49<00:04,  2.41s/it]\n",
      "Queries:  99%|#########9| 99/100 [03:52<00:02,  2.35s/it]\n",
      "Queries: 100%|##########| 100/100 [03:54<00:00,  2.34s/it]\n",
      "Queries: 100%|##########| 100/100 [03:54<00:00,  2.34s/it]\n"
     ]
    },
    {
     "data": {
      "text/html": [
       "<pre style=\"white-space:pre;overflow-x:auto;line-height:normal;font-family:Menlo,'DejaVu Sans Mono',consolas,'Courier New',monospace\">Total Processing Time: <span style=\"color: #008080; text-decoration-color: #008080; font-weight: bold\">3.91</span> minutes\n",
       "</pre>\n"
      ],
      "text/plain": [
       "Total Processing Time: \u001b[1;36m3.91\u001b[0m minutes\n"
      ]
     },
     "metadata": {},
     "output_type": "display_data"
    },
    {
     "data": {
      "text/html": [
       "<pre style=\"white-space:pre;overflow-x:auto;line-height:normal;font-family:Menlo,'DejaVu Sans Mono',consolas,'Courier New',monospace\"><span style=\"color: #008080; text-decoration-color: #008080; font-weight: bold\">0.74</span> <span style=\"color: #008080; text-decoration-color: #008080; font-weight: bold\">0.2838827089221218</span> <span style=\"color: #008080; text-decoration-color: #008080; font-weight: bold\">128</span> <span style=\"color: #008080; text-decoration-color: #008080; font-weight: bold\">60</span>\n",
       "</pre>\n"
      ],
      "text/plain": [
       "\u001b[1;36m0.74\u001b[0m \u001b[1;36m0.2838827089221218\u001b[0m \u001b[1;36m128\u001b[0m \u001b[1;36m60\u001b[0m\n"
      ]
     },
     "metadata": {},
     "output_type": "display_data"
    },
    {
     "name": "stdout",
     "output_type": "stream",
     "text": [
      "  2%|▏         | 1/50 [03:54<3:11:24, 234.38s/trial, best loss: -0.74]"
     ]
    },
    {
     "data": {
      "text/html": [
       "<pre style=\"white-space:pre;overflow-x:auto;line-height:normal;font-family:Menlo,'DejaVu Sans Mono',consolas,'Courier New',monospace\"><span style=\"color: #008080; text-decoration-color: #008080; font-weight: bold\">0.41887317672046753</span> <span style=\"color: #008080; text-decoration-color: #008080; font-weight: bold\">256</span> <span style=\"color: #008080; text-decoration-color: #008080; font-weight: bold\">80</span>\n",
       "</pre>\n"
      ],
      "text/plain": [
       "\u001b[1;36m0.41887317672046753\u001b[0m \u001b[1;36m256\u001b[0m \u001b[1;36m80\u001b[0m\n"
      ]
     },
     "metadata": {},
     "output_type": "display_data"
    },
    {
     "name": "stderr",
     "output_type": "stream",
     "text": [
      "Queries:   0%|          | 0/100 [00:00<?, ?it/s]\n",
      "Queries:   1%|1         | 1/100 [00:06<10:01,  6.08s/it]\n",
      "Queries:   2%|2         | 2/100 [00:11<09:35,  5.87s/it]\n",
      "Queries:   3%|3         | 3/100 [00:17<09:07,  5.65s/it]\n",
      "Queries:   4%|4         | 4/100 [00:22<09:05,  5.68s/it]\n",
      "Queries:   5%|5         | 5/100 [00:28<09:09,  5.78s/it]\n",
      "Queries:   6%|6         | 6/100 [00:34<09:02,  5.77s/it]\n",
      "Queries:   7%|7         | 7/100 [00:40<09:02,  5.83s/it]\n",
      "Queries:   8%|8         | 8/100 [00:46<08:56,  5.84s/it]\n",
      "Queries:   9%|9         | 9/100 [00:52<08:45,  5.78s/it]\n",
      "Queries:  10%|#         | 10/100 [00:57<08:37,  5.75s/it]\n",
      "Queries:  11%|#1        | 11/100 [01:03<08:26,  5.69s/it]\n",
      "Queries:  12%|#2        | 12/100 [01:08<08:16,  5.64s/it]\n",
      "Queries:  13%|#3        | 13/100 [01:14<08:06,  5.59s/it]\n",
      "Queries:  14%|#4        | 14/100 [01:20<08:19,  5.80s/it]\n",
      "Queries:  15%|#5        | 15/100 [01:26<08:10,  5.77s/it]\n",
      "Queries:  16%|#6        | 16/100 [01:32<08:14,  5.89s/it]\n",
      "Queries:  17%|#7        | 17/100 [01:38<08:04,  5.84s/it]\n",
      "Queries:  18%|#8        | 18/100 [01:43<07:46,  5.68s/it]\n",
      "Queries:  19%|#9        | 19/100 [01:49<07:38,  5.66s/it]\n",
      "Queries:  20%|##        | 20/100 [01:54<07:27,  5.59s/it]\n",
      "Queries:  21%|##1       | 21/100 [01:59<07:16,  5.53s/it]\n",
      "Queries:  22%|##2       | 22/100 [02:05<07:15,  5.58s/it]\n",
      "Queries:  23%|##3       | 23/100 [02:11<07:23,  5.76s/it]\n",
      "Queries:  24%|##4       | 24/100 [02:17<07:21,  5.81s/it]\n",
      "Queries:  25%|##5       | 25/100 [02:23<07:11,  5.76s/it]\n",
      "Queries:  26%|##6       | 26/100 [02:29<07:03,  5.72s/it]\n",
      "Queries:  27%|##7       | 27/100 [02:34<06:56,  5.71s/it]\n",
      "Queries:  28%|##8       | 28/100 [02:40<06:48,  5.68s/it]\n",
      "Queries:  29%|##9       | 29/100 [02:46<06:50,  5.78s/it]\n",
      "Queries:  30%|###       | 30/100 [02:51<06:38,  5.69s/it]\n",
      "Queries:  31%|###1      | 31/100 [02:57<06:28,  5.63s/it]\n",
      "Queries:  32%|###2      | 32/100 [03:02<06:19,  5.58s/it]\n",
      "Queries:  33%|###3      | 33/100 [03:08<06:09,  5.51s/it]\n",
      "Queries:  34%|###4      | 34/100 [03:13<06:05,  5.53s/it]\n",
      "Queries:  35%|###5      | 35/100 [03:19<05:59,  5.54s/it]\n",
      "Queries:  36%|###6      | 36/100 [03:25<06:08,  5.76s/it]\n",
      "Queries:  37%|###7      | 37/100 [03:31<06:04,  5.79s/it]\n",
      "Queries:  38%|###8      | 38/100 [03:37<06:01,  5.83s/it]\n",
      "Queries:  39%|###9      | 39/100 [03:43<05:57,  5.86s/it]\n",
      "Queries:  40%|####      | 40/100 [03:48<05:45,  5.75s/it]\n",
      "Queries:  41%|####1     | 41/100 [03:54<05:35,  5.68s/it]\n",
      "Queries:  42%|####2     | 42/100 [04:00<05:31,  5.72s/it]\n",
      "Queries:  43%|####3     | 43/100 [04:05<05:22,  5.65s/it]\n",
      "Queries:  44%|####4     | 44/100 [04:11<05:16,  5.65s/it]\n",
      "Queries:  45%|####5     | 45/100 [04:16<05:06,  5.58s/it]\n",
      "Queries:  46%|####6     | 46/100 [04:22<05:01,  5.58s/it]\n",
      "Queries:  47%|####6     | 47/100 [04:27<04:58,  5.63s/it]\n",
      "Queries:  48%|####8     | 48/100 [04:33<04:56,  5.71s/it]\n",
      "Queries:  49%|####9     | 49/100 [04:39<04:49,  5.68s/it]\n",
      "Queries:  50%|#####     | 50/100 [04:44<04:41,  5.62s/it]\n",
      "Queries:  51%|#####1    | 51/100 [04:50<04:37,  5.67s/it]\n",
      "Queries:  52%|#####2    | 52/100 [04:56<04:29,  5.61s/it]\n",
      "Queries:  53%|#####3    | 53/100 [05:01<04:23,  5.60s/it]\n",
      "Queries:  54%|#####4    | 54/100 [05:07<04:22,  5.70s/it]\n",
      "Queries:  55%|#####5    | 55/100 [05:13<04:14,  5.65s/it]\n",
      "Queries:  56%|#####6    | 56/100 [05:18<04:06,  5.60s/it]\n",
      "Queries:  57%|#####6    | 57/100 [05:24<03:59,  5.57s/it]\n",
      "Queries:  58%|#####8    | 58/100 [05:29<03:52,  5.54s/it]\n",
      "Queries:  59%|#####8    | 59/100 [05:35<03:46,  5.54s/it]\n",
      "Queries:  60%|######    | 60/100 [05:40<03:42,  5.56s/it]\n",
      "Queries:  61%|######1   | 61/100 [05:46<03:38,  5.61s/it]\n",
      "Queries:  62%|######2   | 62/100 [05:52<03:35,  5.68s/it]\n",
      "Queries:  63%|######3   | 63/100 [05:58<03:34,  5.80s/it]\n",
      "Queries:  64%|######4   | 64/100 [06:03<03:24,  5.68s/it]\n",
      "Queries:  65%|######5   | 65/100 [06:09<03:17,  5.64s/it]\n",
      "Queries:  66%|######6   | 66/100 [06:15<03:15,  5.74s/it]\n",
      "Queries:  67%|######7   | 67/100 [06:20<03:07,  5.68s/it]\n",
      "Queries:  68%|######8   | 68/100 [06:26<03:01,  5.67s/it]\n",
      "Queries:  69%|######9   | 69/100 [06:32<02:54,  5.64s/it]\n",
      "Queries:  70%|#######   | 70/100 [06:37<02:48,  5.62s/it]\n",
      "Queries:  71%|#######1  | 71/100 [06:43<02:41,  5.58s/it]\n",
      "Queries:  72%|#######2  | 72/100 [06:48<02:36,  5.58s/it]\n",
      "Queries:  73%|#######3  | 73/100 [06:54<02:27,  5.48s/it]\n",
      "Queries:  74%|#######4  | 74/100 [06:59<02:21,  5.44s/it]\n",
      "Queries:  75%|#######5  | 75/100 [07:05<02:17,  5.50s/it]\n",
      "Queries:  76%|#######6  | 76/100 [07:10<02:14,  5.58s/it]\n",
      "Queries:  77%|#######7  | 77/100 [07:16<02:07,  5.53s/it]\n",
      "Queries:  78%|#######8  | 78/100 [07:21<02:02,  5.55s/it]\n",
      "Queries:  79%|#######9  | 79/100 [07:27<01:58,  5.64s/it]\n",
      "Queries:  80%|########  | 80/100 [07:33<01:52,  5.61s/it]\n",
      "Queries:  81%|########1 | 81/100 [07:38<01:46,  5.60s/it]\n",
      "Queries:  82%|########2 | 82/100 [07:44<01:40,  5.56s/it]\n",
      "Queries:  83%|########2 | 83/100 [07:50<01:37,  5.72s/it]\n",
      "Queries:  84%|########4 | 84/100 [07:56<01:31,  5.72s/it]\n",
      "Queries:  85%|########5 | 85/100 [08:01<01:24,  5.64s/it]\n",
      "Queries:  86%|########6 | 86/100 [08:06<01:18,  5.57s/it]\n",
      "Queries:  87%|########7 | 87/100 [08:12<01:12,  5.55s/it]\n",
      "Queries:  88%|########8 | 88/100 [08:18<01:07,  5.60s/it]\n",
      "Queries:  89%|########9 | 89/100 [08:23<01:02,  5.65s/it]\n",
      "Queries:  90%|######### | 90/100 [08:29<00:56,  5.63s/it]\n",
      "Queries:  91%|#########1| 91/100 [08:35<00:50,  5.64s/it]\n",
      "Queries:  92%|#########2| 92/100 [08:40<00:44,  5.59s/it]\n",
      "Queries:  93%|#########3| 93/100 [08:46<00:39,  5.69s/it]\n",
      "Queries:  94%|#########3| 94/100 [08:52<00:33,  5.65s/it]\n",
      "Queries:  95%|#########5| 95/100 [08:57<00:28,  5.64s/it]\n",
      "Queries:  96%|#########6| 96/100 [09:03<00:22,  5.60s/it]\n",
      "Queries:  97%|#########7| 97/100 [09:08<00:16,  5.55s/it]\n",
      "Queries:  98%|#########8| 98/100 [09:14<00:11,  5.52s/it]\n",
      "Queries:  99%|#########9| 99/100 [09:19<00:05,  5.52s/it]\n",
      "Queries: 100%|##########| 100/100 [09:25<00:00,  5.60s/it]\n",
      "Queries: 100%|##########| 100/100 [09:25<00:00,  5.65s/it]\n"
     ]
    },
    {
     "data": {
      "text/html": [
       "<pre style=\"white-space:pre;overflow-x:auto;line-height:normal;font-family:Menlo,'DejaVu Sans Mono',consolas,'Courier New',monospace\">Total Processing Time: <span style=\"color: #008080; text-decoration-color: #008080; font-weight: bold\">9.42</span> minutes\n",
       "</pre>\n"
      ],
      "text/plain": [
       "Total Processing Time: \u001b[1;36m9.42\u001b[0m minutes\n"
      ]
     },
     "metadata": {},
     "output_type": "display_data"
    },
    {
     "data": {
      "text/html": [
       "<pre style=\"white-space:pre;overflow-x:auto;line-height:normal;font-family:Menlo,'DejaVu Sans Mono',consolas,'Courier New',monospace\"><span style=\"color: #008080; text-decoration-color: #008080; font-weight: bold\">0.82</span> <span style=\"color: #008080; text-decoration-color: #008080; font-weight: bold\">0.41887317672046753</span> <span style=\"color: #008080; text-decoration-color: #008080; font-weight: bold\">256</span> <span style=\"color: #008080; text-decoration-color: #008080; font-weight: bold\">80</span>\n",
       "</pre>\n"
      ],
      "text/plain": [
       "\u001b[1;36m0.82\u001b[0m \u001b[1;36m0.41887317672046753\u001b[0m \u001b[1;36m256\u001b[0m \u001b[1;36m80\u001b[0m\n"
      ]
     },
     "metadata": {},
     "output_type": "display_data"
    },
    {
     "name": "stdout",
     "output_type": "stream",
     "text": [
      "  4%|▍         | 2/50 [13:19<5:43:17, 429.12s/trial, best loss: -0.82]"
     ]
    },
    {
     "data": {
      "text/html": [
       "<pre style=\"white-space:pre;overflow-x:auto;line-height:normal;font-family:Menlo,'DejaVu Sans Mono',consolas,'Courier New',monospace\"><span style=\"color: #008080; text-decoration-color: #008080; font-weight: bold\">0.2896273910915287</span> <span style=\"color: #008080; text-decoration-color: #008080; font-weight: bold\">512</span> <span style=\"color: #008080; text-decoration-color: #008080; font-weight: bold\">50</span>\n",
       "</pre>\n"
      ],
      "text/plain": [
       "\u001b[1;36m0.2896273910915287\u001b[0m \u001b[1;36m512\u001b[0m \u001b[1;36m50\u001b[0m\n"
      ]
     },
     "metadata": {},
     "output_type": "display_data"
    },
    {
     "name": "stderr",
     "output_type": "stream",
     "text": [
      "Queries:   0%|          | 0/100 [00:00<?, ?it/s]\n",
      "Queries:   1%|1         | 1/100 [00:06<10:10,  6.16s/it]\n",
      "Queries:   2%|2         | 2/100 [00:12<10:02,  6.15s/it]\n",
      "Queries:   3%|3         | 3/100 [00:18<09:55,  6.13s/it]\n",
      "Queries:   4%|4         | 4/100 [00:24<09:47,  6.12s/it]\n",
      "Queries:   5%|5         | 5/100 [00:30<09:40,  6.11s/it]\n",
      "Queries:   6%|6         | 6/100 [00:36<09:33,  6.10s/it]\n",
      "Queries:   7%|7         | 7/100 [00:42<09:26,  6.09s/it]\n",
      "Queries:   8%|8         | 8/100 [00:48<09:19,  6.08s/it]\n",
      "Queries:   9%|9         | 9/100 [00:54<09:12,  6.07s/it]\n",
      "Queries:  10%|#         | 10/100 [01:00<09:04,  6.05s/it]\n",
      "Queries:  11%|#1        | 11/100 [01:06<08:57,  6.03s/it]\n",
      "Queries:  12%|#2        | 12/100 [01:12<08:49,  6.02s/it]\n",
      "Queries:  13%|#3        | 13/100 [01:18<08:43,  6.01s/it]\n",
      "Queries:  14%|#4        | 14/100 [01:24<08:37,  6.01s/it]\n",
      "Queries:  15%|#5        | 15/100 [01:30<08:31,  6.01s/it]\n",
      "Queries:  16%|#6        | 16/100 [01:36<08:25,  6.01s/it]\n",
      "Queries:  17%|#7        | 17/100 [01:42<08:19,  6.01s/it]\n",
      "Queries:  18%|#8        | 18/100 [01:48<08:14,  6.03s/it]\n",
      "Queries:  19%|#9        | 19/100 [01:55<08:08,  6.03s/it]\n",
      "Queries:  20%|##        | 20/100 [02:01<08:02,  6.03s/it]\n",
      "Queries:  21%|##1       | 21/100 [02:07<07:55,  6.02s/it]\n",
      "Queries:  22%|##2       | 22/100 [02:13<07:49,  6.02s/it]\n",
      "Queries:  23%|##3       | 23/100 [02:19<07:42,  6.01s/it]\n",
      "Queries:  24%|##4       | 24/100 [02:25<07:36,  6.01s/it]\n",
      "Queries:  25%|##5       | 25/100 [02:31<07:31,  6.01s/it]\n",
      "Queries:  26%|##6       | 26/100 [02:37<07:25,  6.02s/it]\n",
      "Queries:  27%|##7       | 27/100 [02:43<07:19,  6.02s/it]\n",
      "Queries:  28%|##8       | 28/100 [02:49<07:13,  6.02s/it]\n",
      "Queries:  29%|##9       | 29/100 [02:55<07:06,  6.01s/it]\n",
      "Queries:  30%|###       | 30/100 [03:01<07:00,  6.00s/it]\n",
      "Queries:  31%|###1      | 31/100 [03:07<06:54,  6.00s/it]\n",
      "Queries:  32%|###2      | 32/100 [03:13<06:48,  6.00s/it]\n",
      "Queries:  33%|###3      | 33/100 [03:19<06:42,  6.00s/it]\n",
      "Queries:  34%|###4      | 34/100 [03:25<06:36,  6.01s/it]\n",
      "Queries:  35%|###5      | 35/100 [03:31<06:30,  6.01s/it]\n",
      "Queries:  36%|###6      | 36/100 [03:37<06:24,  6.01s/it]\n",
      "Queries:  37%|###7      | 37/100 [03:43<06:17,  6.00s/it]\n",
      "Queries:  38%|###8      | 38/100 [03:49<06:12,  6.00s/it]\n",
      "Queries:  39%|###9      | 39/100 [03:55<06:05,  6.00s/it]\n",
      "Queries:  40%|####      | 40/100 [04:01<05:59,  6.00s/it]\n",
      "Queries:  41%|####1     | 41/100 [04:07<05:53,  6.00s/it]\n",
      "Queries:  42%|####2     | 42/100 [04:13<05:47,  6.00s/it]\n",
      "Queries:  43%|####3     | 43/100 [04:19<05:41,  6.00s/it]\n",
      "Queries:  44%|####4     | 44/100 [04:25<05:36,  6.00s/it]\n",
      "Queries:  45%|####5     | 45/100 [04:31<05:30,  6.01s/it]\n",
      "Queries:  46%|####6     | 46/100 [04:37<05:24,  6.01s/it]\n",
      "Queries:  47%|####6     | 47/100 [04:43<05:18,  6.00s/it]\n",
      "Queries:  48%|####8     | 48/100 [04:49<05:12,  6.00s/it]\n",
      "Queries:  49%|####9     | 49/100 [04:55<05:06,  6.00s/it]\n",
      "Queries:  50%|#####     | 50/100 [05:01<05:00,  6.00s/it]\n",
      "Queries:  51%|#####1    | 51/100 [05:07<04:54,  6.00s/it]\n",
      "Queries:  52%|#####2    | 52/100 [05:13<04:48,  6.00s/it]\n",
      "Queries:  53%|#####3    | 53/100 [05:19<04:42,  6.00s/it]\n",
      "Queries:  54%|#####4    | 54/100 [05:25<04:36,  6.01s/it]\n",
      "Queries:  55%|#####5    | 55/100 [05:31<04:30,  6.01s/it]\n",
      "Queries:  56%|#####6    | 56/100 [05:37<04:24,  6.01s/it]\n",
      "Queries:  57%|#####6    | 57/100 [05:43<04:18,  6.01s/it]\n",
      "Queries:  58%|#####8    | 58/100 [05:49<04:12,  6.01s/it]\n",
      "Queries:  59%|#####8    | 59/100 [05:55<04:06,  6.01s/it]\n",
      "Queries:  60%|######    | 60/100 [06:01<04:00,  6.01s/it]\n",
      "Queries:  61%|######1   | 61/100 [06:07<03:54,  6.01s/it]\n",
      "Queries:  62%|######2   | 62/100 [06:13<03:48,  6.02s/it]\n",
      "Queries:  63%|######3   | 63/100 [06:19<03:42,  6.02s/it]\n",
      "Queries:  64%|######4   | 64/100 [06:25<03:36,  6.02s/it]\n",
      "Queries:  65%|######5   | 65/100 [06:31<03:30,  6.02s/it]\n",
      "Queries:  66%|######6   | 66/100 [06:37<03:24,  6.01s/it]\n",
      "Queries:  67%|######7   | 67/100 [06:43<03:18,  6.01s/it]\n",
      "Queries:  68%|######8   | 68/100 [06:49<03:12,  6.01s/it]\n",
      "Queries:  69%|######9   | 69/100 [06:55<03:06,  6.02s/it]\n",
      "Queries:  70%|#######   | 70/100 [07:01<03:00,  6.02s/it]\n",
      "Queries:  71%|#######1  | 71/100 [07:07<02:54,  6.02s/it]\n",
      "Queries:  72%|#######2  | 72/100 [07:13<02:48,  6.02s/it]\n",
      "Queries:  73%|#######3  | 73/100 [07:19<02:42,  6.02s/it]\n",
      "Queries:  74%|#######4  | 74/100 [07:25<02:36,  6.01s/it]\n",
      "Queries:  75%|#######5  | 75/100 [07:31<02:30,  6.01s/it]\n",
      "Queries:  76%|#######6  | 76/100 [07:37<02:24,  6.01s/it]\n",
      "Queries:  77%|#######7  | 77/100 [07:43<02:18,  6.01s/it]\n",
      "Queries:  78%|#######8  | 78/100 [07:49<02:12,  6.01s/it]\n",
      "Queries:  79%|#######9  | 79/100 [07:55<02:06,  6.01s/it]\n",
      "Queries:  80%|########  | 80/100 [08:01<02:00,  6.01s/it]\n",
      "Queries:  81%|########1 | 81/100 [08:07<01:54,  6.01s/it]\n",
      "Queries:  82%|########2 | 82/100 [08:13<01:48,  6.01s/it]\n",
      "Queries:  83%|########2 | 83/100 [08:19<01:42,  6.02s/it]\n",
      "Queries:  84%|########4 | 84/100 [08:25<01:36,  6.02s/it]\n",
      "Queries:  85%|########5 | 85/100 [08:31<01:30,  6.03s/it]\n",
      "Queries:  86%|########6 | 86/100 [08:37<01:24,  6.02s/it]\n",
      "Queries:  87%|########7 | 87/100 [08:43<01:18,  6.01s/it]\n",
      "Queries:  88%|########8 | 88/100 [08:49<01:12,  6.01s/it]\n",
      "Queries:  89%|########9 | 89/100 [08:55<01:06,  6.01s/it]\n",
      "Queries:  90%|######### | 90/100 [09:01<01:00,  6.00s/it]\n",
      "Queries:  91%|#########1| 91/100 [09:07<00:54,  6.00s/it]\n",
      "Queries:  92%|#########2| 92/100 [09:13<00:48,  6.01s/it]\n",
      "Queries:  93%|#########3| 93/100 [09:19<00:42,  6.01s/it]\n",
      "Queries:  94%|#########3| 94/100 [09:25<00:36,  6.01s/it]\n",
      "Queries:  95%|#########5| 95/100 [09:31<00:30,  6.01s/it]\n",
      "Queries:  96%|#########6| 96/100 [09:37<00:24,  6.01s/it]\n",
      "Queries:  97%|#########7| 97/100 [09:43<00:18,  6.01s/it]\n",
      "Queries:  98%|#########8| 98/100 [09:49<00:12,  6.02s/it]\n",
      "Queries:  99%|#########9| 99/100 [09:55<00:06,  6.02s/it]\n",
      "Queries: 100%|##########| 100/100 [10:01<00:00,  6.02s/it]\n",
      "Queries: 100%|##########| 100/100 [10:01<00:00,  6.02s/it]\n"
     ]
    },
    {
     "data": {
      "text/html": [
       "<pre style=\"white-space:pre;overflow-x:auto;line-height:normal;font-family:Menlo,'DejaVu Sans Mono',consolas,'Courier New',monospace\">Total Processing Time: <span style=\"color: #008080; text-decoration-color: #008080; font-weight: bold\">10.03</span> minutes\n",
       "</pre>\n"
      ],
      "text/plain": [
       "Total Processing Time: \u001b[1;36m10.03\u001b[0m minutes\n"
      ]
     },
     "metadata": {},
     "output_type": "display_data"
    },
    {
     "data": {
      "text/html": [
       "<pre style=\"white-space:pre;overflow-x:auto;line-height:normal;font-family:Menlo,'DejaVu Sans Mono',consolas,'Courier New',monospace\"><span style=\"color: #008080; text-decoration-color: #008080; font-weight: bold\">0.87</span> <span style=\"color: #008080; text-decoration-color: #008080; font-weight: bold\">0.2896273910915287</span> <span style=\"color: #008080; text-decoration-color: #008080; font-weight: bold\">512</span> <span style=\"color: #008080; text-decoration-color: #008080; font-weight: bold\">50</span>\n",
       "</pre>\n"
      ],
      "text/plain": [
       "\u001b[1;36m0.87\u001b[0m \u001b[1;36m0.2896273910915287\u001b[0m \u001b[1;36m512\u001b[0m \u001b[1;36m50\u001b[0m\n"
      ]
     },
     "metadata": {},
     "output_type": "display_data"
    },
    {
     "name": "stdout",
     "output_type": "stream",
     "text": [
      "  6%|▌         | 3/50 [23:21<6:37:55, 508.00s/trial, best loss: -0.87]"
     ]
    },
    {
     "data": {
      "text/html": [
       "<pre style=\"white-space:pre;overflow-x:auto;line-height:normal;font-family:Menlo,'DejaVu Sans Mono',consolas,'Courier New',monospace\"><span style=\"color: #008080; text-decoration-color: #008080; font-weight: bold\">0.545200225725327</span> <span style=\"color: #008080; text-decoration-color: #008080; font-weight: bold\">128</span> <span style=\"color: #008080; text-decoration-color: #008080; font-weight: bold\">50</span>\n",
       "</pre>\n"
      ],
      "text/plain": [
       "\u001b[1;36m0.545200225725327\u001b[0m \u001b[1;36m128\u001b[0m \u001b[1;36m50\u001b[0m\n"
      ]
     },
     "metadata": {},
     "output_type": "display_data"
    },
    {
     "name": "stderr",
     "output_type": "stream",
     "text": [
      "Queries:   0%|          | 0/100 [00:00<?, ?it/s]\n",
      "Queries:   1%|1         | 1/100 [00:02<03:24,  2.06s/it]\n",
      "Queries:   2%|2         | 2/100 [00:04<03:20,  2.05s/it]\n",
      "Queries:   3%|3         | 3/100 [00:06<03:23,  2.10s/it]\n",
      "Queries:   4%|4         | 4/100 [00:08<03:19,  2.08s/it]\n",
      "Queries:   5%|5         | 5/100 [00:10<03:17,  2.08s/it]\n",
      "Queries:   6%|6         | 6/100 [00:12<03:14,  2.06s/it]\n",
      "Queries:   7%|7         | 7/100 [00:14<03:09,  2.03s/it]\n",
      "Queries:   8%|8         | 8/100 [00:16<03:07,  2.04s/it]\n",
      "Queries:   9%|9         | 9/100 [00:18<03:05,  2.03s/it]\n",
      "Queries:  10%|#         | 10/100 [00:20<03:00,  2.00s/it]\n",
      "Queries:  11%|#1        | 11/100 [00:22<03:02,  2.05s/it]\n",
      "Queries:  12%|#2        | 12/100 [00:24<03:00,  2.05s/it]\n",
      "Queries:  13%|#3        | 13/100 [00:26<03:05,  2.14s/it]\n",
      "Queries:  14%|#4        | 14/100 [00:28<03:01,  2.11s/it]\n",
      "Queries:  15%|#5        | 15/100 [00:31<02:58,  2.10s/it]\n",
      "Queries:  16%|#6        | 16/100 [00:33<02:53,  2.07s/it]\n",
      "Queries:  17%|#7        | 17/100 [00:35<02:50,  2.05s/it]\n",
      "Queries:  18%|#8        | 18/100 [00:37<02:48,  2.05s/it]\n",
      "Queries:  19%|#9        | 19/100 [00:39<02:44,  2.04s/it]\n",
      "Queries:  20%|##        | 20/100 [00:41<02:41,  2.02s/it]\n",
      "Queries:  21%|##1       | 21/100 [00:43<02:40,  2.04s/it]\n",
      "Queries:  22%|##2       | 22/100 [00:45<02:40,  2.06s/it]\n",
      "Queries:  23%|##3       | 23/100 [00:47<02:37,  2.04s/it]\n",
      "Queries:  24%|##4       | 24/100 [00:49<02:35,  2.04s/it]\n",
      "Queries:  25%|##5       | 25/100 [00:51<02:33,  2.05s/it]\n",
      "Queries:  26%|##6       | 26/100 [00:53<02:32,  2.05s/it]\n",
      "Queries:  27%|##7       | 27/100 [00:55<02:25,  2.00s/it]\n",
      "Queries:  28%|##8       | 28/100 [00:57<02:25,  2.03s/it]\n",
      "Queries:  29%|##9       | 29/100 [00:59<02:25,  2.04s/it]\n",
      "Queries:  30%|###       | 30/100 [01:01<02:22,  2.03s/it]\n",
      "Queries:  31%|###1      | 31/100 [01:03<02:19,  2.02s/it]\n",
      "Queries:  32%|###2      | 32/100 [01:05<02:18,  2.03s/it]\n",
      "Queries:  33%|###3      | 33/100 [01:07<02:22,  2.13s/it]\n",
      "Queries:  34%|###4      | 34/100 [01:09<02:18,  2.10s/it]\n",
      "Queries:  35%|###5      | 35/100 [01:11<02:12,  2.05s/it]\n",
      "Queries:  36%|###6      | 36/100 [01:14<02:18,  2.17s/it]\n",
      "Queries:  37%|###7      | 37/100 [01:16<02:15,  2.14s/it]\n",
      "Queries:  38%|###8      | 38/100 [01:18<02:10,  2.10s/it]\n",
      "Queries:  39%|###9      | 39/100 [01:20<02:03,  2.03s/it]\n",
      "Queries:  40%|####      | 40/100 [01:22<02:02,  2.04s/it]\n",
      "Queries:  41%|####1     | 41/100 [01:24<01:59,  2.03s/it]\n",
      "Queries:  42%|####2     | 42/100 [01:26<01:57,  2.03s/it]\n",
      "Queries:  43%|####3     | 43/100 [01:28<01:54,  2.01s/it]\n",
      "Queries:  44%|####4     | 44/100 [01:30<01:54,  2.04s/it]\n",
      "Queries:  45%|####5     | 45/100 [01:32<01:51,  2.03s/it]\n",
      "Queries:  46%|####6     | 46/100 [01:34<01:49,  2.02s/it]\n",
      "Queries:  47%|####6     | 47/100 [01:36<01:47,  2.04s/it]\n",
      "Queries:  48%|####8     | 48/100 [01:38<01:48,  2.08s/it]\n",
      "Queries:  49%|####9     | 49/100 [01:40<01:45,  2.08s/it]\n",
      "Queries:  50%|#####     | 50/100 [01:42<01:42,  2.04s/it]\n",
      "Queries:  51%|#####1    | 51/100 [01:44<01:40,  2.05s/it]\n",
      "Queries:  52%|#####2    | 52/100 [01:46<01:36,  2.01s/it]\n",
      "Queries:  53%|#####3    | 53/100 [01:48<01:33,  1.98s/it]\n",
      "Queries:  54%|#####4    | 54/100 [01:50<01:30,  1.98s/it]\n",
      "Queries:  55%|#####5    | 55/100 [01:52<01:29,  2.00s/it]\n",
      "Queries:  56%|#####6    | 56/100 [01:54<01:28,  2.00s/it]\n",
      "Queries:  57%|#####6    | 57/100 [01:56<01:26,  2.02s/it]\n",
      "Queries:  58%|#####8    | 58/100 [01:58<01:23,  1.99s/it]\n",
      "Queries:  59%|#####8    | 59/100 [02:00<01:21,  1.99s/it]\n",
      "Queries:  60%|######    | 60/100 [02:02<01:20,  2.02s/it]\n",
      "Queries:  61%|######1   | 61/100 [02:05<01:25,  2.18s/it]\n",
      "Queries:  62%|######2   | 62/100 [02:07<01:21,  2.13s/it]\n",
      "Queries:  63%|######3   | 63/100 [02:09<01:17,  2.09s/it]\n",
      "Queries:  64%|######4   | 64/100 [02:11<01:14,  2.06s/it]\n",
      "Queries:  65%|######5   | 65/100 [02:13<01:15,  2.16s/it]\n",
      "Queries:  66%|######6   | 66/100 [02:15<01:12,  2.12s/it]\n",
      "Queries:  67%|######7   | 67/100 [02:17<01:09,  2.09s/it]\n",
      "Queries:  68%|######8   | 68/100 [02:19<01:04,  2.02s/it]\n",
      "Queries:  69%|######9   | 69/100 [02:21<01:02,  2.02s/it]\n",
      "Queries:  70%|#######   | 70/100 [02:23<00:59,  1.99s/it]\n",
      "Queries:  71%|#######1  | 71/100 [02:25<00:58,  2.01s/it]\n",
      "Queries:  72%|#######2  | 72/100 [02:27<00:56,  2.01s/it]\n",
      "Queries:  73%|#######3  | 73/100 [02:29<00:54,  2.00s/it]\n",
      "Queries:  74%|#######4  | 74/100 [02:31<00:52,  2.03s/it]\n",
      "Queries:  75%|#######5  | 75/100 [02:33<00:50,  2.04s/it]\n",
      "Queries:  76%|#######6  | 76/100 [02:35<00:49,  2.04s/it]\n",
      "Queries:  77%|#######7  | 77/100 [02:37<00:46,  2.03s/it]\n",
      "Queries:  78%|#######8  | 78/100 [02:39<00:44,  2.04s/it]\n",
      "Queries:  79%|#######9  | 79/100 [02:42<00:43,  2.09s/it]\n",
      "Queries:  80%|########  | 80/100 [02:44<00:41,  2.06s/it]\n",
      "Queries:  81%|########1 | 81/100 [02:46<00:39,  2.06s/it]\n",
      "Queries:  82%|########2 | 82/100 [02:48<00:36,  2.05s/it]\n",
      "Queries:  83%|########2 | 83/100 [02:50<00:35,  2.06s/it]\n",
      "Queries:  84%|########4 | 84/100 [02:52<00:32,  2.05s/it]\n",
      "Queries:  85%|########5 | 85/100 [02:54<00:30,  2.06s/it]\n",
      "Queries:  86%|########6 | 86/100 [02:56<00:29,  2.08s/it]\n",
      "Queries:  87%|########7 | 87/100 [02:58<00:27,  2.09s/it]\n",
      "Queries:  88%|########8 | 88/100 [03:00<00:24,  2.08s/it]\n",
      "Queries:  89%|########9 | 89/100 [03:02<00:22,  2.07s/it]\n",
      "Queries:  90%|######### | 90/100 [03:04<00:20,  2.07s/it]\n",
      "Queries:  91%|#########1| 91/100 [03:06<00:18,  2.06s/it]\n",
      "Queries:  92%|#########2| 92/100 [03:09<00:16,  2.11s/it]\n",
      "Queries:  93%|#########3| 93/100 [03:11<00:15,  2.19s/it]\n",
      "Queries:  94%|#########3| 94/100 [03:13<00:12,  2.15s/it]\n",
      "Queries:  95%|#########5| 95/100 [03:15<00:10,  2.12s/it]\n",
      "Queries:  96%|#########6| 96/100 [03:17<00:08,  2.10s/it]\n",
      "Queries:  97%|#########7| 97/100 [03:19<00:06,  2.12s/it]\n",
      "Queries:  98%|#########8| 98/100 [03:21<00:04,  2.10s/it]\n",
      "Queries:  99%|#########9| 99/100 [03:23<00:02,  2.06s/it]\n",
      "Queries: 100%|##########| 100/100 [03:25<00:00,  2.06s/it]\n",
      "Queries: 100%|##########| 100/100 [03:25<00:00,  2.06s/it]\n"
     ]
    },
    {
     "data": {
      "text/html": [
       "<pre style=\"white-space:pre;overflow-x:auto;line-height:normal;font-family:Menlo,'DejaVu Sans Mono',consolas,'Courier New',monospace\">Total Processing Time: <span style=\"color: #008080; text-decoration-color: #008080; font-weight: bold\">3.43</span> minutes\n",
       "</pre>\n"
      ],
      "text/plain": [
       "Total Processing Time: \u001b[1;36m3.43\u001b[0m minutes\n"
      ]
     },
     "metadata": {},
     "output_type": "display_data"
    },
    {
     "data": {
      "text/html": [
       "<pre style=\"white-space:pre;overflow-x:auto;line-height:normal;font-family:Menlo,'DejaVu Sans Mono',consolas,'Courier New',monospace\"><span style=\"color: #008080; text-decoration-color: #008080; font-weight: bold\">0.75</span> <span style=\"color: #008080; text-decoration-color: #008080; font-weight: bold\">0.545200225725327</span> <span style=\"color: #008080; text-decoration-color: #008080; font-weight: bold\">128</span> <span style=\"color: #008080; text-decoration-color: #008080; font-weight: bold\">50</span>\n",
       "</pre>\n"
      ],
      "text/plain": [
       "\u001b[1;36m0.75\u001b[0m \u001b[1;36m0.545200225725327\u001b[0m \u001b[1;36m128\u001b[0m \u001b[1;36m50\u001b[0m\n"
      ]
     },
     "metadata": {},
     "output_type": "display_data"
    },
    {
     "name": "stdout",
     "output_type": "stream",
     "text": [
      "  8%|▊         | 4/50 [26:47<4:58:00, 388.70s/trial, best loss: -0.87]"
     ]
    },
    {
     "data": {
      "text/html": [
       "<pre style=\"white-space:pre;overflow-x:auto;line-height:normal;font-family:Menlo,'DejaVu Sans Mono',consolas,'Courier New',monospace\"><span style=\"color: #008080; text-decoration-color: #008080; font-weight: bold\">0.40824802548889455</span> <span style=\"color: #008080; text-decoration-color: #008080; font-weight: bold\">128</span> <span style=\"color: #008080; text-decoration-color: #008080; font-weight: bold\">80</span>\n",
       "</pre>\n"
      ],
      "text/plain": [
       "\u001b[1;36m0.40824802548889455\u001b[0m \u001b[1;36m128\u001b[0m \u001b[1;36m80\u001b[0m\n"
      ]
     },
     "metadata": {},
     "output_type": "display_data"
    },
    {
     "name": "stderr",
     "output_type": "stream",
     "text": [
      "Queries:   0%|          | 0/100 [00:00<?, ?it/s]\n",
      "Queries:   1%|1         | 1/100 [00:03<05:04,  3.08s/it]\n",
      "Queries:   2%|2         | 2/100 [00:06<05:03,  3.10s/it]\n",
      "Queries:   3%|3         | 3/100 [00:09<05:15,  3.25s/it]\n",
      "Queries:   4%|4         | 4/100 [00:12<05:10,  3.23s/it]\n",
      "Queries:   5%|5         | 5/100 [00:16<05:05,  3.22s/it]\n",
      "Queries:   6%|6         | 6/100 [00:19<05:00,  3.20s/it]\n",
      "Queries:   7%|7         | 7/100 [00:22<04:55,  3.17s/it]\n",
      "Queries:   8%|8         | 8/100 [00:25<04:52,  3.18s/it]\n",
      "Queries:   9%|9         | 9/100 [00:28<04:51,  3.20s/it]\n",
      "Queries:  10%|#         | 10/100 [00:31<04:43,  3.15s/it]\n",
      "Queries:  11%|#1        | 11/100 [00:35<04:46,  3.22s/it]\n",
      "Queries:  12%|#2        | 12/100 [00:38<04:40,  3.19s/it]\n",
      "Queries:  13%|#3        | 13/100 [00:41<04:38,  3.20s/it]\n",
      "Queries:  14%|#4        | 14/100 [00:44<04:36,  3.21s/it]\n",
      "Queries:  15%|#5        | 15/100 [00:47<04:32,  3.20s/it]\n",
      "Queries:  16%|#6        | 16/100 [00:51<04:29,  3.21s/it]\n",
      "Queries:  17%|#7        | 17/100 [00:54<04:25,  3.20s/it]\n",
      "Queries:  18%|#8        | 18/100 [00:57<04:22,  3.20s/it]\n",
      "Queries:  19%|#9        | 19/100 [01:00<04:20,  3.21s/it]\n",
      "Queries:  20%|##        | 20/100 [01:03<04:14,  3.18s/it]\n",
      "Queries:  21%|##1       | 21/100 [01:07<04:13,  3.20s/it]\n",
      "Queries:  22%|##2       | 22/100 [01:10<04:12,  3.24s/it]\n",
      "Queries:  23%|##3       | 23/100 [01:13<04:05,  3.19s/it]\n",
      "Queries:  24%|##4       | 24/100 [01:16<04:01,  3.18s/it]\n",
      "Queries:  25%|##5       | 25/100 [01:19<04:00,  3.20s/it]\n",
      "Queries:  26%|##6       | 26/100 [01:23<03:55,  3.18s/it]\n",
      "Queries:  27%|##7       | 27/100 [01:26<03:48,  3.13s/it]\n",
      "Queries:  28%|##8       | 28/100 [01:29<03:47,  3.16s/it]\n",
      "Queries:  29%|##9       | 29/100 [01:32<03:45,  3.18s/it]\n",
      "Queries:  30%|###       | 30/100 [01:35<03:38,  3.12s/it]\n",
      "Queries:  31%|###1      | 31/100 [01:38<03:33,  3.09s/it]\n",
      "Queries:  32%|###2      | 32/100 [01:41<03:33,  3.14s/it]\n",
      "Queries:  33%|###3      | 33/100 [01:44<03:31,  3.15s/it]\n",
      "Queries:  34%|###4      | 34/100 [01:48<03:29,  3.18s/it]\n",
      "Queries:  35%|###5      | 35/100 [01:51<03:24,  3.14s/it]\n",
      "Queries:  36%|###6      | 36/100 [01:54<03:26,  3.22s/it]\n",
      "Queries:  37%|###7      | 37/100 [01:57<03:23,  3.22s/it]\n",
      "Queries:  38%|###8      | 38/100 [02:01<03:17,  3.19s/it]\n",
      "Queries:  39%|###9      | 39/100 [02:03<03:07,  3.07s/it]\n",
      "Queries:  40%|####      | 40/100 [02:07<03:06,  3.11s/it]\n",
      "Queries:  41%|####1     | 41/100 [02:10<03:02,  3.09s/it]\n",
      "Queries:  42%|####2     | 42/100 [02:13<02:59,  3.09s/it]\n",
      "Queries:  43%|####3     | 43/100 [02:16<02:55,  3.08s/it]\n",
      "Queries:  44%|####4     | 44/100 [02:19<02:55,  3.13s/it]\n",
      "Queries:  45%|####5     | 45/100 [02:22<02:51,  3.12s/it]\n",
      "Queries:  46%|####6     | 46/100 [02:25<02:46,  3.09s/it]\n",
      "Queries:  47%|####6     | 47/100 [02:28<02:44,  3.11s/it]\n",
      "Queries:  48%|####8     | 48/100 [02:32<02:45,  3.18s/it]\n",
      "Queries:  49%|####9     | 49/100 [02:35<02:41,  3.18s/it]\n",
      "Queries:  50%|#####     | 50/100 [02:38<02:35,  3.11s/it]\n",
      "Queries:  51%|#####1    | 51/100 [02:41<02:30,  3.07s/it]\n",
      "Queries:  52%|#####2    | 52/100 [02:44<02:25,  3.04s/it]\n",
      "Queries:  53%|#####3    | 53/100 [02:47<02:21,  3.02s/it]\n",
      "Queries:  54%|#####4    | 54/100 [02:50<02:18,  3.01s/it]\n",
      "Queries:  55%|#####5    | 55/100 [02:53<02:17,  3.05s/it]\n",
      "Queries:  56%|#####6    | 56/100 [02:56<02:15,  3.08s/it]\n",
      "Queries:  57%|#####6    | 57/100 [02:59<02:13,  3.10s/it]\n",
      "Queries:  58%|#####8    | 58/100 [03:02<02:08,  3.06s/it]\n",
      "Queries:  59%|#####8    | 59/100 [03:05<02:05,  3.07s/it]\n",
      "Queries:  60%|######    | 60/100 [03:08<02:04,  3.12s/it]\n",
      "Queries:  61%|######1   | 61/100 [03:12<02:06,  3.24s/it]\n",
      "Queries:  62%|######2   | 62/100 [03:15<02:01,  3.19s/it]\n",
      "Queries:  63%|######3   | 63/100 [03:18<01:56,  3.16s/it]\n",
      "Queries:  64%|######4   | 64/100 [03:21<01:52,  3.12s/it]\n",
      "Queries:  65%|######5   | 65/100 [03:24<01:50,  3.16s/it]\n",
      "Queries:  66%|######6   | 66/100 [03:27<01:46,  3.12s/it]\n",
      "Queries:  67%|######7   | 67/100 [03:30<01:42,  3.12s/it]\n",
      "Queries:  68%|######8   | 68/100 [03:33<01:37,  3.05s/it]\n",
      "Queries:  69%|######9   | 69/100 [03:36<01:34,  3.04s/it]\n",
      "Queries:  70%|#######   | 70/100 [03:39<01:30,  3.03s/it]\n",
      "Queries:  71%|#######1  | 71/100 [03:43<01:29,  3.08s/it]\n",
      "Queries:  72%|#######2  | 72/100 [03:46<01:26,  3.09s/it]\n",
      "Queries:  73%|#######3  | 73/100 [03:49<01:23,  3.09s/it]\n",
      "Queries:  74%|#######4  | 74/100 [03:52<01:21,  3.12s/it]\n",
      "Queries:  75%|#######5  | 75/100 [03:55<01:18,  3.15s/it]\n",
      "Queries:  76%|#######6  | 76/100 [03:58<01:15,  3.16s/it]\n",
      "Queries:  77%|#######7  | 77/100 [04:02<01:12,  3.16s/it]\n",
      "Queries:  78%|#######8  | 78/100 [04:05<01:09,  3.17s/it]\n",
      "Queries:  79%|#######9  | 79/100 [04:08<01:07,  3.22s/it]\n",
      "Queries:  80%|########  | 80/100 [04:12<01:05,  3.29s/it]\n",
      "Queries:  81%|########1 | 81/100 [04:15<01:01,  3.25s/it]\n",
      "Queries:  82%|########2 | 82/100 [04:18<00:57,  3.21s/it]\n",
      "Queries:  83%|########2 | 83/100 [04:21<00:54,  3.23s/it]\n",
      "Queries:  84%|########4 | 84/100 [04:24<00:51,  3.20s/it]\n",
      "Queries:  85%|########5 | 85/100 [04:27<00:47,  3.17s/it]\n",
      "Queries:  86%|########6 | 86/100 [04:31<00:44,  3.20s/it]\n",
      "Queries:  87%|########7 | 87/100 [04:34<00:42,  3.24s/it]\n",
      "Queries:  88%|########8 | 88/100 [04:37<00:38,  3.22s/it]\n",
      "Queries:  89%|########9 | 89/100 [04:40<00:35,  3.21s/it]\n",
      "Queries:  90%|######### | 90/100 [04:43<00:31,  3.19s/it]\n",
      "Queries:  91%|#########1| 91/100 [04:47<00:28,  3.20s/it]\n",
      "Queries:  92%|#########2| 92/100 [04:50<00:26,  3.25s/it]\n",
      "Queries:  93%|#########3| 93/100 [04:53<00:22,  3.16s/it]\n",
      "Queries:  94%|#########3| 94/100 [04:56<00:18,  3.16s/it]\n",
      "Queries:  95%|#########5| 95/100 [04:59<00:15,  3.17s/it]\n",
      "Queries:  96%|#########6| 96/100 [05:03<00:13,  3.25s/it]\n",
      "Queries:  97%|#########7| 97/100 [05:06<00:09,  3.28s/it]\n",
      "Queries:  98%|#########8| 98/100 [05:09<00:06,  3.25s/it]\n",
      "Queries:  99%|#########9| 99/100 [05:12<00:03,  3.18s/it]\n",
      "Queries: 100%|##########| 100/100 [05:15<00:00,  3.19s/it]\n",
      "Queries: 100%|##########| 100/100 [05:15<00:00,  3.16s/it]\n"
     ]
    },
    {
     "data": {
      "text/html": [
       "<pre style=\"white-space:pre;overflow-x:auto;line-height:normal;font-family:Menlo,'DejaVu Sans Mono',consolas,'Courier New',monospace\">Total Processing Time: <span style=\"color: #008080; text-decoration-color: #008080; font-weight: bold\">5.27</span> minutes\n",
       "</pre>\n"
      ],
      "text/plain": [
       "Total Processing Time: \u001b[1;36m5.27\u001b[0m minutes\n"
      ]
     },
     "metadata": {},
     "output_type": "display_data"
    },
    {
     "data": {
      "text/html": [
       "<pre style=\"white-space:pre;overflow-x:auto;line-height:normal;font-family:Menlo,'DejaVu Sans Mono',consolas,'Courier New',monospace\"><span style=\"color: #008080; text-decoration-color: #008080; font-weight: bold\">0.75</span> <span style=\"color: #008080; text-decoration-color: #008080; font-weight: bold\">0.40824802548889455</span> <span style=\"color: #008080; text-decoration-color: #008080; font-weight: bold\">128</span> <span style=\"color: #008080; text-decoration-color: #008080; font-weight: bold\">80</span>\n",
       "</pre>\n"
      ],
      "text/plain": [
       "\u001b[1;36m0.75\u001b[0m \u001b[1;36m0.40824802548889455\u001b[0m \u001b[1;36m128\u001b[0m \u001b[1;36m80\u001b[0m\n"
      ]
     },
     "metadata": {},
     "output_type": "display_data"
    },
    {
     "name": "stdout",
     "output_type": "stream",
     "text": [
      " 10%|█         | 5/50 [32:03<4:31:51, 362.49s/trial, best loss: -0.87]"
     ]
    },
    {
     "data": {
      "text/html": [
       "<pre style=\"white-space:pre;overflow-x:auto;line-height:normal;font-family:Menlo,'DejaVu Sans Mono',consolas,'Courier New',monospace\"><span style=\"color: #008080; text-decoration-color: #008080; font-weight: bold\">0.6198453852708417</span> <span style=\"color: #008080; text-decoration-color: #008080; font-weight: bold\">256</span> <span style=\"color: #008080; text-decoration-color: #008080; font-weight: bold\">100</span>\n",
       "</pre>\n"
      ],
      "text/plain": [
       "\u001b[1;36m0.6198453852708417\u001b[0m \u001b[1;36m256\u001b[0m \u001b[1;36m100\u001b[0m\n"
      ]
     },
     "metadata": {},
     "output_type": "display_data"
    },
    {
     "name": "stderr",
     "output_type": "stream",
     "text": [
      "Queries:   0%|          | 0/100 [00:00<?, ?it/s]\n",
      "Queries:   1%|1         | 1/100 [00:07<12:49,  7.78s/it]\n",
      "Queries:   2%|2         | 2/100 [00:14<12:04,  7.39s/it]\n",
      "Queries:   3%|3         | 3/100 [00:21<11:40,  7.22s/it]\n",
      "Queries:   4%|4         | 4/100 [00:28<11:18,  7.07s/it]\n",
      "Queries:   5%|5         | 5/100 [00:36<11:20,  7.17s/it]\n",
      "Queries:   6%|6         | 6/100 [00:42<11:00,  7.03s/it]\n",
      "Queries:   7%|7         | 7/100 [00:50<11:00,  7.10s/it]\n",
      "Queries:   8%|8         | 8/100 [00:57<10:58,  7.15s/it]\n",
      "Queries:   9%|9         | 9/100 [01:04<10:40,  7.04s/it]\n",
      "Queries:  10%|#         | 10/100 [01:11<10:35,  7.06s/it]\n",
      "Queries:  11%|#1        | 11/100 [01:17<10:18,  6.94s/it]\n",
      "Queries:  12%|#2        | 12/100 [01:24<10:07,  6.91s/it]\n",
      "Queries:  13%|#3        | 13/100 [01:31<09:54,  6.84s/it]\n",
      "Queries:  14%|#4        | 14/100 [01:38<10:01,  7.00s/it]\n",
      "Queries:  15%|#5        | 15/100 [01:46<10:01,  7.08s/it]\n",
      "Queries:  16%|#6        | 16/100 [01:53<09:58,  7.12s/it]\n",
      "Queries:  17%|#7        | 17/100 [02:00<09:57,  7.19s/it]\n",
      "Queries:  18%|#8        | 18/100 [02:07<09:36,  7.03s/it]\n",
      "Queries:  19%|#9        | 19/100 [02:14<09:23,  6.96s/it]\n",
      "Queries:  20%|##        | 20/100 [02:20<09:10,  6.88s/it]\n",
      "Queries:  21%|##1       | 21/100 [02:27<08:58,  6.82s/it]\n",
      "Queries:  22%|##2       | 22/100 [02:34<08:55,  6.87s/it]\n",
      "Queries:  23%|##3       | 23/100 [02:41<09:00,  7.02s/it]\n",
      "Queries:  24%|##4       | 24/100 [02:48<08:56,  7.06s/it]\n",
      "Queries:  25%|##5       | 25/100 [02:55<08:45,  7.01s/it]\n",
      "Queries:  26%|##6       | 26/100 [03:02<08:30,  6.90s/it]\n",
      "Queries:  27%|##7       | 27/100 [03:09<08:24,  6.91s/it]\n",
      "Queries:  28%|##8       | 28/100 [03:16<08:14,  6.87s/it]\n",
      "Queries:  29%|##9       | 29/100 [03:23<08:18,  7.02s/it]\n",
      "Queries:  30%|###       | 30/100 [03:30<08:02,  6.89s/it]\n",
      "Queries:  31%|###1      | 31/100 [03:36<07:51,  6.83s/it]\n",
      "Queries:  32%|###2      | 32/100 [03:43<07:39,  6.76s/it]\n",
      "Queries:  33%|###3      | 33/100 [03:50<07:31,  6.74s/it]\n",
      "Queries:  34%|###4      | 34/100 [03:56<07:24,  6.73s/it]\n",
      "Queries:  35%|###5      | 35/100 [04:03<07:19,  6.76s/it]\n",
      "Queries:  36%|###6      | 36/100 [04:11<07:31,  7.05s/it]\n",
      "Queries:  37%|###7      | 37/100 [04:18<07:30,  7.16s/it]\n",
      "Queries:  38%|###8      | 38/100 [04:26<07:26,  7.20s/it]\n",
      "Queries:  39%|###9      | 39/100 [04:33<07:19,  7.21s/it]\n",
      "Queries:  40%|####      | 40/100 [04:39<07:01,  7.03s/it]\n",
      "Queries:  41%|####1     | 41/100 [04:46<06:49,  6.95s/it]\n",
      "Queries:  42%|####2     | 42/100 [04:53<06:44,  6.98s/it]\n",
      "Queries:  43%|####3     | 43/100 [05:00<06:33,  6.91s/it]\n",
      "Queries:  44%|####4     | 44/100 [05:07<06:24,  6.87s/it]\n",
      "Queries:  45%|####5     | 45/100 [05:13<06:12,  6.77s/it]\n",
      "Queries:  46%|####6     | 46/100 [05:20<06:05,  6.76s/it]\n",
      "Queries:  47%|####6     | 47/100 [05:27<06:01,  6.83s/it]\n",
      "Queries:  48%|####8     | 48/100 [05:34<05:59,  6.91s/it]\n",
      "Queries:  49%|####9     | 49/100 [05:41<05:51,  6.90s/it]\n",
      "Queries:  50%|#####     | 50/100 [05:48<05:38,  6.76s/it]\n",
      "Queries:  51%|#####1    | 51/100 [05:54<05:34,  6.83s/it]\n",
      "Queries:  52%|#####2    | 52/100 [06:01<05:25,  6.79s/it]\n",
      "Queries:  53%|#####3    | 53/100 [06:08<05:20,  6.82s/it]\n",
      "Queries:  54%|#####4    | 54/100 [06:15<05:17,  6.91s/it]\n",
      "Queries:  55%|#####5    | 55/100 [06:22<05:08,  6.86s/it]\n",
      "Queries:  56%|#####6    | 56/100 [06:29<04:59,  6.81s/it]\n",
      "Queries:  57%|#####6    | 57/100 [06:35<04:50,  6.77s/it]\n",
      "Queries:  58%|#####8    | 58/100 [06:42<04:44,  6.77s/it]\n",
      "Queries:  59%|#####8    | 59/100 [06:49<04:38,  6.80s/it]\n",
      "Queries:  60%|######    | 60/100 [06:56<04:32,  6.82s/it]\n",
      "Queries:  61%|######1   | 61/100 [07:03<04:26,  6.84s/it]\n",
      "Queries:  62%|######2   | 62/100 [07:10<04:25,  6.99s/it]\n",
      "Queries:  63%|######3   | 63/100 [07:17<04:22,  7.09s/it]\n",
      "Queries:  64%|######4   | 64/100 [07:24<04:11,  7.00s/it]\n",
      "Queries:  65%|######5   | 65/100 [07:31<04:03,  6.95s/it]\n",
      "Queries:  66%|######6   | 66/100 [07:38<03:59,  7.04s/it]\n",
      "Queries:  67%|######7   | 67/100 [07:45<03:49,  6.96s/it]\n",
      "Queries:  68%|######8   | 68/100 [07:52<03:41,  6.92s/it]\n",
      "Queries:  69%|######9   | 69/100 [07:59<03:32,  6.85s/it]\n",
      "Queries:  70%|#######   | 70/100 [08:05<03:24,  6.82s/it]\n",
      "Queries:  71%|#######1  | 71/100 [08:12<03:16,  6.76s/it]\n",
      "Queries:  72%|#######2  | 72/100 [08:19<03:09,  6.76s/it]\n",
      "Queries:  73%|#######3  | 73/100 [08:25<03:01,  6.73s/it]\n",
      "Queries:  74%|#######4  | 74/100 [08:32<02:55,  6.77s/it]\n",
      "Queries:  75%|#######5  | 75/100 [08:39<02:49,  6.80s/it]\n",
      "Queries:  76%|#######6  | 76/100 [08:46<02:46,  6.93s/it]\n",
      "Queries:  77%|#######7  | 77/100 [08:53<02:36,  6.82s/it]\n",
      "Queries:  78%|#######8  | 78/100 [09:00<02:29,  6.79s/it]\n",
      "Queries:  79%|#######9  | 79/100 [09:07<02:23,  6.84s/it]\n",
      "Queries:  80%|########  | 80/100 [09:13<02:15,  6.80s/it]\n",
      "Queries:  81%|########1 | 81/100 [09:20<02:08,  6.79s/it]\n",
      "Queries:  82%|########2 | 82/100 [09:27<02:00,  6.72s/it]\n",
      "Queries:  83%|########2 | 83/100 [09:34<01:57,  6.93s/it]\n",
      "Queries:  84%|########4 | 84/100 [09:41<01:50,  6.92s/it]\n",
      "Queries:  85%|########5 | 85/100 [09:47<01:42,  6.82s/it]\n",
      "Queries:  86%|########6 | 86/100 [09:54<01:34,  6.78s/it]\n",
      "Queries:  87%|########7 | 87/100 [10:01<01:27,  6.72s/it]\n",
      "Queries:  88%|########8 | 88/100 [10:08<01:21,  6.77s/it]\n",
      "Queries:  89%|########9 | 89/100 [10:15<01:15,  6.82s/it]\n",
      "Queries:  90%|######### | 90/100 [10:21<01:08,  6.80s/it]\n",
      "Queries:  91%|#########1| 91/100 [10:28<01:01,  6.79s/it]\n",
      "Queries:  92%|#########2| 92/100 [10:35<00:54,  6.76s/it]\n",
      "Queries:  93%|#########3| 93/100 [10:42<00:48,  6.90s/it]\n",
      "Queries:  94%|#########3| 94/100 [10:49<00:41,  6.87s/it]\n",
      "Queries:  95%|#########5| 95/100 [10:56<00:34,  6.85s/it]\n",
      "Queries:  96%|#########6| 96/100 [11:02<00:27,  6.81s/it]\n",
      "Queries:  97%|#########7| 97/100 [11:09<00:20,  6.74s/it]\n",
      "Queries:  98%|#########8| 98/100 [11:15<00:13,  6.68s/it]\n",
      "Queries:  99%|#########9| 99/100 [11:22<00:06,  6.68s/it]\n",
      "Queries: 100%|##########| 100/100 [11:29<00:00,  6.77s/it]\n",
      "Queries: 100%|##########| 100/100 [11:29<00:00,  6.90s/it]\n"
     ]
    },
    {
     "data": {
      "text/html": [
       "<pre style=\"white-space:pre;overflow-x:auto;line-height:normal;font-family:Menlo,'DejaVu Sans Mono',consolas,'Courier New',monospace\">Total Processing Time: <span style=\"color: #008080; text-decoration-color: #008080; font-weight: bold\">11.49</span> minutes\n",
       "</pre>\n"
      ],
      "text/plain": [
       "Total Processing Time: \u001b[1;36m11.49\u001b[0m minutes\n"
      ]
     },
     "metadata": {},
     "output_type": "display_data"
    },
    {
     "data": {
      "text/html": [
       "<pre style=\"white-space:pre;overflow-x:auto;line-height:normal;font-family:Menlo,'DejaVu Sans Mono',consolas,'Courier New',monospace\"><span style=\"color: #008080; text-decoration-color: #008080; font-weight: bold\">0.83</span> <span style=\"color: #008080; text-decoration-color: #008080; font-weight: bold\">0.6198453852708417</span> <span style=\"color: #008080; text-decoration-color: #008080; font-weight: bold\">256</span> <span style=\"color: #008080; text-decoration-color: #008080; font-weight: bold\">100</span>\n",
       "</pre>\n"
      ],
      "text/plain": [
       "\u001b[1;36m0.83\u001b[0m \u001b[1;36m0.6198453852708417\u001b[0m \u001b[1;36m256\u001b[0m \u001b[1;36m100\u001b[0m\n"
      ]
     },
     "metadata": {},
     "output_type": "display_data"
    },
    {
     "name": "stdout",
     "output_type": "stream",
     "text": [
      " 12%|█▏        | 6/50 [43:33<5:47:22, 473.70s/trial, best loss: -0.87]"
     ]
    },
    {
     "data": {
      "text/html": [
       "<pre style=\"white-space:pre;overflow-x:auto;line-height:normal;font-family:Menlo,'DejaVu Sans Mono',consolas,'Courier New',monospace\"><span style=\"color: #008080; text-decoration-color: #008080; font-weight: bold\">0.32202920439754606</span> <span style=\"color: #008080; text-decoration-color: #008080; font-weight: bold\">256</span> <span style=\"color: #008080; text-decoration-color: #008080; font-weight: bold\">60</span>\n",
       "</pre>\n"
      ],
      "text/plain": [
       "\u001b[1;36m0.32202920439754606\u001b[0m \u001b[1;36m256\u001b[0m \u001b[1;36m60\u001b[0m\n"
      ]
     },
     "metadata": {},
     "output_type": "display_data"
    },
    {
     "name": "stderr",
     "output_type": "stream",
     "text": [
      "Queries:   0%|          | 0/100 [00:00<?, ?it/s]\n",
      "Queries:   1%|1         | 1/100 [00:04<07:33,  4.58s/it]\n",
      "Queries:   2%|2         | 2/100 [00:09<07:21,  4.50s/it]\n",
      "Queries:   3%|3         | 3/100 [00:13<07:03,  4.37s/it]\n",
      "Queries:   4%|4         | 4/100 [00:17<06:51,  4.29s/it]\n",
      "Queries:   5%|5         | 5/100 [00:21<06:51,  4.34s/it]\n",
      "Queries:   6%|6         | 6/100 [00:26<06:42,  4.28s/it]\n",
      "Queries:   7%|7         | 7/100 [00:30<06:44,  4.34s/it]\n",
      "Queries:   8%|8         | 8/100 [00:34<06:42,  4.38s/it]\n",
      "Queries:   9%|9         | 9/100 [00:39<06:38,  4.38s/it]\n",
      "Queries:  10%|#         | 10/100 [00:43<06:34,  4.39s/it]\n",
      "Queries:  11%|#1        | 11/100 [00:47<06:27,  4.35s/it]\n",
      "Queries:  12%|#2        | 12/100 [00:52<06:21,  4.33s/it]\n",
      "Queries:  13%|#3        | 13/100 [00:56<06:14,  4.30s/it]\n",
      "Queries:  14%|#4        | 14/100 [01:01<06:15,  4.37s/it]\n",
      "Queries:  15%|#5        | 15/100 [01:05<06:11,  4.37s/it]\n",
      "Queries:  16%|#6        | 16/100 [01:09<06:10,  4.41s/it]\n",
      "Queries:  17%|#7        | 17/100 [01:14<06:06,  4.41s/it]\n",
      "Queries:  18%|#8        | 18/100 [01:18<05:57,  4.36s/it]\n",
      "Queries:  19%|#9        | 19/100 [01:23<05:59,  4.44s/it]\n",
      "Queries:  20%|##        | 20/100 [01:27<05:48,  4.36s/it]\n",
      "Queries:  21%|##1       | 21/100 [01:31<05:40,  4.31s/it]\n",
      "Queries:  22%|##2       | 22/100 [01:35<05:37,  4.33s/it]\n",
      "Queries:  23%|##3       | 23/100 [01:40<05:37,  4.39s/it]\n",
      "Queries:  24%|##4       | 24/100 [01:44<05:34,  4.40s/it]\n",
      "Queries:  25%|##5       | 25/100 [01:49<05:28,  4.38s/it]\n",
      "Queries:  26%|##6       | 26/100 [01:53<05:21,  4.34s/it]\n",
      "Queries:  27%|##7       | 27/100 [01:57<05:15,  4.32s/it]\n",
      "Queries:  28%|##8       | 28/100 [02:02<05:10,  4.32s/it]\n",
      "Queries:  29%|##9       | 29/100 [02:06<05:09,  4.36s/it]\n",
      "Queries:  30%|###       | 30/100 [02:10<05:01,  4.31s/it]\n",
      "Queries:  31%|###1      | 31/100 [02:14<04:56,  4.30s/it]\n",
      "Queries:  32%|###2      | 32/100 [02:19<04:50,  4.28s/it]\n",
      "Queries:  33%|###3      | 33/100 [02:23<04:50,  4.33s/it]\n",
      "Queries:  34%|###4      | 34/100 [02:27<04:43,  4.29s/it]\n",
      "Queries:  35%|###5      | 35/100 [02:32<04:38,  4.29s/it]\n",
      "Queries:  36%|###6      | 36/100 [02:36<04:41,  4.41s/it]\n",
      "Queries:  37%|###7      | 37/100 [02:41<04:39,  4.44s/it]\n",
      "Queries:  38%|###8      | 38/100 [02:45<04:37,  4.48s/it]\n",
      "Queries:  39%|###9      | 39/100 [02:50<04:32,  4.47s/it]\n",
      "Queries:  40%|####      | 40/100 [02:54<04:23,  4.38s/it]\n",
      "Queries:  41%|####1     | 41/100 [02:58<04:16,  4.34s/it]\n",
      "Queries:  42%|####2     | 42/100 [03:03<04:17,  4.45s/it]\n",
      "Queries:  43%|####3     | 43/100 [03:07<04:09,  4.38s/it]\n",
      "Queries:  44%|####4     | 44/100 [03:12<04:08,  4.45s/it]\n",
      "Queries:  45%|####5     | 45/100 [03:16<03:59,  4.36s/it]\n",
      "Queries:  46%|####6     | 46/100 [03:20<03:57,  4.40s/it]\n",
      "Queries:  47%|####6     | 47/100 [03:25<03:54,  4.43s/it]\n",
      "Queries:  48%|####8     | 48/100 [03:29<03:47,  4.38s/it]\n",
      "Queries:  49%|####9     | 49/100 [03:34<03:42,  4.37s/it]\n",
      "Queries:  50%|#####     | 50/100 [03:38<03:33,  4.27s/it]\n",
      "Queries:  51%|#####1    | 51/100 [03:42<03:30,  4.30s/it]\n",
      "Queries:  52%|#####2    | 52/100 [03:46<03:24,  4.25s/it]\n",
      "Queries:  53%|#####3    | 53/100 [03:50<03:21,  4.30s/it]\n",
      "Queries:  54%|#####4    | 54/100 [03:55<03:21,  4.38s/it]\n",
      "Queries:  55%|#####5    | 55/100 [03:59<03:14,  4.32s/it]\n",
      "Queries:  56%|#####6    | 56/100 [04:04<03:09,  4.31s/it]\n",
      "Queries:  57%|#####6    | 57/100 [04:08<03:08,  4.38s/it]\n",
      "Queries:  58%|#####8    | 58/100 [04:12<03:02,  4.33s/it]\n",
      "Queries:  59%|#####8    | 59/100 [04:17<03:01,  4.42s/it]\n",
      "Queries:  60%|######    | 60/100 [04:21<02:55,  4.40s/it]\n",
      "Queries:  61%|######1   | 61/100 [04:26<02:51,  4.39s/it]\n",
      "Queries:  62%|######2   | 62/100 [04:30<02:48,  4.42s/it]\n",
      "Queries:  63%|######3   | 63/100 [04:35<02:44,  4.45s/it]\n",
      "Queries:  64%|######4   | 64/100 [04:39<02:38,  4.40s/it]\n",
      "Queries:  65%|######5   | 65/100 [04:43<02:32,  4.35s/it]\n",
      "Queries:  66%|######6   | 66/100 [04:48<02:29,  4.39s/it]\n",
      "Queries:  67%|######7   | 67/100 [04:52<02:23,  4.34s/it]\n",
      "Queries:  68%|######8   | 68/100 [04:56<02:17,  4.30s/it]\n",
      "Queries:  69%|######9   | 69/100 [05:00<02:12,  4.28s/it]\n",
      "Queries:  70%|#######   | 70/100 [05:05<02:08,  4.28s/it]\n",
      "Queries:  71%|#######1  | 71/100 [05:09<02:03,  4.27s/it]\n",
      "Queries:  72%|#######2  | 72/100 [05:13<01:59,  4.27s/it]\n",
      "Queries:  73%|#######3  | 73/100 [05:17<01:54,  4.25s/it]\n",
      "Queries:  74%|#######4  | 74/100 [05:22<01:50,  4.27s/it]\n",
      "Queries:  75%|#######5  | 75/100 [05:26<01:47,  4.30s/it]\n",
      "Queries:  76%|#######6  | 76/100 [05:30<01:44,  4.34s/it]\n",
      "Queries:  77%|#######7  | 77/100 [05:35<01:38,  4.27s/it]\n",
      "Queries:  78%|#######8  | 78/100 [05:39<01:34,  4.29s/it]\n",
      "Queries:  79%|#######9  | 79/100 [05:43<01:30,  4.31s/it]\n",
      "Queries:  80%|########  | 80/100 [05:47<01:25,  4.28s/it]\n",
      "Queries:  81%|########1 | 81/100 [05:52<01:21,  4.27s/it]\n",
      "Queries:  82%|########2 | 82/100 [05:56<01:16,  4.25s/it]\n",
      "Queries:  83%|########2 | 83/100 [06:00<01:13,  4.33s/it]\n",
      "Queries:  84%|########4 | 84/100 [06:05<01:08,  4.30s/it]\n",
      "Queries:  85%|########5 | 85/100 [06:09<01:04,  4.29s/it]\n",
      "Queries:  86%|########6 | 86/100 [06:13<00:59,  4.28s/it]\n",
      "Queries:  87%|########7 | 87/100 [06:17<00:55,  4.26s/it]\n",
      "Queries:  88%|########8 | 88/100 [06:22<00:51,  4.29s/it]\n",
      "Queries:  89%|########9 | 89/100 [06:26<00:47,  4.33s/it]\n",
      "Queries:  90%|######### | 90/100 [06:30<00:43,  4.33s/it]\n",
      "Queries:  91%|#########1| 91/100 [06:35<00:38,  4.33s/it]\n",
      "Queries:  92%|#########2| 92/100 [06:39<00:34,  4.33s/it]\n",
      "Queries:  93%|#########3| 93/100 [06:44<00:30,  4.37s/it]\n",
      "Queries:  94%|#########3| 94/100 [06:48<00:26,  4.34s/it]\n",
      "Queries:  95%|#########5| 95/100 [06:52<00:21,  4.32s/it]\n",
      "Queries:  96%|#########6| 96/100 [06:56<00:17,  4.28s/it]\n",
      "Queries:  97%|#########7| 97/100 [07:01<00:12,  4.26s/it]\n",
      "Queries:  98%|#########8| 98/100 [07:05<00:08,  4.24s/it]\n",
      "Queries:  99%|#########9| 99/100 [07:09<00:04,  4.24s/it]\n",
      "Queries: 100%|##########| 100/100 [07:13<00:00,  4.29s/it]\n",
      "Queries: 100%|##########| 100/100 [07:13<00:00,  4.34s/it]\n"
     ]
    },
    {
     "data": {
      "text/html": [
       "<pre style=\"white-space:pre;overflow-x:auto;line-height:normal;font-family:Menlo,'DejaVu Sans Mono',consolas,'Courier New',monospace\">Total Processing Time: <span style=\"color: #008080; text-decoration-color: #008080; font-weight: bold\">7.23</span> minutes\n",
       "</pre>\n"
      ],
      "text/plain": [
       "Total Processing Time: \u001b[1;36m7.23\u001b[0m minutes\n"
      ]
     },
     "metadata": {},
     "output_type": "display_data"
    },
    {
     "data": {
      "text/html": [
       "<pre style=\"white-space:pre;overflow-x:auto;line-height:normal;font-family:Menlo,'DejaVu Sans Mono',consolas,'Courier New',monospace\"><span style=\"color: #008080; text-decoration-color: #008080; font-weight: bold\">0.82</span> <span style=\"color: #008080; text-decoration-color: #008080; font-weight: bold\">0.32202920439754606</span> <span style=\"color: #008080; text-decoration-color: #008080; font-weight: bold\">256</span> <span style=\"color: #008080; text-decoration-color: #008080; font-weight: bold\">60</span>\n",
       "</pre>\n"
      ],
      "text/plain": [
       "\u001b[1;36m0.82\u001b[0m \u001b[1;36m0.32202920439754606\u001b[0m \u001b[1;36m256\u001b[0m \u001b[1;36m60\u001b[0m\n"
      ]
     },
     "metadata": {},
     "output_type": "display_data"
    },
    {
     "name": "stdout",
     "output_type": "stream",
     "text": [
      " 14%|█▍        | 7/50 [50:47<5:30:09, 460.69s/trial, best loss: -0.87]"
     ]
    },
    {
     "data": {
      "text/html": [
       "<pre style=\"white-space:pre;overflow-x:auto;line-height:normal;font-family:Menlo,'DejaVu Sans Mono',consolas,'Courier New',monospace\"><span style=\"color: #008080; text-decoration-color: #008080; font-weight: bold\">0.7446580059912475</span> <span style=\"color: #008080; text-decoration-color: #008080; font-weight: bold\">512</span> <span style=\"color: #008080; text-decoration-color: #008080; font-weight: bold\">60</span>\n",
       "</pre>\n"
      ],
      "text/plain": [
       "\u001b[1;36m0.7446580059912475\u001b[0m \u001b[1;36m512\u001b[0m \u001b[1;36m60\u001b[0m\n"
      ]
     },
     "metadata": {},
     "output_type": "display_data"
    },
    {
     "name": "stderr",
     "output_type": "stream",
     "text": [
      "Queries:   0%|          | 0/100 [00:00<?, ?it/s]\n",
      "Queries:   1%|1         | 1/100 [00:07<12:13,  7.41s/it]\n",
      "Queries:   2%|2         | 2/100 [00:14<12:06,  7.41s/it]\n",
      "Queries:   3%|3         | 3/100 [00:22<11:57,  7.40s/it]\n",
      "Queries:   4%|4         | 4/100 [00:29<11:47,  7.37s/it]\n",
      "Queries:   5%|5         | 5/100 [00:36<11:37,  7.35s/it]\n",
      "Queries:   6%|6         | 6/100 [00:44<11:29,  7.33s/it]\n",
      "Queries:   7%|7         | 7/100 [00:51<11:20,  7.32s/it]\n",
      "Queries:   8%|8         | 8/100 [00:58<11:12,  7.31s/it]\n",
      "Queries:   9%|9         | 9/100 [01:06<11:05,  7.31s/it]\n",
      "Queries:  10%|#         | 10/100 [01:13<10:57,  7.30s/it]\n",
      "Queries:  11%|#1        | 11/100 [01:20<10:48,  7.29s/it]\n",
      "Queries:  12%|#2        | 12/100 [01:27<10:40,  7.28s/it]\n",
      "Queries:  13%|#3        | 13/100 [01:35<10:32,  7.27s/it]\n",
      "Queries:  14%|#4        | 14/100 [01:42<10:24,  7.26s/it]\n",
      "Queries:  15%|#5        | 15/100 [01:49<10:16,  7.25s/it]\n",
      "Queries:  16%|#6        | 16/100 [01:56<10:07,  7.24s/it]\n",
      "Queries:  17%|#7        | 17/100 [02:04<10:01,  7.24s/it]\n",
      "Queries:  18%|#8        | 18/100 [02:11<09:54,  7.25s/it]\n",
      "Queries:  19%|#9        | 19/100 [02:18<09:47,  7.26s/it]\n",
      "Queries:  20%|##        | 20/100 [02:25<09:40,  7.26s/it]\n",
      "Queries:  21%|##1       | 21/100 [02:33<09:33,  7.27s/it]\n",
      "Queries:  22%|##2       | 22/100 [02:40<09:26,  7.26s/it]\n",
      "Queries:  23%|##3       | 23/100 [02:47<09:18,  7.26s/it]\n",
      "Queries:  24%|##4       | 24/100 [02:54<09:10,  7.25s/it]\n",
      "Queries:  25%|##5       | 25/100 [03:02<09:02,  7.23s/it]\n",
      "Queries:  26%|##6       | 26/100 [03:09<08:54,  7.22s/it]\n",
      "Queries:  27%|##7       | 27/100 [03:16<08:47,  7.22s/it]\n",
      "Queries:  28%|##8       | 28/100 [03:23<08:40,  7.22s/it]\n",
      "Queries:  29%|##9       | 29/100 [03:30<08:31,  7.21s/it]\n",
      "Queries:  30%|###       | 30/100 [03:38<08:25,  7.22s/it]\n",
      "Queries:  31%|###1      | 31/100 [03:45<08:19,  7.23s/it]\n",
      "Queries:  32%|###2      | 32/100 [03:52<08:11,  7.23s/it]\n",
      "Queries:  33%|###3      | 33/100 [03:59<08:04,  7.23s/it]\n",
      "Queries:  34%|###4      | 34/100 [04:07<07:57,  7.24s/it]\n",
      "Queries:  35%|###5      | 35/100 [04:14<07:50,  7.24s/it]\n",
      "Queries:  36%|###6      | 36/100 [04:21<07:44,  7.25s/it]\n",
      "Queries:  37%|###7      | 37/100 [04:28<07:37,  7.26s/it]\n",
      "Queries:  38%|###8      | 38/100 [04:36<07:30,  7.27s/it]\n",
      "Queries:  39%|###9      | 39/100 [04:43<07:22,  7.26s/it]\n",
      "Queries:  40%|####      | 40/100 [04:50<07:14,  7.25s/it]\n",
      "Queries:  41%|####1     | 41/100 [04:57<07:07,  7.24s/it]\n",
      "Queries:  42%|####2     | 42/100 [05:05<06:59,  7.23s/it]\n",
      "Queries:  43%|####3     | 43/100 [05:12<06:51,  7.23s/it]\n",
      "Queries:  44%|####4     | 44/100 [05:19<06:44,  7.23s/it]\n",
      "Queries:  45%|####5     | 45/100 [05:26<06:37,  7.24s/it]\n",
      "Queries:  46%|####6     | 46/100 [05:34<06:30,  7.24s/it]\n",
      "Queries:  47%|####6     | 47/100 [05:41<06:23,  7.24s/it]\n",
      "Queries:  48%|####8     | 48/100 [05:48<06:16,  7.24s/it]\n",
      "Queries:  49%|####9     | 49/100 [05:55<06:09,  7.24s/it]\n",
      "Queries:  50%|#####     | 50/100 [06:03<06:02,  7.25s/it]\n",
      "Queries:  51%|#####1    | 51/100 [06:10<05:55,  7.25s/it]\n",
      "Queries:  52%|#####2    | 52/100 [06:17<05:48,  7.26s/it]\n",
      "Queries:  53%|#####3    | 53/100 [06:24<05:41,  7.26s/it]\n",
      "Queries:  54%|#####4    | 54/100 [06:32<05:33,  7.26s/it]\n",
      "Queries:  55%|#####5    | 55/100 [06:39<05:26,  7.26s/it]\n",
      "Queries:  56%|#####6    | 56/100 [06:46<05:22,  7.34s/it]\n",
      "Queries:  57%|#####6    | 57/100 [06:54<05:14,  7.32s/it]\n",
      "Queries:  58%|#####8    | 58/100 [07:01<05:06,  7.29s/it]\n",
      "Queries:  59%|#####8    | 59/100 [07:08<04:58,  7.27s/it]\n",
      "Queries:  60%|######    | 60/100 [07:15<04:50,  7.27s/it]\n",
      "Queries:  61%|######1   | 61/100 [07:23<04:43,  7.27s/it]\n",
      "Queries:  62%|######2   | 62/100 [07:30<04:36,  7.27s/it]\n",
      "Queries:  63%|######3   | 63/100 [07:37<04:32,  7.35s/it]\n",
      "Queries:  64%|######4   | 64/100 [07:45<04:23,  7.32s/it]\n",
      "Queries:  65%|######5   | 65/100 [07:52<04:18,  7.38s/it]\n",
      "Queries:  66%|######6   | 66/100 [07:59<04:09,  7.35s/it]\n",
      "Queries:  67%|######7   | 67/100 [08:07<04:01,  7.33s/it]\n",
      "Queries:  68%|######8   | 68/100 [08:14<03:53,  7.30s/it]\n",
      "Queries:  69%|######9   | 69/100 [08:21<03:46,  7.30s/it]\n",
      "Queries:  70%|#######   | 70/100 [08:29<03:38,  7.29s/it]\n",
      "Queries:  71%|#######1  | 71/100 [08:36<03:33,  7.36s/it]\n",
      "Queries:  72%|#######2  | 72/100 [08:43<03:25,  7.33s/it]\n",
      "Queries:  73%|#######3  | 73/100 [08:51<03:19,  7.39s/it]\n",
      "Queries:  74%|#######4  | 74/100 [08:58<03:11,  7.35s/it]\n",
      "Queries:  75%|#######5  | 75/100 [09:05<03:03,  7.32s/it]\n",
      "Queries:  76%|#######6  | 76/100 [09:13<02:55,  7.31s/it]\n",
      "Queries:  77%|#######7  | 77/100 [09:20<02:47,  7.29s/it]\n",
      "Queries:  78%|#######8  | 78/100 [09:28<02:43,  7.42s/it]\n",
      "Queries:  79%|#######9  | 79/100 [09:35<02:34,  7.36s/it]\n",
      "Queries:  80%|########  | 80/100 [09:42<02:27,  7.40s/it]\n",
      "Queries:  81%|########1 | 81/100 [09:49<02:19,  7.34s/it]\n",
      "Queries:  82%|########2 | 82/100 [09:57<02:11,  7.32s/it]\n",
      "Queries:  83%|########2 | 83/100 [10:04<02:04,  7.31s/it]\n",
      "Queries:  84%|########4 | 84/100 [10:11<01:56,  7.30s/it]\n",
      "Queries:  85%|########5 | 85/100 [10:19<01:49,  7.29s/it]\n",
      "Queries:  86%|########6 | 86/100 [10:26<01:41,  7.29s/it]\n",
      "Queries:  87%|########7 | 87/100 [10:33<01:34,  7.27s/it]\n",
      "Queries:  88%|########8 | 88/100 [10:40<01:27,  7.26s/it]\n",
      "Queries:  89%|########9 | 89/100 [10:48<01:19,  7.26s/it]\n",
      "Queries:  90%|######### | 90/100 [10:55<01:12,  7.26s/it]\n",
      "Queries:  91%|#########1| 91/100 [11:02<01:05,  7.26s/it]\n",
      "Queries:  92%|#########2| 92/100 [11:09<00:58,  7.26s/it]\n",
      "Queries:  93%|#########3| 93/100 [11:17<00:50,  7.27s/it]\n",
      "Queries:  94%|#########3| 94/100 [11:24<00:43,  7.28s/it]\n",
      "Queries:  95%|#########5| 95/100 [11:31<00:36,  7.27s/it]\n",
      "Queries:  96%|#########6| 96/100 [11:38<00:29,  7.27s/it]\n",
      "Queries:  97%|#########7| 97/100 [11:46<00:22,  7.34s/it]\n",
      "Queries:  98%|#########8| 98/100 [11:53<00:14,  7.31s/it]\n",
      "Queries:  99%|#########9| 99/100 [12:00<00:07,  7.29s/it]\n",
      "Queries: 100%|##########| 100/100 [12:08<00:00,  7.28s/it]\n",
      "Queries: 100%|##########| 100/100 [12:08<00:00,  7.28s/it]\n"
     ]
    },
    {
     "data": {
      "text/html": [
       "<pre style=\"white-space:pre;overflow-x:auto;line-height:normal;font-family:Menlo,'DejaVu Sans Mono',consolas,'Courier New',monospace\">Total Processing Time: <span style=\"color: #008080; text-decoration-color: #008080; font-weight: bold\">12.14</span> minutes\n",
       "</pre>\n"
      ],
      "text/plain": [
       "Total Processing Time: \u001b[1;36m12.14\u001b[0m minutes\n"
      ]
     },
     "metadata": {},
     "output_type": "display_data"
    },
    {
     "data": {
      "text/html": [
       "<pre style=\"white-space:pre;overflow-x:auto;line-height:normal;font-family:Menlo,'DejaVu Sans Mono',consolas,'Courier New',monospace\"><span style=\"color: #008080; text-decoration-color: #008080; font-weight: bold\">0.88</span> <span style=\"color: #008080; text-decoration-color: #008080; font-weight: bold\">0.7446580059912475</span> <span style=\"color: #008080; text-decoration-color: #008080; font-weight: bold\">512</span> <span style=\"color: #008080; text-decoration-color: #008080; font-weight: bold\">60</span>\n",
       "</pre>\n"
      ],
      "text/plain": [
       "\u001b[1;36m0.88\u001b[0m \u001b[1;36m0.7446580059912475\u001b[0m \u001b[1;36m512\u001b[0m \u001b[1;36m60\u001b[0m\n"
      ]
     },
     "metadata": {},
     "output_type": "display_data"
    },
    {
     "name": "stdout",
     "output_type": "stream",
     "text": [
      " 16%|█▌        | 8/50 [1:02:55<6:22:06, 545.86s/trial, best loss: -0.88]"
     ]
    },
    {
     "data": {
      "text/html": [
       "<pre style=\"white-space:pre;overflow-x:auto;line-height:normal;font-family:Menlo,'DejaVu Sans Mono',consolas,'Courier New',monospace\"><span style=\"color: #008080; text-decoration-color: #008080; font-weight: bold\">0.20244299026144547</span> <span style=\"color: #008080; text-decoration-color: #008080; font-weight: bold\">512</span> <span style=\"color: #008080; text-decoration-color: #008080; font-weight: bold\">60</span>\n",
       "</pre>\n"
      ],
      "text/plain": [
       "\u001b[1;36m0.20244299026144547\u001b[0m \u001b[1;36m512\u001b[0m \u001b[1;36m60\u001b[0m\n"
      ]
     },
     "metadata": {},
     "output_type": "display_data"
    },
    {
     "name": "stderr",
     "output_type": "stream",
     "text": [
      "Queries:   0%|          | 0/100 [00:00<?, ?it/s]\n",
      "Queries:   1%|1         | 1/100 [00:07<11:59,  7.27s/it]\n",
      "Queries:   2%|2         | 2/100 [00:14<11:52,  7.27s/it]\n",
      "Queries:   3%|3         | 3/100 [00:22<11:56,  7.39s/it]\n",
      "Queries:   4%|4         | 4/100 [00:29<11:43,  7.33s/it]\n",
      "Queries:   5%|5         | 5/100 [00:36<11:42,  7.40s/it]\n",
      "Queries:   6%|6         | 6/100 [00:44<11:30,  7.35s/it]\n",
      "Queries:   7%|7         | 7/100 [00:51<11:20,  7.32s/it]\n",
      "Queries:   8%|8         | 8/100 [00:58<11:10,  7.29s/it]\n",
      "Queries:   9%|9         | 9/100 [01:05<11:02,  7.28s/it]\n",
      "Queries:  10%|#         | 10/100 [01:13<10:55,  7.28s/it]\n",
      "Queries:  11%|#1        | 11/100 [01:20<10:47,  7.28s/it]\n",
      "Queries:  12%|#2        | 12/100 [01:27<10:40,  7.27s/it]\n",
      "Queries:  13%|#3        | 13/100 [01:35<10:40,  7.37s/it]\n",
      "Queries:  14%|#4        | 14/100 [01:42<10:31,  7.34s/it]\n",
      "Queries:  15%|#5        | 15/100 [01:49<10:22,  7.32s/it]\n",
      "Queries:  16%|#6        | 16/100 [01:56<10:12,  7.29s/it]\n",
      "Queries:  17%|#7        | 17/100 [02:04<10:04,  7.28s/it]\n",
      "Queries:  18%|#8        | 18/100 [02:11<09:55,  7.27s/it]\n",
      "Queries:  19%|#9        | 19/100 [02:18<09:48,  7.27s/it]\n",
      "Queries:  20%|##        | 20/100 [02:26<09:41,  7.27s/it]\n",
      "Queries:  21%|##1       | 21/100 [02:33<09:40,  7.35s/it]\n",
      "Queries:  22%|##2       | 22/100 [02:40<09:31,  7.32s/it]\n",
      "Queries:  23%|##3       | 23/100 [02:48<09:22,  7.31s/it]\n",
      "Queries:  24%|##4       | 24/100 [02:55<09:14,  7.29s/it]\n",
      "Queries:  25%|##5       | 25/100 [03:02<09:05,  7.28s/it]\n",
      "Queries:  26%|##6       | 26/100 [03:09<08:57,  7.27s/it]\n",
      "Queries:  27%|##7       | 27/100 [03:17<08:50,  7.26s/it]\n",
      "Queries:  28%|##8       | 28/100 [03:24<08:48,  7.34s/it]\n",
      "Queries:  29%|##9       | 29/100 [03:32<08:43,  7.37s/it]\n",
      "Queries:  30%|###       | 30/100 [03:39<08:33,  7.33s/it]\n",
      "Queries:  31%|###1      | 31/100 [03:46<08:24,  7.31s/it]\n",
      "Queries:  32%|###2      | 32/100 [03:53<08:15,  7.29s/it]\n",
      "Queries:  33%|###3      | 33/100 [04:01<08:07,  7.27s/it]\n",
      "Queries:  34%|###4      | 34/100 [04:08<07:59,  7.26s/it]\n",
      "Queries:  35%|###5      | 35/100 [04:15<07:56,  7.33s/it]\n",
      "Queries:  36%|###6      | 36/100 [04:22<07:46,  7.30s/it]\n",
      "Queries:  37%|###7      | 37/100 [04:30<07:43,  7.36s/it]\n",
      "Queries:  38%|###8      | 38/100 [04:37<07:34,  7.32s/it]\n",
      "Queries:  39%|###9      | 39/100 [04:44<07:25,  7.30s/it]\n",
      "Queries:  40%|####      | 40/100 [04:52<07:16,  7.28s/it]\n",
      "Queries:  41%|####1     | 41/100 [04:59<07:07,  7.25s/it]\n",
      "Queries:  42%|####2     | 42/100 [05:06<07:00,  7.25s/it]\n",
      "Queries:  43%|####3     | 43/100 [05:13<06:53,  7.25s/it]\n",
      "Queries:  44%|####4     | 44/100 [05:21<06:46,  7.26s/it]\n",
      "Queries:  45%|####5     | 45/100 [05:28<06:43,  7.34s/it]\n",
      "Queries:  46%|####6     | 46/100 [05:35<06:34,  7.31s/it]\n",
      "Queries:  47%|####6     | 47/100 [05:43<06:25,  7.28s/it]\n",
      "Queries:  48%|####8     | 48/100 [05:50<06:17,  7.27s/it]\n",
      "Queries:  49%|####9     | 49/100 [05:57<06:09,  7.25s/it]\n",
      "Queries:  50%|#####     | 50/100 [06:04<06:01,  7.24s/it]\n",
      "Queries:  51%|#####1    | 51/100 [06:12<05:54,  7.23s/it]\n",
      "Queries:  52%|#####2    | 52/100 [06:19<05:47,  7.23s/it]\n",
      "Queries:  53%|#####3    | 53/100 [06:26<05:43,  7.31s/it]\n",
      "Queries:  54%|#####4    | 54/100 [06:34<05:35,  7.30s/it]\n",
      "Queries:  55%|#####5    | 55/100 [06:41<05:27,  7.29s/it]\n",
      "Queries:  56%|#####6    | 56/100 [06:48<05:20,  7.28s/it]\n",
      "Queries:  57%|#####6    | 57/100 [06:55<05:12,  7.27s/it]\n",
      "Queries:  58%|#####8    | 58/100 [07:02<05:04,  7.25s/it]\n",
      "Queries:  59%|#####8    | 59/100 [07:10<04:56,  7.24s/it]\n",
      "Queries:  60%|######    | 60/100 [07:17<04:49,  7.23s/it]\n",
      "Queries:  61%|######1   | 61/100 [07:24<04:41,  7.22s/it]\n",
      "Queries:  62%|######2   | 62/100 [07:31<04:34,  7.22s/it]\n",
      "Queries:  63%|######3   | 63/100 [07:39<04:27,  7.23s/it]\n",
      "Queries:  64%|######4   | 64/100 [07:46<04:20,  7.24s/it]\n",
      "Queries:  65%|######5   | 65/100 [07:53<04:13,  7.25s/it]\n",
      "Queries:  66%|######6   | 66/100 [08:00<04:06,  7.25s/it]\n",
      "Queries:  67%|######7   | 67/100 [08:08<03:59,  7.25s/it]\n",
      "Queries:  68%|######8   | 68/100 [08:15<03:51,  7.25s/it]\n",
      "Queries:  69%|######9   | 69/100 [08:22<03:44,  7.24s/it]\n",
      "Queries:  70%|#######   | 70/100 [08:29<03:36,  7.23s/it]\n",
      "Queries:  71%|#######1  | 71/100 [08:37<03:29,  7.23s/it]\n",
      "Queries:  72%|#######2  | 72/100 [08:44<03:22,  7.24s/it]\n",
      "Queries:  73%|#######3  | 73/100 [08:51<03:15,  7.25s/it]\n",
      "Queries:  74%|#######4  | 74/100 [08:58<03:08,  7.25s/it]\n",
      "Queries:  75%|#######5  | 75/100 [09:06<03:01,  7.26s/it]\n",
      "Queries:  76%|#######6  | 76/100 [09:13<02:54,  7.27s/it]\n",
      "Queries:  77%|#######7  | 77/100 [09:20<02:46,  7.26s/it]\n",
      "Queries:  78%|#######8  | 78/100 [09:27<02:39,  7.25s/it]\n",
      "Queries:  79%|#######9  | 79/100 [09:35<02:32,  7.24s/it]\n",
      "Queries:  80%|########  | 80/100 [09:42<02:24,  7.24s/it]\n",
      "Queries:  81%|########1 | 81/100 [09:49<02:17,  7.24s/it]\n",
      "Queries:  82%|########2 | 82/100 [09:56<02:10,  7.25s/it]\n",
      "Queries:  83%|########2 | 83/100 [10:04<02:03,  7.25s/it]\n",
      "Queries:  84%|########4 | 84/100 [10:11<01:56,  7.25s/it]\n",
      "Queries:  85%|########5 | 85/100 [10:18<01:48,  7.26s/it]\n",
      "Queries:  86%|########6 | 86/100 [10:25<01:41,  7.27s/it]\n",
      "Queries:  87%|########7 | 87/100 [10:33<01:34,  7.27s/it]\n",
      "Queries:  88%|########8 | 88/100 [10:40<01:27,  7.27s/it]\n",
      "Queries:  89%|########9 | 89/100 [10:47<01:19,  7.26s/it]\n",
      "Queries:  90%|######### | 90/100 [10:54<01:12,  7.25s/it]\n",
      "Queries:  91%|#########1| 91/100 [11:02<01:05,  7.24s/it]\n",
      "Queries:  92%|#########2| 92/100 [11:09<00:57,  7.24s/it]\n",
      "Queries:  93%|#########3| 93/100 [11:16<00:50,  7.24s/it]\n",
      "Queries:  94%|#########3| 94/100 [11:23<00:43,  7.24s/it]\n",
      "Queries:  95%|#########5| 95/100 [11:31<00:36,  7.23s/it]\n",
      "Queries:  96%|#########6| 96/100 [11:38<00:28,  7.24s/it]\n",
      "Queries:  97%|#########7| 97/100 [11:45<00:21,  7.25s/it]\n",
      "Queries:  98%|#########8| 98/100 [11:52<00:14,  7.25s/it]\n",
      "Queries:  99%|#########9| 99/100 [12:00<00:07,  7.26s/it]\n",
      "Queries: 100%|##########| 100/100 [12:07<00:00,  7.26s/it]\n",
      "Queries: 100%|##########| 100/100 [12:07<00:00,  7.27s/it]\n"
     ]
    },
    {
     "data": {
      "text/html": [
       "<pre style=\"white-space:pre;overflow-x:auto;line-height:normal;font-family:Menlo,'DejaVu Sans Mono',consolas,'Courier New',monospace\">Total Processing Time: <span style=\"color: #008080; text-decoration-color: #008080; font-weight: bold\">12.12</span> minutes\n",
       "</pre>\n"
      ],
      "text/plain": [
       "Total Processing Time: \u001b[1;36m12.12\u001b[0m minutes\n"
      ]
     },
     "metadata": {},
     "output_type": "display_data"
    },
    {
     "data": {
      "text/html": [
       "<pre style=\"white-space:pre;overflow-x:auto;line-height:normal;font-family:Menlo,'DejaVu Sans Mono',consolas,'Courier New',monospace\"><span style=\"color: #008080; text-decoration-color: #008080; font-weight: bold\">0.88</span> <span style=\"color: #008080; text-decoration-color: #008080; font-weight: bold\">0.20244299026144547</span> <span style=\"color: #008080; text-decoration-color: #008080; font-weight: bold\">512</span> <span style=\"color: #008080; text-decoration-color: #008080; font-weight: bold\">60</span>\n",
       "</pre>\n"
      ],
      "text/plain": [
       "\u001b[1;36m0.88\u001b[0m \u001b[1;36m0.20244299026144547\u001b[0m \u001b[1;36m512\u001b[0m \u001b[1;36m60\u001b[0m\n"
      ]
     },
     "metadata": {},
     "output_type": "display_data"
    },
    {
     "name": "stdout",
     "output_type": "stream",
     "text": [
      " 18%|█▊        | 9/50 [1:15:02<6:51:46, 602.60s/trial, best loss: -0.88]"
     ]
    },
    {
     "data": {
      "text/html": [
       "<pre style=\"white-space:pre;overflow-x:auto;line-height:normal;font-family:Menlo,'DejaVu Sans Mono',consolas,'Courier New',monospace\"><span style=\"color: #008080; text-decoration-color: #008080; font-weight: bold\">0.4088896005290272</span> <span style=\"color: #008080; text-decoration-color: #008080; font-weight: bold\">128</span> <span style=\"color: #008080; text-decoration-color: #008080; font-weight: bold\">100</span>\n",
       "</pre>\n"
      ],
      "text/plain": [
       "\u001b[1;36m0.4088896005290272\u001b[0m \u001b[1;36m128\u001b[0m \u001b[1;36m100\u001b[0m\n"
      ]
     },
     "metadata": {},
     "output_type": "display_data"
    },
    {
     "name": "stderr",
     "output_type": "stream",
     "text": [
      "Queries:   0%|          | 0/100 [00:00<?, ?it/s]\n",
      "Queries:   1%|1         | 1/100 [00:03<06:22,  3.86s/it]\n",
      "Queries:   2%|2         | 2/100 [00:07<06:18,  3.86s/it]\n",
      "Queries:   3%|3         | 3/100 [00:11<06:25,  3.98s/it]\n",
      "Queries:   4%|4         | 4/100 [00:15<06:17,  3.94s/it]\n",
      "Queries:   5%|5         | 5/100 [00:19<06:11,  3.91s/it]\n",
      "Queries:   6%|6         | 6/100 [00:23<06:05,  3.89s/it]\n",
      "Queries:   7%|7         | 7/100 [00:27<05:58,  3.85s/it]\n",
      "Queries:   8%|8         | 8/100 [00:31<05:56,  3.87s/it]\n",
      "Queries:   9%|9         | 9/100 [00:35<05:53,  3.89s/it]\n",
      "Queries:  10%|#         | 10/100 [00:38<05:45,  3.83s/it]\n",
      "Queries:  11%|#1        | 11/100 [00:42<05:48,  3.91s/it]\n",
      "Queries:  12%|#2        | 12/100 [00:46<05:41,  3.88s/it]\n",
      "Queries:  13%|#3        | 13/100 [00:50<05:39,  3.90s/it]\n",
      "Queries:  14%|#4        | 14/100 [00:54<05:37,  3.92s/it]\n",
      "Queries:  15%|#5        | 15/100 [00:58<05:31,  3.90s/it]\n",
      "Queries:  16%|#6        | 16/100 [01:02<05:28,  3.91s/it]\n",
      "Queries:  17%|#7        | 17/100 [01:06<05:24,  3.91s/it]\n",
      "Queries:  18%|#8        | 18/100 [01:10<05:22,  3.93s/it]\n",
      "Queries:  19%|#9        | 19/100 [01:14<05:18,  3.94s/it]\n",
      "Queries:  20%|##        | 20/100 [01:17<05:10,  3.89s/it]\n",
      "Queries:  21%|##1       | 21/100 [01:21<05:08,  3.90s/it]\n",
      "Queries:  22%|##2       | 22/100 [01:25<05:06,  3.93s/it]\n",
      "Queries:  23%|##3       | 23/100 [01:29<04:57,  3.87s/it]\n",
      "Queries:  24%|##4       | 24/100 [01:33<04:53,  3.86s/it]\n",
      "Queries:  25%|##5       | 25/100 [01:37<04:51,  3.88s/it]\n",
      "Queries:  26%|##6       | 26/100 [01:41<04:45,  3.86s/it]\n",
      "Queries:  27%|##7       | 27/100 [01:44<04:37,  3.80s/it]\n",
      "Queries:  28%|##8       | 28/100 [01:48<04:36,  3.84s/it]\n",
      "Queries:  29%|##9       | 29/100 [01:52<04:34,  3.87s/it]\n",
      "Queries:  30%|###       | 30/100 [01:56<04:28,  3.83s/it]\n",
      "Queries:  31%|###1      | 31/100 [02:00<04:23,  3.82s/it]\n",
      "Queries:  32%|###2      | 32/100 [02:04<04:22,  3.86s/it]\n",
      "Queries:  33%|###3      | 33/100 [02:08<04:20,  3.88s/it]\n",
      "Queries:  34%|###4      | 34/100 [02:12<04:18,  3.92s/it]\n",
      "Queries:  35%|###5      | 35/100 [02:15<04:12,  3.88s/it]\n",
      "Queries:  36%|###6      | 36/100 [02:20<04:12,  3.95s/it]\n",
      "Queries:  37%|###7      | 37/100 [02:24<04:09,  3.96s/it]\n",
      "Queries:  38%|###8      | 38/100 [02:27<04:03,  3.93s/it]\n",
      "Queries:  39%|###9      | 39/100 [02:31<03:51,  3.79s/it]\n",
      "Queries:  40%|####      | 40/100 [02:35<03:50,  3.84s/it]\n",
      "Queries:  41%|####1     | 41/100 [02:39<03:44,  3.81s/it]\n",
      "Queries:  42%|####2     | 42/100 [02:42<03:40,  3.80s/it]\n",
      "Queries:  43%|####3     | 43/100 [02:46<03:35,  3.78s/it]\n",
      "Queries:  44%|####4     | 44/100 [02:50<03:35,  3.85s/it]\n",
      "Queries:  45%|####5     | 45/100 [02:54<03:31,  3.85s/it]\n",
      "Queries:  46%|####6     | 46/100 [02:58<03:25,  3.80s/it]\n",
      "Queries:  47%|####6     | 47/100 [03:02<03:22,  3.82s/it]\n",
      "/home/chris.dolan7/vectorsearch-applications/notebooks/../src/database/weaviate_interface_v4.py:225: ResourceWarning: unclosed <ssl.SSLSocket fd=78, family=AddressFamily.AF_INET, type=SocketKind.SOCK_STREAM, proto=6, laddr=('10.162.0.2', 59070), raddr=('34.149.137.116', 443)>\n",
      "  return {k: v for k, v in temp_dict.items() if v}\n",
      "ResourceWarning: Enable tracemalloc to get the object allocation traceback\n",
      "\n",
      "Queries:  48%|####8     | 48/100 [03:06<03:30,  4.04s/it]\n",
      "Queries:  49%|####9     | 49/100 [03:10<03:25,  4.02s/it]\n",
      "Queries:  50%|#####     | 50/100 [03:14<03:15,  3.91s/it]\n",
      "Queries:  51%|#####1    | 51/100 [03:18<03:11,  3.91s/it]\n",
      "Queries:  52%|#####2    | 52/100 [03:21<03:04,  3.85s/it]\n",
      "Queries:  53%|#####3    | 53/100 [03:25<02:59,  3.82s/it]\n",
      "Queries:  54%|#####4    | 54/100 [03:29<02:56,  3.83s/it]\n",
      "Queries:  55%|#####5    | 55/100 [03:33<02:53,  3.86s/it]\n",
      "Queries:  56%|#####6    | 56/100 [03:37<02:51,  3.90s/it]\n",
      "Queries:  57%|#####6    | 57/100 [03:41<02:48,  3.91s/it]\n",
      "Queries:  58%|#####8    | 58/100 [03:44<02:40,  3.82s/it]\n",
      "Queries:  59%|#####8    | 59/100 [03:48<02:37,  3.84s/it]\n",
      "Queries:  60%|######    | 60/100 [03:52<02:36,  3.90s/it]\n",
      "Queries:  61%|######1   | 61/100 [03:57<02:36,  4.02s/it]\n",
      "Queries:  62%|######2   | 62/100 [04:00<02:30,  3.97s/it]\n",
      "Queries:  63%|######3   | 63/100 [04:04<02:25,  3.94s/it]\n",
      "Queries:  64%|######4   | 64/100 [04:08<02:19,  3.87s/it]\n",
      "Queries:  65%|######5   | 65/100 [04:12<02:16,  3.91s/it]\n",
      "Queries:  66%|######6   | 66/100 [04:16<02:11,  3.86s/it]\n",
      "Queries:  67%|######7   | 67/100 [04:20<02:07,  3.86s/it]\n",
      "Queries:  68%|######8   | 68/100 [04:23<01:59,  3.74s/it]\n",
      "Queries:  69%|######9   | 69/100 [04:27<01:57,  3.78s/it]\n",
      "Queries:  70%|#######   | 70/100 [04:31<01:53,  3.79s/it]\n",
      "Queries:  71%|#######1  | 71/100 [04:35<01:51,  3.85s/it]\n",
      "Queries:  72%|#######2  | 72/100 [04:39<01:47,  3.85s/it]\n",
      "Queries:  73%|#######3  | 73/100 [04:43<01:44,  3.85s/it]\n",
      "Queries:  74%|#######4  | 74/100 [04:46<01:40,  3.87s/it]\n",
      "Queries:  75%|#######5  | 75/100 [04:50<01:37,  3.90s/it]\n",
      "Queries:  76%|#######6  | 76/100 [04:54<01:33,  3.89s/it]\n",
      "Queries:  77%|#######7  | 77/100 [04:58<01:29,  3.87s/it]\n",
      "Queries:  78%|#######8  | 78/100 [05:02<01:25,  3.88s/it]\n",
      "Queries:  79%|#######9  | 79/100 [05:06<01:22,  3.95s/it]\n",
      "Queries:  80%|########  | 80/100 [05:10<01:17,  3.89s/it]\n",
      "Queries:  81%|########1 | 81/100 [05:14<01:13,  3.89s/it]\n",
      "Queries:  82%|########2 | 82/100 [05:18<01:09,  3.88s/it]\n",
      "Queries:  83%|########2 | 83/100 [05:22<01:06,  3.92s/it]\n",
      "Queries:  84%|########4 | 84/100 [05:25<01:02,  3.90s/it]\n",
      "Queries:  85%|########5 | 85/100 [05:29<00:58,  3.89s/it]\n",
      "Queries:  86%|########6 | 86/100 [05:33<00:55,  3.94s/it]\n",
      "Queries:  87%|########7 | 87/100 [05:37<00:51,  3.99s/it]\n",
      "Queries:  88%|########8 | 88/100 [05:41<00:47,  3.96s/it]\n",
      "Queries:  89%|########9 | 89/100 [05:45<00:43,  3.94s/it]\n",
      "Queries:  90%|######### | 90/100 [05:49<00:39,  3.92s/it]\n",
      "Queries:  91%|#########1| 91/100 [05:53<00:35,  3.92s/it]\n",
      "Queries:  92%|#########2| 92/100 [05:57<00:31,  3.98s/it]\n",
      "Queries:  93%|#########3| 93/100 [06:01<00:27,  3.92s/it]\n",
      "Queries:  94%|#########3| 94/100 [06:05<00:23,  3.91s/it]\n",
      "Queries:  95%|#########5| 95/100 [06:09<00:19,  3.92s/it]\n",
      "Queries:  96%|#########6| 96/100 [06:13<00:15,  3.88s/it]\n",
      "Queries:  97%|#########7| 97/100 [06:17<00:11,  3.97s/it]\n",
      "Queries:  98%|#########8| 98/100 [06:21<00:07,  3.95s/it]\n",
      "Queries:  99%|#########9| 99/100 [06:24<00:03,  3.87s/it]\n",
      "Queries: 100%|##########| 100/100 [06:28<00:00,  3.88s/it]\n",
      "Queries: 100%|##########| 100/100 [06:28<00:00,  3.89s/it]\n"
     ]
    },
    {
     "data": {
      "text/html": [
       "<pre style=\"white-space:pre;overflow-x:auto;line-height:normal;font-family:Menlo,'DejaVu Sans Mono',consolas,'Courier New',monospace\">Total Processing Time: <span style=\"color: #008080; text-decoration-color: #008080; font-weight: bold\">6.48</span> minutes\n",
       "</pre>\n"
      ],
      "text/plain": [
       "Total Processing Time: \u001b[1;36m6.48\u001b[0m minutes\n"
      ]
     },
     "metadata": {},
     "output_type": "display_data"
    },
    {
     "data": {
      "text/html": [
       "<pre style=\"white-space:pre;overflow-x:auto;line-height:normal;font-family:Menlo,'DejaVu Sans Mono',consolas,'Courier New',monospace\"><span style=\"color: #008080; text-decoration-color: #008080; font-weight: bold\">0.74</span> <span style=\"color: #008080; text-decoration-color: #008080; font-weight: bold\">0.4088896005290272</span> <span style=\"color: #008080; text-decoration-color: #008080; font-weight: bold\">128</span> <span style=\"color: #008080; text-decoration-color: #008080; font-weight: bold\">100</span>\n",
       "</pre>\n"
      ],
      "text/plain": [
       "\u001b[1;36m0.74\u001b[0m \u001b[1;36m0.4088896005290272\u001b[0m \u001b[1;36m128\u001b[0m \u001b[1;36m100\u001b[0m\n"
      ]
     },
     "metadata": {},
     "output_type": "display_data"
    },
    {
     "name": "stdout",
     "output_type": "stream",
     "text": [
      " 20%|██        | 10/50 [1:21:31<5:57:43, 536.59s/trial, best loss: -0.88]"
     ]
    },
    {
     "data": {
      "text/html": [
       "<pre style=\"white-space:pre;overflow-x:auto;line-height:normal;font-family:Menlo,'DejaVu Sans Mono',consolas,'Courier New',monospace\"><span style=\"color: #008080; text-decoration-color: #008080; font-weight: bold\">0.7352344790683185</span> <span style=\"color: #008080; text-decoration-color: #008080; font-weight: bold\">512</span> <span style=\"color: #008080; text-decoration-color: #008080; font-weight: bold\">50</span>\n",
       "</pre>\n"
      ],
      "text/plain": [
       "\u001b[1;36m0.7352344790683185\u001b[0m \u001b[1;36m512\u001b[0m \u001b[1;36m50\u001b[0m\n"
      ]
     },
     "metadata": {},
     "output_type": "display_data"
    },
    {
     "name": "stderr",
     "output_type": "stream",
     "text": [
      "Queries:   0%|          | 0/100 [00:00<?, ?it/s]\n",
      "Queries:   1%|1         | 1/100 [00:06<09:55,  6.02s/it]\n",
      "Queries:   2%|2         | 2/100 [00:12<09:50,  6.03s/it]\n",
      "Queries:   3%|3         | 3/100 [00:18<09:59,  6.18s/it]\n",
      "Queries:   4%|4         | 4/100 [00:24<09:45,  6.10s/it]\n",
      "Queries:   5%|5         | 5/100 [00:30<09:37,  6.08s/it]\n",
      "Queries:   6%|6         | 6/100 [00:36<09:30,  6.07s/it]\n",
      "Queries:   7%|7         | 7/100 [00:42<09:22,  6.05s/it]\n",
      "Queries:   8%|8         | 8/100 [00:48<09:16,  6.05s/it]\n",
      "Queries:   9%|9         | 9/100 [00:54<09:09,  6.04s/it]\n",
      "Queries:  10%|#         | 10/100 [01:00<09:03,  6.04s/it]\n",
      "Queries:  11%|#1        | 11/100 [01:06<08:57,  6.04s/it]\n",
      "Queries:  12%|#2        | 12/100 [01:12<08:50,  6.03s/it]\n",
      "Queries:  13%|#3        | 13/100 [01:18<08:52,  6.12s/it]\n",
      "Queries:  14%|#4        | 14/100 [01:24<08:43,  6.08s/it]\n",
      "Queries:  15%|#5        | 15/100 [01:30<08:34,  6.06s/it]\n",
      "Queries:  16%|#6        | 16/100 [01:36<08:27,  6.04s/it]\n",
      "Queries:  17%|#7        | 17/100 [01:42<08:20,  6.03s/it]\n",
      "Queries:  18%|#8        | 18/100 [01:48<08:13,  6.02s/it]\n",
      "Queries:  19%|#9        | 19/100 [01:54<08:07,  6.02s/it]\n",
      "Queries:  20%|##        | 20/100 [02:01<08:01,  6.02s/it]\n",
      "Queries:  21%|##1       | 21/100 [02:07<07:55,  6.02s/it]\n",
      "Queries:  22%|##2       | 22/100 [02:13<07:49,  6.01s/it]\n",
      "Queries:  23%|##3       | 23/100 [02:19<07:51,  6.12s/it]\n",
      "Queries:  24%|##4       | 24/100 [02:25<07:42,  6.09s/it]\n",
      "Queries:  25%|##5       | 25/100 [02:31<07:34,  6.06s/it]\n",
      "Queries:  26%|##6       | 26/100 [02:37<07:27,  6.04s/it]\n",
      "Queries:  27%|##7       | 27/100 [02:43<07:20,  6.03s/it]\n",
      "Queries:  28%|##8       | 28/100 [02:49<07:13,  6.02s/it]\n",
      "Queries:  29%|##9       | 29/100 [02:55<07:05,  5.99s/it]\n",
      "Queries:  30%|###       | 30/100 [03:01<07:05,  6.07s/it]\n",
      "Queries:  31%|###1      | 31/100 [03:07<07:03,  6.13s/it]\n",
      "Queries:  32%|###2      | 32/100 [03:13<06:54,  6.10s/it]\n",
      "Queries:  33%|###3      | 33/100 [03:20<06:52,  6.15s/it]\n",
      "Queries:  34%|###4      | 34/100 [03:26<06:44,  6.12s/it]\n",
      "Queries:  35%|###5      | 35/100 [03:32<06:36,  6.10s/it]\n",
      "Queries:  36%|###6      | 36/100 [03:38<06:29,  6.08s/it]\n",
      "Queries:  37%|###7      | 37/100 [03:44<06:21,  6.06s/it]\n",
      "Queries:  38%|###8      | 38/100 [03:50<06:14,  6.04s/it]\n",
      "Queries:  39%|###9      | 39/100 [03:56<06:07,  6.03s/it]\n",
      "Queries:  40%|####      | 40/100 [04:02<06:00,  6.01s/it]\n",
      "Queries:  41%|####1     | 41/100 [04:08<05:54,  6.00s/it]\n",
      "Queries:  42%|####2     | 42/100 [04:14<05:47,  6.00s/it]\n",
      "Queries:  43%|####3     | 43/100 [04:20<05:41,  5.99s/it]\n",
      "Queries:  44%|####4     | 44/100 [04:26<05:35,  6.00s/it]\n",
      "Queries:  45%|####5     | 45/100 [04:32<05:30,  6.00s/it]\n",
      "Queries:  46%|####6     | 46/100 [04:38<05:24,  6.01s/it]\n",
      "Queries:  47%|####6     | 47/100 [04:44<05:18,  6.01s/it]\n",
      "Queries:  48%|####8     | 48/100 [04:50<05:12,  6.01s/it]\n",
      "Queries:  49%|####9     | 49/100 [04:56<05:06,  6.01s/it]\n",
      "Queries:  50%|#####     | 50/100 [05:02<05:00,  6.01s/it]\n",
      "Queries:  51%|#####1    | 51/100 [05:08<04:54,  6.01s/it]\n",
      "Queries:  52%|#####2    | 52/100 [05:14<04:48,  6.00s/it]\n",
      "Queries:  53%|#####3    | 53/100 [05:20<04:42,  6.00s/it]\n",
      "Queries:  54%|#####4    | 54/100 [05:26<04:36,  6.01s/it]\n",
      "Queries:  55%|#####5    | 55/100 [05:32<04:30,  6.01s/it]\n",
      "Queries:  56%|#####6    | 56/100 [05:38<04:24,  6.01s/it]\n",
      "Queries:  57%|#####6    | 57/100 [05:44<04:18,  6.01s/it]\n",
      "Queries:  58%|#####8    | 58/100 [05:50<04:12,  6.02s/it]\n",
      "Queries:  59%|#####8    | 59/100 [05:56<04:06,  6.02s/it]\n",
      "Queries:  60%|######    | 60/100 [06:02<04:00,  6.02s/it]\n",
      "Queries:  61%|######1   | 61/100 [06:08<03:54,  6.02s/it]\n",
      "Queries:  62%|######2   | 62/100 [06:14<03:48,  6.02s/it]\n",
      "Queries:  63%|######3   | 63/100 [06:20<03:42,  6.02s/it]\n",
      "Queries:  64%|######4   | 64/100 [06:26<03:36,  6.01s/it]\n",
      "Queries:  65%|######5   | 65/100 [06:32<03:30,  6.01s/it]\n",
      "Queries:  66%|######6   | 66/100 [06:38<03:24,  6.00s/it]\n",
      "Queries:  67%|######7   | 67/100 [06:44<03:18,  6.01s/it]\n",
      "Queries:  68%|######8   | 68/100 [06:50<03:12,  6.01s/it]\n",
      "Queries:  69%|######9   | 69/100 [06:56<03:06,  6.01s/it]\n",
      "Queries:  70%|#######   | 70/100 [07:02<03:00,  6.01s/it]\n",
      "Queries:  71%|#######1  | 71/100 [07:08<02:54,  6.02s/it]\n",
      "Queries:  72%|#######2  | 72/100 [07:14<02:48,  6.02s/it]\n",
      "Queries:  73%|#######3  | 73/100 [07:20<02:42,  6.03s/it]\n",
      "Queries:  74%|#######4  | 74/100 [07:26<02:36,  6.03s/it]\n",
      "Queries:  75%|#######5  | 75/100 [07:32<02:30,  6.04s/it]\n",
      "Queries:  76%|#######6  | 76/100 [07:38<02:24,  6.03s/it]\n",
      "Queries:  77%|#######7  | 77/100 [07:44<02:18,  6.02s/it]\n",
      "Queries:  78%|#######8  | 78/100 [07:50<02:12,  6.01s/it]\n",
      "Queries:  79%|#######9  | 79/100 [07:56<02:05,  6.00s/it]\n",
      "Queries:  80%|########  | 80/100 [08:02<01:59,  5.99s/it]\n",
      "Queries:  81%|########1 | 81/100 [08:08<01:53,  5.98s/it]\n",
      "Queries:  82%|########2 | 82/100 [08:14<01:47,  5.99s/it]\n",
      "Queries:  83%|########2 | 83/100 [08:20<01:41,  5.99s/it]\n",
      "Queries:  84%|########4 | 84/100 [08:26<01:35,  6.00s/it]\n",
      "Queries:  85%|########5 | 85/100 [08:32<01:30,  6.00s/it]\n",
      "Queries:  86%|########6 | 86/100 [08:38<01:24,  6.01s/it]\n",
      "Queries:  87%|########7 | 87/100 [08:44<01:18,  6.00s/it]\n",
      "Queries:  88%|########8 | 88/100 [08:50<01:12,  6.01s/it]\n",
      "Queries:  89%|########9 | 89/100 [08:56<01:06,  6.01s/it]\n",
      "Queries:  90%|######### | 90/100 [09:02<01:00,  6.01s/it]\n",
      "Queries:  91%|#########1| 91/100 [09:08<00:54,  6.01s/it]\n",
      "Queries:  92%|#########2| 92/100 [09:14<00:48,  6.01s/it]\n",
      "Queries:  93%|#########3| 93/100 [09:20<00:42,  6.01s/it]\n",
      "Queries:  94%|#########3| 94/100 [09:26<00:36,  6.01s/it]\n",
      "Queries:  95%|#########5| 95/100 [09:32<00:30,  6.01s/it]\n",
      "Queries:  96%|#########6| 96/100 [09:38<00:24,  6.01s/it]\n",
      "Queries:  97%|#########7| 97/100 [09:44<00:18,  6.01s/it]\n",
      "Queries:  98%|#########8| 98/100 [09:50<00:12,  6.01s/it]\n",
      "Queries:  99%|#########9| 99/100 [09:56<00:06,  6.02s/it]\n",
      "Queries: 100%|##########| 100/100 [10:02<00:00,  6.01s/it]\n",
      "Queries: 100%|##########| 100/100 [10:02<00:00,  6.03s/it]\n"
     ]
    },
    {
     "data": {
      "text/html": [
       "<pre style=\"white-space:pre;overflow-x:auto;line-height:normal;font-family:Menlo,'DejaVu Sans Mono',consolas,'Courier New',monospace\">Total Processing Time: <span style=\"color: #008080; text-decoration-color: #008080; font-weight: bold\">10.05</span> minutes\n",
       "</pre>\n"
      ],
      "text/plain": [
       "Total Processing Time: \u001b[1;36m10.05\u001b[0m minutes\n"
      ]
     },
     "metadata": {},
     "output_type": "display_data"
    },
    {
     "data": {
      "text/html": [
       "<pre style=\"white-space:pre;overflow-x:auto;line-height:normal;font-family:Menlo,'DejaVu Sans Mono',consolas,'Courier New',monospace\"><span style=\"color: #008080; text-decoration-color: #008080; font-weight: bold\">0.88</span> <span style=\"color: #008080; text-decoration-color: #008080; font-weight: bold\">0.7352344790683185</span> <span style=\"color: #008080; text-decoration-color: #008080; font-weight: bold\">512</span> <span style=\"color: #008080; text-decoration-color: #008080; font-weight: bold\">50</span>\n",
       "</pre>\n"
      ],
      "text/plain": [
       "\u001b[1;36m0.88\u001b[0m \u001b[1;36m0.7352344790683185\u001b[0m \u001b[1;36m512\u001b[0m \u001b[1;36m50\u001b[0m\n"
      ]
     },
     "metadata": {},
     "output_type": "display_data"
    },
    {
     "name": "stdout",
     "output_type": "stream",
     "text": [
      " 22%|██▏       | 11/50 [1:31:34<6:01:58, 556.87s/trial, best loss: -0.88]"
     ]
    },
    {
     "data": {
      "text/html": [
       "<pre style=\"white-space:pre;overflow-x:auto;line-height:normal;font-family:Menlo,'DejaVu Sans Mono',consolas,'Courier New',monospace\"><span style=\"color: #008080; text-decoration-color: #008080; font-weight: bold\">0.45406500316052106</span> <span style=\"color: #008080; text-decoration-color: #008080; font-weight: bold\">128</span> <span style=\"color: #008080; text-decoration-color: #008080; font-weight: bold\">100</span>\n",
       "</pre>\n"
      ],
      "text/plain": [
       "\u001b[1;36m0.45406500316052106\u001b[0m \u001b[1;36m128\u001b[0m \u001b[1;36m100\u001b[0m\n"
      ]
     },
     "metadata": {},
     "output_type": "display_data"
    },
    {
     "name": "stderr",
     "output_type": "stream",
     "text": [
      "Queries:   0%|          | 0/100 [00:00<?, ?it/s]\n",
      "Queries:   1%|1         | 1/100 [00:03<06:21,  3.85s/it]\n",
      "Queries:   2%|2         | 2/100 [00:07<06:16,  3.85s/it]\n",
      "Queries:   3%|3         | 3/100 [00:11<06:25,  3.97s/it]\n",
      "Queries:   4%|4         | 4/100 [00:15<06:18,  3.94s/it]\n",
      "Queries:   5%|5         | 5/100 [00:19<06:12,  3.92s/it]\n",
      "Queries:   6%|6         | 6/100 [00:23<06:06,  3.90s/it]\n",
      "Queries:   7%|7         | 7/100 [00:27<05:59,  3.86s/it]\n",
      "Queries:   8%|8         | 8/100 [00:31<05:56,  3.88s/it]\n",
      "Queries:   9%|9         | 9/100 [00:35<05:54,  3.89s/it]\n",
      "Queries:  10%|#         | 10/100 [00:38<05:45,  3.84s/it]\n",
      "Queries:  11%|#1        | 11/100 [00:42<05:47,  3.91s/it]\n",
      "Queries:  12%|#2        | 12/100 [00:46<05:41,  3.88s/it]\n",
      "Queries:  13%|#3        | 13/100 [00:50<05:39,  3.90s/it]\n",
      "Queries:  14%|#4        | 14/100 [00:54<05:37,  3.92s/it]\n",
      "Queries:  15%|#5        | 15/100 [00:58<05:31,  3.90s/it]\n",
      "Queries:  16%|#6        | 16/100 [01:02<05:28,  3.91s/it]\n",
      "Queries:  17%|#7        | 17/100 [01:06<05:24,  3.91s/it]\n",
      "Queries:  18%|#8        | 18/100 [01:10<05:21,  3.92s/it]\n",
      "Queries:  19%|#9        | 19/100 [01:14<05:17,  3.92s/it]\n",
      "Queries:  20%|##        | 20/100 [01:17<05:10,  3.88s/it]\n",
      "Queries:  21%|##1       | 21/100 [01:21<05:08,  3.90s/it]\n",
      "Queries:  22%|##2       | 22/100 [01:25<05:06,  3.93s/it]\n",
      "Queries:  23%|##3       | 23/100 [01:29<04:58,  3.87s/it]\n",
      "Queries:  24%|##4       | 24/100 [01:33<04:53,  3.86s/it]\n",
      "Queries:  25%|##5       | 25/100 [01:37<04:51,  3.88s/it]\n",
      "Queries:  26%|##6       | 26/100 [01:41<04:45,  3.85s/it]\n",
      "Queries:  27%|##7       | 27/100 [01:44<04:35,  3.77s/it]\n",
      "Queries:  28%|##8       | 28/100 [01:48<04:34,  3.82s/it]\n",
      "Queries:  29%|##9       | 29/100 [01:52<04:33,  3.85s/it]\n",
      "Queries:  30%|###       | 30/100 [01:56<04:25,  3.80s/it]\n",
      "Queries:  31%|###1      | 31/100 [02:00<04:21,  3.79s/it]\n",
      "Queries:  32%|###2      | 32/100 [02:04<04:20,  3.84s/it]\n",
      "Queries:  33%|###3      | 33/100 [02:07<04:18,  3.86s/it]\n",
      "Queries:  34%|###4      | 34/100 [02:11<04:17,  3.90s/it]\n",
      "Queries:  35%|###5      | 35/100 [02:15<04:10,  3.85s/it]\n",
      "Queries:  36%|###6      | 36/100 [02:19<04:09,  3.90s/it]\n",
      "Queries:  37%|###7      | 37/100 [02:23<04:07,  3.92s/it]\n",
      "Queries:  38%|###8      | 38/100 [02:27<04:01,  3.90s/it]\n",
      "Queries:  39%|###9      | 39/100 [02:30<03:49,  3.76s/it]\n",
      "Queries:  40%|####      | 40/100 [02:34<03:48,  3.81s/it]\n",
      "Queries:  41%|####1     | 41/100 [02:38<03:43,  3.79s/it]\n",
      "Queries:  42%|####2     | 42/100 [02:42<03:38,  3.77s/it]\n",
      "Queries:  43%|####3     | 43/100 [02:46<03:34,  3.76s/it]\n",
      "Queries:  44%|####4     | 44/100 [02:50<03:33,  3.82s/it]\n",
      "Queries:  45%|####5     | 45/100 [02:53<03:29,  3.82s/it]\n",
      "Queries:  46%|####6     | 46/100 [02:57<03:23,  3.77s/it]\n",
      "Queries:  47%|####6     | 47/100 [03:01<03:20,  3.79s/it]\n",
      "Queries:  48%|####8     | 48/100 [03:05<03:21,  3.88s/it]\n",
      "Queries:  49%|####9     | 49/100 [03:09<03:18,  3.89s/it]\n",
      "Queries:  50%|#####     | 50/100 [03:12<03:10,  3.80s/it]\n",
      "Queries:  51%|#####1    | 51/100 [03:16<03:07,  3.82s/it]\n",
      "Queries:  52%|#####2    | 52/100 [03:20<03:00,  3.76s/it]\n",
      "Queries:  53%|#####3    | 53/100 [03:24<02:55,  3.74s/it]\n",
      "Queries:  54%|#####4    | 54/100 [03:27<02:52,  3.76s/it]\n",
      "Queries:  55%|#####5    | 55/100 [03:31<02:49,  3.78s/it]\n",
      "Queries:  56%|#####6    | 56/100 [03:35<02:47,  3.80s/it]\n",
      "Queries:  57%|#####6    | 57/100 [03:39<02:43,  3.81s/it]\n",
      "Queries:  58%|#####8    | 58/100 [03:43<02:37,  3.75s/it]\n",
      "Queries:  59%|#####8    | 59/100 [03:46<02:34,  3.77s/it]\n",
      "Queries:  60%|######    | 60/100 [03:50<02:33,  3.84s/it]\n",
      "Queries:  61%|######1   | 61/100 [03:55<02:34,  3.97s/it]\n",
      "Queries:  62%|######2   | 62/100 [03:58<02:28,  3.92s/it]\n",
      "Queries:  63%|######3   | 63/100 [04:02<02:23,  3.88s/it]\n",
      "Queries:  64%|######4   | 64/100 [04:06<02:17,  3.82s/it]\n",
      "Queries:  65%|######5   | 65/100 [04:10<02:15,  3.86s/it]\n",
      "Queries:  66%|######6   | 66/100 [04:13<02:09,  3.80s/it]\n",
      "Queries:  67%|######7   | 67/100 [04:17<02:04,  3.79s/it]\n",
      "Queries:  68%|######8   | 68/100 [04:21<01:57,  3.67s/it]\n",
      "Queries:  69%|######9   | 69/100 [04:24<01:54,  3.71s/it]\n",
      "Queries:  70%|#######   | 70/100 [04:28<01:51,  3.71s/it]\n",
      "Queries:  71%|#######1  | 71/100 [04:32<01:49,  3.76s/it]\n",
      "Queries:  72%|#######2  | 72/100 [04:36<01:44,  3.75s/it]\n",
      "Queries:  73%|#######3  | 73/100 [04:40<01:41,  3.75s/it]\n",
      "Queries:  74%|#######4  | 74/100 [04:43<01:38,  3.78s/it]\n",
      "Queries:  75%|#######5  | 75/100 [04:47<01:35,  3.82s/it]\n",
      "Queries:  76%|#######6  | 76/100 [04:51<01:31,  3.83s/it]\n",
      "Queries:  77%|#######7  | 77/100 [04:55<01:27,  3.81s/it]\n",
      "Queries:  78%|#######8  | 78/100 [04:59<01:24,  3.83s/it]\n",
      "Queries:  79%|#######9  | 79/100 [05:03<01:22,  3.91s/it]\n",
      "Queries:  80%|########  | 80/100 [05:07<01:16,  3.84s/it]\n",
      "Queries:  81%|########1 | 81/100 [05:10<01:13,  3.85s/it]\n",
      "Queries:  82%|########2 | 82/100 [05:14<01:09,  3.84s/it]\n",
      "Queries:  83%|########2 | 83/100 [05:18<01:06,  3.89s/it]\n",
      "Queries:  84%|########4 | 84/100 [05:22<01:01,  3.87s/it]\n",
      "Queries:  85%|########5 | 85/100 [05:26<00:58,  3.87s/it]\n",
      "Queries:  86%|########6 | 86/100 [05:30<00:54,  3.92s/it]\n",
      "Queries:  87%|########7 | 87/100 [05:34<00:51,  3.94s/it]\n",
      "Queries:  88%|########8 | 88/100 [05:38<00:47,  3.92s/it]\n",
      "Queries:  89%|########9 | 89/100 [05:42<00:42,  3.89s/it]\n",
      "Queries:  90%|######### | 90/100 [05:46<00:38,  3.89s/it]\n",
      "Queries:  91%|#########1| 91/100 [05:49<00:35,  3.90s/it]\n",
      "Queries:  92%|#########2| 92/100 [05:54<00:31,  3.95s/it]\n",
      "Queries:  93%|#########3| 93/100 [05:57<00:27,  3.89s/it]\n",
      "Queries:  94%|#########3| 94/100 [06:01<00:23,  3.88s/it]\n",
      "Queries:  95%|#########5| 95/100 [06:05<00:19,  3.88s/it]\n",
      "Queries:  96%|#########6| 96/100 [06:09<00:15,  3.84s/it]\n",
      "Queries:  97%|#########7| 97/100 [06:13<00:11,  3.93s/it]\n",
      "Queries:  98%|#########8| 98/100 [06:17<00:07,  3.92s/it]\n",
      "Queries:  99%|#########9| 99/100 [06:20<00:03,  3.83s/it]\n",
      "Queries: 100%|##########| 100/100 [06:24<00:00,  3.85s/it]\n",
      "Queries: 100%|##########| 100/100 [06:24<00:00,  3.85s/it]\n"
     ]
    },
    {
     "data": {
      "text/html": [
       "<pre style=\"white-space:pre;overflow-x:auto;line-height:normal;font-family:Menlo,'DejaVu Sans Mono',consolas,'Courier New',monospace\">Total Processing Time: <span style=\"color: #008080; text-decoration-color: #008080; font-weight: bold\">6.41</span> minutes\n",
       "</pre>\n"
      ],
      "text/plain": [
       "Total Processing Time: \u001b[1;36m6.41\u001b[0m minutes\n"
      ]
     },
     "metadata": {},
     "output_type": "display_data"
    },
    {
     "data": {
      "text/html": [
       "<pre style=\"white-space:pre;overflow-x:auto;line-height:normal;font-family:Menlo,'DejaVu Sans Mono',consolas,'Courier New',monospace\"><span style=\"color: #008080; text-decoration-color: #008080; font-weight: bold\">0.74</span> <span style=\"color: #008080; text-decoration-color: #008080; font-weight: bold\">0.45406500316052106</span> <span style=\"color: #008080; text-decoration-color: #008080; font-weight: bold\">128</span> <span style=\"color: #008080; text-decoration-color: #008080; font-weight: bold\">100</span>\n",
       "</pre>\n"
      ],
      "text/plain": [
       "\u001b[1;36m0.74\u001b[0m \u001b[1;36m0.45406500316052106\u001b[0m \u001b[1;36m128\u001b[0m \u001b[1;36m100\u001b[0m\n"
      ]
     },
     "metadata": {},
     "output_type": "display_data"
    },
    {
     "name": "stdout",
     "output_type": "stream",
     "text": [
      " 24%|██▍       | 12/50 [1:37:59<5:19:32, 504.53s/trial, best loss: -0.88]"
     ]
    },
    {
     "data": {
      "text/html": [
       "<pre style=\"white-space:pre;overflow-x:auto;line-height:normal;font-family:Menlo,'DejaVu Sans Mono',consolas,'Courier New',monospace\"><span style=\"color: #008080; text-decoration-color: #008080; font-weight: bold\">0.353707429846573</span> <span style=\"color: #008080; text-decoration-color: #008080; font-weight: bold\">128</span> <span style=\"color: #008080; text-decoration-color: #008080; font-weight: bold\">100</span>\n",
       "</pre>\n"
      ],
      "text/plain": [
       "\u001b[1;36m0.353707429846573\u001b[0m \u001b[1;36m128\u001b[0m \u001b[1;36m100\u001b[0m\n"
      ]
     },
     "metadata": {},
     "output_type": "display_data"
    },
    {
     "name": "stderr",
     "output_type": "stream",
     "text": [
      "Queries:   0%|          | 0/100 [00:00<?, ?it/s]\n",
      "Queries:   1%|1         | 1/100 [00:03<06:22,  3.87s/it]\n",
      "Queries:   2%|2         | 2/100 [00:07<06:19,  3.87s/it]\n",
      "Queries:   3%|3         | 3/100 [00:11<06:28,  4.00s/it]\n",
      "Queries:   4%|4         | 4/100 [00:15<06:20,  3.96s/it]\n",
      "Queries:   5%|5         | 5/100 [00:19<06:14,  3.94s/it]\n",
      "Queries:   6%|6         | 6/100 [00:23<06:08,  3.92s/it]\n",
      "Queries:   7%|7         | 7/100 [00:27<06:00,  3.87s/it]\n",
      "Queries:   8%|8         | 8/100 [00:31<05:59,  3.91s/it]\n",
      "Queries:   9%|9         | 9/100 [00:35<05:58,  3.93s/it]\n",
      "Queries:  10%|#         | 10/100 [00:39<05:48,  3.87s/it]\n",
      "Queries:  11%|#1        | 11/100 [00:43<05:50,  3.94s/it]\n",
      "Queries:  12%|#2        | 12/100 [00:46<05:43,  3.90s/it]\n",
      "Queries:  13%|#3        | 13/100 [00:50<05:39,  3.90s/it]\n",
      "Queries:  14%|#4        | 14/100 [00:54<05:36,  3.91s/it]\n",
      "Queries:  15%|#5        | 15/100 [00:58<05:30,  3.89s/it]\n",
      "Queries:  16%|#6        | 16/100 [01:02<05:27,  3.90s/it]\n",
      "Queries:  17%|#7        | 17/100 [01:06<05:23,  3.89s/it]\n",
      "Queries:  18%|#8        | 18/100 [01:10<05:20,  3.91s/it]\n",
      "Queries:  19%|#9        | 19/100 [01:14<05:17,  3.92s/it]\n",
      "Queries:  20%|##        | 20/100 [01:18<05:09,  3.87s/it]\n",
      "Queries:  21%|##1       | 21/100 [01:22<05:07,  3.89s/it]\n",
      "Queries:  22%|##2       | 22/100 [01:26<05:05,  3.92s/it]\n",
      "Queries:  23%|##3       | 23/100 [01:29<04:57,  3.87s/it]\n",
      "Queries:  24%|##4       | 24/100 [01:33<04:53,  3.86s/it]\n",
      "Queries:  25%|##5       | 25/100 [01:37<04:51,  3.89s/it]\n",
      "Queries:  26%|##6       | 26/100 [01:41<04:45,  3.86s/it]\n",
      "Queries:  27%|##7       | 27/100 [01:45<04:38,  3.81s/it]\n",
      "Queries:  28%|##8       | 28/100 [01:48<04:37,  3.85s/it]\n",
      "Queries:  29%|##9       | 29/100 [01:52<04:34,  3.87s/it]\n",
      "Queries:  30%|###       | 30/100 [01:56<04:27,  3.82s/it]\n",
      "Queries:  31%|###1      | 31/100 [02:00<04:20,  3.78s/it]\n",
      "Queries:  32%|###2      | 32/100 [02:04<04:20,  3.83s/it]\n",
      "Queries:  33%|###3      | 33/100 [02:08<04:19,  3.87s/it]\n",
      "Queries:  34%|###4      | 34/100 [02:12<04:17,  3.90s/it]\n",
      "Queries:  35%|###5      | 35/100 [02:15<04:10,  3.86s/it]\n",
      "Queries:  36%|###6      | 36/100 [02:19<04:10,  3.92s/it]\n",
      "Queries:  37%|###7      | 37/100 [02:23<04:07,  3.92s/it]\n",
      "Queries:  38%|###8      | 38/100 [02:27<04:01,  3.90s/it]\n",
      "Queries:  39%|###9      | 39/100 [02:31<03:49,  3.77s/it]\n",
      "Queries:  40%|####      | 40/100 [02:35<03:48,  3.81s/it]\n",
      "Queries:  41%|####1     | 41/100 [02:38<03:43,  3.78s/it]\n",
      "Queries:  42%|####2     | 42/100 [02:42<03:38,  3.77s/it]\n",
      "Queries:  43%|####3     | 43/100 [02:46<03:33,  3.74s/it]\n",
      "Queries:  44%|####4     | 44/100 [02:50<03:33,  3.82s/it]\n",
      "Queries:  45%|####5     | 45/100 [02:54<03:28,  3.80s/it]\n",
      "Queries:  46%|####6     | 46/100 [02:57<03:22,  3.74s/it]\n",
      "Queries:  47%|####6     | 47/100 [03:01<03:19,  3.77s/it]\n",
      "Queries:  48%|####8     | 48/100 [03:05<03:20,  3.86s/it]\n",
      "Queries:  49%|####9     | 49/100 [03:09<03:17,  3.88s/it]\n",
      "Queries:  50%|#####     | 50/100 [03:13<03:09,  3.80s/it]\n",
      "Queries:  51%|#####1    | 51/100 [03:16<03:06,  3.80s/it]\n",
      "Queries:  52%|#####2    | 52/100 [03:20<03:00,  3.75s/it]\n",
      "Queries:  53%|#####3    | 53/100 [03:24<02:55,  3.73s/it]\n",
      "Queries:  54%|#####4    | 54/100 [03:27<02:51,  3.74s/it]\n",
      "Queries:  55%|#####5    | 55/100 [03:31<02:49,  3.76s/it]\n",
      "Queries:  56%|#####6    | 56/100 [03:35<02:46,  3.78s/it]\n",
      "Queries:  57%|#####6    | 57/100 [03:39<02:43,  3.80s/it]\n",
      "Queries:  58%|#####8    | 58/100 [03:43<02:37,  3.75s/it]\n",
      "Queries:  59%|#####8    | 59/100 [03:46<02:34,  3.77s/it]\n",
      "Queries:  60%|######    | 60/100 [03:50<02:33,  3.84s/it]\n",
      "Queries:  61%|######1   | 61/100 [03:55<02:34,  3.96s/it]\n",
      "Queries:  62%|######2   | 62/100 [03:58<02:28,  3.91s/it]\n",
      "Queries:  63%|######3   | 63/100 [04:02<02:23,  3.87s/it]\n",
      "Queries:  64%|######4   | 64/100 [04:06<02:17,  3.82s/it]\n",
      "Queries:  65%|######5   | 65/100 [04:10<02:15,  3.86s/it]\n",
      "Queries:  66%|######6   | 66/100 [04:14<02:10,  3.83s/it]\n",
      "Queries:  67%|######7   | 67/100 [04:17<02:06,  3.83s/it]\n",
      "Queries:  68%|######8   | 68/100 [04:21<01:58,  3.71s/it]\n",
      "Queries:  69%|######9   | 69/100 [04:25<01:55,  3.74s/it]\n",
      "Queries:  70%|#######   | 70/100 [04:28<01:51,  3.73s/it]\n",
      "Queries:  71%|#######1  | 71/100 [04:32<01:49,  3.78s/it]\n",
      "Queries:  72%|#######2  | 72/100 [04:36<01:45,  3.77s/it]\n",
      "Queries:  73%|#######3  | 73/100 [04:40<01:41,  3.78s/it]\n",
      "Queries:  74%|#######4  | 74/100 [04:44<01:38,  3.81s/it]\n",
      "Queries:  75%|#######5  | 75/100 [04:48<01:35,  3.84s/it]\n",
      "Queries:  76%|#######6  | 76/100 [04:51<01:32,  3.84s/it]\n",
      "Queries:  77%|#######7  | 77/100 [04:55<01:27,  3.82s/it]\n",
      "Queries:  78%|#######8  | 78/100 [04:59<01:24,  3.85s/it]\n",
      "Queries:  79%|#######9  | 79/100 [05:03<01:22,  3.91s/it]\n",
      "Queries:  80%|########  | 80/100 [05:07<01:16,  3.85s/it]\n",
      "Queries:  81%|########1 | 81/100 [05:11<01:13,  3.85s/it]\n",
      "Queries:  82%|########2 | 82/100 [05:15<01:09,  3.85s/it]\n",
      "Queries:  83%|########2 | 83/100 [05:19<01:06,  3.89s/it]\n",
      "Queries:  84%|########4 | 84/100 [05:22<01:01,  3.86s/it]\n",
      "Queries:  85%|########5 | 85/100 [05:26<00:57,  3.85s/it]\n",
      "Queries:  86%|########6 | 86/100 [05:30<00:54,  3.91s/it]\n",
      "Queries:  87%|########7 | 87/100 [05:34<00:51,  3.94s/it]\n",
      "Queries:  88%|########8 | 88/100 [05:38<00:47,  3.93s/it]\n",
      "Queries:  89%|########9 | 89/100 [05:42<00:43,  3.91s/it]\n",
      "Queries:  90%|######### | 90/100 [05:46<00:38,  3.89s/it]\n",
      "Queries:  91%|#########1| 91/100 [05:50<00:35,  3.89s/it]\n",
      "Queries:  92%|#########2| 92/100 [05:54<00:31,  3.96s/it]\n",
      "Queries:  93%|#########3| 93/100 [05:58<00:27,  3.89s/it]\n",
      "Queries:  94%|#########3| 94/100 [06:02<00:23,  3.88s/it]\n",
      "Queries:  95%|#########5| 95/100 [06:05<00:19,  3.89s/it]\n",
      "Queries:  96%|#########6| 96/100 [06:09<00:15,  3.86s/it]\n",
      "Queries:  97%|#########7| 97/100 [06:13<00:11,  3.96s/it]\n",
      "Queries:  98%|#########8| 98/100 [06:17<00:07,  3.93s/it]\n",
      "Queries:  99%|#########9| 99/100 [06:21<00:03,  3.85s/it]\n",
      "Queries: 100%|##########| 100/100 [06:25<00:00,  3.86s/it]\n",
      "Queries: 100%|##########| 100/100 [06:25<00:00,  3.85s/it]\n"
     ]
    },
    {
     "data": {
      "text/html": [
       "<pre style=\"white-space:pre;overflow-x:auto;line-height:normal;font-family:Menlo,'DejaVu Sans Mono',consolas,'Courier New',monospace\">Total Processing Time: <span style=\"color: #008080; text-decoration-color: #008080; font-weight: bold\">6.42</span> minutes\n",
       "</pre>\n"
      ],
      "text/plain": [
       "Total Processing Time: \u001b[1;36m6.42\u001b[0m minutes\n"
      ]
     },
     "metadata": {},
     "output_type": "display_data"
    },
    {
     "data": {
      "text/html": [
       "<pre style=\"white-space:pre;overflow-x:auto;line-height:normal;font-family:Menlo,'DejaVu Sans Mono',consolas,'Courier New',monospace\"><span style=\"color: #008080; text-decoration-color: #008080; font-weight: bold\">0.74</span> <span style=\"color: #008080; text-decoration-color: #008080; font-weight: bold\">0.353707429846573</span> <span style=\"color: #008080; text-decoration-color: #008080; font-weight: bold\">128</span> <span style=\"color: #008080; text-decoration-color: #008080; font-weight: bold\">100</span>\n",
       "</pre>\n"
      ],
      "text/plain": [
       "\u001b[1;36m0.74\u001b[0m \u001b[1;36m0.353707429846573\u001b[0m \u001b[1;36m128\u001b[0m \u001b[1;36m100\u001b[0m\n"
      ]
     },
     "metadata": {},
     "output_type": "display_data"
    },
    {
     "name": "stdout",
     "output_type": "stream",
     "text": [
      " 26%|██▌       | 13/50 [1:44:24<4:48:51, 468.42s/trial, best loss: -0.88]"
     ]
    },
    {
     "data": {
      "text/html": [
       "<pre style=\"white-space:pre;overflow-x:auto;line-height:normal;font-family:Menlo,'DejaVu Sans Mono',consolas,'Courier New',monospace\"><span style=\"color: #008080; text-decoration-color: #008080; font-weight: bold\">0.6886867679791223</span> <span style=\"color: #008080; text-decoration-color: #008080; font-weight: bold\">256</span> <span style=\"color: #008080; text-decoration-color: #008080; font-weight: bold\">50</span>\n",
       "</pre>\n"
      ],
      "text/plain": [
       "\u001b[1;36m0.6886867679791223\u001b[0m \u001b[1;36m256\u001b[0m \u001b[1;36m50\u001b[0m\n"
      ]
     },
     "metadata": {},
     "output_type": "display_data"
    },
    {
     "name": "stderr",
     "output_type": "stream",
     "text": [
      "Queries:   0%|          | 0/100 [00:00<?, ?it/s]\n",
      "Queries:   1%|1         | 1/100 [00:04<06:53,  4.18s/it]\n",
      "Queries:   2%|2         | 2/100 [00:08<06:41,  4.10s/it]\n",
      "Queries:   3%|3         | 3/100 [00:12<06:26,  3.99s/it]\n",
      "Queries:   4%|4         | 4/100 [00:15<06:15,  3.91s/it]\n",
      "Queries:   5%|5         | 5/100 [00:19<06:13,  3.93s/it]\n",
      "Queries:   6%|6         | 6/100 [00:23<06:02,  3.86s/it]\n",
      "Queries:   7%|7         | 7/100 [00:27<06:01,  3.89s/it]\n",
      "Queries:   8%|8         | 8/100 [00:31<06:00,  3.92s/it]\n",
      "Queries:   9%|9         | 9/100 [00:35<05:55,  3.91s/it]\n",
      "Queries:  10%|#         | 10/100 [00:39<05:53,  3.92s/it]\n",
      "Queries:  11%|#1        | 11/100 [00:43<05:46,  3.90s/it]\n",
      "Queries:  12%|#2        | 12/100 [00:46<05:38,  3.85s/it]\n",
      "Queries:  13%|#3        | 13/100 [00:50<05:31,  3.81s/it]\n",
      "Queries:  14%|#4        | 14/100 [00:54<05:31,  3.86s/it]\n",
      "Queries:  15%|#5        | 15/100 [00:58<05:27,  3.85s/it]\n",
      "Queries:  16%|#6        | 16/100 [01:02<05:25,  3.87s/it]\n",
      "Queries:  17%|#7        | 17/100 [01:06<05:23,  3.89s/it]\n",
      "Queries:  18%|#8        | 18/100 [01:10<05:15,  3.84s/it]\n",
      "Queries:  19%|#9        | 19/100 [01:13<05:10,  3.83s/it]\n",
      "Queries:  20%|##        | 20/100 [01:17<05:01,  3.77s/it]\n",
      "Queries:  21%|##1       | 21/100 [01:21<04:53,  3.71s/it]\n",
      "Queries:  22%|##2       | 22/100 [01:24<04:52,  3.75s/it]\n",
      "Queries:  23%|##3       | 23/100 [01:28<04:53,  3.81s/it]\n",
      "Queries:  24%|##4       | 24/100 [01:32<04:51,  3.83s/it]\n",
      "Queries:  25%|##5       | 25/100 [01:36<04:45,  3.80s/it]\n",
      "Queries:  26%|##6       | 26/100 [01:40<04:39,  3.78s/it]\n",
      "Queries:  27%|##7       | 27/100 [01:43<04:37,  3.80s/it]\n",
      "Queries:  28%|##8       | 28/100 [01:47<04:32,  3.78s/it]\n",
      "Queries:  29%|##9       | 29/100 [01:51<04:31,  3.82s/it]\n",
      "Queries:  30%|###       | 30/100 [01:55<04:24,  3.78s/it]\n",
      "Queries:  31%|###1      | 31/100 [01:59<04:19,  3.76s/it]\n",
      "Queries:  32%|###2      | 32/100 [02:02<04:13,  3.73s/it]\n",
      "Queries:  33%|###3      | 33/100 [02:06<04:08,  3.71s/it]\n",
      "Queries:  34%|###4      | 34/100 [02:09<04:02,  3.68s/it]\n",
      "Queries:  35%|###5      | 35/100 [02:13<03:59,  3.68s/it]\n",
      "Queries:  36%|###6      | 36/100 [02:17<04:01,  3.78s/it]\n",
      "Queries:  37%|###7      | 37/100 [02:21<04:02,  3.85s/it]\n",
      "Queries:  38%|###8      | 38/100 [02:25<04:00,  3.88s/it]\n",
      "Queries:  39%|###9      | 39/100 [02:29<03:56,  3.88s/it]\n",
      "Queries:  40%|####      | 40/100 [02:33<03:47,  3.79s/it]\n",
      "Queries:  41%|####1     | 41/100 [02:36<03:40,  3.74s/it]\n",
      "Queries:  42%|####2     | 42/100 [02:40<03:39,  3.78s/it]\n",
      "Queries:  43%|####3     | 43/100 [02:44<03:33,  3.75s/it]\n",
      "Queries:  44%|####4     | 44/100 [02:47<03:28,  3.72s/it]\n",
      "Queries:  45%|####5     | 45/100 [02:51<03:22,  3.68s/it]\n",
      "Queries:  46%|####6     | 46/100 [02:55<03:17,  3.65s/it]\n",
      "Queries:  47%|####6     | 47/100 [02:58<03:17,  3.73s/it]\n",
      "Queries:  48%|####8     | 48/100 [03:02<03:13,  3.72s/it]\n",
      "Queries:  49%|####9     | 49/100 [03:06<03:10,  3.73s/it]\n",
      "Queries:  50%|#####     | 50/100 [03:09<03:02,  3.66s/it]\n",
      "Queries:  51%|#####1    | 51/100 [03:13<03:02,  3.73s/it]\n",
      "Queries:  52%|#####2    | 52/100 [03:17<02:56,  3.69s/it]\n",
      "Queries:  53%|#####3    | 53/100 [03:21<02:55,  3.74s/it]\n",
      "Queries:  54%|#####4    | 54/100 [03:25<02:55,  3.81s/it]\n",
      "Queries:  55%|#####5    | 55/100 [03:28<02:48,  3.74s/it]\n",
      "Queries:  56%|#####6    | 56/100 [03:32<02:43,  3.72s/it]\n",
      "Queries:  57%|#####6    | 57/100 [03:36<02:37,  3.66s/it]\n",
      "Queries:  58%|#####8    | 58/100 [03:39<02:34,  3.67s/it]\n",
      "Queries:  59%|#####8    | 59/100 [03:43<02:31,  3.69s/it]\n",
      "Queries:  60%|######    | 60/100 [03:47<02:28,  3.70s/it]\n",
      "Queries:  61%|######1   | 61/100 [03:50<02:24,  3.70s/it]\n",
      "Queries:  62%|######2   | 62/100 [03:54<02:24,  3.80s/it]\n",
      "Queries:  63%|######3   | 63/100 [03:58<02:22,  3.86s/it]\n",
      "Queries:  64%|######4   | 64/100 [04:02<02:17,  3.82s/it]\n",
      "Queries:  65%|######5   | 65/100 [04:06<02:12,  3.77s/it]\n",
      "Queries:  66%|######6   | 66/100 [04:10<02:12,  3.89s/it]\n",
      "Queries:  67%|######7   | 67/100 [04:14<02:05,  3.81s/it]\n",
      "Queries:  68%|######8   | 68/100 [04:17<02:00,  3.76s/it]\n",
      "Queries:  69%|######9   | 69/100 [04:21<01:55,  3.72s/it]\n",
      "Queries:  70%|#######   | 70/100 [04:24<01:50,  3.69s/it]\n",
      "Queries:  71%|#######1  | 71/100 [04:28<01:46,  3.66s/it]\n",
      "Queries:  72%|#######2  | 72/100 [04:32<01:42,  3.65s/it]\n",
      "Queries:  73%|#######3  | 73/100 [04:35<01:38,  3.63s/it]\n",
      "Queries:  74%|#######4  | 74/100 [04:39<01:35,  3.65s/it]\n",
      "Queries:  75%|#######5  | 75/100 [04:43<01:31,  3.67s/it]\n",
      "Queries:  76%|#######6  | 76/100 [04:47<01:29,  3.74s/it]\n",
      "Queries:  77%|#######7  | 77/100 [04:50<01:24,  3.68s/it]\n",
      "Queries:  78%|#######8  | 78/100 [04:54<01:21,  3.70s/it]\n",
      "Queries:  79%|#######9  | 79/100 [04:58<01:18,  3.73s/it]\n",
      "Queries:  80%|########  | 80/100 [05:01<01:14,  3.71s/it]\n",
      "Queries:  81%|########1 | 81/100 [05:05<01:09,  3.68s/it]\n",
      "Queries:  82%|########2 | 82/100 [05:09<01:06,  3.68s/it]\n",
      "Queries:  83%|########2 | 83/100 [05:13<01:04,  3.77s/it]\n",
      "Queries:  84%|########4 | 84/100 [05:16<00:59,  3.72s/it]\n",
      "Queries:  85%|########5 | 85/100 [05:20<00:55,  3.68s/it]\n",
      "Queries:  86%|########6 | 86/100 [05:23<00:51,  3.68s/it]\n",
      "Queries:  87%|########7 | 87/100 [05:27<00:47,  3.67s/it]\n",
      "Queries:  88%|########8 | 88/100 [05:31<00:44,  3.71s/it]\n",
      "Queries:  89%|########9 | 89/100 [05:35<00:41,  3.76s/it]\n",
      "Queries:  90%|######### | 90/100 [05:39<00:37,  3.75s/it]\n",
      "Queries:  91%|#########1| 91/100 [05:42<00:33,  3.77s/it]\n",
      "Queries:  92%|#########2| 92/100 [05:46<00:29,  3.72s/it]\n",
      "Queries:  93%|#########3| 93/100 [05:50<00:26,  3.80s/it]\n",
      "Queries:  94%|#########3| 94/100 [05:54<00:22,  3.78s/it]\n",
      "Queries:  95%|#########5| 95/100 [05:57<00:18,  3.77s/it]\n",
      "Queries:  96%|#########6| 96/100 [06:01<00:14,  3.73s/it]\n",
      "Queries:  97%|#########7| 97/100 [06:05<00:11,  3.70s/it]\n",
      "Queries:  98%|#########8| 98/100 [06:08<00:07,  3.69s/it]\n",
      "Queries:  99%|#########9| 99/100 [06:12<00:03,  3.67s/it]\n",
      "Queries: 100%|##########| 100/100 [06:16<00:00,  3.74s/it]\n",
      "Queries: 100%|##########| 100/100 [06:16<00:00,  3.76s/it]\n"
     ]
    },
    {
     "data": {
      "text/html": [
       "<pre style=\"white-space:pre;overflow-x:auto;line-height:normal;font-family:Menlo,'DejaVu Sans Mono',consolas,'Courier New',monospace\">Total Processing Time: <span style=\"color: #008080; text-decoration-color: #008080; font-weight: bold\">6.27</span> minutes\n",
       "</pre>\n"
      ],
      "text/plain": [
       "Total Processing Time: \u001b[1;36m6.27\u001b[0m minutes\n"
      ]
     },
     "metadata": {},
     "output_type": "display_data"
    },
    {
     "data": {
      "text/html": [
       "<pre style=\"white-space:pre;overflow-x:auto;line-height:normal;font-family:Menlo,'DejaVu Sans Mono',consolas,'Courier New',monospace\"><span style=\"color: #008080; text-decoration-color: #008080; font-weight: bold\">0.81</span> <span style=\"color: #008080; text-decoration-color: #008080; font-weight: bold\">0.6886867679791223</span> <span style=\"color: #008080; text-decoration-color: #008080; font-weight: bold\">256</span> <span style=\"color: #008080; text-decoration-color: #008080; font-weight: bold\">50</span>\n",
       "</pre>\n"
      ],
      "text/plain": [
       "\u001b[1;36m0.81\u001b[0m \u001b[1;36m0.6886867679791223\u001b[0m \u001b[1;36m256\u001b[0m \u001b[1;36m50\u001b[0m\n"
      ]
     },
     "metadata": {},
     "output_type": "display_data"
    },
    {
     "name": "stdout",
     "output_type": "stream",
     "text": [
      " 28%|██▊       | 14/50 [1:50:40<4:24:22, 440.62s/trial, best loss: -0.88]"
     ]
    },
    {
     "data": {
      "text/html": [
       "<pre style=\"white-space:pre;overflow-x:auto;line-height:normal;font-family:Menlo,'DejaVu Sans Mono',consolas,'Courier New',monospace\"><span style=\"color: #008080; text-decoration-color: #008080; font-weight: bold\">0.2041361662097495</span> <span style=\"color: #008080; text-decoration-color: #008080; font-weight: bold\">512</span> <span style=\"color: #008080; text-decoration-color: #008080; font-weight: bold\">100</span>\n",
       "</pre>\n"
      ],
      "text/plain": [
       "\u001b[1;36m0.2041361662097495\u001b[0m \u001b[1;36m512\u001b[0m \u001b[1;36m100\u001b[0m\n"
      ]
     },
     "metadata": {},
     "output_type": "display_data"
    },
    {
     "name": "stderr",
     "output_type": "stream",
     "text": [
      "Queries:   0%|          | 0/100 [00:00<?, ?it/s]\n",
      "Queries:   1%|1         | 1/100 [00:11<18:52, 11.43s/it]\n",
      "Queries:   2%|2         | 2/100 [00:22<18:40, 11.44s/it]\n",
      "Queries:   3%|3         | 3/100 [00:34<18:29, 11.44s/it]\n",
      "Queries:   4%|4         | 4/100 [00:45<18:14, 11.40s/it]\n",
      "Queries:   5%|5         | 5/100 [00:57<18:03, 11.40s/it]\n",
      "Queries:   6%|6         | 6/100 [01:08<17:53, 11.42s/it]\n",
      "Queries:   7%|7         | 7/100 [01:20<17:44, 11.44s/it]\n",
      "Queries:   8%|8         | 8/100 [01:31<17:33, 11.45s/it]\n",
      "Queries:   9%|9         | 9/100 [01:42<17:22, 11.46s/it]\n",
      "Queries:  10%|#         | 10/100 [01:54<17:11, 11.46s/it]\n",
      "Queries:  11%|#1        | 11/100 [02:05<16:59, 11.45s/it]\n",
      "Queries:  12%|#2        | 12/100 [02:17<16:47, 11.45s/it]\n",
      "Queries:  13%|#3        | 13/100 [02:28<16:36, 11.45s/it]\n",
      "Queries:  14%|#4        | 14/100 [02:40<16:25, 11.46s/it]\n",
      "Queries:  15%|#5        | 15/100 [02:51<16:13, 11.45s/it]\n",
      "Queries:  16%|#6        | 16/100 [03:03<16:01, 11.45s/it]\n",
      "Queries:  17%|#7        | 17/100 [03:14<15:49, 11.44s/it]\n",
      "Queries:  18%|#8        | 18/100 [03:25<15:37, 11.44s/it]\n",
      "Queries:  19%|#9        | 19/100 [03:37<15:26, 11.44s/it]\n",
      "Queries:  20%|##        | 20/100 [03:48<15:14, 11.44s/it]\n",
      "Queries:  21%|##1       | 21/100 [04:00<15:03, 11.43s/it]\n",
      "Queries:  22%|##2       | 22/100 [04:11<14:51, 11.43s/it]\n",
      "Queries:  23%|##3       | 23/100 [04:23<14:39, 11.42s/it]\n",
      "Queries:  24%|##4       | 24/100 [04:34<14:28, 11.42s/it]\n",
      "Queries:  25%|##5       | 25/100 [04:45<14:17, 11.43s/it]\n",
      "Queries:  26%|##6       | 26/100 [04:57<14:06, 11.44s/it]\n",
      "Queries:  27%|##7       | 27/100 [05:08<13:55, 11.44s/it]\n",
      "Queries:  28%|##8       | 28/100 [05:20<13:44, 11.45s/it]\n",
      "Queries:  29%|##9       | 29/100 [05:31<13:30, 11.41s/it]\n",
      "Queries:  30%|###       | 30/100 [05:43<13:19, 11.41s/it]\n",
      "Queries:  31%|###1      | 31/100 [05:54<13:08, 11.43s/it]\n",
      "Queries:  32%|###2      | 32/100 [06:05<12:57, 11.43s/it]\n",
      "Queries:  33%|###3      | 33/100 [06:17<12:46, 11.44s/it]\n",
      "Queries:  34%|###4      | 34/100 [06:28<12:34, 11.44s/it]\n",
      "Queries:  35%|###5      | 35/100 [06:40<12:23, 11.44s/it]\n",
      "Queries:  36%|###6      | 36/100 [06:51<12:11, 11.43s/it]\n",
      "Queries:  37%|###7      | 37/100 [07:03<12:00, 11.43s/it]\n",
      "Queries:  38%|###8      | 38/100 [07:14<11:49, 11.45s/it]\n",
      "Queries:  39%|###9      | 39/100 [07:26<11:38, 11.45s/it]\n",
      "Queries:  40%|####      | 40/100 [07:37<11:26, 11.45s/it]\n",
      "Queries:  41%|####1     | 41/100 [07:48<11:15, 11.44s/it]\n",
      "Queries:  42%|####2     | 42/100 [08:00<11:07, 11.52s/it]\n",
      "Queries:  43%|####3     | 43/100 [08:12<10:55, 11.49s/it]\n",
      "Queries:  44%|####4     | 44/100 [08:23<10:47, 11.56s/it]\n",
      "Queries:  45%|####5     | 45/100 [08:35<10:34, 11.54s/it]\n",
      "Queries:  46%|####6     | 46/100 [08:46<10:22, 11.52s/it]\n",
      "Queries:  47%|####6     | 47/100 [08:58<10:09, 11.50s/it]\n",
      "Queries:  48%|####8     | 48/100 [09:09<10:00, 11.55s/it]\n",
      "Queries:  49%|####9     | 49/100 [09:21<09:47, 11.51s/it]\n",
      "Queries:  50%|#####     | 50/100 [09:32<09:34, 11.48s/it]\n",
      "Queries:  51%|#####1    | 51/100 [09:44<09:21, 11.46s/it]\n",
      "Queries:  52%|#####2    | 52/100 [09:55<09:09, 11.44s/it]\n",
      "Queries:  53%|#####3    | 53/100 [10:07<09:01, 11.53s/it]\n",
      "Queries:  54%|#####4    | 54/100 [10:18<08:49, 11.51s/it]\n",
      "Queries:  55%|#####5    | 55/100 [10:30<08:37, 11.50s/it]\n",
      "Queries:  56%|#####6    | 56/100 [10:41<08:25, 11.49s/it]\n",
      "Queries:  57%|#####6    | 57/100 [10:53<08:13, 11.47s/it]\n",
      "Queries:  58%|#####8    | 58/100 [11:04<08:00, 11.45s/it]\n",
      "Queries:  59%|#####8    | 59/100 [11:15<07:49, 11.45s/it]\n",
      "Queries:  60%|######    | 60/100 [11:27<07:38, 11.45s/it]\n",
      "Queries:  61%|######1   | 61/100 [11:38<07:26, 11.46s/it]\n",
      "Queries:  62%|######2   | 62/100 [11:50<07:15, 11.47s/it]\n",
      "Queries:  63%|######3   | 63/100 [12:01<07:04, 11.47s/it]\n",
      "Queries:  64%|######4   | 64/100 [12:13<06:56, 11.56s/it]\n",
      "Queries:  65%|######5   | 65/100 [12:25<06:43, 11.53s/it]\n",
      "Queries:  66%|######6   | 66/100 [12:36<06:31, 11.52s/it]\n",
      "Queries:  67%|######7   | 67/100 [12:48<06:19, 11.50s/it]\n",
      "Queries:  68%|######8   | 68/100 [12:59<06:07, 11.49s/it]\n",
      "Queries:  69%|######9   | 69/100 [13:11<05:58, 11.55s/it]\n",
      "Queries:  70%|#######   | 70/100 [13:22<05:47, 11.60s/it]\n",
      "Queries:  71%|#######1  | 71/100 [13:34<05:36, 11.62s/it]\n",
      "Queries:  72%|#######2  | 72/100 [13:45<05:24, 11.57s/it]\n",
      "Queries:  73%|#######3  | 73/100 [13:57<05:11, 11.54s/it]\n",
      "Queries:  74%|#######4  | 74/100 [14:08<04:59, 11.52s/it]\n",
      "Queries:  75%|#######5  | 75/100 [14:20<04:47, 11.49s/it]\n",
      "Queries:  76%|#######6  | 76/100 [14:31<04:36, 11.54s/it]\n",
      "Queries:  77%|#######7  | 77/100 [14:43<04:24, 11.50s/it]\n",
      "Queries:  78%|#######8  | 78/100 [14:54<04:12, 11.49s/it]\n",
      "Queries:  79%|#######9  | 79/100 [15:06<04:01, 11.48s/it]\n",
      "Queries:  80%|########  | 80/100 [15:17<03:49, 11.47s/it]\n",
      "Queries:  81%|########1 | 81/100 [15:29<03:39, 11.54s/it]\n",
      "Queries:  82%|########2 | 82/100 [15:41<03:28, 11.57s/it]\n",
      "Queries:  83%|########2 | 83/100 [15:52<03:16, 11.53s/it]\n",
      "Queries:  84%|########4 | 84/100 [16:04<03:04, 11.51s/it]\n",
      "Queries:  85%|########5 | 85/100 [16:15<02:52, 11.50s/it]\n",
      "Queries:  86%|########6 | 86/100 [16:26<02:40, 11.49s/it]\n",
      "Queries:  87%|########7 | 87/100 [16:38<02:29, 11.47s/it]\n",
      "Queries:  88%|########8 | 88/100 [16:49<02:17, 11.45s/it]\n",
      "Queries:  89%|########9 | 89/100 [17:01<02:05, 11.43s/it]\n",
      "Queries:  90%|######### | 90/100 [17:12<01:54, 11.42s/it]\n",
      "Queries:  91%|#########1| 91/100 [17:24<01:42, 11.43s/it]\n",
      "Queries:  92%|#########2| 92/100 [17:35<01:31, 11.44s/it]\n",
      "Queries:  93%|#########3| 93/100 [17:46<01:20, 11.44s/it]\n",
      "Queries:  94%|#########3| 94/100 [17:58<01:08, 11.43s/it]\n",
      "Queries:  95%|#########5| 95/100 [18:09<00:57, 11.43s/it]\n",
      "Queries:  96%|#########6| 96/100 [18:21<00:45, 11.43s/it]\n",
      "Queries:  97%|#########7| 97/100 [18:32<00:34, 11.44s/it]\n",
      "Queries:  98%|#########8| 98/100 [18:44<00:22, 11.45s/it]\n",
      "Queries:  99%|#########9| 99/100 [18:55<00:11, 11.44s/it]\n",
      "Queries: 100%|##########| 100/100 [19:06<00:00, 11.44s/it]\n",
      "Queries: 100%|##########| 100/100 [19:06<00:00, 11.47s/it]\n"
     ]
    },
    {
     "data": {
      "text/html": [
       "<pre style=\"white-space:pre;overflow-x:auto;line-height:normal;font-family:Menlo,'DejaVu Sans Mono',consolas,'Courier New',monospace\">Total Processing Time: <span style=\"color: #008080; text-decoration-color: #008080; font-weight: bold\">19.12</span> minutes\n",
       "</pre>\n"
      ],
      "text/plain": [
       "Total Processing Time: \u001b[1;36m19.12\u001b[0m minutes\n"
      ]
     },
     "metadata": {},
     "output_type": "display_data"
    },
    {
     "data": {
      "text/html": [
       "<pre style=\"white-space:pre;overflow-x:auto;line-height:normal;font-family:Menlo,'DejaVu Sans Mono',consolas,'Courier New',monospace\"><span style=\"color: #008080; text-decoration-color: #008080; font-weight: bold\">0.88</span> <span style=\"color: #008080; text-decoration-color: #008080; font-weight: bold\">0.2041361662097495</span> <span style=\"color: #008080; text-decoration-color: #008080; font-weight: bold\">512</span> <span style=\"color: #008080; text-decoration-color: #008080; font-weight: bold\">100</span>\n",
       "</pre>\n"
      ],
      "text/plain": [
       "\u001b[1;36m0.88\u001b[0m \u001b[1;36m0.2041361662097495\u001b[0m \u001b[1;36m512\u001b[0m \u001b[1;36m100\u001b[0m\n"
      ]
     },
     "metadata": {},
     "output_type": "display_data"
    },
    {
     "name": "stdout",
     "output_type": "stream",
     "text": [
      " 30%|███       | 15/50 [2:09:47<6:21:14, 653.54s/trial, best loss: -0.88]"
     ]
    },
    {
     "data": {
      "text/html": [
       "<pre style=\"white-space:pre;overflow-x:auto;line-height:normal;font-family:Menlo,'DejaVu Sans Mono',consolas,'Courier New',monospace\"><span style=\"color: #008080; text-decoration-color: #008080; font-weight: bold\">0.3387041147627851</span> <span style=\"color: #008080; text-decoration-color: #008080; font-weight: bold\">128</span> <span style=\"color: #008080; text-decoration-color: #008080; font-weight: bold\">80</span>\n",
       "</pre>\n"
      ],
      "text/plain": [
       "\u001b[1;36m0.3387041147627851\u001b[0m \u001b[1;36m128\u001b[0m \u001b[1;36m80\u001b[0m\n"
      ]
     },
     "metadata": {},
     "output_type": "display_data"
    },
    {
     "name": "stderr",
     "output_type": "stream",
     "text": [
      "Queries:   0%|          | 0/100 [00:00<?, ?it/s]\n",
      "Queries:   1%|1         | 1/100 [00:03<05:13,  3.16s/it]\n",
      "Queries:   2%|2         | 2/100 [00:06<05:11,  3.18s/it]\n",
      "Queries:   3%|3         | 3/100 [00:09<05:20,  3.31s/it]\n",
      "Queries:   4%|4         | 4/100 [00:13<05:19,  3.33s/it]\n",
      "Queries:   5%|5         | 5/100 [00:16<05:16,  3.33s/it]\n",
      "Queries:   6%|6         | 6/100 [00:19<05:08,  3.28s/it]\n",
      "Queries:   7%|7         | 7/100 [00:22<04:59,  3.22s/it]\n",
      "Queries:   8%|8         | 8/100 [00:25<04:55,  3.21s/it]\n",
      "Queries:   9%|9         | 9/100 [00:29<04:53,  3.23s/it]\n",
      "Queries:  10%|#         | 10/100 [00:32<04:45,  3.17s/it]\n",
      "Queries:  11%|#1        | 11/100 [00:35<04:47,  3.23s/it]\n",
      "Queries:  12%|#2        | 12/100 [00:38<04:41,  3.20s/it]\n",
      "Queries:  13%|#3        | 13/100 [00:42<04:39,  3.21s/it]\n",
      "Queries:  14%|#4        | 14/100 [00:45<04:36,  3.22s/it]\n",
      "Queries:  15%|#5        | 15/100 [00:48<04:33,  3.21s/it]\n",
      "Queries:  16%|#6        | 16/100 [00:51<04:30,  3.21s/it]\n",
      "Queries:  17%|#7        | 17/100 [00:54<04:25,  3.20s/it]\n",
      "Queries:  18%|#8        | 18/100 [00:58<04:23,  3.21s/it]\n",
      "Queries:  19%|#9        | 19/100 [01:01<04:20,  3.21s/it]\n",
      "Queries:  20%|##        | 20/100 [01:04<04:13,  3.16s/it]\n",
      "Queries:  21%|##1       | 21/100 [01:07<04:12,  3.19s/it]\n",
      "Queries:  22%|##2       | 22/100 [01:10<04:10,  3.22s/it]\n",
      "Queries:  23%|##3       | 23/100 [01:13<04:03,  3.17s/it]\n",
      "Queries:  24%|##4       | 24/100 [01:16<03:56,  3.11s/it]\n",
      "Queries:  25%|##5       | 25/100 [01:20<03:56,  3.15s/it]\n",
      "Queries:  26%|##6       | 26/100 [01:23<03:52,  3.14s/it]\n",
      "Queries:  27%|##7       | 27/100 [01:26<03:46,  3.11s/it]\n",
      "Queries:  28%|##8       | 28/100 [01:29<03:47,  3.17s/it]\n",
      "Queries:  29%|##9       | 29/100 [01:32<03:46,  3.19s/it]\n",
      "Queries:  30%|###       | 30/100 [01:35<03:39,  3.13s/it]\n",
      "Queries:  31%|###1      | 31/100 [01:38<03:34,  3.11s/it]\n",
      "Queries:  32%|###2      | 32/100 [01:42<03:34,  3.16s/it]\n",
      "Queries:  33%|###3      | 33/100 [01:45<03:32,  3.17s/it]\n",
      "Queries:  34%|###4      | 34/100 [01:48<03:31,  3.20s/it]\n",
      "Queries:  35%|###5      | 35/100 [01:51<03:25,  3.16s/it]\n",
      "Queries:  36%|###6      | 36/100 [01:55<03:27,  3.24s/it]\n",
      "Queries:  37%|###7      | 37/100 [01:58<03:24,  3.25s/it]\n",
      "Queries:  38%|###8      | 38/100 [02:01<03:19,  3.21s/it]\n",
      "Queries:  39%|###9      | 39/100 [02:04<03:08,  3.10s/it]\n",
      "Queries:  40%|####      | 40/100 [02:07<03:07,  3.13s/it]\n",
      "Queries:  41%|####1     | 41/100 [02:10<03:02,  3.10s/it]\n",
      "Queries:  42%|####2     | 42/100 [02:13<02:59,  3.10s/it]\n",
      "Queries:  43%|####3     | 43/100 [02:16<02:56,  3.09s/it]\n",
      "Queries:  44%|####4     | 44/100 [02:20<02:55,  3.14s/it]\n",
      "Queries:  45%|####5     | 45/100 [02:23<02:51,  3.12s/it]\n",
      "Queries:  46%|####6     | 46/100 [02:26<02:45,  3.06s/it]\n",
      "Queries:  47%|####6     | 47/100 [02:29<02:43,  3.09s/it]\n",
      "Queries:  48%|####8     | 48/100 [02:32<02:44,  3.17s/it]\n",
      "Queries:  49%|####9     | 49/100 [02:35<02:42,  3.19s/it]\n",
      "Queries:  50%|#####     | 50/100 [02:38<02:36,  3.12s/it]\n",
      "Queries:  51%|#####1    | 51/100 [02:41<02:32,  3.11s/it]\n",
      "Queries:  52%|#####2    | 52/100 [02:44<02:27,  3.07s/it]\n",
      "Queries:  53%|#####3    | 53/100 [02:47<02:23,  3.05s/it]\n",
      "Queries:  54%|#####4    | 54/100 [02:50<02:19,  3.04s/it]\n",
      "Queries:  55%|#####5    | 55/100 [02:53<02:18,  3.07s/it]\n",
      "Queries:  56%|#####6    | 56/100 [02:57<02:16,  3.10s/it]\n",
      "Queries:  57%|#####6    | 57/100 [03:00<02:13,  3.11s/it]\n",
      "Queries:  58%|#####8    | 58/100 [03:03<02:09,  3.08s/it]\n",
      "Queries:  59%|#####8    | 59/100 [03:06<02:06,  3.09s/it]\n",
      "Queries:  60%|######    | 60/100 [03:09<02:05,  3.14s/it]\n",
      "Queries:  61%|######1   | 61/100 [03:13<02:07,  3.26s/it]\n",
      "Queries:  62%|######2   | 62/100 [03:16<02:01,  3.21s/it]\n",
      "Queries:  63%|######3   | 63/100 [03:19<01:57,  3.18s/it]\n",
      "Queries:  64%|######4   | 64/100 [03:22<01:53,  3.14s/it]\n",
      "Queries:  65%|######5   | 65/100 [03:25<01:51,  3.18s/it]\n",
      "Queries:  66%|######6   | 66/100 [03:28<01:47,  3.15s/it]\n",
      "Queries:  67%|######7   | 67/100 [03:31<01:43,  3.15s/it]\n",
      "Queries:  68%|######8   | 68/100 [03:34<01:38,  3.08s/it]\n",
      "Queries:  69%|######9   | 69/100 [03:37<01:35,  3.08s/it]\n",
      "Queries:  70%|#######   | 70/100 [03:40<01:32,  3.08s/it]\n",
      "Queries:  71%|#######1  | 71/100 [03:44<01:30,  3.13s/it]\n",
      "Queries:  72%|#######2  | 72/100 [03:47<01:27,  3.12s/it]\n",
      "Queries:  73%|#######3  | 73/100 [03:50<01:24,  3.12s/it]\n",
      "Queries:  74%|#######4  | 74/100 [03:53<01:22,  3.15s/it]\n",
      "Queries:  75%|#######5  | 75/100 [03:56<01:19,  3.19s/it]\n",
      "Queries:  76%|#######6  | 76/100 [04:00<01:16,  3.20s/it]\n",
      "Queries:  77%|#######7  | 77/100 [04:03<01:13,  3.19s/it]\n",
      "Queries:  78%|#######8  | 78/100 [04:06<01:10,  3.20s/it]\n",
      "Queries:  79%|#######9  | 79/100 [04:09<01:08,  3.25s/it]\n",
      "Queries:  80%|########  | 80/100 [04:13<01:03,  3.20s/it]\n",
      "Queries:  81%|########1 | 81/100 [04:16<01:00,  3.19s/it]\n",
      "Queries:  82%|########2 | 82/100 [04:19<00:56,  3.16s/it]\n",
      "Queries:  83%|########2 | 83/100 [04:22<00:54,  3.20s/it]\n",
      "Queries:  84%|########4 | 84/100 [04:25<00:50,  3.19s/it]\n",
      "Queries:  85%|########5 | 85/100 [04:28<00:47,  3.19s/it]\n",
      "Queries:  86%|########6 | 86/100 [04:32<00:45,  3.22s/it]\n",
      "Queries:  87%|########7 | 87/100 [04:35<00:42,  3.25s/it]\n",
      "Queries:  88%|########8 | 88/100 [04:38<00:38,  3.24s/it]\n",
      "Queries:  89%|########9 | 89/100 [04:41<00:35,  3.22s/it]\n",
      "Queries:  90%|######### | 90/100 [04:45<00:33,  3.38s/it]\n",
      "Queries:  91%|#########1| 91/100 [04:48<00:29,  3.33s/it]\n",
      "Queries:  92%|#########2| 92/100 [04:52<00:26,  3.36s/it]\n",
      "Queries:  93%|#########3| 93/100 [04:55<00:22,  3.28s/it]\n",
      "Queries:  94%|#########3| 94/100 [04:58<00:19,  3.26s/it]\n",
      "Queries:  95%|#########5| 95/100 [05:01<00:16,  3.25s/it]\n",
      "Queries:  96%|#########6| 96/100 [05:04<00:12,  3.21s/it]\n",
      "Queries:  97%|#########7| 97/100 [05:08<00:09,  3.28s/it]\n",
      "Queries:  98%|#########8| 98/100 [05:11<00:06,  3.27s/it]\n",
      "Queries:  99%|#########9| 99/100 [05:14<00:03,  3.20s/it]\n",
      "Queries: 100%|##########| 100/100 [05:17<00:00,  3.22s/it]\n",
      "Queries: 100%|##########| 100/100 [05:17<00:00,  3.18s/it]\n"
     ]
    },
    {
     "data": {
      "text/html": [
       "<pre style=\"white-space:pre;overflow-x:auto;line-height:normal;font-family:Menlo,'DejaVu Sans Mono',consolas,'Courier New',monospace\">Total Processing Time: <span style=\"color: #008080; text-decoration-color: #008080; font-weight: bold\">5.3</span> minutes\n",
       "</pre>\n"
      ],
      "text/plain": [
       "Total Processing Time: \u001b[1;36m5.3\u001b[0m minutes\n"
      ]
     },
     "metadata": {},
     "output_type": "display_data"
    },
    {
     "data": {
      "text/html": [
       "<pre style=\"white-space:pre;overflow-x:auto;line-height:normal;font-family:Menlo,'DejaVu Sans Mono',consolas,'Courier New',monospace\"><span style=\"color: #008080; text-decoration-color: #008080; font-weight: bold\">0.74</span> <span style=\"color: #008080; text-decoration-color: #008080; font-weight: bold\">0.3387041147627851</span> <span style=\"color: #008080; text-decoration-color: #008080; font-weight: bold\">128</span> <span style=\"color: #008080; text-decoration-color: #008080; font-weight: bold\">80</span>\n",
       "</pre>\n"
      ],
      "text/plain": [
       "\u001b[1;36m0.74\u001b[0m \u001b[1;36m0.3387041147627851\u001b[0m \u001b[1;36m128\u001b[0m \u001b[1;36m80\u001b[0m\n"
      ]
     },
     "metadata": {},
     "output_type": "display_data"
    },
    {
     "name": "stdout",
     "output_type": "stream",
     "text": [
      " 32%|███▏      | 16/50 [2:15:05<5:13:06, 552.53s/trial, best loss: -0.88]"
     ]
    },
    {
     "data": {
      "text/html": [
       "<pre style=\"white-space:pre;overflow-x:auto;line-height:normal;font-family:Menlo,'DejaVu Sans Mono',consolas,'Courier New',monospace\"><span style=\"color: #008080; text-decoration-color: #008080; font-weight: bold\">0.2966499785273645</span> <span style=\"color: #008080; text-decoration-color: #008080; font-weight: bold\">128</span> <span style=\"color: #008080; text-decoration-color: #008080; font-weight: bold\">80</span>\n",
       "</pre>\n"
      ],
      "text/plain": [
       "\u001b[1;36m0.2966499785273645\u001b[0m \u001b[1;36m128\u001b[0m \u001b[1;36m80\u001b[0m\n"
      ]
     },
     "metadata": {},
     "output_type": "display_data"
    },
    {
     "name": "stderr",
     "output_type": "stream",
     "text": [
      "Queries:   0%|          | 0/100 [00:00<?, ?it/s]\n",
      "Queries:   1%|1         | 1/100 [00:03<05:13,  3.16s/it]\n",
      "Queries:   2%|2         | 2/100 [00:06<05:11,  3.17s/it]\n",
      "Queries:   3%|3         | 3/100 [00:09<05:19,  3.30s/it]\n",
      "Queries:   4%|4         | 4/100 [00:12<05:11,  3.25s/it]\n",
      "Queries:   5%|5         | 5/100 [00:16<05:06,  3.23s/it]\n",
      "Queries:   6%|6         | 6/100 [00:19<05:00,  3.19s/it]\n",
      "Queries:   7%|7         | 7/100 [00:22<04:50,  3.13s/it]\n",
      "Queries:   8%|8         | 8/100 [00:25<04:49,  3.15s/it]\n",
      "Queries:   9%|9         | 9/100 [00:28<04:56,  3.26s/it]\n",
      "Queries:  10%|#         | 10/100 [00:31<04:47,  3.19s/it]\n",
      "Queries:  11%|#1        | 11/100 [00:35<04:47,  3.24s/it]\n",
      "Queries:  12%|#2        | 12/100 [00:38<04:41,  3.20s/it]\n",
      "Queries:  13%|#3        | 13/100 [00:41<04:38,  3.20s/it]\n",
      "Queries:  14%|#4        | 14/100 [00:44<04:35,  3.21s/it]\n",
      "Queries:  15%|#5        | 15/100 [00:48<04:42,  3.32s/it]\n",
      "Queries:  16%|#6        | 16/100 [00:51<04:37,  3.30s/it]\n",
      "Queries:  17%|#7        | 17/100 [00:54<04:30,  3.26s/it]\n",
      "Queries:  18%|#8        | 18/100 [00:58<04:26,  3.25s/it]\n",
      "Queries:  19%|#9        | 19/100 [01:01<04:24,  3.26s/it]\n",
      "Queries:  20%|##        | 20/100 [01:04<04:16,  3.21s/it]\n",
      "Queries:  21%|##1       | 21/100 [01:07<04:14,  3.22s/it]\n",
      "Queries:  22%|##2       | 22/100 [01:11<04:12,  3.24s/it]\n",
      "Queries:  23%|##3       | 23/100 [01:14<04:05,  3.19s/it]\n",
      "Queries:  24%|##4       | 24/100 [01:16<03:55,  3.10s/it]\n",
      "Queries:  25%|##5       | 25/100 [01:20<03:55,  3.14s/it]\n",
      "Queries:  26%|##6       | 26/100 [01:23<03:49,  3.11s/it]\n",
      "Queries:  27%|##7       | 27/100 [01:26<03:44,  3.08s/it]\n",
      "Queries:  28%|##8       | 28/100 [01:29<03:45,  3.13s/it]\n",
      "Queries:  29%|##9       | 29/100 [01:32<03:44,  3.17s/it]\n",
      "Queries:  30%|###       | 30/100 [01:35<03:37,  3.11s/it]\n",
      "Queries:  31%|###1      | 31/100 [01:38<03:34,  3.11s/it]\n",
      "Queries:  32%|###2      | 32/100 [01:42<03:34,  3.15s/it]\n",
      "Queries:  33%|###3      | 33/100 [01:45<03:32,  3.17s/it]\n",
      "Queries:  34%|###4      | 34/100 [01:48<03:31,  3.20s/it]\n",
      "Queries:  35%|###5      | 35/100 [01:51<03:30,  3.23s/it]\n",
      "Queries:  36%|###6      | 36/100 [01:55<03:30,  3.29s/it]\n",
      "Queries:  37%|###7      | 37/100 [01:58<03:26,  3.27s/it]\n",
      "Queries:  38%|###8      | 38/100 [02:01<03:20,  3.23s/it]\n",
      "Queries:  39%|###9      | 39/100 [02:04<03:10,  3.13s/it]\n",
      "Queries:  40%|####      | 40/100 [02:07<03:08,  3.14s/it]\n",
      "Queries:  41%|####1     | 41/100 [02:10<03:03,  3.10s/it]\n",
      "Queries:  42%|####2     | 42/100 [02:13<02:59,  3.09s/it]\n",
      "Queries:  43%|####3     | 43/100 [02:16<02:55,  3.09s/it]\n",
      "Queries:  44%|####4     | 44/100 [02:20<02:54,  3.11s/it]\n",
      "Queries:  45%|####5     | 45/100 [02:23<02:50,  3.10s/it]\n",
      "Queries:  46%|####6     | 46/100 [02:26<02:44,  3.04s/it]\n",
      "Queries:  47%|####6     | 47/100 [02:29<02:42,  3.07s/it]\n",
      "Queries:  48%|####8     | 48/100 [02:32<02:44,  3.16s/it]\n",
      "Queries:  49%|####9     | 49/100 [02:35<02:41,  3.17s/it]\n",
      "Queries:  50%|#####     | 50/100 [02:38<02:35,  3.11s/it]\n",
      "Queries:  51%|#####1    | 51/100 [02:42<02:37,  3.21s/it]\n",
      "Queries:  52%|#####2    | 52/100 [02:45<02:30,  3.14s/it]\n",
      "Queries:  53%|#####3    | 53/100 [02:48<02:25,  3.09s/it]\n",
      "Queries:  54%|#####4    | 54/100 [02:51<02:24,  3.15s/it]\n",
      "Queries:  55%|#####5    | 55/100 [02:54<02:21,  3.14s/it]\n",
      "Queries:  56%|#####6    | 56/100 [02:57<02:18,  3.14s/it]\n",
      "Queries:  57%|#####6    | 57/100 [03:00<02:16,  3.17s/it]\n",
      "Queries:  58%|#####8    | 58/100 [03:03<02:10,  3.12s/it]\n",
      "Queries:  59%|#####8    | 59/100 [03:06<02:07,  3.12s/it]\n",
      "Queries:  60%|######    | 60/100 [03:10<02:06,  3.17s/it]\n",
      "Queries:  61%|######1   | 61/100 [03:13<02:08,  3.29s/it]\n",
      "Queries:  62%|######2   | 62/100 [03:16<02:02,  3.23s/it]\n",
      "Queries:  63%|######3   | 63/100 [03:20<01:58,  3.19s/it]\n",
      "Queries:  64%|######4   | 64/100 [03:23<01:53,  3.16s/it]\n",
      "Queries:  65%|######5   | 65/100 [03:26<01:51,  3.20s/it]\n",
      "Queries:  66%|######6   | 66/100 [03:29<01:47,  3.17s/it]\n",
      "Queries:  67%|######7   | 67/100 [03:32<01:44,  3.16s/it]\n",
      "Queries:  68%|######8   | 68/100 [03:35<01:38,  3.08s/it]\n",
      "Queries:  69%|######9   | 69/100 [03:38<01:35,  3.08s/it]\n",
      "Queries:  70%|#######   | 70/100 [03:41<01:31,  3.07s/it]\n",
      "Queries:  71%|#######1  | 71/100 [03:44<01:30,  3.11s/it]\n",
      "Queries:  72%|#######2  | 72/100 [03:47<01:26,  3.11s/it]\n",
      "Queries:  73%|#######3  | 73/100 [03:51<01:24,  3.11s/it]\n",
      "Queries:  74%|#######4  | 74/100 [03:54<01:21,  3.14s/it]\n",
      "Queries:  75%|#######5  | 75/100 [03:57<01:19,  3.18s/it]\n",
      "Queries:  76%|#######6  | 76/100 [04:00<01:16,  3.18s/it]\n",
      "Queries:  77%|#######7  | 77/100 [04:03<01:12,  3.17s/it]\n",
      "Queries:  78%|#######8  | 78/100 [04:07<01:09,  3.18s/it]\n",
      "Queries:  79%|#######9  | 79/100 [04:10<01:07,  3.24s/it]\n",
      "Queries:  80%|########  | 80/100 [04:13<01:03,  3.18s/it]\n",
      "Queries:  81%|########1 | 81/100 [04:16<01:00,  3.17s/it]\n",
      "Queries:  82%|########2 | 82/100 [04:19<00:56,  3.16s/it]\n",
      "Queries:  83%|########2 | 83/100 [04:22<00:53,  3.16s/it]\n",
      "Queries:  84%|########4 | 84/100 [04:26<00:50,  3.15s/it]\n",
      "Queries:  85%|########5 | 85/100 [04:29<00:47,  3.16s/it]\n",
      "Queries:  86%|########6 | 86/100 [04:32<00:44,  3.20s/it]\n",
      "Queries:  87%|########7 | 87/100 [04:35<00:42,  3.24s/it]\n",
      "Queries:  88%|########8 | 88/100 [04:39<00:38,  3.22s/it]\n",
      "Queries:  89%|########9 | 89/100 [04:42<00:35,  3.20s/it]\n",
      "Queries:  90%|######### | 90/100 [04:45<00:32,  3.21s/it]\n",
      "Queries:  91%|#########1| 91/100 [04:48<00:28,  3.22s/it]\n",
      "Queries:  92%|#########2| 92/100 [04:52<00:26,  3.26s/it]\n",
      "Queries:  93%|#########3| 93/100 [04:55<00:22,  3.21s/it]\n",
      "Queries:  94%|#########3| 94/100 [04:58<00:19,  3.21s/it]\n",
      "Queries:  95%|#########5| 95/100 [05:01<00:16,  3.21s/it]\n",
      "Queries:  96%|#########6| 96/100 [05:04<00:12,  3.18s/it]\n",
      "Queries:  97%|#########7| 97/100 [05:08<00:09,  3.25s/it]\n",
      "Queries:  98%|#########8| 98/100 [05:11<00:06,  3.24s/it]\n",
      "Queries:  99%|#########9| 99/100 [05:14<00:03,  3.18s/it]\n",
      "Queries: 100%|##########| 100/100 [05:17<00:00,  3.19s/it]\n",
      "Queries: 100%|##########| 100/100 [05:17<00:00,  3.18s/it]\n"
     ]
    },
    {
     "data": {
      "text/html": [
       "<pre style=\"white-space:pre;overflow-x:auto;line-height:normal;font-family:Menlo,'DejaVu Sans Mono',consolas,'Courier New',monospace\">Total Processing Time: <span style=\"color: #008080; text-decoration-color: #008080; font-weight: bold\">5.29</span> minutes\n",
       "</pre>\n"
      ],
      "text/plain": [
       "Total Processing Time: \u001b[1;36m5.29\u001b[0m minutes\n"
      ]
     },
     "metadata": {},
     "output_type": "display_data"
    },
    {
     "data": {
      "text/html": [
       "<pre style=\"white-space:pre;overflow-x:auto;line-height:normal;font-family:Menlo,'DejaVu Sans Mono',consolas,'Courier New',monospace\"><span style=\"color: #008080; text-decoration-color: #008080; font-weight: bold\">0.74</span> <span style=\"color: #008080; text-decoration-color: #008080; font-weight: bold\">0.2966499785273645</span> <span style=\"color: #008080; text-decoration-color: #008080; font-weight: bold\">128</span> <span style=\"color: #008080; text-decoration-color: #008080; font-weight: bold\">80</span>\n",
       "</pre>\n"
      ],
      "text/plain": [
       "\u001b[1;36m0.74\u001b[0m \u001b[1;36m0.2966499785273645\u001b[0m \u001b[1;36m128\u001b[0m \u001b[1;36m80\u001b[0m\n"
      ]
     },
     "metadata": {},
     "output_type": "display_data"
    },
    {
     "name": "stdout",
     "output_type": "stream",
     "text": [
      " 34%|███▍      | 17/50 [2:20:23<4:25:02, 481.89s/trial, best loss: -0.88]"
     ]
    },
    {
     "data": {
      "text/html": [
       "<pre style=\"white-space:pre;overflow-x:auto;line-height:normal;font-family:Menlo,'DejaVu Sans Mono',consolas,'Courier New',monospace\"><span style=\"color: #008080; text-decoration-color: #008080; font-weight: bold\">0.2831748746529998</span> <span style=\"color: #008080; text-decoration-color: #008080; font-weight: bold\">256</span> <span style=\"color: #008080; text-decoration-color: #008080; font-weight: bold\">100</span>\n",
       "</pre>\n"
      ],
      "text/plain": [
       "\u001b[1;36m0.2831748746529998\u001b[0m \u001b[1;36m256\u001b[0m \u001b[1;36m100\u001b[0m\n"
      ]
     },
     "metadata": {},
     "output_type": "display_data"
    },
    {
     "name": "stderr",
     "output_type": "stream",
     "text": [
      "Queries:   0%|          | 0/100 [00:00<?, ?it/s]\n",
      "Queries:   1%|1         | 1/100 [00:07<12:44,  7.72s/it]\n",
      "Queries:   2%|2         | 2/100 [00:14<12:06,  7.41s/it]\n",
      "Queries:   3%|3         | 3/100 [00:21<11:32,  7.14s/it]\n",
      "Queries:   4%|4         | 4/100 [00:28<11:10,  6.99s/it]\n",
      "Queries:   5%|5         | 5/100 [00:35<11:17,  7.13s/it]\n",
      "Queries:   6%|6         | 6/100 [00:42<11:02,  7.05s/it]\n",
      "Queries:   7%|7         | 7/100 [00:50<11:04,  7.15s/it]\n",
      "Queries:   8%|8         | 8/100 [00:57<10:54,  7.12s/it]\n",
      "Queries:   9%|9         | 9/100 [01:03<10:37,  7.00s/it]\n",
      "Queries:  10%|#         | 10/100 [01:10<10:29,  6.99s/it]\n",
      "Queries:  11%|#1        | 11/100 [01:17<10:23,  7.01s/it]\n",
      "Queries:  12%|#2        | 12/100 [01:24<10:09,  6.93s/it]\n",
      "Queries:  13%|#3        | 13/100 [01:31<09:55,  6.84s/it]\n",
      "Queries:  14%|#4        | 14/100 [01:38<10:01,  6.99s/it]\n",
      "Queries:  15%|#5        | 15/100 [01:45<09:56,  7.02s/it]\n",
      "Queries:  16%|#6        | 16/100 [01:52<09:55,  7.09s/it]\n",
      "Queries:  17%|#7        | 17/100 [01:59<09:43,  7.03s/it]\n",
      "Queries:  18%|#8        | 18/100 [02:06<09:26,  6.90s/it]\n",
      "Queries:  19%|#9        | 19/100 [02:13<09:15,  6.86s/it]\n",
      "Queries:  20%|##        | 20/100 [02:20<09:11,  6.89s/it]\n",
      "Queries:  21%|##1       | 21/100 [02:26<08:59,  6.83s/it]\n",
      "Queries:  22%|##2       | 22/100 [02:33<08:58,  6.90s/it]\n",
      "Queries:  23%|##3       | 23/100 [02:41<09:01,  7.03s/it]\n",
      "Queries:  24%|##4       | 24/100 [02:48<08:57,  7.08s/it]\n",
      "Queries:  25%|##5       | 25/100 [02:55<08:46,  7.02s/it]\n",
      "Queries:  26%|##6       | 26/100 [03:02<08:31,  6.91s/it]\n",
      "Queries:  27%|##7       | 27/100 [03:08<08:23,  6.90s/it]\n",
      "Queries:  28%|##8       | 28/100 [03:15<08:13,  6.85s/it]\n",
      "Queries:  29%|##9       | 29/100 [03:23<08:21,  7.07s/it]\n",
      "Queries:  30%|###       | 30/100 [03:29<08:03,  6.91s/it]\n",
      "Queries:  31%|###1      | 31/100 [03:36<07:50,  6.82s/it]\n",
      "Queries:  32%|###2      | 32/100 [03:42<07:39,  6.75s/it]\n",
      "Queries:  33%|###3      | 33/100 [03:49<07:32,  6.76s/it]\n",
      "Queries:  34%|###4      | 34/100 [03:56<07:25,  6.75s/it]\n",
      "Queries:  35%|###5      | 35/100 [04:03<07:21,  6.79s/it]\n",
      "Queries:  36%|###6      | 36/100 [04:10<07:26,  6.98s/it]\n",
      "Queries:  37%|###7      | 37/100 [04:18<07:28,  7.12s/it]\n",
      "Queries:  38%|###8      | 38/100 [04:25<07:25,  7.18s/it]\n",
      "Queries:  39%|###9      | 39/100 [04:32<07:18,  7.19s/it]\n",
      "Queries:  40%|####      | 40/100 [04:39<07:00,  7.00s/it]\n",
      "Queries:  41%|####1     | 41/100 [04:46<06:47,  6.91s/it]\n",
      "Queries:  42%|####2     | 42/100 [04:52<06:41,  6.93s/it]\n",
      "Queries:  43%|####3     | 43/100 [04:59<06:32,  6.88s/it]\n",
      "Queries:  44%|####4     | 44/100 [05:06<06:25,  6.89s/it]\n",
      "Queries:  45%|####5     | 45/100 [05:13<06:13,  6.79s/it]\n",
      "Queries:  46%|####6     | 46/100 [05:19<06:06,  6.78s/it]\n",
      "Queries:  47%|####6     | 47/100 [05:27<06:03,  6.86s/it]\n",
      "Queries:  48%|####8     | 48/100 [05:34<06:01,  6.95s/it]\n",
      "Queries:  49%|####9     | 49/100 [05:41<05:53,  6.93s/it]\n",
      "Queries:  50%|#####     | 50/100 [05:47<05:39,  6.79s/it]\n",
      "Queries:  51%|#####1    | 51/100 [05:54<05:35,  6.85s/it]\n",
      "Queries:  52%|#####2    | 52/100 [06:01<05:25,  6.77s/it]\n",
      "Queries:  53%|#####3    | 53/100 [06:07<05:18,  6.78s/it]\n",
      "Queries:  54%|#####4    | 54/100 [06:15<05:16,  6.89s/it]\n",
      "Queries:  55%|#####5    | 55/100 [06:21<05:07,  6.83s/it]\n",
      "Queries:  56%|#####6    | 56/100 [06:28<04:58,  6.78s/it]\n",
      "Queries:  57%|#####6    | 57/100 [06:35<04:50,  6.75s/it]\n",
      "Queries:  58%|#####8    | 58/100 [06:42<04:45,  6.80s/it]\n",
      "Queries:  59%|#####8    | 59/100 [06:49<04:41,  6.86s/it]\n",
      "Queries:  60%|######    | 60/100 [06:56<04:36,  6.92s/it]\n",
      "Queries:  61%|######1   | 61/100 [07:02<04:29,  6.92s/it]\n",
      "Queries:  62%|######2   | 62/100 [07:10<04:27,  7.05s/it]\n",
      "Queries:  63%|######3   | 63/100 [07:17<04:23,  7.12s/it]\n",
      "Queries:  64%|######4   | 64/100 [07:24<04:11,  6.99s/it]\n",
      "Queries:  65%|######5   | 65/100 [07:31<04:02,  6.92s/it]\n",
      "Queries:  66%|######6   | 66/100 [07:38<03:58,  7.01s/it]\n",
      "Queries:  67%|######7   | 67/100 [07:44<03:48,  6.92s/it]\n",
      "Queries:  68%|######8   | 68/100 [07:51<03:40,  6.89s/it]\n",
      "Queries:  69%|######9   | 69/100 [07:58<03:32,  6.84s/it]\n",
      "Queries:  70%|#######   | 70/100 [08:05<03:24,  6.82s/it]\n",
      "Queries:  71%|#######1  | 71/100 [08:12<03:16,  6.78s/it]\n",
      "Queries:  72%|#######2  | 72/100 [08:18<03:10,  6.80s/it]\n",
      "Queries:  73%|#######3  | 73/100 [08:25<03:02,  6.77s/it]\n",
      "Queries:  74%|#######4  | 74/100 [08:32<02:56,  6.80s/it]\n",
      "Queries:  75%|#######5  | 75/100 [08:39<02:50,  6.81s/it]\n",
      "Queries:  76%|#######6  | 76/100 [08:46<02:46,  6.95s/it]\n",
      "Queries:  77%|#######7  | 77/100 [08:53<02:37,  6.83s/it]\n",
      "Queries:  78%|#######8  | 78/100 [08:59<02:29,  6.79s/it]\n",
      "Queries:  79%|#######9  | 79/100 [09:06<02:24,  6.86s/it]\n",
      "Queries:  80%|########  | 80/100 [09:13<02:16,  6.83s/it]\n",
      "Queries:  81%|########1 | 81/100 [09:20<02:09,  6.83s/it]\n",
      "Queries:  82%|########2 | 82/100 [09:26<02:01,  6.75s/it]\n",
      "Queries:  83%|########2 | 83/100 [09:34<01:58,  6.94s/it]\n",
      "Queries:  84%|########4 | 84/100 [09:41<01:50,  6.93s/it]\n",
      "Queries:  85%|########5 | 85/100 [09:47<01:42,  6.85s/it]\n",
      "Queries:  86%|########6 | 86/100 [09:54<01:35,  6.80s/it]\n",
      "Queries:  87%|########7 | 87/100 [10:01<01:27,  6.73s/it]\n",
      "Queries:  88%|########8 | 88/100 [10:08<01:21,  6.79s/it]\n",
      "Queries:  89%|########9 | 89/100 [10:14<01:14,  6.81s/it]\n",
      "Queries:  90%|######### | 90/100 [10:21<01:08,  6.81s/it]\n",
      "Queries:  91%|#########1| 91/100 [10:28<01:01,  6.80s/it]\n",
      "Queries:  92%|#########2| 92/100 [10:35<00:54,  6.77s/it]\n",
      "Queries:  93%|#########3| 93/100 [10:42<00:48,  6.93s/it]\n",
      "Queries:  94%|#########3| 94/100 [10:49<00:41,  6.91s/it]\n",
      "Queries:  95%|#########5| 95/100 [10:56<00:34,  6.86s/it]\n",
      "Queries:  96%|#########6| 96/100 [11:02<00:27,  6.80s/it]\n",
      "Queries:  97%|#########7| 97/100 [11:09<00:20,  6.74s/it]\n",
      "Queries:  98%|#########8| 98/100 [11:15<00:13,  6.67s/it]\n",
      "Queries:  99%|#########9| 99/100 [11:22<00:06,  6.66s/it]\n",
      "Queries: 100%|##########| 100/100 [11:29<00:00,  6.76s/it]\n",
      "Queries: 100%|##########| 100/100 [11:29<00:00,  6.90s/it]\n"
     ]
    },
    {
     "data": {
      "text/html": [
       "<pre style=\"white-space:pre;overflow-x:auto;line-height:normal;font-family:Menlo,'DejaVu Sans Mono',consolas,'Courier New',monospace\">Total Processing Time: <span style=\"color: #008080; text-decoration-color: #008080; font-weight: bold\">11.49</span> minutes\n",
       "</pre>\n"
      ],
      "text/plain": [
       "Total Processing Time: \u001b[1;36m11.49\u001b[0m minutes\n"
      ]
     },
     "metadata": {},
     "output_type": "display_data"
    },
    {
     "data": {
      "text/html": [
       "<pre style=\"white-space:pre;overflow-x:auto;line-height:normal;font-family:Menlo,'DejaVu Sans Mono',consolas,'Courier New',monospace\"><span style=\"color: #008080; text-decoration-color: #008080; font-weight: bold\">0.82</span> <span style=\"color: #008080; text-decoration-color: #008080; font-weight: bold\">0.2831748746529998</span> <span style=\"color: #008080; text-decoration-color: #008080; font-weight: bold\">256</span> <span style=\"color: #008080; text-decoration-color: #008080; font-weight: bold\">100</span>\n",
       "</pre>\n"
      ],
      "text/plain": [
       "\u001b[1;36m0.82\u001b[0m \u001b[1;36m0.2831748746529998\u001b[0m \u001b[1;36m256\u001b[0m \u001b[1;36m100\u001b[0m\n"
      ]
     },
     "metadata": {},
     "output_type": "display_data"
    },
    {
     "name": "stdout",
     "output_type": "stream",
     "text": [
      " 36%|███▌      | 18/50 [2:31:52<4:50:17, 544.30s/trial, best loss: -0.88]"
     ]
    },
    {
     "data": {
      "text/html": [
       "<pre style=\"white-space:pre;overflow-x:auto;line-height:normal;font-family:Menlo,'DejaVu Sans Mono',consolas,'Courier New',monospace\"><span style=\"color: #008080; text-decoration-color: #008080; font-weight: bold\">0.6270267893532724</span> <span style=\"color: #008080; text-decoration-color: #008080; font-weight: bold\">512</span> <span style=\"color: #008080; text-decoration-color: #008080; font-weight: bold\">100</span>\n",
       "</pre>\n"
      ],
      "text/plain": [
       "\u001b[1;36m0.6270267893532724\u001b[0m \u001b[1;36m512\u001b[0m \u001b[1;36m100\u001b[0m\n"
      ]
     },
     "metadata": {},
     "output_type": "display_data"
    },
    {
     "name": "stderr",
     "output_type": "stream",
     "text": [
      "Queries:   0%|          | 0/100 [00:00<?, ?it/s]\n",
      "Queries:   1%|1         | 1/100 [00:11<18:53, 11.45s/it]\n",
      "Queries:   2%|2         | 2/100 [00:22<18:43, 11.47s/it]\n",
      "Queries:   3%|3         | 3/100 [00:34<18:33, 11.48s/it]\n",
      "Queries:   4%|4         | 4/100 [00:45<18:19, 11.45s/it]\n",
      "Queries:   5%|5         | 5/100 [00:57<18:05, 11.43s/it]\n",
      "Queries:   6%|6         | 6/100 [01:08<17:53, 11.42s/it]\n",
      "Queries:   7%|7         | 7/100 [01:20<17:42, 11.43s/it]\n",
      "Queries:   8%|8         | 8/100 [01:31<17:31, 11.43s/it]\n",
      "Queries:   9%|9         | 9/100 [01:43<17:22, 11.45s/it]\n",
      "Queries:  10%|#         | 10/100 [01:54<17:10, 11.45s/it]\n",
      "Queries:  11%|#1        | 11/100 [02:05<16:58, 11.45s/it]\n",
      "Queries:  12%|#2        | 12/100 [02:17<16:46, 11.44s/it]\n",
      "Queries:  13%|#3        | 13/100 [02:28<16:34, 11.43s/it]\n",
      "Queries:  14%|#4        | 14/100 [02:40<16:23, 11.44s/it]\n",
      "Queries:  15%|#5        | 15/100 [02:51<16:13, 11.45s/it]\n",
      "Queries:  16%|#6        | 16/100 [03:03<16:01, 11.45s/it]\n",
      "Queries:  17%|#7        | 17/100 [03:14<15:50, 11.45s/it]\n",
      "Queries:  18%|#8        | 18/100 [03:26<15:39, 11.46s/it]\n",
      "Queries:  19%|#9        | 19/100 [03:37<15:29, 11.47s/it]\n",
      "Queries:  20%|##        | 20/100 [03:49<15:18, 11.48s/it]\n",
      "Queries:  21%|##1       | 21/100 [04:00<15:06, 11.48s/it]\n",
      "Queries:  22%|##2       | 22/100 [04:11<14:54, 11.46s/it]\n",
      "Queries:  23%|##3       | 23/100 [04:23<14:42, 11.46s/it]\n",
      "Queries:  24%|##4       | 24/100 [04:34<14:30, 11.45s/it]\n",
      "Queries:  25%|##5       | 25/100 [04:46<14:18, 11.45s/it]\n",
      "Queries:  26%|##6       | 26/100 [04:57<14:08, 11.46s/it]\n",
      "Queries:  27%|##7       | 27/100 [05:09<13:56, 11.46s/it]\n",
      "Queries:  28%|##8       | 28/100 [05:20<13:45, 11.46s/it]\n",
      "Queries:  29%|##9       | 29/100 [05:32<13:31, 11.43s/it]\n",
      "Queries:  30%|###       | 30/100 [05:43<13:19, 11.42s/it]\n",
      "Queries:  31%|###1      | 31/100 [05:54<13:08, 11.42s/it]\n",
      "Queries:  32%|###2      | 32/100 [06:06<12:57, 11.43s/it]\n",
      "Queries:  33%|###3      | 33/100 [06:17<12:46, 11.44s/it]\n",
      "Queries:  34%|###4      | 34/100 [06:29<12:36, 11.45s/it]\n",
      "Queries:  35%|###5      | 35/100 [06:40<12:24, 11.46s/it]\n",
      "Queries:  36%|###6      | 36/100 [06:52<12:12, 11.44s/it]\n",
      "Queries:  37%|###7      | 37/100 [07:03<11:59, 11.43s/it]\n",
      "Queries:  38%|###8      | 38/100 [07:14<11:47, 11.42s/it]\n",
      "Queries:  39%|###9      | 39/100 [07:26<11:36, 11.42s/it]\n",
      "Queries:  40%|####      | 40/100 [07:37<11:25, 11.42s/it]\n",
      "Queries:  41%|####1     | 41/100 [07:49<11:14, 11.44s/it]\n",
      "Queries:  42%|####2     | 42/100 [08:00<11:03, 11.44s/it]\n",
      "Queries:  43%|####3     | 43/100 [08:12<10:51, 11.43s/it]\n",
      "Queries:  44%|####4     | 44/100 [08:23<10:40, 11.44s/it]\n",
      "Queries:  45%|####5     | 45/100 [08:35<10:29, 11.45s/it]\n",
      "Queries:  46%|####6     | 46/100 [08:46<10:18, 11.45s/it]\n",
      "Queries:  47%|####6     | 47/100 [08:57<10:07, 11.46s/it]\n",
      "Queries:  48%|####8     | 48/100 [09:09<09:55, 11.45s/it]\n",
      "Queries:  49%|####9     | 49/100 [09:20<09:43, 11.45s/it]\n",
      "Queries:  50%|#####     | 50/100 [09:32<09:31, 11.44s/it]\n",
      "Queries:  51%|#####1    | 51/100 [09:43<09:19, 11.43s/it]\n",
      "Queries:  52%|#####2    | 52/100 [09:55<09:08, 11.43s/it]\n",
      "Queries:  53%|#####3    | 53/100 [10:06<08:56, 11.42s/it]\n",
      "Queries:  54%|#####4    | 54/100 [10:17<08:46, 11.44s/it]\n",
      "Queries:  55%|#####5    | 55/100 [10:29<08:35, 11.45s/it]\n",
      "Queries:  56%|#####6    | 56/100 [10:40<08:23, 11.45s/it]\n",
      "Queries:  57%|#####6    | 57/100 [10:52<08:11, 11.44s/it]\n",
      "Queries:  58%|#####8    | 58/100 [11:03<08:00, 11.44s/it]\n",
      "Queries:  59%|#####8    | 59/100 [11:15<07:48, 11.43s/it]\n",
      "Queries:  60%|######    | 60/100 [11:26<07:37, 11.43s/it]\n",
      "Queries:  61%|######1   | 61/100 [11:38<07:25, 11.43s/it]\n",
      "Queries:  62%|######2   | 62/100 [11:49<07:14, 11.45s/it]\n",
      "Queries:  63%|######3   | 63/100 [12:00<07:03, 11.45s/it]\n",
      "Queries:  64%|######4   | 64/100 [12:12<06:51, 11.44s/it]\n",
      "Queries:  65%|######5   | 65/100 [12:23<06:40, 11.45s/it]\n",
      "Queries:  66%|######6   | 66/100 [12:35<06:28, 11.44s/it]\n",
      "Queries:  67%|######7   | 67/100 [12:46<06:17, 11.44s/it]\n",
      "Queries:  68%|######8   | 68/100 [12:58<06:06, 11.44s/it]\n",
      "Queries:  69%|######9   | 69/100 [13:09<05:55, 11.45s/it]\n",
      "Queries:  70%|#######   | 70/100 [13:21<05:43, 11.46s/it]\n",
      "Queries:  71%|#######1  | 71/100 [13:32<05:32, 11.45s/it]\n",
      "Queries:  72%|#######2  | 72/100 [13:43<05:20, 11.44s/it]\n",
      "Queries:  73%|#######3  | 73/100 [13:55<05:08, 11.44s/it]\n",
      "Queries:  74%|#######4  | 74/100 [14:06<04:57, 11.43s/it]\n",
      "Queries:  75%|#######5  | 75/100 [14:18<04:46, 11.44s/it]\n",
      "Queries:  76%|#######6  | 76/100 [14:29<04:34, 11.46s/it]\n",
      "Queries:  77%|#######7  | 77/100 [14:41<04:23, 11.46s/it]\n",
      "Queries:  78%|#######8  | 78/100 [14:52<04:11, 11.44s/it]\n",
      "Queries:  79%|#######9  | 79/100 [15:04<03:59, 11.42s/it]\n",
      "Queries:  80%|########  | 80/100 [15:15<03:48, 11.42s/it]\n",
      "Queries:  81%|########1 | 81/100 [15:26<03:37, 11.43s/it]\n",
      "Queries:  82%|########2 | 82/100 [15:38<03:25, 11.44s/it]\n",
      "Queries:  83%|########2 | 83/100 [15:49<03:14, 11.46s/it]\n",
      "Queries:  84%|########4 | 84/100 [16:01<03:03, 11.45s/it]\n",
      "Queries:  85%|########5 | 85/100 [16:12<02:51, 11.44s/it]\n",
      "Queries:  86%|########6 | 86/100 [16:24<02:40, 11.43s/it]\n",
      "Queries:  87%|########7 | 87/100 [16:35<02:28, 11.44s/it]\n",
      "Queries:  88%|########8 | 88/100 [16:47<02:17, 11.46s/it]\n",
      "Queries:  89%|########9 | 89/100 [16:58<02:06, 11.47s/it]\n",
      "Queries:  90%|######### | 90/100 [17:09<01:54, 11.46s/it]\n",
      "Queries:  91%|#########1| 91/100 [17:21<01:43, 11.45s/it]\n",
      "Queries:  92%|#########2| 92/100 [17:32<01:31, 11.45s/it]\n",
      "Queries:  93%|#########3| 93/100 [17:44<01:20, 11.45s/it]\n",
      "Queries:  94%|#########3| 94/100 [17:55<01:08, 11.46s/it]\n",
      "Queries:  95%|#########5| 95/100 [18:07<00:57, 11.46s/it]\n",
      "Queries:  96%|#########6| 96/100 [18:18<00:45, 11.47s/it]\n",
      "Queries:  97%|#########7| 97/100 [18:30<00:34, 11.46s/it]\n",
      "Queries:  98%|#########8| 98/100 [18:41<00:22, 11.46s/it]\n",
      "Queries:  99%|#########9| 99/100 [18:53<00:11, 11.47s/it]\n",
      "Queries: 100%|##########| 100/100 [19:04<00:00, 11.46s/it]\n",
      "Queries: 100%|##########| 100/100 [19:04<00:00, 11.45s/it]\n"
     ]
    },
    {
     "data": {
      "text/html": [
       "<pre style=\"white-space:pre;overflow-x:auto;line-height:normal;font-family:Menlo,'DejaVu Sans Mono',consolas,'Courier New',monospace\">Total Processing Time: <span style=\"color: #008080; text-decoration-color: #008080; font-weight: bold\">19.08</span> minutes\n",
       "</pre>\n"
      ],
      "text/plain": [
       "Total Processing Time: \u001b[1;36m19.08\u001b[0m minutes\n"
      ]
     },
     "metadata": {},
     "output_type": "display_data"
    },
    {
     "data": {
      "text/html": [
       "<pre style=\"white-space:pre;overflow-x:auto;line-height:normal;font-family:Menlo,'DejaVu Sans Mono',consolas,'Courier New',monospace\"><span style=\"color: #008080; text-decoration-color: #008080; font-weight: bold\">0.88</span> <span style=\"color: #008080; text-decoration-color: #008080; font-weight: bold\">0.6270267893532724</span> <span style=\"color: #008080; text-decoration-color: #008080; font-weight: bold\">512</span> <span style=\"color: #008080; text-decoration-color: #008080; font-weight: bold\">100</span>\n",
       "</pre>\n"
      ],
      "text/plain": [
       "\u001b[1;36m0.88\u001b[0m \u001b[1;36m0.6270267893532724\u001b[0m \u001b[1;36m512\u001b[0m \u001b[1;36m100\u001b[0m\n"
      ]
     },
     "metadata": {},
     "output_type": "display_data"
    },
    {
     "name": "stdout",
     "output_type": "stream",
     "text": [
      " 38%|███▊      | 19/50 [2:50:57<6:14:22, 724.59s/trial, best loss: -0.88]"
     ]
    },
    {
     "data": {
      "text/html": [
       "<pre style=\"white-space:pre;overflow-x:auto;line-height:normal;font-family:Menlo,'DejaVu Sans Mono',consolas,'Courier New',monospace\"><span style=\"color: #008080; text-decoration-color: #008080; font-weight: bold\">0.20694853532099197</span> <span style=\"color: #008080; text-decoration-color: #008080; font-weight: bold\">256</span> <span style=\"color: #008080; text-decoration-color: #008080; font-weight: bold\">100</span>\n",
       "</pre>\n"
      ],
      "text/plain": [
       "\u001b[1;36m0.20694853532099197\u001b[0m \u001b[1;36m256\u001b[0m \u001b[1;36m100\u001b[0m\n"
      ]
     },
     "metadata": {},
     "output_type": "display_data"
    },
    {
     "name": "stderr",
     "output_type": "stream",
     "text": [
      "Queries:   0%|          | 0/100 [00:00<?, ?it/s]\n",
      "Queries:   1%|1         | 1/100 [00:07<12:12,  7.40s/it]\n",
      "Queries:   2%|2         | 2/100 [00:14<11:42,  7.17s/it]\n",
      "Queries:   3%|3         | 3/100 [00:21<11:15,  6.97s/it]\n",
      "Queries:   4%|4         | 4/100 [00:27<11:00,  6.88s/it]\n",
      "Queries:   5%|5         | 5/100 [00:35<11:13,  7.09s/it]\n",
      "Queries:   6%|6         | 6/100 [00:42<10:55,  6.97s/it]\n",
      "Queries:   7%|7         | 7/100 [00:49<10:57,  7.07s/it]\n",
      "Queries:   8%|8         | 8/100 [00:56<10:58,  7.16s/it]\n",
      "Queries:   9%|9         | 9/100 [01:03<10:40,  7.04s/it]\n",
      "Queries:  10%|#         | 10/100 [01:10<10:30,  7.01s/it]\n",
      "Queries:  11%|#1        | 11/100 [01:17<10:15,  6.91s/it]\n",
      "Queries:  12%|#2        | 12/100 [01:23<10:04,  6.87s/it]\n",
      "Queries:  13%|#3        | 13/100 [01:30<09:53,  6.82s/it]\n",
      "Queries:  14%|#4        | 14/100 [01:37<10:00,  6.98s/it]\n",
      "Queries:  15%|#5        | 15/100 [01:45<09:56,  7.02s/it]\n",
      "Queries:  16%|#6        | 16/100 [01:52<09:53,  7.07s/it]\n",
      "Queries:  17%|#7        | 17/100 [01:59<09:50,  7.11s/it]\n",
      "Queries:  18%|#8        | 18/100 [02:06<09:32,  6.98s/it]\n",
      "Queries:  19%|#9        | 19/100 [02:12<09:19,  6.91s/it]\n",
      "Queries:  20%|##        | 20/100 [02:19<09:04,  6.81s/it]\n",
      "Queries:  21%|##1       | 21/100 [02:26<08:54,  6.76s/it]\n",
      "Queries:  22%|##2       | 22/100 [02:33<08:53,  6.84s/it]\n",
      "Queries:  23%|##3       | 23/100 [02:40<08:58,  6.99s/it]\n",
      "Queries:  24%|##4       | 24/100 [02:47<08:56,  7.06s/it]\n",
      "Queries:  25%|##5       | 25/100 [02:54<08:44,  6.99s/it]\n",
      "Queries:  26%|##6       | 26/100 [03:01<08:34,  6.95s/it]\n",
      "Queries:  27%|##7       | 27/100 [03:08<08:25,  6.93s/it]\n",
      "Queries:  28%|##8       | 28/100 [03:14<08:15,  6.88s/it]\n",
      "Queries:  29%|##9       | 29/100 [03:22<08:15,  6.98s/it]\n",
      "Queries:  30%|###       | 30/100 [03:28<07:59,  6.85s/it]\n",
      "Queries:  31%|###1      | 31/100 [03:35<07:48,  6.79s/it]\n",
      "Queries:  32%|###2      | 32/100 [03:41<07:36,  6.72s/it]\n",
      "Queries:  33%|###3      | 33/100 [03:48<07:35,  6.80s/it]\n",
      "Queries:  34%|###4      | 34/100 [03:55<07:28,  6.80s/it]\n",
      "Queries:  35%|###5      | 35/100 [04:02<07:28,  6.91s/it]\n",
      "Queries:  36%|###6      | 36/100 [04:10<07:32,  7.08s/it]\n",
      "Queries:  37%|###7      | 37/100 [04:17<07:32,  7.17s/it]\n",
      "Queries:  38%|###8      | 38/100 [04:25<07:27,  7.22s/it]\n",
      "Queries:  39%|###9      | 39/100 [04:32<07:20,  7.22s/it]\n",
      "Queries:  40%|####      | 40/100 [04:38<07:01,  7.02s/it]\n",
      "Queries:  41%|####1     | 41/100 [04:45<06:49,  6.93s/it]\n",
      "Queries:  42%|####2     | 42/100 [04:52<06:43,  6.96s/it]\n",
      "Queries:  43%|####3     | 43/100 [04:59<06:32,  6.88s/it]\n",
      "Queries:  44%|####4     | 44/100 [05:06<06:25,  6.88s/it]\n",
      "Queries:  45%|####5     | 45/100 [05:12<06:12,  6.77s/it]\n",
      "Queries:  46%|####6     | 46/100 [05:19<06:05,  6.76s/it]\n",
      "Queries:  47%|####6     | 47/100 [05:26<06:03,  6.86s/it]\n",
      "Queries:  48%|####8     | 48/100 [05:33<06:00,  6.94s/it]\n",
      "Queries:  49%|####9     | 49/100 [05:40<05:52,  6.90s/it]\n",
      "Queries:  50%|#####     | 50/100 [05:46<05:38,  6.78s/it]\n",
      "Queries:  51%|#####1    | 51/100 [05:53<05:34,  6.84s/it]\n",
      "Queries:  52%|#####2    | 52/100 [06:00<05:25,  6.78s/it]\n",
      "Queries:  53%|#####3    | 53/100 [06:07<05:18,  6.78s/it]\n",
      "Queries:  54%|#####4    | 54/100 [06:14<05:16,  6.88s/it]\n",
      "Queries:  55%|#####5    | 55/100 [06:21<05:07,  6.83s/it]\n",
      "Queries:  56%|#####6    | 56/100 [06:27<04:58,  6.78s/it]\n",
      "Queries:  57%|#####6    | 57/100 [06:34<04:49,  6.74s/it]\n",
      "Queries:  58%|#####8    | 58/100 [06:41<04:47,  6.84s/it]\n",
      "Queries:  59%|#####8    | 59/100 [06:48<04:41,  6.87s/it]\n",
      "Queries:  60%|######    | 60/100 [06:55<04:36,  6.92s/it]\n",
      "Queries:  61%|######1   | 61/100 [07:02<04:30,  6.93s/it]\n",
      "Queries:  62%|######2   | 62/100 [07:09<04:28,  7.06s/it]\n",
      "Queries:  63%|######3   | 63/100 [07:17<04:23,  7.13s/it]\n",
      "Queries:  64%|######4   | 64/100 [07:24<04:16,  7.12s/it]\n",
      "Queries:  65%|######5   | 65/100 [07:31<04:05,  7.02s/it]\n",
      "Queries:  66%|######6   | 66/100 [07:38<04:00,  7.08s/it]\n",
      "Queries:  67%|######7   | 67/100 [07:45<03:53,  7.08s/it]\n",
      "Queries:  68%|######8   | 68/100 [07:52<03:43,  6.99s/it]\n",
      "Queries:  69%|######9   | 69/100 [07:58<03:33,  6.88s/it]\n",
      "Queries:  70%|#######   | 70/100 [08:05<03:25,  6.85s/it]\n",
      "Queries:  71%|#######1  | 71/100 [08:12<03:17,  6.80s/it]\n",
      "Queries:  72%|#######2  | 72/100 [08:19<03:11,  6.84s/it]\n",
      "Queries:  73%|#######3  | 73/100 [08:25<03:03,  6.80s/it]\n",
      "Queries:  74%|#######4  | 74/100 [08:32<02:57,  6.81s/it]\n",
      "Queries:  75%|#######5  | 75/100 [08:39<02:50,  6.81s/it]\n",
      "Queries:  76%|#######6  | 76/100 [08:47<02:48,  7.03s/it]\n",
      "Queries:  77%|#######7  | 77/100 [08:53<02:38,  6.88s/it]\n",
      "Queries:  78%|#######8  | 78/100 [09:00<02:30,  6.82s/it]\n",
      "Queries:  79%|#######9  | 79/100 [09:07<02:24,  6.86s/it]\n",
      "Queries:  80%|########  | 80/100 [09:13<02:16,  6.83s/it]\n",
      "Queries:  81%|########1 | 81/100 [09:20<02:09,  6.83s/it]\n",
      "Queries:  82%|########2 | 82/100 [09:27<02:01,  6.77s/it]\n",
      "Queries:  83%|########2 | 83/100 [09:34<01:58,  6.95s/it]\n",
      "Queries:  84%|########4 | 84/100 [09:41<01:51,  6.94s/it]\n",
      "Queries:  85%|########5 | 85/100 [09:48<01:44,  6.95s/it]\n",
      "Queries:  86%|########6 | 86/100 [09:55<01:36,  6.87s/it]\n",
      "Queries:  87%|########7 | 87/100 [10:01<01:28,  6.78s/it]\n",
      "Queries:  88%|########8 | 88/100 [10:08<01:22,  6.85s/it]\n",
      "Queries:  89%|########9 | 89/100 [10:15<01:15,  6.85s/it]\n",
      "Queries:  90%|######### | 90/100 [10:22<01:08,  6.83s/it]\n",
      "Queries:  91%|#########1| 91/100 [10:29<01:01,  6.79s/it]\n",
      "Queries:  92%|#########2| 92/100 [10:35<00:53,  6.74s/it]\n",
      "Queries:  93%|#########3| 93/100 [10:43<00:48,  6.89s/it]\n",
      "Queries:  94%|#########3| 94/100 [10:49<00:41,  6.87s/it]\n",
      "Queries:  95%|#########5| 95/100 [10:56<00:34,  6.84s/it]\n",
      "Queries:  96%|#########6| 96/100 [11:03<00:27,  6.79s/it]\n",
      "Queries:  97%|#########7| 97/100 [11:10<00:20,  6.74s/it]\n",
      "Queries:  98%|#########8| 98/100 [11:16<00:13,  6.67s/it]\n",
      "Queries:  99%|#########9| 99/100 [11:23<00:06,  6.67s/it]\n",
      "Queries: 100%|##########| 100/100 [11:30<00:00,  6.77s/it]\n",
      "Queries: 100%|##########| 100/100 [11:30<00:00,  6.90s/it]\n"
     ]
    },
    {
     "data": {
      "text/html": [
       "<pre style=\"white-space:pre;overflow-x:auto;line-height:normal;font-family:Menlo,'DejaVu Sans Mono',consolas,'Courier New',monospace\">Total Processing Time: <span style=\"color: #008080; text-decoration-color: #008080; font-weight: bold\">11.5</span> minutes\n",
       "</pre>\n"
      ],
      "text/plain": [
       "Total Processing Time: \u001b[1;36m11.5\u001b[0m minutes\n"
      ]
     },
     "metadata": {},
     "output_type": "display_data"
    },
    {
     "data": {
      "text/html": [
       "<pre style=\"white-space:pre;overflow-x:auto;line-height:normal;font-family:Menlo,'DejaVu Sans Mono',consolas,'Courier New',monospace\"><span style=\"color: #008080; text-decoration-color: #008080; font-weight: bold\">0.82</span> <span style=\"color: #008080; text-decoration-color: #008080; font-weight: bold\">0.20694853532099197</span> <span style=\"color: #008080; text-decoration-color: #008080; font-weight: bold\">256</span> <span style=\"color: #008080; text-decoration-color: #008080; font-weight: bold\">100</span>\n",
       "</pre>\n"
      ],
      "text/plain": [
       "\u001b[1;36m0.82\u001b[0m \u001b[1;36m0.20694853532099197\u001b[0m \u001b[1;36m256\u001b[0m \u001b[1;36m100\u001b[0m\n"
      ]
     },
     "metadata": {},
     "output_type": "display_data"
    },
    {
     "name": "stdout",
     "output_type": "stream",
     "text": [
      " 40%|████      | 20/50 [3:02:27<5:57:08, 714.28s/trial, best loss: -0.88]"
     ]
    },
    {
     "data": {
      "text/html": [
       "<pre style=\"white-space:pre;overflow-x:auto;line-height:normal;font-family:Menlo,'DejaVu Sans Mono',consolas,'Courier New',monospace\"><span style=\"color: #008080; text-decoration-color: #008080; font-weight: bold\">0.7791250705739687</span> <span style=\"color: #008080; text-decoration-color: #008080; font-weight: bold\">512</span> <span style=\"color: #008080; text-decoration-color: #008080; font-weight: bold\">60</span>\n",
       "</pre>\n"
      ],
      "text/plain": [
       "\u001b[1;36m0.7791250705739687\u001b[0m \u001b[1;36m512\u001b[0m \u001b[1;36m60\u001b[0m\n"
      ]
     },
     "metadata": {},
     "output_type": "display_data"
    },
    {
     "name": "stderr",
     "output_type": "stream",
     "text": [
      "Queries:   0%|          | 0/100 [00:00<?, ?it/s]\n",
      "Queries:   1%|1         | 1/100 [00:07<12:20,  7.48s/it]\n",
      "Queries:   2%|2         | 2/100 [00:14<11:58,  7.33s/it]\n",
      "Queries:   3%|3         | 3/100 [00:22<11:49,  7.31s/it]\n",
      "Queries:   4%|4         | 4/100 [00:29<11:49,  7.39s/it]\n",
      "Queries:   5%|5         | 5/100 [00:36<11:37,  7.34s/it]\n",
      "Queries:   6%|6         | 6/100 [00:44<11:28,  7.32s/it]\n",
      "Queries:   7%|7         | 7/100 [00:51<11:19,  7.31s/it]\n",
      "Queries:   8%|8         | 8/100 [00:58<11:11,  7.30s/it]\n",
      "Queries:   9%|9         | 9/100 [01:05<11:02,  7.28s/it]\n",
      "Queries:  10%|#         | 10/100 [01:13<11:00,  7.34s/it]\n",
      "Queries:  11%|#1        | 11/100 [01:20<10:49,  7.30s/it]\n",
      "Queries:  12%|#2        | 12/100 [01:27<10:40,  7.28s/it]\n",
      "Queries:  13%|#3        | 13/100 [01:34<10:32,  7.27s/it]\n",
      "Queries:  14%|#4        | 14/100 [01:42<10:25,  7.27s/it]\n",
      "Queries:  15%|#5        | 15/100 [01:49<10:18,  7.27s/it]\n",
      "Queries:  16%|#6        | 16/100 [01:56<10:10,  7.26s/it]\n",
      "Queries:  17%|#7        | 17/100 [02:04<10:02,  7.26s/it]\n",
      "Queries:  18%|#8        | 18/100 [02:11<09:55,  7.26s/it]\n",
      "Queries:  19%|#9        | 19/100 [02:18<09:47,  7.25s/it]\n",
      "Queries:  20%|##        | 20/100 [02:25<09:39,  7.24s/it]\n",
      "Queries:  21%|##1       | 21/100 [02:32<09:31,  7.24s/it]\n",
      "Queries:  22%|##2       | 22/100 [02:40<09:24,  7.23s/it]\n",
      "Queries:  23%|##3       | 23/100 [02:47<09:17,  7.24s/it]\n",
      "Queries:  24%|##4       | 24/100 [02:54<09:10,  7.25s/it]\n",
      "Queries:  25%|##5       | 25/100 [03:02<09:04,  7.26s/it]\n",
      "Queries:  26%|##6       | 26/100 [03:09<09:03,  7.35s/it]\n",
      "Queries:  27%|##7       | 27/100 [03:16<08:53,  7.31s/it]\n",
      "Queries:  28%|##8       | 28/100 [03:24<08:44,  7.29s/it]\n",
      "Queries:  29%|##9       | 29/100 [03:31<08:40,  7.34s/it]\n",
      "Queries:  30%|###       | 30/100 [03:38<08:31,  7.31s/it]\n",
      "Queries:  31%|###1      | 31/100 [03:45<08:23,  7.29s/it]\n",
      "Queries:  32%|###2      | 32/100 [03:53<08:14,  7.27s/it]\n",
      "Queries:  33%|###3      | 33/100 [04:00<08:06,  7.26s/it]\n",
      "Queries:  34%|###4      | 34/100 [04:07<07:59,  7.27s/it]\n",
      "Queries:  35%|###5      | 35/100 [04:14<07:52,  7.27s/it]\n",
      "Queries:  36%|###6      | 36/100 [04:22<07:49,  7.34s/it]\n",
      "Queries:  37%|###7      | 37/100 [04:29<07:40,  7.31s/it]\n",
      "Queries:  38%|###8      | 38/100 [04:36<07:31,  7.29s/it]\n",
      "Queries:  39%|###9      | 39/100 [04:44<07:23,  7.27s/it]\n",
      "Queries:  40%|####      | 40/100 [04:51<07:15,  7.26s/it]\n",
      "Queries:  41%|####1     | 41/100 [04:58<07:07,  7.24s/it]\n",
      "Queries:  42%|####2     | 42/100 [05:05<06:59,  7.23s/it]\n",
      "Queries:  43%|####3     | 43/100 [05:13<06:57,  7.32s/it]\n",
      "Queries:  44%|####4     | 44/100 [05:20<06:53,  7.38s/it]\n",
      "Queries:  45%|####5     | 45/100 [05:28<06:43,  7.33s/it]\n",
      "Queries:  46%|####6     | 46/100 [05:35<06:34,  7.31s/it]\n",
      "Queries:  47%|####6     | 47/100 [05:42<06:26,  7.30s/it]\n",
      "Queries:  48%|####8     | 48/100 [05:49<06:19,  7.29s/it]\n",
      "Queries:  49%|####9     | 49/100 [05:57<06:11,  7.28s/it]\n",
      "Queries:  50%|#####     | 50/100 [06:04<06:03,  7.27s/it]\n",
      "Queries:  51%|#####1    | 51/100 [06:11<05:55,  7.27s/it]\n",
      "Queries:  52%|#####2    | 52/100 [06:18<05:48,  7.26s/it]\n",
      "Queries:  53%|#####3    | 53/100 [06:26<05:44,  7.33s/it]\n",
      "Queries:  54%|#####4    | 54/100 [06:33<05:39,  7.37s/it]\n",
      "Queries:  55%|#####5    | 55/100 [06:41<05:29,  7.32s/it]\n",
      "Queries:  56%|#####6    | 56/100 [06:48<05:20,  7.29s/it]\n",
      "Queries:  57%|#####6    | 57/100 [06:55<05:12,  7.27s/it]\n",
      "Queries:  58%|#####8    | 58/100 [07:02<05:05,  7.27s/it]\n",
      "Queries:  59%|#####8    | 59/100 [07:10<04:57,  7.27s/it]\n",
      "Queries:  60%|######    | 60/100 [07:17<04:50,  7.26s/it]\n",
      "Queries:  61%|######1   | 61/100 [07:24<04:46,  7.34s/it]\n",
      "Queries:  62%|######2   | 62/100 [07:32<04:37,  7.31s/it]\n",
      "Queries:  63%|######3   | 63/100 [07:39<04:30,  7.30s/it]\n",
      "Queries:  64%|######4   | 64/100 [07:46<04:22,  7.28s/it]\n",
      "Queries:  65%|######5   | 65/100 [07:53<04:14,  7.27s/it]\n",
      "Queries:  66%|######6   | 66/100 [08:01<04:06,  7.25s/it]\n",
      "Queries:  67%|######7   | 67/100 [08:08<03:58,  7.24s/it]\n",
      "Queries:  68%|######8   | 68/100 [08:15<03:51,  7.23s/it]\n",
      "Queries:  69%|######9   | 69/100 [08:22<03:44,  7.23s/it]\n",
      "Queries:  70%|#######   | 70/100 [08:29<03:36,  7.23s/it]\n",
      "Queries:  71%|#######1  | 71/100 [08:37<03:29,  7.22s/it]\n",
      "Queries:  72%|#######2  | 72/100 [08:44<03:22,  7.24s/it]\n",
      "Queries:  73%|#######3  | 73/100 [08:51<03:15,  7.26s/it]\n",
      "Queries:  74%|#######4  | 74/100 [08:58<03:08,  7.26s/it]\n",
      "Queries:  75%|#######5  | 75/100 [09:06<03:01,  7.26s/it]\n",
      "Queries:  76%|#######6  | 76/100 [09:13<02:54,  7.25s/it]\n",
      "Queries:  77%|#######7  | 77/100 [09:20<02:46,  7.25s/it]\n",
      "Queries:  78%|#######8  | 78/100 [09:27<02:39,  7.24s/it]\n",
      "Queries:  79%|#######9  | 79/100 [09:35<02:31,  7.24s/it]\n",
      "Queries:  80%|########  | 80/100 [09:42<02:24,  7.23s/it]\n",
      "Queries:  81%|########1 | 81/100 [09:49<02:17,  7.23s/it]\n",
      "Queries:  82%|########2 | 82/100 [09:56<02:10,  7.23s/it]\n",
      "Queries:  83%|########2 | 83/100 [10:04<02:03,  7.24s/it]\n",
      "Queries:  84%|########4 | 84/100 [10:11<01:55,  7.25s/it]\n",
      "Queries:  85%|########5 | 85/100 [10:18<01:48,  7.26s/it]\n",
      "Queries:  86%|########6 | 86/100 [10:25<01:41,  7.26s/it]\n",
      "Queries:  87%|########7 | 87/100 [10:33<01:34,  7.25s/it]\n",
      "Queries:  88%|########8 | 88/100 [10:40<01:27,  7.25s/it]\n",
      "Queries:  89%|########9 | 89/100 [10:47<01:19,  7.24s/it]\n",
      "Queries:  90%|######### | 90/100 [10:54<01:12,  7.24s/it]\n",
      "Queries:  91%|#########1| 91/100 [11:02<01:05,  7.23s/it]\n",
      "Queries:  92%|#########2| 92/100 [11:09<00:57,  7.23s/it]\n",
      "Queries:  93%|#########3| 93/100 [11:16<00:50,  7.22s/it]\n",
      "Queries:  94%|#########3| 94/100 [11:23<00:43,  7.22s/it]\n",
      "Queries:  95%|#########5| 95/100 [11:30<00:36,  7.22s/it]\n",
      "Queries:  96%|#########6| 96/100 [11:38<00:28,  7.24s/it]\n",
      "Queries:  97%|#########7| 97/100 [11:45<00:21,  7.25s/it]\n",
      "Queries:  98%|#########8| 98/100 [11:52<00:14,  7.25s/it]\n",
      "Queries:  99%|#########9| 99/100 [11:59<00:07,  7.24s/it]\n",
      "Queries: 100%|##########| 100/100 [12:07<00:00,  7.24s/it]\n",
      "Queries: 100%|##########| 100/100 [12:07<00:00,  7.27s/it]\n"
     ]
    },
    {
     "data": {
      "text/html": [
       "<pre style=\"white-space:pre;overflow-x:auto;line-height:normal;font-family:Menlo,'DejaVu Sans Mono',consolas,'Courier New',monospace\">Total Processing Time: <span style=\"color: #008080; text-decoration-color: #008080; font-weight: bold\">12.12</span> minutes\n",
       "</pre>\n"
      ],
      "text/plain": [
       "Total Processing Time: \u001b[1;36m12.12\u001b[0m minutes\n"
      ]
     },
     "metadata": {},
     "output_type": "display_data"
    },
    {
     "data": {
      "text/html": [
       "<pre style=\"white-space:pre;overflow-x:auto;line-height:normal;font-family:Menlo,'DejaVu Sans Mono',consolas,'Courier New',monospace\"><span style=\"color: #008080; text-decoration-color: #008080; font-weight: bold\">0.88</span> <span style=\"color: #008080; text-decoration-color: #008080; font-weight: bold\">0.7791250705739687</span> <span style=\"color: #008080; text-decoration-color: #008080; font-weight: bold\">512</span> <span style=\"color: #008080; text-decoration-color: #008080; font-weight: bold\">60</span>\n",
       "</pre>\n"
      ],
      "text/plain": [
       "\u001b[1;36m0.88\u001b[0m \u001b[1;36m0.7791250705739687\u001b[0m \u001b[1;36m512\u001b[0m \u001b[1;36m60\u001b[0m\n"
      ]
     },
     "metadata": {},
     "output_type": "display_data"
    },
    {
     "name": "stdout",
     "output_type": "stream",
     "text": [
      " 42%|████▏     | 21/50 [3:14:34<5:47:06, 718.15s/trial, best loss: -0.88]"
     ]
    },
    {
     "data": {
      "text/html": [
       "<pre style=\"white-space:pre;overflow-x:auto;line-height:normal;font-family:Menlo,'DejaVu Sans Mono',consolas,'Courier New',monospace\"><span style=\"color: #008080; text-decoration-color: #008080; font-weight: bold\">0.6083744128553557</span> <span style=\"color: #008080; text-decoration-color: #008080; font-weight: bold\">512</span> <span style=\"color: #008080; text-decoration-color: #008080; font-weight: bold\">40</span>\n",
       "</pre>\n"
      ],
      "text/plain": [
       "\u001b[1;36m0.6083744128553557\u001b[0m \u001b[1;36m512\u001b[0m \u001b[1;36m40\u001b[0m\n"
      ]
     },
     "metadata": {},
     "output_type": "display_data"
    },
    {
     "name": "stderr",
     "output_type": "stream",
     "text": [
      "Queries:   0%|          | 0/100 [00:00<?, ?it/s]\n",
      "Queries:   1%|1         | 1/100 [00:04<08:06,  4.92s/it]\n",
      "Queries:   2%|2         | 2/100 [00:09<07:56,  4.87s/it]\n",
      "Queries:   3%|3         | 3/100 [00:14<07:50,  4.85s/it]\n",
      "Queries:   4%|4         | 4/100 [00:19<07:43,  4.83s/it]\n",
      "Queries:   5%|5         | 5/100 [00:24<07:38,  4.83s/it]\n",
      "Queries:   6%|6         | 6/100 [00:29<07:33,  4.83s/it]\n",
      "Queries:   7%|7         | 7/100 [00:33<07:31,  4.86s/it]\n",
      "Queries:   8%|8         | 8/100 [00:39<07:33,  4.93s/it]\n",
      "Queries:   9%|9         | 9/100 [00:44<07:33,  4.98s/it]\n",
      "Queries:  10%|#         | 10/100 [00:49<07:29,  4.99s/it]\n",
      "Queries:  11%|#1        | 11/100 [00:54<07:26,  5.02s/it]\n",
      "Queries:  12%|#2        | 12/100 [00:59<07:16,  4.97s/it]\n",
      "Queries:  13%|#3        | 13/100 [01:04<07:15,  5.01s/it]\n",
      "Queries:  14%|#4        | 14/100 [01:09<07:10,  5.01s/it]\n",
      "Queries:  15%|#5        | 15/100 [01:14<07:03,  4.98s/it]\n",
      "Queries:  16%|#6        | 16/100 [01:18<06:54,  4.94s/it]\n",
      "Queries:  17%|#7        | 17/100 [01:23<06:47,  4.91s/it]\n",
      "Queries:  18%|#8        | 18/100 [01:28<06:44,  4.93s/it]\n",
      "Queries:  19%|#9        | 19/100 [01:33<06:37,  4.91s/it]\n",
      "Queries:  20%|##        | 20/100 [01:38<06:31,  4.89s/it]\n",
      "Queries:  21%|##1       | 21/100 [01:43<06:25,  4.88s/it]\n",
      "Queries:  22%|##2       | 22/100 [01:48<06:21,  4.89s/it]\n",
      "Queries:  23%|##3       | 23/100 [01:53<06:15,  4.87s/it]\n",
      "Queries:  24%|##4       | 24/100 [01:57<06:09,  4.86s/it]\n",
      "Queries:  25%|##5       | 25/100 [02:02<06:07,  4.91s/it]\n",
      "Queries:  26%|##6       | 26/100 [02:07<06:05,  4.93s/it]\n",
      "Queries:  27%|##7       | 27/100 [02:12<05:59,  4.93s/it]\n",
      "Queries:  28%|##8       | 28/100 [02:17<05:56,  4.95s/it]\n",
      "Queries:  29%|##9       | 29/100 [02:22<05:48,  4.91s/it]\n",
      "Queries:  30%|###       | 30/100 [02:27<05:41,  4.88s/it]\n",
      "Queries:  31%|###1      | 31/100 [02:32<05:41,  4.95s/it]\n",
      "Queries:  32%|###2      | 32/100 [02:37<05:39,  4.99s/it]\n",
      "Queries:  33%|###3      | 33/100 [02:42<05:32,  4.96s/it]\n",
      "Queries:  34%|###4      | 34/100 [02:47<05:25,  4.93s/it]\n",
      "Queries:  35%|###5      | 35/100 [02:52<05:19,  4.92s/it]\n",
      "Queries:  36%|###6      | 36/100 [02:57<05:13,  4.89s/it]\n",
      "Queries:  37%|###7      | 37/100 [03:02<05:08,  4.89s/it]\n",
      "Queries:  38%|###8      | 38/100 [03:06<05:03,  4.90s/it]\n",
      "Queries:  39%|###9      | 39/100 [03:11<04:57,  4.88s/it]\n",
      "Queries:  40%|####      | 40/100 [03:16<04:53,  4.89s/it]\n",
      "Queries:  41%|####1     | 41/100 [03:21<04:48,  4.90s/it]\n",
      "Queries:  42%|####2     | 42/100 [03:26<04:42,  4.87s/it]\n",
      "Queries:  43%|####3     | 43/100 [03:31<04:37,  4.87s/it]\n",
      "Queries:  44%|####4     | 44/100 [03:36<04:33,  4.88s/it]\n",
      "Queries:  45%|####5     | 45/100 [03:41<04:27,  4.87s/it]\n",
      "Queries:  46%|####6     | 46/100 [03:45<04:22,  4.86s/it]\n",
      "Queries:  47%|####6     | 47/100 [03:50<04:17,  4.85s/it]\n",
      "Queries:  48%|####8     | 48/100 [03:55<04:11,  4.84s/it]\n",
      "Queries:  49%|####9     | 49/100 [04:00<04:09,  4.88s/it]\n",
      "Queries:  50%|#####     | 50/100 [04:05<04:04,  4.89s/it]\n",
      "Queries:  51%|#####1    | 51/100 [04:10<03:58,  4.86s/it]\n",
      "Queries:  52%|#####2    | 52/100 [04:15<03:52,  4.85s/it]\n",
      "Queries:  53%|#####3    | 53/100 [04:19<03:48,  4.85s/it]\n",
      "Queries:  54%|#####4    | 54/100 [04:24<03:42,  4.84s/it]\n",
      "Queries:  55%|#####5    | 55/100 [04:29<03:37,  4.84s/it]\n",
      "Queries:  56%|#####6    | 56/100 [04:34<03:35,  4.90s/it]\n",
      "Queries:  57%|#####6    | 57/100 [04:39<03:29,  4.88s/it]\n",
      "Queries:  58%|#####8    | 58/100 [04:44<03:24,  4.86s/it]\n",
      "Queries:  59%|#####8    | 59/100 [04:49<03:20,  4.88s/it]\n",
      "Queries:  60%|######    | 60/100 [04:54<03:15,  4.89s/it]\n",
      "Queries:  61%|######1   | 61/100 [04:58<03:10,  4.88s/it]\n",
      "Queries:  62%|######2   | 62/100 [05:03<03:05,  4.89s/it]\n",
      "Queries:  63%|######3   | 63/100 [05:08<03:03,  4.95s/it]\n",
      "Queries:  64%|######4   | 64/100 [05:13<02:59,  4.97s/it]\n",
      "Queries:  65%|######5   | 65/100 [05:19<02:55,  5.00s/it]\n",
      "Queries:  66%|######6   | 66/100 [05:23<02:48,  4.94s/it]\n",
      "Queries:  67%|######7   | 67/100 [05:28<02:41,  4.90s/it]\n",
      "Queries:  68%|######8   | 68/100 [05:33<02:35,  4.87s/it]\n",
      "Queries:  69%|######9   | 69/100 [05:38<02:30,  4.86s/it]\n",
      "Queries:  70%|#######   | 70/100 [05:43<02:25,  4.85s/it]\n",
      "Queries:  71%|#######1  | 71/100 [05:47<02:20,  4.84s/it]\n",
      "Queries:  72%|#######2  | 72/100 [05:52<02:15,  4.85s/it]\n",
      "Queries:  73%|#######3  | 73/100 [05:57<02:10,  4.85s/it]\n",
      "Queries:  74%|#######4  | 74/100 [06:02<02:07,  4.92s/it]\n",
      "Queries:  75%|#######5  | 75/100 [06:07<02:02,  4.89s/it]\n",
      "Queries:  76%|#######6  | 76/100 [06:12<01:58,  4.92s/it]\n",
      "Queries:  77%|#######7  | 77/100 [06:17<01:52,  4.90s/it]\n",
      "Queries:  78%|#######8  | 78/100 [06:22<01:47,  4.89s/it]\n",
      "Queries:  79%|#######9  | 79/100 [06:27<01:42,  4.87s/it]\n",
      "Queries:  80%|########  | 80/100 [06:32<01:38,  4.93s/it]\n",
      "Queries:  81%|########1 | 81/100 [06:36<01:33,  4.90s/it]\n",
      "Queries:  82%|########2 | 82/100 [06:41<01:27,  4.88s/it]\n",
      "Queries:  83%|########2 | 83/100 [06:46<01:22,  4.86s/it]\n",
      "Queries:  84%|########4 | 84/100 [06:51<01:17,  4.85s/it]\n",
      "Queries:  85%|########5 | 85/100 [06:56<01:13,  4.87s/it]\n",
      "Queries:  86%|########6 | 86/100 [07:01<01:08,  4.91s/it]\n",
      "Queries:  87%|########7 | 87/100 [07:06<01:03,  4.89s/it]\n",
      "Queries:  88%|########8 | 88/100 [07:11<00:59,  4.93s/it]\n",
      "Queries:  89%|########9 | 89/100 [07:16<00:53,  4.91s/it]\n",
      "Queries:  90%|######### | 90/100 [07:20<00:48,  4.88s/it]\n",
      "Queries:  91%|#########1| 91/100 [07:25<00:44,  4.89s/it]\n",
      "Queries:  92%|#########2| 92/100 [07:30<00:39,  4.95s/it]\n",
      "Queries:  93%|#########3| 93/100 [07:35<00:34,  4.92s/it]\n",
      "Queries:  94%|#########3| 94/100 [07:40<00:29,  4.89s/it]\n",
      "Queries:  95%|#########5| 95/100 [07:45<00:24,  4.87s/it]\n",
      "Queries:  96%|#########6| 96/100 [07:50<00:19,  4.88s/it]\n",
      "Queries:  97%|#########7| 97/100 [07:55<00:14,  4.89s/it]\n",
      "Queries:  98%|#########8| 98/100 [08:00<00:09,  4.95s/it]\n",
      "Queries:  99%|#########9| 99/100 [08:05<00:04,  4.91s/it]\n",
      "Queries: 100%|##########| 100/100 [08:09<00:00,  4.88s/it]\n",
      "Queries: 100%|##########| 100/100 [08:09<00:00,  4.90s/it]\n"
     ]
    },
    {
     "data": {
      "text/html": [
       "<pre style=\"white-space:pre;overflow-x:auto;line-height:normal;font-family:Menlo,'DejaVu Sans Mono',consolas,'Courier New',monospace\">Total Processing Time: <span style=\"color: #008080; text-decoration-color: #008080; font-weight: bold\">8.17</span> minutes\n",
       "</pre>\n"
      ],
      "text/plain": [
       "Total Processing Time: \u001b[1;36m8.17\u001b[0m minutes\n"
      ]
     },
     "metadata": {},
     "output_type": "display_data"
    },
    {
     "data": {
      "text/html": [
       "<pre style=\"white-space:pre;overflow-x:auto;line-height:normal;font-family:Menlo,'DejaVu Sans Mono',consolas,'Courier New',monospace\"><span style=\"color: #008080; text-decoration-color: #008080; font-weight: bold\">0.88</span> <span style=\"color: #008080; text-decoration-color: #008080; font-weight: bold\">0.6083744128553557</span> <span style=\"color: #008080; text-decoration-color: #008080; font-weight: bold\">512</span> <span style=\"color: #008080; text-decoration-color: #008080; font-weight: bold\">40</span>\n",
       "</pre>\n"
      ],
      "text/plain": [
       "\u001b[1;36m0.88\u001b[0m \u001b[1;36m0.6083744128553557\u001b[0m \u001b[1;36m512\u001b[0m \u001b[1;36m40\u001b[0m\n"
      ]
     },
     "metadata": {},
     "output_type": "display_data"
    },
    {
     "name": "stdout",
     "output_type": "stream",
     "text": [
      " 44%|████▍     | 22/50 [3:22:44<5:03:10, 649.67s/trial, best loss: -0.88]"
     ]
    },
    {
     "data": {
      "text/html": [
       "<pre style=\"white-space:pre;overflow-x:auto;line-height:normal;font-family:Menlo,'DejaVu Sans Mono',consolas,'Courier New',monospace\"><span style=\"color: #008080; text-decoration-color: #008080; font-weight: bold\">0.6854930402999383</span> <span style=\"color: #008080; text-decoration-color: #008080; font-weight: bold\">512</span> <span style=\"color: #008080; text-decoration-color: #008080; font-weight: bold\">40</span>\n",
       "</pre>\n"
      ],
      "text/plain": [
       "\u001b[1;36m0.6854930402999383\u001b[0m \u001b[1;36m512\u001b[0m \u001b[1;36m40\u001b[0m\n"
      ]
     },
     "metadata": {},
     "output_type": "display_data"
    },
    {
     "name": "stderr",
     "output_type": "stream",
     "text": [
      "Queries:   0%|          | 0/100 [00:00<?, ?it/s]\n",
      "Queries:   1%|1         | 1/100 [00:04<08:05,  4.91s/it]\n",
      "Queries:   2%|2         | 2/100 [00:09<07:56,  4.87s/it]\n",
      "Queries:   3%|3         | 3/100 [00:14<07:50,  4.85s/it]\n",
      "Queries:   4%|4         | 4/100 [00:19<07:43,  4.83s/it]\n",
      "Queries:   5%|5         | 5/100 [00:24<07:39,  4.83s/it]\n",
      "Queries:   6%|6         | 6/100 [00:29<07:34,  4.84s/it]\n",
      "Queries:   7%|7         | 7/100 [00:33<07:32,  4.86s/it]\n",
      "Queries:   8%|8         | 8/100 [00:39<07:33,  4.93s/it]\n",
      "Queries:   9%|9         | 9/100 [00:44<07:33,  4.98s/it]\n",
      "Queries:  10%|#         | 10/100 [00:49<07:26,  4.96s/it]\n",
      "Queries:  11%|#1        | 11/100 [00:54<07:24,  5.00s/it]\n",
      "Queries:  12%|#2        | 12/100 [00:58<07:14,  4.94s/it]\n",
      "Queries:  13%|#3        | 13/100 [01:04<07:13,  4.99s/it]\n",
      "Queries:  14%|#4        | 14/100 [01:09<07:09,  4.99s/it]\n",
      "Queries:  15%|#5        | 15/100 [01:13<07:01,  4.96s/it]\n",
      "Queries:  16%|#6        | 16/100 [01:18<06:52,  4.92s/it]\n",
      "Queries:  17%|#7        | 17/100 [01:23<06:46,  4.90s/it]\n",
      "Queries:  18%|#8        | 18/100 [01:28<06:44,  4.93s/it]\n",
      "Queries:  19%|#9        | 19/100 [01:33<06:38,  4.92s/it]\n",
      "Queries:  20%|##        | 20/100 [01:38<06:31,  4.89s/it]\n",
      "Queries:  21%|##1       | 21/100 [01:43<06:25,  4.88s/it]\n",
      "Queries:  22%|##2       | 22/100 [01:48<06:21,  4.89s/it]\n",
      "Queries:  23%|##3       | 23/100 [01:52<06:15,  4.88s/it]\n",
      "Queries:  24%|##4       | 24/100 [01:57<06:09,  4.86s/it]\n",
      "Queries:  25%|##5       | 25/100 [02:02<06:07,  4.90s/it]\n",
      "Queries:  26%|##6       | 26/100 [02:07<06:04,  4.93s/it]\n",
      "Queries:  27%|##7       | 27/100 [02:12<05:59,  4.93s/it]\n",
      "Queries:  28%|##8       | 28/100 [02:17<05:56,  4.95s/it]\n",
      "Queries:  29%|##9       | 29/100 [02:22<05:47,  4.90s/it]\n",
      "Queries:  30%|###       | 30/100 [02:27<05:41,  4.87s/it]\n",
      "Queries:  31%|###1      | 31/100 [02:32<05:40,  4.93s/it]\n",
      "Queries:  32%|###2      | 32/100 [02:37<05:38,  4.97s/it]\n",
      "Queries:  33%|###3      | 33/100 [02:42<05:31,  4.95s/it]\n",
      "Queries:  34%|###4      | 34/100 [02:47<05:24,  4.92s/it]\n",
      "Queries:  35%|###5      | 35/100 [02:52<05:19,  4.92s/it]\n",
      "Queries:  36%|###6      | 36/100 [02:56<05:13,  4.89s/it]\n",
      "Queries:  37%|###7      | 37/100 [03:01<05:08,  4.90s/it]\n",
      "Queries:  38%|###8      | 38/100 [03:06<05:04,  4.91s/it]\n",
      "Queries:  39%|###9      | 39/100 [03:11<04:58,  4.89s/it]\n",
      "Queries:  40%|####      | 40/100 [03:16<04:53,  4.89s/it]\n",
      "Queries:  41%|####1     | 41/100 [03:21<04:48,  4.90s/it]\n",
      "Queries:  42%|####2     | 42/100 [03:26<04:42,  4.88s/it]\n",
      "Queries:  43%|####3     | 43/100 [03:31<04:36,  4.86s/it]\n",
      "Queries:  44%|####4     | 44/100 [03:35<04:32,  4.87s/it]\n",
      "Queries:  45%|####5     | 45/100 [03:40<04:26,  4.85s/it]\n",
      "Queries:  46%|####6     | 46/100 [03:45<04:21,  4.84s/it]\n",
      "Queries:  47%|####6     | 47/100 [03:50<04:16,  4.84s/it]\n",
      "Queries:  48%|####8     | 48/100 [03:55<04:11,  4.84s/it]\n",
      "Queries:  49%|####9     | 49/100 [04:00<04:09,  4.89s/it]\n",
      "Queries:  50%|#####     | 50/100 [04:05<04:04,  4.90s/it]\n",
      "Queries:  51%|#####1    | 51/100 [04:10<03:59,  4.88s/it]\n",
      "Queries:  52%|#####2    | 52/100 [04:14<03:53,  4.86s/it]\n",
      "Queries:  53%|#####3    | 53/100 [04:20<03:53,  4.98s/it]\n",
      "Queries:  54%|#####4    | 54/100 [04:24<03:46,  4.93s/it]\n",
      "Queries:  55%|#####5    | 55/100 [04:30<03:44,  5.00s/it]\n",
      "Queries:  56%|#####6    | 56/100 [04:35<03:40,  5.02s/it]\n",
      "Queries:  57%|#####6    | 57/100 [04:39<03:33,  4.96s/it]\n",
      "Queries:  58%|#####8    | 58/100 [04:44<03:26,  4.91s/it]\n",
      "Queries:  59%|#####8    | 59/100 [04:49<03:22,  4.94s/it]\n",
      "Queries:  60%|######    | 60/100 [04:54<03:17,  4.93s/it]\n",
      "Queries:  61%|######1   | 61/100 [04:59<03:11,  4.90s/it]\n",
      "Queries:  62%|######2   | 62/100 [05:04<03:06,  4.90s/it]\n",
      "Queries:  63%|######3   | 63/100 [05:09<03:03,  4.96s/it]\n",
      "Queries:  64%|######4   | 64/100 [05:14<02:59,  5.00s/it]\n",
      "Queries:  65%|######5   | 65/100 [05:19<02:55,  5.03s/it]\n",
      "Queries:  66%|######6   | 66/100 [05:24<02:48,  4.97s/it]\n",
      "Queries:  67%|######7   | 67/100 [05:29<02:42,  4.93s/it]\n",
      "Queries:  68%|######8   | 68/100 [05:34<02:40,  5.00s/it]\n",
      "Queries:  69%|######9   | 69/100 [05:39<02:33,  4.95s/it]\n",
      "Queries:  70%|#######   | 70/100 [05:44<02:27,  4.90s/it]\n",
      "Queries:  71%|#######1  | 71/100 [05:48<02:21,  4.88s/it]\n",
      "Queries:  72%|#######2  | 72/100 [05:53<02:16,  4.86s/it]\n",
      "Queries:  73%|#######3  | 73/100 [05:58<02:11,  4.86s/it]\n",
      "Queries:  74%|#######4  | 74/100 [06:03<02:07,  4.92s/it]\n",
      "Queries:  75%|#######5  | 75/100 [06:08<02:02,  4.90s/it]\n",
      "Queries:  76%|#######6  | 76/100 [06:13<01:58,  4.93s/it]\n",
      "Queries:  77%|#######7  | 77/100 [06:18<01:54,  4.98s/it]\n",
      "Queries:  78%|#######8  | 78/100 [06:23<01:49,  4.96s/it]\n",
      "Queries:  79%|#######9  | 79/100 [06:28<01:44,  4.99s/it]\n",
      "Queries:  80%|########  | 80/100 [06:33<01:40,  5.02s/it]\n",
      "Queries:  81%|########1 | 81/100 [06:38<01:34,  4.97s/it]\n",
      "Queries:  82%|########2 | 82/100 [06:43<01:28,  4.93s/it]\n",
      "Queries:  83%|########2 | 83/100 [06:48<01:23,  4.90s/it]\n",
      "Queries:  84%|########4 | 84/100 [06:53<01:18,  4.88s/it]\n",
      "Queries:  85%|########5 | 85/100 [06:57<01:13,  4.89s/it]\n",
      "Queries:  86%|########6 | 86/100 [07:02<01:08,  4.92s/it]\n",
      "Queries:  87%|########7 | 87/100 [07:07<01:03,  4.89s/it]\n",
      "Queries:  88%|########8 | 88/100 [07:12<00:58,  4.90s/it]\n",
      "Queries:  89%|########9 | 89/100 [07:17<00:53,  4.88s/it]\n",
      "Queries:  90%|######### | 90/100 [07:22<00:49,  4.94s/it]\n",
      "Queries:  91%|#########1| 91/100 [07:27<00:44,  4.93s/it]\n",
      "Queries:  92%|#########2| 92/100 [07:33<00:40,  5.10s/it]\n",
      "Queries:  93%|#########3| 93/100 [07:37<00:35,  5.02s/it]\n",
      "Queries:  94%|#########3| 94/100 [07:42<00:29,  4.96s/it]\n",
      "Queries:  95%|#########5| 95/100 [07:47<00:24,  4.93s/it]\n",
      "Queries:  96%|#########6| 96/100 [07:52<00:19,  4.90s/it]\n",
      "Queries:  97%|#########7| 97/100 [07:57<00:14,  4.91s/it]\n",
      "Queries:  98%|#########8| 98/100 [08:02<00:09,  4.96s/it]\n",
      "Queries:  99%|#########9| 99/100 [08:07<00:04,  4.92s/it]\n",
      "Queries: 100%|##########| 100/100 [08:12<00:00,  4.89s/it]\n",
      "Queries: 100%|##########| 100/100 [08:12<00:00,  4.92s/it]\n"
     ]
    },
    {
     "data": {
      "text/html": [
       "<pre style=\"white-space:pre;overflow-x:auto;line-height:normal;font-family:Menlo,'DejaVu Sans Mono',consolas,'Courier New',monospace\">Total Processing Time: <span style=\"color: #008080; text-decoration-color: #008080; font-weight: bold\">8.2</span> minutes\n",
       "</pre>\n"
      ],
      "text/plain": [
       "Total Processing Time: \u001b[1;36m8.2\u001b[0m minutes\n"
      ]
     },
     "metadata": {},
     "output_type": "display_data"
    },
    {
     "data": {
      "text/html": [
       "<pre style=\"white-space:pre;overflow-x:auto;line-height:normal;font-family:Menlo,'DejaVu Sans Mono',consolas,'Courier New',monospace\"><span style=\"color: #008080; text-decoration-color: #008080; font-weight: bold\">0.87</span> <span style=\"color: #008080; text-decoration-color: #008080; font-weight: bold\">0.6854930402999383</span> <span style=\"color: #008080; text-decoration-color: #008080; font-weight: bold\">512</span> <span style=\"color: #008080; text-decoration-color: #008080; font-weight: bold\">40</span>\n",
       "</pre>\n"
      ],
      "text/plain": [
       "\u001b[1;36m0.87\u001b[0m \u001b[1;36m0.6854930402999383\u001b[0m \u001b[1;36m512\u001b[0m \u001b[1;36m40\u001b[0m\n"
      ]
     },
     "metadata": {},
     "output_type": "display_data"
    },
    {
     "name": "stdout",
     "output_type": "stream",
     "text": [
      " 46%|████▌     | 23/50 [3:30:56<4:31:03, 602.37s/trial, best loss: -0.88]"
     ]
    },
    {
     "data": {
      "text/html": [
       "<pre style=\"white-space:pre;overflow-x:auto;line-height:normal;font-family:Menlo,'DejaVu Sans Mono',consolas,'Courier New',monospace\"><span style=\"color: #008080; text-decoration-color: #008080; font-weight: bold\">0.20098570006944477</span> <span style=\"color: #008080; text-decoration-color: #008080; font-weight: bold\">512</span> <span style=\"color: #008080; text-decoration-color: #008080; font-weight: bold\">60</span>\n",
       "</pre>\n"
      ],
      "text/plain": [
       "\u001b[1;36m0.20098570006944477\u001b[0m \u001b[1;36m512\u001b[0m \u001b[1;36m60\u001b[0m\n"
      ]
     },
     "metadata": {},
     "output_type": "display_data"
    },
    {
     "name": "stderr",
     "output_type": "stream",
     "text": [
      "Queries:   0%|          | 0/100 [00:00<?, ?it/s]\n",
      "Queries:   1%|1         | 1/100 [00:07<11:57,  7.25s/it]\n",
      "Queries:   2%|2         | 2/100 [00:14<11:50,  7.25s/it]\n",
      "Queries:   3%|3         | 3/100 [00:21<11:43,  7.25s/it]\n",
      "Queries:   4%|4         | 4/100 [00:28<11:35,  7.25s/it]\n",
      "Queries:   5%|5         | 5/100 [00:36<11:29,  7.26s/it]\n",
      "Queries:   6%|6         | 6/100 [00:43<11:22,  7.26s/it]\n",
      "Queries:   7%|7         | 7/100 [00:50<11:15,  7.26s/it]\n",
      "Queries:   8%|8         | 8/100 [00:58<11:07,  7.25s/it]\n",
      "Queries:   9%|9         | 9/100 [01:05<10:59,  7.25s/it]\n",
      "Queries:  10%|#         | 10/100 [01:12<10:51,  7.24s/it]\n",
      "Queries:  11%|#1        | 11/100 [01:19<10:43,  7.23s/it]\n",
      "Queries:  12%|#2        | 12/100 [01:26<10:36,  7.23s/it]\n",
      "Queries:  13%|#3        | 13/100 [01:34<10:29,  7.24s/it]\n",
      "Queries:  14%|#4        | 14/100 [01:41<10:22,  7.24s/it]\n",
      "Queries:  15%|#5        | 15/100 [01:48<10:16,  7.25s/it]\n",
      "Queries:  16%|#6        | 16/100 [01:55<10:09,  7.25s/it]\n",
      "Queries:  17%|#7        | 17/100 [02:03<10:02,  7.26s/it]\n",
      "Queries:  18%|#8        | 18/100 [02:10<09:54,  7.25s/it]\n",
      "Queries:  19%|#9        | 19/100 [02:17<09:46,  7.24s/it]\n",
      "Queries:  20%|##        | 20/100 [02:24<09:38,  7.23s/it]\n",
      "Queries:  21%|##1       | 21/100 [02:32<09:31,  7.23s/it]\n",
      "Queries:  22%|##2       | 22/100 [02:39<09:23,  7.23s/it]\n",
      "Queries:  23%|##3       | 23/100 [02:46<09:16,  7.22s/it]\n",
      "Queries:  24%|##4       | 24/100 [02:53<09:08,  7.22s/it]\n",
      "Queries:  25%|##5       | 25/100 [03:00<09:01,  7.22s/it]\n",
      "Queries:  26%|##6       | 26/100 [03:08<08:54,  7.22s/it]\n",
      "Queries:  27%|##7       | 27/100 [03:15<08:47,  7.23s/it]\n",
      "Queries:  28%|##8       | 28/100 [03:22<08:40,  7.23s/it]\n",
      "Queries:  29%|##9       | 29/100 [03:29<08:33,  7.23s/it]\n",
      "Queries:  30%|###       | 30/100 [03:37<08:27,  7.24s/it]\n",
      "Queries:  31%|###1      | 31/100 [03:44<08:20,  7.25s/it]\n",
      "Queries:  32%|###2      | 32/100 [03:51<08:12,  7.24s/it]\n",
      "Queries:  33%|###3      | 33/100 [03:58<08:04,  7.23s/it]\n",
      "Queries:  34%|###4      | 34/100 [04:06<07:56,  7.22s/it]\n",
      "Queries:  35%|###5      | 35/100 [04:13<07:49,  7.23s/it]\n",
      "Queries:  36%|###6      | 36/100 [04:20<07:42,  7.23s/it]\n",
      "Queries:  37%|###7      | 37/100 [04:27<07:35,  7.23s/it]\n",
      "Queries:  38%|###8      | 38/100 [04:35<07:28,  7.23s/it]\n",
      "Queries:  39%|###9      | 39/100 [04:42<07:21,  7.23s/it]\n",
      "Queries:  40%|####      | 40/100 [04:49<07:14,  7.25s/it]\n",
      "Queries:  41%|####1     | 41/100 [04:56<07:07,  7.25s/it]\n",
      "Queries:  42%|####2     | 42/100 [05:04<07:00,  7.25s/it]\n",
      "Queries:  43%|####3     | 43/100 [05:11<06:53,  7.25s/it]\n",
      "Queries:  44%|####4     | 44/100 [05:18<06:45,  7.25s/it]\n",
      "Queries:  45%|####5     | 45/100 [05:25<06:38,  7.24s/it]\n",
      "Queries:  46%|####6     | 46/100 [05:33<06:30,  7.24s/it]\n",
      "Queries:  47%|####6     | 47/100 [05:40<06:23,  7.23s/it]\n",
      "Queries:  48%|####8     | 48/100 [05:47<06:16,  7.23s/it]\n",
      "Queries:  49%|####9     | 49/100 [05:54<06:08,  7.23s/it]\n",
      "Queries:  50%|#####     | 50/100 [06:01<06:02,  7.25s/it]\n",
      "Queries:  51%|#####1    | 51/100 [06:09<05:55,  7.26s/it]\n",
      "Queries:  52%|#####2    | 52/100 [06:16<05:48,  7.26s/it]\n",
      "Queries:  53%|#####3    | 53/100 [06:23<05:41,  7.26s/it]\n",
      "Queries:  54%|#####4    | 54/100 [06:31<05:33,  7.25s/it]\n",
      "Queries:  55%|#####5    | 55/100 [06:38<05:25,  7.24s/it]\n",
      "Queries:  56%|#####6    | 56/100 [06:45<05:18,  7.23s/it]\n",
      "Queries:  57%|#####6    | 57/100 [06:52<05:10,  7.23s/it]\n",
      "Queries:  58%|#####8    | 58/100 [06:59<05:03,  7.24s/it]\n",
      "Queries:  59%|#####8    | 59/100 [07:07<04:57,  7.24s/it]\n",
      "Queries:  60%|######    | 60/100 [07:14<04:49,  7.25s/it]\n",
      "Queries:  61%|######1   | 61/100 [07:21<04:42,  7.24s/it]\n",
      "Queries:  62%|######2   | 62/100 [07:28<04:35,  7.24s/it]\n",
      "Queries:  63%|######3   | 63/100 [07:36<04:28,  7.25s/it]\n",
      "Queries:  64%|######4   | 64/100 [07:43<04:21,  7.25s/it]\n",
      "Queries:  65%|######5   | 65/100 [07:50<04:14,  7.26s/it]\n",
      "Queries:  66%|######6   | 66/100 [07:57<04:06,  7.26s/it]\n",
      "Queries:  67%|######7   | 67/100 [08:05<03:59,  7.26s/it]\n",
      "Queries:  68%|######8   | 68/100 [08:12<03:51,  7.24s/it]\n",
      "Queries:  69%|######9   | 69/100 [08:19<03:44,  7.23s/it]\n",
      "Queries:  70%|#######   | 70/100 [08:26<03:36,  7.22s/it]\n",
      "Queries:  71%|#######1  | 71/100 [08:34<03:29,  7.22s/it]\n",
      "Queries:  72%|#######2  | 72/100 [08:41<03:22,  7.22s/it]\n",
      "Queries:  73%|#######3  | 73/100 [08:48<03:14,  7.22s/it]\n",
      "Queries:  74%|#######4  | 74/100 [08:55<03:07,  7.23s/it]\n",
      "Queries:  75%|#######5  | 75/100 [09:02<03:01,  7.24s/it]\n",
      "Queries:  76%|#######6  | 76/100 [09:10<02:54,  7.25s/it]\n",
      "Queries:  77%|#######7  | 77/100 [09:17<02:46,  7.25s/it]\n",
      "Queries:  78%|#######8  | 78/100 [09:24<02:39,  7.25s/it]\n",
      "Queries:  79%|#######9  | 79/100 [09:32<02:32,  7.25s/it]\n",
      "Queries:  80%|########  | 80/100 [09:39<02:24,  7.24s/it]\n",
      "Queries:  81%|########1 | 81/100 [09:46<02:17,  7.24s/it]\n",
      "Queries:  82%|########2 | 82/100 [09:53<02:10,  7.24s/it]\n",
      "Queries:  83%|########2 | 83/100 [10:00<02:03,  7.24s/it]\n",
      "Queries:  84%|########4 | 84/100 [10:08<01:56,  7.25s/it]\n",
      "Queries:  85%|########5 | 85/100 [10:15<01:48,  7.26s/it]\n",
      "Queries:  86%|########6 | 86/100 [10:22<01:41,  7.26s/it]\n",
      "Queries:  87%|########7 | 87/100 [10:30<01:34,  7.25s/it]\n",
      "Queries:  88%|########8 | 88/100 [10:37<01:27,  7.33s/it]\n",
      "Queries:  89%|########9 | 89/100 [10:44<01:20,  7.30s/it]\n",
      "Queries:  90%|######### | 90/100 [10:52<01:13,  7.36s/it]\n",
      "Queries:  91%|#########1| 91/100 [10:59<01:05,  7.33s/it]\n",
      "Queries:  92%|#########2| 92/100 [11:06<00:58,  7.31s/it]\n",
      "Queries:  93%|#########3| 93/100 [11:14<00:51,  7.30s/it]\n",
      "Queries:  94%|#########3| 94/100 [11:21<00:43,  7.30s/it]\n",
      "Queries:  95%|#########5| 95/100 [11:28<00:36,  7.28s/it]\n",
      "Queries:  96%|#########6| 96/100 [11:35<00:29,  7.28s/it]\n",
      "Queries:  97%|#########7| 97/100 [11:43<00:21,  7.28s/it]\n",
      "Queries:  98%|#########8| 98/100 [11:50<00:14,  7.27s/it]\n",
      "Queries:  99%|#########9| 99/100 [11:57<00:07,  7.33s/it]\n",
      "Queries: 100%|##########| 100/100 [12:05<00:00,  7.30s/it]\n",
      "Queries: 100%|##########| 100/100 [12:05<00:00,  7.25s/it]\n"
     ]
    },
    {
     "data": {
      "text/html": [
       "<pre style=\"white-space:pre;overflow-x:auto;line-height:normal;font-family:Menlo,'DejaVu Sans Mono',consolas,'Courier New',monospace\">Total Processing Time: <span style=\"color: #008080; text-decoration-color: #008080; font-weight: bold\">12.09</span> minutes\n",
       "</pre>\n"
      ],
      "text/plain": [
       "Total Processing Time: \u001b[1;36m12.09\u001b[0m minutes\n"
      ]
     },
     "metadata": {},
     "output_type": "display_data"
    },
    {
     "data": {
      "text/html": [
       "<pre style=\"white-space:pre;overflow-x:auto;line-height:normal;font-family:Menlo,'DejaVu Sans Mono',consolas,'Courier New',monospace\"><span style=\"color: #008080; text-decoration-color: #008080; font-weight: bold\">0.88</span> <span style=\"color: #008080; text-decoration-color: #008080; font-weight: bold\">0.20098570006944477</span> <span style=\"color: #008080; text-decoration-color: #008080; font-weight: bold\">512</span> <span style=\"color: #008080; text-decoration-color: #008080; font-weight: bold\">60</span>\n",
       "</pre>\n"
      ],
      "text/plain": [
       "\u001b[1;36m0.88\u001b[0m \u001b[1;36m0.20098570006944477\u001b[0m \u001b[1;36m512\u001b[0m \u001b[1;36m60\u001b[0m\n"
      ]
     },
     "metadata": {},
     "output_type": "display_data"
    },
    {
     "name": "stdout",
     "output_type": "stream",
     "text": [
      " 48%|████▊     | 24/50 [3:43:02<4:36:59, 639.20s/trial, best loss: -0.88]"
     ]
    },
    {
     "data": {
      "text/html": [
       "<pre style=\"white-space:pre;overflow-x:auto;line-height:normal;font-family:Menlo,'DejaVu Sans Mono',consolas,'Courier New',monospace\"><span style=\"color: #008080; text-decoration-color: #008080; font-weight: bold\">0.22943387267826973</span> <span style=\"color: #008080; text-decoration-color: #008080; font-weight: bold\">512</span> <span style=\"color: #008080; text-decoration-color: #008080; font-weight: bold\">40</span>\n",
       "</pre>\n"
      ],
      "text/plain": [
       "\u001b[1;36m0.22943387267826973\u001b[0m \u001b[1;36m512\u001b[0m \u001b[1;36m40\u001b[0m\n"
      ]
     },
     "metadata": {},
     "output_type": "display_data"
    },
    {
     "name": "stderr",
     "output_type": "stream",
     "text": [
      "Queries:   0%|          | 0/100 [00:00<?, ?it/s]\n",
      "Queries:   1%|1         | 1/100 [00:04<08:14,  4.99s/it]\n",
      "Queries:   2%|2         | 2/100 [00:09<08:05,  4.95s/it]\n",
      "Queries:   3%|3         | 3/100 [00:14<07:54,  4.90s/it]\n",
      "Queries:   4%|4         | 4/100 [00:19<07:47,  4.87s/it]\n",
      "Queries:   5%|5         | 5/100 [00:24<07:41,  4.86s/it]\n",
      "Queries:   6%|6         | 6/100 [00:29<07:36,  4.86s/it]\n",
      "Queries:   7%|7         | 7/100 [00:34<07:43,  4.99s/it]\n",
      "Queries:   8%|8         | 8/100 [00:39<07:41,  5.02s/it]\n",
      "Queries:   9%|9         | 9/100 [00:44<07:38,  5.04s/it]\n",
      "Queries:  10%|#         | 10/100 [00:49<07:39,  5.10s/it]\n",
      "Queries:  11%|#1        | 11/100 [00:55<07:33,  5.10s/it]\n",
      "Queries:  12%|#2        | 12/100 [00:59<07:21,  5.01s/it]\n",
      "Queries:  13%|#3        | 13/100 [01:04<07:18,  5.04s/it]\n",
      "Queries:  14%|#4        | 14/100 [01:09<07:12,  5.03s/it]\n",
      "Queries:  15%|#5        | 15/100 [01:14<07:04,  4.99s/it]\n",
      "Queries:  16%|#6        | 16/100 [01:19<06:55,  4.95s/it]\n",
      "Queries:  17%|#7        | 17/100 [01:24<06:48,  4.92s/it]\n",
      "Queries:  18%|#8        | 18/100 [01:29<06:45,  4.95s/it]\n",
      "Queries:  19%|#9        | 19/100 [01:34<06:38,  4.92s/it]\n",
      "Queries:  20%|##        | 20/100 [01:39<06:31,  4.89s/it]\n",
      "Queries:  21%|##1       | 21/100 [01:44<06:30,  4.95s/it]\n",
      "Queries:  22%|##2       | 22/100 [01:49<06:27,  4.96s/it]\n",
      "Queries:  23%|##3       | 23/100 [01:54<06:28,  5.05s/it]\n",
      "Queries:  24%|##4       | 24/100 [01:59<06:18,  4.98s/it]\n",
      "Queries:  25%|##5       | 25/100 [02:04<06:14,  4.99s/it]\n",
      "Queries:  26%|##6       | 26/100 [02:09<06:09,  4.99s/it]\n",
      "Queries:  27%|##7       | 27/100 [02:14<06:02,  4.97s/it]\n",
      "Queries:  28%|##8       | 28/100 [02:19<05:58,  4.98s/it]\n",
      "Queries:  29%|##9       | 29/100 [02:24<05:49,  4.93s/it]\n",
      "Queries:  30%|###       | 30/100 [02:28<05:42,  4.90s/it]\n",
      "Queries:  31%|###1      | 31/100 [02:34<05:41,  4.95s/it]\n",
      "Queries:  32%|###2      | 32/100 [02:39<05:39,  4.99s/it]\n",
      "Queries:  33%|###3      | 33/100 [02:44<05:33,  4.97s/it]\n",
      "Queries:  34%|###4      | 34/100 [02:48<05:25,  4.93s/it]\n",
      "Queries:  35%|###5      | 35/100 [02:53<05:21,  4.95s/it]\n",
      "Queries:  36%|###6      | 36/100 [02:58<05:16,  4.94s/it]\n",
      "Queries:  37%|###7      | 37/100 [03:03<05:12,  4.96s/it]\n",
      "Queries:  38%|###8      | 38/100 [03:08<05:08,  4.97s/it]\n",
      "Queries:  39%|###9      | 39/100 [03:13<05:00,  4.93s/it]\n",
      "Queries:  40%|####      | 40/100 [03:18<04:57,  4.95s/it]\n",
      "Queries:  41%|####1     | 41/100 [03:23<04:52,  4.97s/it]\n",
      "Queries:  42%|####2     | 42/100 [03:28<04:45,  4.92s/it]\n",
      "Queries:  43%|####3     | 43/100 [03:33<04:39,  4.90s/it]\n",
      "Queries:  44%|####4     | 44/100 [03:38<04:34,  4.91s/it]\n",
      "Queries:  45%|####5     | 45/100 [03:43<04:28,  4.88s/it]\n",
      "Queries:  46%|####6     | 46/100 [03:47<04:22,  4.86s/it]\n",
      "Queries:  47%|####6     | 47/100 [03:52<04:16,  4.85s/it]\n",
      "Queries:  48%|####8     | 48/100 [03:57<04:11,  4.84s/it]\n",
      "Queries:  49%|####9     | 49/100 [04:02<04:08,  4.86s/it]\n",
      "Queries:  50%|#####     | 50/100 [04:07<04:05,  4.91s/it]\n",
      "Queries:  51%|#####1    | 51/100 [04:12<03:59,  4.88s/it]\n",
      "Queries:  52%|#####2    | 52/100 [04:17<03:54,  4.89s/it]\n",
      "Queries:  53%|#####3    | 53/100 [04:21<03:48,  4.87s/it]\n",
      "Queries:  54%|#####4    | 54/100 [04:26<03:43,  4.86s/it]\n",
      "Queries:  55%|#####5    | 55/100 [04:31<03:38,  4.86s/it]\n",
      "Queries:  56%|#####6    | 56/100 [04:36<03:37,  4.94s/it]\n",
      "Queries:  57%|#####6    | 57/100 [04:41<03:31,  4.91s/it]\n",
      "Queries:  58%|#####8    | 58/100 [04:46<03:25,  4.88s/it]\n",
      "Queries:  59%|#####8    | 59/100 [04:51<03:21,  4.92s/it]\n",
      "Queries:  60%|######    | 60/100 [04:56<03:17,  4.94s/it]\n",
      "Queries:  61%|######1   | 61/100 [05:01<03:11,  4.91s/it]\n",
      "Queries:  62%|######2   | 62/100 [05:06<03:07,  4.94s/it]\n",
      "Queries:  63%|######3   | 63/100 [05:11<03:04,  4.98s/it]\n",
      "Queries:  64%|######4   | 64/100 [05:16<03:00,  5.01s/it]\n",
      "Queries:  65%|######5   | 65/100 [05:21<02:56,  5.03s/it]\n",
      "Queries:  66%|######6   | 66/100 [05:26<02:48,  4.97s/it]\n",
      "Queries:  67%|######7   | 67/100 [05:31<02:42,  4.93s/it]\n",
      "Queries:  68%|######8   | 68/100 [05:36<02:36,  4.90s/it]\n",
      "Queries:  69%|######9   | 69/100 [05:40<02:31,  4.88s/it]\n",
      "Queries:  70%|#######   | 70/100 [05:45<02:26,  4.87s/it]\n",
      "Queries:  71%|#######1  | 71/100 [05:50<02:21,  4.86s/it]\n",
      "Queries:  72%|#######2  | 72/100 [05:55<02:16,  4.86s/it]\n",
      "Queries:  73%|#######3  | 73/100 [06:00<02:11,  4.86s/it]\n",
      "Queries:  74%|#######4  | 74/100 [06:05<02:08,  4.93s/it]\n",
      "Queries:  75%|#######5  | 75/100 [06:10<02:02,  4.90s/it]\n",
      "Queries:  76%|#######6  | 76/100 [06:15<01:58,  4.93s/it]\n",
      "Queries:  77%|#######7  | 77/100 [06:20<01:52,  4.90s/it]\n",
      "Queries:  78%|#######8  | 78/100 [06:25<01:48,  4.93s/it]\n",
      "Queries:  79%|#######9  | 79/100 [06:29<01:42,  4.90s/it]\n",
      "Queries:  80%|########  | 80/100 [06:34<01:39,  4.95s/it]\n",
      "Queries:  81%|########1 | 81/100 [06:39<01:33,  4.92s/it]\n",
      "Queries:  82%|########2 | 82/100 [06:44<01:28,  4.89s/it]\n",
      "Queries:  83%|########2 | 83/100 [06:49<01:22,  4.88s/it]\n",
      "Queries:  84%|########4 | 84/100 [06:54<01:17,  4.86s/it]\n",
      "Queries:  85%|########5 | 85/100 [06:59<01:13,  4.92s/it]\n",
      "Queries:  86%|########6 | 86/100 [07:04<01:09,  4.94s/it]\n",
      "Queries:  87%|########7 | 87/100 [07:09<01:03,  4.91s/it]\n",
      "Queries:  88%|########8 | 88/100 [07:14<00:58,  4.91s/it]\n",
      "Queries:  89%|########9 | 89/100 [07:18<00:53,  4.89s/it]\n",
      "Queries:  90%|######### | 90/100 [07:23<00:48,  4.87s/it]\n",
      "Queries:  91%|#########1| 91/100 [07:28<00:44,  4.91s/it]\n",
      "Queries:  92%|#########2| 92/100 [07:33<00:39,  4.97s/it]\n",
      "Queries:  93%|#########3| 93/100 [07:38<00:34,  4.93s/it]\n",
      "Queries:  94%|#########3| 94/100 [07:43<00:29,  4.90s/it]\n",
      "Queries:  95%|#########5| 95/100 [07:48<00:24,  4.88s/it]\n",
      "Queries:  96%|#########6| 96/100 [07:53<00:19,  4.88s/it]\n",
      "Queries:  97%|#########7| 97/100 [07:58<00:14,  4.92s/it]\n",
      "Queries:  98%|#########8| 98/100 [08:03<00:09,  4.97s/it]\n",
      "Queries:  99%|#########9| 99/100 [08:08<00:04,  4.93s/it]\n",
      "Queries: 100%|##########| 100/100 [08:13<00:00,  4.90s/it]\n",
      "Queries: 100%|##########| 100/100 [08:13<00:00,  4.93s/it]\n"
     ]
    },
    {
     "data": {
      "text/html": [
       "<pre style=\"white-space:pre;overflow-x:auto;line-height:normal;font-family:Menlo,'DejaVu Sans Mono',consolas,'Courier New',monospace\">Total Processing Time: <span style=\"color: #008080; text-decoration-color: #008080; font-weight: bold\">8.22</span> minutes\n",
       "</pre>\n"
      ],
      "text/plain": [
       "Total Processing Time: \u001b[1;36m8.22\u001b[0m minutes\n"
      ]
     },
     "metadata": {},
     "output_type": "display_data"
    },
    {
     "data": {
      "text/html": [
       "<pre style=\"white-space:pre;overflow-x:auto;line-height:normal;font-family:Menlo,'DejaVu Sans Mono',consolas,'Courier New',monospace\"><span style=\"color: #008080; text-decoration-color: #008080; font-weight: bold\">0.85</span> <span style=\"color: #008080; text-decoration-color: #008080; font-weight: bold\">0.22943387267826973</span> <span style=\"color: #008080; text-decoration-color: #008080; font-weight: bold\">512</span> <span style=\"color: #008080; text-decoration-color: #008080; font-weight: bold\">40</span>\n",
       "</pre>\n"
      ],
      "text/plain": [
       "\u001b[1;36m0.85\u001b[0m \u001b[1;36m0.22943387267826973\u001b[0m \u001b[1;36m512\u001b[0m \u001b[1;36m40\u001b[0m\n"
      ]
     },
     "metadata": {},
     "output_type": "display_data"
    },
    {
     "name": "stdout",
     "output_type": "stream",
     "text": [
      " 50%|█████     | 25/50 [3:51:15<4:08:03, 595.34s/trial, best loss: -0.88]"
     ]
    },
    {
     "data": {
      "text/html": [
       "<pre style=\"white-space:pre;overflow-x:auto;line-height:normal;font-family:Menlo,'DejaVu Sans Mono',consolas,'Courier New',monospace\"><span style=\"color: #008080; text-decoration-color: #008080; font-weight: bold\">0.7840036691301278</span> <span style=\"color: #008080; text-decoration-color: #008080; font-weight: bold\">512</span> <span style=\"color: #008080; text-decoration-color: #008080; font-weight: bold\">60</span>\n",
       "</pre>\n"
      ],
      "text/plain": [
       "\u001b[1;36m0.7840036691301278\u001b[0m \u001b[1;36m512\u001b[0m \u001b[1;36m60\u001b[0m\n"
      ]
     },
     "metadata": {},
     "output_type": "display_data"
    },
    {
     "name": "stderr",
     "output_type": "stream",
     "text": [
      "Queries:   0%|          | 0/100 [00:00<?, ?it/s]\n",
      "Queries:   1%|1         | 1/100 [00:07<11:57,  7.25s/it]\n",
      "Queries:   2%|2         | 2/100 [00:14<11:49,  7.24s/it]\n",
      "Queries:   3%|3         | 3/100 [00:21<11:43,  7.25s/it]\n",
      "Queries:   4%|4         | 4/100 [00:29<11:36,  7.25s/it]\n",
      "Queries:   5%|5         | 5/100 [00:36<11:29,  7.26s/it]\n",
      "Queries:   6%|6         | 6/100 [00:43<11:22,  7.26s/it]\n",
      "Queries:   7%|7         | 7/100 [00:50<11:14,  7.25s/it]\n",
      "Queries:   8%|8         | 8/100 [00:57<11:06,  7.24s/it]\n",
      "Queries:   9%|9         | 9/100 [01:05<10:59,  7.24s/it]\n",
      "Queries:  10%|#         | 10/100 [01:12<10:52,  7.24s/it]\n",
      "Queries:  11%|#1        | 11/100 [01:19<10:44,  7.24s/it]\n",
      "Queries:  12%|#2        | 12/100 [01:26<10:36,  7.24s/it]\n",
      "Queries:  13%|#3        | 13/100 [01:34<10:29,  7.24s/it]\n",
      "Queries:  14%|#4        | 14/100 [01:41<10:22,  7.24s/it]\n",
      "Queries:  15%|#5        | 15/100 [01:48<10:15,  7.24s/it]\n",
      "Queries:  16%|#6        | 16/100 [01:55<10:07,  7.24s/it]\n",
      "Queries:  17%|#7        | 17/100 [02:03<10:01,  7.25s/it]\n",
      "Queries:  18%|#8        | 18/100 [02:10<09:54,  7.25s/it]\n",
      "Queries:  19%|#9        | 19/100 [02:17<09:48,  7.26s/it]\n",
      "Queries:  20%|##        | 20/100 [02:24<09:41,  7.27s/it]\n",
      "Queries:  21%|##1       | 21/100 [02:32<09:33,  7.26s/it]\n",
      "Queries:  22%|##2       | 22/100 [02:39<09:26,  7.26s/it]\n",
      "Queries:  23%|##3       | 23/100 [02:46<09:19,  7.27s/it]\n",
      "Queries:  24%|##4       | 24/100 [02:54<09:13,  7.28s/it]\n",
      "Queries:  25%|##5       | 25/100 [03:01<09:05,  7.28s/it]\n",
      "Queries:  26%|##6       | 26/100 [03:08<08:58,  7.27s/it]\n",
      "Queries:  27%|##7       | 27/100 [03:15<08:50,  7.27s/it]\n",
      "Queries:  28%|##8       | 28/100 [03:23<08:42,  7.26s/it]\n",
      "Queries:  29%|##9       | 29/100 [03:30<08:33,  7.23s/it]\n",
      "Queries:  30%|###       | 30/100 [03:37<08:25,  7.23s/it]\n",
      "Queries:  31%|###1      | 31/100 [03:44<08:18,  7.22s/it]\n",
      "Queries:  32%|###2      | 32/100 [03:51<08:10,  7.22s/it]\n",
      "Queries:  33%|###3      | 33/100 [03:59<08:03,  7.21s/it]\n",
      "Queries:  34%|###4      | 34/100 [04:06<07:57,  7.23s/it]\n",
      "Queries:  35%|###5      | 35/100 [04:13<07:50,  7.24s/it]\n",
      "Queries:  36%|###6      | 36/100 [04:20<07:43,  7.25s/it]\n",
      "Queries:  37%|###7      | 37/100 [04:28<07:36,  7.25s/it]\n",
      "Queries:  38%|###8      | 38/100 [04:35<07:29,  7.25s/it]\n",
      "Queries:  39%|###9      | 39/100 [04:42<07:22,  7.25s/it]\n",
      "Queries:  40%|####      | 40/100 [04:49<07:14,  7.24s/it]\n",
      "Queries:  41%|####1     | 41/100 [04:57<07:06,  7.23s/it]\n",
      "Queries:  42%|####2     | 42/100 [05:04<06:59,  7.23s/it]\n",
      "Queries:  43%|####3     | 43/100 [05:11<06:52,  7.24s/it]\n",
      "Queries:  44%|####4     | 44/100 [05:18<06:45,  7.25s/it]\n",
      "Queries:  45%|####5     | 45/100 [05:26<06:39,  7.26s/it]\n",
      "Queries:  46%|####6     | 46/100 [05:33<06:31,  7.25s/it]\n",
      "Queries:  47%|####6     | 47/100 [05:40<06:23,  7.24s/it]\n",
      "Queries:  48%|####8     | 48/100 [05:47<06:16,  7.24s/it]\n",
      "Queries:  49%|####9     | 49/100 [05:55<06:08,  7.23s/it]\n",
      "Queries:  50%|#####     | 50/100 [06:02<06:01,  7.23s/it]\n",
      "Queries:  51%|#####1    | 51/100 [06:09<05:54,  7.23s/it]\n",
      "Queries:  52%|#####2    | 52/100 [06:16<05:46,  7.23s/it]\n",
      "Queries:  53%|#####3    | 53/100 [06:23<05:39,  7.22s/it]\n",
      "Queries:  54%|#####4    | 54/100 [06:31<05:32,  7.23s/it]\n",
      "Queries:  55%|#####5    | 55/100 [06:38<05:25,  7.24s/it]\n",
      "Queries:  56%|#####6    | 56/100 [06:45<05:19,  7.25s/it]\n",
      "Queries:  57%|#####6    | 57/100 [06:52<05:11,  7.25s/it]\n",
      "Queries:  58%|#####8    | 58/100 [07:00<05:04,  7.25s/it]\n",
      "Queries:  59%|#####8    | 59/100 [07:07<04:56,  7.24s/it]\n",
      "Queries:  60%|######    | 60/100 [07:14<04:49,  7.23s/it]\n",
      "Queries:  61%|######1   | 61/100 [07:21<04:41,  7.22s/it]\n",
      "Queries:  62%|######2   | 62/100 [07:29<04:34,  7.23s/it]\n",
      "Queries:  63%|######3   | 63/100 [07:36<04:27,  7.23s/it]\n",
      "Queries:  64%|######4   | 64/100 [07:43<04:19,  7.22s/it]\n",
      "Queries:  65%|######5   | 65/100 [07:50<04:12,  7.23s/it]\n",
      "Queries:  66%|######6   | 66/100 [07:58<04:06,  7.24s/it]\n",
      "Queries:  67%|######7   | 67/100 [08:05<03:59,  7.25s/it]\n",
      "Queries:  68%|######8   | 68/100 [08:12<03:51,  7.25s/it]\n",
      "Queries:  69%|######9   | 69/100 [08:19<03:44,  7.25s/it]\n",
      "Queries:  70%|#######   | 70/100 [08:27<03:37,  7.25s/it]\n",
      "Queries:  71%|#######1  | 71/100 [08:34<03:30,  7.24s/it]\n",
      "Queries:  72%|#######2  | 72/100 [08:41<03:22,  7.24s/it]\n",
      "Queries:  73%|#######3  | 73/100 [08:48<03:15,  7.24s/it]\n",
      "Queries:  74%|#######4  | 74/100 [08:55<03:08,  7.24s/it]\n",
      "Queries:  75%|#######5  | 75/100 [09:03<03:00,  7.23s/it]\n",
      "Queries:  76%|#######6  | 76/100 [09:10<02:53,  7.23s/it]\n",
      "Queries:  77%|#######7  | 77/100 [09:17<02:48,  7.32s/it]\n",
      "Queries:  78%|#######8  | 78/100 [09:25<02:40,  7.29s/it]\n",
      "Queries:  79%|#######9  | 79/100 [09:32<02:32,  7.28s/it]\n",
      "Queries:  80%|########  | 80/100 [09:39<02:25,  7.27s/it]\n",
      "Queries:  81%|########1 | 81/100 [09:46<02:18,  7.26s/it]\n",
      "Queries:  82%|########2 | 82/100 [09:54<02:10,  7.26s/it]\n",
      "Queries:  83%|########2 | 83/100 [10:01<02:03,  7.25s/it]\n",
      "Queries:  84%|########4 | 84/100 [10:08<01:55,  7.24s/it]\n",
      "Queries:  85%|########5 | 85/100 [10:15<01:48,  7.23s/it]\n",
      "Queries:  86%|########6 | 86/100 [10:23<01:41,  7.22s/it]\n",
      "Queries:  87%|########7 | 87/100 [10:30<01:33,  7.22s/it]\n",
      "Queries:  88%|########8 | 88/100 [10:37<01:26,  7.23s/it]\n",
      "Queries:  89%|########9 | 89/100 [10:44<01:19,  7.24s/it]\n",
      "Queries:  90%|######### | 90/100 [10:52<01:12,  7.25s/it]\n",
      "Queries:  91%|#########1| 91/100 [10:59<01:05,  7.25s/it]\n",
      "Queries:  92%|#########2| 92/100 [11:06<00:57,  7.24s/it]\n",
      "Queries:  93%|#########3| 93/100 [11:13<00:50,  7.24s/it]\n",
      "Queries:  94%|#########3| 94/100 [11:20<00:43,  7.24s/it]\n",
      "Queries:  95%|#########5| 95/100 [11:28<00:36,  7.24s/it]\n",
      "Queries:  96%|#########6| 96/100 [11:35<00:28,  7.24s/it]\n",
      "Queries:  97%|#########7| 97/100 [11:42<00:21,  7.24s/it]\n",
      "Queries:  98%|#########8| 98/100 [11:49<00:14,  7.25s/it]\n",
      "Queries:  99%|#########9| 99/100 [11:57<00:07,  7.25s/it]\n",
      "Queries: 100%|##########| 100/100 [12:04<00:00,  7.25s/it]\n",
      "Queries: 100%|##########| 100/100 [12:04<00:00,  7.24s/it]\n"
     ]
    },
    {
     "data": {
      "text/html": [
       "<pre style=\"white-space:pre;overflow-x:auto;line-height:normal;font-family:Menlo,'DejaVu Sans Mono',consolas,'Courier New',monospace\">Total Processing Time: <span style=\"color: #008080; text-decoration-color: #008080; font-weight: bold\">12.07</span> minutes\n",
       "</pre>\n"
      ],
      "text/plain": [
       "Total Processing Time: \u001b[1;36m12.07\u001b[0m minutes\n"
      ]
     },
     "metadata": {},
     "output_type": "display_data"
    },
    {
     "data": {
      "text/html": [
       "<pre style=\"white-space:pre;overflow-x:auto;line-height:normal;font-family:Menlo,'DejaVu Sans Mono',consolas,'Courier New',monospace\"><span style=\"color: #008080; text-decoration-color: #008080; font-weight: bold\">0.88</span> <span style=\"color: #008080; text-decoration-color: #008080; font-weight: bold\">0.7840036691301278</span> <span style=\"color: #008080; text-decoration-color: #008080; font-weight: bold\">512</span> <span style=\"color: #008080; text-decoration-color: #008080; font-weight: bold\">60</span>\n",
       "</pre>\n"
      ],
      "text/plain": [
       "\u001b[1;36m0.88\u001b[0m \u001b[1;36m0.7840036691301278\u001b[0m \u001b[1;36m512\u001b[0m \u001b[1;36m60\u001b[0m\n"
      ]
     },
     "metadata": {},
     "output_type": "display_data"
    },
    {
     "name": "stdout",
     "output_type": "stream",
     "text": [
      " 52%|█████▏    | 26/50 [4:03:19<4:13:37, 634.08s/trial, best loss: -0.88]"
     ]
    },
    {
     "data": {
      "text/html": [
       "<pre style=\"white-space:pre;overflow-x:auto;line-height:normal;font-family:Menlo,'DejaVu Sans Mono',consolas,'Courier New',monospace\"><span style=\"color: #008080; text-decoration-color: #008080; font-weight: bold\">0.773653302591804</span> <span style=\"color: #008080; text-decoration-color: #008080; font-weight: bold\">512</span> <span style=\"color: #008080; text-decoration-color: #008080; font-weight: bold\">60</span>\n",
       "</pre>\n"
      ],
      "text/plain": [
       "\u001b[1;36m0.773653302591804\u001b[0m \u001b[1;36m512\u001b[0m \u001b[1;36m60\u001b[0m\n"
      ]
     },
     "metadata": {},
     "output_type": "display_data"
    },
    {
     "name": "stderr",
     "output_type": "stream",
     "text": [
      "Queries:   0%|          | 0/100 [00:00<?, ?it/s]\n",
      "Queries:   1%|1         | 1/100 [00:07<11:58,  7.26s/it]\n",
      "Queries:   2%|2         | 2/100 [00:14<12:06,  7.41s/it]\n",
      "Queries:   3%|3         | 3/100 [00:21<11:50,  7.32s/it]\n",
      "Queries:   4%|4         | 4/100 [00:29<11:39,  7.29s/it]\n",
      "Queries:   5%|5         | 5/100 [00:36<11:31,  7.28s/it]\n",
      "Queries:   6%|6         | 6/100 [00:43<11:23,  7.28s/it]\n",
      "Queries:   7%|7         | 7/100 [00:51<11:17,  7.28s/it]\n",
      "Queries:   8%|8         | 8/100 [00:58<11:09,  7.28s/it]\n",
      "Queries:   9%|9         | 9/100 [01:05<11:02,  7.28s/it]\n",
      "Queries:  10%|#         | 10/100 [01:13<11:00,  7.34s/it]\n",
      "Queries:  11%|#1        | 11/100 [01:20<10:50,  7.30s/it]\n",
      "Queries:  12%|#2        | 12/100 [01:27<10:47,  7.36s/it]\n",
      "Queries:  13%|#3        | 13/100 [01:35<10:37,  7.32s/it]\n",
      "Queries:  14%|#4        | 14/100 [01:42<10:27,  7.30s/it]\n",
      "Queries:  15%|#5        | 15/100 [01:49<10:18,  7.28s/it]\n",
      "Queries:  16%|#6        | 16/100 [01:56<10:09,  7.26s/it]\n",
      "Queries:  17%|#7        | 17/100 [02:03<10:02,  7.26s/it]\n",
      "Queries:  18%|#8        | 18/100 [02:11<09:55,  7.26s/it]\n",
      "Queries:  19%|#9        | 19/100 [02:18<09:48,  7.26s/it]\n",
      "Queries:  20%|##        | 20/100 [02:25<09:40,  7.26s/it]\n",
      "Queries:  21%|##1       | 21/100 [02:33<09:39,  7.33s/it]\n",
      "Queries:  22%|##2       | 22/100 [02:40<09:29,  7.30s/it]\n",
      "Queries:  23%|##3       | 23/100 [02:47<09:20,  7.28s/it]\n",
      "Queries:  24%|##4       | 24/100 [02:54<09:12,  7.26s/it]\n",
      "Queries:  25%|##5       | 25/100 [03:02<09:03,  7.25s/it]\n",
      "Queries:  26%|##6       | 26/100 [03:09<08:56,  7.24s/it]\n",
      "Queries:  27%|##7       | 27/100 [03:16<08:48,  7.25s/it]\n",
      "Queries:  28%|##8       | 28/100 [03:23<08:42,  7.25s/it]\n",
      "Queries:  29%|##9       | 29/100 [03:31<08:33,  7.24s/it]\n",
      "Queries:  30%|###       | 30/100 [03:38<08:32,  7.32s/it]\n",
      "Queries:  31%|###1      | 31/100 [03:45<08:23,  7.29s/it]\n",
      "Queries:  32%|###2      | 32/100 [03:53<08:14,  7.27s/it]\n",
      "Queries:  33%|###3      | 33/100 [04:00<08:05,  7.24s/it]\n",
      "Queries:  34%|###4      | 34/100 [04:07<07:57,  7.23s/it]\n",
      "Queries:  35%|###5      | 35/100 [04:14<07:49,  7.23s/it]\n",
      "Queries:  36%|###6      | 36/100 [04:21<07:42,  7.22s/it]\n",
      "Queries:  37%|###7      | 37/100 [04:29<07:35,  7.24s/it]\n",
      "Queries:  38%|###8      | 38/100 [04:36<07:33,  7.32s/it]\n",
      "Queries:  39%|###9      | 39/100 [04:43<07:25,  7.30s/it]\n",
      "Queries:  40%|####      | 40/100 [04:51<07:17,  7.29s/it]\n",
      "Queries:  41%|####1     | 41/100 [04:58<07:09,  7.27s/it]\n",
      "Queries:  42%|####2     | 42/100 [05:05<07:01,  7.27s/it]\n",
      "Queries:  43%|####3     | 43/100 [05:12<06:53,  7.26s/it]\n",
      "Queries:  44%|####4     | 44/100 [05:20<06:54,  7.39s/it]\n",
      "Queries:  45%|####5     | 45/100 [05:27<06:44,  7.35s/it]\n",
      "Queries:  46%|####6     | 46/100 [05:35<06:35,  7.32s/it]\n",
      "Queries:  47%|####6     | 47/100 [05:42<06:32,  7.41s/it]\n",
      "Queries:  48%|####8     | 48/100 [05:49<06:22,  7.36s/it]\n",
      "Queries:  49%|####9     | 49/100 [05:57<06:13,  7.32s/it]\n",
      "Queries:  50%|#####     | 50/100 [06:04<06:05,  7.31s/it]\n",
      "Queries:  51%|#####1    | 51/100 [06:11<05:57,  7.29s/it]\n",
      "Queries:  52%|#####2    | 52/100 [06:18<05:49,  7.27s/it]\n",
      "Queries:  53%|#####3    | 53/100 [06:26<05:41,  7.26s/it]\n",
      "Queries:  54%|#####4    | 54/100 [06:33<05:36,  7.32s/it]\n",
      "Queries:  55%|#####5    | 55/100 [06:41<05:31,  7.37s/it]\n",
      "Queries:  56%|#####6    | 56/100 [06:48<05:22,  7.32s/it]\n",
      "Queries:  57%|#####6    | 57/100 [06:55<05:13,  7.29s/it]\n",
      "Queries:  58%|#####8    | 58/100 [07:02<05:05,  7.28s/it]\n",
      "Queries:  59%|#####8    | 59/100 [07:10<04:58,  7.27s/it]\n",
      "Queries:  60%|######    | 60/100 [07:17<04:50,  7.27s/it]\n",
      "Queries:  61%|######1   | 61/100 [07:24<04:43,  7.27s/it]\n",
      "Queries:  62%|######2   | 62/100 [07:31<04:35,  7.26s/it]\n",
      "Queries:  63%|######3   | 63/100 [07:39<04:28,  7.25s/it]\n",
      "Queries:  64%|######4   | 64/100 [07:46<04:20,  7.24s/it]\n",
      "Queries:  65%|######5   | 65/100 [07:53<04:13,  7.24s/it]\n",
      "Queries:  66%|######6   | 66/100 [08:00<04:06,  7.24s/it]\n",
      "Queries:  67%|######7   | 67/100 [08:08<03:59,  7.25s/it]\n",
      "Queries:  68%|######8   | 68/100 [08:15<03:52,  7.25s/it]\n",
      "Queries:  69%|######9   | 69/100 [08:22<03:44,  7.25s/it]\n",
      "Queries:  70%|#######   | 70/100 [08:29<03:37,  7.25s/it]\n",
      "Queries:  71%|#######1  | 71/100 [08:37<03:30,  7.24s/it]\n",
      "Queries:  72%|#######2  | 72/100 [08:44<03:22,  7.24s/it]\n",
      "Queries:  73%|#######3  | 73/100 [08:51<03:15,  7.24s/it]\n",
      "Queries:  74%|#######4  | 74/100 [08:58<03:08,  7.24s/it]\n",
      "Queries:  75%|#######5  | 75/100 [09:05<03:00,  7.24s/it]\n",
      "Queries:  76%|#######6  | 76/100 [09:13<02:53,  7.23s/it]\n",
      "Queries:  77%|#######7  | 77/100 [09:20<02:46,  7.23s/it]\n",
      "Queries:  78%|#######8  | 78/100 [09:27<02:39,  7.24s/it]\n",
      "Queries:  79%|#######9  | 79/100 [09:34<02:32,  7.25s/it]\n",
      "Queries:  80%|########  | 80/100 [09:42<02:25,  7.26s/it]\n",
      "Queries:  81%|########1 | 81/100 [09:49<02:17,  7.26s/it]\n",
      "Queries:  82%|########2 | 82/100 [09:56<02:10,  7.25s/it]\n",
      "Queries:  83%|########2 | 83/100 [10:03<02:03,  7.24s/it]\n",
      "Queries:  84%|########4 | 84/100 [10:11<01:55,  7.24s/it]\n",
      "Queries:  85%|########5 | 85/100 [10:18<01:48,  7.22s/it]\n",
      "Queries:  86%|########6 | 86/100 [10:25<01:40,  7.21s/it]\n",
      "Queries:  87%|########7 | 87/100 [10:32<01:33,  7.21s/it]\n",
      "Queries:  88%|########8 | 88/100 [10:39<01:26,  7.22s/it]\n",
      "Queries:  89%|########9 | 89/100 [10:47<01:19,  7.24s/it]\n",
      "Queries:  90%|######### | 90/100 [10:54<01:12,  7.25s/it]\n",
      "Queries:  91%|#########1| 91/100 [11:01<01:05,  7.25s/it]\n",
      "Queries:  92%|#########2| 92/100 [11:09<00:58,  7.25s/it]\n",
      "Queries:  93%|#########3| 93/100 [11:16<00:50,  7.26s/it]\n",
      "Queries:  94%|#########3| 94/100 [11:23<00:43,  7.25s/it]\n",
      "Queries:  95%|#########5| 95/100 [11:30<00:36,  7.25s/it]\n",
      "Queries:  96%|#########6| 96/100 [11:38<00:28,  7.24s/it]\n",
      "Queries:  97%|#########7| 97/100 [11:45<00:21,  7.23s/it]\n",
      "Queries:  98%|#########8| 98/100 [11:52<00:14,  7.23s/it]\n",
      "Queries:  99%|#########9| 99/100 [11:59<00:07,  7.24s/it]\n",
      "Queries: 100%|##########| 100/100 [12:06<00:00,  7.24s/it]\n",
      "Queries: 100%|##########| 100/100 [12:06<00:00,  7.27s/it]\n"
     ]
    },
    {
     "data": {
      "text/html": [
       "<pre style=\"white-space:pre;overflow-x:auto;line-height:normal;font-family:Menlo,'DejaVu Sans Mono',consolas,'Courier New',monospace\">Total Processing Time: <span style=\"color: #008080; text-decoration-color: #008080; font-weight: bold\">12.12</span> minutes\n",
       "</pre>\n"
      ],
      "text/plain": [
       "Total Processing Time: \u001b[1;36m12.12\u001b[0m minutes\n"
      ]
     },
     "metadata": {},
     "output_type": "display_data"
    },
    {
     "data": {
      "text/html": [
       "<pre style=\"white-space:pre;overflow-x:auto;line-height:normal;font-family:Menlo,'DejaVu Sans Mono',consolas,'Courier New',monospace\"><span style=\"color: #008080; text-decoration-color: #008080; font-weight: bold\">0.88</span> <span style=\"color: #008080; text-decoration-color: #008080; font-weight: bold\">0.773653302591804</span> <span style=\"color: #008080; text-decoration-color: #008080; font-weight: bold\">512</span> <span style=\"color: #008080; text-decoration-color: #008080; font-weight: bold\">60</span>\n",
       "</pre>\n"
      ],
      "text/plain": [
       "\u001b[1;36m0.88\u001b[0m \u001b[1;36m0.773653302591804\u001b[0m \u001b[1;36m512\u001b[0m \u001b[1;36m60\u001b[0m\n"
      ]
     },
     "metadata": {},
     "output_type": "display_data"
    },
    {
     "name": "stdout",
     "output_type": "stream",
     "text": [
      " 54%|█████▍    | 27/50 [4:15:26<4:13:45, 661.96s/trial, best loss: -0.88]"
     ]
    },
    {
     "data": {
      "text/html": [
       "<pre style=\"white-space:pre;overflow-x:auto;line-height:normal;font-family:Menlo,'DejaVu Sans Mono',consolas,'Courier New',monospace\"><span style=\"color: #008080; text-decoration-color: #008080; font-weight: bold\">0.5314297512651065</span> <span style=\"color: #008080; text-decoration-color: #008080; font-weight: bold\">512</span> <span style=\"color: #008080; text-decoration-color: #008080; font-weight: bold\">100</span>\n",
       "</pre>\n"
      ],
      "text/plain": [
       "\u001b[1;36m0.5314297512651065\u001b[0m \u001b[1;36m512\u001b[0m \u001b[1;36m100\u001b[0m\n"
      ]
     },
     "metadata": {},
     "output_type": "display_data"
    },
    {
     "name": "stderr",
     "output_type": "stream",
     "text": [
      "Queries:   0%|          | 0/100 [00:00<?, ?it/s]\n",
      "Queries:   1%|1         | 1/100 [00:11<18:52, 11.44s/it]\n",
      "Queries:   2%|2         | 2/100 [00:22<18:38, 11.41s/it]\n",
      "Queries:   3%|3         | 3/100 [00:34<18:25, 11.40s/it]\n",
      "Queries:   4%|4         | 4/100 [00:45<18:12, 11.38s/it]\n",
      "Queries:   5%|5         | 5/100 [00:56<18:00, 11.38s/it]\n",
      "Queries:   6%|6         | 6/100 [01:08<17:50, 11.39s/it]\n",
      "Queries:   7%|7         | 7/100 [01:19<17:40, 11.41s/it]\n",
      "Queries:   8%|8         | 8/100 [01:31<17:30, 11.41s/it]\n",
      "Queries:   9%|9         | 9/100 [01:42<17:19, 11.42s/it]\n",
      "Queries:  10%|#         | 10/100 [01:54<17:07, 11.42s/it]\n",
      "Queries:  11%|#1        | 11/100 [02:05<16:55, 11.41s/it]\n",
      "Queries:  12%|#2        | 12/100 [02:16<16:43, 11.40s/it]\n",
      "Queries:  13%|#3        | 13/100 [02:28<16:32, 11.41s/it]\n",
      "Queries:  14%|#4        | 14/100 [02:39<16:22, 11.42s/it]\n",
      "Queries:  15%|#5        | 15/100 [02:51<16:11, 11.42s/it]\n",
      "Queries:  16%|#6        | 16/100 [03:02<15:58, 11.42s/it]\n",
      "Queries:  17%|#7        | 17/100 [03:13<15:46, 11.41s/it]\n",
      "Queries:  18%|#8        | 18/100 [03:25<15:34, 11.40s/it]\n",
      "Queries:  19%|#9        | 19/100 [03:36<15:24, 11.41s/it]\n",
      "Queries:  20%|##        | 20/100 [03:48<15:13, 11.42s/it]\n",
      "Queries:  21%|##1       | 21/100 [03:59<15:02, 11.43s/it]\n",
      "Queries:  22%|##2       | 22/100 [04:11<14:51, 11.43s/it]\n",
      "Queries:  23%|##3       | 23/100 [04:22<14:39, 11.42s/it]\n",
      "Queries:  24%|##4       | 24/100 [04:33<14:26, 11.40s/it]\n",
      "Queries:  25%|##5       | 25/100 [04:45<14:14, 11.40s/it]\n",
      "Queries:  26%|##6       | 26/100 [04:56<14:03, 11.40s/it]\n",
      "Queries:  27%|##7       | 27/100 [05:08<13:53, 11.42s/it]\n",
      "Queries:  28%|##8       | 28/100 [05:19<13:43, 11.43s/it]\n",
      "Queries:  29%|##9       | 29/100 [05:30<13:29, 11.40s/it]\n",
      "Queries:  30%|###       | 30/100 [05:42<13:17, 11.40s/it]\n",
      "Queries:  31%|###1      | 31/100 [05:53<13:06, 11.40s/it]\n",
      "Queries:  32%|###2      | 32/100 [06:05<12:55, 11.41s/it]\n",
      "Queries:  33%|###3      | 33/100 [06:16<12:45, 11.43s/it]\n",
      "Queries:  34%|###4      | 34/100 [06:28<12:34, 11.44s/it]\n",
      "Queries:  35%|###5      | 35/100 [06:39<12:23, 11.43s/it]\n",
      "Queries:  36%|###6      | 36/100 [06:50<12:10, 11.42s/it]\n",
      "Queries:  37%|###7      | 37/100 [07:02<11:58, 11.40s/it]\n",
      "Queries:  38%|###8      | 38/100 [07:13<11:47, 11.41s/it]\n",
      "Queries:  39%|###9      | 39/100 [07:25<11:36, 11.41s/it]\n",
      "Queries:  40%|####      | 40/100 [07:36<11:24, 11.41s/it]\n",
      "Queries:  41%|####1     | 41/100 [07:48<11:18, 11.51s/it]\n",
      "Queries:  42%|####2     | 42/100 [07:59<11:06, 11.49s/it]\n",
      "Queries:  43%|####3     | 43/100 [08:11<10:54, 11.48s/it]\n",
      "Queries:  44%|####4     | 44/100 [08:22<10:42, 11.47s/it]\n",
      "Queries:  45%|####5     | 45/100 [08:34<10:30, 11.47s/it]\n",
      "Queries:  46%|####6     | 46/100 [08:45<10:19, 11.47s/it]\n",
      "Queries:  47%|####6     | 47/100 [08:57<10:12, 11.55s/it]\n",
      "Queries:  48%|####8     | 48/100 [09:08<09:58, 11.51s/it]\n",
      "Queries:  49%|####9     | 49/100 [09:20<09:45, 11.49s/it]\n",
      "Queries:  50%|#####     | 50/100 [09:31<09:33, 11.47s/it]\n",
      "Queries:  51%|#####1    | 51/100 [09:42<09:21, 11.47s/it]\n",
      "Queries:  52%|#####2    | 52/100 [09:54<09:13, 11.54s/it]\n",
      "Queries:  53%|#####3    | 53/100 [10:06<09:04, 11.58s/it]\n",
      "Queries:  54%|#####4    | 54/100 [10:18<08:54, 11.62s/it]\n",
      "Queries:  55%|#####5    | 55/100 [10:29<08:40, 11.56s/it]\n",
      "Queries:  56%|#####6    | 56/100 [10:40<08:27, 11.53s/it]\n",
      "Queries:  57%|#####6    | 57/100 [10:52<08:14, 11.50s/it]\n",
      "Queries:  58%|#####8    | 58/100 [11:03<08:02, 11.49s/it]\n",
      "Queries:  59%|#####8    | 59/100 [11:15<07:50, 11.47s/it]\n",
      "Queries:  60%|######    | 60/100 [11:26<07:41, 11.54s/it]\n",
      "Queries:  61%|######1   | 61/100 [11:38<07:28, 11.50s/it]\n",
      "Queries:  62%|######2   | 62/100 [11:49<07:16, 11.48s/it]\n",
      "Queries:  63%|######3   | 63/100 [12:01<07:04, 11.47s/it]\n",
      "Queries:  64%|######4   | 64/100 [12:12<06:52, 11.47s/it]\n",
      "Queries:  65%|######5   | 65/100 [12:24<06:41, 11.46s/it]\n",
      "Queries:  66%|######6   | 66/100 [12:35<06:29, 11.45s/it]\n",
      "Queries:  67%|######7   | 67/100 [12:47<06:18, 11.46s/it]\n",
      "Queries:  68%|######8   | 68/100 [12:58<06:06, 11.44s/it]\n",
      "Queries:  69%|######9   | 69/100 [13:09<05:54, 11.45s/it]\n",
      "Queries:  70%|#######   | 70/100 [13:21<05:43, 11.45s/it]\n",
      "Queries:  71%|#######1  | 71/100 [13:32<05:31, 11.44s/it]\n",
      "Queries:  72%|#######2  | 72/100 [13:44<05:20, 11.43s/it]\n",
      "Queries:  73%|#######3  | 73/100 [13:55<05:08, 11.43s/it]\n",
      "Queries:  74%|#######4  | 74/100 [14:07<04:57, 11.42s/it]\n",
      "Queries:  75%|#######5  | 75/100 [14:18<04:45, 11.42s/it]\n",
      "Queries:  76%|#######6  | 76/100 [14:29<04:34, 11.43s/it]\n",
      "Queries:  77%|#######7  | 77/100 [14:41<04:23, 11.44s/it]\n",
      "Queries:  78%|#######8  | 78/100 [14:52<04:11, 11.44s/it]\n",
      "Queries:  79%|#######9  | 79/100 [15:04<04:00, 11.44s/it]\n",
      "Queries:  80%|########  | 80/100 [15:15<03:48, 11.43s/it]\n",
      "Queries:  81%|########1 | 81/100 [15:27<03:36, 11.42s/it]\n",
      "Queries:  82%|########2 | 82/100 [15:38<03:25, 11.42s/it]\n",
      "Queries:  83%|########2 | 83/100 [15:49<03:14, 11.43s/it]\n",
      "Queries:  84%|########4 | 84/100 [16:01<03:03, 11.44s/it]\n",
      "Queries:  85%|########5 | 85/100 [16:12<02:51, 11.43s/it]\n",
      "Queries:  86%|########6 | 86/100 [16:24<02:39, 11.41s/it]\n",
      "Queries:  87%|########7 | 87/100 [16:35<02:28, 11.41s/it]\n",
      "Queries:  88%|########8 | 88/100 [16:46<02:16, 11.41s/it]\n",
      "Queries:  89%|########9 | 89/100 [16:58<02:05, 11.41s/it]\n",
      "Queries:  90%|######### | 90/100 [17:09<01:54, 11.42s/it]\n",
      "Queries:  91%|#########1| 91/100 [17:21<01:42, 11.43s/it]\n",
      "Queries:  92%|#########2| 92/100 [17:32<01:31, 11.43s/it]\n",
      "Queries:  93%|#########3| 93/100 [17:44<01:19, 11.42s/it]\n",
      "Queries:  94%|#########3| 94/100 [17:55<01:08, 11.43s/it]\n",
      "Queries:  95%|#########5| 95/100 [18:07<00:57, 11.43s/it]\n",
      "Queries:  96%|#########6| 96/100 [18:18<00:45, 11.44s/it]\n",
      "Queries:  97%|#########7| 97/100 [18:29<00:34, 11.45s/it]\n",
      "Queries:  98%|#########8| 98/100 [18:41<00:22, 11.44s/it]\n",
      "Queries:  99%|#########9| 99/100 [18:52<00:11, 11.43s/it]\n",
      "Queries: 100%|##########| 100/100 [19:04<00:00, 11.43s/it]\n",
      "Queries: 100%|##########| 100/100 [19:04<00:00, 11.44s/it]\n"
     ]
    },
    {
     "data": {
      "text/html": [
       "<pre style=\"white-space:pre;overflow-x:auto;line-height:normal;font-family:Menlo,'DejaVu Sans Mono',consolas,'Courier New',monospace\">Total Processing Time: <span style=\"color: #008080; text-decoration-color: #008080; font-weight: bold\">19.07</span> minutes\n",
       "</pre>\n"
      ],
      "text/plain": [
       "Total Processing Time: \u001b[1;36m19.07\u001b[0m minutes\n"
      ]
     },
     "metadata": {},
     "output_type": "display_data"
    },
    {
     "data": {
      "text/html": [
       "<pre style=\"white-space:pre;overflow-x:auto;line-height:normal;font-family:Menlo,'DejaVu Sans Mono',consolas,'Courier New',monospace\"><span style=\"color: #008080; text-decoration-color: #008080; font-weight: bold\">0.88</span> <span style=\"color: #008080; text-decoration-color: #008080; font-weight: bold\">0.5314297512651065</span> <span style=\"color: #008080; text-decoration-color: #008080; font-weight: bold\">512</span> <span style=\"color: #008080; text-decoration-color: #008080; font-weight: bold\">100</span>\n",
       "</pre>\n"
      ],
      "text/plain": [
       "\u001b[1;36m0.88\u001b[0m \u001b[1;36m0.5314297512651065\u001b[0m \u001b[1;36m512\u001b[0m \u001b[1;36m100\u001b[0m\n"
      ]
     },
     "metadata": {},
     "output_type": "display_data"
    },
    {
     "name": "stdout",
     "output_type": "stream",
     "text": [
      " 56%|█████▌    | 28/50 [4:34:30<4:55:46, 806.64s/trial, best loss: -0.88]"
     ]
    },
    {
     "data": {
      "text/html": [
       "<pre style=\"white-space:pre;overflow-x:auto;line-height:normal;font-family:Menlo,'DejaVu Sans Mono',consolas,'Courier New',monospace\"><span style=\"color: #008080; text-decoration-color: #008080; font-weight: bold\">0.531244460054755</span> <span style=\"color: #008080; text-decoration-color: #008080; font-weight: bold\">512</span> <span style=\"color: #008080; text-decoration-color: #008080; font-weight: bold\">60</span>\n",
       "</pre>\n"
      ],
      "text/plain": [
       "\u001b[1;36m0.531244460054755\u001b[0m \u001b[1;36m512\u001b[0m \u001b[1;36m60\u001b[0m\n"
      ]
     },
     "metadata": {},
     "output_type": "display_data"
    },
    {
     "name": "stderr",
     "output_type": "stream",
     "text": [
      "Queries:   0%|          | 0/100 [00:00<?, ?it/s]\n",
      "Queries:   1%|1         | 1/100 [00:07<11:58,  7.25s/it]\n",
      "Queries:   2%|2         | 2/100 [00:14<11:51,  7.26s/it]\n",
      "Queries:   3%|3         | 3/100 [00:21<11:44,  7.26s/it]\n",
      "Queries:   4%|4         | 4/100 [00:29<11:36,  7.26s/it]\n",
      "Queries:   5%|5         | 5/100 [00:36<11:29,  7.26s/it]\n",
      "Queries:   6%|6         | 6/100 [00:43<11:22,  7.26s/it]\n",
      "Queries:   7%|7         | 7/100 [00:50<11:14,  7.25s/it]\n",
      "Queries:   8%|8         | 8/100 [00:58<11:07,  7.25s/it]\n",
      "Queries:   9%|9         | 9/100 [01:05<11:00,  7.26s/it]\n",
      "Queries:  10%|#         | 10/100 [01:12<10:53,  7.26s/it]\n",
      "Queries:  11%|#1        | 11/100 [01:19<10:46,  7.26s/it]\n",
      "Queries:  12%|#2        | 12/100 [01:27<10:39,  7.26s/it]\n",
      "Queries:  13%|#3        | 13/100 [01:34<10:32,  7.27s/it]\n",
      "Queries:  14%|#4        | 14/100 [01:41<10:25,  7.27s/it]\n",
      "Queries:  15%|#5        | 15/100 [01:48<10:17,  7.26s/it]\n",
      "Queries:  16%|#6        | 16/100 [01:56<10:08,  7.24s/it]\n",
      "Queries:  17%|#7        | 17/100 [02:03<10:00,  7.24s/it]\n",
      "Queries:  18%|#8        | 18/100 [02:10<09:53,  7.24s/it]\n",
      "Queries:  19%|#9        | 19/100 [02:17<09:46,  7.24s/it]\n",
      "Queries:  20%|##        | 20/100 [02:25<09:39,  7.25s/it]\n",
      "Queries:  21%|##1       | 21/100 [02:32<09:33,  7.25s/it]\n",
      "Queries:  22%|##2       | 22/100 [02:39<09:26,  7.26s/it]\n",
      "Queries:  23%|##3       | 23/100 [02:46<09:19,  7.26s/it]\n",
      "Queries:  24%|##4       | 24/100 [02:54<09:11,  7.26s/it]\n",
      "Queries:  25%|##5       | 25/100 [03:01<09:03,  7.25s/it]\n",
      "Queries:  26%|##6       | 26/100 [03:08<08:55,  7.24s/it]\n",
      "Queries:  27%|##7       | 27/100 [03:15<08:48,  7.24s/it]\n",
      "Queries:  28%|##8       | 28/100 [03:23<08:41,  7.24s/it]\n",
      "Queries:  29%|##9       | 29/100 [03:30<08:32,  7.21s/it]\n",
      "Queries:  30%|###       | 30/100 [03:37<08:25,  7.23s/it]\n",
      "Queries:  31%|###1      | 31/100 [03:44<08:19,  7.24s/it]\n",
      "Queries:  32%|###2      | 32/100 [03:51<08:12,  7.25s/it]\n",
      "Queries:  33%|###3      | 33/100 [03:59<08:06,  7.25s/it]\n",
      "Queries:  34%|###4      | 34/100 [04:06<07:59,  7.26s/it]\n",
      "Queries:  35%|###5      | 35/100 [04:13<07:51,  7.26s/it]\n",
      "Queries:  36%|###6      | 36/100 [04:21<07:43,  7.25s/it]\n",
      "Queries:  37%|###7      | 37/100 [04:28<07:36,  7.24s/it]\n",
      "Queries:  38%|###8      | 38/100 [04:35<07:28,  7.23s/it]\n",
      "Queries:  39%|###9      | 39/100 [04:42<07:21,  7.24s/it]\n",
      "Queries:  40%|####      | 40/100 [04:49<07:14,  7.24s/it]\n",
      "Queries:  41%|####1     | 41/100 [04:57<07:07,  7.25s/it]\n",
      "Queries:  42%|####2     | 42/100 [05:04<07:00,  7.25s/it]\n",
      "Queries:  43%|####3     | 43/100 [05:11<06:53,  7.26s/it]\n",
      "Queries:  44%|####4     | 44/100 [05:19<06:46,  7.26s/it]\n",
      "Queries:  45%|####5     | 45/100 [05:26<06:39,  7.26s/it]\n",
      "Queries:  46%|####6     | 46/100 [05:33<06:31,  7.26s/it]\n",
      "Queries:  47%|####6     | 47/100 [05:40<06:24,  7.25s/it]\n",
      "Queries:  48%|####8     | 48/100 [05:47<06:16,  7.23s/it]\n",
      "Queries:  49%|####9     | 49/100 [05:55<06:09,  7.24s/it]\n",
      "Queries:  50%|#####     | 50/100 [06:02<06:02,  7.24s/it]\n",
      "Queries:  51%|#####1    | 51/100 [06:09<05:54,  7.24s/it]\n",
      "Queries:  52%|#####2    | 52/100 [06:16<05:48,  7.25s/it]\n",
      "Queries:  53%|#####3    | 53/100 [06:24<05:41,  7.26s/it]\n",
      "Queries:  54%|#####4    | 54/100 [06:31<05:33,  7.26s/it]\n",
      "Queries:  55%|#####5    | 55/100 [06:38<05:26,  7.25s/it]\n",
      "Queries:  56%|#####6    | 56/100 [06:45<05:18,  7.25s/it]\n",
      "Queries:  57%|#####6    | 57/100 [06:53<05:11,  7.24s/it]\n",
      "Queries:  58%|#####8    | 58/100 [07:00<05:04,  7.25s/it]\n",
      "Queries:  59%|#####8    | 59/100 [07:07<04:57,  7.25s/it]\n",
      "Queries:  60%|######    | 60/100 [07:14<04:50,  7.26s/it]\n",
      "Queries:  61%|######1   | 61/100 [07:22<04:43,  7.26s/it]\n",
      "Queries:  62%|######2   | 62/100 [07:29<04:36,  7.27s/it]\n",
      "Queries:  63%|######3   | 63/100 [07:36<04:28,  7.27s/it]\n",
      "Queries:  64%|######4   | 64/100 [07:44<04:21,  7.26s/it]\n",
      "Queries:  65%|######5   | 65/100 [07:51<04:14,  7.26s/it]\n",
      "Queries:  66%|######6   | 66/100 [07:58<04:06,  7.25s/it]\n",
      "Queries:  67%|######7   | 67/100 [08:05<03:58,  7.24s/it]\n",
      "Queries:  68%|######8   | 68/100 [08:12<03:51,  7.23s/it]\n",
      "Queries:  69%|######9   | 69/100 [08:20<03:44,  7.23s/it]\n",
      "Queries:  70%|#######   | 70/100 [08:27<03:37,  7.24s/it]\n",
      "Queries:  71%|#######1  | 71/100 [08:34<03:30,  7.24s/it]\n",
      "Queries:  72%|#######2  | 72/100 [08:41<03:23,  7.25s/it]\n",
      "Queries:  73%|#######3  | 73/100 [08:49<03:16,  7.26s/it]\n",
      "Queries:  74%|#######4  | 74/100 [08:56<03:08,  7.26s/it]\n",
      "Queries:  75%|#######5  | 75/100 [09:03<03:01,  7.26s/it]\n",
      "Queries:  76%|#######6  | 76/100 [09:11<02:54,  7.26s/it]\n",
      "Queries:  77%|#######7  | 77/100 [09:18<02:46,  7.26s/it]\n",
      "Queries:  78%|#######8  | 78/100 [09:25<02:39,  7.26s/it]\n",
      "Queries:  79%|#######9  | 79/100 [09:32<02:32,  7.26s/it]\n",
      "Queries:  80%|########  | 80/100 [09:40<02:25,  7.26s/it]\n",
      "Queries:  81%|########1 | 81/100 [09:47<02:17,  7.26s/it]\n",
      "Queries:  82%|########2 | 82/100 [09:54<02:10,  7.25s/it]\n",
      "Queries:  83%|########2 | 83/100 [10:01<02:03,  7.26s/it]\n",
      "Queries:  84%|########4 | 84/100 [10:09<01:56,  7.26s/it]\n",
      "Queries:  85%|########5 | 85/100 [10:16<01:48,  7.26s/it]\n",
      "Queries:  86%|########6 | 86/100 [10:23<01:41,  7.25s/it]\n",
      "Queries:  87%|########7 | 87/100 [10:30<01:34,  7.25s/it]\n",
      "Queries:  88%|########8 | 88/100 [10:38<01:27,  7.25s/it]\n",
      "Queries:  89%|########9 | 89/100 [10:45<01:19,  7.25s/it]\n",
      "Queries:  90%|######### | 90/100 [10:52<01:12,  7.25s/it]\n",
      "Queries:  91%|#########1| 91/100 [10:59<01:05,  7.26s/it]\n",
      "Queries:  92%|#########2| 92/100 [11:07<00:58,  7.26s/it]\n",
      "Queries:  93%|#########3| 93/100 [11:14<00:50,  7.25s/it]\n",
      "Queries:  94%|#########3| 94/100 [11:21<00:43,  7.25s/it]\n",
      "Queries:  95%|#########5| 95/100 [11:28<00:36,  7.25s/it]\n",
      "Queries:  96%|#########6| 96/100 [11:36<00:29,  7.26s/it]\n",
      "Queries:  97%|#########7| 97/100 [11:43<00:21,  7.26s/it]\n",
      "Queries:  98%|#########8| 98/100 [11:50<00:14,  7.26s/it]\n",
      "Queries:  99%|#########9| 99/100 [11:57<00:07,  7.27s/it]\n",
      "Queries: 100%|##########| 100/100 [12:05<00:00,  7.27s/it]\n",
      "Queries: 100%|##########| 100/100 [12:05<00:00,  7.25s/it]\n"
     ]
    },
    {
     "data": {
      "text/html": [
       "<pre style=\"white-space:pre;overflow-x:auto;line-height:normal;font-family:Menlo,'DejaVu Sans Mono',consolas,'Courier New',monospace\">Total Processing Time: <span style=\"color: #008080; text-decoration-color: #008080; font-weight: bold\">12.09</span> minutes\n",
       "</pre>\n"
      ],
      "text/plain": [
       "Total Processing Time: \u001b[1;36m12.09\u001b[0m minutes\n"
      ]
     },
     "metadata": {},
     "output_type": "display_data"
    },
    {
     "data": {
      "text/html": [
       "<pre style=\"white-space:pre;overflow-x:auto;line-height:normal;font-family:Menlo,'DejaVu Sans Mono',consolas,'Courier New',monospace\"><span style=\"color: #008080; text-decoration-color: #008080; font-weight: bold\">0.88</span> <span style=\"color: #008080; text-decoration-color: #008080; font-weight: bold\">0.531244460054755</span> <span style=\"color: #008080; text-decoration-color: #008080; font-weight: bold\">512</span> <span style=\"color: #008080; text-decoration-color: #008080; font-weight: bold\">60</span>\n",
       "</pre>\n"
      ],
      "text/plain": [
       "\u001b[1;36m0.88\u001b[0m \u001b[1;36m0.531244460054755\u001b[0m \u001b[1;36m512\u001b[0m \u001b[1;36m60\u001b[0m\n"
      ]
     },
     "metadata": {},
     "output_type": "display_data"
    },
    {
     "name": "stdout",
     "output_type": "stream",
     "text": [
      " 58%|█████▊    | 29/50 [4:46:35<4:33:46, 782.22s/trial, best loss: -0.88]"
     ]
    },
    {
     "data": {
      "text/html": [
       "<pre style=\"white-space:pre;overflow-x:auto;line-height:normal;font-family:Menlo,'DejaVu Sans Mono',consolas,'Courier New',monospace\"><span style=\"color: #008080; text-decoration-color: #008080; font-weight: bold\">0.4855376116518479</span> <span style=\"color: #008080; text-decoration-color: #008080; font-weight: bold\">512</span> <span style=\"color: #008080; text-decoration-color: #008080; font-weight: bold\">40</span>\n",
       "</pre>\n"
      ],
      "text/plain": [
       "\u001b[1;36m0.4855376116518479\u001b[0m \u001b[1;36m512\u001b[0m \u001b[1;36m40\u001b[0m\n"
      ]
     },
     "metadata": {},
     "output_type": "display_data"
    },
    {
     "name": "stderr",
     "output_type": "stream",
     "text": [
      "Queries:   0%|          | 0/100 [00:00<?, ?it/s]\n",
      "Queries:   1%|1         | 1/100 [00:04<08:08,  4.94s/it]\n",
      "Queries:   2%|2         | 2/100 [00:09<07:59,  4.89s/it]\n",
      "Queries:   3%|3         | 3/100 [00:14<07:52,  4.87s/it]\n",
      "Queries:   4%|4         | 4/100 [00:19<07:45,  4.85s/it]\n",
      "Queries:   5%|5         | 5/100 [00:24<07:40,  4.85s/it]\n",
      "Queries:   6%|6         | 6/100 [00:29<07:35,  4.85s/it]\n",
      "Queries:   7%|7         | 7/100 [00:34<07:33,  4.87s/it]\n",
      "Queries:   8%|8         | 8/100 [00:39<07:34,  4.94s/it]\n",
      "Queries:   9%|9         | 9/100 [00:44<07:33,  4.99s/it]\n",
      "Queries:  10%|#         | 10/100 [00:49<07:29,  4.99s/it]\n",
      "Queries:  11%|#1        | 11/100 [00:54<07:27,  5.02s/it]\n",
      "Queries:  12%|#2        | 12/100 [00:59<07:17,  4.97s/it]\n",
      "Queries:  13%|#3        | 13/100 [01:04<07:15,  5.01s/it]\n",
      "Queries:  14%|#4        | 14/100 [01:09<07:11,  5.01s/it]\n",
      "Queries:  15%|#5        | 15/100 [01:14<07:03,  4.99s/it]\n",
      "Queries:  16%|#6        | 16/100 [01:19<06:55,  4.94s/it]\n",
      "Queries:  17%|#7        | 17/100 [01:23<06:48,  4.92s/it]\n",
      "Queries:  18%|#8        | 18/100 [01:29<06:46,  4.95s/it]\n",
      "Queries:  19%|#9        | 19/100 [01:33<06:39,  4.93s/it]\n",
      "Queries:  20%|##        | 20/100 [01:38<06:32,  4.90s/it]\n",
      "Queries:  21%|##1       | 21/100 [01:43<06:25,  4.88s/it]\n",
      "Queries:  22%|##2       | 22/100 [01:48<06:21,  4.89s/it]\n",
      "Queries:  23%|##3       | 23/100 [01:53<06:15,  4.87s/it]\n",
      "Queries:  24%|##4       | 24/100 [01:58<06:10,  4.88s/it]\n",
      "Queries:  25%|##5       | 25/100 [02:03<06:08,  4.91s/it]\n",
      "Queries:  26%|##6       | 26/100 [02:08<06:05,  4.94s/it]\n",
      "Queries:  27%|##7       | 27/100 [02:13<05:59,  4.93s/it]\n",
      "Queries:  28%|##8       | 28/100 [02:18<05:56,  4.95s/it]\n",
      "Queries:  29%|##9       | 29/100 [02:22<05:47,  4.90s/it]\n",
      "Queries:  30%|###       | 30/100 [02:27<05:41,  4.88s/it]\n",
      "Queries:  31%|###1      | 31/100 [02:32<05:41,  4.94s/it]\n",
      "Queries:  32%|###2      | 32/100 [02:37<05:38,  4.98s/it]\n",
      "Queries:  33%|###3      | 33/100 [02:42<05:32,  4.96s/it]\n",
      "Queries:  34%|###4      | 34/100 [02:47<05:25,  4.93s/it]\n",
      "Queries:  35%|###5      | 35/100 [02:52<05:20,  4.93s/it]\n",
      "Queries:  36%|###6      | 36/100 [02:57<05:13,  4.90s/it]\n",
      "Queries:  37%|###7      | 37/100 [03:02<05:09,  4.91s/it]\n",
      "Queries:  38%|###8      | 38/100 [03:07<05:04,  4.92s/it]\n",
      "Queries:  39%|###9      | 39/100 [03:12<04:58,  4.89s/it]\n",
      "Queries:  40%|####      | 40/100 [03:17<04:53,  4.90s/it]\n",
      "Queries:  41%|####1     | 41/100 [03:22<04:50,  4.93s/it]\n",
      "Queries:  42%|####2     | 42/100 [03:26<04:44,  4.90s/it]\n",
      "Queries:  43%|####3     | 43/100 [03:31<04:38,  4.88s/it]\n",
      "Queries:  44%|####4     | 44/100 [03:36<04:33,  4.88s/it]\n",
      "Queries:  45%|####5     | 45/100 [03:41<04:27,  4.87s/it]\n",
      "Queries:  46%|####6     | 46/100 [03:46<04:22,  4.86s/it]\n",
      "Queries:  47%|####6     | 47/100 [03:51<04:16,  4.84s/it]\n",
      "Queries:  48%|####8     | 48/100 [03:55<04:11,  4.84s/it]\n",
      "Queries:  49%|####9     | 49/100 [04:00<04:09,  4.89s/it]\n",
      "Queries:  50%|#####     | 50/100 [04:05<04:05,  4.90s/it]\n",
      "Queries:  51%|#####1    | 51/100 [04:10<03:59,  4.88s/it]\n",
      "Queries:  52%|#####2    | 52/100 [04:15<03:53,  4.87s/it]\n",
      "Queries:  53%|#####3    | 53/100 [04:20<03:48,  4.86s/it]\n",
      "Queries:  54%|#####4    | 54/100 [04:25<03:43,  4.86s/it]\n",
      "Queries:  55%|#####5    | 55/100 [04:30<03:38,  4.86s/it]\n",
      "Queries:  56%|#####6    | 56/100 [04:35<03:37,  4.93s/it]\n",
      "Queries:  57%|#####6    | 57/100 [04:39<03:30,  4.90s/it]\n",
      "Queries:  58%|#####8    | 58/100 [04:44<03:25,  4.89s/it]\n",
      "Queries:  59%|#####8    | 59/100 [04:49<03:21,  4.92s/it]\n",
      "Queries:  60%|######    | 60/100 [04:54<03:17,  4.95s/it]\n",
      "Queries:  61%|######1   | 61/100 [04:59<03:11,  4.91s/it]\n",
      "Queries:  62%|######2   | 62/100 [05:04<03:06,  4.92s/it]\n",
      "Queries:  63%|######3   | 63/100 [05:09<03:03,  4.97s/it]\n",
      "Queries:  64%|######4   | 64/100 [05:14<02:59,  5.00s/it]\n",
      "Queries:  65%|######5   | 65/100 [05:19<02:55,  5.02s/it]\n",
      "Queries:  66%|######6   | 66/100 [05:24<02:48,  4.97s/it]\n",
      "Queries:  67%|######7   | 67/100 [05:29<02:42,  4.93s/it]\n",
      "Queries:  68%|######8   | 68/100 [05:34<02:37,  4.91s/it]\n",
      "Queries:  69%|######9   | 69/100 [05:39<02:31,  4.90s/it]\n",
      "Queries:  70%|#######   | 70/100 [05:44<02:26,  4.89s/it]\n",
      "Queries:  71%|#######1  | 71/100 [05:48<02:21,  4.87s/it]\n",
      "Queries:  72%|#######2  | 72/100 [05:53<02:16,  4.86s/it]\n",
      "Queries:  73%|#######3  | 73/100 [05:58<02:11,  4.86s/it]\n",
      "Queries:  74%|#######4  | 74/100 [06:03<02:08,  4.93s/it]\n",
      "Queries:  75%|#######5  | 75/100 [06:08<02:02,  4.89s/it]\n",
      "Queries:  76%|#######6  | 76/100 [06:13<01:58,  4.92s/it]\n",
      "Queries:  77%|#######7  | 77/100 [06:18<01:52,  4.89s/it]\n",
      "Queries:  78%|#######8  | 78/100 [06:23<01:47,  4.89s/it]\n",
      "Queries:  79%|#######9  | 79/100 [06:28<01:42,  4.87s/it]\n",
      "Queries:  80%|########  | 80/100 [06:33<01:38,  4.93s/it]\n",
      "Queries:  81%|########1 | 81/100 [06:37<01:33,  4.90s/it]\n",
      "Queries:  82%|########2 | 82/100 [06:42<01:27,  4.88s/it]\n",
      "Queries:  83%|########2 | 83/100 [06:47<01:23,  4.89s/it]\n",
      "Queries:  84%|########4 | 84/100 [06:52<01:18,  4.88s/it]\n",
      "Queries:  85%|########5 | 85/100 [06:57<01:13,  4.90s/it]\n",
      "Queries:  86%|########6 | 86/100 [07:02<01:08,  4.93s/it]\n",
      "Queries:  87%|########7 | 87/100 [07:07<01:03,  4.90s/it]\n",
      "Queries:  88%|########8 | 88/100 [07:12<00:58,  4.90s/it]\n",
      "Queries:  89%|########9 | 89/100 [07:17<00:53,  4.88s/it]\n",
      "Queries:  90%|######### | 90/100 [07:21<00:48,  4.86s/it]\n",
      "Queries:  91%|#########1| 91/100 [07:26<00:43,  4.87s/it]\n",
      "Queries:  92%|#########2| 92/100 [07:31<00:39,  4.94s/it]\n",
      "Queries:  93%|#########3| 93/100 [07:36<00:34,  4.90s/it]\n",
      "Queries:  94%|#########3| 94/100 [07:41<00:29,  4.88s/it]\n",
      "Queries:  95%|#########5| 95/100 [07:46<00:24,  4.86s/it]\n",
      "Queries:  96%|#########6| 96/100 [07:51<00:19,  4.85s/it]\n",
      "Queries:  97%|#########7| 97/100 [07:56<00:14,  4.87s/it]\n",
      "Queries:  98%|#########8| 98/100 [08:01<00:09,  4.94s/it]\n",
      "Queries:  99%|#########9| 99/100 [08:06<00:04,  4.91s/it]\n",
      "Queries: 100%|##########| 100/100 [08:10<00:00,  4.89s/it]\n",
      "Queries: 100%|##########| 100/100 [08:10<00:00,  4.91s/it]\n"
     ]
    },
    {
     "data": {
      "text/html": [
       "<pre style=\"white-space:pre;overflow-x:auto;line-height:normal;font-family:Menlo,'DejaVu Sans Mono',consolas,'Courier New',monospace\">Total Processing Time: <span style=\"color: #008080; text-decoration-color: #008080; font-weight: bold\">8.18</span> minutes\n",
       "</pre>\n"
      ],
      "text/plain": [
       "Total Processing Time: \u001b[1;36m8.18\u001b[0m minutes\n"
      ]
     },
     "metadata": {},
     "output_type": "display_data"
    },
    {
     "data": {
      "text/html": [
       "<pre style=\"white-space:pre;overflow-x:auto;line-height:normal;font-family:Menlo,'DejaVu Sans Mono',consolas,'Courier New',monospace\"><span style=\"color: #008080; text-decoration-color: #008080; font-weight: bold\">0.86</span> <span style=\"color: #008080; text-decoration-color: #008080; font-weight: bold\">0.4855376116518479</span> <span style=\"color: #008080; text-decoration-color: #008080; font-weight: bold\">512</span> <span style=\"color: #008080; text-decoration-color: #008080; font-weight: bold\">40</span>\n",
       "</pre>\n"
      ],
      "text/plain": [
       "\u001b[1;36m0.86\u001b[0m \u001b[1;36m0.4855376116518479\u001b[0m \u001b[1;36m512\u001b[0m \u001b[1;36m40\u001b[0m\n"
      ]
     },
     "metadata": {},
     "output_type": "display_data"
    },
    {
     "name": "stdout",
     "output_type": "stream",
     "text": [
      " 60%|██████    | 30/50 [4:54:46<3:51:36, 694.82s/trial, best loss: -0.88]"
     ]
    },
    {
     "data": {
      "text/html": [
       "<pre style=\"white-space:pre;overflow-x:auto;line-height:normal;font-family:Menlo,'DejaVu Sans Mono',consolas,'Courier New',monospace\"><span style=\"color: #008080; text-decoration-color: #008080; font-weight: bold\">0.5295956543869109</span> <span style=\"color: #008080; text-decoration-color: #008080; font-weight: bold\">512</span> <span style=\"color: #008080; text-decoration-color: #008080; font-weight: bold\">100</span>\n",
       "</pre>\n"
      ],
      "text/plain": [
       "\u001b[1;36m0.5295956543869109\u001b[0m \u001b[1;36m512\u001b[0m \u001b[1;36m100\u001b[0m\n"
      ]
     },
     "metadata": {},
     "output_type": "display_data"
    },
    {
     "name": "stderr",
     "output_type": "stream",
     "text": [
      "Queries:   0%|          | 0/100 [00:00<?, ?it/s]\n",
      "Queries:   1%|1         | 1/100 [00:11<18:52, 11.44s/it]\n",
      "Queries:   2%|2         | 2/100 [00:22<18:41, 11.44s/it]\n",
      "Queries:   3%|3         | 3/100 [00:34<18:27, 11.42s/it]\n",
      "Queries:   4%|4         | 4/100 [00:45<18:14, 11.40s/it]\n",
      "Queries:   5%|5         | 5/100 [00:57<18:03, 11.41s/it]\n",
      "Queries:   6%|6         | 6/100 [01:08<17:52, 11.41s/it]\n",
      "Queries:   7%|7         | 7/100 [01:19<17:42, 11.43s/it]\n",
      "Queries:   8%|8         | 8/100 [01:31<17:31, 11.43s/it]\n",
      "Queries:   9%|9         | 9/100 [01:42<17:18, 11.41s/it]\n",
      "Queries:  10%|#         | 10/100 [01:54<17:05, 11.40s/it]\n",
      "Queries:  11%|#1        | 11/100 [02:05<16:54, 11.40s/it]\n",
      "Queries:  12%|#2        | 12/100 [02:16<16:42, 11.39s/it]\n",
      "Queries:  13%|#3        | 13/100 [02:28<16:31, 11.40s/it]\n",
      "Queries:  14%|#4        | 14/100 [02:39<16:22, 11.42s/it]\n",
      "Queries:  15%|#5        | 15/100 [02:51<16:11, 11.42s/it]\n",
      "Queries:  16%|#6        | 16/100 [03:02<15:58, 11.41s/it]\n",
      "Queries:  17%|#7        | 17/100 [03:14<15:47, 11.41s/it]\n",
      "Queries:  18%|#8        | 18/100 [03:25<15:36, 11.42s/it]\n",
      "Queries:  19%|#9        | 19/100 [03:36<15:26, 11.44s/it]\n",
      "Queries:  20%|##        | 20/100 [03:48<15:15, 11.44s/it]\n",
      "Queries:  21%|##1       | 21/100 [03:59<15:02, 11.43s/it]\n",
      "Queries:  22%|##2       | 22/100 [04:11<14:50, 11.41s/it]\n",
      "Queries:  23%|##3       | 23/100 [04:22<14:38, 11.41s/it]\n",
      "Queries:  24%|##4       | 24/100 [04:33<14:26, 11.41s/it]\n",
      "Queries:  25%|##5       | 25/100 [04:45<14:16, 11.42s/it]\n",
      "Queries:  26%|##6       | 26/100 [04:56<14:05, 11.43s/it]\n",
      "Queries:  27%|##7       | 27/100 [05:08<13:54, 11.43s/it]\n",
      "Queries:  28%|##8       | 28/100 [05:19<13:42, 11.42s/it]\n",
      "Queries:  29%|##9       | 29/100 [05:31<13:29, 11.40s/it]\n",
      "Queries:  30%|###       | 30/100 [05:42<13:18, 11.41s/it]\n",
      "Queries:  31%|###1      | 31/100 [05:53<13:08, 11.43s/it]\n",
      "Queries:  32%|###2      | 32/100 [06:05<12:57, 11.43s/it]\n",
      "Queries:  33%|###3      | 33/100 [06:16<12:46, 11.43s/it]\n",
      "Queries:  34%|###4      | 34/100 [06:28<12:34, 11.43s/it]\n",
      "Queries:  35%|###5      | 35/100 [06:39<12:22, 11.42s/it]\n",
      "Queries:  36%|###6      | 36/100 [06:51<12:11, 11.43s/it]\n",
      "Queries:  37%|###7      | 37/100 [07:02<12:00, 11.43s/it]\n",
      "Queries:  38%|###8      | 38/100 [07:13<11:48, 11.43s/it]\n",
      "Queries:  39%|###9      | 39/100 [07:25<11:38, 11.45s/it]\n",
      "Queries:  40%|####      | 40/100 [07:36<11:26, 11.45s/it]\n",
      "Queries:  41%|####1     | 41/100 [07:48<11:14, 11.43s/it]\n",
      "Queries:  42%|####2     | 42/100 [07:59<11:07, 11.51s/it]\n",
      "Queries:  43%|####3     | 43/100 [08:11<10:53, 11.46s/it]\n",
      "Queries:  44%|####4     | 44/100 [08:22<10:40, 11.43s/it]\n",
      "Queries:  45%|####5     | 45/100 [08:34<10:27, 11.42s/it]\n",
      "Queries:  46%|####6     | 46/100 [08:45<10:16, 11.42s/it]\n",
      "Queries:  47%|####6     | 47/100 [08:56<10:05, 11.42s/it]\n",
      "Queries:  48%|####8     | 48/100 [09:08<09:53, 11.42s/it]\n",
      "Queries:  49%|####9     | 49/100 [09:19<09:42, 11.43s/it]\n",
      "Queries:  50%|#####     | 50/100 [09:31<09:30, 11.41s/it]\n",
      "Queries:  51%|#####1    | 51/100 [09:42<09:18, 11.40s/it]\n",
      "Queries:  52%|#####2    | 52/100 [09:53<09:06, 11.39s/it]\n",
      "Queries:  53%|#####3    | 53/100 [10:05<08:55, 11.38s/it]\n",
      "Queries:  54%|#####4    | 54/100 [10:16<08:43, 11.39s/it]\n",
      "Queries:  55%|#####5    | 55/100 [10:28<08:33, 11.40s/it]\n",
      "Queries:  56%|#####6    | 56/100 [10:39<08:22, 11.42s/it]\n"
     ]
    },
    {
     "data": {
      "text/html": [
       "<pre style=\"white-space:pre;overflow-x:auto;line-height:normal;font-family:Menlo,'DejaVu Sans Mono',consolas,'Courier New',monospace\">Query call with protocol GRPC search failed with message Socket closed.\n",
       "</pre>\n"
      ],
      "text/plain": [
       "Query call with protocol GRPC search failed with message Socket closed.\n"
      ]
     },
     "metadata": {},
     "output_type": "display_data"
    },
    {
     "name": "stderr",
     "output_type": "stream",
     "text": [
      "Queries:  57%|#####6    | 57/100 [10:43<06:33,  9.14s/it]\n",
      "Queries:  58%|#####8    | 58/100 [10:55<06:55,  9.89s/it]\n",
      "Queries:  59%|#####8    | 59/100 [11:06<07:04, 10.35s/it]\n",
      "Queries:  60%|######    | 60/100 [11:17<07:07, 10.68s/it]\n",
      "Queries:  61%|######1   | 61/100 [11:29<07:08, 11.00s/it]\n",
      "Queries:  62%|######2   | 62/100 [11:41<07:02, 11.13s/it]\n",
      "Queries:  63%|######3   | 63/100 [11:52<06:55, 11.23s/it]\n",
      "Queries:  64%|######4   | 64/100 [12:03<06:46, 11.29s/it]\n",
      "Queries:  65%|######5   | 65/100 [12:15<06:36, 11.33s/it]\n",
      "Queries:  66%|######6   | 66/100 [12:26<06:26, 11.37s/it]\n",
      "Queries:  67%|######7   | 67/100 [12:38<06:15, 11.39s/it]\n",
      "Queries:  68%|######8   | 68/100 [12:49<06:07, 11.47s/it]\n",
      "Queries:  69%|######9   | 69/100 [13:01<05:55, 11.47s/it]\n",
      "Queries:  70%|#######   | 70/100 [13:12<05:43, 11.46s/it]\n",
      "Queries:  71%|#######1  | 71/100 [13:24<05:31, 11.44s/it]\n",
      "Queries:  72%|#######2  | 72/100 [13:35<05:20, 11.45s/it]\n",
      "Queries:  73%|#######3  | 73/100 [13:47<05:09, 11.45s/it]\n",
      "Queries:  74%|#######4  | 74/100 [13:58<04:57, 11.44s/it]\n",
      "Queries:  75%|#######5  | 75/100 [14:10<04:47, 11.52s/it]\n",
      "Queries:  76%|#######6  | 76/100 [14:21<04:35, 11.48s/it]\n",
      "Queries:  77%|#######7  | 77/100 [14:33<04:23, 11.46s/it]\n",
      "Queries:  78%|#######8  | 78/100 [14:44<04:11, 11.45s/it]\n",
      "Queries:  79%|#######9  | 79/100 [14:55<04:00, 11.45s/it]\n",
      "Queries:  80%|########  | 80/100 [15:07<03:48, 11.44s/it]\n",
      "Queries:  81%|########1 | 81/100 [15:19<03:39, 11.54s/it]\n",
      "Queries:  82%|########2 | 82/100 [15:30<03:26, 11.50s/it]\n",
      "Queries:  83%|########2 | 83/100 [15:41<03:14, 11.47s/it]\n",
      "Queries:  84%|########4 | 84/100 [15:53<03:03, 11.45s/it]\n",
      "Queries:  85%|########5 | 85/100 [16:04<02:51, 11.45s/it]\n",
      "Queries:  86%|########6 | 86/100 [16:16<02:40, 11.44s/it]\n",
      "Queries:  87%|########7 | 87/100 [16:27<02:28, 11.45s/it]\n",
      "Queries:  88%|########8 | 88/100 [16:39<02:17, 11.45s/it]\n",
      "Queries:  89%|########9 | 89/100 [16:50<02:07, 11.56s/it]\n",
      "Queries:  90%|######### | 90/100 [17:02<01:55, 11.51s/it]\n",
      "Queries:  91%|#########1| 91/100 [17:13<01:43, 11.49s/it]\n",
      "Queries:  92%|#########2| 92/100 [17:25<01:31, 11.48s/it]\n",
      "Queries:  93%|#########3| 93/100 [17:36<01:20, 11.47s/it]\n",
      "Queries:  94%|#########3| 94/100 [17:48<01:08, 11.45s/it]\n",
      "Queries:  95%|#########5| 95/100 [17:59<00:57, 11.44s/it]\n",
      "Queries:  96%|#########6| 96/100 [18:10<00:45, 11.42s/it]\n",
      "Queries:  97%|#########7| 97/100 [18:22<00:34, 11.49s/it]\n",
      "Queries:  98%|#########8| 98/100 [18:33<00:22, 11.46s/it]\n",
      "Queries:  99%|#########9| 99/100 [18:45<00:11, 11.45s/it]\n",
      "Queries: 100%|##########| 100/100 [18:56<00:00, 11.45s/it]\n",
      "Queries: 100%|##########| 100/100 [18:56<00:00, 11.37s/it]\n"
     ]
    },
    {
     "data": {
      "text/html": [
       "<pre style=\"white-space:pre;overflow-x:auto;line-height:normal;font-family:Menlo,'DejaVu Sans Mono',consolas,'Courier New',monospace\">Total Processing Time: <span style=\"color: #008080; text-decoration-color: #008080; font-weight: bold\">18.95</span> minutes\n",
       "</pre>\n"
      ],
      "text/plain": [
       "Total Processing Time: \u001b[1;36m18.95\u001b[0m minutes\n"
      ]
     },
     "metadata": {},
     "output_type": "display_data"
    },
    {
     "data": {
      "text/html": [
       "<pre style=\"white-space:pre;overflow-x:auto;line-height:normal;font-family:Menlo,'DejaVu Sans Mono',consolas,'Courier New',monospace\"><span style=\"color: #008080; text-decoration-color: #008080; font-weight: bold\">0.87</span> <span style=\"color: #008080; text-decoration-color: #008080; font-weight: bold\">0.5295956543869109</span> <span style=\"color: #008080; text-decoration-color: #008080; font-weight: bold\">512</span> <span style=\"color: #008080; text-decoration-color: #008080; font-weight: bold\">100</span>\n",
       "</pre>\n"
      ],
      "text/plain": [
       "\u001b[1;36m0.87\u001b[0m \u001b[1;36m0.5295956543869109\u001b[0m \u001b[1;36m512\u001b[0m \u001b[1;36m100\u001b[0m\n"
      ]
     },
     "metadata": {},
     "output_type": "display_data"
    },
    {
     "name": "stdout",
     "output_type": "stream",
     "text": [
      " 62%|██████▏   | 31/50 [5:13:43<4:22:01, 827.44s/trial, best loss: -0.88]"
     ]
    },
    {
     "data": {
      "text/html": [
       "<pre style=\"white-space:pre;overflow-x:auto;line-height:normal;font-family:Menlo,'DejaVu Sans Mono',consolas,'Courier New',monospace\"><span style=\"color: #008080; text-decoration-color: #008080; font-weight: bold\">0.590069244202967</span> <span style=\"color: #008080; text-decoration-color: #008080; font-weight: bold\">512</span> <span style=\"color: #008080; text-decoration-color: #008080; font-weight: bold\">40</span>\n",
       "</pre>\n"
      ],
      "text/plain": [
       "\u001b[1;36m0.590069244202967\u001b[0m \u001b[1;36m512\u001b[0m \u001b[1;36m40\u001b[0m\n"
      ]
     },
     "metadata": {},
     "output_type": "display_data"
    },
    {
     "name": "stderr",
     "output_type": "stream",
     "text": [
      "Queries:   0%|          | 0/100 [00:00<?, ?it/s]\n",
      "Queries:   1%|1         | 1/100 [00:04<08:06,  4.91s/it]\n",
      "Queries:   2%|2         | 2/100 [00:09<07:55,  4.86s/it]\n",
      "Queries:   3%|3         | 3/100 [00:14<07:48,  4.83s/it]\n",
      "Queries:   4%|4         | 4/100 [00:19<07:42,  4.82s/it]\n",
      "Queries:   5%|5         | 5/100 [00:24<07:37,  4.82s/it]\n",
      "Queries:   6%|6         | 6/100 [00:28<07:32,  4.81s/it]\n",
      "Queries:   7%|7         | 7/100 [00:33<07:29,  4.84s/it]\n",
      "Queries:   8%|8         | 8/100 [00:38<07:31,  4.91s/it]\n",
      "Queries:   9%|9         | 9/100 [00:43<07:31,  4.96s/it]\n",
      "Queries:  10%|#         | 10/100 [00:48<07:27,  4.97s/it]\n",
      "Queries:  11%|#1        | 11/100 [00:54<07:25,  5.01s/it]\n",
      "Queries:  12%|#2        | 12/100 [00:58<07:16,  4.96s/it]\n",
      "Queries:  13%|#3        | 13/100 [01:04<07:15,  5.01s/it]\n",
      "Queries:  14%|#4        | 14/100 [01:09<07:10,  5.01s/it]\n",
      "Queries:  15%|#5        | 15/100 [01:13<07:03,  4.98s/it]\n",
      "Queries:  16%|#6        | 16/100 [01:18<06:54,  4.93s/it]\n",
      "Queries:  17%|#7        | 17/100 [01:23<06:46,  4.90s/it]\n",
      "Queries:  18%|#8        | 18/100 [01:28<06:44,  4.93s/it]\n",
      "Queries:  19%|#9        | 19/100 [01:33<06:36,  4.90s/it]\n",
      "Queries:  20%|##        | 20/100 [01:38<06:29,  4.87s/it]\n",
      "Queries:  21%|##1       | 21/100 [01:43<06:23,  4.85s/it]\n",
      "Queries:  22%|##2       | 22/100 [01:47<06:19,  4.87s/it]\n",
      "Queries:  23%|##3       | 23/100 [01:52<06:13,  4.86s/it]\n",
      "Queries:  24%|##4       | 24/100 [01:57<06:08,  4.85s/it]\n",
      "Queries:  25%|##5       | 25/100 [02:02<06:06,  4.89s/it]\n",
      "Queries:  26%|##6       | 26/100 [02:07<06:04,  4.92s/it]\n",
      "Queries:  27%|##7       | 27/100 [02:12<05:59,  4.92s/it]\n",
      "Queries:  28%|##8       | 28/100 [02:17<05:56,  4.95s/it]\n",
      "Queries:  29%|##9       | 29/100 [02:22<05:48,  4.91s/it]\n",
      "Queries:  30%|###       | 30/100 [02:27<05:41,  4.89s/it]\n",
      "Queries:  31%|###1      | 31/100 [02:32<05:41,  4.94s/it]\n",
      "Queries:  32%|###2      | 32/100 [02:37<05:38,  4.98s/it]\n",
      "Queries:  33%|###3      | 33/100 [02:42<05:32,  4.96s/it]\n",
      "Queries:  34%|###4      | 34/100 [02:47<05:24,  4.91s/it]\n",
      "Queries:  35%|###5      | 35/100 [02:51<05:19,  4.91s/it]\n",
      "Queries:  36%|###6      | 36/100 [02:56<05:12,  4.88s/it]\n",
      "Queries:  37%|###7      | 37/100 [03:01<05:08,  4.89s/it]\n",
      "Queries:  38%|###8      | 38/100 [03:06<05:09,  5.00s/it]\n",
      "Queries:  39%|###9      | 39/100 [03:11<05:01,  4.95s/it]\n",
      "Queries:  40%|####      | 40/100 [03:16<04:56,  4.94s/it]\n",
      "Queries:  41%|####1     | 41/100 [03:21<04:52,  4.95s/it]\n",
      "Queries:  42%|####2     | 42/100 [03:26<04:45,  4.92s/it]\n",
      "Queries:  43%|####3     | 43/100 [03:31<04:38,  4.89s/it]\n",
      "Queries:  44%|####4     | 44/100 [03:36<04:34,  4.90s/it]\n",
      "Queries:  45%|####5     | 45/100 [03:41<04:28,  4.89s/it]\n",
      "Queries:  46%|####6     | 46/100 [03:45<04:22,  4.87s/it]\n",
      "Queries:  47%|####6     | 47/100 [03:50<04:17,  4.85s/it]\n",
      "Queries:  48%|####8     | 48/100 [03:55<04:11,  4.84s/it]\n",
      "Queries:  49%|####9     | 49/100 [04:00<04:09,  4.89s/it]\n",
      "Queries:  50%|#####     | 50/100 [04:05<04:04,  4.89s/it]\n",
      "Queries:  51%|#####1    | 51/100 [04:10<03:58,  4.87s/it]\n",
      "Queries:  52%|#####2    | 52/100 [04:15<03:53,  4.86s/it]\n",
      "Queries:  53%|#####3    | 53/100 [04:19<03:47,  4.85s/it]\n",
      "Queries:  54%|#####4    | 54/100 [04:24<03:46,  4.92s/it]\n",
      "Queries:  55%|#####5    | 55/100 [04:29<03:40,  4.90s/it]\n",
      "Queries:  56%|#####6    | 56/100 [04:34<03:38,  4.96s/it]\n",
      "Queries:  57%|#####6    | 57/100 [04:39<03:31,  4.92s/it]\n",
      "Queries:  58%|#####8    | 58/100 [04:44<03:28,  4.97s/it]\n",
      "Queries:  59%|#####8    | 59/100 [04:49<03:23,  4.95s/it]\n",
      "Queries:  60%|######    | 60/100 [04:54<03:17,  4.94s/it]\n",
      "Queries:  61%|######1   | 61/100 [04:59<03:11,  4.92s/it]\n",
      "Queries:  62%|######2   | 62/100 [05:04<03:06,  4.92s/it]\n",
      "Queries:  63%|######3   | 63/100 [05:09<03:03,  4.97s/it]\n",
      "Queries:  64%|######4   | 64/100 [05:14<03:00,  5.00s/it]\n",
      "Queries:  65%|######5   | 65/100 [05:19<02:55,  5.03s/it]\n",
      "Queries:  66%|######6   | 66/100 [05:24<02:48,  4.97s/it]\n",
      "Queries:  67%|######7   | 67/100 [05:29<02:42,  4.93s/it]\n",
      "Queries:  68%|######8   | 68/100 [05:34<02:36,  4.90s/it]\n",
      "Queries:  69%|######9   | 69/100 [05:39<02:31,  4.88s/it]\n",
      "Queries:  70%|#######   | 70/100 [05:44<02:28,  4.94s/it]\n",
      "Queries:  71%|#######1  | 71/100 [05:48<02:22,  4.91s/it]\n",
      "Queries:  72%|#######2  | 72/100 [05:54<02:19,  4.97s/it]\n",
      "Queries:  73%|#######3  | 73/100 [05:59<02:13,  4.96s/it]\n",
      "Queries:  74%|#######4  | 74/100 [06:04<02:09,  5.00s/it]\n",
      "Queries:  75%|#######5  | 75/100 [06:08<02:03,  4.95s/it]\n",
      "Queries:  76%|#######6  | 76/100 [06:13<01:59,  4.97s/it]\n",
      "Queries:  77%|#######7  | 77/100 [06:18<01:53,  4.93s/it]\n",
      "Queries:  78%|#######8  | 78/100 [06:23<01:48,  4.92s/it]\n",
      "Queries:  79%|#######9  | 79/100 [06:28<01:42,  4.90s/it]\n",
      "Queries:  80%|########  | 80/100 [06:33<01:39,  4.95s/it]\n"
     ]
    },
    {
     "data": {
      "text/html": [
       "<pre style=\"white-space:pre;overflow-x:auto;line-height:normal;font-family:Menlo,'DejaVu Sans Mono',consolas,'Courier New',monospace\">Query call with protocol GRPC search failed with message Received http2 header with status: <span style=\"color: #008080; text-decoration-color: #008080; font-weight: bold\">502</span>.\n",
       "</pre>\n"
      ],
      "text/plain": [
       "Query call with protocol GRPC search failed with message Received http2 header with status: \u001b[1;36m502\u001b[0m.\n"
      ]
     },
     "metadata": {},
     "output_type": "display_data"
    },
    {
     "name": "stderr",
     "output_type": "stream",
     "text": [
      "Queries:  81%|########1 | 81/100 [06:35<01:17,  4.06s/it]\n"
     ]
    },
    {
     "data": {
      "text/html": [
       "<pre style=\"white-space:pre;overflow-x:auto;line-height:normal;font-family:Menlo,'DejaVu Sans Mono',consolas,'Courier New',monospace\">Query call with protocol GRPC search failed with message Received http2 header with status: <span style=\"color: #008080; text-decoration-color: #008080; font-weight: bold\">502</span>.\n",
       "</pre>\n"
      ],
      "text/plain": [
       "Query call with protocol GRPC search failed with message Received http2 header with status: \u001b[1;36m502\u001b[0m.\n"
      ]
     },
     "metadata": {},
     "output_type": "display_data"
    },
    {
     "name": "stderr",
     "output_type": "stream",
     "text": [
      "Queries:  82%|########2 | 82/100 [06:35<00:51,  2.88s/it]\n"
     ]
    },
    {
     "data": {
      "text/html": [
       "<pre style=\"white-space:pre;overflow-x:auto;line-height:normal;font-family:Menlo,'DejaVu Sans Mono',consolas,'Courier New',monospace\">Query call with protocol GRPC search failed with message Received http2 header with status: <span style=\"color: #008080; text-decoration-color: #008080; font-weight: bold\">502</span>.\n",
       "</pre>\n"
      ],
      "text/plain": [
       "Query call with protocol GRPC search failed with message Received http2 header with status: \u001b[1;36m502\u001b[0m.\n"
      ]
     },
     "metadata": {},
     "output_type": "display_data"
    },
    {
     "name": "stderr",
     "output_type": "stream",
     "text": [
      "Queries:  83%|########2 | 83/100 [06:35<00:34,  2.05s/it]\n"
     ]
    },
    {
     "data": {
      "text/html": [
       "<pre style=\"white-space:pre;overflow-x:auto;line-height:normal;font-family:Menlo,'DejaVu Sans Mono',consolas,'Courier New',monospace\">Query call with protocol GRPC search failed with message Received http2 header with status: <span style=\"color: #008080; text-decoration-color: #008080; font-weight: bold\">502</span>.\n",
       "</pre>\n"
      ],
      "text/plain": [
       "Query call with protocol GRPC search failed with message Received http2 header with status: \u001b[1;36m502\u001b[0m.\n"
      ]
     },
     "metadata": {},
     "output_type": "display_data"
    },
    {
     "name": "stderr",
     "output_type": "stream",
     "text": [
      "Queries:  84%|########4 | 84/100 [06:35<00:23,  1.46s/it]\n"
     ]
    },
    {
     "data": {
      "text/html": [
       "<pre style=\"white-space:pre;overflow-x:auto;line-height:normal;font-family:Menlo,'DejaVu Sans Mono',consolas,'Courier New',monospace\">Query call with protocol GRPC search failed with message Received http2 header with status: <span style=\"color: #008080; text-decoration-color: #008080; font-weight: bold\">502</span>.\n",
       "</pre>\n"
      ],
      "text/plain": [
       "Query call with protocol GRPC search failed with message Received http2 header with status: \u001b[1;36m502\u001b[0m.\n"
      ]
     },
     "metadata": {},
     "output_type": "display_data"
    },
    {
     "name": "stderr",
     "output_type": "stream",
     "text": [
      "Queries:  85%|########5 | 85/100 [06:36<00:15,  1.06s/it]\n"
     ]
    },
    {
     "data": {
      "text/html": [
       "<pre style=\"white-space:pre;overflow-x:auto;line-height:normal;font-family:Menlo,'DejaVu Sans Mono',consolas,'Courier New',monospace\">Query call with protocol GRPC search failed with message Received http2 header with status: <span style=\"color: #008080; text-decoration-color: #008080; font-weight: bold\">502</span>.\n",
       "</pre>\n"
      ],
      "text/plain": [
       "Query call with protocol GRPC search failed with message Received http2 header with status: \u001b[1;36m502\u001b[0m.\n"
      ]
     },
     "metadata": {},
     "output_type": "display_data"
    },
    {
     "name": "stderr",
     "output_type": "stream",
     "text": [
      "Queries:  86%|########6 | 86/100 [06:36<00:10,  1.30it/s]\n"
     ]
    },
    {
     "data": {
      "text/html": [
       "<pre style=\"white-space:pre;overflow-x:auto;line-height:normal;font-family:Menlo,'DejaVu Sans Mono',consolas,'Courier New',monospace\">Query call with protocol GRPC search failed with message Received http2 header with status: <span style=\"color: #008080; text-decoration-color: #008080; font-weight: bold\">502</span>.\n",
       "</pre>\n"
      ],
      "text/plain": [
       "Query call with protocol GRPC search failed with message Received http2 header with status: \u001b[1;36m502\u001b[0m.\n"
      ]
     },
     "metadata": {},
     "output_type": "display_data"
    },
    {
     "name": "stderr",
     "output_type": "stream",
     "text": [
      "Queries:  87%|########7 | 87/100 [06:37<00:11,  1.13it/s]\n"
     ]
    },
    {
     "data": {
      "text/html": [
       "<pre style=\"white-space:pre;overflow-x:auto;line-height:normal;font-family:Menlo,'DejaVu Sans Mono',consolas,'Courier New',monospace\">Query call with protocol GRPC search failed with message Received http2 header with status: <span style=\"color: #008080; text-decoration-color: #008080; font-weight: bold\">502</span>.\n",
       "</pre>\n"
      ],
      "text/plain": [
       "Query call with protocol GRPC search failed with message Received http2 header with status: \u001b[1;36m502\u001b[0m.\n"
      ]
     },
     "metadata": {},
     "output_type": "display_data"
    },
    {
     "name": "stderr",
     "output_type": "stream",
     "text": [
      "Queries:  88%|########8 | 88/100 [06:38<00:11,  1.04it/s]\n"
     ]
    },
    {
     "data": {
      "text/html": [
       "<pre style=\"white-space:pre;overflow-x:auto;line-height:normal;font-family:Menlo,'DejaVu Sans Mono',consolas,'Courier New',monospace\">Query call with protocol GRPC search failed with message Received http2 header with status: <span style=\"color: #008080; text-decoration-color: #008080; font-weight: bold\">502</span>.\n",
       "</pre>\n"
      ],
      "text/plain": [
       "Query call with protocol GRPC search failed with message Received http2 header with status: \u001b[1;36m502\u001b[0m.\n"
      ]
     },
     "metadata": {},
     "output_type": "display_data"
    },
    {
     "name": "stderr",
     "output_type": "stream",
     "text": [
      "Queries:  89%|########9 | 89/100 [06:39<00:11,  1.02s/it]\n"
     ]
    },
    {
     "data": {
      "text/html": [
       "<pre style=\"white-space:pre;overflow-x:auto;line-height:normal;font-family:Menlo,'DejaVu Sans Mono',consolas,'Courier New',monospace\">Query call with protocol GRPC search failed with message Received http2 header with status: <span style=\"color: #008080; text-decoration-color: #008080; font-weight: bold\">502</span>.\n",
       "</pre>\n"
      ],
      "text/plain": [
       "Query call with protocol GRPC search failed with message Received http2 header with status: \u001b[1;36m502\u001b[0m.\n"
      ]
     },
     "metadata": {},
     "output_type": "display_data"
    },
    {
     "name": "stderr",
     "output_type": "stream",
     "text": [
      "Queries:  90%|######### | 90/100 [06:39<00:07,  1.34it/s]\n"
     ]
    },
    {
     "data": {
      "text/html": [
       "<pre style=\"white-space:pre;overflow-x:auto;line-height:normal;font-family:Menlo,'DejaVu Sans Mono',consolas,'Courier New',monospace\">Query call with protocol GRPC search failed with message Received http2 header with status: <span style=\"color: #008080; text-decoration-color: #008080; font-weight: bold\">502</span>.\n",
       "</pre>\n"
      ],
      "text/plain": [
       "Query call with protocol GRPC search failed with message Received http2 header with status: \u001b[1;36m502\u001b[0m.\n"
      ]
     },
     "metadata": {},
     "output_type": "display_data"
    },
    {
     "name": "stderr",
     "output_type": "stream",
     "text": [
      "Queries:  91%|#########1| 91/100 [06:40<00:07,  1.17it/s]\n"
     ]
    },
    {
     "data": {
      "text/html": [
       "<pre style=\"white-space:pre;overflow-x:auto;line-height:normal;font-family:Menlo,'DejaVu Sans Mono',consolas,'Courier New',monospace\">Query call with protocol GRPC search failed with message Received http2 header with status: <span style=\"color: #008080; text-decoration-color: #008080; font-weight: bold\">502</span>.\n",
       "</pre>\n"
      ],
      "text/plain": [
       "Query call with protocol GRPC search failed with message Received http2 header with status: \u001b[1;36m502\u001b[0m.\n"
      ]
     },
     "metadata": {},
     "output_type": "display_data"
    },
    {
     "name": "stderr",
     "output_type": "stream",
     "text": [
      "Queries:  92%|#########2| 92/100 [06:41<00:07,  1.06it/s]\n"
     ]
    },
    {
     "data": {
      "text/html": [
       "<pre style=\"white-space:pre;overflow-x:auto;line-height:normal;font-family:Menlo,'DejaVu Sans Mono',consolas,'Courier New',monospace\">Query call with protocol GRPC search failed with message Received http2 header with status: <span style=\"color: #008080; text-decoration-color: #008080; font-weight: bold\">502</span>.\n",
       "</pre>\n"
      ],
      "text/plain": [
       "Query call with protocol GRPC search failed with message Received http2 header with status: \u001b[1;36m502\u001b[0m.\n"
      ]
     },
     "metadata": {},
     "output_type": "display_data"
    },
    {
     "name": "stderr",
     "output_type": "stream",
     "text": [
      "Queries:  93%|#########3| 93/100 [06:43<00:07,  1.01s/it]\n"
     ]
    },
    {
     "data": {
      "text/html": [
       "<pre style=\"white-space:pre;overflow-x:auto;line-height:normal;font-family:Menlo,'DejaVu Sans Mono',consolas,'Courier New',monospace\">Query call with protocol GRPC search failed with message Received http2 header with status: <span style=\"color: #008080; text-decoration-color: #008080; font-weight: bold\">502</span>.\n",
       "</pre>\n"
      ],
      "text/plain": [
       "Query call with protocol GRPC search failed with message Received http2 header with status: \u001b[1;36m502\u001b[0m.\n"
      ]
     },
     "metadata": {},
     "output_type": "display_data"
    },
    {
     "name": "stderr",
     "output_type": "stream",
     "text": [
      "Queries:  94%|#########3| 94/100 [06:44<00:06,  1.05s/it]\n"
     ]
    },
    {
     "data": {
      "text/html": [
       "<pre style=\"white-space:pre;overflow-x:auto;line-height:normal;font-family:Menlo,'DejaVu Sans Mono',consolas,'Courier New',monospace\">Query call with protocol GRPC search failed with message Received http2 header with status: <span style=\"color: #008080; text-decoration-color: #008080; font-weight: bold\">502</span>.\n",
       "</pre>\n"
      ],
      "text/plain": [
       "Query call with protocol GRPC search failed with message Received http2 header with status: \u001b[1;36m502\u001b[0m.\n"
      ]
     },
     "metadata": {},
     "output_type": "display_data"
    },
    {
     "name": "stderr",
     "output_type": "stream",
     "text": [
      "Queries:  95%|#########5| 95/100 [06:45<00:05,  1.08s/it]\n"
     ]
    },
    {
     "data": {
      "text/html": [
       "<pre style=\"white-space:pre;overflow-x:auto;line-height:normal;font-family:Menlo,'DejaVu Sans Mono',consolas,'Courier New',monospace\">Query call with protocol GRPC search failed with message Received http2 header with status: <span style=\"color: #008080; text-decoration-color: #008080; font-weight: bold\">502</span>.\n",
       "</pre>\n"
      ],
      "text/plain": [
       "Query call with protocol GRPC search failed with message Received http2 header with status: \u001b[1;36m502\u001b[0m.\n"
      ]
     },
     "metadata": {},
     "output_type": "display_data"
    },
    {
     "name": "stderr",
     "output_type": "stream",
     "text": [
      "Queries:  96%|#########6| 96/100 [06:46<00:04,  1.10s/it]\n"
     ]
    },
    {
     "data": {
      "text/html": [
       "<pre style=\"white-space:pre;overflow-x:auto;line-height:normal;font-family:Menlo,'DejaVu Sans Mono',consolas,'Courier New',monospace\">Query call with protocol GRPC search failed with message Received http2 header with status: <span style=\"color: #008080; text-decoration-color: #008080; font-weight: bold\">502</span>.\n",
       "</pre>\n"
      ],
      "text/plain": [
       "Query call with protocol GRPC search failed with message Received http2 header with status: \u001b[1;36m502\u001b[0m.\n"
      ]
     },
     "metadata": {},
     "output_type": "display_data"
    },
    {
     "name": "stderr",
     "output_type": "stream",
     "text": [
      "Queries:  97%|#########7| 97/100 [06:46<00:02,  1.24it/s]\n"
     ]
    },
    {
     "data": {
      "text/html": [
       "<pre style=\"white-space:pre;overflow-x:auto;line-height:normal;font-family:Menlo,'DejaVu Sans Mono',consolas,'Courier New',monospace\">Query call with protocol GRPC search failed with message Received http2 header with status: <span style=\"color: #008080; text-decoration-color: #008080; font-weight: bold\">502</span>.\n",
       "</pre>\n"
      ],
      "text/plain": [
       "Query call with protocol GRPC search failed with message Received http2 header with status: \u001b[1;36m502\u001b[0m.\n"
      ]
     },
     "metadata": {},
     "output_type": "display_data"
    },
    {
     "name": "stderr",
     "output_type": "stream",
     "text": [
      "Queries:  98%|#########8| 98/100 [06:47<00:01,  1.12it/s]\n"
     ]
    },
    {
     "data": {
      "text/html": [
       "<pre style=\"white-space:pre;overflow-x:auto;line-height:normal;font-family:Menlo,'DejaVu Sans Mono',consolas,'Courier New',monospace\">Query call with protocol GRPC search failed with message Received http2 header with status: <span style=\"color: #008080; text-decoration-color: #008080; font-weight: bold\">502</span>.\n",
       "</pre>\n"
      ],
      "text/plain": [
       "Query call with protocol GRPC search failed with message Received http2 header with status: \u001b[1;36m502\u001b[0m.\n"
      ]
     },
     "metadata": {},
     "output_type": "display_data"
    },
    {
     "name": "stderr",
     "output_type": "stream",
     "text": [
      "Queries:  99%|#########9| 99/100 [06:48<00:00,  1.03it/s]\n"
     ]
    },
    {
     "data": {
      "text/html": [
       "<pre style=\"white-space:pre;overflow-x:auto;line-height:normal;font-family:Menlo,'DejaVu Sans Mono',consolas,'Courier New',monospace\">Query call with protocol GRPC search failed with message Received http2 header with status: <span style=\"color: #008080; text-decoration-color: #008080; font-weight: bold\">502</span>.\n",
       "</pre>\n"
      ],
      "text/plain": [
       "Query call with protocol GRPC search failed with message Received http2 header with status: \u001b[1;36m502\u001b[0m.\n"
      ]
     },
     "metadata": {},
     "output_type": "display_data"
    },
    {
     "name": "stderr",
     "output_type": "stream",
     "text": [
      "Queries: 100%|##########| 100/100 [06:50<00:00,  1.03s/it]\n",
      "Queries: 100%|##########| 100/100 [06:50<00:00,  4.10s/it]\n"
     ]
    },
    {
     "data": {
      "text/html": [
       "<pre style=\"white-space:pre;overflow-x:auto;line-height:normal;font-family:Menlo,'DejaVu Sans Mono',consolas,'Courier New',monospace\">Total Processing Time: <span style=\"color: #008080; text-decoration-color: #008080; font-weight: bold\">6.83</span> minutes\n",
       "</pre>\n"
      ],
      "text/plain": [
       "Total Processing Time: \u001b[1;36m6.83\u001b[0m minutes\n"
      ]
     },
     "metadata": {},
     "output_type": "display_data"
    },
    {
     "data": {
      "text/html": [
       "<pre style=\"white-space:pre;overflow-x:auto;line-height:normal;font-family:Menlo,'DejaVu Sans Mono',consolas,'Courier New',monospace\"><span style=\"color: #008080; text-decoration-color: #008080; font-weight: bold\">0.69</span> <span style=\"color: #008080; text-decoration-color: #008080; font-weight: bold\">0.590069244202967</span> <span style=\"color: #008080; text-decoration-color: #008080; font-weight: bold\">512</span> <span style=\"color: #008080; text-decoration-color: #008080; font-weight: bold\">40</span>\n",
       "</pre>\n"
      ],
      "text/plain": [
       "\u001b[1;36m0.69\u001b[0m \u001b[1;36m0.590069244202967\u001b[0m \u001b[1;36m512\u001b[0m \u001b[1;36m40\u001b[0m\n"
      ]
     },
     "metadata": {},
     "output_type": "display_data"
    },
    {
     "name": "stdout",
     "output_type": "stream",
     "text": [
      " 64%|██████▍   | 32/50 [5:20:33<3:30:40, 702.24s/trial, best loss: -0.88]"
     ]
    },
    {
     "data": {
      "text/html": [
       "<pre style=\"white-space:pre;overflow-x:auto;line-height:normal;font-family:Menlo,'DejaVu Sans Mono',consolas,'Courier New',monospace\"><span style=\"color: #008080; text-decoration-color: #008080; font-weight: bold\">0.46879183748227327</span> <span style=\"color: #008080; text-decoration-color: #008080; font-weight: bold\">512</span> <span style=\"color: #008080; text-decoration-color: #008080; font-weight: bold\">60</span>\n",
       "</pre>\n"
      ],
      "text/plain": [
       "\u001b[1;36m0.46879183748227327\u001b[0m \u001b[1;36m512\u001b[0m \u001b[1;36m60\u001b[0m\n"
      ]
     },
     "metadata": {},
     "output_type": "display_data"
    },
    {
     "name": "stderr",
     "output_type": "stream",
     "text": [
      "Queries:   0%|          | 0/100 [00:00<?, ?it/s]\n"
     ]
    },
    {
     "data": {
      "text/html": [
       "<pre style=\"white-space:pre;overflow-x:auto;line-height:normal;font-family:Menlo,'DejaVu Sans Mono',consolas,'Courier New',monospace\">Query call with protocol GRPC search failed with message Received http2 header with status: <span style=\"color: #008080; text-decoration-color: #008080; font-weight: bold\">502</span>.\n",
       "</pre>\n"
      ],
      "text/plain": [
       "Query call with protocol GRPC search failed with message Received http2 header with status: \u001b[1;36m502\u001b[0m.\n"
      ]
     },
     "metadata": {},
     "output_type": "display_data"
    },
    {
     "name": "stderr",
     "output_type": "stream",
     "text": [
      "Queries:   1%|1         | 1/100 [00:01<01:52,  1.14s/it]\n"
     ]
    },
    {
     "data": {
      "text/html": [
       "<pre style=\"white-space:pre;overflow-x:auto;line-height:normal;font-family:Menlo,'DejaVu Sans Mono',consolas,'Courier New',monospace\">Query call with protocol GRPC search failed with message Deadline Exceeded.\n",
       "</pre>\n"
      ],
      "text/plain": [
       "Query call with protocol GRPC search failed with message Deadline Exceeded.\n"
      ]
     },
     "metadata": {},
     "output_type": "display_data"
    },
    {
     "name": "stderr",
     "output_type": "stream",
     "text": [
      "Queries:   2%|2         | 2/100 [00:31<29:36, 18.13s/it]\n"
     ]
    },
    {
     "data": {
      "text/html": [
       "<pre style=\"white-space:pre;overflow-x:auto;line-height:normal;font-family:Menlo,'DejaVu Sans Mono',consolas,'Courier New',monospace\">Query call with protocol GRPC search failed with message Received http2 header with status: <span style=\"color: #008080; text-decoration-color: #008080; font-weight: bold\">502</span>.\n",
       "</pre>\n"
      ],
      "text/plain": [
       "Query call with protocol GRPC search failed with message Received http2 header with status: \u001b[1;36m502\u001b[0m.\n"
      ]
     },
     "metadata": {},
     "output_type": "display_data"
    },
    {
     "name": "stderr",
     "output_type": "stream",
     "text": [
      "Queries:   3%|3         | 3/100 [00:31<16:11, 10.01s/it]\n"
     ]
    },
    {
     "data": {
      "text/html": [
       "<pre style=\"white-space:pre;overflow-x:auto;line-height:normal;font-family:Menlo,'DejaVu Sans Mono',consolas,'Courier New',monospace\">Query call with protocol GRPC search failed with message Received http2 header with status: <span style=\"color: #008080; text-decoration-color: #008080; font-weight: bold\">502</span>.\n",
       "</pre>\n"
      ],
      "text/plain": [
       "Query call with protocol GRPC search failed with message Received http2 header with status: \u001b[1;36m502\u001b[0m.\n"
      ]
     },
     "metadata": {},
     "output_type": "display_data"
    },
    {
     "name": "stderr",
     "output_type": "stream",
     "text": [
      "Queries:   4%|4         | 4/100 [00:31<09:45,  6.10s/it]\n"
     ]
    },
    {
     "data": {
      "text/html": [
       "<pre style=\"white-space:pre;overflow-x:auto;line-height:normal;font-family:Menlo,'DejaVu Sans Mono',consolas,'Courier New',monospace\">Query call with protocol GRPC search failed with message Received http2 header with status: <span style=\"color: #008080; text-decoration-color: #008080; font-weight: bold\">502</span>.\n",
       "</pre>\n"
      ],
      "text/plain": [
       "Query call with protocol GRPC search failed with message Received http2 header with status: \u001b[1;36m502\u001b[0m.\n"
      ]
     },
     "metadata": {},
     "output_type": "display_data"
    },
    {
     "name": "stderr",
     "output_type": "stream",
     "text": [
      "Queries:   5%|5         | 5/100 [00:31<06:14,  3.94s/it]\n"
     ]
    },
    {
     "data": {
      "text/html": [
       "<pre style=\"white-space:pre;overflow-x:auto;line-height:normal;font-family:Menlo,'DejaVu Sans Mono',consolas,'Courier New',monospace\">Query call with protocol GRPC search failed with message Received http2 header with status: <span style=\"color: #008080; text-decoration-color: #008080; font-weight: bold\">502</span>.\n",
       "</pre>\n"
      ],
      "text/plain": [
       "Query call with protocol GRPC search failed with message Received http2 header with status: \u001b[1;36m502\u001b[0m.\n"
      ]
     },
     "metadata": {},
     "output_type": "display_data"
    },
    {
     "name": "stderr",
     "output_type": "stream",
     "text": [
      "Queries:   6%|6         | 6/100 [00:31<04:07,  2.63s/it]\n"
     ]
    },
    {
     "data": {
      "text/html": [
       "<pre style=\"white-space:pre;overflow-x:auto;line-height:normal;font-family:Menlo,'DejaVu Sans Mono',consolas,'Courier New',monospace\">Query call with protocol GRPC search failed with message Received http2 header with status: <span style=\"color: #008080; text-decoration-color: #008080; font-weight: bold\">502</span>.\n",
       "</pre>\n"
      ],
      "text/plain": [
       "Query call with protocol GRPC search failed with message Received http2 header with status: \u001b[1;36m502\u001b[0m.\n"
      ]
     },
     "metadata": {},
     "output_type": "display_data"
    },
    {
     "name": "stderr",
     "output_type": "stream",
     "text": [
      "Queries:   7%|7         | 7/100 [00:31<02:47,  1.81s/it]\n"
     ]
    },
    {
     "data": {
      "text/html": [
       "<pre style=\"white-space:pre;overflow-x:auto;line-height:normal;font-family:Menlo,'DejaVu Sans Mono',consolas,'Courier New',monospace\">Query call with protocol GRPC search failed with message Received http2 header with status: <span style=\"color: #008080; text-decoration-color: #008080; font-weight: bold\">502</span>.\n",
       "</pre>\n"
      ],
      "text/plain": [
       "Query call with protocol GRPC search failed with message Received http2 header with status: \u001b[1;36m502\u001b[0m.\n"
      ]
     },
     "metadata": {},
     "output_type": "display_data"
    },
    {
     "name": "stderr",
     "output_type": "stream",
     "text": [
      "Queries:   8%|8         | 8/100 [00:32<01:56,  1.26s/it]\n"
     ]
    },
    {
     "data": {
      "text/html": [
       "<pre style=\"white-space:pre;overflow-x:auto;line-height:normal;font-family:Menlo,'DejaVu Sans Mono',consolas,'Courier New',monospace\">Query call with protocol GRPC search failed with message Received http2 header with status: <span style=\"color: #008080; text-decoration-color: #008080; font-weight: bold\">502</span>.\n",
       "</pre>\n"
      ],
      "text/plain": [
       "Query call with protocol GRPC search failed with message Received http2 header with status: \u001b[1;36m502\u001b[0m.\n"
      ]
     },
     "metadata": {},
     "output_type": "display_data"
    },
    {
     "name": "stderr",
     "output_type": "stream",
     "text": [
      "Queries:   9%|9         | 9/100 [00:33<01:52,  1.23s/it]\n"
     ]
    },
    {
     "data": {
      "text/html": [
       "<pre style=\"white-space:pre;overflow-x:auto;line-height:normal;font-family:Menlo,'DejaVu Sans Mono',consolas,'Courier New',monospace\">Query call with protocol GRPC search failed with message Received http2 header with status: <span style=\"color: #008080; text-decoration-color: #008080; font-weight: bold\">502</span>.\n",
       "</pre>\n"
      ],
      "text/plain": [
       "Query call with protocol GRPC search failed with message Received http2 header with status: \u001b[1;36m502\u001b[0m.\n"
      ]
     },
     "metadata": {},
     "output_type": "display_data"
    },
    {
     "name": "stderr",
     "output_type": "stream",
     "text": [
      "Queries:  10%|#         | 10/100 [00:34<01:48,  1.21s/it]\n"
     ]
    },
    {
     "data": {
      "text/html": [
       "<pre style=\"white-space:pre;overflow-x:auto;line-height:normal;font-family:Menlo,'DejaVu Sans Mono',consolas,'Courier New',monospace\">Query call with protocol GRPC search failed with message Received http2 header with status: <span style=\"color: #008080; text-decoration-color: #008080; font-weight: bold\">502</span>.\n",
       "</pre>\n"
      ],
      "text/plain": [
       "Query call with protocol GRPC search failed with message Received http2 header with status: \u001b[1;36m502\u001b[0m.\n"
      ]
     },
     "metadata": {},
     "output_type": "display_data"
    },
    {
     "name": "stderr",
     "output_type": "stream",
     "text": [
      "Queries:  11%|#1        | 11/100 [00:35<01:46,  1.19s/it]\n"
     ]
    },
    {
     "data": {
      "text/html": [
       "<pre style=\"white-space:pre;overflow-x:auto;line-height:normal;font-family:Menlo,'DejaVu Sans Mono',consolas,'Courier New',monospace\">Query call with protocol GRPC search failed with message Received http2 header with status: <span style=\"color: #008080; text-decoration-color: #008080; font-weight: bold\">502</span>.\n",
       "</pre>\n"
      ],
      "text/plain": [
       "Query call with protocol GRPC search failed with message Received http2 header with status: \u001b[1;36m502\u001b[0m.\n"
      ]
     },
     "metadata": {},
     "output_type": "display_data"
    },
    {
     "name": "stderr",
     "output_type": "stream",
     "text": [
      "Queries:  12%|#2        | 12/100 [00:35<01:15,  1.16it/s]\n"
     ]
    },
    {
     "data": {
      "text/html": [
       "<pre style=\"white-space:pre;overflow-x:auto;line-height:normal;font-family:Menlo,'DejaVu Sans Mono',consolas,'Courier New',monospace\">Query call with protocol GRPC search failed with message Received http2 header with status: <span style=\"color: #008080; text-decoration-color: #008080; font-weight: bold\">502</span>.\n",
       "</pre>\n"
      ],
      "text/plain": [
       "Query call with protocol GRPC search failed with message Received http2 header with status: \u001b[1;36m502\u001b[0m.\n"
      ]
     },
     "metadata": {},
     "output_type": "display_data"
    },
    {
     "name": "stderr",
     "output_type": "stream",
     "text": [
      "Queries:  13%|#3        | 13/100 [00:36<01:21,  1.07it/s]\n"
     ]
    },
    {
     "data": {
      "text/html": [
       "<pre style=\"white-space:pre;overflow-x:auto;line-height:normal;font-family:Menlo,'DejaVu Sans Mono',consolas,'Courier New',monospace\">Query call with protocol GRPC search failed with message Received http2 header with status: <span style=\"color: #008080; text-decoration-color: #008080; font-weight: bold\">502</span>.\n",
       "</pre>\n"
      ],
      "text/plain": [
       "Query call with protocol GRPC search failed with message Received http2 header with status: \u001b[1;36m502\u001b[0m.\n"
      ]
     },
     "metadata": {},
     "output_type": "display_data"
    },
    {
     "name": "stderr",
     "output_type": "stream",
     "text": [
      "Queries:  14%|#4        | 14/100 [00:37<01:26,  1.00s/it]\n"
     ]
    },
    {
     "data": {
      "text/html": [
       "<pre style=\"white-space:pre;overflow-x:auto;line-height:normal;font-family:Menlo,'DejaVu Sans Mono',consolas,'Courier New',monospace\">Query call with protocol GRPC search failed with message Received http2 header with status: <span style=\"color: #008080; text-decoration-color: #008080; font-weight: bold\">502</span>.\n",
       "</pre>\n"
      ],
      "text/plain": [
       "Query call with protocol GRPC search failed with message Received http2 header with status: \u001b[1;36m502\u001b[0m.\n"
      ]
     },
     "metadata": {},
     "output_type": "display_data"
    },
    {
     "name": "stderr",
     "output_type": "stream",
     "text": [
      "Queries:  15%|#5        | 15/100 [00:39<01:28,  1.05s/it]\n"
     ]
    },
    {
     "data": {
      "text/html": [
       "<pre style=\"white-space:pre;overflow-x:auto;line-height:normal;font-family:Menlo,'DejaVu Sans Mono',consolas,'Courier New',monospace\">Query call with protocol GRPC search failed with message Received http2 header with status: <span style=\"color: #008080; text-decoration-color: #008080; font-weight: bold\">502</span>.\n",
       "</pre>\n"
      ],
      "text/plain": [
       "Query call with protocol GRPC search failed with message Received http2 header with status: \u001b[1;36m502\u001b[0m.\n"
      ]
     },
     "metadata": {},
     "output_type": "display_data"
    },
    {
     "name": "stderr",
     "output_type": "stream",
     "text": [
      "Queries:  16%|#6        | 16/100 [00:40<01:30,  1.08s/it]\n"
     ]
    },
    {
     "data": {
      "text/html": [
       "<pre style=\"white-space:pre;overflow-x:auto;line-height:normal;font-family:Menlo,'DejaVu Sans Mono',consolas,'Courier New',monospace\">Query call with protocol GRPC search failed with message Received http2 header with status: <span style=\"color: #008080; text-decoration-color: #008080; font-weight: bold\">502</span>.\n",
       "</pre>\n"
      ],
      "text/plain": [
       "Query call with protocol GRPC search failed with message Received http2 header with status: \u001b[1;36m502\u001b[0m.\n"
      ]
     },
     "metadata": {},
     "output_type": "display_data"
    },
    {
     "name": "stderr",
     "output_type": "stream",
     "text": [
      "Queries:  17%|#7        | 17/100 [00:41<01:31,  1.10s/it]\n"
     ]
    },
    {
     "data": {
      "text/html": [
       "<pre style=\"white-space:pre;overflow-x:auto;line-height:normal;font-family:Menlo,'DejaVu Sans Mono',consolas,'Courier New',monospace\">Query call with protocol GRPC search failed with message Received http2 header with status: <span style=\"color: #008080; text-decoration-color: #008080; font-weight: bold\">502</span>.\n",
       "</pre>\n"
      ],
      "text/plain": [
       "Query call with protocol GRPC search failed with message Received http2 header with status: \u001b[1;36m502\u001b[0m.\n"
      ]
     },
     "metadata": {},
     "output_type": "display_data"
    },
    {
     "name": "stderr",
     "output_type": "stream",
     "text": [
      "Queries:  18%|#8        | 18/100 [00:42<01:31,  1.12s/it]\n"
     ]
    },
    {
     "data": {
      "text/html": [
       "<pre style=\"white-space:pre;overflow-x:auto;line-height:normal;font-family:Menlo,'DejaVu Sans Mono',consolas,'Courier New',monospace\">Query call with protocol GRPC search failed with message Received http2 header with status: <span style=\"color: #008080; text-decoration-color: #008080; font-weight: bold\">502</span>.\n",
       "</pre>\n"
      ],
      "text/plain": [
       "Query call with protocol GRPC search failed with message Received http2 header with status: \u001b[1;36m502\u001b[0m.\n"
      ]
     },
     "metadata": {},
     "output_type": "display_data"
    },
    {
     "name": "stderr",
     "output_type": "stream",
     "text": [
      "Queries:  19%|#9        | 19/100 [00:42<01:05,  1.23it/s]\n"
     ]
    },
    {
     "data": {
      "text/html": [
       "<pre style=\"white-space:pre;overflow-x:auto;line-height:normal;font-family:Menlo,'DejaVu Sans Mono',consolas,'Courier New',monospace\">Query call with protocol GRPC search failed with message Received http2 header with status: <span style=\"color: #008080; text-decoration-color: #008080; font-weight: bold\">502</span>.\n",
       "</pre>\n"
      ],
      "text/plain": [
       "Query call with protocol GRPC search failed with message Received http2 header with status: \u001b[1;36m502\u001b[0m.\n"
      ]
     },
     "metadata": {},
     "output_type": "display_data"
    },
    {
     "name": "stderr",
     "output_type": "stream",
     "text": [
      "Queries:  20%|##        | 20/100 [00:43<01:12,  1.11it/s]\n"
     ]
    },
    {
     "data": {
      "text/html": [
       "<pre style=\"white-space:pre;overflow-x:auto;line-height:normal;font-family:Menlo,'DejaVu Sans Mono',consolas,'Courier New',monospace\">Query call with protocol GRPC search failed with message Received http2 header with status: <span style=\"color: #008080; text-decoration-color: #008080; font-weight: bold\">502</span>.\n",
       "</pre>\n"
      ],
      "text/plain": [
       "Query call with protocol GRPC search failed with message Received http2 header with status: \u001b[1;36m502\u001b[0m.\n"
      ]
     },
     "metadata": {},
     "output_type": "display_data"
    },
    {
     "name": "stderr",
     "output_type": "stream",
     "text": [
      "Queries:  21%|##1       | 21/100 [00:44<01:17,  1.02it/s]\n"
     ]
    },
    {
     "data": {
      "text/html": [
       "<pre style=\"white-space:pre;overflow-x:auto;line-height:normal;font-family:Menlo,'DejaVu Sans Mono',consolas,'Courier New',monospace\">Query call with protocol GRPC search failed with message Received http2 header with status: <span style=\"color: #008080; text-decoration-color: #008080; font-weight: bold\">502</span>.\n",
       "</pre>\n"
      ],
      "text/plain": [
       "Query call with protocol GRPC search failed with message Received http2 header with status: \u001b[1;36m502\u001b[0m.\n"
      ]
     },
     "metadata": {},
     "output_type": "display_data"
    },
    {
     "name": "stderr",
     "output_type": "stream",
     "text": [
      "Queries:  22%|##2       | 22/100 [00:45<01:20,  1.03s/it]\n"
     ]
    },
    {
     "data": {
      "text/html": [
       "<pre style=\"white-space:pre;overflow-x:auto;line-height:normal;font-family:Menlo,'DejaVu Sans Mono',consolas,'Courier New',monospace\">Query call with protocol GRPC search failed with message Received http2 header with status: <span style=\"color: #008080; text-decoration-color: #008080; font-weight: bold\">502</span>.\n",
       "</pre>\n"
      ],
      "text/plain": [
       "Query call with protocol GRPC search failed with message Received http2 header with status: \u001b[1;36m502\u001b[0m.\n"
      ]
     },
     "metadata": {},
     "output_type": "display_data"
    },
    {
     "name": "stderr",
     "output_type": "stream",
     "text": [
      "Queries:  23%|##3       | 23/100 [00:47<01:22,  1.07s/it]\n"
     ]
    },
    {
     "data": {
      "text/html": [
       "<pre style=\"white-space:pre;overflow-x:auto;line-height:normal;font-family:Menlo,'DejaVu Sans Mono',consolas,'Courier New',monospace\">Query call with protocol GRPC search failed with message Received http2 header with status: <span style=\"color: #008080; text-decoration-color: #008080; font-weight: bold\">502</span>.\n",
       "</pre>\n"
      ],
      "text/plain": [
       "Query call with protocol GRPC search failed with message Received http2 header with status: \u001b[1;36m502\u001b[0m.\n"
      ]
     },
     "metadata": {},
     "output_type": "display_data"
    },
    {
     "name": "stderr",
     "output_type": "stream",
     "text": [
      "Queries:  24%|##4       | 24/100 [00:48<01:23,  1.09s/it]\n"
     ]
    },
    {
     "data": {
      "text/html": [
       "<pre style=\"white-space:pre;overflow-x:auto;line-height:normal;font-family:Menlo,'DejaVu Sans Mono',consolas,'Courier New',monospace\">Query call with protocol GRPC search failed with message Received http2 header with status: <span style=\"color: #008080; text-decoration-color: #008080; font-weight: bold\">502</span>.\n",
       "</pre>\n"
      ],
      "text/plain": [
       "Query call with protocol GRPC search failed with message Received http2 header with status: \u001b[1;36m502\u001b[0m.\n"
      ]
     },
     "metadata": {},
     "output_type": "display_data"
    },
    {
     "name": "stderr",
     "output_type": "stream",
     "text": [
      "Queries:  25%|##5       | 25/100 [00:49<01:23,  1.11s/it]\n"
     ]
    },
    {
     "data": {
      "text/html": [
       "<pre style=\"white-space:pre;overflow-x:auto;line-height:normal;font-family:Menlo,'DejaVu Sans Mono',consolas,'Courier New',monospace\">Query call with protocol GRPC search failed with message Received http2 header with status: <span style=\"color: #008080; text-decoration-color: #008080; font-weight: bold\">502</span>.\n",
       "</pre>\n"
      ],
      "text/plain": [
       "Query call with protocol GRPC search failed with message Received http2 header with status: \u001b[1;36m502\u001b[0m.\n"
      ]
     },
     "metadata": {},
     "output_type": "display_data"
    },
    {
     "name": "stderr",
     "output_type": "stream",
     "text": [
      "Queries:  26%|##6       | 26/100 [00:49<00:59,  1.24it/s]\n"
     ]
    },
    {
     "data": {
      "text/html": [
       "<pre style=\"white-space:pre;overflow-x:auto;line-height:normal;font-family:Menlo,'DejaVu Sans Mono',consolas,'Courier New',monospace\">Query call with protocol GRPC search failed with message Received http2 header with status: <span style=\"color: #008080; text-decoration-color: #008080; font-weight: bold\">502</span>.\n",
       "</pre>\n"
      ],
      "text/plain": [
       "Query call with protocol GRPC search failed with message Received http2 header with status: \u001b[1;36m502\u001b[0m.\n"
      ]
     },
     "metadata": {},
     "output_type": "display_data"
    },
    {
     "name": "stderr",
     "output_type": "stream",
     "text": [
      "Queries:  27%|##7       | 27/100 [00:50<01:05,  1.11it/s]\n"
     ]
    },
    {
     "data": {
      "text/html": [
       "<pre style=\"white-space:pre;overflow-x:auto;line-height:normal;font-family:Menlo,'DejaVu Sans Mono',consolas,'Courier New',monospace\">Query call with protocol GRPC search failed with message Received http2 header with status: <span style=\"color: #008080; text-decoration-color: #008080; font-weight: bold\">502</span>.\n",
       "</pre>\n"
      ],
      "text/plain": [
       "Query call with protocol GRPC search failed with message Received http2 header with status: \u001b[1;36m502\u001b[0m.\n"
      ]
     },
     "metadata": {},
     "output_type": "display_data"
    },
    {
     "name": "stderr",
     "output_type": "stream",
     "text": [
      "Queries:  28%|##8       | 28/100 [00:51<01:10,  1.03it/s]\n"
     ]
    },
    {
     "data": {
      "text/html": [
       "<pre style=\"white-space:pre;overflow-x:auto;line-height:normal;font-family:Menlo,'DejaVu Sans Mono',consolas,'Courier New',monospace\">Query call with protocol GRPC search failed with message Received http2 header with status: <span style=\"color: #008080; text-decoration-color: #008080; font-weight: bold\">502</span>.\n",
       "</pre>\n"
      ],
      "text/plain": [
       "Query call with protocol GRPC search failed with message Received http2 header with status: \u001b[1;36m502\u001b[0m.\n"
      ]
     },
     "metadata": {},
     "output_type": "display_data"
    },
    {
     "name": "stderr",
     "output_type": "stream",
     "text": [
      "Queries:  29%|##9       | 29/100 [00:52<01:13,  1.03s/it]\n"
     ]
    },
    {
     "data": {
      "text/html": [
       "<pre style=\"white-space:pre;overflow-x:auto;line-height:normal;font-family:Menlo,'DejaVu Sans Mono',consolas,'Courier New',monospace\">Query call with protocol GRPC search failed with message Received http2 header with status: <span style=\"color: #008080; text-decoration-color: #008080; font-weight: bold\">502</span>.\n",
       "</pre>\n"
      ],
      "text/plain": [
       "Query call with protocol GRPC search failed with message Received http2 header with status: \u001b[1;36m502\u001b[0m.\n"
      ]
     },
     "metadata": {},
     "output_type": "display_data"
    },
    {
     "name": "stderr",
     "output_type": "stream",
     "text": [
      "Queries:  30%|###       | 30/100 [00:54<01:14,  1.07s/it]\n"
     ]
    },
    {
     "data": {
      "text/html": [
       "<pre style=\"white-space:pre;overflow-x:auto;line-height:normal;font-family:Menlo,'DejaVu Sans Mono',consolas,'Courier New',monospace\">Query call with protocol GRPC search failed with message Received http2 header with status: <span style=\"color: #008080; text-decoration-color: #008080; font-weight: bold\">502</span>.\n",
       "</pre>\n"
      ],
      "text/plain": [
       "Query call with protocol GRPC search failed with message Received http2 header with status: \u001b[1;36m502\u001b[0m.\n"
      ]
     },
     "metadata": {},
     "output_type": "display_data"
    },
    {
     "name": "stderr",
     "output_type": "stream",
     "text": [
      "Queries:  31%|###1      | 31/100 [00:55<01:15,  1.09s/it]\n"
     ]
    },
    {
     "data": {
      "text/html": [
       "<pre style=\"white-space:pre;overflow-x:auto;line-height:normal;font-family:Menlo,'DejaVu Sans Mono',consolas,'Courier New',monospace\">Query call with protocol GRPC search failed with message Received http2 header with status: <span style=\"color: #008080; text-decoration-color: #008080; font-weight: bold\">502</span>.\n",
       "</pre>\n"
      ],
      "text/plain": [
       "Query call with protocol GRPC search failed with message Received http2 header with status: \u001b[1;36m502\u001b[0m.\n"
      ]
     },
     "metadata": {},
     "output_type": "display_data"
    },
    {
     "name": "stderr",
     "output_type": "stream",
     "text": [
      "Queries:  32%|###2      | 32/100 [00:56<01:15,  1.11s/it]\n"
     ]
    },
    {
     "data": {
      "text/html": [
       "<pre style=\"white-space:pre;overflow-x:auto;line-height:normal;font-family:Menlo,'DejaVu Sans Mono',consolas,'Courier New',monospace\">Query call with protocol GRPC search failed with message Received http2 header with status: <span style=\"color: #008080; text-decoration-color: #008080; font-weight: bold\">502</span>.\n",
       "</pre>\n"
      ],
      "text/plain": [
       "Query call with protocol GRPC search failed with message Received http2 header with status: \u001b[1;36m502\u001b[0m.\n"
      ]
     },
     "metadata": {},
     "output_type": "display_data"
    },
    {
     "name": "stderr",
     "output_type": "stream",
     "text": [
      "Queries:  33%|###3      | 33/100 [00:56<00:54,  1.24it/s]\n"
     ]
    },
    {
     "data": {
      "text/html": [
       "<pre style=\"white-space:pre;overflow-x:auto;line-height:normal;font-family:Menlo,'DejaVu Sans Mono',consolas,'Courier New',monospace\">Query call with protocol GRPC search failed with message Received http2 header with status: <span style=\"color: #008080; text-decoration-color: #008080; font-weight: bold\">502</span>.\n",
       "</pre>\n"
      ],
      "text/plain": [
       "Query call with protocol GRPC search failed with message Received http2 header with status: \u001b[1;36m502\u001b[0m.\n"
      ]
     },
     "metadata": {},
     "output_type": "display_data"
    },
    {
     "name": "stderr",
     "output_type": "stream",
     "text": [
      "Queries:  34%|###4      | 34/100 [00:57<00:59,  1.11it/s]\n"
     ]
    },
    {
     "data": {
      "text/html": [
       "<pre style=\"white-space:pre;overflow-x:auto;line-height:normal;font-family:Menlo,'DejaVu Sans Mono',consolas,'Courier New',monospace\">Query call with protocol GRPC search failed with message Received http2 header with status: <span style=\"color: #008080; text-decoration-color: #008080; font-weight: bold\">502</span>.\n",
       "</pre>\n"
      ],
      "text/plain": [
       "Query call with protocol GRPC search failed with message Received http2 header with status: \u001b[1;36m502\u001b[0m.\n"
      ]
     },
     "metadata": {},
     "output_type": "display_data"
    },
    {
     "name": "stderr",
     "output_type": "stream",
     "text": [
      "Queries:  35%|###5      | 35/100 [00:58<01:03,  1.03it/s]\n"
     ]
    },
    {
     "data": {
      "text/html": [
       "<pre style=\"white-space:pre;overflow-x:auto;line-height:normal;font-family:Menlo,'DejaVu Sans Mono',consolas,'Courier New',monospace\">Query call with protocol GRPC search failed with message Received http2 header with status: <span style=\"color: #008080; text-decoration-color: #008080; font-weight: bold\">502</span>.\n",
       "</pre>\n"
      ],
      "text/plain": [
       "Query call with protocol GRPC search failed with message Received http2 header with status: \u001b[1;36m502\u001b[0m.\n"
      ]
     },
     "metadata": {},
     "output_type": "display_data"
    },
    {
     "name": "stderr",
     "output_type": "stream",
     "text": [
      "Queries:  36%|###6      | 36/100 [00:59<01:05,  1.03s/it]\n"
     ]
    },
    {
     "data": {
      "text/html": [
       "<pre style=\"white-space:pre;overflow-x:auto;line-height:normal;font-family:Menlo,'DejaVu Sans Mono',consolas,'Courier New',monospace\">Query call with protocol GRPC search failed with message Received http2 header with status: <span style=\"color: #008080; text-decoration-color: #008080; font-weight: bold\">502</span>.\n",
       "</pre>\n"
      ],
      "text/plain": [
       "Query call with protocol GRPC search failed with message Received http2 header with status: \u001b[1;36m502\u001b[0m.\n"
      ]
     },
     "metadata": {},
     "output_type": "display_data"
    },
    {
     "name": "stderr",
     "output_type": "stream",
     "text": [
      "Queries:  37%|###7      | 37/100 [01:01<01:07,  1.07s/it]\n"
     ]
    },
    {
     "data": {
      "text/html": [
       "<pre style=\"white-space:pre;overflow-x:auto;line-height:normal;font-family:Menlo,'DejaVu Sans Mono',consolas,'Courier New',monospace\">Query call with protocol GRPC search failed with message Received http2 header with status: <span style=\"color: #008080; text-decoration-color: #008080; font-weight: bold\">502</span>.\n",
       "</pre>\n"
      ],
      "text/plain": [
       "Query call with protocol GRPC search failed with message Received http2 header with status: \u001b[1;36m502\u001b[0m.\n"
      ]
     },
     "metadata": {},
     "output_type": "display_data"
    },
    {
     "name": "stderr",
     "output_type": "stream",
     "text": [
      "Queries:  38%|###8      | 38/100 [01:02<01:07,  1.09s/it]\n"
     ]
    },
    {
     "data": {
      "text/html": [
       "<pre style=\"white-space:pre;overflow-x:auto;line-height:normal;font-family:Menlo,'DejaVu Sans Mono',consolas,'Courier New',monospace\">Query call with protocol GRPC search failed with message Received http2 header with status: <span style=\"color: #008080; text-decoration-color: #008080; font-weight: bold\">502</span>.\n",
       "</pre>\n"
      ],
      "text/plain": [
       "Query call with protocol GRPC search failed with message Received http2 header with status: \u001b[1;36m502\u001b[0m.\n"
      ]
     },
     "metadata": {},
     "output_type": "display_data"
    },
    {
     "name": "stderr",
     "output_type": "stream",
     "text": [
      "Queries:  39%|###9      | 39/100 [01:03<01:07,  1.11s/it]\n"
     ]
    },
    {
     "data": {
      "text/html": [
       "<pre style=\"white-space:pre;overflow-x:auto;line-height:normal;font-family:Menlo,'DejaVu Sans Mono',consolas,'Courier New',monospace\">Query call with protocol GRPC search failed with message Received http2 header with status: <span style=\"color: #008080; text-decoration-color: #008080; font-weight: bold\">502</span>.\n",
       "</pre>\n"
      ],
      "text/plain": [
       "Query call with protocol GRPC search failed with message Received http2 header with status: \u001b[1;36m502\u001b[0m.\n"
      ]
     },
     "metadata": {},
     "output_type": "display_data"
    },
    {
     "name": "stderr",
     "output_type": "stream",
     "text": [
      "Queries:  40%|####      | 40/100 [01:04<01:07,  1.12s/it]\n"
     ]
    },
    {
     "data": {
      "text/html": [
       "<pre style=\"white-space:pre;overflow-x:auto;line-height:normal;font-family:Menlo,'DejaVu Sans Mono',consolas,'Courier New',monospace\">Query call with protocol GRPC search failed with message Received http2 header with status: <span style=\"color: #008080; text-decoration-color: #008080; font-weight: bold\">502</span>.\n",
       "</pre>\n"
      ],
      "text/plain": [
       "Query call with protocol GRPC search failed with message Received http2 header with status: \u001b[1;36m502\u001b[0m.\n"
      ]
     },
     "metadata": {},
     "output_type": "display_data"
    },
    {
     "name": "stderr",
     "output_type": "stream",
     "text": [
      "Queries:  41%|####1     | 41/100 [01:04<00:48,  1.22it/s]\n"
     ]
    },
    {
     "data": {
      "text/html": [
       "<pre style=\"white-space:pre;overflow-x:auto;line-height:normal;font-family:Menlo,'DejaVu Sans Mono',consolas,'Courier New',monospace\">Query call with protocol GRPC search failed with message Received http2 header with status: <span style=\"color: #008080; text-decoration-color: #008080; font-weight: bold\">502</span>.\n",
       "</pre>\n"
      ],
      "text/plain": [
       "Query call with protocol GRPC search failed with message Received http2 header with status: \u001b[1;36m502\u001b[0m.\n"
      ]
     },
     "metadata": {},
     "output_type": "display_data"
    },
    {
     "name": "stderr",
     "output_type": "stream",
     "text": [
      "Queries:  42%|####2     | 42/100 [01:07<01:28,  1.52s/it]\n"
     ]
    },
    {
     "data": {
      "text/html": [
       "<pre style=\"white-space:pre;overflow-x:auto;line-height:normal;font-family:Menlo,'DejaVu Sans Mono',consolas,'Courier New',monospace\">Query call with protocol GRPC search failed with message Received http2 header with status: <span style=\"color: #008080; text-decoration-color: #008080; font-weight: bold\">502</span>.\n",
       "</pre>\n"
      ],
      "text/plain": [
       "Query call with protocol GRPC search failed with message Received http2 header with status: \u001b[1;36m502\u001b[0m.\n"
      ]
     },
     "metadata": {},
     "output_type": "display_data"
    },
    {
     "name": "stderr",
     "output_type": "stream",
     "text": [
      "Queries:  43%|####3     | 43/100 [01:07<01:02,  1.10s/it]\n"
     ]
    },
    {
     "data": {
      "text/html": [
       "<pre style=\"white-space:pre;overflow-x:auto;line-height:normal;font-family:Menlo,'DejaVu Sans Mono',consolas,'Courier New',monospace\">Query call with protocol GRPC search failed with message Received http2 header with status: <span style=\"color: #008080; text-decoration-color: #008080; font-weight: bold\">502</span>.\n",
       "</pre>\n"
      ],
      "text/plain": [
       "Query call with protocol GRPC search failed with message Received http2 header with status: \u001b[1;36m502\u001b[0m.\n"
      ]
     },
     "metadata": {},
     "output_type": "display_data"
    },
    {
     "name": "stderr",
     "output_type": "stream",
     "text": [
      "Queries:  44%|####4     | 44/100 [01:09<01:01,  1.10s/it]\n"
     ]
    },
    {
     "data": {
      "text/html": [
       "<pre style=\"white-space:pre;overflow-x:auto;line-height:normal;font-family:Menlo,'DejaVu Sans Mono',consolas,'Courier New',monospace\">Query call with protocol GRPC search failed with message Received http2 header with status: <span style=\"color: #008080; text-decoration-color: #008080; font-weight: bold\">502</span>.\n",
       "</pre>\n"
      ],
      "text/plain": [
       "Query call with protocol GRPC search failed with message Received http2 header with status: \u001b[1;36m502\u001b[0m.\n"
      ]
     },
     "metadata": {},
     "output_type": "display_data"
    },
    {
     "name": "stderr",
     "output_type": "stream",
     "text": [
      "Queries:  45%|####5     | 45/100 [01:10<01:01,  1.12s/it]\n"
     ]
    },
    {
     "data": {
      "text/html": [
       "<pre style=\"white-space:pre;overflow-x:auto;line-height:normal;font-family:Menlo,'DejaVu Sans Mono',consolas,'Courier New',monospace\">Query call with protocol GRPC search failed with message Received http2 header with status: <span style=\"color: #008080; text-decoration-color: #008080; font-weight: bold\">502</span>.\n",
       "</pre>\n"
      ],
      "text/plain": [
       "Query call with protocol GRPC search failed with message Received http2 header with status: \u001b[1;36m502\u001b[0m.\n"
      ]
     },
     "metadata": {},
     "output_type": "display_data"
    },
    {
     "name": "stderr",
     "output_type": "stream",
     "text": [
      "Queries:  46%|####6     | 46/100 [01:11<01:00,  1.13s/it]\n"
     ]
    },
    {
     "data": {
      "text/html": [
       "<pre style=\"white-space:pre;overflow-x:auto;line-height:normal;font-family:Menlo,'DejaVu Sans Mono',consolas,'Courier New',monospace\">Query call with protocol GRPC search failed with message Received http2 header with status: <span style=\"color: #008080; text-decoration-color: #008080; font-weight: bold\">502</span>.\n",
       "</pre>\n"
      ],
      "text/plain": [
       "Query call with protocol GRPC search failed with message Received http2 header with status: \u001b[1;36m502\u001b[0m.\n"
      ]
     },
     "metadata": {},
     "output_type": "display_data"
    },
    {
     "name": "stderr",
     "output_type": "stream",
     "text": [
      "Queries:  47%|####6     | 47/100 [01:12<01:00,  1.13s/it]\n"
     ]
    },
    {
     "data": {
      "text/html": [
       "<pre style=\"white-space:pre;overflow-x:auto;line-height:normal;font-family:Menlo,'DejaVu Sans Mono',consolas,'Courier New',monospace\">Query call with protocol GRPC search failed with message Received http2 header with status: <span style=\"color: #008080; text-decoration-color: #008080; font-weight: bold\">502</span>.\n",
       "</pre>\n"
      ],
      "text/plain": [
       "Query call with protocol GRPC search failed with message Received http2 header with status: \u001b[1;36m502\u001b[0m.\n"
      ]
     },
     "metadata": {},
     "output_type": "display_data"
    },
    {
     "name": "stderr",
     "output_type": "stream",
     "text": [
      "Queries:  48%|####8     | 48/100 [01:12<00:42,  1.21it/s]\n"
     ]
    },
    {
     "data": {
      "text/html": [
       "<pre style=\"white-space:pre;overflow-x:auto;line-height:normal;font-family:Menlo,'DejaVu Sans Mono',consolas,'Courier New',monospace\">Query call with protocol GRPC search failed with message Received http2 header with status: <span style=\"color: #008080; text-decoration-color: #008080; font-weight: bold\">502</span>.\n",
       "</pre>\n"
      ],
      "text/plain": [
       "Query call with protocol GRPC search failed with message Received http2 header with status: \u001b[1;36m502\u001b[0m.\n"
      ]
     },
     "metadata": {},
     "output_type": "display_data"
    },
    {
     "name": "stderr",
     "output_type": "stream",
     "text": [
      "Queries:  49%|####9     | 49/100 [01:13<00:46,  1.10it/s]\n"
     ]
    },
    {
     "data": {
      "text/html": [
       "<pre style=\"white-space:pre;overflow-x:auto;line-height:normal;font-family:Menlo,'DejaVu Sans Mono',consolas,'Courier New',monospace\">Query call with protocol GRPC search failed with message Received http2 header with status: <span style=\"color: #008080; text-decoration-color: #008080; font-weight: bold\">502</span>.\n",
       "</pre>\n"
      ],
      "text/plain": [
       "Query call with protocol GRPC search failed with message Received http2 header with status: \u001b[1;36m502\u001b[0m.\n"
      ]
     },
     "metadata": {},
     "output_type": "display_data"
    },
    {
     "name": "stderr",
     "output_type": "stream",
     "text": [
      "Queries:  50%|#####     | 50/100 [01:14<00:49,  1.02it/s]\n"
     ]
    },
    {
     "data": {
      "text/html": [
       "<pre style=\"white-space:pre;overflow-x:auto;line-height:normal;font-family:Menlo,'DejaVu Sans Mono',consolas,'Courier New',monospace\">Query call with protocol GRPC search failed with message Received http2 header with status: <span style=\"color: #008080; text-decoration-color: #008080; font-weight: bold\">502</span>.\n",
       "</pre>\n"
      ],
      "text/plain": [
       "Query call with protocol GRPC search failed with message Received http2 header with status: \u001b[1;36m502\u001b[0m.\n"
      ]
     },
     "metadata": {},
     "output_type": "display_data"
    },
    {
     "name": "stderr",
     "output_type": "stream",
     "text": [
      "Queries:  51%|#####1    | 51/100 [01:16<00:50,  1.03s/it]\n"
     ]
    },
    {
     "data": {
      "text/html": [
       "<pre style=\"white-space:pre;overflow-x:auto;line-height:normal;font-family:Menlo,'DejaVu Sans Mono',consolas,'Courier New',monospace\">Query call with protocol GRPC search failed with message Received http2 header with status: <span style=\"color: #008080; text-decoration-color: #008080; font-weight: bold\">502</span>.\n",
       "</pre>\n"
      ],
      "text/plain": [
       "Query call with protocol GRPC search failed with message Received http2 header with status: \u001b[1;36m502\u001b[0m.\n"
      ]
     },
     "metadata": {},
     "output_type": "display_data"
    },
    {
     "name": "stderr",
     "output_type": "stream",
     "text": [
      "Queries:  52%|#####2    | 52/100 [01:17<00:51,  1.07s/it]\n"
     ]
    },
    {
     "data": {
      "text/html": [
       "<pre style=\"white-space:pre;overflow-x:auto;line-height:normal;font-family:Menlo,'DejaVu Sans Mono',consolas,'Courier New',monospace\">Query call with protocol GRPC search failed with message Received http2 header with status: <span style=\"color: #008080; text-decoration-color: #008080; font-weight: bold\">502</span>.\n",
       "</pre>\n"
      ],
      "text/plain": [
       "Query call with protocol GRPC search failed with message Received http2 header with status: \u001b[1;36m502\u001b[0m.\n"
      ]
     },
     "metadata": {},
     "output_type": "display_data"
    },
    {
     "name": "stderr",
     "output_type": "stream",
     "text": [
      "Queries:  53%|#####3    | 53/100 [01:18<00:51,  1.09s/it]\n"
     ]
    },
    {
     "data": {
      "text/html": [
       "<pre style=\"white-space:pre;overflow-x:auto;line-height:normal;font-family:Menlo,'DejaVu Sans Mono',consolas,'Courier New',monospace\">Query call with protocol GRPC search failed with message Received http2 header with status: <span style=\"color: #008080; text-decoration-color: #008080; font-weight: bold\">502</span>.\n",
       "</pre>\n"
      ],
      "text/plain": [
       "Query call with protocol GRPC search failed with message Received http2 header with status: \u001b[1;36m502\u001b[0m.\n"
      ]
     },
     "metadata": {},
     "output_type": "display_data"
    },
    {
     "name": "stderr",
     "output_type": "stream",
     "text": [
      "Queries:  54%|#####4    | 54/100 [01:19<00:51,  1.11s/it]\n"
     ]
    },
    {
     "data": {
      "text/html": [
       "<pre style=\"white-space:pre;overflow-x:auto;line-height:normal;font-family:Menlo,'DejaVu Sans Mono',consolas,'Courier New',monospace\">Query call with protocol GRPC search failed with message Received http2 header with status: <span style=\"color: #008080; text-decoration-color: #008080; font-weight: bold\">502</span>.\n",
       "</pre>\n"
      ],
      "text/plain": [
       "Query call with protocol GRPC search failed with message Received http2 header with status: \u001b[1;36m502\u001b[0m.\n"
      ]
     },
     "metadata": {},
     "output_type": "display_data"
    },
    {
     "name": "stderr",
     "output_type": "stream",
     "text": [
      "Queries:  55%|#####5    | 55/100 [01:19<00:36,  1.24it/s]\n"
     ]
    },
    {
     "data": {
      "text/html": [
       "<pre style=\"white-space:pre;overflow-x:auto;line-height:normal;font-family:Menlo,'DejaVu Sans Mono',consolas,'Courier New',monospace\">Query call with protocol GRPC search failed with message Received http2 header with status: <span style=\"color: #008080; text-decoration-color: #008080; font-weight: bold\">502</span>.\n",
       "</pre>\n"
      ],
      "text/plain": [
       "Query call with protocol GRPC search failed with message Received http2 header with status: \u001b[1;36m502\u001b[0m.\n"
      ]
     },
     "metadata": {},
     "output_type": "display_data"
    },
    {
     "name": "stderr",
     "output_type": "stream",
     "text": [
      "Queries:  56%|#####6    | 56/100 [01:20<00:39,  1.11it/s]\n"
     ]
    },
    {
     "data": {
      "text/html": [
       "<pre style=\"white-space:pre;overflow-x:auto;line-height:normal;font-family:Menlo,'DejaVu Sans Mono',consolas,'Courier New',monospace\">Query call with protocol GRPC search failed with message Received http2 header with status: <span style=\"color: #008080; text-decoration-color: #008080; font-weight: bold\">502</span>.\n",
       "</pre>\n"
      ],
      "text/plain": [
       "Query call with protocol GRPC search failed with message Received http2 header with status: \u001b[1;36m502\u001b[0m.\n"
      ]
     },
     "metadata": {},
     "output_type": "display_data"
    },
    {
     "name": "stderr",
     "output_type": "stream",
     "text": [
      "Queries:  57%|#####6    | 57/100 [01:21<00:41,  1.02it/s]\n"
     ]
    },
    {
     "data": {
      "text/html": [
       "<pre style=\"white-space:pre;overflow-x:auto;line-height:normal;font-family:Menlo,'DejaVu Sans Mono',consolas,'Courier New',monospace\">Query call with protocol GRPC search failed with message Received http2 header with status: <span style=\"color: #008080; text-decoration-color: #008080; font-weight: bold\">502</span>.\n",
       "</pre>\n"
      ],
      "text/plain": [
       "Query call with protocol GRPC search failed with message Received http2 header with status: \u001b[1;36m502\u001b[0m.\n"
      ]
     },
     "metadata": {},
     "output_type": "display_data"
    },
    {
     "name": "stderr",
     "output_type": "stream",
     "text": [
      "Queries:  58%|#####8    | 58/100 [01:22<00:43,  1.03s/it]\n"
     ]
    },
    {
     "data": {
      "text/html": [
       "<pre style=\"white-space:pre;overflow-x:auto;line-height:normal;font-family:Menlo,'DejaVu Sans Mono',consolas,'Courier New',monospace\">Query call with protocol GRPC search failed with message Received http2 header with status: <span style=\"color: #008080; text-decoration-color: #008080; font-weight: bold\">502</span>.\n",
       "</pre>\n"
      ],
      "text/plain": [
       "Query call with protocol GRPC search failed with message Received http2 header with status: \u001b[1;36m502\u001b[0m.\n"
      ]
     },
     "metadata": {},
     "output_type": "display_data"
    },
    {
     "name": "stderr",
     "output_type": "stream",
     "text": [
      "Queries:  59%|#####8    | 59/100 [01:24<00:43,  1.07s/it]\n"
     ]
    },
    {
     "data": {
      "text/html": [
       "<pre style=\"white-space:pre;overflow-x:auto;line-height:normal;font-family:Menlo,'DejaVu Sans Mono',consolas,'Courier New',monospace\">Query call with protocol GRPC search failed with message Received http2 header with status: <span style=\"color: #008080; text-decoration-color: #008080; font-weight: bold\">502</span>.\n",
       "</pre>\n"
      ],
      "text/plain": [
       "Query call with protocol GRPC search failed with message Received http2 header with status: \u001b[1;36m502\u001b[0m.\n"
      ]
     },
     "metadata": {},
     "output_type": "display_data"
    },
    {
     "name": "stderr",
     "output_type": "stream",
     "text": [
      "Queries:  60%|######    | 60/100 [01:25<00:43,  1.09s/it]\n"
     ]
    },
    {
     "data": {
      "text/html": [
       "<pre style=\"white-space:pre;overflow-x:auto;line-height:normal;font-family:Menlo,'DejaVu Sans Mono',consolas,'Courier New',monospace\">Query call with protocol GRPC search failed with message Received http2 header with status: <span style=\"color: #008080; text-decoration-color: #008080; font-weight: bold\">502</span>.\n",
       "</pre>\n"
      ],
      "text/plain": [
       "Query call with protocol GRPC search failed with message Received http2 header with status: \u001b[1;36m502\u001b[0m.\n"
      ]
     },
     "metadata": {},
     "output_type": "display_data"
    },
    {
     "name": "stderr",
     "output_type": "stream",
     "text": [
      "Queries:  61%|######1   | 61/100 [01:26<00:43,  1.11s/it]\n"
     ]
    },
    {
     "data": {
      "text/html": [
       "<pre style=\"white-space:pre;overflow-x:auto;line-height:normal;font-family:Menlo,'DejaVu Sans Mono',consolas,'Courier New',monospace\">Query call with protocol GRPC search failed with message Received http2 header with status: <span style=\"color: #008080; text-decoration-color: #008080; font-weight: bold\">502</span>.\n",
       "</pre>\n"
      ],
      "text/plain": [
       "Query call with protocol GRPC search failed with message Received http2 header with status: \u001b[1;36m502\u001b[0m.\n"
      ]
     },
     "metadata": {},
     "output_type": "display_data"
    },
    {
     "name": "stderr",
     "output_type": "stream",
     "text": [
      "Queries:  62%|######2   | 62/100 [01:26<00:33,  1.13it/s]\n"
     ]
    },
    {
     "data": {
      "text/html": [
       "<pre style=\"white-space:pre;overflow-x:auto;line-height:normal;font-family:Menlo,'DejaVu Sans Mono',consolas,'Courier New',monospace\">Query call with protocol GRPC search failed with message Received http2 header with status: <span style=\"color: #008080; text-decoration-color: #008080; font-weight: bold\">502</span>.\n",
       "</pre>\n"
      ],
      "text/plain": [
       "Query call with protocol GRPC search failed with message Received http2 header with status: \u001b[1;36m502\u001b[0m.\n"
      ]
     },
     "metadata": {},
     "output_type": "display_data"
    },
    {
     "name": "stderr",
     "output_type": "stream",
     "text": [
      "Queries:  63%|######3   | 63/100 [01:27<00:35,  1.05it/s]\n"
     ]
    },
    {
     "data": {
      "text/html": [
       "<pre style=\"white-space:pre;overflow-x:auto;line-height:normal;font-family:Menlo,'DejaVu Sans Mono',consolas,'Courier New',monospace\">Query call with protocol GRPC search failed with message Received http2 header with status: <span style=\"color: #008080; text-decoration-color: #008080; font-weight: bold\">502</span>.\n",
       "</pre>\n"
      ],
      "text/plain": [
       "Query call with protocol GRPC search failed with message Received http2 header with status: \u001b[1;36m502\u001b[0m.\n"
      ]
     },
     "metadata": {},
     "output_type": "display_data"
    },
    {
     "name": "stderr",
     "output_type": "stream",
     "text": [
      "Queries:  64%|######4   | 64/100 [01:29<00:36,  1.01s/it]\n"
     ]
    },
    {
     "data": {
      "text/html": [
       "<pre style=\"white-space:pre;overflow-x:auto;line-height:normal;font-family:Menlo,'DejaVu Sans Mono',consolas,'Courier New',monospace\">Query call with protocol GRPC search failed with message Received http2 header with status: <span style=\"color: #008080; text-decoration-color: #008080; font-weight: bold\">502</span>.\n",
       "</pre>\n"
      ],
      "text/plain": [
       "Query call with protocol GRPC search failed with message Received http2 header with status: \u001b[1;36m502\u001b[0m.\n"
      ]
     },
     "metadata": {},
     "output_type": "display_data"
    },
    {
     "name": "stderr",
     "output_type": "stream",
     "text": [
      "Queries:  65%|######5   | 65/100 [01:30<00:36,  1.05s/it]\n"
     ]
    },
    {
     "data": {
      "text/html": [
       "<pre style=\"white-space:pre;overflow-x:auto;line-height:normal;font-family:Menlo,'DejaVu Sans Mono',consolas,'Courier New',monospace\">Query call with protocol GRPC search failed with message Received http2 header with status: <span style=\"color: #008080; text-decoration-color: #008080; font-weight: bold\">502</span>.\n",
       "</pre>\n"
      ],
      "text/plain": [
       "Query call with protocol GRPC search failed with message Received http2 header with status: \u001b[1;36m502\u001b[0m.\n"
      ]
     },
     "metadata": {},
     "output_type": "display_data"
    },
    {
     "name": "stderr",
     "output_type": "stream",
     "text": [
      "Queries:  66%|######6   | 66/100 [01:31<00:36,  1.08s/it]\n"
     ]
    },
    {
     "data": {
      "text/html": [
       "<pre style=\"white-space:pre;overflow-x:auto;line-height:normal;font-family:Menlo,'DejaVu Sans Mono',consolas,'Courier New',monospace\">Query call with protocol GRPC search failed with message Received http2 header with status: <span style=\"color: #008080; text-decoration-color: #008080; font-weight: bold\">502</span>.\n",
       "</pre>\n"
      ],
      "text/plain": [
       "Query call with protocol GRPC search failed with message Received http2 header with status: \u001b[1;36m502\u001b[0m.\n"
      ]
     },
     "metadata": {},
     "output_type": "display_data"
    },
    {
     "name": "stderr",
     "output_type": "stream",
     "text": [
      "Queries:  67%|######7   | 67/100 [01:32<00:36,  1.10s/it]\n"
     ]
    },
    {
     "data": {
      "text/html": [
       "<pre style=\"white-space:pre;overflow-x:auto;line-height:normal;font-family:Menlo,'DejaVu Sans Mono',consolas,'Courier New',monospace\">Query call with protocol GRPC search failed with message Received http2 header with status: <span style=\"color: #008080; text-decoration-color: #008080; font-weight: bold\">502</span>.\n",
       "</pre>\n"
      ],
      "text/plain": [
       "Query call with protocol GRPC search failed with message Received http2 header with status: \u001b[1;36m502\u001b[0m.\n"
      ]
     },
     "metadata": {},
     "output_type": "display_data"
    },
    {
     "name": "stderr",
     "output_type": "stream",
     "text": [
      "Queries:  68%|######8   | 68/100 [01:32<00:25,  1.24it/s]\n"
     ]
    },
    {
     "data": {
      "text/html": [
       "<pre style=\"white-space:pre;overflow-x:auto;line-height:normal;font-family:Menlo,'DejaVu Sans Mono',consolas,'Courier New',monospace\">Query call with protocol GRPC search failed with message Received http2 header with status: <span style=\"color: #008080; text-decoration-color: #008080; font-weight: bold\">502</span>.\n",
       "</pre>\n"
      ],
      "text/plain": [
       "Query call with protocol GRPC search failed with message Received http2 header with status: \u001b[1;36m502\u001b[0m.\n"
      ]
     },
     "metadata": {},
     "output_type": "display_data"
    },
    {
     "name": "stderr",
     "output_type": "stream",
     "text": [
      "Queries:  69%|######9   | 69/100 [01:33<00:27,  1.12it/s]\n"
     ]
    },
    {
     "data": {
      "text/html": [
       "<pre style=\"white-space:pre;overflow-x:auto;line-height:normal;font-family:Menlo,'DejaVu Sans Mono',consolas,'Courier New',monospace\">Query call with protocol GRPC search failed with message Received http2 header with status: <span style=\"color: #008080; text-decoration-color: #008080; font-weight: bold\">502</span>.\n",
       "</pre>\n"
      ],
      "text/plain": [
       "Query call with protocol GRPC search failed with message Received http2 header with status: \u001b[1;36m502\u001b[0m.\n"
      ]
     },
     "metadata": {},
     "output_type": "display_data"
    },
    {
     "name": "stderr",
     "output_type": "stream",
     "text": [
      "Queries:  70%|#######   | 70/100 [01:34<00:29,  1.03it/s]\n"
     ]
    },
    {
     "data": {
      "text/html": [
       "<pre style=\"white-space:pre;overflow-x:auto;line-height:normal;font-family:Menlo,'DejaVu Sans Mono',consolas,'Courier New',monospace\">Query call with protocol GRPC search failed with message Received http2 header with status: <span style=\"color: #008080; text-decoration-color: #008080; font-weight: bold\">502</span>.\n",
       "</pre>\n"
      ],
      "text/plain": [
       "Query call with protocol GRPC search failed with message Received http2 header with status: \u001b[1;36m502\u001b[0m.\n"
      ]
     },
     "metadata": {},
     "output_type": "display_data"
    },
    {
     "name": "stderr",
     "output_type": "stream",
     "text": [
      "Queries:  71%|#######1  | 71/100 [01:36<00:29,  1.03s/it]\n"
     ]
    },
    {
     "data": {
      "text/html": [
       "<pre style=\"white-space:pre;overflow-x:auto;line-height:normal;font-family:Menlo,'DejaVu Sans Mono',consolas,'Courier New',monospace\">Query call with protocol GRPC search failed with message Received http2 header with status: <span style=\"color: #008080; text-decoration-color: #008080; font-weight: bold\">502</span>.\n",
       "</pre>\n"
      ],
      "text/plain": [
       "Query call with protocol GRPC search failed with message Received http2 header with status: \u001b[1;36m502\u001b[0m.\n"
      ]
     },
     "metadata": {},
     "output_type": "display_data"
    },
    {
     "name": "stderr",
     "output_type": "stream",
     "text": [
      "Queries:  72%|#######2  | 72/100 [01:37<00:29,  1.06s/it]\n"
     ]
    },
    {
     "data": {
      "text/html": [
       "<pre style=\"white-space:pre;overflow-x:auto;line-height:normal;font-family:Menlo,'DejaVu Sans Mono',consolas,'Courier New',monospace\">Query call with protocol GRPC search failed with message Received http2 header with status: <span style=\"color: #008080; text-decoration-color: #008080; font-weight: bold\">502</span>.\n",
       "</pre>\n"
      ],
      "text/plain": [
       "Query call with protocol GRPC search failed with message Received http2 header with status: \u001b[1;36m502\u001b[0m.\n"
      ]
     },
     "metadata": {},
     "output_type": "display_data"
    },
    {
     "name": "stderr",
     "output_type": "stream",
     "text": [
      "Queries:  73%|#######3  | 73/100 [01:38<00:29,  1.09s/it]\n"
     ]
    },
    {
     "data": {
      "text/html": [
       "<pre style=\"white-space:pre;overflow-x:auto;line-height:normal;font-family:Menlo,'DejaVu Sans Mono',consolas,'Courier New',monospace\">Query call with protocol GRPC search failed with message Received http2 header with status: <span style=\"color: #008080; text-decoration-color: #008080; font-weight: bold\">502</span>.\n",
       "</pre>\n"
      ],
      "text/plain": [
       "Query call with protocol GRPC search failed with message Received http2 header with status: \u001b[1;36m502\u001b[0m.\n"
      ]
     },
     "metadata": {},
     "output_type": "display_data"
    },
    {
     "name": "stderr",
     "output_type": "stream",
     "text": [
      "Queries:  74%|#######4  | 74/100 [01:39<00:28,  1.11s/it]\n"
     ]
    },
    {
     "data": {
      "text/html": [
       "<pre style=\"white-space:pre;overflow-x:auto;line-height:normal;font-family:Menlo,'DejaVu Sans Mono',consolas,'Courier New',monospace\">Query call with protocol GRPC search failed with message Received http2 header with status: <span style=\"color: #008080; text-decoration-color: #008080; font-weight: bold\">502</span>.\n",
       "</pre>\n"
      ],
      "text/plain": [
       "Query call with protocol GRPC search failed with message Received http2 header with status: \u001b[1;36m502\u001b[0m.\n"
      ]
     },
     "metadata": {},
     "output_type": "display_data"
    },
    {
     "name": "stderr",
     "output_type": "stream",
     "text": [
      "Queries:  75%|#######5  | 75/100 [01:39<00:20,  1.24it/s]\n"
     ]
    },
    {
     "data": {
      "text/html": [
       "<pre style=\"white-space:pre;overflow-x:auto;line-height:normal;font-family:Menlo,'DejaVu Sans Mono',consolas,'Courier New',monospace\">Query call with protocol GRPC search failed with message Received http2 header with status: <span style=\"color: #008080; text-decoration-color: #008080; font-weight: bold\">502</span>.\n",
       "</pre>\n"
      ],
      "text/plain": [
       "Query call with protocol GRPC search failed with message Received http2 header with status: \u001b[1;36m502\u001b[0m.\n"
      ]
     },
     "metadata": {},
     "output_type": "display_data"
    },
    {
     "name": "stderr",
     "output_type": "stream",
     "text": [
      "Queries:  76%|#######6  | 76/100 [01:40<00:21,  1.11it/s]\n"
     ]
    },
    {
     "data": {
      "text/html": [
       "<pre style=\"white-space:pre;overflow-x:auto;line-height:normal;font-family:Menlo,'DejaVu Sans Mono',consolas,'Courier New',monospace\">Query call with protocol GRPC search failed with message Received http2 header with status: <span style=\"color: #008080; text-decoration-color: #008080; font-weight: bold\">502</span>.\n",
       "</pre>\n"
      ],
      "text/plain": [
       "Query call with protocol GRPC search failed with message Received http2 header with status: \u001b[1;36m502\u001b[0m.\n"
      ]
     },
     "metadata": {},
     "output_type": "display_data"
    },
    {
     "name": "stderr",
     "output_type": "stream",
     "text": [
      "Queries:  77%|#######7  | 77/100 [01:41<00:22,  1.03it/s]\n"
     ]
    },
    {
     "data": {
      "text/html": [
       "<pre style=\"white-space:pre;overflow-x:auto;line-height:normal;font-family:Menlo,'DejaVu Sans Mono',consolas,'Courier New',monospace\">Query call with protocol GRPC search failed with message Received http2 header with status: <span style=\"color: #008080; text-decoration-color: #008080; font-weight: bold\">502</span>.\n",
       "</pre>\n"
      ],
      "text/plain": [
       "Query call with protocol GRPC search failed with message Received http2 header with status: \u001b[1;36m502\u001b[0m.\n"
      ]
     },
     "metadata": {},
     "output_type": "display_data"
    },
    {
     "name": "stderr",
     "output_type": "stream",
     "text": [
      "Queries:  78%|#######8  | 78/100 [01:43<00:22,  1.03s/it]\n"
     ]
    },
    {
     "data": {
      "text/html": [
       "<pre style=\"white-space:pre;overflow-x:auto;line-height:normal;font-family:Menlo,'DejaVu Sans Mono',consolas,'Courier New',monospace\">Query call with protocol GRPC search failed with message Received http2 header with status: <span style=\"color: #008080; text-decoration-color: #008080; font-weight: bold\">502</span>.\n",
       "</pre>\n"
      ],
      "text/plain": [
       "Query call with protocol GRPC search failed with message Received http2 header with status: \u001b[1;36m502\u001b[0m.\n"
      ]
     },
     "metadata": {},
     "output_type": "display_data"
    },
    {
     "name": "stderr",
     "output_type": "stream",
     "text": [
      "Queries:  79%|#######9  | 79/100 [01:44<00:22,  1.07s/it]\n"
     ]
    },
    {
     "data": {
      "text/html": [
       "<pre style=\"white-space:pre;overflow-x:auto;line-height:normal;font-family:Menlo,'DejaVu Sans Mono',consolas,'Courier New',monospace\">Query call with protocol GRPC search failed with message Received http2 header with status: <span style=\"color: #008080; text-decoration-color: #008080; font-weight: bold\">502</span>.\n",
       "</pre>\n"
      ],
      "text/plain": [
       "Query call with protocol GRPC search failed with message Received http2 header with status: \u001b[1;36m502\u001b[0m.\n"
      ]
     },
     "metadata": {},
     "output_type": "display_data"
    },
    {
     "name": "stderr",
     "output_type": "stream",
     "text": [
      "Queries:  80%|########  | 80/100 [01:45<00:21,  1.09s/it]\n"
     ]
    },
    {
     "data": {
      "text/html": [
       "<pre style=\"white-space:pre;overflow-x:auto;line-height:normal;font-family:Menlo,'DejaVu Sans Mono',consolas,'Courier New',monospace\">Query call with protocol GRPC search failed with message Received http2 header with status: <span style=\"color: #008080; text-decoration-color: #008080; font-weight: bold\">502</span>.\n",
       "</pre>\n"
      ],
      "text/plain": [
       "Query call with protocol GRPC search failed with message Received http2 header with status: \u001b[1;36m502\u001b[0m.\n"
      ]
     },
     "metadata": {},
     "output_type": "display_data"
    },
    {
     "name": "stderr",
     "output_type": "stream",
     "text": [
      "Queries:  81%|########1 | 81/100 [01:46<00:21,  1.11s/it]\n"
     ]
    },
    {
     "data": {
      "text/html": [
       "<pre style=\"white-space:pre;overflow-x:auto;line-height:normal;font-family:Menlo,'DejaVu Sans Mono',consolas,'Courier New',monospace\">Query call with protocol GRPC search failed with message Received http2 header with status: <span style=\"color: #008080; text-decoration-color: #008080; font-weight: bold\">502</span>.\n",
       "</pre>\n"
      ],
      "text/plain": [
       "Query call with protocol GRPC search failed with message Received http2 header with status: \u001b[1;36m502\u001b[0m.\n"
      ]
     },
     "metadata": {},
     "output_type": "display_data"
    },
    {
     "name": "stderr",
     "output_type": "stream",
     "text": [
      "Queries:  82%|########2 | 82/100 [01:46<00:14,  1.24it/s]\n"
     ]
    },
    {
     "data": {
      "text/html": [
       "<pre style=\"white-space:pre;overflow-x:auto;line-height:normal;font-family:Menlo,'DejaVu Sans Mono',consolas,'Courier New',monospace\">Query call with protocol GRPC search failed with message Received http2 header with status: <span style=\"color: #008080; text-decoration-color: #008080; font-weight: bold\">502</span>.\n",
       "</pre>\n"
      ],
      "text/plain": [
       "Query call with protocol GRPC search failed with message Received http2 header with status: \u001b[1;36m502\u001b[0m.\n"
      ]
     },
     "metadata": {},
     "output_type": "display_data"
    },
    {
     "name": "stderr",
     "output_type": "stream",
     "text": [
      "Queries:  83%|########2 | 83/100 [01:47<00:15,  1.11it/s]\n"
     ]
    },
    {
     "data": {
      "text/html": [
       "<pre style=\"white-space:pre;overflow-x:auto;line-height:normal;font-family:Menlo,'DejaVu Sans Mono',consolas,'Courier New',monospace\">Query call with protocol GRPC search failed with message Received http2 header with status: <span style=\"color: #008080; text-decoration-color: #008080; font-weight: bold\">502</span>.\n",
       "</pre>\n"
      ],
      "text/plain": [
       "Query call with protocol GRPC search failed with message Received http2 header with status: \u001b[1;36m502\u001b[0m.\n"
      ]
     },
     "metadata": {},
     "output_type": "display_data"
    },
    {
     "name": "stderr",
     "output_type": "stream",
     "text": [
      "Queries:  84%|########4 | 84/100 [01:48<00:15,  1.03it/s]\n"
     ]
    },
    {
     "data": {
      "text/html": [
       "<pre style=\"white-space:pre;overflow-x:auto;line-height:normal;font-family:Menlo,'DejaVu Sans Mono',consolas,'Courier New',monospace\">Query call with protocol GRPC search failed with message Received http2 header with status: <span style=\"color: #008080; text-decoration-color: #008080; font-weight: bold\">502</span>.\n",
       "</pre>\n"
      ],
      "text/plain": [
       "Query call with protocol GRPC search failed with message Received http2 header with status: \u001b[1;36m502\u001b[0m.\n"
      ]
     },
     "metadata": {},
     "output_type": "display_data"
    },
    {
     "name": "stderr",
     "output_type": "stream",
     "text": [
      "Queries:  85%|########5 | 85/100 [01:52<00:24,  1.64s/it]\n"
     ]
    },
    {
     "data": {
      "text/html": [
       "<pre style=\"white-space:pre;overflow-x:auto;line-height:normal;font-family:Menlo,'DejaVu Sans Mono',consolas,'Courier New',monospace\">Query call with protocol GRPC search failed with message Received http2 header with status: <span style=\"color: #008080; text-decoration-color: #008080; font-weight: bold\">502</span>.\n",
       "</pre>\n"
      ],
      "text/plain": [
       "Query call with protocol GRPC search failed with message Received http2 header with status: \u001b[1;36m502\u001b[0m.\n"
      ]
     },
     "metadata": {},
     "output_type": "display_data"
    },
    {
     "name": "stderr",
     "output_type": "stream",
     "text": [
      "Queries:  86%|########6 | 86/100 [01:52<00:16,  1.18s/it]\n"
     ]
    },
    {
     "data": {
      "text/html": [
       "<pre style=\"white-space:pre;overflow-x:auto;line-height:normal;font-family:Menlo,'DejaVu Sans Mono',consolas,'Courier New',monospace\">Query call with protocol GRPC search failed with message Received http2 header with status: <span style=\"color: #008080; text-decoration-color: #008080; font-weight: bold\">502</span>.\n",
       "</pre>\n"
      ],
      "text/plain": [
       "Query call with protocol GRPC search failed with message Received http2 header with status: \u001b[1;36m502\u001b[0m.\n"
      ]
     },
     "metadata": {},
     "output_type": "display_data"
    },
    {
     "name": "stderr",
     "output_type": "stream",
     "text": [
      "Queries:  87%|########7 | 87/100 [01:53<00:15,  1.16s/it]\n"
     ]
    },
    {
     "data": {
      "text/html": [
       "<pre style=\"white-space:pre;overflow-x:auto;line-height:normal;font-family:Menlo,'DejaVu Sans Mono',consolas,'Courier New',monospace\">Query call with protocol GRPC search failed with message Received http2 header with status: <span style=\"color: #008080; text-decoration-color: #008080; font-weight: bold\">502</span>.\n",
       "</pre>\n"
      ],
      "text/plain": [
       "Query call with protocol GRPC search failed with message Received http2 header with status: \u001b[1;36m502\u001b[0m.\n"
      ]
     },
     "metadata": {},
     "output_type": "display_data"
    },
    {
     "name": "stderr",
     "output_type": "stream",
     "text": [
      "Queries:  88%|########8 | 88/100 [01:54<00:13,  1.16s/it]\n"
     ]
    },
    {
     "data": {
      "text/html": [
       "<pre style=\"white-space:pre;overflow-x:auto;line-height:normal;font-family:Menlo,'DejaVu Sans Mono',consolas,'Courier New',monospace\">Query call with protocol GRPC search failed with message Received http2 header with status: <span style=\"color: #008080; text-decoration-color: #008080; font-weight: bold\">502</span>.\n",
       "</pre>\n"
      ],
      "text/plain": [
       "Query call with protocol GRPC search failed with message Received http2 header with status: \u001b[1;36m502\u001b[0m.\n"
      ]
     },
     "metadata": {},
     "output_type": "display_data"
    },
    {
     "name": "stderr",
     "output_type": "stream",
     "text": [
      "Queries:  89%|########9 | 89/100 [01:54<00:09,  1.19it/s]\n"
     ]
    },
    {
     "data": {
      "text/html": [
       "<pre style=\"white-space:pre;overflow-x:auto;line-height:normal;font-family:Menlo,'DejaVu Sans Mono',consolas,'Courier New',monospace\">Query call with protocol GRPC search failed with message Received http2 header with status: <span style=\"color: #008080; text-decoration-color: #008080; font-weight: bold\">502</span>.\n",
       "</pre>\n"
      ],
      "text/plain": [
       "Query call with protocol GRPC search failed with message Received http2 header with status: \u001b[1;36m502\u001b[0m.\n"
      ]
     },
     "metadata": {},
     "output_type": "display_data"
    },
    {
     "name": "stderr",
     "output_type": "stream",
     "text": [
      "Queries:  90%|######### | 90/100 [01:55<00:09,  1.08it/s]\n"
     ]
    },
    {
     "data": {
      "text/html": [
       "<pre style=\"white-space:pre;overflow-x:auto;line-height:normal;font-family:Menlo,'DejaVu Sans Mono',consolas,'Courier New',monospace\">Query call with protocol GRPC search failed with message Received http2 header with status: <span style=\"color: #008080; text-decoration-color: #008080; font-weight: bold\">502</span>.\n",
       "</pre>\n"
      ],
      "text/plain": [
       "Query call with protocol GRPC search failed with message Received http2 header with status: \u001b[1;36m502\u001b[0m.\n"
      ]
     },
     "metadata": {},
     "output_type": "display_data"
    },
    {
     "name": "stderr",
     "output_type": "stream",
     "text": [
      "Queries:  91%|#########1| 91/100 [01:56<00:08,  1.01it/s]\n"
     ]
    },
    {
     "data": {
      "text/html": [
       "<pre style=\"white-space:pre;overflow-x:auto;line-height:normal;font-family:Menlo,'DejaVu Sans Mono',consolas,'Courier New',monospace\">Query call with protocol GRPC search failed with message Received http2 header with status: <span style=\"color: #008080; text-decoration-color: #008080; font-weight: bold\">502</span>.\n",
       "</pre>\n"
      ],
      "text/plain": [
       "Query call with protocol GRPC search failed with message Received http2 header with status: \u001b[1;36m502\u001b[0m.\n"
      ]
     },
     "metadata": {},
     "output_type": "display_data"
    },
    {
     "name": "stderr",
     "output_type": "stream",
     "text": [
      "Queries:  92%|#########2| 92/100 [01:57<00:08,  1.04s/it]\n"
     ]
    },
    {
     "data": {
      "text/html": [
       "<pre style=\"white-space:pre;overflow-x:auto;line-height:normal;font-family:Menlo,'DejaVu Sans Mono',consolas,'Courier New',monospace\">Query call with protocol GRPC search failed with message Received http2 header with status: <span style=\"color: #008080; text-decoration-color: #008080; font-weight: bold\">502</span>.\n",
       "</pre>\n"
      ],
      "text/plain": [
       "Query call with protocol GRPC search failed with message Received http2 header with status: \u001b[1;36m502\u001b[0m.\n"
      ]
     },
     "metadata": {},
     "output_type": "display_data"
    },
    {
     "name": "stderr",
     "output_type": "stream",
     "text": [
      "Queries:  93%|#########3| 93/100 [01:59<00:07,  1.07s/it]\n"
     ]
    },
    {
     "data": {
      "text/html": [
       "<pre style=\"white-space:pre;overflow-x:auto;line-height:normal;font-family:Menlo,'DejaVu Sans Mono',consolas,'Courier New',monospace\">Query call with protocol GRPC search failed with message Received http2 header with status: <span style=\"color: #008080; text-decoration-color: #008080; font-weight: bold\">502</span>.\n",
       "</pre>\n"
      ],
      "text/plain": [
       "Query call with protocol GRPC search failed with message Received http2 header with status: \u001b[1;36m502\u001b[0m.\n"
      ]
     },
     "metadata": {},
     "output_type": "display_data"
    },
    {
     "name": "stderr",
     "output_type": "stream",
     "text": [
      "Queries:  94%|#########3| 94/100 [02:00<00:06,  1.10s/it]\n"
     ]
    },
    {
     "data": {
      "text/html": [
       "<pre style=\"white-space:pre;overflow-x:auto;line-height:normal;font-family:Menlo,'DejaVu Sans Mono',consolas,'Courier New',monospace\">Query call with protocol GRPC search failed with message Received http2 header with status: <span style=\"color: #008080; text-decoration-color: #008080; font-weight: bold\">502</span>.\n",
       "</pre>\n"
      ],
      "text/plain": [
       "Query call with protocol GRPC search failed with message Received http2 header with status: \u001b[1;36m502\u001b[0m.\n"
      ]
     },
     "metadata": {},
     "output_type": "display_data"
    },
    {
     "name": "stderr",
     "output_type": "stream",
     "text": [
      "Queries:  95%|#########5| 95/100 [02:01<00:05,  1.11s/it]\n"
     ]
    },
    {
     "data": {
      "text/html": [
       "<pre style=\"white-space:pre;overflow-x:auto;line-height:normal;font-family:Menlo,'DejaVu Sans Mono',consolas,'Courier New',monospace\">Query call with protocol GRPC search failed with message Received http2 header with status: <span style=\"color: #008080; text-decoration-color: #008080; font-weight: bold\">502</span>.\n",
       "</pre>\n"
      ],
      "text/plain": [
       "Query call with protocol GRPC search failed with message Received http2 header with status: \u001b[1;36m502\u001b[0m.\n"
      ]
     },
     "metadata": {},
     "output_type": "display_data"
    },
    {
     "name": "stderr",
     "output_type": "stream",
     "text": [
      "Queries:  96%|#########6| 96/100 [02:02<00:04,  1.12s/it]\n"
     ]
    },
    {
     "data": {
      "text/html": [
       "<pre style=\"white-space:pre;overflow-x:auto;line-height:normal;font-family:Menlo,'DejaVu Sans Mono',consolas,'Courier New',monospace\">Query call with protocol GRPC search failed with message Received http2 header with status: <span style=\"color: #008080; text-decoration-color: #008080; font-weight: bold\">502</span>.\n",
       "</pre>\n"
      ],
      "text/plain": [
       "Query call with protocol GRPC search failed with message Received http2 header with status: \u001b[1;36m502\u001b[0m.\n"
      ]
     },
     "metadata": {},
     "output_type": "display_data"
    },
    {
     "name": "stderr",
     "output_type": "stream",
     "text": [
      "Queries:  97%|#########7| 97/100 [02:02<00:02,  1.22it/s]\n"
     ]
    },
    {
     "data": {
      "text/html": [
       "<pre style=\"white-space:pre;overflow-x:auto;line-height:normal;font-family:Menlo,'DejaVu Sans Mono',consolas,'Courier New',monospace\">Query call with protocol GRPC search failed with message Received http2 header with status: <span style=\"color: #008080; text-decoration-color: #008080; font-weight: bold\">502</span>.\n",
       "</pre>\n"
      ],
      "text/plain": [
       "Query call with protocol GRPC search failed with message Received http2 header with status: \u001b[1;36m502\u001b[0m.\n"
      ]
     },
     "metadata": {},
     "output_type": "display_data"
    },
    {
     "name": "stderr",
     "output_type": "stream",
     "text": [
      "Queries:  98%|#########8| 98/100 [02:03<00:01,  1.10it/s]\n"
     ]
    },
    {
     "data": {
      "text/html": [
       "<pre style=\"white-space:pre;overflow-x:auto;line-height:normal;font-family:Menlo,'DejaVu Sans Mono',consolas,'Courier New',monospace\">Query call with protocol GRPC search failed with message Received http2 header with status: <span style=\"color: #008080; text-decoration-color: #008080; font-weight: bold\">502</span>.\n",
       "</pre>\n"
      ],
      "text/plain": [
       "Query call with protocol GRPC search failed with message Received http2 header with status: \u001b[1;36m502\u001b[0m.\n"
      ]
     },
     "metadata": {},
     "output_type": "display_data"
    },
    {
     "name": "stderr",
     "output_type": "stream",
     "text": [
      "Queries:  99%|#########9| 99/100 [02:04<00:00,  1.02it/s]\n"
     ]
    },
    {
     "data": {
      "text/html": [
       "<pre style=\"white-space:pre;overflow-x:auto;line-height:normal;font-family:Menlo,'DejaVu Sans Mono',consolas,'Courier New',monospace\">Query call with protocol GRPC search failed with message Received http2 header with status: <span style=\"color: #008080; text-decoration-color: #008080; font-weight: bold\">502</span>.\n",
       "</pre>\n"
      ],
      "text/plain": [
       "Query call with protocol GRPC search failed with message Received http2 header with status: \u001b[1;36m502\u001b[0m.\n"
      ]
     },
     "metadata": {},
     "output_type": "display_data"
    },
    {
     "name": "stderr",
     "output_type": "stream",
     "text": [
      "Queries: 100%|##########| 100/100 [02:06<00:00,  1.03s/it]\n",
      "Queries: 100%|##########| 100/100 [02:06<00:00,  1.26s/it]\n"
     ]
    },
    {
     "data": {
      "text/html": [
       "<pre style=\"white-space:pre;overflow-x:auto;line-height:normal;font-family:Menlo,'DejaVu Sans Mono',consolas,'Courier New',monospace\">Total Processing Time: <span style=\"color: #008080; text-decoration-color: #008080; font-weight: bold\">2.1</span> minutes\n",
       "</pre>\n"
      ],
      "text/plain": [
       "Total Processing Time: \u001b[1;36m2.1\u001b[0m minutes\n"
      ]
     },
     "metadata": {},
     "output_type": "display_data"
    },
    {
     "data": {
      "text/html": [
       "<pre style=\"white-space:pre;overflow-x:auto;line-height:normal;font-family:Menlo,'DejaVu Sans Mono',consolas,'Courier New',monospace\"><span style=\"color: #008080; text-decoration-color: #008080; font-weight: bold\">0.0</span> <span style=\"color: #008080; text-decoration-color: #008080; font-weight: bold\">0.46879183748227327</span> <span style=\"color: #008080; text-decoration-color: #008080; font-weight: bold\">512</span> <span style=\"color: #008080; text-decoration-color: #008080; font-weight: bold\">60</span>\n",
       "</pre>\n"
      ],
      "text/plain": [
       "\u001b[1;36m0.0\u001b[0m \u001b[1;36m0.46879183748227327\u001b[0m \u001b[1;36m512\u001b[0m \u001b[1;36m60\u001b[0m\n"
      ]
     },
     "metadata": {},
     "output_type": "display_data"
    },
    {
     "name": "stdout",
     "output_type": "stream",
     "text": [
      " 66%|██████▌   | 33/50 [5:22:39<2:29:59, 529.39s/trial, best loss: -0.88]"
     ]
    },
    {
     "data": {
      "text/html": [
       "<pre style=\"white-space:pre;overflow-x:auto;line-height:normal;font-family:Menlo,'DejaVu Sans Mono',consolas,'Courier New',monospace\"><span style=\"color: #008080; text-decoration-color: #008080; font-weight: bold\">0.4380210788849009</span> <span style=\"color: #008080; text-decoration-color: #008080; font-weight: bold\">512</span> <span style=\"color: #008080; text-decoration-color: #008080; font-weight: bold\">60</span>\n",
       "</pre>\n"
      ],
      "text/plain": [
       "\u001b[1;36m0.4380210788849009\u001b[0m \u001b[1;36m512\u001b[0m \u001b[1;36m60\u001b[0m\n"
      ]
     },
     "metadata": {},
     "output_type": "display_data"
    },
    {
     "name": "stderr",
     "output_type": "stream",
     "text": [
      "Queries:   0%|          | 0/100 [00:00<?, ?it/s]\n"
     ]
    },
    {
     "data": {
      "text/html": [
       "<pre style=\"white-space:pre;overflow-x:auto;line-height:normal;font-family:Menlo,'DejaVu Sans Mono',consolas,'Courier New',monospace\">Query call with protocol GRPC search failed with message Received http2 header with status: <span style=\"color: #008080; text-decoration-color: #008080; font-weight: bold\">502</span>.\n",
       "</pre>\n"
      ],
      "text/plain": [
       "Query call with protocol GRPC search failed with message Received http2 header with status: \u001b[1;36m502\u001b[0m.\n"
      ]
     },
     "metadata": {},
     "output_type": "display_data"
    },
    {
     "name": "stderr",
     "output_type": "stream",
     "text": [
      "Queries:   1%|1         | 1/100 [00:01<01:52,  1.14s/it]\n"
     ]
    },
    {
     "data": {
      "text/html": [
       "<pre style=\"white-space:pre;overflow-x:auto;line-height:normal;font-family:Menlo,'DejaVu Sans Mono',consolas,'Courier New',monospace\">Query call with protocol GRPC search failed with message Received http2 header with status: <span style=\"color: #008080; text-decoration-color: #008080; font-weight: bold\">502</span>.\n",
       "</pre>\n"
      ],
      "text/plain": [
       "Query call with protocol GRPC search failed with message Received http2 header with status: \u001b[1;36m502\u001b[0m.\n"
      ]
     },
     "metadata": {},
     "output_type": "display_data"
    },
    {
     "name": "stderr",
     "output_type": "stream",
     "text": [
      "Queries:   2%|2         | 2/100 [00:02<01:52,  1.15s/it]\n"
     ]
    },
    {
     "data": {
      "text/html": [
       "<pre style=\"white-space:pre;overflow-x:auto;line-height:normal;font-family:Menlo,'DejaVu Sans Mono',consolas,'Courier New',monospace\">Query call with protocol GRPC search failed with message Received http2 header with status: <span style=\"color: #008080; text-decoration-color: #008080; font-weight: bold\">502</span>.\n",
       "</pre>\n"
      ],
      "text/plain": [
       "Query call with protocol GRPC search failed with message Received http2 header with status: \u001b[1;36m502\u001b[0m.\n"
      ]
     },
     "metadata": {},
     "output_type": "display_data"
    },
    {
     "name": "stderr",
     "output_type": "stream",
     "text": [
      "Queries:   3%|3         | 3/100 [00:03<01:51,  1.15s/it]\n"
     ]
    },
    {
     "data": {
      "text/html": [
       "<pre style=\"white-space:pre;overflow-x:auto;line-height:normal;font-family:Menlo,'DejaVu Sans Mono',consolas,'Courier New',monospace\">Query call with protocol GRPC search failed with message Received http2 header with status: <span style=\"color: #008080; text-decoration-color: #008080; font-weight: bold\">502</span>.\n",
       "</pre>\n"
      ],
      "text/plain": [
       "Query call with protocol GRPC search failed with message Received http2 header with status: \u001b[1;36m502\u001b[0m.\n"
      ]
     },
     "metadata": {},
     "output_type": "display_data"
    },
    {
     "name": "stderr",
     "output_type": "stream",
     "text": [
      "Queries:   4%|4         | 4/100 [00:03<01:11,  1.35it/s]\n"
     ]
    },
    {
     "data": {
      "text/html": [
       "<pre style=\"white-space:pre;overflow-x:auto;line-height:normal;font-family:Menlo,'DejaVu Sans Mono',consolas,'Courier New',monospace\">Query call with protocol GRPC search failed with message Received http2 header with status: <span style=\"color: #008080; text-decoration-color: #008080; font-weight: bold\">502</span>.\n",
       "</pre>\n"
      ],
      "text/plain": [
       "Query call with protocol GRPC search failed with message Received http2 header with status: \u001b[1;36m502\u001b[0m.\n"
      ]
     },
     "metadata": {},
     "output_type": "display_data"
    },
    {
     "name": "stderr",
     "output_type": "stream",
     "text": [
      "Queries:   5%|5         | 5/100 [00:04<01:24,  1.12it/s]\n"
     ]
    },
    {
     "data": {
      "text/html": [
       "<pre style=\"white-space:pre;overflow-x:auto;line-height:normal;font-family:Menlo,'DejaVu Sans Mono',consolas,'Courier New',monospace\">Query call with protocol GRPC search failed with message Received http2 header with status: <span style=\"color: #008080; text-decoration-color: #008080; font-weight: bold\">502</span>.\n",
       "</pre>\n"
      ],
      "text/plain": [
       "Query call with protocol GRPC search failed with message Received http2 header with status: \u001b[1;36m502\u001b[0m.\n"
      ]
     },
     "metadata": {},
     "output_type": "display_data"
    },
    {
     "name": "stderr",
     "output_type": "stream",
     "text": [
      "Queries:   6%|6         | 6/100 [00:05<01:32,  1.02it/s]\n"
     ]
    },
    {
     "data": {
      "text/html": [
       "<pre style=\"white-space:pre;overflow-x:auto;line-height:normal;font-family:Menlo,'DejaVu Sans Mono',consolas,'Courier New',monospace\">Query call with protocol GRPC search failed with message Received http2 header with status: <span style=\"color: #008080; text-decoration-color: #008080; font-weight: bold\">502</span>.\n",
       "</pre>\n"
      ],
      "text/plain": [
       "Query call with protocol GRPC search failed with message Received http2 header with status: \u001b[1;36m502\u001b[0m.\n"
      ]
     },
     "metadata": {},
     "output_type": "display_data"
    },
    {
     "name": "stderr",
     "output_type": "stream",
     "text": [
      "Queries:   7%|7         | 7/100 [00:07<01:36,  1.04s/it]\n"
     ]
    },
    {
     "data": {
      "text/html": [
       "<pre style=\"white-space:pre;overflow-x:auto;line-height:normal;font-family:Menlo,'DejaVu Sans Mono',consolas,'Courier New',monospace\">Query call with protocol GRPC search failed with message Received http2 header with status: <span style=\"color: #008080; text-decoration-color: #008080; font-weight: bold\">502</span>.\n",
       "</pre>\n"
      ],
      "text/plain": [
       "Query call with protocol GRPC search failed with message Received http2 header with status: \u001b[1;36m502\u001b[0m.\n"
      ]
     },
     "metadata": {},
     "output_type": "display_data"
    },
    {
     "name": "stderr",
     "output_type": "stream",
     "text": [
      "Queries:   8%|8         | 8/100 [00:08<01:38,  1.07s/it]\n"
     ]
    },
    {
     "data": {
      "text/html": [
       "<pre style=\"white-space:pre;overflow-x:auto;line-height:normal;font-family:Menlo,'DejaVu Sans Mono',consolas,'Courier New',monospace\">Query call with protocol GRPC search failed with message Received http2 header with status: <span style=\"color: #008080; text-decoration-color: #008080; font-weight: bold\">502</span>.\n",
       "</pre>\n"
      ],
      "text/plain": [
       "Query call with protocol GRPC search failed with message Received http2 header with status: \u001b[1;36m502\u001b[0m.\n"
      ]
     },
     "metadata": {},
     "output_type": "display_data"
    },
    {
     "name": "stderr",
     "output_type": "stream",
     "text": [
      "Queries:   9%|9         | 9/100 [00:09<01:39,  1.10s/it]\n"
     ]
    },
    {
     "data": {
      "text/html": [
       "<pre style=\"white-space:pre;overflow-x:auto;line-height:normal;font-family:Menlo,'DejaVu Sans Mono',consolas,'Courier New',monospace\">Query call with protocol GRPC search failed with message Received http2 header with status: <span style=\"color: #008080; text-decoration-color: #008080; font-weight: bold\">502</span>.\n",
       "</pre>\n"
      ],
      "text/plain": [
       "Query call with protocol GRPC search failed with message Received http2 header with status: \u001b[1;36m502\u001b[0m.\n"
      ]
     },
     "metadata": {},
     "output_type": "display_data"
    },
    {
     "name": "stderr",
     "output_type": "stream",
     "text": [
      "Queries:  10%|#         | 10/100 [00:10<01:40,  1.11s/it]\n"
     ]
    },
    {
     "data": {
      "text/html": [
       "<pre style=\"white-space:pre;overflow-x:auto;line-height:normal;font-family:Menlo,'DejaVu Sans Mono',consolas,'Courier New',monospace\">Query call with protocol GRPC search failed with message Received http2 header with status: <span style=\"color: #008080; text-decoration-color: #008080; font-weight: bold\">502</span>.\n",
       "</pre>\n"
      ],
      "text/plain": [
       "Query call with protocol GRPC search failed with message Received http2 header with status: \u001b[1;36m502\u001b[0m.\n"
      ]
     },
     "metadata": {},
     "output_type": "display_data"
    },
    {
     "name": "stderr",
     "output_type": "stream",
     "text": [
      "Queries:  11%|#1        | 11/100 [00:10<01:11,  1.24it/s]\n"
     ]
    },
    {
     "data": {
      "text/html": [
       "<pre style=\"white-space:pre;overflow-x:auto;line-height:normal;font-family:Menlo,'DejaVu Sans Mono',consolas,'Courier New',monospace\">Query call with protocol GRPC search failed with message Received http2 header with status: <span style=\"color: #008080; text-decoration-color: #008080; font-weight: bold\">502</span>.\n",
       "</pre>\n"
      ],
      "text/plain": [
       "Query call with protocol GRPC search failed with message Received http2 header with status: \u001b[1;36m502\u001b[0m.\n"
      ]
     },
     "metadata": {},
     "output_type": "display_data"
    },
    {
     "name": "stderr",
     "output_type": "stream",
     "text": [
      "Queries:  12%|#2        | 12/100 [00:11<01:19,  1.11it/s]\n"
     ]
    },
    {
     "data": {
      "text/html": [
       "<pre style=\"white-space:pre;overflow-x:auto;line-height:normal;font-family:Menlo,'DejaVu Sans Mono',consolas,'Courier New',monospace\">Query call with protocol GRPC search failed with message Received http2 header with status: <span style=\"color: #008080; text-decoration-color: #008080; font-weight: bold\">502</span>.\n",
       "</pre>\n"
      ],
      "text/plain": [
       "Query call with protocol GRPC search failed with message Received http2 header with status: \u001b[1;36m502\u001b[0m.\n"
      ]
     },
     "metadata": {},
     "output_type": "display_data"
    },
    {
     "name": "stderr",
     "output_type": "stream",
     "text": [
      "Queries:  13%|#3        | 13/100 [00:12<01:24,  1.03it/s]\n"
     ]
    },
    {
     "data": {
      "text/html": [
       "<pre style=\"white-space:pre;overflow-x:auto;line-height:normal;font-family:Menlo,'DejaVu Sans Mono',consolas,'Courier New',monospace\">Query call with protocol GRPC search failed with message Received http2 header with status: <span style=\"color: #008080; text-decoration-color: #008080; font-weight: bold\">502</span>.\n",
       "</pre>\n"
      ],
      "text/plain": [
       "Query call with protocol GRPC search failed with message Received http2 header with status: \u001b[1;36m502\u001b[0m.\n"
      ]
     },
     "metadata": {},
     "output_type": "display_data"
    },
    {
     "name": "stderr",
     "output_type": "stream",
     "text": [
      "Queries:  14%|#4        | 14/100 [00:14<01:28,  1.03s/it]\n"
     ]
    },
    {
     "data": {
      "text/html": [
       "<pre style=\"white-space:pre;overflow-x:auto;line-height:normal;font-family:Menlo,'DejaVu Sans Mono',consolas,'Courier New',monospace\">Query call with protocol GRPC search failed with message Received http2 header with status: <span style=\"color: #008080; text-decoration-color: #008080; font-weight: bold\">502</span>.\n",
       "</pre>\n"
      ],
      "text/plain": [
       "Query call with protocol GRPC search failed with message Received http2 header with status: \u001b[1;36m502\u001b[0m.\n"
      ]
     },
     "metadata": {},
     "output_type": "display_data"
    },
    {
     "name": "stderr",
     "output_type": "stream",
     "text": [
      "Queries:  15%|#5        | 15/100 [00:15<01:30,  1.07s/it]\n"
     ]
    },
    {
     "data": {
      "text/html": [
       "<pre style=\"white-space:pre;overflow-x:auto;line-height:normal;font-family:Menlo,'DejaVu Sans Mono',consolas,'Courier New',monospace\">Query call with protocol GRPC search failed with message Received http2 header with status: <span style=\"color: #008080; text-decoration-color: #008080; font-weight: bold\">502</span>.\n",
       "</pre>\n"
      ],
      "text/plain": [
       "Query call with protocol GRPC search failed with message Received http2 header with status: \u001b[1;36m502\u001b[0m.\n"
      ]
     },
     "metadata": {},
     "output_type": "display_data"
    },
    {
     "name": "stderr",
     "output_type": "stream",
     "text": [
      "Queries:  16%|#6        | 16/100 [00:16<01:31,  1.09s/it]\n"
     ]
    },
    {
     "data": {
      "text/html": [
       "<pre style=\"white-space:pre;overflow-x:auto;line-height:normal;font-family:Menlo,'DejaVu Sans Mono',consolas,'Courier New',monospace\">Query call with protocol GRPC search failed with message Received http2 header with status: <span style=\"color: #008080; text-decoration-color: #008080; font-weight: bold\">502</span>.\n",
       "</pre>\n"
      ],
      "text/plain": [
       "Query call with protocol GRPC search failed with message Received http2 header with status: \u001b[1;36m502\u001b[0m.\n"
      ]
     },
     "metadata": {},
     "output_type": "display_data"
    },
    {
     "name": "stderr",
     "output_type": "stream",
     "text": [
      "Queries:  17%|#7        | 17/100 [00:17<01:32,  1.11s/it]\n"
     ]
    },
    {
     "data": {
      "text/html": [
       "<pre style=\"white-space:pre;overflow-x:auto;line-height:normal;font-family:Menlo,'DejaVu Sans Mono',consolas,'Courier New',monospace\">Query call with protocol GRPC search failed with message Received http2 header with status: <span style=\"color: #008080; text-decoration-color: #008080; font-weight: bold\">502</span>.\n",
       "</pre>\n"
      ],
      "text/plain": [
       "Query call with protocol GRPC search failed with message Received http2 header with status: \u001b[1;36m502\u001b[0m.\n"
      ]
     },
     "metadata": {},
     "output_type": "display_data"
    },
    {
     "name": "stderr",
     "output_type": "stream",
     "text": [
      "Queries:  18%|#8        | 18/100 [00:17<01:06,  1.24it/s]\n"
     ]
    },
    {
     "data": {
      "text/html": [
       "<pre style=\"white-space:pre;overflow-x:auto;line-height:normal;font-family:Menlo,'DejaVu Sans Mono',consolas,'Courier New',monospace\">Query call with protocol GRPC search failed with message Received http2 header with status: <span style=\"color: #008080; text-decoration-color: #008080; font-weight: bold\">502</span>.\n",
       "</pre>\n"
      ],
      "text/plain": [
       "Query call with protocol GRPC search failed with message Received http2 header with status: \u001b[1;36m502\u001b[0m.\n"
      ]
     },
     "metadata": {},
     "output_type": "display_data"
    },
    {
     "name": "stderr",
     "output_type": "stream",
     "text": [
      "Queries:  19%|#9        | 19/100 [00:18<01:12,  1.11it/s]\n"
     ]
    },
    {
     "data": {
      "text/html": [
       "<pre style=\"white-space:pre;overflow-x:auto;line-height:normal;font-family:Menlo,'DejaVu Sans Mono',consolas,'Courier New',monospace\">Query call with protocol GRPC search failed with message Received http2 header with status: <span style=\"color: #008080; text-decoration-color: #008080; font-weight: bold\">502</span>.\n",
       "</pre>\n"
      ],
      "text/plain": [
       "Query call with protocol GRPC search failed with message Received http2 header with status: \u001b[1;36m502\u001b[0m.\n"
      ]
     },
     "metadata": {},
     "output_type": "display_data"
    },
    {
     "name": "stderr",
     "output_type": "stream",
     "text": [
      "Queries:  20%|##        | 20/100 [00:19<01:18,  1.03it/s]\n"
     ]
    },
    {
     "data": {
      "text/html": [
       "<pre style=\"white-space:pre;overflow-x:auto;line-height:normal;font-family:Menlo,'DejaVu Sans Mono',consolas,'Courier New',monospace\">Query call with protocol GRPC search failed with message Received http2 header with status: <span style=\"color: #008080; text-decoration-color: #008080; font-weight: bold\">502</span>.\n",
       "</pre>\n"
      ],
      "text/plain": [
       "Query call with protocol GRPC search failed with message Received http2 header with status: \u001b[1;36m502\u001b[0m.\n"
      ]
     },
     "metadata": {},
     "output_type": "display_data"
    },
    {
     "name": "stderr",
     "output_type": "stream",
     "text": [
      "Queries:  21%|##1       | 21/100 [00:20<01:21,  1.03s/it]\n"
     ]
    },
    {
     "data": {
      "text/html": [
       "<pre style=\"white-space:pre;overflow-x:auto;line-height:normal;font-family:Menlo,'DejaVu Sans Mono',consolas,'Courier New',monospace\">Query call with protocol GRPC search failed with message Received http2 header with status: <span style=\"color: #008080; text-decoration-color: #008080; font-weight: bold\">502</span>.\n",
       "</pre>\n"
      ],
      "text/plain": [
       "Query call with protocol GRPC search failed with message Received http2 header with status: \u001b[1;36m502\u001b[0m.\n"
      ]
     },
     "metadata": {},
     "output_type": "display_data"
    },
    {
     "name": "stderr",
     "output_type": "stream",
     "text": [
      "Queries:  22%|##2       | 22/100 [00:22<01:23,  1.07s/it]\n"
     ]
    },
    {
     "data": {
      "text/html": [
       "<pre style=\"white-space:pre;overflow-x:auto;line-height:normal;font-family:Menlo,'DejaVu Sans Mono',consolas,'Courier New',monospace\">Query call with protocol GRPC search failed with message Received http2 header with status: <span style=\"color: #008080; text-decoration-color: #008080; font-weight: bold\">502</span>.\n",
       "</pre>\n"
      ],
      "text/plain": [
       "Query call with protocol GRPC search failed with message Received http2 header with status: \u001b[1;36m502\u001b[0m.\n"
      ]
     },
     "metadata": {},
     "output_type": "display_data"
    },
    {
     "name": "stderr",
     "output_type": "stream",
     "text": [
      "Queries:  23%|##3       | 23/100 [00:23<01:24,  1.09s/it]\n"
     ]
    },
    {
     "data": {
      "text/html": [
       "<pre style=\"white-space:pre;overflow-x:auto;line-height:normal;font-family:Menlo,'DejaVu Sans Mono',consolas,'Courier New',monospace\">Query call with protocol GRPC search failed with message Received http2 header with status: <span style=\"color: #008080; text-decoration-color: #008080; font-weight: bold\">502</span>.\n",
       "</pre>\n"
      ],
      "text/plain": [
       "Query call with protocol GRPC search failed with message Received http2 header with status: \u001b[1;36m502\u001b[0m.\n"
      ]
     },
     "metadata": {},
     "output_type": "display_data"
    },
    {
     "name": "stderr",
     "output_type": "stream",
     "text": [
      "Queries:  24%|##4       | 24/100 [00:24<01:24,  1.11s/it]\n"
     ]
    },
    {
     "data": {
      "text/html": [
       "<pre style=\"white-space:pre;overflow-x:auto;line-height:normal;font-family:Menlo,'DejaVu Sans Mono',consolas,'Courier New',monospace\">Query call with protocol GRPC search failed with message Received http2 header with status: <span style=\"color: #008080; text-decoration-color: #008080; font-weight: bold\">502</span>.\n",
       "</pre>\n"
      ],
      "text/plain": [
       "Query call with protocol GRPC search failed with message Received http2 header with status: \u001b[1;36m502\u001b[0m.\n"
      ]
     },
     "metadata": {},
     "output_type": "display_data"
    },
    {
     "name": "stderr",
     "output_type": "stream",
     "text": [
      "Queries:  25%|##5       | 25/100 [00:24<01:00,  1.24it/s]\n"
     ]
    },
    {
     "data": {
      "text/html": [
       "<pre style=\"white-space:pre;overflow-x:auto;line-height:normal;font-family:Menlo,'DejaVu Sans Mono',consolas,'Courier New',monospace\">Query call with protocol GRPC search failed with message Received http2 header with status: <span style=\"color: #008080; text-decoration-color: #008080; font-weight: bold\">502</span>.\n",
       "</pre>\n"
      ],
      "text/plain": [
       "Query call with protocol GRPC search failed with message Received http2 header with status: \u001b[1;36m502\u001b[0m.\n"
      ]
     },
     "metadata": {},
     "output_type": "display_data"
    },
    {
     "name": "stderr",
     "output_type": "stream",
     "text": [
      "Queries:  26%|##6       | 26/100 [00:25<01:06,  1.11it/s]\n"
     ]
    },
    {
     "data": {
      "text/html": [
       "<pre style=\"white-space:pre;overflow-x:auto;line-height:normal;font-family:Menlo,'DejaVu Sans Mono',consolas,'Courier New',monospace\">Query call with protocol GRPC search failed with message Received http2 header with status: <span style=\"color: #008080; text-decoration-color: #008080; font-weight: bold\">502</span>.\n",
       "</pre>\n"
      ],
      "text/plain": [
       "Query call with protocol GRPC search failed with message Received http2 header with status: \u001b[1;36m502\u001b[0m.\n"
      ]
     },
     "metadata": {},
     "output_type": "display_data"
    },
    {
     "name": "stderr",
     "output_type": "stream",
     "text": [
      "Queries:  27%|##7       | 27/100 [00:26<01:11,  1.03it/s]\n"
     ]
    },
    {
     "data": {
      "text/html": [
       "<pre style=\"white-space:pre;overflow-x:auto;line-height:normal;font-family:Menlo,'DejaVu Sans Mono',consolas,'Courier New',monospace\">Query call with protocol GRPC search failed with message Received http2 header with status: <span style=\"color: #008080; text-decoration-color: #008080; font-weight: bold\">502</span>.\n",
       "</pre>\n"
      ],
      "text/plain": [
       "Query call with protocol GRPC search failed with message Received http2 header with status: \u001b[1;36m502\u001b[0m.\n"
      ]
     },
     "metadata": {},
     "output_type": "display_data"
    },
    {
     "name": "stderr",
     "output_type": "stream",
     "text": [
      "Queries:  28%|##8       | 28/100 [00:27<01:14,  1.03s/it]\n"
     ]
    },
    {
     "data": {
      "text/html": [
       "<pre style=\"white-space:pre;overflow-x:auto;line-height:normal;font-family:Menlo,'DejaVu Sans Mono',consolas,'Courier New',monospace\">Query call with protocol GRPC search failed with message Received http2 header with status: <span style=\"color: #008080; text-decoration-color: #008080; font-weight: bold\">502</span>.\n",
       "</pre>\n"
      ],
      "text/plain": [
       "Query call with protocol GRPC search failed with message Received http2 header with status: \u001b[1;36m502\u001b[0m.\n"
      ]
     },
     "metadata": {},
     "output_type": "display_data"
    },
    {
     "name": "stderr",
     "output_type": "stream",
     "text": [
      "Queries:  29%|##9       | 29/100 [00:29<01:15,  1.07s/it]\n"
     ]
    },
    {
     "data": {
      "text/html": [
       "<pre style=\"white-space:pre;overflow-x:auto;line-height:normal;font-family:Menlo,'DejaVu Sans Mono',consolas,'Courier New',monospace\">Query call with protocol GRPC search failed with message Received http2 header with status: <span style=\"color: #008080; text-decoration-color: #008080; font-weight: bold\">502</span>.\n",
       "</pre>\n"
      ],
      "text/plain": [
       "Query call with protocol GRPC search failed with message Received http2 header with status: \u001b[1;36m502\u001b[0m.\n"
      ]
     },
     "metadata": {},
     "output_type": "display_data"
    },
    {
     "name": "stderr",
     "output_type": "stream",
     "text": [
      "Queries:  30%|###       | 30/100 [00:30<01:16,  1.09s/it]\n"
     ]
    },
    {
     "data": {
      "text/html": [
       "<pre style=\"white-space:pre;overflow-x:auto;line-height:normal;font-family:Menlo,'DejaVu Sans Mono',consolas,'Courier New',monospace\">Query call with protocol GRPC search failed with message Received http2 header with status: <span style=\"color: #008080; text-decoration-color: #008080; font-weight: bold\">502</span>.\n",
       "</pre>\n"
      ],
      "text/plain": [
       "Query call with protocol GRPC search failed with message Received http2 header with status: \u001b[1;36m502\u001b[0m.\n"
      ]
     },
     "metadata": {},
     "output_type": "display_data"
    },
    {
     "name": "stderr",
     "output_type": "stream",
     "text": [
      "Queries:  31%|###1      | 31/100 [00:31<01:16,  1.11s/it]\n"
     ]
    },
    {
     "data": {
      "text/html": [
       "<pre style=\"white-space:pre;overflow-x:auto;line-height:normal;font-family:Menlo,'DejaVu Sans Mono',consolas,'Courier New',monospace\">Query call with protocol GRPC search failed with message Received http2 header with status: <span style=\"color: #008080; text-decoration-color: #008080; font-weight: bold\">502</span>.\n",
       "</pre>\n"
      ],
      "text/plain": [
       "Query call with protocol GRPC search failed with message Received http2 header with status: \u001b[1;36m502\u001b[0m.\n"
      ]
     },
     "metadata": {},
     "output_type": "display_data"
    },
    {
     "name": "stderr",
     "output_type": "stream",
     "text": [
      "Queries:  32%|###2      | 32/100 [00:31<00:54,  1.24it/s]\n"
     ]
    },
    {
     "data": {
      "text/html": [
       "<pre style=\"white-space:pre;overflow-x:auto;line-height:normal;font-family:Menlo,'DejaVu Sans Mono',consolas,'Courier New',monospace\">Query call with protocol GRPC search failed with message Received http2 header with status: <span style=\"color: #008080; text-decoration-color: #008080; font-weight: bold\">502</span>.\n",
       "</pre>\n"
      ],
      "text/plain": [
       "Query call with protocol GRPC search failed with message Received http2 header with status: \u001b[1;36m502\u001b[0m.\n"
      ]
     },
     "metadata": {},
     "output_type": "display_data"
    },
    {
     "name": "stderr",
     "output_type": "stream",
     "text": [
      "Queries:  33%|###3      | 33/100 [00:32<01:00,  1.11it/s]\n"
     ]
    },
    {
     "data": {
      "text/html": [
       "<pre style=\"white-space:pre;overflow-x:auto;line-height:normal;font-family:Menlo,'DejaVu Sans Mono',consolas,'Courier New',monospace\">Query call with protocol GRPC search failed with message Received http2 header with status: <span style=\"color: #008080; text-decoration-color: #008080; font-weight: bold\">502</span>.\n",
       "</pre>\n"
      ],
      "text/plain": [
       "Query call with protocol GRPC search failed with message Received http2 header with status: \u001b[1;36m502\u001b[0m.\n"
      ]
     },
     "metadata": {},
     "output_type": "display_data"
    },
    {
     "name": "stderr",
     "output_type": "stream",
     "text": [
      "Queries:  34%|###4      | 34/100 [00:33<01:04,  1.03it/s]\n"
     ]
    },
    {
     "data": {
      "text/html": [
       "<pre style=\"white-space:pre;overflow-x:auto;line-height:normal;font-family:Menlo,'DejaVu Sans Mono',consolas,'Courier New',monospace\">Query call with protocol GRPC search failed with message Received http2 header with status: <span style=\"color: #008080; text-decoration-color: #008080; font-weight: bold\">502</span>.\n",
       "</pre>\n"
      ],
      "text/plain": [
       "Query call with protocol GRPC search failed with message Received http2 header with status: \u001b[1;36m502\u001b[0m.\n"
      ]
     },
     "metadata": {},
     "output_type": "display_data"
    },
    {
     "name": "stderr",
     "output_type": "stream",
     "text": [
      "Queries:  35%|###5      | 35/100 [00:34<01:06,  1.03s/it]\n"
     ]
    },
    {
     "data": {
      "text/html": [
       "<pre style=\"white-space:pre;overflow-x:auto;line-height:normal;font-family:Menlo,'DejaVu Sans Mono',consolas,'Courier New',monospace\">Query call with protocol GRPC search failed with message Received http2 header with status: <span style=\"color: #008080; text-decoration-color: #008080; font-weight: bold\">502</span>.\n",
       "</pre>\n"
      ],
      "text/plain": [
       "Query call with protocol GRPC search failed with message Received http2 header with status: \u001b[1;36m502\u001b[0m.\n"
      ]
     },
     "metadata": {},
     "output_type": "display_data"
    },
    {
     "name": "stderr",
     "output_type": "stream",
     "text": [
      "Queries:  36%|###6      | 36/100 [00:36<01:08,  1.07s/it]\n"
     ]
    },
    {
     "data": {
      "text/html": [
       "<pre style=\"white-space:pre;overflow-x:auto;line-height:normal;font-family:Menlo,'DejaVu Sans Mono',consolas,'Courier New',monospace\">Query call with protocol GRPC search failed with message Received http2 header with status: <span style=\"color: #008080; text-decoration-color: #008080; font-weight: bold\">502</span>.\n",
       "</pre>\n"
      ],
      "text/plain": [
       "Query call with protocol GRPC search failed with message Received http2 header with status: \u001b[1;36m502\u001b[0m.\n"
      ]
     },
     "metadata": {},
     "output_type": "display_data"
    },
    {
     "name": "stderr",
     "output_type": "stream",
     "text": [
      "Queries:  37%|###7      | 37/100 [00:37<01:08,  1.09s/it]\n"
     ]
    },
    {
     "data": {
      "text/html": [
       "<pre style=\"white-space:pre;overflow-x:auto;line-height:normal;font-family:Menlo,'DejaVu Sans Mono',consolas,'Courier New',monospace\">Query call with protocol GRPC search failed with message Received http2 header with status: <span style=\"color: #008080; text-decoration-color: #008080; font-weight: bold\">502</span>.\n",
       "</pre>\n"
      ],
      "text/plain": [
       "Query call with protocol GRPC search failed with message Received http2 header with status: \u001b[1;36m502\u001b[0m.\n"
      ]
     },
     "metadata": {},
     "output_type": "display_data"
    },
    {
     "name": "stderr",
     "output_type": "stream",
     "text": [
      "Queries:  38%|###8      | 38/100 [00:38<01:08,  1.11s/it]\n"
     ]
    },
    {
     "data": {
      "text/html": [
       "<pre style=\"white-space:pre;overflow-x:auto;line-height:normal;font-family:Menlo,'DejaVu Sans Mono',consolas,'Courier New',monospace\">Query call with protocol GRPC search failed with message Received http2 header with status: <span style=\"color: #008080; text-decoration-color: #008080; font-weight: bold\">502</span>.\n",
       "</pre>\n"
      ],
      "text/plain": [
       "Query call with protocol GRPC search failed with message Received http2 header with status: \u001b[1;36m502\u001b[0m.\n"
      ]
     },
     "metadata": {},
     "output_type": "display_data"
    },
    {
     "name": "stderr",
     "output_type": "stream",
     "text": [
      "Queries:  39%|###9      | 39/100 [00:38<00:49,  1.24it/s]\n"
     ]
    },
    {
     "data": {
      "text/html": [
       "<pre style=\"white-space:pre;overflow-x:auto;line-height:normal;font-family:Menlo,'DejaVu Sans Mono',consolas,'Courier New',monospace\">Query call with protocol GRPC search failed with message Received http2 header with status: <span style=\"color: #008080; text-decoration-color: #008080; font-weight: bold\">502</span>.\n",
       "</pre>\n"
      ],
      "text/plain": [
       "Query call with protocol GRPC search failed with message Received http2 header with status: \u001b[1;36m502\u001b[0m.\n"
      ]
     },
     "metadata": {},
     "output_type": "display_data"
    },
    {
     "name": "stderr",
     "output_type": "stream",
     "text": [
      "Queries:  40%|####      | 40/100 [00:39<00:53,  1.11it/s]\n"
     ]
    },
    {
     "data": {
      "text/html": [
       "<pre style=\"white-space:pre;overflow-x:auto;line-height:normal;font-family:Menlo,'DejaVu Sans Mono',consolas,'Courier New',monospace\">Query call with protocol GRPC search failed with message Received http2 header with status: <span style=\"color: #008080; text-decoration-color: #008080; font-weight: bold\">502</span>.\n",
       "</pre>\n"
      ],
      "text/plain": [
       "Query call with protocol GRPC search failed with message Received http2 header with status: \u001b[1;36m502\u001b[0m.\n"
      ]
     },
     "metadata": {},
     "output_type": "display_data"
    },
    {
     "name": "stderr",
     "output_type": "stream",
     "text": [
      "Queries:  41%|####1     | 41/100 [00:40<00:57,  1.03it/s]\n"
     ]
    },
    {
     "data": {
      "text/html": [
       "<pre style=\"white-space:pre;overflow-x:auto;line-height:normal;font-family:Menlo,'DejaVu Sans Mono',consolas,'Courier New',monospace\">Query call with protocol GRPC search failed with message Received http2 header with status: <span style=\"color: #008080; text-decoration-color: #008080; font-weight: bold\">502</span>.\n",
       "</pre>\n"
      ],
      "text/plain": [
       "Query call with protocol GRPC search failed with message Received http2 header with status: \u001b[1;36m502\u001b[0m.\n"
      ]
     },
     "metadata": {},
     "output_type": "display_data"
    },
    {
     "name": "stderr",
     "output_type": "stream",
     "text": [
      "Queries:  42%|####2     | 42/100 [00:41<00:59,  1.03s/it]\n"
     ]
    },
    {
     "data": {
      "text/html": [
       "<pre style=\"white-space:pre;overflow-x:auto;line-height:normal;font-family:Menlo,'DejaVu Sans Mono',consolas,'Courier New',monospace\">Query call with protocol GRPC search failed with message Received http2 header with status: <span style=\"color: #008080; text-decoration-color: #008080; font-weight: bold\">502</span>.\n",
       "</pre>\n"
      ],
      "text/plain": [
       "Query call with protocol GRPC search failed with message Received http2 header with status: \u001b[1;36m502\u001b[0m.\n"
      ]
     },
     "metadata": {},
     "output_type": "display_data"
    },
    {
     "name": "stderr",
     "output_type": "stream",
     "text": [
      "Queries:  43%|####3     | 43/100 [00:43<01:00,  1.07s/it]\n"
     ]
    },
    {
     "data": {
      "text/html": [
       "<pre style=\"white-space:pre;overflow-x:auto;line-height:normal;font-family:Menlo,'DejaVu Sans Mono',consolas,'Courier New',monospace\">Query call with protocol GRPC search failed with message Received http2 header with status: <span style=\"color: #008080; text-decoration-color: #008080; font-weight: bold\">502</span>.\n",
       "</pre>\n"
      ],
      "text/plain": [
       "Query call with protocol GRPC search failed with message Received http2 header with status: \u001b[1;36m502\u001b[0m.\n"
      ]
     },
     "metadata": {},
     "output_type": "display_data"
    },
    {
     "name": "stderr",
     "output_type": "stream",
     "text": [
      "Queries:  44%|####4     | 44/100 [00:44<01:01,  1.09s/it]\n"
     ]
    },
    {
     "data": {
      "text/html": [
       "<pre style=\"white-space:pre;overflow-x:auto;line-height:normal;font-family:Menlo,'DejaVu Sans Mono',consolas,'Courier New',monospace\">Query call with protocol GRPC search failed with message Received http2 header with status: <span style=\"color: #008080; text-decoration-color: #008080; font-weight: bold\">502</span>.\n",
       "</pre>\n"
      ],
      "text/plain": [
       "Query call with protocol GRPC search failed with message Received http2 header with status: \u001b[1;36m502\u001b[0m.\n"
      ]
     },
     "metadata": {},
     "output_type": "display_data"
    },
    {
     "name": "stderr",
     "output_type": "stream",
     "text": [
      "Queries:  45%|####5     | 45/100 [00:45<01:01,  1.11s/it]\n"
     ]
    },
    {
     "data": {
      "text/html": [
       "<pre style=\"white-space:pre;overflow-x:auto;line-height:normal;font-family:Menlo,'DejaVu Sans Mono',consolas,'Courier New',monospace\">Query call with protocol GRPC search failed with message Received http2 header with status: <span style=\"color: #008080; text-decoration-color: #008080; font-weight: bold\">502</span>.\n",
       "</pre>\n"
      ],
      "text/plain": [
       "Query call with protocol GRPC search failed with message Received http2 header with status: \u001b[1;36m502\u001b[0m.\n"
      ]
     },
     "metadata": {},
     "output_type": "display_data"
    },
    {
     "name": "stderr",
     "output_type": "stream",
     "text": [
      "Queries:  46%|####6     | 46/100 [00:45<00:43,  1.24it/s]\n"
     ]
    },
    {
     "data": {
      "text/html": [
       "<pre style=\"white-space:pre;overflow-x:auto;line-height:normal;font-family:Menlo,'DejaVu Sans Mono',consolas,'Courier New',monospace\">Query call with protocol GRPC search failed with message Received http2 header with status: <span style=\"color: #008080; text-decoration-color: #008080; font-weight: bold\">502</span>.\n",
       "</pre>\n"
      ],
      "text/plain": [
       "Query call with protocol GRPC search failed with message Received http2 header with status: \u001b[1;36m502\u001b[0m.\n"
      ]
     },
     "metadata": {},
     "output_type": "display_data"
    },
    {
     "name": "stderr",
     "output_type": "stream",
     "text": [
      "Queries:  47%|####6     | 47/100 [00:46<00:47,  1.11it/s]\n"
     ]
    },
    {
     "data": {
      "text/html": [
       "<pre style=\"white-space:pre;overflow-x:auto;line-height:normal;font-family:Menlo,'DejaVu Sans Mono',consolas,'Courier New',monospace\">Query call with protocol GRPC search failed with message Received http2 header with status: <span style=\"color: #008080; text-decoration-color: #008080; font-weight: bold\">502</span>.\n",
       "</pre>\n"
      ],
      "text/plain": [
       "Query call with protocol GRPC search failed with message Received http2 header with status: \u001b[1;36m502\u001b[0m.\n"
      ]
     },
     "metadata": {},
     "output_type": "display_data"
    },
    {
     "name": "stderr",
     "output_type": "stream",
     "text": [
      "Queries:  48%|####8     | 48/100 [00:47<00:50,  1.03it/s]\n"
     ]
    },
    {
     "data": {
      "text/html": [
       "<pre style=\"white-space:pre;overflow-x:auto;line-height:normal;font-family:Menlo,'DejaVu Sans Mono',consolas,'Courier New',monospace\">Query call with protocol GRPC search failed with message Received http2 header with status: <span style=\"color: #008080; text-decoration-color: #008080; font-weight: bold\">502</span>.\n",
       "</pre>\n"
      ],
      "text/plain": [
       "Query call with protocol GRPC search failed with message Received http2 header with status: \u001b[1;36m502\u001b[0m.\n"
      ]
     },
     "metadata": {},
     "output_type": "display_data"
    },
    {
     "name": "stderr",
     "output_type": "stream",
     "text": [
      "Queries:  49%|####9     | 49/100 [00:48<00:52,  1.03s/it]\n"
     ]
    },
    {
     "data": {
      "text/html": [
       "<pre style=\"white-space:pre;overflow-x:auto;line-height:normal;font-family:Menlo,'DejaVu Sans Mono',consolas,'Courier New',monospace\">Query call with protocol GRPC search failed with message Received http2 header with status: <span style=\"color: #008080; text-decoration-color: #008080; font-weight: bold\">502</span>.\n",
       "</pre>\n"
      ],
      "text/plain": [
       "Query call with protocol GRPC search failed with message Received http2 header with status: \u001b[1;36m502\u001b[0m.\n"
      ]
     },
     "metadata": {},
     "output_type": "display_data"
    },
    {
     "name": "stderr",
     "output_type": "stream",
     "text": [
      "Queries:  50%|#####     | 50/100 [00:50<00:53,  1.07s/it]\n"
     ]
    },
    {
     "data": {
      "text/html": [
       "<pre style=\"white-space:pre;overflow-x:auto;line-height:normal;font-family:Menlo,'DejaVu Sans Mono',consolas,'Courier New',monospace\">Query call with protocol GRPC search failed with message Received http2 header with status: <span style=\"color: #008080; text-decoration-color: #008080; font-weight: bold\">502</span>.\n",
       "</pre>\n"
      ],
      "text/plain": [
       "Query call with protocol GRPC search failed with message Received http2 header with status: \u001b[1;36m502\u001b[0m.\n"
      ]
     },
     "metadata": {},
     "output_type": "display_data"
    },
    {
     "name": "stderr",
     "output_type": "stream",
     "text": [
      "Queries:  51%|#####1    | 51/100 [00:51<00:53,  1.09s/it]\n"
     ]
    },
    {
     "data": {
      "text/html": [
       "<pre style=\"white-space:pre;overflow-x:auto;line-height:normal;font-family:Menlo,'DejaVu Sans Mono',consolas,'Courier New',monospace\">Query call with protocol GRPC search failed with message Received http2 header with status: <span style=\"color: #008080; text-decoration-color: #008080; font-weight: bold\">502</span>.\n",
       "</pre>\n"
      ],
      "text/plain": [
       "Query call with protocol GRPC search failed with message Received http2 header with status: \u001b[1;36m502\u001b[0m.\n"
      ]
     },
     "metadata": {},
     "output_type": "display_data"
    },
    {
     "name": "stderr",
     "output_type": "stream",
     "text": [
      "Queries:  52%|#####2    | 52/100 [00:52<00:53,  1.11s/it]\n"
     ]
    },
    {
     "data": {
      "text/html": [
       "<pre style=\"white-space:pre;overflow-x:auto;line-height:normal;font-family:Menlo,'DejaVu Sans Mono',consolas,'Courier New',monospace\">Query call with protocol GRPC search failed with message Received http2 header with status: <span style=\"color: #008080; text-decoration-color: #008080; font-weight: bold\">502</span>.\n",
       "</pre>\n"
      ],
      "text/plain": [
       "Query call with protocol GRPC search failed with message Received http2 header with status: \u001b[1;36m502\u001b[0m.\n"
      ]
     },
     "metadata": {},
     "output_type": "display_data"
    },
    {
     "name": "stderr",
     "output_type": "stream",
     "text": [
      "Queries:  53%|#####3    | 53/100 [00:52<00:37,  1.24it/s]\n"
     ]
    },
    {
     "data": {
      "text/html": [
       "<pre style=\"white-space:pre;overflow-x:auto;line-height:normal;font-family:Menlo,'DejaVu Sans Mono',consolas,'Courier New',monospace\">Query call with protocol GRPC search failed with message Received http2 header with status: <span style=\"color: #008080; text-decoration-color: #008080; font-weight: bold\">502</span>.\n",
       "</pre>\n"
      ],
      "text/plain": [
       "Query call with protocol GRPC search failed with message Received http2 header with status: \u001b[1;36m502\u001b[0m.\n"
      ]
     },
     "metadata": {},
     "output_type": "display_data"
    },
    {
     "name": "stderr",
     "output_type": "stream",
     "text": [
      "Queries:  54%|#####4    | 54/100 [00:53<00:41,  1.11it/s]\n"
     ]
    },
    {
     "data": {
      "text/html": [
       "<pre style=\"white-space:pre;overflow-x:auto;line-height:normal;font-family:Menlo,'DejaVu Sans Mono',consolas,'Courier New',monospace\">Query call with protocol GRPC search failed with message Received http2 header with status: <span style=\"color: #008080; text-decoration-color: #008080; font-weight: bold\">502</span>.\n",
       "</pre>\n"
      ],
      "text/plain": [
       "Query call with protocol GRPC search failed with message Received http2 header with status: \u001b[1;36m502\u001b[0m.\n"
      ]
     },
     "metadata": {},
     "output_type": "display_data"
    },
    {
     "name": "stderr",
     "output_type": "stream",
     "text": [
      "Queries:  55%|#####5    | 55/100 [00:54<00:43,  1.03it/s]\n"
     ]
    },
    {
     "data": {
      "text/html": [
       "<pre style=\"white-space:pre;overflow-x:auto;line-height:normal;font-family:Menlo,'DejaVu Sans Mono',consolas,'Courier New',monospace\">Query call with protocol GRPC search failed with message Received http2 header with status: <span style=\"color: #008080; text-decoration-color: #008080; font-weight: bold\">502</span>.\n",
       "</pre>\n"
      ],
      "text/plain": [
       "Query call with protocol GRPC search failed with message Received http2 header with status: \u001b[1;36m502\u001b[0m.\n"
      ]
     },
     "metadata": {},
     "output_type": "display_data"
    },
    {
     "name": "stderr",
     "output_type": "stream",
     "text": [
      "Queries:  56%|#####6    | 56/100 [00:55<00:45,  1.03s/it]\n"
     ]
    },
    {
     "data": {
      "text/html": [
       "<pre style=\"white-space:pre;overflow-x:auto;line-height:normal;font-family:Menlo,'DejaVu Sans Mono',consolas,'Courier New',monospace\">Query call with protocol GRPC search failed with message Received http2 header with status: <span style=\"color: #008080; text-decoration-color: #008080; font-weight: bold\">502</span>.\n",
       "</pre>\n"
      ],
      "text/plain": [
       "Query call with protocol GRPC search failed with message Received http2 header with status: \u001b[1;36m502\u001b[0m.\n"
      ]
     },
     "metadata": {},
     "output_type": "display_data"
    },
    {
     "name": "stderr",
     "output_type": "stream",
     "text": [
      "Queries:  57%|#####6    | 57/100 [00:57<00:45,  1.07s/it]\n"
     ]
    },
    {
     "data": {
      "text/html": [
       "<pre style=\"white-space:pre;overflow-x:auto;line-height:normal;font-family:Menlo,'DejaVu Sans Mono',consolas,'Courier New',monospace\">Query call with protocol GRPC search failed with message Received http2 header with status: <span style=\"color: #008080; text-decoration-color: #008080; font-weight: bold\">502</span>.\n",
       "</pre>\n"
      ],
      "text/plain": [
       "Query call with protocol GRPC search failed with message Received http2 header with status: \u001b[1;36m502\u001b[0m.\n"
      ]
     },
     "metadata": {},
     "output_type": "display_data"
    },
    {
     "name": "stderr",
     "output_type": "stream",
     "text": [
      "Queries:  58%|#####8    | 58/100 [00:58<00:45,  1.09s/it]\n"
     ]
    },
    {
     "data": {
      "text/html": [
       "<pre style=\"white-space:pre;overflow-x:auto;line-height:normal;font-family:Menlo,'DejaVu Sans Mono',consolas,'Courier New',monospace\">Query call with protocol GRPC search failed with message Received http2 header with status: <span style=\"color: #008080; text-decoration-color: #008080; font-weight: bold\">502</span>.\n",
       "</pre>\n"
      ],
      "text/plain": [
       "Query call with protocol GRPC search failed with message Received http2 header with status: \u001b[1;36m502\u001b[0m.\n"
      ]
     },
     "metadata": {},
     "output_type": "display_data"
    },
    {
     "name": "stderr",
     "output_type": "stream",
     "text": [
      "Queries:  59%|#####8    | 59/100 [00:59<00:45,  1.11s/it]\n"
     ]
    },
    {
     "data": {
      "text/html": [
       "<pre style=\"white-space:pre;overflow-x:auto;line-height:normal;font-family:Menlo,'DejaVu Sans Mono',consolas,'Courier New',monospace\">Query call with protocol GRPC search failed with message Received http2 header with status: <span style=\"color: #008080; text-decoration-color: #008080; font-weight: bold\">502</span>.\n",
       "</pre>\n"
      ],
      "text/plain": [
       "Query call with protocol GRPC search failed with message Received http2 header with status: \u001b[1;36m502\u001b[0m.\n"
      ]
     },
     "metadata": {},
     "output_type": "display_data"
    },
    {
     "name": "stderr",
     "output_type": "stream",
     "text": [
      "Queries:  60%|######    | 60/100 [01:00<00:44,  1.12s/it]\n"
     ]
    },
    {
     "data": {
      "text/html": [
       "<pre style=\"white-space:pre;overflow-x:auto;line-height:normal;font-family:Menlo,'DejaVu Sans Mono',consolas,'Courier New',monospace\">Query call with protocol GRPC search failed with message Received http2 header with status: <span style=\"color: #008080; text-decoration-color: #008080; font-weight: bold\">502</span>.\n",
       "</pre>\n"
      ],
      "text/plain": [
       "Query call with protocol GRPC search failed with message Received http2 header with status: \u001b[1;36m502\u001b[0m.\n"
      ]
     },
     "metadata": {},
     "output_type": "display_data"
    },
    {
     "name": "stderr",
     "output_type": "stream",
     "text": [
      "Queries:  61%|######1   | 61/100 [01:00<00:31,  1.22it/s]\n"
     ]
    },
    {
     "data": {
      "text/html": [
       "<pre style=\"white-space:pre;overflow-x:auto;line-height:normal;font-family:Menlo,'DejaVu Sans Mono',consolas,'Courier New',monospace\">Query call with protocol GRPC search failed with message Received http2 header with status: <span style=\"color: #008080; text-decoration-color: #008080; font-weight: bold\">502</span>.\n",
       "</pre>\n"
      ],
      "text/plain": [
       "Query call with protocol GRPC search failed with message Received http2 header with status: \u001b[1;36m502\u001b[0m.\n"
      ]
     },
     "metadata": {},
     "output_type": "display_data"
    },
    {
     "name": "stderr",
     "output_type": "stream",
     "text": [
      "Queries:  62%|######2   | 62/100 [01:01<00:34,  1.10it/s]\n"
     ]
    },
    {
     "data": {
      "text/html": [
       "<pre style=\"white-space:pre;overflow-x:auto;line-height:normal;font-family:Menlo,'DejaVu Sans Mono',consolas,'Courier New',monospace\">Query call with protocol GRPC search failed with message Received http2 header with status: <span style=\"color: #008080; text-decoration-color: #008080; font-weight: bold\">502</span>.\n",
       "</pre>\n"
      ],
      "text/plain": [
       "Query call with protocol GRPC search failed with message Received http2 header with status: \u001b[1;36m502\u001b[0m.\n"
      ]
     },
     "metadata": {},
     "output_type": "display_data"
    },
    {
     "name": "stderr",
     "output_type": "stream",
     "text": [
      "Queries:  63%|######3   | 63/100 [01:02<00:36,  1.02it/s]\n"
     ]
    },
    {
     "data": {
      "text/html": [
       "<pre style=\"white-space:pre;overflow-x:auto;line-height:normal;font-family:Menlo,'DejaVu Sans Mono',consolas,'Courier New',monospace\">Query call with protocol GRPC search failed with message Received http2 header with status: <span style=\"color: #008080; text-decoration-color: #008080; font-weight: bold\">502</span>.\n",
       "</pre>\n"
      ],
      "text/plain": [
       "Query call with protocol GRPC search failed with message Received http2 header with status: \u001b[1;36m502\u001b[0m.\n"
      ]
     },
     "metadata": {},
     "output_type": "display_data"
    },
    {
     "name": "stderr",
     "output_type": "stream",
     "text": [
      "Queries:  64%|######4   | 64/100 [01:03<00:37,  1.03s/it]\n"
     ]
    },
    {
     "data": {
      "text/html": [
       "<pre style=\"white-space:pre;overflow-x:auto;line-height:normal;font-family:Menlo,'DejaVu Sans Mono',consolas,'Courier New',monospace\">Query call with protocol GRPC search failed with message Received http2 header with status: <span style=\"color: #008080; text-decoration-color: #008080; font-weight: bold\">502</span>.\n",
       "</pre>\n"
      ],
      "text/plain": [
       "Query call with protocol GRPC search failed with message Received http2 header with status: \u001b[1;36m502\u001b[0m.\n"
      ]
     },
     "metadata": {},
     "output_type": "display_data"
    },
    {
     "name": "stderr",
     "output_type": "stream",
     "text": [
      "Queries:  65%|######5   | 65/100 [01:05<00:37,  1.07s/it]\n"
     ]
    },
    {
     "data": {
      "text/html": [
       "<pre style=\"white-space:pre;overflow-x:auto;line-height:normal;font-family:Menlo,'DejaVu Sans Mono',consolas,'Courier New',monospace\">Query call with protocol GRPC search failed with message Received http2 header with status: <span style=\"color: #008080; text-decoration-color: #008080; font-weight: bold\">502</span>.\n",
       "</pre>\n"
      ],
      "text/plain": [
       "Query call with protocol GRPC search failed with message Received http2 header with status: \u001b[1;36m502\u001b[0m.\n"
      ]
     },
     "metadata": {},
     "output_type": "display_data"
    },
    {
     "name": "stderr",
     "output_type": "stream",
     "text": [
      "Queries:  66%|######6   | 66/100 [01:06<00:37,  1.09s/it]\n"
     ]
    },
    {
     "data": {
      "text/html": [
       "<pre style=\"white-space:pre;overflow-x:auto;line-height:normal;font-family:Menlo,'DejaVu Sans Mono',consolas,'Courier New',monospace\">Query call with protocol GRPC search failed with message Received http2 header with status: <span style=\"color: #008080; text-decoration-color: #008080; font-weight: bold\">502</span>.\n",
       "</pre>\n"
      ],
      "text/plain": [
       "Query call with protocol GRPC search failed with message Received http2 header with status: \u001b[1;36m502\u001b[0m.\n"
      ]
     },
     "metadata": {},
     "output_type": "display_data"
    },
    {
     "name": "stderr",
     "output_type": "stream",
     "text": [
      "Queries:  67%|######7   | 67/100 [01:07<00:36,  1.11s/it]\n"
     ]
    },
    {
     "data": {
      "text/html": [
       "<pre style=\"white-space:pre;overflow-x:auto;line-height:normal;font-family:Menlo,'DejaVu Sans Mono',consolas,'Courier New',monospace\">Query call with protocol GRPC search failed with message Received http2 header with status: <span style=\"color: #008080; text-decoration-color: #008080; font-weight: bold\">502</span>.\n",
       "</pre>\n"
      ],
      "text/plain": [
       "Query call with protocol GRPC search failed with message Received http2 header with status: \u001b[1;36m502\u001b[0m.\n"
      ]
     },
     "metadata": {},
     "output_type": "display_data"
    },
    {
     "name": "stderr",
     "output_type": "stream",
     "text": [
      "Queries:  68%|######8   | 68/100 [01:07<00:25,  1.24it/s]\n"
     ]
    },
    {
     "data": {
      "text/html": [
       "<pre style=\"white-space:pre;overflow-x:auto;line-height:normal;font-family:Menlo,'DejaVu Sans Mono',consolas,'Courier New',monospace\">Query call with protocol GRPC search failed with message Received http2 header with status: <span style=\"color: #008080; text-decoration-color: #008080; font-weight: bold\">502</span>.\n",
       "</pre>\n"
      ],
      "text/plain": [
       "Query call with protocol GRPC search failed with message Received http2 header with status: \u001b[1;36m502\u001b[0m.\n"
      ]
     },
     "metadata": {},
     "output_type": "display_data"
    },
    {
     "name": "stderr",
     "output_type": "stream",
     "text": [
      "Queries:  69%|######9   | 69/100 [01:08<00:27,  1.11it/s]\n"
     ]
    },
    {
     "data": {
      "text/html": [
       "<pre style=\"white-space:pre;overflow-x:auto;line-height:normal;font-family:Menlo,'DejaVu Sans Mono',consolas,'Courier New',monospace\">Query call with protocol GRPC search failed with message Received http2 header with status: <span style=\"color: #008080; text-decoration-color: #008080; font-weight: bold\">502</span>.\n",
       "</pre>\n"
      ],
      "text/plain": [
       "Query call with protocol GRPC search failed with message Received http2 header with status: \u001b[1;36m502\u001b[0m.\n"
      ]
     },
     "metadata": {},
     "output_type": "display_data"
    },
    {
     "name": "stderr",
     "output_type": "stream",
     "text": [
      "Queries:  70%|#######   | 70/100 [01:09<00:29,  1.03it/s]\n"
     ]
    },
    {
     "data": {
      "text/html": [
       "<pre style=\"white-space:pre;overflow-x:auto;line-height:normal;font-family:Menlo,'DejaVu Sans Mono',consolas,'Courier New',monospace\">Query call with protocol GRPC search failed with message Received http2 header with status: <span style=\"color: #008080; text-decoration-color: #008080; font-weight: bold\">502</span>.\n",
       "</pre>\n"
      ],
      "text/plain": [
       "Query call with protocol GRPC search failed with message Received http2 header with status: \u001b[1;36m502\u001b[0m.\n"
      ]
     },
     "metadata": {},
     "output_type": "display_data"
    },
    {
     "name": "stderr",
     "output_type": "stream",
     "text": [
      "Queries:  71%|#######1  | 71/100 [01:10<00:29,  1.03s/it]\n"
     ]
    },
    {
     "data": {
      "text/html": [
       "<pre style=\"white-space:pre;overflow-x:auto;line-height:normal;font-family:Menlo,'DejaVu Sans Mono',consolas,'Courier New',monospace\">Query call with protocol GRPC search failed with message Received http2 header with status: <span style=\"color: #008080; text-decoration-color: #008080; font-weight: bold\">502</span>.\n",
       "</pre>\n"
      ],
      "text/plain": [
       "Query call with protocol GRPC search failed with message Received http2 header with status: \u001b[1;36m502\u001b[0m.\n"
      ]
     },
     "metadata": {},
     "output_type": "display_data"
    },
    {
     "name": "stderr",
     "output_type": "stream",
     "text": [
      "Queries:  72%|#######2  | 72/100 [01:12<00:29,  1.07s/it]\n"
     ]
    },
    {
     "data": {
      "text/html": [
       "<pre style=\"white-space:pre;overflow-x:auto;line-height:normal;font-family:Menlo,'DejaVu Sans Mono',consolas,'Courier New',monospace\">Query call with protocol GRPC search failed with message Received http2 header with status: <span style=\"color: #008080; text-decoration-color: #008080; font-weight: bold\">502</span>.\n",
       "</pre>\n"
      ],
      "text/plain": [
       "Query call with protocol GRPC search failed with message Received http2 header with status: \u001b[1;36m502\u001b[0m.\n"
      ]
     },
     "metadata": {},
     "output_type": "display_data"
    },
    {
     "name": "stderr",
     "output_type": "stream",
     "text": [
      "Queries:  73%|#######3  | 73/100 [01:13<00:29,  1.09s/it]\n"
     ]
    },
    {
     "data": {
      "text/html": [
       "<pre style=\"white-space:pre;overflow-x:auto;line-height:normal;font-family:Menlo,'DejaVu Sans Mono',consolas,'Courier New',monospace\">Query call with protocol GRPC search failed with message Received http2 header with status: <span style=\"color: #008080; text-decoration-color: #008080; font-weight: bold\">502</span>.\n",
       "</pre>\n"
      ],
      "text/plain": [
       "Query call with protocol GRPC search failed with message Received http2 header with status: \u001b[1;36m502\u001b[0m.\n"
      ]
     },
     "metadata": {},
     "output_type": "display_data"
    },
    {
     "name": "stderr",
     "output_type": "stream",
     "text": [
      "Queries:  74%|#######4  | 74/100 [01:14<00:28,  1.11s/it]\n"
     ]
    },
    {
     "data": {
      "text/html": [
       "<pre style=\"white-space:pre;overflow-x:auto;line-height:normal;font-family:Menlo,'DejaVu Sans Mono',consolas,'Courier New',monospace\">Query call with protocol GRPC search failed with message Received http2 header with status: <span style=\"color: #008080; text-decoration-color: #008080; font-weight: bold\">502</span>.\n",
       "</pre>\n"
      ],
      "text/plain": [
       "Query call with protocol GRPC search failed with message Received http2 header with status: \u001b[1;36m502\u001b[0m.\n"
      ]
     },
     "metadata": {},
     "output_type": "display_data"
    },
    {
     "name": "stderr",
     "output_type": "stream",
     "text": [
      "Queries:  75%|#######5  | 75/100 [01:14<00:20,  1.24it/s]\n"
     ]
    },
    {
     "data": {
      "text/html": [
       "<pre style=\"white-space:pre;overflow-x:auto;line-height:normal;font-family:Menlo,'DejaVu Sans Mono',consolas,'Courier New',monospace\">Query call with protocol GRPC search failed with message Received http2 header with status: <span style=\"color: #008080; text-decoration-color: #008080; font-weight: bold\">502</span>.\n",
       "</pre>\n"
      ],
      "text/plain": [
       "Query call with protocol GRPC search failed with message Received http2 header with status: \u001b[1;36m502\u001b[0m.\n"
      ]
     },
     "metadata": {},
     "output_type": "display_data"
    },
    {
     "name": "stderr",
     "output_type": "stream",
     "text": [
      "Queries:  76%|#######6  | 76/100 [01:15<00:21,  1.11it/s]\n"
     ]
    },
    {
     "data": {
      "text/html": [
       "<pre style=\"white-space:pre;overflow-x:auto;line-height:normal;font-family:Menlo,'DejaVu Sans Mono',consolas,'Courier New',monospace\">Query call with protocol GRPC search failed with message Received http2 header with status: <span style=\"color: #008080; text-decoration-color: #008080; font-weight: bold\">502</span>.\n",
       "</pre>\n"
      ],
      "text/plain": [
       "Query call with protocol GRPC search failed with message Received http2 header with status: \u001b[1;36m502\u001b[0m.\n"
      ]
     },
     "metadata": {},
     "output_type": "display_data"
    },
    {
     "name": "stderr",
     "output_type": "stream",
     "text": [
      "Queries:  77%|#######7  | 77/100 [01:16<00:22,  1.03it/s]\n"
     ]
    },
    {
     "data": {
      "text/html": [
       "<pre style=\"white-space:pre;overflow-x:auto;line-height:normal;font-family:Menlo,'DejaVu Sans Mono',consolas,'Courier New',monospace\">Query call with protocol GRPC search failed with message Received http2 header with status: <span style=\"color: #008080; text-decoration-color: #008080; font-weight: bold\">502</span>.\n",
       "</pre>\n"
      ],
      "text/plain": [
       "Query call with protocol GRPC search failed with message Received http2 header with status: \u001b[1;36m502\u001b[0m.\n"
      ]
     },
     "metadata": {},
     "output_type": "display_data"
    },
    {
     "name": "stderr",
     "output_type": "stream",
     "text": [
      "Queries:  78%|#######8  | 78/100 [01:17<00:22,  1.03s/it]\n"
     ]
    },
    {
     "data": {
      "text/html": [
       "<pre style=\"white-space:pre;overflow-x:auto;line-height:normal;font-family:Menlo,'DejaVu Sans Mono',consolas,'Courier New',monospace\">Query call with protocol GRPC search failed with message Received http2 header with status: <span style=\"color: #008080; text-decoration-color: #008080; font-weight: bold\">502</span>.\n",
       "</pre>\n"
      ],
      "text/plain": [
       "Query call with protocol GRPC search failed with message Received http2 header with status: \u001b[1;36m502\u001b[0m.\n"
      ]
     },
     "metadata": {},
     "output_type": "display_data"
    },
    {
     "name": "stderr",
     "output_type": "stream",
     "text": [
      "Queries:  79%|#######9  | 79/100 [01:19<00:22,  1.07s/it]\n"
     ]
    },
    {
     "data": {
      "text/html": [
       "<pre style=\"white-space:pre;overflow-x:auto;line-height:normal;font-family:Menlo,'DejaVu Sans Mono',consolas,'Courier New',monospace\">Query call with protocol GRPC search failed with message Received http2 header with status: <span style=\"color: #008080; text-decoration-color: #008080; font-weight: bold\">502</span>.\n",
       "</pre>\n"
      ],
      "text/plain": [
       "Query call with protocol GRPC search failed with message Received http2 header with status: \u001b[1;36m502\u001b[0m.\n"
      ]
     },
     "metadata": {},
     "output_type": "display_data"
    },
    {
     "name": "stderr",
     "output_type": "stream",
     "text": [
      "Queries:  80%|########  | 80/100 [01:20<00:21,  1.09s/it]\n"
     ]
    },
    {
     "data": {
      "text/html": [
       "<pre style=\"white-space:pre;overflow-x:auto;line-height:normal;font-family:Menlo,'DejaVu Sans Mono',consolas,'Courier New',monospace\">Query call with protocol GRPC search failed with message Received http2 header with status: <span style=\"color: #008080; text-decoration-color: #008080; font-weight: bold\">502</span>.\n",
       "</pre>\n"
      ],
      "text/plain": [
       "Query call with protocol GRPC search failed with message Received http2 header with status: \u001b[1;36m502\u001b[0m.\n"
      ]
     },
     "metadata": {},
     "output_type": "display_data"
    },
    {
     "name": "stderr",
     "output_type": "stream",
     "text": [
      "Queries:  81%|########1 | 81/100 [01:21<00:21,  1.11s/it]\n"
     ]
    },
    {
     "data": {
      "text/html": [
       "<pre style=\"white-space:pre;overflow-x:auto;line-height:normal;font-family:Menlo,'DejaVu Sans Mono',consolas,'Courier New',monospace\">Query call with protocol GRPC search failed with message Received http2 header with status: <span style=\"color: #008080; text-decoration-color: #008080; font-weight: bold\">502</span>.\n",
       "</pre>\n"
      ],
      "text/plain": [
       "Query call with protocol GRPC search failed with message Received http2 header with status: \u001b[1;36m502\u001b[0m.\n"
      ]
     },
     "metadata": {},
     "output_type": "display_data"
    },
    {
     "name": "stderr",
     "output_type": "stream",
     "text": [
      "Queries:  82%|########2 | 82/100 [01:21<00:14,  1.24it/s]\n"
     ]
    },
    {
     "data": {
      "text/html": [
       "<pre style=\"white-space:pre;overflow-x:auto;line-height:normal;font-family:Menlo,'DejaVu Sans Mono',consolas,'Courier New',monospace\">Query call with protocol GRPC search failed with message Received http2 header with status: <span style=\"color: #008080; text-decoration-color: #008080; font-weight: bold\">502</span>.\n",
       "</pre>\n"
      ],
      "text/plain": [
       "Query call with protocol GRPC search failed with message Received http2 header with status: \u001b[1;36m502\u001b[0m.\n"
      ]
     },
     "metadata": {},
     "output_type": "display_data"
    },
    {
     "name": "stderr",
     "output_type": "stream",
     "text": [
      "Queries:  83%|########2 | 83/100 [01:22<00:15,  1.11it/s]\n"
     ]
    },
    {
     "data": {
      "text/html": [
       "<pre style=\"white-space:pre;overflow-x:auto;line-height:normal;font-family:Menlo,'DejaVu Sans Mono',consolas,'Courier New',monospace\">Query call with protocol GRPC search failed with message Received http2 header with status: <span style=\"color: #008080; text-decoration-color: #008080; font-weight: bold\">502</span>.\n",
       "</pre>\n"
      ],
      "text/plain": [
       "Query call with protocol GRPC search failed with message Received http2 header with status: \u001b[1;36m502\u001b[0m.\n"
      ]
     },
     "metadata": {},
     "output_type": "display_data"
    },
    {
     "name": "stderr",
     "output_type": "stream",
     "text": [
      "Queries:  84%|########4 | 84/100 [01:23<00:15,  1.03it/s]\n"
     ]
    },
    {
     "data": {
      "text/html": [
       "<pre style=\"white-space:pre;overflow-x:auto;line-height:normal;font-family:Menlo,'DejaVu Sans Mono',consolas,'Courier New',monospace\">Query call with protocol GRPC search failed with message Received http2 header with status: <span style=\"color: #008080; text-decoration-color: #008080; font-weight: bold\">502</span>.\n",
       "</pre>\n"
      ],
      "text/plain": [
       "Query call with protocol GRPC search failed with message Received http2 header with status: \u001b[1;36m502\u001b[0m.\n"
      ]
     },
     "metadata": {},
     "output_type": "display_data"
    },
    {
     "name": "stderr",
     "output_type": "stream",
     "text": [
      "Queries:  85%|########5 | 85/100 [01:24<00:15,  1.03s/it]\n"
     ]
    },
    {
     "data": {
      "text/html": [
       "<pre style=\"white-space:pre;overflow-x:auto;line-height:normal;font-family:Menlo,'DejaVu Sans Mono',consolas,'Courier New',monospace\">Query call with protocol GRPC search failed with message Received http2 header with status: <span style=\"color: #008080; text-decoration-color: #008080; font-weight: bold\">502</span>.\n",
       "</pre>\n"
      ],
      "text/plain": [
       "Query call with protocol GRPC search failed with message Received http2 header with status: \u001b[1;36m502\u001b[0m.\n"
      ]
     },
     "metadata": {},
     "output_type": "display_data"
    },
    {
     "name": "stderr",
     "output_type": "stream",
     "text": [
      "Queries:  86%|########6 | 86/100 [01:26<00:14,  1.07s/it]\n"
     ]
    },
    {
     "data": {
      "text/html": [
       "<pre style=\"white-space:pre;overflow-x:auto;line-height:normal;font-family:Menlo,'DejaVu Sans Mono',consolas,'Courier New',monospace\">Query call with protocol GRPC search failed with message Received http2 header with status: <span style=\"color: #008080; text-decoration-color: #008080; font-weight: bold\">502</span>.\n",
       "</pre>\n"
      ],
      "text/plain": [
       "Query call with protocol GRPC search failed with message Received http2 header with status: \u001b[1;36m502\u001b[0m.\n"
      ]
     },
     "metadata": {},
     "output_type": "display_data"
    },
    {
     "name": "stderr",
     "output_type": "stream",
     "text": [
      "Queries:  87%|########7 | 87/100 [01:27<00:14,  1.09s/it]\n"
     ]
    },
    {
     "data": {
      "text/html": [
       "<pre style=\"white-space:pre;overflow-x:auto;line-height:normal;font-family:Menlo,'DejaVu Sans Mono',consolas,'Courier New',monospace\">Query call with protocol GRPC search failed with message Received http2 header with status: <span style=\"color: #008080; text-decoration-color: #008080; font-weight: bold\">502</span>.\n",
       "</pre>\n"
      ],
      "text/plain": [
       "Query call with protocol GRPC search failed with message Received http2 header with status: \u001b[1;36m502\u001b[0m.\n"
      ]
     },
     "metadata": {},
     "output_type": "display_data"
    },
    {
     "name": "stderr",
     "output_type": "stream",
     "text": [
      "Queries:  88%|########8 | 88/100 [01:28<00:13,  1.11s/it]\n"
     ]
    },
    {
     "data": {
      "text/html": [
       "<pre style=\"white-space:pre;overflow-x:auto;line-height:normal;font-family:Menlo,'DejaVu Sans Mono',consolas,'Courier New',monospace\">Query call with protocol GRPC search failed with message Received http2 header with status: <span style=\"color: #008080; text-decoration-color: #008080; font-weight: bold\">502</span>.\n",
       "</pre>\n"
      ],
      "text/plain": [
       "Query call with protocol GRPC search failed with message Received http2 header with status: \u001b[1;36m502\u001b[0m.\n"
      ]
     },
     "metadata": {},
     "output_type": "display_data"
    },
    {
     "name": "stderr",
     "output_type": "stream",
     "text": [
      "Queries:  89%|########9 | 89/100 [01:28<00:08,  1.24it/s]\n"
     ]
    },
    {
     "data": {
      "text/html": [
       "<pre style=\"white-space:pre;overflow-x:auto;line-height:normal;font-family:Menlo,'DejaVu Sans Mono',consolas,'Courier New',monospace\">Query call with protocol GRPC search failed with message Received http2 header with status: <span style=\"color: #008080; text-decoration-color: #008080; font-weight: bold\">502</span>.\n",
       "</pre>\n"
      ],
      "text/plain": [
       "Query call with protocol GRPC search failed with message Received http2 header with status: \u001b[1;36m502\u001b[0m.\n"
      ]
     },
     "metadata": {},
     "output_type": "display_data"
    },
    {
     "name": "stderr",
     "output_type": "stream",
     "text": [
      "Queries:  90%|######### | 90/100 [01:29<00:08,  1.11it/s]\n"
     ]
    },
    {
     "data": {
      "text/html": [
       "<pre style=\"white-space:pre;overflow-x:auto;line-height:normal;font-family:Menlo,'DejaVu Sans Mono',consolas,'Courier New',monospace\">Query call with protocol GRPC search failed with message Received http2 header with status: <span style=\"color: #008080; text-decoration-color: #008080; font-weight: bold\">502</span>.\n",
       "</pre>\n"
      ],
      "text/plain": [
       "Query call with protocol GRPC search failed with message Received http2 header with status: \u001b[1;36m502\u001b[0m.\n"
      ]
     },
     "metadata": {},
     "output_type": "display_data"
    },
    {
     "name": "stderr",
     "output_type": "stream",
     "text": [
      "Queries:  91%|#########1| 91/100 [01:30<00:08,  1.03it/s]\n"
     ]
    },
    {
     "data": {
      "text/html": [
       "<pre style=\"white-space:pre;overflow-x:auto;line-height:normal;font-family:Menlo,'DejaVu Sans Mono',consolas,'Courier New',monospace\">Query call with protocol GRPC search failed with message Received http2 header with status: <span style=\"color: #008080; text-decoration-color: #008080; font-weight: bold\">502</span>.\n",
       "</pre>\n"
      ],
      "text/plain": [
       "Query call with protocol GRPC search failed with message Received http2 header with status: \u001b[1;36m502\u001b[0m.\n"
      ]
     },
     "metadata": {},
     "output_type": "display_data"
    },
    {
     "name": "stderr",
     "output_type": "stream",
     "text": [
      "Queries:  92%|#########2| 92/100 [01:31<00:08,  1.03s/it]\n"
     ]
    },
    {
     "data": {
      "text/html": [
       "<pre style=\"white-space:pre;overflow-x:auto;line-height:normal;font-family:Menlo,'DejaVu Sans Mono',consolas,'Courier New',monospace\">Query call with protocol GRPC search failed with message Received http2 header with status: <span style=\"color: #008080; text-decoration-color: #008080; font-weight: bold\">502</span>.\n",
       "</pre>\n"
      ],
      "text/plain": [
       "Query call with protocol GRPC search failed with message Received http2 header with status: \u001b[1;36m502\u001b[0m.\n"
      ]
     },
     "metadata": {},
     "output_type": "display_data"
    },
    {
     "name": "stderr",
     "output_type": "stream",
     "text": [
      "Queries:  93%|#########3| 93/100 [01:33<00:07,  1.07s/it]\n"
     ]
    },
    {
     "data": {
      "text/html": [
       "<pre style=\"white-space:pre;overflow-x:auto;line-height:normal;font-family:Menlo,'DejaVu Sans Mono',consolas,'Courier New',monospace\">Query call with protocol GRPC search failed with message Received http2 header with status: <span style=\"color: #008080; text-decoration-color: #008080; font-weight: bold\">502</span>.\n",
       "</pre>\n"
      ],
      "text/plain": [
       "Query call with protocol GRPC search failed with message Received http2 header with status: \u001b[1;36m502\u001b[0m.\n"
      ]
     },
     "metadata": {},
     "output_type": "display_data"
    },
    {
     "name": "stderr",
     "output_type": "stream",
     "text": [
      "Queries:  94%|#########3| 94/100 [01:34<00:06,  1.09s/it]\n"
     ]
    },
    {
     "data": {
      "text/html": [
       "<pre style=\"white-space:pre;overflow-x:auto;line-height:normal;font-family:Menlo,'DejaVu Sans Mono',consolas,'Courier New',monospace\">Query call with protocol GRPC search failed with message Received http2 header with status: <span style=\"color: #008080; text-decoration-color: #008080; font-weight: bold\">502</span>.\n",
       "</pre>\n"
      ],
      "text/plain": [
       "Query call with protocol GRPC search failed with message Received http2 header with status: \u001b[1;36m502\u001b[0m.\n"
      ]
     },
     "metadata": {},
     "output_type": "display_data"
    },
    {
     "name": "stderr",
     "output_type": "stream",
     "text": [
      "Queries:  95%|#########5| 95/100 [01:35<00:05,  1.11s/it]\n"
     ]
    },
    {
     "data": {
      "text/html": [
       "<pre style=\"white-space:pre;overflow-x:auto;line-height:normal;font-family:Menlo,'DejaVu Sans Mono',consolas,'Courier New',monospace\">Query call with protocol GRPC search failed with message Received http2 header with status: <span style=\"color: #008080; text-decoration-color: #008080; font-weight: bold\">502</span>.\n",
       "</pre>\n"
      ],
      "text/plain": [
       "Query call with protocol GRPC search failed with message Received http2 header with status: \u001b[1;36m502\u001b[0m.\n"
      ]
     },
     "metadata": {},
     "output_type": "display_data"
    },
    {
     "name": "stderr",
     "output_type": "stream",
     "text": [
      "Queries:  96%|#########6| 96/100 [01:35<00:03,  1.24it/s]\n"
     ]
    },
    {
     "data": {
      "text/html": [
       "<pre style=\"white-space:pre;overflow-x:auto;line-height:normal;font-family:Menlo,'DejaVu Sans Mono',consolas,'Courier New',monospace\">Query call with protocol GRPC search failed with message Received http2 header with status: <span style=\"color: #008080; text-decoration-color: #008080; font-weight: bold\">502</span>.\n",
       "</pre>\n"
      ],
      "text/plain": [
       "Query call with protocol GRPC search failed with message Received http2 header with status: \u001b[1;36m502\u001b[0m.\n"
      ]
     },
     "metadata": {},
     "output_type": "display_data"
    },
    {
     "name": "stderr",
     "output_type": "stream",
     "text": [
      "Queries:  97%|#########7| 97/100 [01:36<00:02,  1.11it/s]\n"
     ]
    },
    {
     "data": {
      "text/html": [
       "<pre style=\"white-space:pre;overflow-x:auto;line-height:normal;font-family:Menlo,'DejaVu Sans Mono',consolas,'Courier New',monospace\">Query call with protocol GRPC search failed with message Received http2 header with status: <span style=\"color: #008080; text-decoration-color: #008080; font-weight: bold\">502</span>.\n",
       "</pre>\n"
      ],
      "text/plain": [
       "Query call with protocol GRPC search failed with message Received http2 header with status: \u001b[1;36m502\u001b[0m.\n"
      ]
     },
     "metadata": {},
     "output_type": "display_data"
    },
    {
     "name": "stderr",
     "output_type": "stream",
     "text": [
      "Queries:  98%|#########8| 98/100 [01:37<00:01,  1.03it/s]\n"
     ]
    },
    {
     "data": {
      "text/html": [
       "<pre style=\"white-space:pre;overflow-x:auto;line-height:normal;font-family:Menlo,'DejaVu Sans Mono',consolas,'Courier New',monospace\">Query call with protocol GRPC search failed with message Received http2 header with status: <span style=\"color: #008080; text-decoration-color: #008080; font-weight: bold\">502</span>.\n",
       "</pre>\n"
      ],
      "text/plain": [
       "Query call with protocol GRPC search failed with message Received http2 header with status: \u001b[1;36m502\u001b[0m.\n"
      ]
     },
     "metadata": {},
     "output_type": "display_data"
    },
    {
     "name": "stderr",
     "output_type": "stream",
     "text": [
      "Queries:  99%|#########9| 99/100 [01:38<00:01,  1.03s/it]\n"
     ]
    },
    {
     "data": {
      "text/html": [
       "<pre style=\"white-space:pre;overflow-x:auto;line-height:normal;font-family:Menlo,'DejaVu Sans Mono',consolas,'Courier New',monospace\">Query call with protocol GRPC search failed with message Received http2 header with status: <span style=\"color: #008080; text-decoration-color: #008080; font-weight: bold\">502</span>.\n",
       "</pre>\n"
      ],
      "text/plain": [
       "Query call with protocol GRPC search failed with message Received http2 header with status: \u001b[1;36m502\u001b[0m.\n"
      ]
     },
     "metadata": {},
     "output_type": "display_data"
    },
    {
     "name": "stderr",
     "output_type": "stream",
     "text": [
      "Queries: 100%|##########| 100/100 [01:40<00:00,  1.07s/it]\n",
      "Queries: 100%|##########| 100/100 [01:40<00:00,  1.00s/it]\n"
     ]
    },
    {
     "data": {
      "text/html": [
       "<pre style=\"white-space:pre;overflow-x:auto;line-height:normal;font-family:Menlo,'DejaVu Sans Mono',consolas,'Courier New',monospace\">Total Processing Time: <span style=\"color: #008080; text-decoration-color: #008080; font-weight: bold\">1.67</span> minutes\n",
       "</pre>\n"
      ],
      "text/plain": [
       "Total Processing Time: \u001b[1;36m1.67\u001b[0m minutes\n"
      ]
     },
     "metadata": {},
     "output_type": "display_data"
    },
    {
     "data": {
      "text/html": [
       "<pre style=\"white-space:pre;overflow-x:auto;line-height:normal;font-family:Menlo,'DejaVu Sans Mono',consolas,'Courier New',monospace\"><span style=\"color: #008080; text-decoration-color: #008080; font-weight: bold\">0.0</span> <span style=\"color: #008080; text-decoration-color: #008080; font-weight: bold\">0.4380210788849009</span> <span style=\"color: #008080; text-decoration-color: #008080; font-weight: bold\">512</span> <span style=\"color: #008080; text-decoration-color: #008080; font-weight: bold\">60</span>\n",
       "</pre>\n"
      ],
      "text/plain": [
       "\u001b[1;36m0.0\u001b[0m \u001b[1;36m0.4380210788849009\u001b[0m \u001b[1;36m512\u001b[0m \u001b[1;36m60\u001b[0m\n"
      ]
     },
     "metadata": {},
     "output_type": "display_data"
    },
    {
     "name": "stdout",
     "output_type": "stream",
     "text": [
      " 68%|██████▊   | 34/50 [5:24:19<1:46:49, 400.58s/trial, best loss: -0.88]"
     ]
    },
    {
     "data": {
      "text/html": [
       "<pre style=\"white-space:pre;overflow-x:auto;line-height:normal;font-family:Menlo,'DejaVu Sans Mono',consolas,'Courier New',monospace\"><span style=\"color: #008080; text-decoration-color: #008080; font-weight: bold\">0.5643267863316188</span> <span style=\"color: #008080; text-decoration-color: #008080; font-weight: bold\">256</span> <span style=\"color: #008080; text-decoration-color: #008080; font-weight: bold\">60</span>\n",
       "</pre>\n"
      ],
      "text/plain": [
       "\u001b[1;36m0.5643267863316188\u001b[0m \u001b[1;36m256\u001b[0m \u001b[1;36m60\u001b[0m\n"
      ]
     },
     "metadata": {},
     "output_type": "display_data"
    },
    {
     "name": "stderr",
     "output_type": "stream",
     "text": [
      "Queries:   0%|          | 0/100 [00:00<?, ?it/s]\n"
     ]
    },
    {
     "data": {
      "text/html": [
       "<pre style=\"white-space:pre;overflow-x:auto;line-height:normal;font-family:Menlo,'DejaVu Sans Mono',consolas,'Courier New',monospace\">Query call with protocol GRPC search failed with message Received http2 header with status: <span style=\"color: #008080; text-decoration-color: #008080; font-weight: bold\">502</span>.\n",
       "</pre>\n"
      ],
      "text/plain": [
       "Query call with protocol GRPC search failed with message Received http2 header with status: \u001b[1;36m502\u001b[0m.\n"
      ]
     },
     "metadata": {},
     "output_type": "display_data"
    },
    {
     "name": "stderr",
     "output_type": "stream",
     "text": [
      "Queries:   1%|1         | 1/100 [00:01<01:52,  1.14s/it]\n"
     ]
    },
    {
     "data": {
      "text/html": [
       "<pre style=\"white-space:pre;overflow-x:auto;line-height:normal;font-family:Menlo,'DejaVu Sans Mono',consolas,'Courier New',monospace\">Query call with protocol GRPC search failed with message Received http2 header with status: <span style=\"color: #008080; text-decoration-color: #008080; font-weight: bold\">502</span>.\n",
       "</pre>\n"
      ],
      "text/plain": [
       "Query call with protocol GRPC search failed with message Received http2 header with status: \u001b[1;36m502\u001b[0m.\n"
      ]
     },
     "metadata": {},
     "output_type": "display_data"
    },
    {
     "name": "stderr",
     "output_type": "stream",
     "text": [
      "Queries:   2%|2         | 2/100 [00:02<01:52,  1.15s/it]\n"
     ]
    },
    {
     "data": {
      "text/html": [
       "<pre style=\"white-space:pre;overflow-x:auto;line-height:normal;font-family:Menlo,'DejaVu Sans Mono',consolas,'Courier New',monospace\">Query call with protocol GRPC search failed with message Received http2 header with status: <span style=\"color: #008080; text-decoration-color: #008080; font-weight: bold\">502</span>.\n",
       "</pre>\n"
      ],
      "text/plain": [
       "Query call with protocol GRPC search failed with message Received http2 header with status: \u001b[1;36m502\u001b[0m.\n"
      ]
     },
     "metadata": {},
     "output_type": "display_data"
    },
    {
     "name": "stderr",
     "output_type": "stream",
     "text": [
      "Queries:   3%|3         | 3/100 [00:03<01:51,  1.15s/it]\n"
     ]
    },
    {
     "data": {
      "text/html": [
       "<pre style=\"white-space:pre;overflow-x:auto;line-height:normal;font-family:Menlo,'DejaVu Sans Mono',consolas,'Courier New',monospace\">Query call with protocol GRPC search failed with message Received http2 header with status: <span style=\"color: #008080; text-decoration-color: #008080; font-weight: bold\">502</span>.\n",
       "</pre>\n"
      ],
      "text/plain": [
       "Query call with protocol GRPC search failed with message Received http2 header with status: \u001b[1;36m502\u001b[0m.\n"
      ]
     },
     "metadata": {},
     "output_type": "display_data"
    },
    {
     "name": "stderr",
     "output_type": "stream",
     "text": [
      "Queries:   4%|4         | 4/100 [00:03<01:10,  1.36it/s]\n"
     ]
    },
    {
     "data": {
      "text/html": [
       "<pre style=\"white-space:pre;overflow-x:auto;line-height:normal;font-family:Menlo,'DejaVu Sans Mono',consolas,'Courier New',monospace\">Query call with protocol GRPC search failed with message Received http2 header with status: <span style=\"color: #008080; text-decoration-color: #008080; font-weight: bold\">502</span>.\n",
       "</pre>\n"
      ],
      "text/plain": [
       "Query call with protocol GRPC search failed with message Received http2 header with status: \u001b[1;36m502\u001b[0m.\n"
      ]
     },
     "metadata": {},
     "output_type": "display_data"
    },
    {
     "name": "stderr",
     "output_type": "stream",
     "text": [
      "Queries:   5%|5         | 5/100 [00:04<01:22,  1.15it/s]\n"
     ]
    },
    {
     "data": {
      "text/html": [
       "<pre style=\"white-space:pre;overflow-x:auto;line-height:normal;font-family:Menlo,'DejaVu Sans Mono',consolas,'Courier New',monospace\">Query call with protocol GRPC search failed with message Received http2 header with status: <span style=\"color: #008080; text-decoration-color: #008080; font-weight: bold\">502</span>.\n",
       "</pre>\n"
      ],
      "text/plain": [
       "Query call with protocol GRPC search failed with message Received http2 header with status: \u001b[1;36m502\u001b[0m.\n"
      ]
     },
     "metadata": {},
     "output_type": "display_data"
    },
    {
     "name": "stderr",
     "output_type": "stream",
     "text": [
      "Queries:   6%|6         | 6/100 [00:05<01:30,  1.03it/s]\n"
     ]
    },
    {
     "data": {
      "text/html": [
       "<pre style=\"white-space:pre;overflow-x:auto;line-height:normal;font-family:Menlo,'DejaVu Sans Mono',consolas,'Courier New',monospace\">Query call with protocol GRPC search failed with message Received http2 header with status: <span style=\"color: #008080; text-decoration-color: #008080; font-weight: bold\">502</span>.\n",
       "</pre>\n"
      ],
      "text/plain": [
       "Query call with protocol GRPC search failed with message Received http2 header with status: \u001b[1;36m502\u001b[0m.\n"
      ]
     },
     "metadata": {},
     "output_type": "display_data"
    },
    {
     "name": "stderr",
     "output_type": "stream",
     "text": [
      "Queries:   7%|7         | 7/100 [00:06<01:35,  1.03s/it]\n"
     ]
    },
    {
     "data": {
      "text/html": [
       "<pre style=\"white-space:pre;overflow-x:auto;line-height:normal;font-family:Menlo,'DejaVu Sans Mono',consolas,'Courier New',monospace\">Query call with protocol GRPC search failed with message Received http2 header with status: <span style=\"color: #008080; text-decoration-color: #008080; font-weight: bold\">502</span>.\n",
       "</pre>\n"
      ],
      "text/plain": [
       "Query call with protocol GRPC search failed with message Received http2 header with status: \u001b[1;36m502\u001b[0m.\n"
      ]
     },
     "metadata": {},
     "output_type": "display_data"
    },
    {
     "name": "stderr",
     "output_type": "stream",
     "text": [
      "Queries:   8%|8         | 8/100 [00:08<01:38,  1.07s/it]\n"
     ]
    },
    {
     "data": {
      "text/html": [
       "<pre style=\"white-space:pre;overflow-x:auto;line-height:normal;font-family:Menlo,'DejaVu Sans Mono',consolas,'Courier New',monospace\">Query call with protocol GRPC search failed with message Received http2 header with status: <span style=\"color: #008080; text-decoration-color: #008080; font-weight: bold\">502</span>.\n",
       "</pre>\n"
      ],
      "text/plain": [
       "Query call with protocol GRPC search failed with message Received http2 header with status: \u001b[1;36m502\u001b[0m.\n"
      ]
     },
     "metadata": {},
     "output_type": "display_data"
    },
    {
     "name": "stderr",
     "output_type": "stream",
     "text": [
      "Queries:   9%|9         | 9/100 [00:09<01:39,  1.09s/it]\n"
     ]
    },
    {
     "data": {
      "text/html": [
       "<pre style=\"white-space:pre;overflow-x:auto;line-height:normal;font-family:Menlo,'DejaVu Sans Mono',consolas,'Courier New',monospace\">Query call with protocol GRPC search failed with message Received http2 header with status: <span style=\"color: #008080; text-decoration-color: #008080; font-weight: bold\">502</span>.\n",
       "</pre>\n"
      ],
      "text/plain": [
       "Query call with protocol GRPC search failed with message Received http2 header with status: \u001b[1;36m502\u001b[0m.\n"
      ]
     },
     "metadata": {},
     "output_type": "display_data"
    },
    {
     "name": "stderr",
     "output_type": "stream",
     "text": [
      "Queries:  10%|#         | 10/100 [00:10<01:40,  1.11s/it]\n"
     ]
    },
    {
     "data": {
      "text/html": [
       "<pre style=\"white-space:pre;overflow-x:auto;line-height:normal;font-family:Menlo,'DejaVu Sans Mono',consolas,'Courier New',monospace\">Query call with protocol GRPC search failed with message Received http2 header with status: <span style=\"color: #008080; text-decoration-color: #008080; font-weight: bold\">502</span>.\n",
       "</pre>\n"
      ],
      "text/plain": [
       "Query call with protocol GRPC search failed with message Received http2 header with status: \u001b[1;36m502\u001b[0m.\n"
      ]
     },
     "metadata": {},
     "output_type": "display_data"
    },
    {
     "name": "stderr",
     "output_type": "stream",
     "text": [
      "Queries:  11%|#1        | 11/100 [00:10<01:11,  1.25it/s]\n"
     ]
    },
    {
     "data": {
      "text/html": [
       "<pre style=\"white-space:pre;overflow-x:auto;line-height:normal;font-family:Menlo,'DejaVu Sans Mono',consolas,'Courier New',monospace\">Query call with protocol GRPC search failed with message Received http2 header with status: <span style=\"color: #008080; text-decoration-color: #008080; font-weight: bold\">502</span>.\n",
       "</pre>\n"
      ],
      "text/plain": [
       "Query call with protocol GRPC search failed with message Received http2 header with status: \u001b[1;36m502\u001b[0m.\n"
      ]
     },
     "metadata": {},
     "output_type": "display_data"
    },
    {
     "name": "stderr",
     "output_type": "stream",
     "text": [
      "Queries:  12%|#2        | 12/100 [00:11<01:18,  1.11it/s]\n"
     ]
    },
    {
     "data": {
      "text/html": [
       "<pre style=\"white-space:pre;overflow-x:auto;line-height:normal;font-family:Menlo,'DejaVu Sans Mono',consolas,'Courier New',monospace\">Query call with protocol GRPC search failed with message Received http2 header with status: <span style=\"color: #008080; text-decoration-color: #008080; font-weight: bold\">502</span>.\n",
       "</pre>\n"
      ],
      "text/plain": [
       "Query call with protocol GRPC search failed with message Received http2 header with status: \u001b[1;36m502\u001b[0m.\n"
      ]
     },
     "metadata": {},
     "output_type": "display_data"
    },
    {
     "name": "stderr",
     "output_type": "stream",
     "text": [
      "Queries:  13%|#3        | 13/100 [00:12<01:24,  1.03it/s]\n"
     ]
    },
    {
     "data": {
      "text/html": [
       "<pre style=\"white-space:pre;overflow-x:auto;line-height:normal;font-family:Menlo,'DejaVu Sans Mono',consolas,'Courier New',monospace\">Query call with protocol GRPC search failed with message Received http2 header with status: <span style=\"color: #008080; text-decoration-color: #008080; font-weight: bold\">502</span>.\n",
       "</pre>\n"
      ],
      "text/plain": [
       "Query call with protocol GRPC search failed with message Received http2 header with status: \u001b[1;36m502\u001b[0m.\n"
      ]
     },
     "metadata": {},
     "output_type": "display_data"
    },
    {
     "name": "stderr",
     "output_type": "stream",
     "text": [
      "Queries:  14%|#4        | 14/100 [00:13<01:28,  1.03s/it]\n"
     ]
    },
    {
     "data": {
      "text/html": [
       "<pre style=\"white-space:pre;overflow-x:auto;line-height:normal;font-family:Menlo,'DejaVu Sans Mono',consolas,'Courier New',monospace\">Query call with protocol GRPC search failed with message Received http2 header with status: <span style=\"color: #008080; text-decoration-color: #008080; font-weight: bold\">502</span>.\n",
       "</pre>\n"
      ],
      "text/plain": [
       "Query call with protocol GRPC search failed with message Received http2 header with status: \u001b[1;36m502\u001b[0m.\n"
      ]
     },
     "metadata": {},
     "output_type": "display_data"
    },
    {
     "name": "stderr",
     "output_type": "stream",
     "text": [
      "Queries:  15%|#5        | 15/100 [00:15<01:30,  1.07s/it]\n"
     ]
    },
    {
     "data": {
      "text/html": [
       "<pre style=\"white-space:pre;overflow-x:auto;line-height:normal;font-family:Menlo,'DejaVu Sans Mono',consolas,'Courier New',monospace\">Query call with protocol GRPC search failed with message Received http2 header with status: <span style=\"color: #008080; text-decoration-color: #008080; font-weight: bold\">502</span>.\n",
       "</pre>\n"
      ],
      "text/plain": [
       "Query call with protocol GRPC search failed with message Received http2 header with status: \u001b[1;36m502\u001b[0m.\n"
      ]
     },
     "metadata": {},
     "output_type": "display_data"
    },
    {
     "name": "stderr",
     "output_type": "stream",
     "text": [
      "Queries:  16%|#6        | 16/100 [00:16<01:31,  1.09s/it]\n"
     ]
    },
    {
     "data": {
      "text/html": [
       "<pre style=\"white-space:pre;overflow-x:auto;line-height:normal;font-family:Menlo,'DejaVu Sans Mono',consolas,'Courier New',monospace\">Query call with protocol GRPC search failed with message Received http2 header with status: <span style=\"color: #008080; text-decoration-color: #008080; font-weight: bold\">502</span>.\n",
       "</pre>\n"
      ],
      "text/plain": [
       "Query call with protocol GRPC search failed with message Received http2 header with status: \u001b[1;36m502\u001b[0m.\n"
      ]
     },
     "metadata": {},
     "output_type": "display_data"
    },
    {
     "name": "stderr",
     "output_type": "stream",
     "text": [
      "Queries:  17%|#7        | 17/100 [00:17<01:32,  1.11s/it]\n"
     ]
    },
    {
     "data": {
      "text/html": [
       "<pre style=\"white-space:pre;overflow-x:auto;line-height:normal;font-family:Menlo,'DejaVu Sans Mono',consolas,'Courier New',monospace\">Query call with protocol GRPC search failed with message Received http2 header with status: <span style=\"color: #008080; text-decoration-color: #008080; font-weight: bold\">502</span>.\n",
       "</pre>\n"
      ],
      "text/plain": [
       "Query call with protocol GRPC search failed with message Received http2 header with status: \u001b[1;36m502\u001b[0m.\n"
      ]
     },
     "metadata": {},
     "output_type": "display_data"
    },
    {
     "name": "stderr",
     "output_type": "stream",
     "text": [
      "Queries:  18%|#8        | 18/100 [00:17<01:06,  1.24it/s]\n"
     ]
    },
    {
     "data": {
      "text/html": [
       "<pre style=\"white-space:pre;overflow-x:auto;line-height:normal;font-family:Menlo,'DejaVu Sans Mono',consolas,'Courier New',monospace\">Query call with protocol GRPC search failed with message Received http2 header with status: <span style=\"color: #008080; text-decoration-color: #008080; font-weight: bold\">502</span>.\n",
       "</pre>\n"
      ],
      "text/plain": [
       "Query call with protocol GRPC search failed with message Received http2 header with status: \u001b[1;36m502\u001b[0m.\n"
      ]
     },
     "metadata": {},
     "output_type": "display_data"
    },
    {
     "name": "stderr",
     "output_type": "stream",
     "text": [
      "Queries:  19%|#9        | 19/100 [00:18<01:12,  1.11it/s]\n"
     ]
    },
    {
     "data": {
      "text/html": [
       "<pre style=\"white-space:pre;overflow-x:auto;line-height:normal;font-family:Menlo,'DejaVu Sans Mono',consolas,'Courier New',monospace\">Query call with protocol GRPC search failed with message Received http2 header with status: <span style=\"color: #008080; text-decoration-color: #008080; font-weight: bold\">502</span>.\n",
       "</pre>\n"
      ],
      "text/plain": [
       "Query call with protocol GRPC search failed with message Received http2 header with status: \u001b[1;36m502\u001b[0m.\n"
      ]
     },
     "metadata": {},
     "output_type": "display_data"
    },
    {
     "name": "stderr",
     "output_type": "stream",
     "text": [
      "Queries:  20%|##        | 20/100 [00:19<01:17,  1.03it/s]\n"
     ]
    },
    {
     "data": {
      "text/html": [
       "<pre style=\"white-space:pre;overflow-x:auto;line-height:normal;font-family:Menlo,'DejaVu Sans Mono',consolas,'Courier New',monospace\">Query call with protocol GRPC search failed with message Received http2 header with status: <span style=\"color: #008080; text-decoration-color: #008080; font-weight: bold\">502</span>.\n",
       "</pre>\n"
      ],
      "text/plain": [
       "Query call with protocol GRPC search failed with message Received http2 header with status: \u001b[1;36m502\u001b[0m.\n"
      ]
     },
     "metadata": {},
     "output_type": "display_data"
    },
    {
     "name": "stderr",
     "output_type": "stream",
     "text": [
      "Queries:  21%|##1       | 21/100 [00:20<01:21,  1.03s/it]\n"
     ]
    },
    {
     "data": {
      "text/html": [
       "<pre style=\"white-space:pre;overflow-x:auto;line-height:normal;font-family:Menlo,'DejaVu Sans Mono',consolas,'Courier New',monospace\">Query call with protocol GRPC search failed with message Received http2 header with status: <span style=\"color: #008080; text-decoration-color: #008080; font-weight: bold\">502</span>.\n",
       "</pre>\n"
      ],
      "text/plain": [
       "Query call with protocol GRPC search failed with message Received http2 header with status: \u001b[1;36m502\u001b[0m.\n"
      ]
     },
     "metadata": {},
     "output_type": "display_data"
    },
    {
     "name": "stderr",
     "output_type": "stream",
     "text": [
      "Queries:  22%|##2       | 22/100 [00:22<01:23,  1.07s/it]\n"
     ]
    },
    {
     "data": {
      "text/html": [
       "<pre style=\"white-space:pre;overflow-x:auto;line-height:normal;font-family:Menlo,'DejaVu Sans Mono',consolas,'Courier New',monospace\">Query call with protocol GRPC search failed with message Received http2 header with status: <span style=\"color: #008080; text-decoration-color: #008080; font-weight: bold\">502</span>.\n",
       "</pre>\n"
      ],
      "text/plain": [
       "Query call with protocol GRPC search failed with message Received http2 header with status: \u001b[1;36m502\u001b[0m.\n"
      ]
     },
     "metadata": {},
     "output_type": "display_data"
    },
    {
     "name": "stderr",
     "output_type": "stream",
     "text": [
      "Queries:  23%|##3       | 23/100 [00:23<01:24,  1.09s/it]\n"
     ]
    },
    {
     "data": {
      "text/html": [
       "<pre style=\"white-space:pre;overflow-x:auto;line-height:normal;font-family:Menlo,'DejaVu Sans Mono',consolas,'Courier New',monospace\">Query call with protocol GRPC search failed with message Received http2 header with status: <span style=\"color: #008080; text-decoration-color: #008080; font-weight: bold\">502</span>.\n",
       "</pre>\n"
      ],
      "text/plain": [
       "Query call with protocol GRPC search failed with message Received http2 header with status: \u001b[1;36m502\u001b[0m.\n"
      ]
     },
     "metadata": {},
     "output_type": "display_data"
    },
    {
     "name": "stderr",
     "output_type": "stream",
     "text": [
      "Queries:  24%|##4       | 24/100 [00:24<01:24,  1.11s/it]\n"
     ]
    },
    {
     "data": {
      "text/html": [
       "<pre style=\"white-space:pre;overflow-x:auto;line-height:normal;font-family:Menlo,'DejaVu Sans Mono',consolas,'Courier New',monospace\">Query call with protocol GRPC search failed with message Received http2 header with status: <span style=\"color: #008080; text-decoration-color: #008080; font-weight: bold\">502</span>.\n",
       "</pre>\n"
      ],
      "text/plain": [
       "Query call with protocol GRPC search failed with message Received http2 header with status: \u001b[1;36m502\u001b[0m.\n"
      ]
     },
     "metadata": {},
     "output_type": "display_data"
    },
    {
     "name": "stderr",
     "output_type": "stream",
     "text": [
      "Queries:  25%|##5       | 25/100 [00:24<01:00,  1.24it/s]\n"
     ]
    },
    {
     "data": {
      "text/html": [
       "<pre style=\"white-space:pre;overflow-x:auto;line-height:normal;font-family:Menlo,'DejaVu Sans Mono',consolas,'Courier New',monospace\">Query call with protocol GRPC search failed with message Received http2 header with status: <span style=\"color: #008080; text-decoration-color: #008080; font-weight: bold\">502</span>.\n",
       "</pre>\n"
      ],
      "text/plain": [
       "Query call with protocol GRPC search failed with message Received http2 header with status: \u001b[1;36m502\u001b[0m.\n"
      ]
     },
     "metadata": {},
     "output_type": "display_data"
    },
    {
     "name": "stderr",
     "output_type": "stream",
     "text": [
      "Queries:  26%|##6       | 26/100 [00:25<01:06,  1.11it/s]\n"
     ]
    },
    {
     "data": {
      "text/html": [
       "<pre style=\"white-space:pre;overflow-x:auto;line-height:normal;font-family:Menlo,'DejaVu Sans Mono',consolas,'Courier New',monospace\">Query call with protocol GRPC search failed with message Received http2 header with status: <span style=\"color: #008080; text-decoration-color: #008080; font-weight: bold\">502</span>.\n",
       "</pre>\n"
      ],
      "text/plain": [
       "Query call with protocol GRPC search failed with message Received http2 header with status: \u001b[1;36m502\u001b[0m.\n"
      ]
     },
     "metadata": {},
     "output_type": "display_data"
    },
    {
     "name": "stderr",
     "output_type": "stream",
     "text": [
      "Queries:  27%|##7       | 27/100 [00:26<01:11,  1.03it/s]\n"
     ]
    },
    {
     "data": {
      "text/html": [
       "<pre style=\"white-space:pre;overflow-x:auto;line-height:normal;font-family:Menlo,'DejaVu Sans Mono',consolas,'Courier New',monospace\">Query call with protocol GRPC search failed with message Received http2 header with status: <span style=\"color: #008080; text-decoration-color: #008080; font-weight: bold\">502</span>.\n",
       "</pre>\n"
      ],
      "text/plain": [
       "Query call with protocol GRPC search failed with message Received http2 header with status: \u001b[1;36m502\u001b[0m.\n"
      ]
     },
     "metadata": {},
     "output_type": "display_data"
    },
    {
     "name": "stderr",
     "output_type": "stream",
     "text": [
      "Queries:  28%|##8       | 28/100 [00:27<01:14,  1.03s/it]\n"
     ]
    },
    {
     "data": {
      "text/html": [
       "<pre style=\"white-space:pre;overflow-x:auto;line-height:normal;font-family:Menlo,'DejaVu Sans Mono',consolas,'Courier New',monospace\">Query call with protocol GRPC search failed with message Received http2 header with status: <span style=\"color: #008080; text-decoration-color: #008080; font-weight: bold\">502</span>.\n",
       "</pre>\n"
      ],
      "text/plain": [
       "Query call with protocol GRPC search failed with message Received http2 header with status: \u001b[1;36m502\u001b[0m.\n"
      ]
     },
     "metadata": {},
     "output_type": "display_data"
    },
    {
     "name": "stderr",
     "output_type": "stream",
     "text": [
      "Queries:  29%|##9       | 29/100 [00:29<01:15,  1.07s/it]\n"
     ]
    },
    {
     "data": {
      "text/html": [
       "<pre style=\"white-space:pre;overflow-x:auto;line-height:normal;font-family:Menlo,'DejaVu Sans Mono',consolas,'Courier New',monospace\">Query call with protocol GRPC search failed with message Received http2 header with status: <span style=\"color: #008080; text-decoration-color: #008080; font-weight: bold\">502</span>.\n",
       "</pre>\n"
      ],
      "text/plain": [
       "Query call with protocol GRPC search failed with message Received http2 header with status: \u001b[1;36m502\u001b[0m.\n"
      ]
     },
     "metadata": {},
     "output_type": "display_data"
    },
    {
     "name": "stderr",
     "output_type": "stream",
     "text": [
      "Queries:  30%|###       | 30/100 [00:30<01:16,  1.09s/it]\n"
     ]
    },
    {
     "data": {
      "text/html": [
       "<pre style=\"white-space:pre;overflow-x:auto;line-height:normal;font-family:Menlo,'DejaVu Sans Mono',consolas,'Courier New',monospace\">Query call with protocol GRPC search failed with message Received http2 header with status: <span style=\"color: #008080; text-decoration-color: #008080; font-weight: bold\">502</span>.\n",
       "</pre>\n"
      ],
      "text/plain": [
       "Query call with protocol GRPC search failed with message Received http2 header with status: \u001b[1;36m502\u001b[0m.\n"
      ]
     },
     "metadata": {},
     "output_type": "display_data"
    },
    {
     "name": "stderr",
     "output_type": "stream",
     "text": [
      "Queries:  31%|###1      | 31/100 [00:31<01:16,  1.11s/it]\n"
     ]
    },
    {
     "data": {
      "text/html": [
       "<pre style=\"white-space:pre;overflow-x:auto;line-height:normal;font-family:Menlo,'DejaVu Sans Mono',consolas,'Courier New',monospace\">Query call with protocol GRPC search failed with message Received http2 header with status: <span style=\"color: #008080; text-decoration-color: #008080; font-weight: bold\">502</span>.\n",
       "</pre>\n"
      ],
      "text/plain": [
       "Query call with protocol GRPC search failed with message Received http2 header with status: \u001b[1;36m502\u001b[0m.\n"
      ]
     },
     "metadata": {},
     "output_type": "display_data"
    },
    {
     "name": "stderr",
     "output_type": "stream",
     "text": [
      "Queries:  32%|###2      | 32/100 [00:31<00:54,  1.24it/s]\n"
     ]
    },
    {
     "data": {
      "text/html": [
       "<pre style=\"white-space:pre;overflow-x:auto;line-height:normal;font-family:Menlo,'DejaVu Sans Mono',consolas,'Courier New',monospace\">Query call with protocol GRPC search failed with message Received http2 header with status: <span style=\"color: #008080; text-decoration-color: #008080; font-weight: bold\">502</span>.\n",
       "</pre>\n"
      ],
      "text/plain": [
       "Query call with protocol GRPC search failed with message Received http2 header with status: \u001b[1;36m502\u001b[0m.\n"
      ]
     },
     "metadata": {},
     "output_type": "display_data"
    },
    {
     "name": "stderr",
     "output_type": "stream",
     "text": [
      "Queries:  33%|###3      | 33/100 [00:32<01:00,  1.11it/s]\n"
     ]
    },
    {
     "data": {
      "text/html": [
       "<pre style=\"white-space:pre;overflow-x:auto;line-height:normal;font-family:Menlo,'DejaVu Sans Mono',consolas,'Courier New',monospace\">Query call with protocol GRPC search failed with message Received http2 header with status: <span style=\"color: #008080; text-decoration-color: #008080; font-weight: bold\">502</span>.\n",
       "</pre>\n"
      ],
      "text/plain": [
       "Query call with protocol GRPC search failed with message Received http2 header with status: \u001b[1;36m502\u001b[0m.\n"
      ]
     },
     "metadata": {},
     "output_type": "display_data"
    },
    {
     "name": "stderr",
     "output_type": "stream",
     "text": [
      "Queries:  34%|###4      | 34/100 [00:33<01:04,  1.03it/s]\n"
     ]
    },
    {
     "data": {
      "text/html": [
       "<pre style=\"white-space:pre;overflow-x:auto;line-height:normal;font-family:Menlo,'DejaVu Sans Mono',consolas,'Courier New',monospace\">Query call with protocol GRPC search failed with message Received http2 header with status: <span style=\"color: #008080; text-decoration-color: #008080; font-weight: bold\">502</span>.\n",
       "</pre>\n"
      ],
      "text/plain": [
       "Query call with protocol GRPC search failed with message Received http2 header with status: \u001b[1;36m502\u001b[0m.\n"
      ]
     },
     "metadata": {},
     "output_type": "display_data"
    },
    {
     "name": "stderr",
     "output_type": "stream",
     "text": [
      "Queries:  35%|###5      | 35/100 [00:34<01:06,  1.03s/it]\n"
     ]
    },
    {
     "data": {
      "text/html": [
       "<pre style=\"white-space:pre;overflow-x:auto;line-height:normal;font-family:Menlo,'DejaVu Sans Mono',consolas,'Courier New',monospace\">Query call with protocol GRPC search failed with message Received http2 header with status: <span style=\"color: #008080; text-decoration-color: #008080; font-weight: bold\">502</span>.\n",
       "</pre>\n"
      ],
      "text/plain": [
       "Query call with protocol GRPC search failed with message Received http2 header with status: \u001b[1;36m502\u001b[0m.\n"
      ]
     },
     "metadata": {},
     "output_type": "display_data"
    },
    {
     "name": "stderr",
     "output_type": "stream",
     "text": [
      "Queries:  36%|###6      | 36/100 [00:36<01:08,  1.07s/it]\n"
     ]
    },
    {
     "data": {
      "text/html": [
       "<pre style=\"white-space:pre;overflow-x:auto;line-height:normal;font-family:Menlo,'DejaVu Sans Mono',consolas,'Courier New',monospace\">Query call with protocol GRPC search failed with message Received http2 header with status: <span style=\"color: #008080; text-decoration-color: #008080; font-weight: bold\">502</span>.\n",
       "</pre>\n"
      ],
      "text/plain": [
       "Query call with protocol GRPC search failed with message Received http2 header with status: \u001b[1;36m502\u001b[0m.\n"
      ]
     },
     "metadata": {},
     "output_type": "display_data"
    },
    {
     "name": "stderr",
     "output_type": "stream",
     "text": [
      "Queries:  37%|###7      | 37/100 [00:37<01:08,  1.09s/it]\n"
     ]
    },
    {
     "data": {
      "text/html": [
       "<pre style=\"white-space:pre;overflow-x:auto;line-height:normal;font-family:Menlo,'DejaVu Sans Mono',consolas,'Courier New',monospace\">Query call with protocol GRPC search failed with message Received http2 header with status: <span style=\"color: #008080; text-decoration-color: #008080; font-weight: bold\">502</span>.\n",
       "</pre>\n"
      ],
      "text/plain": [
       "Query call with protocol GRPC search failed with message Received http2 header with status: \u001b[1;36m502\u001b[0m.\n"
      ]
     },
     "metadata": {},
     "output_type": "display_data"
    },
    {
     "name": "stderr",
     "output_type": "stream",
     "text": [
      "Queries:  38%|###8      | 38/100 [00:37<00:54,  1.15it/s]\n"
     ]
    },
    {
     "data": {
      "text/html": [
       "<pre style=\"white-space:pre;overflow-x:auto;line-height:normal;font-family:Menlo,'DejaVu Sans Mono',consolas,'Courier New',monospace\">Query call with protocol GRPC search failed with message Received http2 header with status: <span style=\"color: #008080; text-decoration-color: #008080; font-weight: bold\">502</span>.\n",
       "</pre>\n"
      ],
      "text/plain": [
       "Query call with protocol GRPC search failed with message Received http2 header with status: \u001b[1;36m502\u001b[0m.\n"
      ]
     },
     "metadata": {},
     "output_type": "display_data"
    },
    {
     "name": "stderr",
     "output_type": "stream",
     "text": [
      "Queries:  39%|###9      | 39/100 [00:38<00:57,  1.06it/s]\n"
     ]
    },
    {
     "data": {
      "text/html": [
       "<pre style=\"white-space:pre;overflow-x:auto;line-height:normal;font-family:Menlo,'DejaVu Sans Mono',consolas,'Courier New',monospace\">Query call with protocol GRPC search failed with message Received http2 header with status: <span style=\"color: #008080; text-decoration-color: #008080; font-weight: bold\">502</span>.\n",
       "</pre>\n"
      ],
      "text/plain": [
       "Query call with protocol GRPC search failed with message Received http2 header with status: \u001b[1;36m502\u001b[0m.\n"
      ]
     },
     "metadata": {},
     "output_type": "display_data"
    },
    {
     "name": "stderr",
     "output_type": "stream",
     "text": [
      "Queries:  40%|####      | 40/100 [00:39<01:00,  1.01s/it]\n"
     ]
    },
    {
     "data": {
      "text/html": [
       "<pre style=\"white-space:pre;overflow-x:auto;line-height:normal;font-family:Menlo,'DejaVu Sans Mono',consolas,'Courier New',monospace\">Query call with protocol GRPC search failed with message Received http2 header with status: <span style=\"color: #008080; text-decoration-color: #008080; font-weight: bold\">502</span>.\n",
       "</pre>\n"
      ],
      "text/plain": [
       "Query call with protocol GRPC search failed with message Received http2 header with status: \u001b[1;36m502\u001b[0m.\n"
      ]
     },
     "metadata": {},
     "output_type": "display_data"
    },
    {
     "name": "stderr",
     "output_type": "stream",
     "text": [
      "Queries:  41%|####1     | 41/100 [00:40<01:01,  1.05s/it]\n"
     ]
    },
    {
     "data": {
      "text/html": [
       "<pre style=\"white-space:pre;overflow-x:auto;line-height:normal;font-family:Menlo,'DejaVu Sans Mono',consolas,'Courier New',monospace\">Query call with protocol GRPC search failed with message Received http2 header with status: <span style=\"color: #008080; text-decoration-color: #008080; font-weight: bold\">502</span>.\n",
       "</pre>\n"
      ],
      "text/plain": [
       "Query call with protocol GRPC search failed with message Received http2 header with status: \u001b[1;36m502\u001b[0m.\n"
      ]
     },
     "metadata": {},
     "output_type": "display_data"
    },
    {
     "name": "stderr",
     "output_type": "stream",
     "text": [
      "Queries:  42%|####2     | 42/100 [00:42<01:02,  1.08s/it]\n"
     ]
    },
    {
     "data": {
      "text/html": [
       "<pre style=\"white-space:pre;overflow-x:auto;line-height:normal;font-family:Menlo,'DejaVu Sans Mono',consolas,'Courier New',monospace\">Query call with protocol GRPC search failed with message Received http2 header with status: <span style=\"color: #008080; text-decoration-color: #008080; font-weight: bold\">502</span>.\n",
       "</pre>\n"
      ],
      "text/plain": [
       "Query call with protocol GRPC search failed with message Received http2 header with status: \u001b[1;36m502\u001b[0m.\n"
      ]
     },
     "metadata": {},
     "output_type": "display_data"
    },
    {
     "name": "stderr",
     "output_type": "stream",
     "text": [
      "Queries:  43%|####3     | 43/100 [00:43<01:02,  1.10s/it]\n"
     ]
    },
    {
     "data": {
      "text/html": [
       "<pre style=\"white-space:pre;overflow-x:auto;line-height:normal;font-family:Menlo,'DejaVu Sans Mono',consolas,'Courier New',monospace\">Query call with protocol GRPC search failed with message Received http2 header with status: <span style=\"color: #008080; text-decoration-color: #008080; font-weight: bold\">502</span>.\n",
       "</pre>\n"
      ],
      "text/plain": [
       "Query call with protocol GRPC search failed with message Received http2 header with status: \u001b[1;36m502\u001b[0m.\n"
      ]
     },
     "metadata": {},
     "output_type": "display_data"
    },
    {
     "name": "stderr",
     "output_type": "stream",
     "text": [
      "Queries:  44%|####4     | 44/100 [00:44<01:02,  1.12s/it]\n"
     ]
    },
    {
     "data": {
      "text/html": [
       "<pre style=\"white-space:pre;overflow-x:auto;line-height:normal;font-family:Menlo,'DejaVu Sans Mono',consolas,'Courier New',monospace\">Query call with protocol GRPC search failed with message Received http2 header with status: <span style=\"color: #008080; text-decoration-color: #008080; font-weight: bold\">502</span>.\n",
       "</pre>\n"
      ],
      "text/plain": [
       "Query call with protocol GRPC search failed with message Received http2 header with status: \u001b[1;36m502\u001b[0m.\n"
      ]
     },
     "metadata": {},
     "output_type": "display_data"
    },
    {
     "name": "stderr",
     "output_type": "stream",
     "text": [
      "Queries:  45%|####5     | 45/100 [00:44<00:44,  1.23it/s]\n"
     ]
    },
    {
     "data": {
      "text/html": [
       "<pre style=\"white-space:pre;overflow-x:auto;line-height:normal;font-family:Menlo,'DejaVu Sans Mono',consolas,'Courier New',monospace\">Query call with protocol GRPC search failed with message Received http2 header with status: <span style=\"color: #008080; text-decoration-color: #008080; font-weight: bold\">502</span>.\n",
       "</pre>\n"
      ],
      "text/plain": [
       "Query call with protocol GRPC search failed with message Received http2 header with status: \u001b[1;36m502\u001b[0m.\n"
      ]
     },
     "metadata": {},
     "output_type": "display_data"
    },
    {
     "name": "stderr",
     "output_type": "stream",
     "text": [
      "Queries:  46%|####6     | 46/100 [00:45<00:48,  1.11it/s]\n"
     ]
    },
    {
     "data": {
      "text/html": [
       "<pre style=\"white-space:pre;overflow-x:auto;line-height:normal;font-family:Menlo,'DejaVu Sans Mono',consolas,'Courier New',monospace\">Query call with protocol GRPC search failed with message Received http2 header with status: <span style=\"color: #008080; text-decoration-color: #008080; font-weight: bold\">502</span>.\n",
       "</pre>\n"
      ],
      "text/plain": [
       "Query call with protocol GRPC search failed with message Received http2 header with status: \u001b[1;36m502\u001b[0m.\n"
      ]
     },
     "metadata": {},
     "output_type": "display_data"
    },
    {
     "name": "stderr",
     "output_type": "stream",
     "text": [
      "Queries:  47%|####6     | 47/100 [00:46<00:51,  1.02it/s]\n"
     ]
    },
    {
     "data": {
      "text/html": [
       "<pre style=\"white-space:pre;overflow-x:auto;line-height:normal;font-family:Menlo,'DejaVu Sans Mono',consolas,'Courier New',monospace\">Query call with protocol GRPC search failed with message Received http2 header with status: <span style=\"color: #008080; text-decoration-color: #008080; font-weight: bold\">502</span>.\n",
       "</pre>\n"
      ],
      "text/plain": [
       "Query call with protocol GRPC search failed with message Received http2 header with status: \u001b[1;36m502\u001b[0m.\n"
      ]
     },
     "metadata": {},
     "output_type": "display_data"
    },
    {
     "name": "stderr",
     "output_type": "stream",
     "text": [
      "Queries:  48%|####8     | 48/100 [00:47<00:53,  1.03s/it]\n"
     ]
    },
    {
     "data": {
      "text/html": [
       "<pre style=\"white-space:pre;overflow-x:auto;line-height:normal;font-family:Menlo,'DejaVu Sans Mono',consolas,'Courier New',monospace\">Query call with protocol GRPC search failed with message Received http2 header with status: <span style=\"color: #008080; text-decoration-color: #008080; font-weight: bold\">502</span>.\n",
       "</pre>\n"
      ],
      "text/plain": [
       "Query call with protocol GRPC search failed with message Received http2 header with status: \u001b[1;36m502\u001b[0m.\n"
      ]
     },
     "metadata": {},
     "output_type": "display_data"
    },
    {
     "name": "stderr",
     "output_type": "stream",
     "text": [
      "Queries:  49%|####9     | 49/100 [00:49<00:54,  1.07s/it]\n"
     ]
    },
    {
     "data": {
      "text/html": [
       "<pre style=\"white-space:pre;overflow-x:auto;line-height:normal;font-family:Menlo,'DejaVu Sans Mono',consolas,'Courier New',monospace\">Query call with protocol GRPC search failed with message Received http2 header with status: <span style=\"color: #008080; text-decoration-color: #008080; font-weight: bold\">502</span>.\n",
       "</pre>\n"
      ],
      "text/plain": [
       "Query call with protocol GRPC search failed with message Received http2 header with status: \u001b[1;36m502\u001b[0m.\n"
      ]
     },
     "metadata": {},
     "output_type": "display_data"
    },
    {
     "name": "stderr",
     "output_type": "stream",
     "text": [
      "Queries:  50%|#####     | 50/100 [00:50<00:54,  1.09s/it]\n"
     ]
    },
    {
     "data": {
      "text/html": [
       "<pre style=\"white-space:pre;overflow-x:auto;line-height:normal;font-family:Menlo,'DejaVu Sans Mono',consolas,'Courier New',monospace\">Query call with protocol GRPC search failed with message Received http2 header with status: <span style=\"color: #008080; text-decoration-color: #008080; font-weight: bold\">502</span>.\n",
       "</pre>\n"
      ],
      "text/plain": [
       "Query call with protocol GRPC search failed with message Received http2 header with status: \u001b[1;36m502\u001b[0m.\n"
      ]
     },
     "metadata": {},
     "output_type": "display_data"
    },
    {
     "name": "stderr",
     "output_type": "stream",
     "text": [
      "Queries:  51%|#####1    | 51/100 [00:51<00:54,  1.11s/it]\n"
     ]
    },
    {
     "data": {
      "text/html": [
       "<pre style=\"white-space:pre;overflow-x:auto;line-height:normal;font-family:Menlo,'DejaVu Sans Mono',consolas,'Courier New',monospace\">Query call with protocol GRPC search failed with message Received http2 header with status: <span style=\"color: #008080; text-decoration-color: #008080; font-weight: bold\">502</span>.\n",
       "</pre>\n"
      ],
      "text/plain": [
       "Query call with protocol GRPC search failed with message Received http2 header with status: \u001b[1;36m502\u001b[0m.\n"
      ]
     },
     "metadata": {},
     "output_type": "display_data"
    },
    {
     "name": "stderr",
     "output_type": "stream",
     "text": [
      "Queries:  52%|#####2    | 52/100 [00:51<00:38,  1.24it/s]\n"
     ]
    },
    {
     "data": {
      "text/html": [
       "<pre style=\"white-space:pre;overflow-x:auto;line-height:normal;font-family:Menlo,'DejaVu Sans Mono',consolas,'Courier New',monospace\">Query call with protocol GRPC search failed with message Received http2 header with status: <span style=\"color: #008080; text-decoration-color: #008080; font-weight: bold\">502</span>.\n",
       "</pre>\n"
      ],
      "text/plain": [
       "Query call with protocol GRPC search failed with message Received http2 header with status: \u001b[1;36m502\u001b[0m.\n"
      ]
     },
     "metadata": {},
     "output_type": "display_data"
    },
    {
     "name": "stderr",
     "output_type": "stream",
     "text": [
      "Queries:  53%|#####3    | 53/100 [00:52<00:42,  1.11it/s]\n"
     ]
    },
    {
     "data": {
      "text/html": [
       "<pre style=\"white-space:pre;overflow-x:auto;line-height:normal;font-family:Menlo,'DejaVu Sans Mono',consolas,'Courier New',monospace\">Query call with protocol GRPC search failed with message Received http2 header with status: <span style=\"color: #008080; text-decoration-color: #008080; font-weight: bold\">502</span>.\n",
       "</pre>\n"
      ],
      "text/plain": [
       "Query call with protocol GRPC search failed with message Received http2 header with status: \u001b[1;36m502\u001b[0m.\n"
      ]
     },
     "metadata": {},
     "output_type": "display_data"
    },
    {
     "name": "stderr",
     "output_type": "stream",
     "text": [
      "Queries:  54%|#####4    | 54/100 [00:53<00:44,  1.03it/s]\n"
     ]
    },
    {
     "data": {
      "text/html": [
       "<pre style=\"white-space:pre;overflow-x:auto;line-height:normal;font-family:Menlo,'DejaVu Sans Mono',consolas,'Courier New',monospace\">Query call with protocol GRPC search failed with message Received http2 header with status: <span style=\"color: #008080; text-decoration-color: #008080; font-weight: bold\">502</span>.\n",
       "</pre>\n"
      ],
      "text/plain": [
       "Query call with protocol GRPC search failed with message Received http2 header with status: \u001b[1;36m502\u001b[0m.\n"
      ]
     },
     "metadata": {},
     "output_type": "display_data"
    },
    {
     "name": "stderr",
     "output_type": "stream",
     "text": [
      "Queries:  55%|#####5    | 55/100 [00:54<00:46,  1.03s/it]\n"
     ]
    },
    {
     "data": {
      "text/html": [
       "<pre style=\"white-space:pre;overflow-x:auto;line-height:normal;font-family:Menlo,'DejaVu Sans Mono',consolas,'Courier New',monospace\">Query call with protocol GRPC search failed with message Received http2 header with status: <span style=\"color: #008080; text-decoration-color: #008080; font-weight: bold\">502</span>.\n",
       "</pre>\n"
      ],
      "text/plain": [
       "Query call with protocol GRPC search failed with message Received http2 header with status: \u001b[1;36m502\u001b[0m.\n"
      ]
     },
     "metadata": {},
     "output_type": "display_data"
    },
    {
     "name": "stderr",
     "output_type": "stream",
     "text": [
      "Queries:  56%|#####6    | 56/100 [00:56<00:46,  1.07s/it]\n"
     ]
    },
    {
     "data": {
      "text/html": [
       "<pre style=\"white-space:pre;overflow-x:auto;line-height:normal;font-family:Menlo,'DejaVu Sans Mono',consolas,'Courier New',monospace\">Query call with protocol GRPC search failed with message Received http2 header with status: <span style=\"color: #008080; text-decoration-color: #008080; font-weight: bold\">502</span>.\n",
       "</pre>\n"
      ],
      "text/plain": [
       "Query call with protocol GRPC search failed with message Received http2 header with status: \u001b[1;36m502\u001b[0m.\n"
      ]
     },
     "metadata": {},
     "output_type": "display_data"
    },
    {
     "name": "stderr",
     "output_type": "stream",
     "text": [
      "Queries:  57%|#####6    | 57/100 [00:57<00:46,  1.09s/it]\n"
     ]
    },
    {
     "data": {
      "text/html": [
       "<pre style=\"white-space:pre;overflow-x:auto;line-height:normal;font-family:Menlo,'DejaVu Sans Mono',consolas,'Courier New',monospace\">Query call with protocol GRPC search failed with message Received http2 header with status: <span style=\"color: #008080; text-decoration-color: #008080; font-weight: bold\">502</span>.\n",
       "</pre>\n"
      ],
      "text/plain": [
       "Query call with protocol GRPC search failed with message Received http2 header with status: \u001b[1;36m502\u001b[0m.\n"
      ]
     },
     "metadata": {},
     "output_type": "display_data"
    },
    {
     "name": "stderr",
     "output_type": "stream",
     "text": [
      "Queries:  58%|#####8    | 58/100 [00:58<00:46,  1.11s/it]\n"
     ]
    },
    {
     "data": {
      "text/html": [
       "<pre style=\"white-space:pre;overflow-x:auto;line-height:normal;font-family:Menlo,'DejaVu Sans Mono',consolas,'Courier New',monospace\">Query call with protocol GRPC search failed with message Received http2 header with status: <span style=\"color: #008080; text-decoration-color: #008080; font-weight: bold\">502</span>.\n",
       "</pre>\n"
      ],
      "text/plain": [
       "Query call with protocol GRPC search failed with message Received http2 header with status: \u001b[1;36m502\u001b[0m.\n"
      ]
     },
     "metadata": {},
     "output_type": "display_data"
    },
    {
     "name": "stderr",
     "output_type": "stream",
     "text": [
      "Queries:  59%|#####8    | 59/100 [00:58<00:33,  1.24it/s]\n"
     ]
    },
    {
     "data": {
      "text/html": [
       "<pre style=\"white-space:pre;overflow-x:auto;line-height:normal;font-family:Menlo,'DejaVu Sans Mono',consolas,'Courier New',monospace\">Query call with protocol GRPC search failed with message Received http2 header with status: <span style=\"color: #008080; text-decoration-color: #008080; font-weight: bold\">502</span>.\n",
       "</pre>\n"
      ],
      "text/plain": [
       "Query call with protocol GRPC search failed with message Received http2 header with status: \u001b[1;36m502\u001b[0m.\n"
      ]
     },
     "metadata": {},
     "output_type": "display_data"
    },
    {
     "name": "stderr",
     "output_type": "stream",
     "text": [
      "Queries:  60%|######    | 60/100 [00:59<00:35,  1.11it/s]\n"
     ]
    },
    {
     "data": {
      "text/html": [
       "<pre style=\"white-space:pre;overflow-x:auto;line-height:normal;font-family:Menlo,'DejaVu Sans Mono',consolas,'Courier New',monospace\">Query call with protocol GRPC search failed with message Received http2 header with status: <span style=\"color: #008080; text-decoration-color: #008080; font-weight: bold\">502</span>.\n",
       "</pre>\n"
      ],
      "text/plain": [
       "Query call with protocol GRPC search failed with message Received http2 header with status: \u001b[1;36m502\u001b[0m.\n"
      ]
     },
     "metadata": {},
     "output_type": "display_data"
    },
    {
     "name": "stderr",
     "output_type": "stream",
     "text": [
      "Queries:  61%|######1   | 61/100 [01:00<00:38,  1.03it/s]\n"
     ]
    },
    {
     "data": {
      "text/html": [
       "<pre style=\"white-space:pre;overflow-x:auto;line-height:normal;font-family:Menlo,'DejaVu Sans Mono',consolas,'Courier New',monospace\">Query call with protocol GRPC search failed with message Received http2 header with status: <span style=\"color: #008080; text-decoration-color: #008080; font-weight: bold\">502</span>.\n",
       "</pre>\n"
      ],
      "text/plain": [
       "Query call with protocol GRPC search failed with message Received http2 header with status: \u001b[1;36m502\u001b[0m.\n"
      ]
     },
     "metadata": {},
     "output_type": "display_data"
    },
    {
     "name": "stderr",
     "output_type": "stream",
     "text": [
      "Queries:  62%|######2   | 62/100 [01:01<00:39,  1.03s/it]\n"
     ]
    },
    {
     "data": {
      "text/html": [
       "<pre style=\"white-space:pre;overflow-x:auto;line-height:normal;font-family:Menlo,'DejaVu Sans Mono',consolas,'Courier New',monospace\">Query call with protocol GRPC search failed with message Received http2 header with status: <span style=\"color: #008080; text-decoration-color: #008080; font-weight: bold\">502</span>.\n",
       "</pre>\n"
      ],
      "text/plain": [
       "Query call with protocol GRPC search failed with message Received http2 header with status: \u001b[1;36m502\u001b[0m.\n"
      ]
     },
     "metadata": {},
     "output_type": "display_data"
    },
    {
     "name": "stderr",
     "output_type": "stream",
     "text": [
      "Queries:  63%|######3   | 63/100 [01:03<00:39,  1.07s/it]\n"
     ]
    },
    {
     "data": {
      "text/html": [
       "<pre style=\"white-space:pre;overflow-x:auto;line-height:normal;font-family:Menlo,'DejaVu Sans Mono',consolas,'Courier New',monospace\">Query call with protocol GRPC search failed with message Received http2 header with status: <span style=\"color: #008080; text-decoration-color: #008080; font-weight: bold\">502</span>.\n",
       "</pre>\n"
      ],
      "text/plain": [
       "Query call with protocol GRPC search failed with message Received http2 header with status: \u001b[1;36m502\u001b[0m.\n"
      ]
     },
     "metadata": {},
     "output_type": "display_data"
    },
    {
     "name": "stderr",
     "output_type": "stream",
     "text": [
      "Queries:  64%|######4   | 64/100 [01:04<00:39,  1.09s/it]\n"
     ]
    },
    {
     "data": {
      "text/html": [
       "<pre style=\"white-space:pre;overflow-x:auto;line-height:normal;font-family:Menlo,'DejaVu Sans Mono',consolas,'Courier New',monospace\">Query call with protocol GRPC search failed with message Received http2 header with status: <span style=\"color: #008080; text-decoration-color: #008080; font-weight: bold\">502</span>.\n",
       "</pre>\n"
      ],
      "text/plain": [
       "Query call with protocol GRPC search failed with message Received http2 header with status: \u001b[1;36m502\u001b[0m.\n"
      ]
     },
     "metadata": {},
     "output_type": "display_data"
    },
    {
     "name": "stderr",
     "output_type": "stream",
     "text": [
      "Queries:  65%|######5   | 65/100 [01:05<00:38,  1.11s/it]\n"
     ]
    },
    {
     "data": {
      "text/html": [
       "<pre style=\"white-space:pre;overflow-x:auto;line-height:normal;font-family:Menlo,'DejaVu Sans Mono',consolas,'Courier New',monospace\">Query call with protocol GRPC search failed with message Received http2 header with status: <span style=\"color: #008080; text-decoration-color: #008080; font-weight: bold\">502</span>.\n",
       "</pre>\n"
      ],
      "text/plain": [
       "Query call with protocol GRPC search failed with message Received http2 header with status: \u001b[1;36m502\u001b[0m.\n"
      ]
     },
     "metadata": {},
     "output_type": "display_data"
    },
    {
     "name": "stderr",
     "output_type": "stream",
     "text": [
      "Queries:  66%|######6   | 66/100 [01:05<00:27,  1.24it/s]\n"
     ]
    },
    {
     "data": {
      "text/html": [
       "<pre style=\"white-space:pre;overflow-x:auto;line-height:normal;font-family:Menlo,'DejaVu Sans Mono',consolas,'Courier New',monospace\">Query call with protocol GRPC search failed with message Received http2 header with status: <span style=\"color: #008080; text-decoration-color: #008080; font-weight: bold\">502</span>.\n",
       "</pre>\n"
      ],
      "text/plain": [
       "Query call with protocol GRPC search failed with message Received http2 header with status: \u001b[1;36m502\u001b[0m.\n"
      ]
     },
     "metadata": {},
     "output_type": "display_data"
    },
    {
     "name": "stderr",
     "output_type": "stream",
     "text": [
      "Queries:  67%|######7   | 67/100 [01:06<00:29,  1.11it/s]\n"
     ]
    },
    {
     "data": {
      "text/html": [
       "<pre style=\"white-space:pre;overflow-x:auto;line-height:normal;font-family:Menlo,'DejaVu Sans Mono',consolas,'Courier New',monospace\">Query call with protocol GRPC search failed with message Received http2 header with status: <span style=\"color: #008080; text-decoration-color: #008080; font-weight: bold\">502</span>.\n",
       "</pre>\n"
      ],
      "text/plain": [
       "Query call with protocol GRPC search failed with message Received http2 header with status: \u001b[1;36m502\u001b[0m.\n"
      ]
     },
     "metadata": {},
     "output_type": "display_data"
    },
    {
     "name": "stderr",
     "output_type": "stream",
     "text": [
      "Queries:  68%|######8   | 68/100 [01:07<00:31,  1.03it/s]\n"
     ]
    },
    {
     "data": {
      "text/html": [
       "<pre style=\"white-space:pre;overflow-x:auto;line-height:normal;font-family:Menlo,'DejaVu Sans Mono',consolas,'Courier New',monospace\">Query call with protocol GRPC search failed with message Received http2 header with status: <span style=\"color: #008080; text-decoration-color: #008080; font-weight: bold\">502</span>.\n",
       "</pre>\n"
      ],
      "text/plain": [
       "Query call with protocol GRPC search failed with message Received http2 header with status: \u001b[1;36m502\u001b[0m.\n"
      ]
     },
     "metadata": {},
     "output_type": "display_data"
    },
    {
     "name": "stderr",
     "output_type": "stream",
     "text": [
      "Queries:  69%|######9   | 69/100 [01:08<00:31,  1.03s/it]\n"
     ]
    },
    {
     "data": {
      "text/html": [
       "<pre style=\"white-space:pre;overflow-x:auto;line-height:normal;font-family:Menlo,'DejaVu Sans Mono',consolas,'Courier New',monospace\">Query call with protocol GRPC search failed with message Received http2 header with status: <span style=\"color: #008080; text-decoration-color: #008080; font-weight: bold\">502</span>.\n",
       "</pre>\n"
      ],
      "text/plain": [
       "Query call with protocol GRPC search failed with message Received http2 header with status: \u001b[1;36m502\u001b[0m.\n"
      ]
     },
     "metadata": {},
     "output_type": "display_data"
    },
    {
     "name": "stderr",
     "output_type": "stream",
     "text": [
      "Queries:  70%|#######   | 70/100 [01:10<00:31,  1.07s/it]\n"
     ]
    },
    {
     "data": {
      "text/html": [
       "<pre style=\"white-space:pre;overflow-x:auto;line-height:normal;font-family:Menlo,'DejaVu Sans Mono',consolas,'Courier New',monospace\">Query call with protocol GRPC search failed with message Received http2 header with status: <span style=\"color: #008080; text-decoration-color: #008080; font-weight: bold\">502</span>.\n",
       "</pre>\n"
      ],
      "text/plain": [
       "Query call with protocol GRPC search failed with message Received http2 header with status: \u001b[1;36m502\u001b[0m.\n"
      ]
     },
     "metadata": {},
     "output_type": "display_data"
    },
    {
     "name": "stderr",
     "output_type": "stream",
     "text": [
      "Queries:  71%|#######1  | 71/100 [01:11<00:31,  1.09s/it]\n"
     ]
    },
    {
     "data": {
      "text/html": [
       "<pre style=\"white-space:pre;overflow-x:auto;line-height:normal;font-family:Menlo,'DejaVu Sans Mono',consolas,'Courier New',monospace\">Query call with protocol GRPC search failed with message Received http2 header with status: <span style=\"color: #008080; text-decoration-color: #008080; font-weight: bold\">502</span>.\n",
       "</pre>\n"
      ],
      "text/plain": [
       "Query call with protocol GRPC search failed with message Received http2 header with status: \u001b[1;36m502\u001b[0m.\n"
      ]
     },
     "metadata": {},
     "output_type": "display_data"
    },
    {
     "name": "stderr",
     "output_type": "stream",
     "text": [
      "Queries:  72%|#######2  | 72/100 [01:12<00:31,  1.11s/it]\n"
     ]
    },
    {
     "data": {
      "text/html": [
       "<pre style=\"white-space:pre;overflow-x:auto;line-height:normal;font-family:Menlo,'DejaVu Sans Mono',consolas,'Courier New',monospace\">Query call with protocol GRPC search failed with message Received http2 header with status: <span style=\"color: #008080; text-decoration-color: #008080; font-weight: bold\">502</span>.\n",
       "</pre>\n"
      ],
      "text/plain": [
       "Query call with protocol GRPC search failed with message Received http2 header with status: \u001b[1;36m502\u001b[0m.\n"
      ]
     },
     "metadata": {},
     "output_type": "display_data"
    },
    {
     "name": "stderr",
     "output_type": "stream",
     "text": [
      "Queries:  73%|#######3  | 73/100 [01:12<00:21,  1.24it/s]\n"
     ]
    },
    {
     "data": {
      "text/html": [
       "<pre style=\"white-space:pre;overflow-x:auto;line-height:normal;font-family:Menlo,'DejaVu Sans Mono',consolas,'Courier New',monospace\">Query call with protocol GRPC search failed with message Received http2 header with status: <span style=\"color: #008080; text-decoration-color: #008080; font-weight: bold\">502</span>.\n",
       "</pre>\n"
      ],
      "text/plain": [
       "Query call with protocol GRPC search failed with message Received http2 header with status: \u001b[1;36m502\u001b[0m.\n"
      ]
     },
     "metadata": {},
     "output_type": "display_data"
    },
    {
     "name": "stderr",
     "output_type": "stream",
     "text": [
      "Queries:  74%|#######4  | 74/100 [01:13<00:23,  1.11it/s]\n"
     ]
    },
    {
     "data": {
      "text/html": [
       "<pre style=\"white-space:pre;overflow-x:auto;line-height:normal;font-family:Menlo,'DejaVu Sans Mono',consolas,'Courier New',monospace\">Query call with protocol GRPC search failed with message Received http2 header with status: <span style=\"color: #008080; text-decoration-color: #008080; font-weight: bold\">502</span>.\n",
       "</pre>\n"
      ],
      "text/plain": [
       "Query call with protocol GRPC search failed with message Received http2 header with status: \u001b[1;36m502\u001b[0m.\n"
      ]
     },
     "metadata": {},
     "output_type": "display_data"
    },
    {
     "name": "stderr",
     "output_type": "stream",
     "text": [
      "Queries:  75%|#######5  | 75/100 [01:14<00:24,  1.03it/s]\n"
     ]
    },
    {
     "data": {
      "text/html": [
       "<pre style=\"white-space:pre;overflow-x:auto;line-height:normal;font-family:Menlo,'DejaVu Sans Mono',consolas,'Courier New',monospace\">Query call with protocol GRPC search failed with message Received http2 header with status: <span style=\"color: #008080; text-decoration-color: #008080; font-weight: bold\">502</span>.\n",
       "</pre>\n"
      ],
      "text/plain": [
       "Query call with protocol GRPC search failed with message Received http2 header with status: \u001b[1;36m502\u001b[0m.\n"
      ]
     },
     "metadata": {},
     "output_type": "display_data"
    },
    {
     "name": "stderr",
     "output_type": "stream",
     "text": [
      "Queries:  76%|#######6  | 76/100 [01:15<00:24,  1.03s/it]\n"
     ]
    },
    {
     "data": {
      "text/html": [
       "<pre style=\"white-space:pre;overflow-x:auto;line-height:normal;font-family:Menlo,'DejaVu Sans Mono',consolas,'Courier New',monospace\">Query call with protocol GRPC search failed with message Received http2 header with status: <span style=\"color: #008080; text-decoration-color: #008080; font-weight: bold\">502</span>.\n",
       "</pre>\n"
      ],
      "text/plain": [
       "Query call with protocol GRPC search failed with message Received http2 header with status: \u001b[1;36m502\u001b[0m.\n"
      ]
     },
     "metadata": {},
     "output_type": "display_data"
    },
    {
     "name": "stderr",
     "output_type": "stream",
     "text": [
      "Queries:  77%|#######7  | 77/100 [01:16<00:24,  1.07s/it]\n"
     ]
    },
    {
     "data": {
      "text/html": [
       "<pre style=\"white-space:pre;overflow-x:auto;line-height:normal;font-family:Menlo,'DejaVu Sans Mono',consolas,'Courier New',monospace\">Query call with protocol GRPC search failed with message Received http2 header with status: <span style=\"color: #008080; text-decoration-color: #008080; font-weight: bold\">502</span>.\n",
       "</pre>\n"
      ],
      "text/plain": [
       "Query call with protocol GRPC search failed with message Received http2 header with status: \u001b[1;36m502\u001b[0m.\n"
      ]
     },
     "metadata": {},
     "output_type": "display_data"
    },
    {
     "name": "stderr",
     "output_type": "stream",
     "text": [
      "Queries:  78%|#######8  | 78/100 [01:18<00:24,  1.09s/it]\n"
     ]
    },
    {
     "data": {
      "text/html": [
       "<pre style=\"white-space:pre;overflow-x:auto;line-height:normal;font-family:Menlo,'DejaVu Sans Mono',consolas,'Courier New',monospace\">Query call with protocol GRPC search failed with message Received http2 header with status: <span style=\"color: #008080; text-decoration-color: #008080; font-weight: bold\">502</span>.\n",
       "</pre>\n"
      ],
      "text/plain": [
       "Query call with protocol GRPC search failed with message Received http2 header with status: \u001b[1;36m502\u001b[0m.\n"
      ]
     },
     "metadata": {},
     "output_type": "display_data"
    },
    {
     "name": "stderr",
     "output_type": "stream",
     "text": [
      "Queries:  79%|#######9  | 79/100 [01:19<00:23,  1.11s/it]\n"
     ]
    },
    {
     "data": {
      "text/html": [
       "<pre style=\"white-space:pre;overflow-x:auto;line-height:normal;font-family:Menlo,'DejaVu Sans Mono',consolas,'Courier New',monospace\">Query call with protocol GRPC search failed with message Received http2 header with status: <span style=\"color: #008080; text-decoration-color: #008080; font-weight: bold\">502</span>.\n",
       "</pre>\n"
      ],
      "text/plain": [
       "Query call with protocol GRPC search failed with message Received http2 header with status: \u001b[1;36m502\u001b[0m.\n"
      ]
     },
     "metadata": {},
     "output_type": "display_data"
    },
    {
     "name": "stderr",
     "output_type": "stream",
     "text": [
      "Queries:  80%|########  | 80/100 [01:20<00:22,  1.12s/it]\n"
     ]
    },
    {
     "data": {
      "text/html": [
       "<pre style=\"white-space:pre;overflow-x:auto;line-height:normal;font-family:Menlo,'DejaVu Sans Mono',consolas,'Courier New',monospace\">Query call with protocol GRPC search failed with message Received http2 header with status: <span style=\"color: #008080; text-decoration-color: #008080; font-weight: bold\">502</span>.\n",
       "</pre>\n"
      ],
      "text/plain": [
       "Query call with protocol GRPC search failed with message Received http2 header with status: \u001b[1;36m502\u001b[0m.\n"
      ]
     },
     "metadata": {},
     "output_type": "display_data"
    },
    {
     "name": "stderr",
     "output_type": "stream",
     "text": [
      "Queries:  81%|########1 | 81/100 [01:20<00:15,  1.22it/s]\n"
     ]
    },
    {
     "data": {
      "text/html": [
       "<pre style=\"white-space:pre;overflow-x:auto;line-height:normal;font-family:Menlo,'DejaVu Sans Mono',consolas,'Courier New',monospace\">Query call with protocol GRPC search failed with message Received http2 header with status: <span style=\"color: #008080; text-decoration-color: #008080; font-weight: bold\">502</span>.\n",
       "</pre>\n"
      ],
      "text/plain": [
       "Query call with protocol GRPC search failed with message Received http2 header with status: \u001b[1;36m502\u001b[0m.\n"
      ]
     },
     "metadata": {},
     "output_type": "display_data"
    },
    {
     "name": "stderr",
     "output_type": "stream",
     "text": [
      "Queries:  82%|########2 | 82/100 [01:21<00:16,  1.10it/s]\n"
     ]
    },
    {
     "data": {
      "text/html": [
       "<pre style=\"white-space:pre;overflow-x:auto;line-height:normal;font-family:Menlo,'DejaVu Sans Mono',consolas,'Courier New',monospace\">Query call with protocol GRPC search failed with message Received http2 header with status: <span style=\"color: #008080; text-decoration-color: #008080; font-weight: bold\">502</span>.\n",
       "</pre>\n"
      ],
      "text/plain": [
       "Query call with protocol GRPC search failed with message Received http2 header with status: \u001b[1;36m502\u001b[0m.\n"
      ]
     },
     "metadata": {},
     "output_type": "display_data"
    },
    {
     "name": "stderr",
     "output_type": "stream",
     "text": [
      "Queries:  83%|########2 | 83/100 [01:22<00:16,  1.02it/s]\n"
     ]
    },
    {
     "data": {
      "text/html": [
       "<pre style=\"white-space:pre;overflow-x:auto;line-height:normal;font-family:Menlo,'DejaVu Sans Mono',consolas,'Courier New',monospace\">Query call with protocol GRPC search failed with message Received http2 header with status: <span style=\"color: #008080; text-decoration-color: #008080; font-weight: bold\">502</span>.\n",
       "</pre>\n"
      ],
      "text/plain": [
       "Query call with protocol GRPC search failed with message Received http2 header with status: \u001b[1;36m502\u001b[0m.\n"
      ]
     },
     "metadata": {},
     "output_type": "display_data"
    },
    {
     "name": "stderr",
     "output_type": "stream",
     "text": [
      "Queries:  84%|########4 | 84/100 [01:23<00:16,  1.03s/it]\n"
     ]
    },
    {
     "data": {
      "text/html": [
       "<pre style=\"white-space:pre;overflow-x:auto;line-height:normal;font-family:Menlo,'DejaVu Sans Mono',consolas,'Courier New',monospace\">Query call with protocol GRPC search failed with message Received http2 header with status: <span style=\"color: #008080; text-decoration-color: #008080; font-weight: bold\">502</span>.\n",
       "</pre>\n"
      ],
      "text/plain": [
       "Query call with protocol GRPC search failed with message Received http2 header with status: \u001b[1;36m502\u001b[0m.\n"
      ]
     },
     "metadata": {},
     "output_type": "display_data"
    },
    {
     "name": "stderr",
     "output_type": "stream",
     "text": [
      "Queries:  85%|########5 | 85/100 [01:25<00:16,  1.07s/it]\n"
     ]
    },
    {
     "data": {
      "text/html": [
       "<pre style=\"white-space:pre;overflow-x:auto;line-height:normal;font-family:Menlo,'DejaVu Sans Mono',consolas,'Courier New',monospace\">Query call with protocol GRPC search failed with message Received http2 header with status: <span style=\"color: #008080; text-decoration-color: #008080; font-weight: bold\">502</span>.\n",
       "</pre>\n"
      ],
      "text/plain": [
       "Query call with protocol GRPC search failed with message Received http2 header with status: \u001b[1;36m502\u001b[0m.\n"
      ]
     },
     "metadata": {},
     "output_type": "display_data"
    },
    {
     "name": "stderr",
     "output_type": "stream",
     "text": [
      "Queries:  86%|########6 | 86/100 [01:26<00:15,  1.09s/it]\n"
     ]
    },
    {
     "data": {
      "text/html": [
       "<pre style=\"white-space:pre;overflow-x:auto;line-height:normal;font-family:Menlo,'DejaVu Sans Mono',consolas,'Courier New',monospace\">Query call with protocol GRPC search failed with message Received http2 header with status: <span style=\"color: #008080; text-decoration-color: #008080; font-weight: bold\">502</span>.\n",
       "</pre>\n"
      ],
      "text/plain": [
       "Query call with protocol GRPC search failed with message Received http2 header with status: \u001b[1;36m502\u001b[0m.\n"
      ]
     },
     "metadata": {},
     "output_type": "display_data"
    },
    {
     "name": "stderr",
     "output_type": "stream",
     "text": [
      "Queries:  87%|########7 | 87/100 [01:27<00:14,  1.11s/it]\n"
     ]
    },
    {
     "data": {
      "text/html": [
       "<pre style=\"white-space:pre;overflow-x:auto;line-height:normal;font-family:Menlo,'DejaVu Sans Mono',consolas,'Courier New',monospace\">Query call with protocol GRPC search failed with message Received http2 header with status: <span style=\"color: #008080; text-decoration-color: #008080; font-weight: bold\">502</span>.\n",
       "</pre>\n"
      ],
      "text/plain": [
       "Query call with protocol GRPC search failed with message Received http2 header with status: \u001b[1;36m502\u001b[0m.\n"
      ]
     },
     "metadata": {},
     "output_type": "display_data"
    },
    {
     "name": "stderr",
     "output_type": "stream",
     "text": [
      "Queries:  88%|########8 | 88/100 [01:27<00:09,  1.24it/s]\n"
     ]
    },
    {
     "data": {
      "text/html": [
       "<pre style=\"white-space:pre;overflow-x:auto;line-height:normal;font-family:Menlo,'DejaVu Sans Mono',consolas,'Courier New',monospace\">Query call with protocol GRPC search failed with message Received http2 header with status: <span style=\"color: #008080; text-decoration-color: #008080; font-weight: bold\">502</span>.\n",
       "</pre>\n"
      ],
      "text/plain": [
       "Query call with protocol GRPC search failed with message Received http2 header with status: \u001b[1;36m502\u001b[0m.\n"
      ]
     },
     "metadata": {},
     "output_type": "display_data"
    },
    {
     "name": "stderr",
     "output_type": "stream",
     "text": [
      "Queries:  89%|########9 | 89/100 [01:28<00:09,  1.11it/s]\n"
     ]
    },
    {
     "data": {
      "text/html": [
       "<pre style=\"white-space:pre;overflow-x:auto;line-height:normal;font-family:Menlo,'DejaVu Sans Mono',consolas,'Courier New',monospace\">Query call with protocol GRPC search failed with message Received http2 header with status: <span style=\"color: #008080; text-decoration-color: #008080; font-weight: bold\">502</span>.\n",
       "</pre>\n"
      ],
      "text/plain": [
       "Query call with protocol GRPC search failed with message Received http2 header with status: \u001b[1;36m502\u001b[0m.\n"
      ]
     },
     "metadata": {},
     "output_type": "display_data"
    },
    {
     "name": "stderr",
     "output_type": "stream",
     "text": [
      "Queries:  90%|######### | 90/100 [01:29<00:09,  1.03it/s]\n"
     ]
    },
    {
     "data": {
      "text/html": [
       "<pre style=\"white-space:pre;overflow-x:auto;line-height:normal;font-family:Menlo,'DejaVu Sans Mono',consolas,'Courier New',monospace\">Query call with protocol GRPC search failed with message Received http2 header with status: <span style=\"color: #008080; text-decoration-color: #008080; font-weight: bold\">502</span>.\n",
       "</pre>\n"
      ],
      "text/plain": [
       "Query call with protocol GRPC search failed with message Received http2 header with status: \u001b[1;36m502\u001b[0m.\n"
      ]
     },
     "metadata": {},
     "output_type": "display_data"
    },
    {
     "name": "stderr",
     "output_type": "stream",
     "text": [
      "Queries:  91%|#########1| 91/100 [01:30<00:09,  1.03s/it]\n"
     ]
    },
    {
     "data": {
      "text/html": [
       "<pre style=\"white-space:pre;overflow-x:auto;line-height:normal;font-family:Menlo,'DejaVu Sans Mono',consolas,'Courier New',monospace\">Query call with protocol GRPC search failed with message Received http2 header with status: <span style=\"color: #008080; text-decoration-color: #008080; font-weight: bold\">502</span>.\n",
       "</pre>\n"
      ],
      "text/plain": [
       "Query call with protocol GRPC search failed with message Received http2 header with status: \u001b[1;36m502\u001b[0m.\n"
      ]
     },
     "metadata": {},
     "output_type": "display_data"
    },
    {
     "name": "stderr",
     "output_type": "stream",
     "text": [
      "Queries:  92%|#########2| 92/100 [01:32<00:08,  1.07s/it]\n"
     ]
    },
    {
     "data": {
      "text/html": [
       "<pre style=\"white-space:pre;overflow-x:auto;line-height:normal;font-family:Menlo,'DejaVu Sans Mono',consolas,'Courier New',monospace\">Query call with protocol GRPC search failed with message Received http2 header with status: <span style=\"color: #008080; text-decoration-color: #008080; font-weight: bold\">502</span>.\n",
       "</pre>\n"
      ],
      "text/plain": [
       "Query call with protocol GRPC search failed with message Received http2 header with status: \u001b[1;36m502\u001b[0m.\n"
      ]
     },
     "metadata": {},
     "output_type": "display_data"
    },
    {
     "name": "stderr",
     "output_type": "stream",
     "text": [
      "Queries:  93%|#########3| 93/100 [01:33<00:07,  1.09s/it]\n"
     ]
    },
    {
     "data": {
      "text/html": [
       "<pre style=\"white-space:pre;overflow-x:auto;line-height:normal;font-family:Menlo,'DejaVu Sans Mono',consolas,'Courier New',monospace\">Query call with protocol GRPC search failed with message Received http2 header with status: <span style=\"color: #008080; text-decoration-color: #008080; font-weight: bold\">502</span>.\n",
       "</pre>\n"
      ],
      "text/plain": [
       "Query call with protocol GRPC search failed with message Received http2 header with status: \u001b[1;36m502\u001b[0m.\n"
      ]
     },
     "metadata": {},
     "output_type": "display_data"
    },
    {
     "name": "stderr",
     "output_type": "stream",
     "text": [
      "Queries:  94%|#########3| 94/100 [01:34<00:06,  1.11s/it]\n"
     ]
    },
    {
     "data": {
      "text/html": [
       "<pre style=\"white-space:pre;overflow-x:auto;line-height:normal;font-family:Menlo,'DejaVu Sans Mono',consolas,'Courier New',monospace\">Query call with protocol GRPC search failed with message Received http2 header with status: <span style=\"color: #008080; text-decoration-color: #008080; font-weight: bold\">502</span>.\n",
       "</pre>\n"
      ],
      "text/plain": [
       "Query call with protocol GRPC search failed with message Received http2 header with status: \u001b[1;36m502\u001b[0m.\n"
      ]
     },
     "metadata": {},
     "output_type": "display_data"
    },
    {
     "name": "stderr",
     "output_type": "stream",
     "text": [
      "Queries:  95%|#########5| 95/100 [01:34<00:04,  1.24it/s]\n"
     ]
    },
    {
     "data": {
      "text/html": [
       "<pre style=\"white-space:pre;overflow-x:auto;line-height:normal;font-family:Menlo,'DejaVu Sans Mono',consolas,'Courier New',monospace\">Query call with protocol GRPC search failed with message Received http2 header with status: <span style=\"color: #008080; text-decoration-color: #008080; font-weight: bold\">502</span>.\n",
       "</pre>\n"
      ],
      "text/plain": [
       "Query call with protocol GRPC search failed with message Received http2 header with status: \u001b[1;36m502\u001b[0m.\n"
      ]
     },
     "metadata": {},
     "output_type": "display_data"
    },
    {
     "name": "stderr",
     "output_type": "stream",
     "text": [
      "Queries:  96%|#########6| 96/100 [01:35<00:03,  1.11it/s]\n"
     ]
    },
    {
     "data": {
      "text/html": [
       "<pre style=\"white-space:pre;overflow-x:auto;line-height:normal;font-family:Menlo,'DejaVu Sans Mono',consolas,'Courier New',monospace\">Query call with protocol GRPC search failed with message Received http2 header with status: <span style=\"color: #008080; text-decoration-color: #008080; font-weight: bold\">502</span>.\n",
       "</pre>\n"
      ],
      "text/plain": [
       "Query call with protocol GRPC search failed with message Received http2 header with status: \u001b[1;36m502\u001b[0m.\n"
      ]
     },
     "metadata": {},
     "output_type": "display_data"
    },
    {
     "name": "stderr",
     "output_type": "stream",
     "text": [
      "Queries:  97%|#########7| 97/100 [01:36<00:02,  1.03it/s]\n"
     ]
    },
    {
     "data": {
      "text/html": [
       "<pre style=\"white-space:pre;overflow-x:auto;line-height:normal;font-family:Menlo,'DejaVu Sans Mono',consolas,'Courier New',monospace\">Query call with protocol GRPC search failed with message Received http2 header with status: <span style=\"color: #008080; text-decoration-color: #008080; font-weight: bold\">502</span>.\n",
       "</pre>\n"
      ],
      "text/plain": [
       "Query call with protocol GRPC search failed with message Received http2 header with status: \u001b[1;36m502\u001b[0m.\n"
      ]
     },
     "metadata": {},
     "output_type": "display_data"
    },
    {
     "name": "stderr",
     "output_type": "stream",
     "text": [
      "Queries:  98%|#########8| 98/100 [01:37<00:02,  1.03s/it]\n"
     ]
    },
    {
     "data": {
      "text/html": [
       "<pre style=\"white-space:pre;overflow-x:auto;line-height:normal;font-family:Menlo,'DejaVu Sans Mono',consolas,'Courier New',monospace\">Query call with protocol GRPC search failed with message Received http2 header with status: <span style=\"color: #008080; text-decoration-color: #008080; font-weight: bold\">502</span>.\n",
       "</pre>\n"
      ],
      "text/plain": [
       "Query call with protocol GRPC search failed with message Received http2 header with status: \u001b[1;36m502\u001b[0m.\n"
      ]
     },
     "metadata": {},
     "output_type": "display_data"
    },
    {
     "name": "stderr",
     "output_type": "stream",
     "text": [
      "Queries:  99%|#########9| 99/100 [01:39<00:01,  1.07s/it]\n"
     ]
    },
    {
     "data": {
      "text/html": [
       "<pre style=\"white-space:pre;overflow-x:auto;line-height:normal;font-family:Menlo,'DejaVu Sans Mono',consolas,'Courier New',monospace\">Query call with protocol GRPC search failed with message Received http2 header with status: <span style=\"color: #008080; text-decoration-color: #008080; font-weight: bold\">502</span>.\n",
       "</pre>\n"
      ],
      "text/plain": [
       "Query call with protocol GRPC search failed with message Received http2 header with status: \u001b[1;36m502\u001b[0m.\n"
      ]
     },
     "metadata": {},
     "output_type": "display_data"
    },
    {
     "name": "stderr",
     "output_type": "stream",
     "text": [
      "Queries: 100%|##########| 100/100 [01:40<00:00,  1.09s/it]\n",
      "Queries: 100%|##########| 100/100 [01:40<00:00,  1.00s/it]\n"
     ]
    },
    {
     "data": {
      "text/html": [
       "<pre style=\"white-space:pre;overflow-x:auto;line-height:normal;font-family:Menlo,'DejaVu Sans Mono',consolas,'Courier New',monospace\">Total Processing Time: <span style=\"color: #008080; text-decoration-color: #008080; font-weight: bold\">1.67</span> minutes\n",
       "</pre>\n"
      ],
      "text/plain": [
       "Total Processing Time: \u001b[1;36m1.67\u001b[0m minutes\n"
      ]
     },
     "metadata": {},
     "output_type": "display_data"
    },
    {
     "data": {
      "text/html": [
       "<pre style=\"white-space:pre;overflow-x:auto;line-height:normal;font-family:Menlo,'DejaVu Sans Mono',consolas,'Courier New',monospace\"><span style=\"color: #008080; text-decoration-color: #008080; font-weight: bold\">0.0</span> <span style=\"color: #008080; text-decoration-color: #008080; font-weight: bold\">0.5643267863316188</span> <span style=\"color: #008080; text-decoration-color: #008080; font-weight: bold\">256</span> <span style=\"color: #008080; text-decoration-color: #008080; font-weight: bold\">60</span>\n",
       "</pre>\n"
      ],
      "text/plain": [
       "\u001b[1;36m0.0\u001b[0m \u001b[1;36m0.5643267863316188\u001b[0m \u001b[1;36m256\u001b[0m \u001b[1;36m60\u001b[0m\n"
      ]
     },
     "metadata": {},
     "output_type": "display_data"
    },
    {
     "name": "stdout",
     "output_type": "stream",
     "text": [
      " 70%|███████   | 35/50 [5:26:00<1:17:37, 310.47s/trial, best loss: -0.88]"
     ]
    },
    {
     "data": {
      "text/html": [
       "<pre style=\"white-space:pre;overflow-x:auto;line-height:normal;font-family:Menlo,'DejaVu Sans Mono',consolas,'Courier New',monospace\"><span style=\"color: #008080; text-decoration-color: #008080; font-weight: bold\">0.6567378964829584</span> <span style=\"color: #008080; text-decoration-color: #008080; font-weight: bold\">512</span> <span style=\"color: #008080; text-decoration-color: #008080; font-weight: bold\">40</span>\n",
       "</pre>\n"
      ],
      "text/plain": [
       "\u001b[1;36m0.6567378964829584\u001b[0m \u001b[1;36m512\u001b[0m \u001b[1;36m40\u001b[0m\n"
      ]
     },
     "metadata": {},
     "output_type": "display_data"
    },
    {
     "name": "stderr",
     "output_type": "stream",
     "text": [
      "Queries:   0%|          | 0/100 [00:00<?, ?it/s]\n"
     ]
    },
    {
     "data": {
      "text/html": [
       "<pre style=\"white-space:pre;overflow-x:auto;line-height:normal;font-family:Menlo,'DejaVu Sans Mono',consolas,'Courier New',monospace\">Query call with protocol GRPC search failed with message Received http2 header with status: <span style=\"color: #008080; text-decoration-color: #008080; font-weight: bold\">502</span>.\n",
       "</pre>\n"
      ],
      "text/plain": [
       "Query call with protocol GRPC search failed with message Received http2 header with status: \u001b[1;36m502\u001b[0m.\n"
      ]
     },
     "metadata": {},
     "output_type": "display_data"
    },
    {
     "name": "stderr",
     "output_type": "stream",
     "text": [
      "Queries:   1%|1         | 1/100 [00:01<01:52,  1.14s/it]\n"
     ]
    },
    {
     "data": {
      "text/html": [
       "<pre style=\"white-space:pre;overflow-x:auto;line-height:normal;font-family:Menlo,'DejaVu Sans Mono',consolas,'Courier New',monospace\">Query call with protocol GRPC search failed with message Received http2 header with status: <span style=\"color: #008080; text-decoration-color: #008080; font-weight: bold\">502</span>.\n",
       "</pre>\n"
      ],
      "text/plain": [
       "Query call with protocol GRPC search failed with message Received http2 header with status: \u001b[1;36m502\u001b[0m.\n"
      ]
     },
     "metadata": {},
     "output_type": "display_data"
    },
    {
     "name": "stderr",
     "output_type": "stream",
     "text": [
      "Queries:   2%|2         | 2/100 [00:01<00:51,  1.89it/s]\n"
     ]
    },
    {
     "data": {
      "text/html": [
       "<pre style=\"white-space:pre;overflow-x:auto;line-height:normal;font-family:Menlo,'DejaVu Sans Mono',consolas,'Courier New',monospace\">Query call with protocol GRPC search failed with message Received http2 header with status: <span style=\"color: #008080; text-decoration-color: #008080; font-weight: bold\">502</span>.\n",
       "</pre>\n"
      ],
      "text/plain": [
       "Query call with protocol GRPC search failed with message Received http2 header with status: \u001b[1;36m502\u001b[0m.\n"
      ]
     },
     "metadata": {},
     "output_type": "display_data"
    },
    {
     "name": "stderr",
     "output_type": "stream",
     "text": [
      "Queries:   3%|3         | 3/100 [00:02<01:17,  1.26it/s]\n"
     ]
    },
    {
     "data": {
      "text/html": [
       "<pre style=\"white-space:pre;overflow-x:auto;line-height:normal;font-family:Menlo,'DejaVu Sans Mono',consolas,'Courier New',monospace\">Query call with protocol GRPC search failed with message Received http2 header with status: <span style=\"color: #008080; text-decoration-color: #008080; font-weight: bold\">502</span>.\n",
       "</pre>\n"
      ],
      "text/plain": [
       "Query call with protocol GRPC search failed with message Received http2 header with status: \u001b[1;36m502\u001b[0m.\n"
      ]
     },
     "metadata": {},
     "output_type": "display_data"
    },
    {
     "name": "stderr",
     "output_type": "stream",
     "text": [
      "Queries:   4%|4         | 4/100 [00:03<01:29,  1.07it/s]\n"
     ]
    },
    {
     "data": {
      "text/html": [
       "<pre style=\"white-space:pre;overflow-x:auto;line-height:normal;font-family:Menlo,'DejaVu Sans Mono',consolas,'Courier New',monospace\">Query call with protocol GRPC search failed with message Received http2 header with status: <span style=\"color: #008080; text-decoration-color: #008080; font-weight: bold\">502</span>.\n",
       "</pre>\n"
      ],
      "text/plain": [
       "Query call with protocol GRPC search failed with message Received http2 header with status: \u001b[1;36m502\u001b[0m.\n"
      ]
     },
     "metadata": {},
     "output_type": "display_data"
    },
    {
     "name": "stderr",
     "output_type": "stream",
     "text": [
      "Queries:   5%|5         | 5/100 [00:04<01:36,  1.01s/it]\n"
     ]
    },
    {
     "data": {
      "text/html": [
       "<pre style=\"white-space:pre;overflow-x:auto;line-height:normal;font-family:Menlo,'DejaVu Sans Mono',consolas,'Courier New',monospace\">Query call with protocol GRPC search failed with message Received http2 header with status: <span style=\"color: #008080; text-decoration-color: #008080; font-weight: bold\">502</span>.\n",
       "</pre>\n"
      ],
      "text/plain": [
       "Query call with protocol GRPC search failed with message Received http2 header with status: \u001b[1;36m502\u001b[0m.\n"
      ]
     },
     "metadata": {},
     "output_type": "display_data"
    },
    {
     "name": "stderr",
     "output_type": "stream",
     "text": [
      "Queries:   6%|6         | 6/100 [00:05<01:39,  1.06s/it]\n"
     ]
    },
    {
     "data": {
      "text/html": [
       "<pre style=\"white-space:pre;overflow-x:auto;line-height:normal;font-family:Menlo,'DejaVu Sans Mono',consolas,'Courier New',monospace\">Query call with protocol GRPC search failed with message Received http2 header with status: <span style=\"color: #008080; text-decoration-color: #008080; font-weight: bold\">502</span>.\n",
       "</pre>\n"
      ],
      "text/plain": [
       "Query call with protocol GRPC search failed with message Received http2 header with status: \u001b[1;36m502\u001b[0m.\n"
      ]
     },
     "metadata": {},
     "output_type": "display_data"
    },
    {
     "name": "stderr",
     "output_type": "stream",
     "text": [
      "Queries:   7%|7         | 7/100 [00:06<01:41,  1.09s/it]\n"
     ]
    },
    {
     "data": {
      "text/html": [
       "<pre style=\"white-space:pre;overflow-x:auto;line-height:normal;font-family:Menlo,'DejaVu Sans Mono',consolas,'Courier New',monospace\">Query call with protocol GRPC search failed with message Received http2 header with status: <span style=\"color: #008080; text-decoration-color: #008080; font-weight: bold\">502</span>.\n",
       "</pre>\n"
      ],
      "text/plain": [
       "Query call with protocol GRPC search failed with message Received http2 header with status: \u001b[1;36m502\u001b[0m.\n"
      ]
     },
     "metadata": {},
     "output_type": "display_data"
    },
    {
     "name": "stderr",
     "output_type": "stream",
     "text": [
      "Queries:   8%|8         | 8/100 [00:08<01:42,  1.11s/it]\n"
     ]
    },
    {
     "data": {
      "text/html": [
       "<pre style=\"white-space:pre;overflow-x:auto;line-height:normal;font-family:Menlo,'DejaVu Sans Mono',consolas,'Courier New',monospace\">Query call with protocol GRPC search failed with message Received http2 header with status: <span style=\"color: #008080; text-decoration-color: #008080; font-weight: bold\">502</span>.\n",
       "</pre>\n"
      ],
      "text/plain": [
       "Query call with protocol GRPC search failed with message Received http2 header with status: \u001b[1;36m502\u001b[0m.\n"
      ]
     },
     "metadata": {},
     "output_type": "display_data"
    },
    {
     "name": "stderr",
     "output_type": "stream",
     "text": [
      "Queries:   9%|9         | 9/100 [00:08<01:12,  1.26it/s]\n"
     ]
    },
    {
     "data": {
      "text/html": [
       "<pre style=\"white-space:pre;overflow-x:auto;line-height:normal;font-family:Menlo,'DejaVu Sans Mono',consolas,'Courier New',monospace\">Query call with protocol GRPC search failed with message Received http2 header with status: <span style=\"color: #008080; text-decoration-color: #008080; font-weight: bold\">502</span>.\n",
       "</pre>\n"
      ],
      "text/plain": [
       "Query call with protocol GRPC search failed with message Received http2 header with status: \u001b[1;36m502\u001b[0m.\n"
      ]
     },
     "metadata": {},
     "output_type": "display_data"
    },
    {
     "name": "stderr",
     "output_type": "stream",
     "text": [
      "Queries:  10%|#         | 10/100 [00:09<01:20,  1.12it/s]\n"
     ]
    },
    {
     "data": {
      "text/html": [
       "<pre style=\"white-space:pre;overflow-x:auto;line-height:normal;font-family:Menlo,'DejaVu Sans Mono',consolas,'Courier New',monospace\">Query call with protocol GRPC search failed with message Received http2 header with status: <span style=\"color: #008080; text-decoration-color: #008080; font-weight: bold\">502</span>.\n",
       "</pre>\n"
      ],
      "text/plain": [
       "Query call with protocol GRPC search failed with message Received http2 header with status: \u001b[1;36m502\u001b[0m.\n"
      ]
     },
     "metadata": {},
     "output_type": "display_data"
    },
    {
     "name": "stderr",
     "output_type": "stream",
     "text": [
      "Queries:  11%|#1        | 11/100 [00:10<01:26,  1.03it/s]\n"
     ]
    },
    {
     "data": {
      "text/html": [
       "<pre style=\"white-space:pre;overflow-x:auto;line-height:normal;font-family:Menlo,'DejaVu Sans Mono',consolas,'Courier New',monospace\">Query call with protocol GRPC search failed with message Received http2 header with status: <span style=\"color: #008080; text-decoration-color: #008080; font-weight: bold\">502</span>.\n",
       "</pre>\n"
      ],
      "text/plain": [
       "Query call with protocol GRPC search failed with message Received http2 header with status: \u001b[1;36m502\u001b[0m.\n"
      ]
     },
     "metadata": {},
     "output_type": "display_data"
    },
    {
     "name": "stderr",
     "output_type": "stream",
     "text": [
      "Queries:  12%|#2        | 12/100 [00:11<01:30,  1.03s/it]\n"
     ]
    },
    {
     "data": {
      "text/html": [
       "<pre style=\"white-space:pre;overflow-x:auto;line-height:normal;font-family:Menlo,'DejaVu Sans Mono',consolas,'Courier New',monospace\">Query call with protocol GRPC search failed with message Received http2 header with status: <span style=\"color: #008080; text-decoration-color: #008080; font-weight: bold\">502</span>.\n",
       "</pre>\n"
      ],
      "text/plain": [
       "Query call with protocol GRPC search failed with message Received http2 header with status: \u001b[1;36m502\u001b[0m.\n"
      ]
     },
     "metadata": {},
     "output_type": "display_data"
    },
    {
     "name": "stderr",
     "output_type": "stream",
     "text": [
      "Queries:  13%|#3        | 13/100 [00:12<01:32,  1.07s/it]\n"
     ]
    },
    {
     "data": {
      "text/html": [
       "<pre style=\"white-space:pre;overflow-x:auto;line-height:normal;font-family:Menlo,'DejaVu Sans Mono',consolas,'Courier New',monospace\">Query call with protocol GRPC search failed with message Received http2 header with status: <span style=\"color: #008080; text-decoration-color: #008080; font-weight: bold\">502</span>.\n",
       "</pre>\n"
      ],
      "text/plain": [
       "Query call with protocol GRPC search failed with message Received http2 header with status: \u001b[1;36m502\u001b[0m.\n"
      ]
     },
     "metadata": {},
     "output_type": "display_data"
    },
    {
     "name": "stderr",
     "output_type": "stream",
     "text": [
      "Queries:  14%|#4        | 14/100 [00:13<01:33,  1.09s/it]\n"
     ]
    },
    {
     "data": {
      "text/html": [
       "<pre style=\"white-space:pre;overflow-x:auto;line-height:normal;font-family:Menlo,'DejaVu Sans Mono',consolas,'Courier New',monospace\">Query call with protocol GRPC search failed with message Received http2 header with status: <span style=\"color: #008080; text-decoration-color: #008080; font-weight: bold\">502</span>.\n",
       "</pre>\n"
      ],
      "text/plain": [
       "Query call with protocol GRPC search failed with message Received http2 header with status: \u001b[1;36m502\u001b[0m.\n"
      ]
     },
     "metadata": {},
     "output_type": "display_data"
    },
    {
     "name": "stderr",
     "output_type": "stream",
     "text": [
      "Queries:  15%|#5        | 15/100 [00:15<01:34,  1.11s/it]\n"
     ]
    },
    {
     "data": {
      "text/html": [
       "<pre style=\"white-space:pre;overflow-x:auto;line-height:normal;font-family:Menlo,'DejaVu Sans Mono',consolas,'Courier New',monospace\">Query call with protocol GRPC search failed with message Received http2 header with status: <span style=\"color: #008080; text-decoration-color: #008080; font-weight: bold\">502</span>.\n",
       "</pre>\n"
      ],
      "text/plain": [
       "Query call with protocol GRPC search failed with message Received http2 header with status: \u001b[1;36m502\u001b[0m.\n"
      ]
     },
     "metadata": {},
     "output_type": "display_data"
    },
    {
     "name": "stderr",
     "output_type": "stream",
     "text": [
      "Queries:  16%|#6        | 16/100 [00:15<01:07,  1.24it/s]\n"
     ]
    },
    {
     "data": {
      "text/html": [
       "<pre style=\"white-space:pre;overflow-x:auto;line-height:normal;font-family:Menlo,'DejaVu Sans Mono',consolas,'Courier New',monospace\">Query call with protocol GRPC search failed with message Received http2 header with status: <span style=\"color: #008080; text-decoration-color: #008080; font-weight: bold\">502</span>.\n",
       "</pre>\n"
      ],
      "text/plain": [
       "Query call with protocol GRPC search failed with message Received http2 header with status: \u001b[1;36m502\u001b[0m.\n"
      ]
     },
     "metadata": {},
     "output_type": "display_data"
    },
    {
     "name": "stderr",
     "output_type": "stream",
     "text": [
      "Queries:  17%|#7        | 17/100 [00:16<01:14,  1.11it/s]\n"
     ]
    },
    {
     "data": {
      "text/html": [
       "<pre style=\"white-space:pre;overflow-x:auto;line-height:normal;font-family:Menlo,'DejaVu Sans Mono',consolas,'Courier New',monospace\">Query call with protocol GRPC search failed with message Received http2 header with status: <span style=\"color: #008080; text-decoration-color: #008080; font-weight: bold\">502</span>.\n",
       "</pre>\n"
      ],
      "text/plain": [
       "Query call with protocol GRPC search failed with message Received http2 header with status: \u001b[1;36m502\u001b[0m.\n"
      ]
     },
     "metadata": {},
     "output_type": "display_data"
    },
    {
     "name": "stderr",
     "output_type": "stream",
     "text": [
      "Queries:  18%|#8        | 18/100 [00:17<01:19,  1.03it/s]\n"
     ]
    },
    {
     "data": {
      "text/html": [
       "<pre style=\"white-space:pre;overflow-x:auto;line-height:normal;font-family:Menlo,'DejaVu Sans Mono',consolas,'Courier New',monospace\">Query call with protocol GRPC search failed with message Received http2 header with status: <span style=\"color: #008080; text-decoration-color: #008080; font-weight: bold\">502</span>.\n",
       "</pre>\n"
      ],
      "text/plain": [
       "Query call with protocol GRPC search failed with message Received http2 header with status: \u001b[1;36m502\u001b[0m.\n"
      ]
     },
     "metadata": {},
     "output_type": "display_data"
    },
    {
     "name": "stderr",
     "output_type": "stream",
     "text": [
      "Queries:  19%|#9        | 19/100 [00:17<01:03,  1.27it/s]\n"
     ]
    },
    {
     "data": {
      "text/html": [
       "<pre style=\"white-space:pre;overflow-x:auto;line-height:normal;font-family:Menlo,'DejaVu Sans Mono',consolas,'Courier New',monospace\">Query call with protocol GRPC search failed with message Received http2 header with status: <span style=\"color: #008080; text-decoration-color: #008080; font-weight: bold\">502</span>.\n",
       "</pre>\n"
      ],
      "text/plain": [
       "Query call with protocol GRPC search failed with message Received http2 header with status: \u001b[1;36m502\u001b[0m.\n"
      ]
     },
     "metadata": {},
     "output_type": "display_data"
    },
    {
     "name": "stderr",
     "output_type": "stream",
     "text": [
      "Queries:  20%|##        | 20/100 [00:17<00:46,  1.71it/s]\n"
     ]
    },
    {
     "data": {
      "text/html": [
       "<pre style=\"white-space:pre;overflow-x:auto;line-height:normal;font-family:Menlo,'DejaVu Sans Mono',consolas,'Courier New',monospace\">Query call with protocol GRPC search failed with message Received http2 header with status: <span style=\"color: #008080; text-decoration-color: #008080; font-weight: bold\">502</span>.\n",
       "</pre>\n"
      ],
      "text/plain": [
       "Query call with protocol GRPC search failed with message Received http2 header with status: \u001b[1;36m502\u001b[0m.\n"
      ]
     },
     "metadata": {},
     "output_type": "display_data"
    },
    {
     "name": "stderr",
     "output_type": "stream",
     "text": [
      "Queries:  21%|##1       | 21/100 [00:18<00:34,  2.28it/s]\n"
     ]
    },
    {
     "data": {
      "text/html": [
       "<pre style=\"white-space:pre;overflow-x:auto;line-height:normal;font-family:Menlo,'DejaVu Sans Mono',consolas,'Courier New',monospace\">Query call with protocol GRPC search failed with message Received http2 header with status: <span style=\"color: #008080; text-decoration-color: #008080; font-weight: bold\">502</span>.\n",
       "</pre>\n"
      ],
      "text/plain": [
       "Query call with protocol GRPC search failed with message Received http2 header with status: \u001b[1;36m502\u001b[0m.\n"
      ]
     },
     "metadata": {},
     "output_type": "display_data"
    },
    {
     "name": "stderr",
     "output_type": "stream",
     "text": [
      "Queries:  22%|##2       | 22/100 [00:18<00:26,  2.96it/s]\n"
     ]
    },
    {
     "data": {
      "text/html": [
       "<pre style=\"white-space:pre;overflow-x:auto;line-height:normal;font-family:Menlo,'DejaVu Sans Mono',consolas,'Courier New',monospace\">Query call with protocol GRPC search failed with message Received http2 header with status: <span style=\"color: #008080; text-decoration-color: #008080; font-weight: bold\">502</span>.\n",
       "</pre>\n"
      ],
      "text/plain": [
       "Query call with protocol GRPC search failed with message Received http2 header with status: \u001b[1;36m502\u001b[0m.\n"
      ]
     },
     "metadata": {},
     "output_type": "display_data"
    },
    {
     "name": "stderr",
     "output_type": "stream",
     "text": [
      "Queries:  23%|##3       | 23/100 [00:18<00:20,  3.74it/s]\n"
     ]
    },
    {
     "data": {
      "text/html": [
       "<pre style=\"white-space:pre;overflow-x:auto;line-height:normal;font-family:Menlo,'DejaVu Sans Mono',consolas,'Courier New',monospace\">Query call with protocol GRPC search failed with message Received http2 header with status: <span style=\"color: #008080; text-decoration-color: #008080; font-weight: bold\">502</span>.\n",
       "</pre>\n"
      ],
      "text/plain": [
       "Query call with protocol GRPC search failed with message Received http2 header with status: \u001b[1;36m502\u001b[0m.\n"
      ]
     },
     "metadata": {},
     "output_type": "display_data"
    },
    {
     "name": "stderr",
     "output_type": "stream",
     "text": [
      "Queries:  24%|##4       | 24/100 [00:18<00:16,  4.58it/s]\n"
     ]
    },
    {
     "data": {
      "text/html": [
       "<pre style=\"white-space:pre;overflow-x:auto;line-height:normal;font-family:Menlo,'DejaVu Sans Mono',consolas,'Courier New',monospace\">Query call with protocol GRPC search failed with message Received http2 header with status: <span style=\"color: #008080; text-decoration-color: #008080; font-weight: bold\">502</span>.\n",
       "</pre>\n"
      ],
      "text/plain": [
       "Query call with protocol GRPC search failed with message Received http2 header with status: \u001b[1;36m502\u001b[0m.\n"
      ]
     },
     "metadata": {},
     "output_type": "display_data"
    },
    {
     "name": "stderr",
     "output_type": "stream",
     "text": [
      "Queries:  25%|##5       | 25/100 [00:19<00:37,  2.00it/s]\n"
     ]
    },
    {
     "data": {
      "text/html": [
       "<pre style=\"white-space:pre;overflow-x:auto;line-height:normal;font-family:Menlo,'DejaVu Sans Mono',consolas,'Courier New',monospace\">Query call with protocol GRPC search failed with message Received http2 header with status: <span style=\"color: #008080; text-decoration-color: #008080; font-weight: bold\">502</span>.\n",
       "</pre>\n"
      ],
      "text/plain": [
       "Query call with protocol GRPC search failed with message Received http2 header with status: \u001b[1;36m502\u001b[0m.\n"
      ]
     },
     "metadata": {},
     "output_type": "display_data"
    },
    {
     "name": "stderr",
     "output_type": "stream",
     "text": [
      "Queries:  26%|##6       | 26/100 [00:20<00:51,  1.44it/s]\n"
     ]
    },
    {
     "data": {
      "text/html": [
       "<pre style=\"white-space:pre;overflow-x:auto;line-height:normal;font-family:Menlo,'DejaVu Sans Mono',consolas,'Courier New',monospace\">Query call with protocol GRPC search failed with message Received http2 header with status: <span style=\"color: #008080; text-decoration-color: #008080; font-weight: bold\">502</span>.\n",
       "</pre>\n"
      ],
      "text/plain": [
       "Query call with protocol GRPC search failed with message Received http2 header with status: \u001b[1;36m502\u001b[0m.\n"
      ]
     },
     "metadata": {},
     "output_type": "display_data"
    },
    {
     "name": "stderr",
     "output_type": "stream",
     "text": [
      "Queries:  27%|##7       | 27/100 [00:21<01:00,  1.20it/s]\n"
     ]
    },
    {
     "data": {
      "text/html": [
       "<pre style=\"white-space:pre;overflow-x:auto;line-height:normal;font-family:Menlo,'DejaVu Sans Mono',consolas,'Courier New',monospace\">Query call with protocol GRPC search failed with message Received http2 header with status: <span style=\"color: #008080; text-decoration-color: #008080; font-weight: bold\">502</span>.\n",
       "</pre>\n"
      ],
      "text/plain": [
       "Query call with protocol GRPC search failed with message Received http2 header with status: \u001b[1;36m502\u001b[0m.\n"
      ]
     },
     "metadata": {},
     "output_type": "display_data"
    },
    {
     "name": "stderr",
     "output_type": "stream",
     "text": [
      "Queries:  28%|##8       | 28/100 [00:21<00:44,  1.63it/s]\n"
     ]
    },
    {
     "data": {
      "text/html": [
       "<pre style=\"white-space:pre;overflow-x:auto;line-height:normal;font-family:Menlo,'DejaVu Sans Mono',consolas,'Courier New',monospace\">Query call with protocol GRPC search failed with message Received http2 header with status: <span style=\"color: #008080; text-decoration-color: #008080; font-weight: bold\">502</span>.\n",
       "</pre>\n"
      ],
      "text/plain": [
       "Query call with protocol GRPC search failed with message Received http2 header with status: \u001b[1;36m502\u001b[0m.\n"
      ]
     },
     "metadata": {},
     "output_type": "display_data"
    },
    {
     "name": "stderr",
     "output_type": "stream",
     "text": [
      "Queries:  29%|##9       | 29/100 [00:23<00:54,  1.31it/s]\n"
     ]
    },
    {
     "data": {
      "text/html": [
       "<pre style=\"white-space:pre;overflow-x:auto;line-height:normal;font-family:Menlo,'DejaVu Sans Mono',consolas,'Courier New',monospace\">Query call with protocol GRPC search failed with message Received http2 header with status: <span style=\"color: #008080; text-decoration-color: #008080; font-weight: bold\">502</span>.\n",
       "</pre>\n"
      ],
      "text/plain": [
       "Query call with protocol GRPC search failed with message Received http2 header with status: \u001b[1;36m502\u001b[0m.\n"
      ]
     },
     "metadata": {},
     "output_type": "display_data"
    },
    {
     "name": "stderr",
     "output_type": "stream",
     "text": [
      "Queries:  30%|###       | 30/100 [00:24<01:02,  1.11it/s]\n"
     ]
    },
    {
     "data": {
      "text/html": [
       "<pre style=\"white-space:pre;overflow-x:auto;line-height:normal;font-family:Menlo,'DejaVu Sans Mono',consolas,'Courier New',monospace\">Query call with protocol GRPC search failed with message Received http2 header with status: <span style=\"color: #008080; text-decoration-color: #008080; font-weight: bold\">502</span>.\n",
       "</pre>\n"
      ],
      "text/plain": [
       "Query call with protocol GRPC search failed with message Received http2 header with status: \u001b[1;36m502\u001b[0m.\n"
      ]
     },
     "metadata": {},
     "output_type": "display_data"
    },
    {
     "name": "stderr",
     "output_type": "stream",
     "text": [
      "Queries:  31%|###1      | 31/100 [00:25<01:07,  1.03it/s]\n"
     ]
    },
    {
     "data": {
      "text/html": [
       "<pre style=\"white-space:pre;overflow-x:auto;line-height:normal;font-family:Menlo,'DejaVu Sans Mono',consolas,'Courier New',monospace\">Query call with protocol GRPC search failed with message Received http2 header with status: <span style=\"color: #008080; text-decoration-color: #008080; font-weight: bold\">502</span>.\n",
       "</pre>\n"
      ],
      "text/plain": [
       "Query call with protocol GRPC search failed with message Received http2 header with status: \u001b[1;36m502\u001b[0m.\n"
      ]
     },
     "metadata": {},
     "output_type": "display_data"
    },
    {
     "name": "stderr",
     "output_type": "stream",
     "text": [
      "Queries:  32%|###2      | 32/100 [00:26<01:09,  1.03s/it]\n"
     ]
    },
    {
     "data": {
      "text/html": [
       "<pre style=\"white-space:pre;overflow-x:auto;line-height:normal;font-family:Menlo,'DejaVu Sans Mono',consolas,'Courier New',monospace\">Query call with protocol GRPC search failed with message Received http2 header with status: <span style=\"color: #008080; text-decoration-color: #008080; font-weight: bold\">502</span>.\n",
       "</pre>\n"
      ],
      "text/plain": [
       "Query call with protocol GRPC search failed with message Received http2 header with status: \u001b[1;36m502\u001b[0m.\n"
      ]
     },
     "metadata": {},
     "output_type": "display_data"
    },
    {
     "name": "stderr",
     "output_type": "stream",
     "text": [
      "Queries:  33%|###3      | 33/100 [00:27<01:11,  1.07s/it]\n"
     ]
    },
    {
     "data": {
      "text/html": [
       "<pre style=\"white-space:pre;overflow-x:auto;line-height:normal;font-family:Menlo,'DejaVu Sans Mono',consolas,'Courier New',monospace\">Query call with protocol GRPC search failed with message Received http2 header with status: <span style=\"color: #008080; text-decoration-color: #008080; font-weight: bold\">502</span>.\n",
       "</pre>\n"
      ],
      "text/plain": [
       "Query call with protocol GRPC search failed with message Received http2 header with status: \u001b[1;36m502\u001b[0m.\n"
      ]
     },
     "metadata": {},
     "output_type": "display_data"
    },
    {
     "name": "stderr",
     "output_type": "stream",
     "text": [
      "Queries:  34%|###4      | 34/100 [00:28<01:12,  1.09s/it]\n"
     ]
    },
    {
     "data": {
      "text/html": [
       "<pre style=\"white-space:pre;overflow-x:auto;line-height:normal;font-family:Menlo,'DejaVu Sans Mono',consolas,'Courier New',monospace\">Query call with protocol GRPC search failed with message Received http2 header with status: <span style=\"color: #008080; text-decoration-color: #008080; font-weight: bold\">502</span>.\n",
       "</pre>\n"
      ],
      "text/plain": [
       "Query call with protocol GRPC search failed with message Received http2 header with status: \u001b[1;36m502\u001b[0m.\n"
      ]
     },
     "metadata": {},
     "output_type": "display_data"
    },
    {
     "name": "stderr",
     "output_type": "stream",
     "text": [
      "Queries:  35%|###5      | 35/100 [00:28<00:51,  1.26it/s]\n"
     ]
    },
    {
     "data": {
      "text/html": [
       "<pre style=\"white-space:pre;overflow-x:auto;line-height:normal;font-family:Menlo,'DejaVu Sans Mono',consolas,'Courier New',monospace\">Query call with protocol GRPC search failed with message Received http2 header with status: <span style=\"color: #008080; text-decoration-color: #008080; font-weight: bold\">502</span>.\n",
       "</pre>\n"
      ],
      "text/plain": [
       "Query call with protocol GRPC search failed with message Received http2 header with status: \u001b[1;36m502\u001b[0m.\n"
      ]
     },
     "metadata": {},
     "output_type": "display_data"
    },
    {
     "name": "stderr",
     "output_type": "stream",
     "text": [
      "Queries:  36%|###6      | 36/100 [00:30<00:56,  1.12it/s]\n"
     ]
    },
    {
     "data": {
      "text/html": [
       "<pre style=\"white-space:pre;overflow-x:auto;line-height:normal;font-family:Menlo,'DejaVu Sans Mono',consolas,'Courier New',monospace\">Query call with protocol GRPC search failed with message Received http2 header with status: <span style=\"color: #008080; text-decoration-color: #008080; font-weight: bold\">502</span>.\n",
       "</pre>\n"
      ],
      "text/plain": [
       "Query call with protocol GRPC search failed with message Received http2 header with status: \u001b[1;36m502\u001b[0m.\n"
      ]
     },
     "metadata": {},
     "output_type": "display_data"
    },
    {
     "name": "stderr",
     "output_type": "stream",
     "text": [
      "Queries:  37%|###7      | 37/100 [00:31<01:01,  1.03it/s]\n"
     ]
    },
    {
     "data": {
      "text/html": [
       "<pre style=\"white-space:pre;overflow-x:auto;line-height:normal;font-family:Menlo,'DejaVu Sans Mono',consolas,'Courier New',monospace\">Query call with protocol GRPC search failed with message Received http2 header with status: <span style=\"color: #008080; text-decoration-color: #008080; font-weight: bold\">502</span>.\n",
       "</pre>\n"
      ],
      "text/plain": [
       "Query call with protocol GRPC search failed with message Received http2 header with status: \u001b[1;36m502\u001b[0m.\n"
      ]
     },
     "metadata": {},
     "output_type": "display_data"
    },
    {
     "name": "stderr",
     "output_type": "stream",
     "text": [
      "Queries:  38%|###8      | 38/100 [00:32<01:03,  1.02s/it]\n"
     ]
    },
    {
     "data": {
      "text/html": [
       "<pre style=\"white-space:pre;overflow-x:auto;line-height:normal;font-family:Menlo,'DejaVu Sans Mono',consolas,'Courier New',monospace\">Query call with protocol GRPC search failed with message Received http2 header with status: <span style=\"color: #008080; text-decoration-color: #008080; font-weight: bold\">502</span>.\n",
       "</pre>\n"
      ],
      "text/plain": [
       "Query call with protocol GRPC search failed with message Received http2 header with status: \u001b[1;36m502\u001b[0m.\n"
      ]
     },
     "metadata": {},
     "output_type": "display_data"
    },
    {
     "name": "stderr",
     "output_type": "stream",
     "text": [
      "Queries:  39%|###9      | 39/100 [00:33<01:04,  1.06s/it]\n"
     ]
    },
    {
     "data": {
      "text/html": [
       "<pre style=\"white-space:pre;overflow-x:auto;line-height:normal;font-family:Menlo,'DejaVu Sans Mono',consolas,'Courier New',monospace\">Query call with protocol GRPC search failed with message Received http2 header with status: <span style=\"color: #008080; text-decoration-color: #008080; font-weight: bold\">502</span>.\n",
       "</pre>\n"
      ],
      "text/plain": [
       "Query call with protocol GRPC search failed with message Received http2 header with status: \u001b[1;36m502\u001b[0m.\n"
      ]
     },
     "metadata": {},
     "output_type": "display_data"
    },
    {
     "name": "stderr",
     "output_type": "stream",
     "text": [
      "Queries:  40%|####      | 40/100 [00:34<01:05,  1.09s/it]\n"
     ]
    },
    {
     "data": {
      "text/html": [
       "<pre style=\"white-space:pre;overflow-x:auto;line-height:normal;font-family:Menlo,'DejaVu Sans Mono',consolas,'Courier New',monospace\">Query call with protocol GRPC search failed with message Received http2 header with status: <span style=\"color: #008080; text-decoration-color: #008080; font-weight: bold\">502</span>.\n",
       "</pre>\n"
      ],
      "text/plain": [
       "Query call with protocol GRPC search failed with message Received http2 header with status: \u001b[1;36m502\u001b[0m.\n"
      ]
     },
     "metadata": {},
     "output_type": "display_data"
    },
    {
     "name": "stderr",
     "output_type": "stream",
     "text": [
      "Queries:  41%|####1     | 41/100 [00:35<01:05,  1.11s/it]\n"
     ]
    },
    {
     "data": {
      "text/html": [
       "<pre style=\"white-space:pre;overflow-x:auto;line-height:normal;font-family:Menlo,'DejaVu Sans Mono',consolas,'Courier New',monospace\">Query call with protocol GRPC search failed with message Received http2 header with status: <span style=\"color: #008080; text-decoration-color: #008080; font-weight: bold\">502</span>.\n",
       "</pre>\n"
      ],
      "text/plain": [
       "Query call with protocol GRPC search failed with message Received http2 header with status: \u001b[1;36m502\u001b[0m.\n"
      ]
     },
     "metadata": {},
     "output_type": "display_data"
    },
    {
     "name": "stderr",
     "output_type": "stream",
     "text": [
      "Queries:  42%|####2     | 42/100 [00:35<00:46,  1.24it/s]\n"
     ]
    },
    {
     "data": {
      "text/html": [
       "<pre style=\"white-space:pre;overflow-x:auto;line-height:normal;font-family:Menlo,'DejaVu Sans Mono',consolas,'Courier New',monospace\">Query call with protocol GRPC search failed with message Received http2 header with status: <span style=\"color: #008080; text-decoration-color: #008080; font-weight: bold\">502</span>.\n",
       "</pre>\n"
      ],
      "text/plain": [
       "Query call with protocol GRPC search failed with message Received http2 header with status: \u001b[1;36m502\u001b[0m.\n"
      ]
     },
     "metadata": {},
     "output_type": "display_data"
    },
    {
     "name": "stderr",
     "output_type": "stream",
     "text": [
      "Queries:  43%|####3     | 43/100 [00:37<00:51,  1.11it/s]\n"
     ]
    },
    {
     "data": {
      "text/html": [
       "<pre style=\"white-space:pre;overflow-x:auto;line-height:normal;font-family:Menlo,'DejaVu Sans Mono',consolas,'Courier New',monospace\">Query call with protocol GRPC search failed with message Received http2 header with status: <span style=\"color: #008080; text-decoration-color: #008080; font-weight: bold\">502</span>.\n",
       "</pre>\n"
      ],
      "text/plain": [
       "Query call with protocol GRPC search failed with message Received http2 header with status: \u001b[1;36m502\u001b[0m.\n"
      ]
     },
     "metadata": {},
     "output_type": "display_data"
    },
    {
     "name": "stderr",
     "output_type": "stream",
     "text": [
      "Queries:  44%|####4     | 44/100 [00:38<00:54,  1.03it/s]\n"
     ]
    },
    {
     "data": {
      "text/html": [
       "<pre style=\"white-space:pre;overflow-x:auto;line-height:normal;font-family:Menlo,'DejaVu Sans Mono',consolas,'Courier New',monospace\">Query call with protocol GRPC search failed with message Received http2 header with status: <span style=\"color: #008080; text-decoration-color: #008080; font-weight: bold\">502</span>.\n",
       "</pre>\n"
      ],
      "text/plain": [
       "Query call with protocol GRPC search failed with message Received http2 header with status: \u001b[1;36m502\u001b[0m.\n"
      ]
     },
     "metadata": {},
     "output_type": "display_data"
    },
    {
     "name": "stderr",
     "output_type": "stream",
     "text": [
      "Queries:  45%|####5     | 45/100 [00:39<00:56,  1.03s/it]\n"
     ]
    },
    {
     "data": {
      "text/html": [
       "<pre style=\"white-space:pre;overflow-x:auto;line-height:normal;font-family:Menlo,'DejaVu Sans Mono',consolas,'Courier New',monospace\">Query call with protocol GRPC search failed with message Received http2 header with status: <span style=\"color: #008080; text-decoration-color: #008080; font-weight: bold\">502</span>.\n",
       "</pre>\n"
      ],
      "text/plain": [
       "Query call with protocol GRPC search failed with message Received http2 header with status: \u001b[1;36m502\u001b[0m.\n"
      ]
     },
     "metadata": {},
     "output_type": "display_data"
    },
    {
     "name": "stderr",
     "output_type": "stream",
     "text": [
      "Queries:  46%|####6     | 46/100 [00:40<00:57,  1.07s/it]\n"
     ]
    },
    {
     "data": {
      "text/html": [
       "<pre style=\"white-space:pre;overflow-x:auto;line-height:normal;font-family:Menlo,'DejaVu Sans Mono',consolas,'Courier New',monospace\">Query call with protocol GRPC search failed with message Received http2 header with status: <span style=\"color: #008080; text-decoration-color: #008080; font-weight: bold\">502</span>.\n",
       "</pre>\n"
      ],
      "text/plain": [
       "Query call with protocol GRPC search failed with message Received http2 header with status: \u001b[1;36m502\u001b[0m.\n"
      ]
     },
     "metadata": {},
     "output_type": "display_data"
    },
    {
     "name": "stderr",
     "output_type": "stream",
     "text": [
      "Queries:  47%|####6     | 47/100 [00:41<00:57,  1.09s/it]\n"
     ]
    },
    {
     "data": {
      "text/html": [
       "<pre style=\"white-space:pre;overflow-x:auto;line-height:normal;font-family:Menlo,'DejaVu Sans Mono',consolas,'Courier New',monospace\">Query call with protocol GRPC search failed with message Received http2 header with status: <span style=\"color: #008080; text-decoration-color: #008080; font-weight: bold\">502</span>.\n",
       "</pre>\n"
      ],
      "text/plain": [
       "Query call with protocol GRPC search failed with message Received http2 header with status: \u001b[1;36m502\u001b[0m.\n"
      ]
     },
     "metadata": {},
     "output_type": "display_data"
    },
    {
     "name": "stderr",
     "output_type": "stream",
     "text": [
      "Queries:  48%|####8     | 48/100 [00:42<00:57,  1.11s/it]\n"
     ]
    },
    {
     "data": {
      "text/html": [
       "<pre style=\"white-space:pre;overflow-x:auto;line-height:normal;font-family:Menlo,'DejaVu Sans Mono',consolas,'Courier New',monospace\">Query call with protocol GRPC search failed with message Received http2 header with status: <span style=\"color: #008080; text-decoration-color: #008080; font-weight: bold\">502</span>.\n",
       "</pre>\n"
      ],
      "text/plain": [
       "Query call with protocol GRPC search failed with message Received http2 header with status: \u001b[1;36m502\u001b[0m.\n"
      ]
     },
     "metadata": {},
     "output_type": "display_data"
    },
    {
     "name": "stderr",
     "output_type": "stream",
     "text": [
      "Queries:  49%|####9     | 49/100 [00:42<00:41,  1.24it/s]\n"
     ]
    },
    {
     "data": {
      "text/html": [
       "<pre style=\"white-space:pre;overflow-x:auto;line-height:normal;font-family:Menlo,'DejaVu Sans Mono',consolas,'Courier New',monospace\">Query call with protocol GRPC search failed with message Received http2 header with status: <span style=\"color: #008080; text-decoration-color: #008080; font-weight: bold\">502</span>.\n",
       "</pre>\n"
      ],
      "text/plain": [
       "Query call with protocol GRPC search failed with message Received http2 header with status: \u001b[1;36m502\u001b[0m.\n"
      ]
     },
     "metadata": {},
     "output_type": "display_data"
    },
    {
     "name": "stderr",
     "output_type": "stream",
     "text": [
      "Queries:  50%|#####     | 50/100 [00:44<00:44,  1.11it/s]\n"
     ]
    },
    {
     "data": {
      "text/html": [
       "<pre style=\"white-space:pre;overflow-x:auto;line-height:normal;font-family:Menlo,'DejaVu Sans Mono',consolas,'Courier New',monospace\">Query call with protocol GRPC search failed with message Received http2 header with status: <span style=\"color: #008080; text-decoration-color: #008080; font-weight: bold\">502</span>.\n",
       "</pre>\n"
      ],
      "text/plain": [
       "Query call with protocol GRPC search failed with message Received http2 header with status: \u001b[1;36m502\u001b[0m.\n"
      ]
     },
     "metadata": {},
     "output_type": "display_data"
    },
    {
     "name": "stderr",
     "output_type": "stream",
     "text": [
      "Queries:  51%|#####1    | 51/100 [00:45<00:47,  1.03it/s]\n"
     ]
    },
    {
     "data": {
      "text/html": [
       "<pre style=\"white-space:pre;overflow-x:auto;line-height:normal;font-family:Menlo,'DejaVu Sans Mono',consolas,'Courier New',monospace\">Query call with protocol GRPC search failed with message Received http2 header with status: <span style=\"color: #008080; text-decoration-color: #008080; font-weight: bold\">502</span>.\n",
       "</pre>\n"
      ],
      "text/plain": [
       "Query call with protocol GRPC search failed with message Received http2 header with status: \u001b[1;36m502\u001b[0m.\n"
      ]
     },
     "metadata": {},
     "output_type": "display_data"
    },
    {
     "name": "stderr",
     "output_type": "stream",
     "text": [
      "Queries:  52%|#####2    | 52/100 [00:46<00:49,  1.03s/it]\n"
     ]
    },
    {
     "data": {
      "text/html": [
       "<pre style=\"white-space:pre;overflow-x:auto;line-height:normal;font-family:Menlo,'DejaVu Sans Mono',consolas,'Courier New',monospace\">Query call with protocol GRPC search failed with message Received http2 header with status: <span style=\"color: #008080; text-decoration-color: #008080; font-weight: bold\">502</span>.\n",
       "</pre>\n"
      ],
      "text/plain": [
       "Query call with protocol GRPC search failed with message Received http2 header with status: \u001b[1;36m502\u001b[0m.\n"
      ]
     },
     "metadata": {},
     "output_type": "display_data"
    },
    {
     "name": "stderr",
     "output_type": "stream",
     "text": [
      "Queries:  53%|#####3    | 53/100 [00:47<00:50,  1.07s/it]\n"
     ]
    },
    {
     "data": {
      "text/html": [
       "<pre style=\"white-space:pre;overflow-x:auto;line-height:normal;font-family:Menlo,'DejaVu Sans Mono',consolas,'Courier New',monospace\">Query call with protocol GRPC search failed with message Received http2 header with status: <span style=\"color: #008080; text-decoration-color: #008080; font-weight: bold\">502</span>.\n",
       "</pre>\n"
      ],
      "text/plain": [
       "Query call with protocol GRPC search failed with message Received http2 header with status: \u001b[1;36m502\u001b[0m.\n"
      ]
     },
     "metadata": {},
     "output_type": "display_data"
    },
    {
     "name": "stderr",
     "output_type": "stream",
     "text": [
      "Queries:  54%|#####4    | 54/100 [00:48<00:50,  1.09s/it]\n"
     ]
    },
    {
     "data": {
      "text/html": [
       "<pre style=\"white-space:pre;overflow-x:auto;line-height:normal;font-family:Menlo,'DejaVu Sans Mono',consolas,'Courier New',monospace\">Query call with protocol GRPC search failed with message Received http2 header with status: <span style=\"color: #008080; text-decoration-color: #008080; font-weight: bold\">502</span>.\n",
       "</pre>\n"
      ],
      "text/plain": [
       "Query call with protocol GRPC search failed with message Received http2 header with status: \u001b[1;36m502\u001b[0m.\n"
      ]
     },
     "metadata": {},
     "output_type": "display_data"
    },
    {
     "name": "stderr",
     "output_type": "stream",
     "text": [
      "Queries:  55%|#####5    | 55/100 [00:49<00:49,  1.11s/it]\n"
     ]
    },
    {
     "data": {
      "text/html": [
       "<pre style=\"white-space:pre;overflow-x:auto;line-height:normal;font-family:Menlo,'DejaVu Sans Mono',consolas,'Courier New',monospace\">Query call with protocol GRPC search failed with message Received http2 header with status: <span style=\"color: #008080; text-decoration-color: #008080; font-weight: bold\">502</span>.\n",
       "</pre>\n"
      ],
      "text/plain": [
       "Query call with protocol GRPC search failed with message Received http2 header with status: \u001b[1;36m502\u001b[0m.\n"
      ]
     },
     "metadata": {},
     "output_type": "display_data"
    },
    {
     "name": "stderr",
     "output_type": "stream",
     "text": [
      "Queries:  56%|#####6    | 56/100 [00:49<00:35,  1.24it/s]\n"
     ]
    },
    {
     "data": {
      "text/html": [
       "<pre style=\"white-space:pre;overflow-x:auto;line-height:normal;font-family:Menlo,'DejaVu Sans Mono',consolas,'Courier New',monospace\">Query call with protocol GRPC search failed with message Received http2 header with status: <span style=\"color: #008080; text-decoration-color: #008080; font-weight: bold\">502</span>.\n",
       "</pre>\n"
      ],
      "text/plain": [
       "Query call with protocol GRPC search failed with message Received http2 header with status: \u001b[1;36m502\u001b[0m.\n"
      ]
     },
     "metadata": {},
     "output_type": "display_data"
    },
    {
     "name": "stderr",
     "output_type": "stream",
     "text": [
      "Queries:  57%|#####6    | 57/100 [00:50<00:38,  1.11it/s]\n"
     ]
    },
    {
     "data": {
      "text/html": [
       "<pre style=\"white-space:pre;overflow-x:auto;line-height:normal;font-family:Menlo,'DejaVu Sans Mono',consolas,'Courier New',monospace\">Query call with protocol GRPC search failed with message Received http2 header with status: <span style=\"color: #008080; text-decoration-color: #008080; font-weight: bold\">502</span>.\n",
       "</pre>\n"
      ],
      "text/plain": [
       "Query call with protocol GRPC search failed with message Received http2 header with status: \u001b[1;36m502\u001b[0m.\n"
      ]
     },
     "metadata": {},
     "output_type": "display_data"
    },
    {
     "name": "stderr",
     "output_type": "stream",
     "text": [
      "Queries:  58%|#####8    | 58/100 [00:52<00:40,  1.03it/s]\n"
     ]
    },
    {
     "data": {
      "text/html": [
       "<pre style=\"white-space:pre;overflow-x:auto;line-height:normal;font-family:Menlo,'DejaVu Sans Mono',consolas,'Courier New',monospace\">Query call with protocol GRPC search failed with message Received http2 header with status: <span style=\"color: #008080; text-decoration-color: #008080; font-weight: bold\">502</span>.\n",
       "</pre>\n"
      ],
      "text/plain": [
       "Query call with protocol GRPC search failed with message Received http2 header with status: \u001b[1;36m502\u001b[0m.\n"
      ]
     },
     "metadata": {},
     "output_type": "display_data"
    },
    {
     "name": "stderr",
     "output_type": "stream",
     "text": [
      "Queries:  59%|#####8    | 59/100 [00:53<00:42,  1.03s/it]\n"
     ]
    },
    {
     "data": {
      "text/html": [
       "<pre style=\"white-space:pre;overflow-x:auto;line-height:normal;font-family:Menlo,'DejaVu Sans Mono',consolas,'Courier New',monospace\">Query call with protocol GRPC search failed with message Received http2 header with status: <span style=\"color: #008080; text-decoration-color: #008080; font-weight: bold\">502</span>.\n",
       "</pre>\n"
      ],
      "text/plain": [
       "Query call with protocol GRPC search failed with message Received http2 header with status: \u001b[1;36m502\u001b[0m.\n"
      ]
     },
     "metadata": {},
     "output_type": "display_data"
    },
    {
     "name": "stderr",
     "output_type": "stream",
     "text": [
      "Queries:  60%|######    | 60/100 [00:54<00:42,  1.07s/it]\n"
     ]
    },
    {
     "data": {
      "text/html": [
       "<pre style=\"white-space:pre;overflow-x:auto;line-height:normal;font-family:Menlo,'DejaVu Sans Mono',consolas,'Courier New',monospace\">Query call with protocol GRPC search failed with message Received http2 header with status: <span style=\"color: #008080; text-decoration-color: #008080; font-weight: bold\">502</span>.\n",
       "</pre>\n"
      ],
      "text/plain": [
       "Query call with protocol GRPC search failed with message Received http2 header with status: \u001b[1;36m502\u001b[0m.\n"
      ]
     },
     "metadata": {},
     "output_type": "display_data"
    },
    {
     "name": "stderr",
     "output_type": "stream",
     "text": [
      "Queries:  61%|######1   | 61/100 [00:55<00:42,  1.09s/it]\n"
     ]
    },
    {
     "data": {
      "text/html": [
       "<pre style=\"white-space:pre;overflow-x:auto;line-height:normal;font-family:Menlo,'DejaVu Sans Mono',consolas,'Courier New',monospace\">Query call with protocol GRPC search failed with message Received http2 header with status: <span style=\"color: #008080; text-decoration-color: #008080; font-weight: bold\">502</span>.\n",
       "</pre>\n"
      ],
      "text/plain": [
       "Query call with protocol GRPC search failed with message Received http2 header with status: \u001b[1;36m502\u001b[0m.\n"
      ]
     },
     "metadata": {},
     "output_type": "display_data"
    },
    {
     "name": "stderr",
     "output_type": "stream",
     "text": [
      "Queries:  62%|######2   | 62/100 [00:56<00:42,  1.11s/it]\n"
     ]
    },
    {
     "data": {
      "text/html": [
       "<pre style=\"white-space:pre;overflow-x:auto;line-height:normal;font-family:Menlo,'DejaVu Sans Mono',consolas,'Courier New',monospace\">Query call with protocol GRPC search failed with message Received http2 header with status: <span style=\"color: #008080; text-decoration-color: #008080; font-weight: bold\">502</span>.\n",
       "</pre>\n"
      ],
      "text/plain": [
       "Query call with protocol GRPC search failed with message Received http2 header with status: \u001b[1;36m502\u001b[0m.\n"
      ]
     },
     "metadata": {},
     "output_type": "display_data"
    },
    {
     "name": "stderr",
     "output_type": "stream",
     "text": [
      "Queries:  63%|######3   | 63/100 [00:56<00:29,  1.24it/s]\n"
     ]
    },
    {
     "data": {
      "text/html": [
       "<pre style=\"white-space:pre;overflow-x:auto;line-height:normal;font-family:Menlo,'DejaVu Sans Mono',consolas,'Courier New',monospace\">Query call with protocol GRPC search failed with message Received http2 header with status: <span style=\"color: #008080; text-decoration-color: #008080; font-weight: bold\">502</span>.\n",
       "</pre>\n"
      ],
      "text/plain": [
       "Query call with protocol GRPC search failed with message Received http2 header with status: \u001b[1;36m502\u001b[0m.\n"
      ]
     },
     "metadata": {},
     "output_type": "display_data"
    },
    {
     "name": "stderr",
     "output_type": "stream",
     "text": [
      "Queries:  64%|######4   | 64/100 [00:57<00:32,  1.11it/s]\n"
     ]
    },
    {
     "data": {
      "text/html": [
       "<pre style=\"white-space:pre;overflow-x:auto;line-height:normal;font-family:Menlo,'DejaVu Sans Mono',consolas,'Courier New',monospace\">Query call with protocol GRPC search failed with message Received http2 header with status: <span style=\"color: #008080; text-decoration-color: #008080; font-weight: bold\">502</span>.\n",
       "</pre>\n"
      ],
      "text/plain": [
       "Query call with protocol GRPC search failed with message Received http2 header with status: \u001b[1;36m502\u001b[0m.\n"
      ]
     },
     "metadata": {},
     "output_type": "display_data"
    },
    {
     "name": "stderr",
     "output_type": "stream",
     "text": [
      "Queries:  65%|######5   | 65/100 [00:59<00:34,  1.03it/s]\n"
     ]
    },
    {
     "data": {
      "text/html": [
       "<pre style=\"white-space:pre;overflow-x:auto;line-height:normal;font-family:Menlo,'DejaVu Sans Mono',consolas,'Courier New',monospace\">Query call with protocol GRPC search failed with message Received http2 header with status: <span style=\"color: #008080; text-decoration-color: #008080; font-weight: bold\">502</span>.\n",
       "</pre>\n"
      ],
      "text/plain": [
       "Query call with protocol GRPC search failed with message Received http2 header with status: \u001b[1;36m502\u001b[0m.\n"
      ]
     },
     "metadata": {},
     "output_type": "display_data"
    },
    {
     "name": "stderr",
     "output_type": "stream",
     "text": [
      "Queries:  66%|######6   | 66/100 [01:00<00:35,  1.04s/it]\n"
     ]
    },
    {
     "data": {
      "text/html": [
       "<pre style=\"white-space:pre;overflow-x:auto;line-height:normal;font-family:Menlo,'DejaVu Sans Mono',consolas,'Courier New',monospace\">Query call with protocol GRPC search failed with message Received http2 header with status: <span style=\"color: #008080; text-decoration-color: #008080; font-weight: bold\">502</span>.\n",
       "</pre>\n"
      ],
      "text/plain": [
       "Query call with protocol GRPC search failed with message Received http2 header with status: \u001b[1;36m502\u001b[0m.\n"
      ]
     },
     "metadata": {},
     "output_type": "display_data"
    },
    {
     "name": "stderr",
     "output_type": "stream",
     "text": [
      "Queries:  67%|######7   | 67/100 [01:01<00:35,  1.08s/it]\n"
     ]
    },
    {
     "data": {
      "text/html": [
       "<pre style=\"white-space:pre;overflow-x:auto;line-height:normal;font-family:Menlo,'DejaVu Sans Mono',consolas,'Courier New',monospace\">Query call with protocol GRPC search failed with message Received http2 header with status: <span style=\"color: #008080; text-decoration-color: #008080; font-weight: bold\">502</span>.\n",
       "</pre>\n"
      ],
      "text/plain": [
       "Query call with protocol GRPC search failed with message Received http2 header with status: \u001b[1;36m502\u001b[0m.\n"
      ]
     },
     "metadata": {},
     "output_type": "display_data"
    },
    {
     "name": "stderr",
     "output_type": "stream",
     "text": [
      "Queries:  68%|######8   | 68/100 [01:02<00:35,  1.10s/it]\n"
     ]
    },
    {
     "data": {
      "text/html": [
       "<pre style=\"white-space:pre;overflow-x:auto;line-height:normal;font-family:Menlo,'DejaVu Sans Mono',consolas,'Courier New',monospace\">Query call with protocol GRPC search failed with message Received http2 header with status: <span style=\"color: #008080; text-decoration-color: #008080; font-weight: bold\">502</span>.\n",
       "</pre>\n"
      ],
      "text/plain": [
       "Query call with protocol GRPC search failed with message Received http2 header with status: \u001b[1;36m502\u001b[0m.\n"
      ]
     },
     "metadata": {},
     "output_type": "display_data"
    },
    {
     "name": "stderr",
     "output_type": "stream",
     "text": [
      "Queries:  69%|######9   | 69/100 [01:03<00:34,  1.12s/it]\n"
     ]
    },
    {
     "data": {
      "text/html": [
       "<pre style=\"white-space:pre;overflow-x:auto;line-height:normal;font-family:Menlo,'DejaVu Sans Mono',consolas,'Courier New',monospace\">Query call with protocol GRPC search failed with message Received http2 header with status: <span style=\"color: #008080; text-decoration-color: #008080; font-weight: bold\">502</span>.\n",
       "</pre>\n"
      ],
      "text/plain": [
       "Query call with protocol GRPC search failed with message Received http2 header with status: \u001b[1;36m502\u001b[0m.\n"
      ]
     },
     "metadata": {},
     "output_type": "display_data"
    },
    {
     "name": "stderr",
     "output_type": "stream",
     "text": [
      "Queries:  70%|#######   | 70/100 [01:03<00:24,  1.23it/s]\n"
     ]
    },
    {
     "data": {
      "text/html": [
       "<pre style=\"white-space:pre;overflow-x:auto;line-height:normal;font-family:Menlo,'DejaVu Sans Mono',consolas,'Courier New',monospace\">Query call with protocol GRPC search failed with message Received http2 header with status: <span style=\"color: #008080; text-decoration-color: #008080; font-weight: bold\">502</span>.\n",
       "</pre>\n"
      ],
      "text/plain": [
       "Query call with protocol GRPC search failed with message Received http2 header with status: \u001b[1;36m502\u001b[0m.\n"
      ]
     },
     "metadata": {},
     "output_type": "display_data"
    },
    {
     "name": "stderr",
     "output_type": "stream",
     "text": [
      "Queries:  71%|#######1  | 71/100 [01:04<00:26,  1.11it/s]\n"
     ]
    },
    {
     "data": {
      "text/html": [
       "<pre style=\"white-space:pre;overflow-x:auto;line-height:normal;font-family:Menlo,'DejaVu Sans Mono',consolas,'Courier New',monospace\">Query call with protocol GRPC search failed with message Received http2 header with status: <span style=\"color: #008080; text-decoration-color: #008080; font-weight: bold\">502</span>.\n",
       "</pre>\n"
      ],
      "text/plain": [
       "Query call with protocol GRPC search failed with message Received http2 header with status: \u001b[1;36m502\u001b[0m.\n"
      ]
     },
     "metadata": {},
     "output_type": "display_data"
    },
    {
     "name": "stderr",
     "output_type": "stream",
     "text": [
      "Queries:  72%|#######2  | 72/100 [01:06<00:27,  1.02it/s]\n"
     ]
    },
    {
     "data": {
      "text/html": [
       "<pre style=\"white-space:pre;overflow-x:auto;line-height:normal;font-family:Menlo,'DejaVu Sans Mono',consolas,'Courier New',monospace\">Query call with protocol GRPC search failed with message Received http2 header with status: <span style=\"color: #008080; text-decoration-color: #008080; font-weight: bold\">502</span>.\n",
       "</pre>\n"
      ],
      "text/plain": [
       "Query call with protocol GRPC search failed with message Received http2 header with status: \u001b[1;36m502\u001b[0m.\n"
      ]
     },
     "metadata": {},
     "output_type": "display_data"
    },
    {
     "name": "stderr",
     "output_type": "stream",
     "text": [
      "Queries:  73%|#######3  | 73/100 [01:07<00:27,  1.03s/it]\n"
     ]
    },
    {
     "data": {
      "text/html": [
       "<pre style=\"white-space:pre;overflow-x:auto;line-height:normal;font-family:Menlo,'DejaVu Sans Mono',consolas,'Courier New',monospace\">Query call with protocol GRPC search failed with message Received http2 header with status: <span style=\"color: #008080; text-decoration-color: #008080; font-weight: bold\">502</span>.\n",
       "</pre>\n"
      ],
      "text/plain": [
       "Query call with protocol GRPC search failed with message Received http2 header with status: \u001b[1;36m502\u001b[0m.\n"
      ]
     },
     "metadata": {},
     "output_type": "display_data"
    },
    {
     "name": "stderr",
     "output_type": "stream",
     "text": [
      "Queries:  74%|#######4  | 74/100 [01:08<00:27,  1.07s/it]\n"
     ]
    },
    {
     "data": {
      "text/html": [
       "<pre style=\"white-space:pre;overflow-x:auto;line-height:normal;font-family:Menlo,'DejaVu Sans Mono',consolas,'Courier New',monospace\">Query call with protocol GRPC search failed with message Received http2 header with status: <span style=\"color: #008080; text-decoration-color: #008080; font-weight: bold\">502</span>.\n",
       "</pre>\n"
      ],
      "text/plain": [
       "Query call with protocol GRPC search failed with message Received http2 header with status: \u001b[1;36m502\u001b[0m.\n"
      ]
     },
     "metadata": {},
     "output_type": "display_data"
    },
    {
     "name": "stderr",
     "output_type": "stream",
     "text": [
      "Queries:  75%|#######5  | 75/100 [01:09<00:27,  1.09s/it]\n"
     ]
    },
    {
     "data": {
      "text/html": [
       "<pre style=\"white-space:pre;overflow-x:auto;line-height:normal;font-family:Menlo,'DejaVu Sans Mono',consolas,'Courier New',monospace\">Query call with protocol GRPC search failed with message Received http2 header with status: <span style=\"color: #008080; text-decoration-color: #008080; font-weight: bold\">502</span>.\n",
       "</pre>\n"
      ],
      "text/plain": [
       "Query call with protocol GRPC search failed with message Received http2 header with status: \u001b[1;36m502\u001b[0m.\n"
      ]
     },
     "metadata": {},
     "output_type": "display_data"
    },
    {
     "name": "stderr",
     "output_type": "stream",
     "text": [
      "Queries:  76%|#######6  | 76/100 [01:10<00:21,  1.11it/s]\n"
     ]
    },
    {
     "data": {
      "text/html": [
       "<pre style=\"white-space:pre;overflow-x:auto;line-height:normal;font-family:Menlo,'DejaVu Sans Mono',consolas,'Courier New',monospace\">Query call with protocol GRPC search failed with message Received http2 header with status: <span style=\"color: #008080; text-decoration-color: #008080; font-weight: bold\">502</span>.\n",
       "</pre>\n"
      ],
      "text/plain": [
       "Query call with protocol GRPC search failed with message Received http2 header with status: \u001b[1;36m502\u001b[0m.\n"
      ]
     },
     "metadata": {},
     "output_type": "display_data"
    },
    {
     "name": "stderr",
     "output_type": "stream",
     "text": [
      "Queries:  77%|#######7  | 77/100 [01:11<00:22,  1.03it/s]\n"
     ]
    },
    {
     "data": {
      "text/html": [
       "<pre style=\"white-space:pre;overflow-x:auto;line-height:normal;font-family:Menlo,'DejaVu Sans Mono',consolas,'Courier New',monospace\">Query call with protocol GRPC search failed with message Received http2 header with status: <span style=\"color: #008080; text-decoration-color: #008080; font-weight: bold\">502</span>.\n",
       "</pre>\n"
      ],
      "text/plain": [
       "Query call with protocol GRPC search failed with message Received http2 header with status: \u001b[1;36m502\u001b[0m.\n"
      ]
     },
     "metadata": {},
     "output_type": "display_data"
    },
    {
     "name": "stderr",
     "output_type": "stream",
     "text": [
      "Queries:  78%|#######8  | 78/100 [01:12<00:22,  1.03s/it]\n"
     ]
    },
    {
     "data": {
      "text/html": [
       "<pre style=\"white-space:pre;overflow-x:auto;line-height:normal;font-family:Menlo,'DejaVu Sans Mono',consolas,'Courier New',monospace\">Query call with protocol GRPC search failed with message Received http2 header with status: <span style=\"color: #008080; text-decoration-color: #008080; font-weight: bold\">502</span>.\n",
       "</pre>\n"
      ],
      "text/plain": [
       "Query call with protocol GRPC search failed with message Received http2 header with status: \u001b[1;36m502\u001b[0m.\n"
      ]
     },
     "metadata": {},
     "output_type": "display_data"
    },
    {
     "name": "stderr",
     "output_type": "stream",
     "text": [
      "Queries:  79%|#######9  | 79/100 [01:13<00:22,  1.06s/it]\n"
     ]
    },
    {
     "data": {
      "text/html": [
       "<pre style=\"white-space:pre;overflow-x:auto;line-height:normal;font-family:Menlo,'DejaVu Sans Mono',consolas,'Courier New',monospace\">Query call with protocol GRPC search failed with message Received http2 header with status: <span style=\"color: #008080; text-decoration-color: #008080; font-weight: bold\">502</span>.\n",
       "</pre>\n"
      ],
      "text/plain": [
       "Query call with protocol GRPC search failed with message Received http2 header with status: \u001b[1;36m502\u001b[0m.\n"
      ]
     },
     "metadata": {},
     "output_type": "display_data"
    },
    {
     "name": "stderr",
     "output_type": "stream",
     "text": [
      "Queries:  80%|########  | 80/100 [01:14<00:21,  1.09s/it]\n"
     ]
    },
    {
     "data": {
      "text/html": [
       "<pre style=\"white-space:pre;overflow-x:auto;line-height:normal;font-family:Menlo,'DejaVu Sans Mono',consolas,'Courier New',monospace\">Query call with protocol GRPC search failed with message Received http2 header with status: <span style=\"color: #008080; text-decoration-color: #008080; font-weight: bold\">502</span>.\n",
       "</pre>\n"
      ],
      "text/plain": [
       "Query call with protocol GRPC search failed with message Received http2 header with status: \u001b[1;36m502\u001b[0m.\n"
      ]
     },
     "metadata": {},
     "output_type": "display_data"
    },
    {
     "name": "stderr",
     "output_type": "stream",
     "text": [
      "Queries:  81%|########1 | 81/100 [01:15<00:21,  1.11s/it]\n"
     ]
    },
    {
     "data": {
      "text/html": [
       "<pre style=\"white-space:pre;overflow-x:auto;line-height:normal;font-family:Menlo,'DejaVu Sans Mono',consolas,'Courier New',monospace\">Query call with protocol GRPC search failed with message Received http2 header with status: <span style=\"color: #008080; text-decoration-color: #008080; font-weight: bold\">502</span>.\n",
       "</pre>\n"
      ],
      "text/plain": [
       "Query call with protocol GRPC search failed with message Received http2 header with status: \u001b[1;36m502\u001b[0m.\n"
      ]
     },
     "metadata": {},
     "output_type": "display_data"
    },
    {
     "name": "stderr",
     "output_type": "stream",
     "text": [
      "Queries:  82%|########2 | 82/100 [01:15<00:14,  1.24it/s]\n"
     ]
    },
    {
     "data": {
      "text/html": [
       "<pre style=\"white-space:pre;overflow-x:auto;line-height:normal;font-family:Menlo,'DejaVu Sans Mono',consolas,'Courier New',monospace\">Query call with protocol GRPC search failed with message Received http2 header with status: <span style=\"color: #008080; text-decoration-color: #008080; font-weight: bold\">502</span>.\n",
       "</pre>\n"
      ],
      "text/plain": [
       "Query call with protocol GRPC search failed with message Received http2 header with status: \u001b[1;36m502\u001b[0m.\n"
      ]
     },
     "metadata": {},
     "output_type": "display_data"
    },
    {
     "name": "stderr",
     "output_type": "stream",
     "text": [
      "Queries:  83%|########2 | 83/100 [01:17<00:15,  1.11it/s]\n"
     ]
    },
    {
     "data": {
      "text/html": [
       "<pre style=\"white-space:pre;overflow-x:auto;line-height:normal;font-family:Menlo,'DejaVu Sans Mono',consolas,'Courier New',monospace\">Query call with protocol GRPC search failed with message Received http2 header with status: <span style=\"color: #008080; text-decoration-color: #008080; font-weight: bold\">502</span>.\n",
       "</pre>\n"
      ],
      "text/plain": [
       "Query call with protocol GRPC search failed with message Received http2 header with status: \u001b[1;36m502\u001b[0m.\n"
      ]
     },
     "metadata": {},
     "output_type": "display_data"
    },
    {
     "name": "stderr",
     "output_type": "stream",
     "text": [
      "Queries:  84%|########4 | 84/100 [01:18<00:15,  1.03it/s]\n"
     ]
    },
    {
     "data": {
      "text/html": [
       "<pre style=\"white-space:pre;overflow-x:auto;line-height:normal;font-family:Menlo,'DejaVu Sans Mono',consolas,'Courier New',monospace\">Query call with protocol GRPC search failed with message Received http2 header with status: <span style=\"color: #008080; text-decoration-color: #008080; font-weight: bold\">502</span>.\n",
       "</pre>\n"
      ],
      "text/plain": [
       "Query call with protocol GRPC search failed with message Received http2 header with status: \u001b[1;36m502\u001b[0m.\n"
      ]
     },
     "metadata": {},
     "output_type": "display_data"
    },
    {
     "name": "stderr",
     "output_type": "stream",
     "text": [
      "Queries:  85%|########5 | 85/100 [01:19<00:15,  1.03s/it]\n"
     ]
    },
    {
     "data": {
      "text/html": [
       "<pre style=\"white-space:pre;overflow-x:auto;line-height:normal;font-family:Menlo,'DejaVu Sans Mono',consolas,'Courier New',monospace\">Query call with protocol GRPC search failed with message Received http2 header with status: <span style=\"color: #008080; text-decoration-color: #008080; font-weight: bold\">502</span>.\n",
       "</pre>\n"
      ],
      "text/plain": [
       "Query call with protocol GRPC search failed with message Received http2 header with status: \u001b[1;36m502\u001b[0m.\n"
      ]
     },
     "metadata": {},
     "output_type": "display_data"
    },
    {
     "name": "stderr",
     "output_type": "stream",
     "text": [
      "Queries:  86%|########6 | 86/100 [01:20<00:14,  1.07s/it]\n"
     ]
    },
    {
     "data": {
      "text/html": [
       "<pre style=\"white-space:pre;overflow-x:auto;line-height:normal;font-family:Menlo,'DejaVu Sans Mono',consolas,'Courier New',monospace\">Query call with protocol GRPC search failed with message Received http2 header with status: <span style=\"color: #008080; text-decoration-color: #008080; font-weight: bold\">502</span>.\n",
       "</pre>\n"
      ],
      "text/plain": [
       "Query call with protocol GRPC search failed with message Received http2 header with status: \u001b[1;36m502\u001b[0m.\n"
      ]
     },
     "metadata": {},
     "output_type": "display_data"
    },
    {
     "name": "stderr",
     "output_type": "stream",
     "text": [
      "Queries:  87%|########7 | 87/100 [01:21<00:14,  1.09s/it]\n"
     ]
    },
    {
     "data": {
      "text/html": [
       "<pre style=\"white-space:pre;overflow-x:auto;line-height:normal;font-family:Menlo,'DejaVu Sans Mono',consolas,'Courier New',monospace\">Query call with protocol GRPC search failed with message Received http2 header with status: <span style=\"color: #008080; text-decoration-color: #008080; font-weight: bold\">502</span>.\n",
       "</pre>\n"
      ],
      "text/plain": [
       "Query call with protocol GRPC search failed with message Received http2 header with status: \u001b[1;36m502\u001b[0m.\n"
      ]
     },
     "metadata": {},
     "output_type": "display_data"
    },
    {
     "name": "stderr",
     "output_type": "stream",
     "text": [
      "Queries:  88%|########8 | 88/100 [01:22<00:13,  1.11s/it]\n"
     ]
    },
    {
     "data": {
      "text/html": [
       "<pre style=\"white-space:pre;overflow-x:auto;line-height:normal;font-family:Menlo,'DejaVu Sans Mono',consolas,'Courier New',monospace\">Query call with protocol GRPC search failed with message Received http2 header with status: <span style=\"color: #008080; text-decoration-color: #008080; font-weight: bold\">502</span>.\n",
       "</pre>\n"
      ],
      "text/plain": [
       "Query call with protocol GRPC search failed with message Received http2 header with status: \u001b[1;36m502\u001b[0m.\n"
      ]
     },
     "metadata": {},
     "output_type": "display_data"
    },
    {
     "name": "stderr",
     "output_type": "stream",
     "text": [
      "Queries:  89%|########9 | 89/100 [01:22<00:08,  1.24it/s]\n"
     ]
    },
    {
     "data": {
      "text/html": [
       "<pre style=\"white-space:pre;overflow-x:auto;line-height:normal;font-family:Menlo,'DejaVu Sans Mono',consolas,'Courier New',monospace\">Query call with protocol GRPC search failed with message Received http2 header with status: <span style=\"color: #008080; text-decoration-color: #008080; font-weight: bold\">502</span>.\n",
       "</pre>\n"
      ],
      "text/plain": [
       "Query call with protocol GRPC search failed with message Received http2 header with status: \u001b[1;36m502\u001b[0m.\n"
      ]
     },
     "metadata": {},
     "output_type": "display_data"
    },
    {
     "name": "stderr",
     "output_type": "stream",
     "text": [
      "Queries:  90%|######### | 90/100 [01:24<00:08,  1.11it/s]\n"
     ]
    },
    {
     "data": {
      "text/html": [
       "<pre style=\"white-space:pre;overflow-x:auto;line-height:normal;font-family:Menlo,'DejaVu Sans Mono',consolas,'Courier New',monospace\">Query call with protocol GRPC search failed with message Received http2 header with status: <span style=\"color: #008080; text-decoration-color: #008080; font-weight: bold\">502</span>.\n",
       "</pre>\n"
      ],
      "text/plain": [
       "Query call with protocol GRPC search failed with message Received http2 header with status: \u001b[1;36m502\u001b[0m.\n"
      ]
     },
     "metadata": {},
     "output_type": "display_data"
    },
    {
     "name": "stderr",
     "output_type": "stream",
     "text": [
      "Queries:  91%|#########1| 91/100 [01:25<00:08,  1.03it/s]\n"
     ]
    },
    {
     "data": {
      "text/html": [
       "<pre style=\"white-space:pre;overflow-x:auto;line-height:normal;font-family:Menlo,'DejaVu Sans Mono',consolas,'Courier New',monospace\">Query call with protocol GRPC search failed with message Received http2 header with status: <span style=\"color: #008080; text-decoration-color: #008080; font-weight: bold\">502</span>.\n",
       "</pre>\n"
      ],
      "text/plain": [
       "Query call with protocol GRPC search failed with message Received http2 header with status: \u001b[1;36m502\u001b[0m.\n"
      ]
     },
     "metadata": {},
     "output_type": "display_data"
    },
    {
     "name": "stderr",
     "output_type": "stream",
     "text": [
      "Queries:  92%|#########2| 92/100 [01:26<00:08,  1.03s/it]\n"
     ]
    },
    {
     "data": {
      "text/html": [
       "<pre style=\"white-space:pre;overflow-x:auto;line-height:normal;font-family:Menlo,'DejaVu Sans Mono',consolas,'Courier New',monospace\">Query call with protocol GRPC search failed with message Received http2 header with status: <span style=\"color: #008080; text-decoration-color: #008080; font-weight: bold\">502</span>.\n",
       "</pre>\n"
      ],
      "text/plain": [
       "Query call with protocol GRPC search failed with message Received http2 header with status: \u001b[1;36m502\u001b[0m.\n"
      ]
     },
     "metadata": {},
     "output_type": "display_data"
    },
    {
     "name": "stderr",
     "output_type": "stream",
     "text": [
      "Queries:  93%|#########3| 93/100 [01:27<00:07,  1.07s/it]\n"
     ]
    },
    {
     "data": {
      "text/html": [
       "<pre style=\"white-space:pre;overflow-x:auto;line-height:normal;font-family:Menlo,'DejaVu Sans Mono',consolas,'Courier New',monospace\">Query call with protocol GRPC search failed with message Received http2 header with status: <span style=\"color: #008080; text-decoration-color: #008080; font-weight: bold\">502</span>.\n",
       "</pre>\n"
      ],
      "text/plain": [
       "Query call with protocol GRPC search failed with message Received http2 header with status: \u001b[1;36m502\u001b[0m.\n"
      ]
     },
     "metadata": {},
     "output_type": "display_data"
    },
    {
     "name": "stderr",
     "output_type": "stream",
     "text": [
      "Queries:  94%|#########3| 94/100 [01:28<00:06,  1.09s/it]\n"
     ]
    },
    {
     "data": {
      "text/html": [
       "<pre style=\"white-space:pre;overflow-x:auto;line-height:normal;font-family:Menlo,'DejaVu Sans Mono',consolas,'Courier New',monospace\">Query call with protocol GRPC search failed with message Received http2 header with status: <span style=\"color: #008080; text-decoration-color: #008080; font-weight: bold\">502</span>.\n",
       "</pre>\n"
      ],
      "text/plain": [
       "Query call with protocol GRPC search failed with message Received http2 header with status: \u001b[1;36m502\u001b[0m.\n"
      ]
     },
     "metadata": {},
     "output_type": "display_data"
    },
    {
     "name": "stderr",
     "output_type": "stream",
     "text": [
      "Queries:  95%|#########5| 95/100 [01:29<00:05,  1.11s/it]\n"
     ]
    },
    {
     "data": {
      "text/html": [
       "<pre style=\"white-space:pre;overflow-x:auto;line-height:normal;font-family:Menlo,'DejaVu Sans Mono',consolas,'Courier New',monospace\">Query call with protocol GRPC search failed with message Received http2 header with status: <span style=\"color: #008080; text-decoration-color: #008080; font-weight: bold\">502</span>.\n",
       "</pre>\n"
      ],
      "text/plain": [
       "Query call with protocol GRPC search failed with message Received http2 header with status: \u001b[1;36m502\u001b[0m.\n"
      ]
     },
     "metadata": {},
     "output_type": "display_data"
    },
    {
     "name": "stderr",
     "output_type": "stream",
     "text": [
      "Queries:  96%|#########6| 96/100 [01:29<00:03,  1.24it/s]\n"
     ]
    },
    {
     "data": {
      "text/html": [
       "<pre style=\"white-space:pre;overflow-x:auto;line-height:normal;font-family:Menlo,'DejaVu Sans Mono',consolas,'Courier New',monospace\">Query call with protocol GRPC search failed with message Received http2 header with status: <span style=\"color: #008080; text-decoration-color: #008080; font-weight: bold\">502</span>.\n",
       "</pre>\n"
      ],
      "text/plain": [
       "Query call with protocol GRPC search failed with message Received http2 header with status: \u001b[1;36m502\u001b[0m.\n"
      ]
     },
     "metadata": {},
     "output_type": "display_data"
    },
    {
     "name": "stderr",
     "output_type": "stream",
     "text": [
      "Queries:  97%|#########7| 97/100 [01:30<00:02,  1.11it/s]\n"
     ]
    },
    {
     "data": {
      "text/html": [
       "<pre style=\"white-space:pre;overflow-x:auto;line-height:normal;font-family:Menlo,'DejaVu Sans Mono',consolas,'Courier New',monospace\">Query call with protocol GRPC search failed with message Received http2 header with status: <span style=\"color: #008080; text-decoration-color: #008080; font-weight: bold\">502</span>.\n",
       "</pre>\n"
      ],
      "text/plain": [
       "Query call with protocol GRPC search failed with message Received http2 header with status: \u001b[1;36m502\u001b[0m.\n"
      ]
     },
     "metadata": {},
     "output_type": "display_data"
    },
    {
     "name": "stderr",
     "output_type": "stream",
     "text": [
      "Queries:  98%|#########8| 98/100 [01:32<00:01,  1.03it/s]\n"
     ]
    },
    {
     "data": {
      "text/html": [
       "<pre style=\"white-space:pre;overflow-x:auto;line-height:normal;font-family:Menlo,'DejaVu Sans Mono',consolas,'Courier New',monospace\">Query call with protocol GRPC search failed with message Received http2 header with status: <span style=\"color: #008080; text-decoration-color: #008080; font-weight: bold\">502</span>.\n",
       "</pre>\n"
      ],
      "text/plain": [
       "Query call with protocol GRPC search failed with message Received http2 header with status: \u001b[1;36m502\u001b[0m.\n"
      ]
     },
     "metadata": {},
     "output_type": "display_data"
    },
    {
     "name": "stderr",
     "output_type": "stream",
     "text": [
      "Queries:  99%|#########9| 99/100 [01:33<00:01,  1.03s/it]\n"
     ]
    },
    {
     "data": {
      "text/html": [
       "<pre style=\"white-space:pre;overflow-x:auto;line-height:normal;font-family:Menlo,'DejaVu Sans Mono',consolas,'Courier New',monospace\">Query call with protocol GRPC search failed with message Received http2 header with status: <span style=\"color: #008080; text-decoration-color: #008080; font-weight: bold\">502</span>.\n",
       "</pre>\n"
      ],
      "text/plain": [
       "Query call with protocol GRPC search failed with message Received http2 header with status: \u001b[1;36m502\u001b[0m.\n"
      ]
     },
     "metadata": {},
     "output_type": "display_data"
    },
    {
     "name": "stderr",
     "output_type": "stream",
     "text": [
      "Queries: 100%|##########| 100/100 [01:34<00:00,  1.07s/it]\n",
      "Queries: 100%|##########| 100/100 [01:34<00:00,  1.06it/s]\n"
     ]
    },
    {
     "data": {
      "text/html": [
       "<pre style=\"white-space:pre;overflow-x:auto;line-height:normal;font-family:Menlo,'DejaVu Sans Mono',consolas,'Courier New',monospace\">Total Processing Time: <span style=\"color: #008080; text-decoration-color: #008080; font-weight: bold\">1.57</span> minutes\n",
       "</pre>\n"
      ],
      "text/plain": [
       "Total Processing Time: \u001b[1;36m1.57\u001b[0m minutes\n"
      ]
     },
     "metadata": {},
     "output_type": "display_data"
    },
    {
     "data": {
      "text/html": [
       "<pre style=\"white-space:pre;overflow-x:auto;line-height:normal;font-family:Menlo,'DejaVu Sans Mono',consolas,'Courier New',monospace\"><span style=\"color: #008080; text-decoration-color: #008080; font-weight: bold\">0.0</span> <span style=\"color: #008080; text-decoration-color: #008080; font-weight: bold\">0.6567378964829584</span> <span style=\"color: #008080; text-decoration-color: #008080; font-weight: bold\">512</span> <span style=\"color: #008080; text-decoration-color: #008080; font-weight: bold\">40</span>\n",
       "</pre>\n"
      ],
      "text/plain": [
       "\u001b[1;36m0.0\u001b[0m \u001b[1;36m0.6567378964829584\u001b[0m \u001b[1;36m512\u001b[0m \u001b[1;36m40\u001b[0m\n"
      ]
     },
     "metadata": {},
     "output_type": "display_data"
    },
    {
     "name": "stdout",
     "output_type": "stream",
     "text": [
      " 72%|███████▏  | 36/50 [5:27:34<57:19, 245.66s/trial, best loss: -0.88]  "
     ]
    },
    {
     "data": {
      "text/html": [
       "<pre style=\"white-space:pre;overflow-x:auto;line-height:normal;font-family:Menlo,'DejaVu Sans Mono',consolas,'Courier New',monospace\"><span style=\"color: #008080; text-decoration-color: #008080; font-weight: bold\">0.5041680785233731</span> <span style=\"color: #008080; text-decoration-color: #008080; font-weight: bold\">512</span> <span style=\"color: #008080; text-decoration-color: #008080; font-weight: bold\">40</span>\n",
       "</pre>\n"
      ],
      "text/plain": [
       "\u001b[1;36m0.5041680785233731\u001b[0m \u001b[1;36m512\u001b[0m \u001b[1;36m40\u001b[0m\n"
      ]
     },
     "metadata": {},
     "output_type": "display_data"
    },
    {
     "name": "stderr",
     "output_type": "stream",
     "text": [
      "Queries:   0%|          | 0/100 [00:00<?, ?it/s]\n"
     ]
    },
    {
     "data": {
      "text/html": [
       "<pre style=\"white-space:pre;overflow-x:auto;line-height:normal;font-family:Menlo,'DejaVu Sans Mono',consolas,'Courier New',monospace\">Query call with protocol GRPC search failed with message Received http2 header with status: <span style=\"color: #008080; text-decoration-color: #008080; font-weight: bold\">502</span>.\n",
       "</pre>\n"
      ],
      "text/plain": [
       "Query call with protocol GRPC search failed with message Received http2 header with status: \u001b[1;36m502\u001b[0m.\n"
      ]
     },
     "metadata": {},
     "output_type": "display_data"
    },
    {
     "name": "stderr",
     "output_type": "stream",
     "text": [
      "Queries:   1%|1         | 1/100 [00:01<01:52,  1.14s/it]\n"
     ]
    },
    {
     "data": {
      "text/html": [
       "<pre style=\"white-space:pre;overflow-x:auto;line-height:normal;font-family:Menlo,'DejaVu Sans Mono',consolas,'Courier New',monospace\">Query call with protocol GRPC search failed with message Received http2 header with status: <span style=\"color: #008080; text-decoration-color: #008080; font-weight: bold\">502</span>.\n",
       "</pre>\n"
      ],
      "text/plain": [
       "Query call with protocol GRPC search failed with message Received http2 header with status: \u001b[1;36m502\u001b[0m.\n"
      ]
     },
     "metadata": {},
     "output_type": "display_data"
    },
    {
     "name": "stderr",
     "output_type": "stream",
     "text": [
      "Queries:   2%|2         | 2/100 [00:02<01:52,  1.15s/it]\n"
     ]
    },
    {
     "data": {
      "text/html": [
       "<pre style=\"white-space:pre;overflow-x:auto;line-height:normal;font-family:Menlo,'DejaVu Sans Mono',consolas,'Courier New',monospace\">Query call with protocol GRPC search failed with message Received http2 header with status: <span style=\"color: #008080; text-decoration-color: #008080; font-weight: bold\">502</span>.\n",
       "</pre>\n"
      ],
      "text/plain": [
       "Query call with protocol GRPC search failed with message Received http2 header with status: \u001b[1;36m502\u001b[0m.\n"
      ]
     },
     "metadata": {},
     "output_type": "display_data"
    },
    {
     "name": "stderr",
     "output_type": "stream",
     "text": [
      "Queries:   3%|3         | 3/100 [00:02<01:05,  1.49it/s]\n"
     ]
    },
    {
     "data": {
      "text/html": [
       "<pre style=\"white-space:pre;overflow-x:auto;line-height:normal;font-family:Menlo,'DejaVu Sans Mono',consolas,'Courier New',monospace\">Query call with protocol GRPC search failed with message Received http2 header with status: <span style=\"color: #008080; text-decoration-color: #008080; font-weight: bold\">502</span>.\n",
       "</pre>\n"
      ],
      "text/plain": [
       "Query call with protocol GRPC search failed with message Received http2 header with status: \u001b[1;36m502\u001b[0m.\n"
      ]
     },
     "metadata": {},
     "output_type": "display_data"
    },
    {
     "name": "stderr",
     "output_type": "stream",
     "text": [
      "Queries:   4%|4         | 4/100 [00:03<01:21,  1.18it/s]\n"
     ]
    },
    {
     "data": {
      "text/html": [
       "<pre style=\"white-space:pre;overflow-x:auto;line-height:normal;font-family:Menlo,'DejaVu Sans Mono',consolas,'Courier New',monospace\">Query call with protocol GRPC search failed with message Received http2 header with status: <span style=\"color: #008080; text-decoration-color: #008080; font-weight: bold\">502</span>.\n",
       "</pre>\n"
      ],
      "text/plain": [
       "Query call with protocol GRPC search failed with message Received http2 header with status: \u001b[1;36m502\u001b[0m.\n"
      ]
     },
     "metadata": {},
     "output_type": "display_data"
    },
    {
     "name": "stderr",
     "output_type": "stream",
     "text": [
      "Queries:   5%|5         | 5/100 [00:04<01:30,  1.05it/s]\n"
     ]
    },
    {
     "data": {
      "text/html": [
       "<pre style=\"white-space:pre;overflow-x:auto;line-height:normal;font-family:Menlo,'DejaVu Sans Mono',consolas,'Courier New',monospace\">Query call with protocol GRPC search failed with message Received http2 header with status: <span style=\"color: #008080; text-decoration-color: #008080; font-weight: bold\">502</span>.\n",
       "</pre>\n"
      ],
      "text/plain": [
       "Query call with protocol GRPC search failed with message Received http2 header with status: \u001b[1;36m502\u001b[0m.\n"
      ]
     },
     "metadata": {},
     "output_type": "display_data"
    },
    {
     "name": "stderr",
     "output_type": "stream",
     "text": [
      "Queries:   6%|6         | 6/100 [00:05<01:36,  1.02s/it]\n"
     ]
    },
    {
     "data": {
      "text/html": [
       "<pre style=\"white-space:pre;overflow-x:auto;line-height:normal;font-family:Menlo,'DejaVu Sans Mono',consolas,'Courier New',monospace\">Query call with protocol GRPC search failed with message Received http2 header with status: <span style=\"color: #008080; text-decoration-color: #008080; font-weight: bold\">502</span>.\n",
       "</pre>\n"
      ],
      "text/plain": [
       "Query call with protocol GRPC search failed with message Received http2 header with status: \u001b[1;36m502\u001b[0m.\n"
      ]
     },
     "metadata": {},
     "output_type": "display_data"
    },
    {
     "name": "stderr",
     "output_type": "stream",
     "text": [
      "Queries:   7%|7         | 7/100 [00:06<01:39,  1.07s/it]\n"
     ]
    },
    {
     "data": {
      "text/html": [
       "<pre style=\"white-space:pre;overflow-x:auto;line-height:normal;font-family:Menlo,'DejaVu Sans Mono',consolas,'Courier New',monospace\">Query call with protocol GRPC search failed with message Received http2 header with status: <span style=\"color: #008080; text-decoration-color: #008080; font-weight: bold\">502</span>.\n",
       "</pre>\n"
      ],
      "text/plain": [
       "Query call with protocol GRPC search failed with message Received http2 header with status: \u001b[1;36m502\u001b[0m.\n"
      ]
     },
     "metadata": {},
     "output_type": "display_data"
    },
    {
     "name": "stderr",
     "output_type": "stream",
     "text": [
      "Queries:   8%|8         | 8/100 [00:08<01:40,  1.09s/it]\n"
     ]
    },
    {
     "data": {
      "text/html": [
       "<pre style=\"white-space:pre;overflow-x:auto;line-height:normal;font-family:Menlo,'DejaVu Sans Mono',consolas,'Courier New',monospace\">Query call with protocol GRPC search failed with message Received http2 header with status: <span style=\"color: #008080; text-decoration-color: #008080; font-weight: bold\">502</span>.\n",
       "</pre>\n"
      ],
      "text/plain": [
       "Query call with protocol GRPC search failed with message Received http2 header with status: \u001b[1;36m502\u001b[0m.\n"
      ]
     },
     "metadata": {},
     "output_type": "display_data"
    },
    {
     "name": "stderr",
     "output_type": "stream",
     "text": [
      "Queries:   9%|9         | 9/100 [00:09<01:41,  1.11s/it]\n"
     ]
    },
    {
     "data": {
      "text/html": [
       "<pre style=\"white-space:pre;overflow-x:auto;line-height:normal;font-family:Menlo,'DejaVu Sans Mono',consolas,'Courier New',monospace\">Query call with protocol GRPC search failed with message Received http2 header with status: <span style=\"color: #008080; text-decoration-color: #008080; font-weight: bold\">502</span>.\n",
       "</pre>\n"
      ],
      "text/plain": [
       "Query call with protocol GRPC search failed with message Received http2 header with status: \u001b[1;36m502\u001b[0m.\n"
      ]
     },
     "metadata": {},
     "output_type": "display_data"
    },
    {
     "name": "stderr",
     "output_type": "stream",
     "text": [
      "Queries:  10%|#         | 10/100 [00:10<01:41,  1.12s/it]\n"
     ]
    },
    {
     "data": {
      "text/html": [
       "<pre style=\"white-space:pre;overflow-x:auto;line-height:normal;font-family:Menlo,'DejaVu Sans Mono',consolas,'Courier New',monospace\">Query call with protocol GRPC search failed with message Received http2 header with status: <span style=\"color: #008080; text-decoration-color: #008080; font-weight: bold\">502</span>.\n",
       "</pre>\n"
      ],
      "text/plain": [
       "Query call with protocol GRPC search failed with message Received http2 header with status: \u001b[1;36m502\u001b[0m.\n"
      ]
     },
     "metadata": {},
     "output_type": "display_data"
    },
    {
     "name": "stderr",
     "output_type": "stream",
     "text": [
      "Queries:  11%|#1        | 11/100 [00:10<01:12,  1.23it/s]\n"
     ]
    },
    {
     "data": {
      "text/html": [
       "<pre style=\"white-space:pre;overflow-x:auto;line-height:normal;font-family:Menlo,'DejaVu Sans Mono',consolas,'Courier New',monospace\">Query call with protocol GRPC search failed with message Received http2 header with status: <span style=\"color: #008080; text-decoration-color: #008080; font-weight: bold\">502</span>.\n",
       "</pre>\n"
      ],
      "text/plain": [
       "Query call with protocol GRPC search failed with message Received http2 header with status: \u001b[1;36m502\u001b[0m.\n"
      ]
     },
     "metadata": {},
     "output_type": "display_data"
    },
    {
     "name": "stderr",
     "output_type": "stream",
     "text": [
      "Queries:  12%|#2        | 12/100 [00:11<01:19,  1.11it/s]\n"
     ]
    },
    {
     "data": {
      "text/html": [
       "<pre style=\"white-space:pre;overflow-x:auto;line-height:normal;font-family:Menlo,'DejaVu Sans Mono',consolas,'Courier New',monospace\">Query call with protocol GRPC search failed with message Received http2 header with status: <span style=\"color: #008080; text-decoration-color: #008080; font-weight: bold\">502</span>.\n",
       "</pre>\n"
      ],
      "text/plain": [
       "Query call with protocol GRPC search failed with message Received http2 header with status: \u001b[1;36m502\u001b[0m.\n"
      ]
     },
     "metadata": {},
     "output_type": "display_data"
    },
    {
     "name": "stderr",
     "output_type": "stream",
     "text": [
      "Queries:  13%|#3        | 13/100 [00:12<01:25,  1.02it/s]\n"
     ]
    },
    {
     "data": {
      "text/html": [
       "<pre style=\"white-space:pre;overflow-x:auto;line-height:normal;font-family:Menlo,'DejaVu Sans Mono',consolas,'Courier New',monospace\">Query call with protocol GRPC search failed with message Received http2 header with status: <span style=\"color: #008080; text-decoration-color: #008080; font-weight: bold\">502</span>.\n",
       "</pre>\n"
      ],
      "text/plain": [
       "Query call with protocol GRPC search failed with message Received http2 header with status: \u001b[1;36m502\u001b[0m.\n"
      ]
     },
     "metadata": {},
     "output_type": "display_data"
    },
    {
     "name": "stderr",
     "output_type": "stream",
     "text": [
      "Queries:  14%|#4        | 14/100 [00:13<01:28,  1.03s/it]\n"
     ]
    },
    {
     "data": {
      "text/html": [
       "<pre style=\"white-space:pre;overflow-x:auto;line-height:normal;font-family:Menlo,'DejaVu Sans Mono',consolas,'Courier New',monospace\">Query call with protocol GRPC search failed with message Received http2 header with status: <span style=\"color: #008080; text-decoration-color: #008080; font-weight: bold\">502</span>.\n",
       "</pre>\n"
      ],
      "text/plain": [
       "Query call with protocol GRPC search failed with message Received http2 header with status: \u001b[1;36m502\u001b[0m.\n"
      ]
     },
     "metadata": {},
     "output_type": "display_data"
    },
    {
     "name": "stderr",
     "output_type": "stream",
     "text": [
      "Queries:  15%|#5        | 15/100 [00:15<01:30,  1.07s/it]\n"
     ]
    },
    {
     "data": {
      "text/html": [
       "<pre style=\"white-space:pre;overflow-x:auto;line-height:normal;font-family:Menlo,'DejaVu Sans Mono',consolas,'Courier New',monospace\">Query call with protocol GRPC search failed with message Received http2 header with status: <span style=\"color: #008080; text-decoration-color: #008080; font-weight: bold\">502</span>.\n",
       "</pre>\n"
      ],
      "text/plain": [
       "Query call with protocol GRPC search failed with message Received http2 header with status: \u001b[1;36m502\u001b[0m.\n"
      ]
     },
     "metadata": {},
     "output_type": "display_data"
    },
    {
     "name": "stderr",
     "output_type": "stream",
     "text": [
      "Queries:  16%|#6        | 16/100 [00:16<01:31,  1.09s/it]\n"
     ]
    },
    {
     "data": {
      "text/html": [
       "<pre style=\"white-space:pre;overflow-x:auto;line-height:normal;font-family:Menlo,'DejaVu Sans Mono',consolas,'Courier New',monospace\">Query call with protocol GRPC search failed with message Received http2 header with status: <span style=\"color: #008080; text-decoration-color: #008080; font-weight: bold\">502</span>.\n",
       "</pre>\n"
      ],
      "text/plain": [
       "Query call with protocol GRPC search failed with message Received http2 header with status: \u001b[1;36m502\u001b[0m.\n"
      ]
     },
     "metadata": {},
     "output_type": "display_data"
    },
    {
     "name": "stderr",
     "output_type": "stream",
     "text": [
      "Queries:  17%|#7        | 17/100 [00:17<01:32,  1.11s/it]\n"
     ]
    },
    {
     "data": {
      "text/html": [
       "<pre style=\"white-space:pre;overflow-x:auto;line-height:normal;font-family:Menlo,'DejaVu Sans Mono',consolas,'Courier New',monospace\">Query call with protocol GRPC search failed with message Received http2 header with status: <span style=\"color: #008080; text-decoration-color: #008080; font-weight: bold\">502</span>.\n",
       "</pre>\n"
      ],
      "text/plain": [
       "Query call with protocol GRPC search failed with message Received http2 header with status: \u001b[1;36m502\u001b[0m.\n"
      ]
     },
     "metadata": {},
     "output_type": "display_data"
    },
    {
     "name": "stderr",
     "output_type": "stream",
     "text": [
      "Queries:  18%|#8        | 18/100 [00:17<01:06,  1.24it/s]\n"
     ]
    },
    {
     "data": {
      "text/html": [
       "<pre style=\"white-space:pre;overflow-x:auto;line-height:normal;font-family:Menlo,'DejaVu Sans Mono',consolas,'Courier New',monospace\">Query call with protocol GRPC search failed with message Received http2 header with status: <span style=\"color: #008080; text-decoration-color: #008080; font-weight: bold\">502</span>.\n",
       "</pre>\n"
      ],
      "text/plain": [
       "Query call with protocol GRPC search failed with message Received http2 header with status: \u001b[1;36m502\u001b[0m.\n"
      ]
     },
     "metadata": {},
     "output_type": "display_data"
    },
    {
     "name": "stderr",
     "output_type": "stream",
     "text": [
      "Queries:  19%|#9        | 19/100 [00:18<01:12,  1.11it/s]\n"
     ]
    },
    {
     "data": {
      "text/html": [
       "<pre style=\"white-space:pre;overflow-x:auto;line-height:normal;font-family:Menlo,'DejaVu Sans Mono',consolas,'Courier New',monospace\">Query call with protocol GRPC search failed with message Received http2 header with status: <span style=\"color: #008080; text-decoration-color: #008080; font-weight: bold\">502</span>.\n",
       "</pre>\n"
      ],
      "text/plain": [
       "Query call with protocol GRPC search failed with message Received http2 header with status: \u001b[1;36m502\u001b[0m.\n"
      ]
     },
     "metadata": {},
     "output_type": "display_data"
    },
    {
     "name": "stderr",
     "output_type": "stream",
     "text": [
      "Queries:  20%|##        | 20/100 [00:19<01:18,  1.03it/s]\n"
     ]
    },
    {
     "data": {
      "text/html": [
       "<pre style=\"white-space:pre;overflow-x:auto;line-height:normal;font-family:Menlo,'DejaVu Sans Mono',consolas,'Courier New',monospace\">Query call with protocol GRPC search failed with message Received http2 header with status: <span style=\"color: #008080; text-decoration-color: #008080; font-weight: bold\">502</span>.\n",
       "</pre>\n"
      ],
      "text/plain": [
       "Query call with protocol GRPC search failed with message Received http2 header with status: \u001b[1;36m502\u001b[0m.\n"
      ]
     },
     "metadata": {},
     "output_type": "display_data"
    },
    {
     "name": "stderr",
     "output_type": "stream",
     "text": [
      "Queries:  21%|##1       | 21/100 [00:20<01:21,  1.03s/it]\n"
     ]
    },
    {
     "data": {
      "text/html": [
       "<pre style=\"white-space:pre;overflow-x:auto;line-height:normal;font-family:Menlo,'DejaVu Sans Mono',consolas,'Courier New',monospace\">Query call with protocol GRPC search failed with message Received http2 header with status: <span style=\"color: #008080; text-decoration-color: #008080; font-weight: bold\">502</span>.\n",
       "</pre>\n"
      ],
      "text/plain": [
       "Query call with protocol GRPC search failed with message Received http2 header with status: \u001b[1;36m502\u001b[0m.\n"
      ]
     },
     "metadata": {},
     "output_type": "display_data"
    },
    {
     "name": "stderr",
     "output_type": "stream",
     "text": [
      "Queries:  22%|##2       | 22/100 [00:22<01:23,  1.07s/it]\n"
     ]
    },
    {
     "data": {
      "text/html": [
       "<pre style=\"white-space:pre;overflow-x:auto;line-height:normal;font-family:Menlo,'DejaVu Sans Mono',consolas,'Courier New',monospace\">Query call with protocol GRPC search failed with message Received http2 header with status: <span style=\"color: #008080; text-decoration-color: #008080; font-weight: bold\">502</span>.\n",
       "</pre>\n"
      ],
      "text/plain": [
       "Query call with protocol GRPC search failed with message Received http2 header with status: \u001b[1;36m502\u001b[0m.\n"
      ]
     },
     "metadata": {},
     "output_type": "display_data"
    },
    {
     "name": "stderr",
     "output_type": "stream",
     "text": [
      "Queries:  23%|##3       | 23/100 [00:23<01:24,  1.09s/it]\n"
     ]
    },
    {
     "data": {
      "text/html": [
       "<pre style=\"white-space:pre;overflow-x:auto;line-height:normal;font-family:Menlo,'DejaVu Sans Mono',consolas,'Courier New',monospace\">Query call with protocol GRPC search failed with message Received http2 header with status: <span style=\"color: #008080; text-decoration-color: #008080; font-weight: bold\">502</span>.\n",
       "</pre>\n"
      ],
      "text/plain": [
       "Query call with protocol GRPC search failed with message Received http2 header with status: \u001b[1;36m502\u001b[0m.\n"
      ]
     },
     "metadata": {},
     "output_type": "display_data"
    },
    {
     "name": "stderr",
     "output_type": "stream",
     "text": [
      "Queries:  24%|##4       | 24/100 [00:24<01:24,  1.11s/it]\n"
     ]
    },
    {
     "data": {
      "text/html": [
       "<pre style=\"white-space:pre;overflow-x:auto;line-height:normal;font-family:Menlo,'DejaVu Sans Mono',consolas,'Courier New',monospace\">Query call with protocol GRPC search failed with message Received http2 header with status: <span style=\"color: #008080; text-decoration-color: #008080; font-weight: bold\">502</span>.\n",
       "</pre>\n"
      ],
      "text/plain": [
       "Query call with protocol GRPC search failed with message Received http2 header with status: \u001b[1;36m502\u001b[0m.\n"
      ]
     },
     "metadata": {},
     "output_type": "display_data"
    },
    {
     "name": "stderr",
     "output_type": "stream",
     "text": [
      "Queries:  25%|##5       | 25/100 [00:24<01:00,  1.24it/s]\n"
     ]
    },
    {
     "data": {
      "text/html": [
       "<pre style=\"white-space:pre;overflow-x:auto;line-height:normal;font-family:Menlo,'DejaVu Sans Mono',consolas,'Courier New',monospace\">Query call with protocol GRPC search failed with message Received http2 header with status: <span style=\"color: #008080; text-decoration-color: #008080; font-weight: bold\">502</span>.\n",
       "</pre>\n"
      ],
      "text/plain": [
       "Query call with protocol GRPC search failed with message Received http2 header with status: \u001b[1;36m502\u001b[0m.\n"
      ]
     },
     "metadata": {},
     "output_type": "display_data"
    },
    {
     "name": "stderr",
     "output_type": "stream",
     "text": [
      "Queries:  26%|##6       | 26/100 [00:25<01:06,  1.11it/s]\n"
     ]
    },
    {
     "data": {
      "text/html": [
       "<pre style=\"white-space:pre;overflow-x:auto;line-height:normal;font-family:Menlo,'DejaVu Sans Mono',consolas,'Courier New',monospace\">Query call with protocol GRPC search failed with message Received http2 header with status: <span style=\"color: #008080; text-decoration-color: #008080; font-weight: bold\">502</span>.\n",
       "</pre>\n"
      ],
      "text/plain": [
       "Query call with protocol GRPC search failed with message Received http2 header with status: \u001b[1;36m502\u001b[0m.\n"
      ]
     },
     "metadata": {},
     "output_type": "display_data"
    },
    {
     "name": "stderr",
     "output_type": "stream",
     "text": [
      "Queries:  27%|##7       | 27/100 [00:26<01:11,  1.03it/s]\n"
     ]
    },
    {
     "data": {
      "text/html": [
       "<pre style=\"white-space:pre;overflow-x:auto;line-height:normal;font-family:Menlo,'DejaVu Sans Mono',consolas,'Courier New',monospace\">Query call with protocol GRPC search failed with message Received http2 header with status: <span style=\"color: #008080; text-decoration-color: #008080; font-weight: bold\">502</span>.\n",
       "</pre>\n"
      ],
      "text/plain": [
       "Query call with protocol GRPC search failed with message Received http2 header with status: \u001b[1;36m502\u001b[0m.\n"
      ]
     },
     "metadata": {},
     "output_type": "display_data"
    },
    {
     "name": "stderr",
     "output_type": "stream",
     "text": [
      "Queries:  28%|##8       | 28/100 [00:27<01:14,  1.03s/it]\n"
     ]
    },
    {
     "data": {
      "text/html": [
       "<pre style=\"white-space:pre;overflow-x:auto;line-height:normal;font-family:Menlo,'DejaVu Sans Mono',consolas,'Courier New',monospace\">Query call with protocol GRPC search failed with message Received http2 header with status: <span style=\"color: #008080; text-decoration-color: #008080; font-weight: bold\">502</span>.\n",
       "</pre>\n"
      ],
      "text/plain": [
       "Query call with protocol GRPC search failed with message Received http2 header with status: \u001b[1;36m502\u001b[0m.\n"
      ]
     },
     "metadata": {},
     "output_type": "display_data"
    },
    {
     "name": "stderr",
     "output_type": "stream",
     "text": [
      "Queries:  29%|##9       | 29/100 [00:29<01:15,  1.07s/it]\n"
     ]
    },
    {
     "data": {
      "text/html": [
       "<pre style=\"white-space:pre;overflow-x:auto;line-height:normal;font-family:Menlo,'DejaVu Sans Mono',consolas,'Courier New',monospace\">Query call with protocol GRPC search failed with message Received http2 header with status: <span style=\"color: #008080; text-decoration-color: #008080; font-weight: bold\">502</span>.\n",
       "</pre>\n"
      ],
      "text/plain": [
       "Query call with protocol GRPC search failed with message Received http2 header with status: \u001b[1;36m502\u001b[0m.\n"
      ]
     },
     "metadata": {},
     "output_type": "display_data"
    },
    {
     "name": "stderr",
     "output_type": "stream",
     "text": [
      "Queries:  30%|###       | 30/100 [00:30<01:16,  1.09s/it]\n"
     ]
    },
    {
     "data": {
      "text/html": [
       "<pre style=\"white-space:pre;overflow-x:auto;line-height:normal;font-family:Menlo,'DejaVu Sans Mono',consolas,'Courier New',monospace\">Query call with protocol GRPC search failed with message Received http2 header with status: <span style=\"color: #008080; text-decoration-color: #008080; font-weight: bold\">502</span>.\n",
       "</pre>\n"
      ],
      "text/plain": [
       "Query call with protocol GRPC search failed with message Received http2 header with status: \u001b[1;36m502\u001b[0m.\n"
      ]
     },
     "metadata": {},
     "output_type": "display_data"
    },
    {
     "name": "stderr",
     "output_type": "stream",
     "text": [
      "Queries:  31%|###1      | 31/100 [00:31<01:16,  1.11s/it]\n"
     ]
    },
    {
     "data": {
      "text/html": [
       "<pre style=\"white-space:pre;overflow-x:auto;line-height:normal;font-family:Menlo,'DejaVu Sans Mono',consolas,'Courier New',monospace\">Query call with protocol GRPC search failed with message Received http2 header with status: <span style=\"color: #008080; text-decoration-color: #008080; font-weight: bold\">502</span>.\n",
       "</pre>\n"
      ],
      "text/plain": [
       "Query call with protocol GRPC search failed with message Received http2 header with status: \u001b[1;36m502\u001b[0m.\n"
      ]
     },
     "metadata": {},
     "output_type": "display_data"
    },
    {
     "name": "stderr",
     "output_type": "stream",
     "text": [
      "Queries:  32%|###2      | 32/100 [00:31<00:54,  1.24it/s]\n"
     ]
    },
    {
     "data": {
      "text/html": [
       "<pre style=\"white-space:pre;overflow-x:auto;line-height:normal;font-family:Menlo,'DejaVu Sans Mono',consolas,'Courier New',monospace\">Query call with protocol GRPC search failed with message Received http2 header with status: <span style=\"color: #008080; text-decoration-color: #008080; font-weight: bold\">502</span>.\n",
       "</pre>\n"
      ],
      "text/plain": [
       "Query call with protocol GRPC search failed with message Received http2 header with status: \u001b[1;36m502\u001b[0m.\n"
      ]
     },
     "metadata": {},
     "output_type": "display_data"
    },
    {
     "name": "stderr",
     "output_type": "stream",
     "text": [
      "Queries:  33%|###3      | 33/100 [00:32<01:00,  1.11it/s]\n"
     ]
    },
    {
     "data": {
      "text/html": [
       "<pre style=\"white-space:pre;overflow-x:auto;line-height:normal;font-family:Menlo,'DejaVu Sans Mono',consolas,'Courier New',monospace\">Query call with protocol GRPC search failed with message Received http2 header with status: <span style=\"color: #008080; text-decoration-color: #008080; font-weight: bold\">502</span>.\n",
       "</pre>\n"
      ],
      "text/plain": [
       "Query call with protocol GRPC search failed with message Received http2 header with status: \u001b[1;36m502\u001b[0m.\n"
      ]
     },
     "metadata": {},
     "output_type": "display_data"
    },
    {
     "name": "stderr",
     "output_type": "stream",
     "text": [
      "Queries:  34%|###4      | 34/100 [00:33<01:04,  1.03it/s]\n"
     ]
    },
    {
     "data": {
      "text/html": [
       "<pre style=\"white-space:pre;overflow-x:auto;line-height:normal;font-family:Menlo,'DejaVu Sans Mono',consolas,'Courier New',monospace\">Query call with protocol GRPC search failed with message Received http2 header with status: <span style=\"color: #008080; text-decoration-color: #008080; font-weight: bold\">502</span>.\n",
       "</pre>\n"
      ],
      "text/plain": [
       "Query call with protocol GRPC search failed with message Received http2 header with status: \u001b[1;36m502\u001b[0m.\n"
      ]
     },
     "metadata": {},
     "output_type": "display_data"
    },
    {
     "name": "stderr",
     "output_type": "stream",
     "text": [
      "Queries:  35%|###5      | 35/100 [00:34<01:06,  1.03s/it]\n"
     ]
    },
    {
     "data": {
      "text/html": [
       "<pre style=\"white-space:pre;overflow-x:auto;line-height:normal;font-family:Menlo,'DejaVu Sans Mono',consolas,'Courier New',monospace\">Query call with protocol GRPC search failed with message Received http2 header with status: <span style=\"color: #008080; text-decoration-color: #008080; font-weight: bold\">502</span>.\n",
       "</pre>\n"
      ],
      "text/plain": [
       "Query call with protocol GRPC search failed with message Received http2 header with status: \u001b[1;36m502\u001b[0m.\n"
      ]
     },
     "metadata": {},
     "output_type": "display_data"
    },
    {
     "name": "stderr",
     "output_type": "stream",
     "text": [
      "Queries:  36%|###6      | 36/100 [00:36<01:08,  1.07s/it]\n"
     ]
    },
    {
     "data": {
      "text/html": [
       "<pre style=\"white-space:pre;overflow-x:auto;line-height:normal;font-family:Menlo,'DejaVu Sans Mono',consolas,'Courier New',monospace\">Query call with protocol GRPC search failed with message Received http2 header with status: <span style=\"color: #008080; text-decoration-color: #008080; font-weight: bold\">502</span>.\n",
       "</pre>\n"
      ],
      "text/plain": [
       "Query call with protocol GRPC search failed with message Received http2 header with status: \u001b[1;36m502\u001b[0m.\n"
      ]
     },
     "metadata": {},
     "output_type": "display_data"
    },
    {
     "name": "stderr",
     "output_type": "stream",
     "text": [
      "Queries:  37%|###7      | 37/100 [00:37<01:08,  1.09s/it]\n"
     ]
    },
    {
     "data": {
      "text/html": [
       "<pre style=\"white-space:pre;overflow-x:auto;line-height:normal;font-family:Menlo,'DejaVu Sans Mono',consolas,'Courier New',monospace\">Query call with protocol GRPC search failed with message Received http2 header with status: <span style=\"color: #008080; text-decoration-color: #008080; font-weight: bold\">502</span>.\n",
       "</pre>\n"
      ],
      "text/plain": [
       "Query call with protocol GRPC search failed with message Received http2 header with status: \u001b[1;36m502\u001b[0m.\n"
      ]
     },
     "metadata": {},
     "output_type": "display_data"
    },
    {
     "name": "stderr",
     "output_type": "stream",
     "text": [
      "Queries:  38%|###8      | 38/100 [00:38<01:08,  1.11s/it]\n"
     ]
    },
    {
     "data": {
      "text/html": [
       "<pre style=\"white-space:pre;overflow-x:auto;line-height:normal;font-family:Menlo,'DejaVu Sans Mono',consolas,'Courier New',monospace\">Query call with protocol GRPC search failed with message Received http2 header with status: <span style=\"color: #008080; text-decoration-color: #008080; font-weight: bold\">502</span>.\n",
       "</pre>\n"
      ],
      "text/plain": [
       "Query call with protocol GRPC search failed with message Received http2 header with status: \u001b[1;36m502\u001b[0m.\n"
      ]
     },
     "metadata": {},
     "output_type": "display_data"
    },
    {
     "name": "stderr",
     "output_type": "stream",
     "text": [
      "Queries:  39%|###9      | 39/100 [00:38<00:49,  1.24it/s]\n"
     ]
    },
    {
     "data": {
      "text/html": [
       "<pre style=\"white-space:pre;overflow-x:auto;line-height:normal;font-family:Menlo,'DejaVu Sans Mono',consolas,'Courier New',monospace\">Query call with protocol GRPC search failed with message Received http2 header with status: <span style=\"color: #008080; text-decoration-color: #008080; font-weight: bold\">502</span>.\n",
       "</pre>\n"
      ],
      "text/plain": [
       "Query call with protocol GRPC search failed with message Received http2 header with status: \u001b[1;36m502\u001b[0m.\n"
      ]
     },
     "metadata": {},
     "output_type": "display_data"
    },
    {
     "name": "stderr",
     "output_type": "stream",
     "text": [
      "Queries:  40%|####      | 40/100 [00:39<00:53,  1.11it/s]\n"
     ]
    },
    {
     "data": {
      "text/html": [
       "<pre style=\"white-space:pre;overflow-x:auto;line-height:normal;font-family:Menlo,'DejaVu Sans Mono',consolas,'Courier New',monospace\">Query call with protocol GRPC search failed with message Received http2 header with status: <span style=\"color: #008080; text-decoration-color: #008080; font-weight: bold\">502</span>.\n",
       "</pre>\n"
      ],
      "text/plain": [
       "Query call with protocol GRPC search failed with message Received http2 header with status: \u001b[1;36m502\u001b[0m.\n"
      ]
     },
     "metadata": {},
     "output_type": "display_data"
    },
    {
     "name": "stderr",
     "output_type": "stream",
     "text": [
      "Queries:  41%|####1     | 41/100 [00:40<00:57,  1.03it/s]\n"
     ]
    },
    {
     "data": {
      "text/html": [
       "<pre style=\"white-space:pre;overflow-x:auto;line-height:normal;font-family:Menlo,'DejaVu Sans Mono',consolas,'Courier New',monospace\">Query call with protocol GRPC search failed with message Received http2 header with status: <span style=\"color: #008080; text-decoration-color: #008080; font-weight: bold\">502</span>.\n",
       "</pre>\n"
      ],
      "text/plain": [
       "Query call with protocol GRPC search failed with message Received http2 header with status: \u001b[1;36m502\u001b[0m.\n"
      ]
     },
     "metadata": {},
     "output_type": "display_data"
    },
    {
     "name": "stderr",
     "output_type": "stream",
     "text": [
      "Queries:  42%|####2     | 42/100 [00:41<00:59,  1.03s/it]\n"
     ]
    },
    {
     "data": {
      "text/html": [
       "<pre style=\"white-space:pre;overflow-x:auto;line-height:normal;font-family:Menlo,'DejaVu Sans Mono',consolas,'Courier New',monospace\">Query call with protocol GRPC search failed with message Received http2 header with status: <span style=\"color: #008080; text-decoration-color: #008080; font-weight: bold\">502</span>.\n",
       "</pre>\n"
      ],
      "text/plain": [
       "Query call with protocol GRPC search failed with message Received http2 header with status: \u001b[1;36m502\u001b[0m.\n"
      ]
     },
     "metadata": {},
     "output_type": "display_data"
    },
    {
     "name": "stderr",
     "output_type": "stream",
     "text": [
      "Queries:  43%|####3     | 43/100 [00:42<01:00,  1.07s/it]\n"
     ]
    },
    {
     "data": {
      "text/html": [
       "<pre style=\"white-space:pre;overflow-x:auto;line-height:normal;font-family:Menlo,'DejaVu Sans Mono',consolas,'Courier New',monospace\">Query call with protocol GRPC search failed with message Received http2 header with status: <span style=\"color: #008080; text-decoration-color: #008080; font-weight: bold\">502</span>.\n",
       "</pre>\n"
      ],
      "text/plain": [
       "Query call with protocol GRPC search failed with message Received http2 header with status: \u001b[1;36m502\u001b[0m.\n"
      ]
     },
     "metadata": {},
     "output_type": "display_data"
    },
    {
     "name": "stderr",
     "output_type": "stream",
     "text": [
      "Queries:  44%|####4     | 44/100 [00:44<01:01,  1.09s/it]\n"
     ]
    },
    {
     "data": {
      "text/html": [
       "<pre style=\"white-space:pre;overflow-x:auto;line-height:normal;font-family:Menlo,'DejaVu Sans Mono',consolas,'Courier New',monospace\">Query call with protocol GRPC search failed with message Received http2 header with status: <span style=\"color: #008080; text-decoration-color: #008080; font-weight: bold\">502</span>.\n",
       "</pre>\n"
      ],
      "text/plain": [
       "Query call with protocol GRPC search failed with message Received http2 header with status: \u001b[1;36m502\u001b[0m.\n"
      ]
     },
     "metadata": {},
     "output_type": "display_data"
    },
    {
     "name": "stderr",
     "output_type": "stream",
     "text": [
      "Queries:  45%|####5     | 45/100 [00:45<01:01,  1.11s/it]\n"
     ]
    },
    {
     "data": {
      "text/html": [
       "<pre style=\"white-space:pre;overflow-x:auto;line-height:normal;font-family:Menlo,'DejaVu Sans Mono',consolas,'Courier New',monospace\">Query call with protocol GRPC search failed with message Received http2 header with status: <span style=\"color: #008080; text-decoration-color: #008080; font-weight: bold\">502</span>.\n",
       "</pre>\n"
      ],
      "text/plain": [
       "Query call with protocol GRPC search failed with message Received http2 header with status: \u001b[1;36m502\u001b[0m.\n"
      ]
     },
     "metadata": {},
     "output_type": "display_data"
    },
    {
     "name": "stderr",
     "output_type": "stream",
     "text": [
      "Queries:  46%|####6     | 46/100 [00:45<00:43,  1.24it/s]\n"
     ]
    },
    {
     "data": {
      "text/html": [
       "<pre style=\"white-space:pre;overflow-x:auto;line-height:normal;font-family:Menlo,'DejaVu Sans Mono',consolas,'Courier New',monospace\">Query call with protocol GRPC search failed with message Received http2 header with status: <span style=\"color: #008080; text-decoration-color: #008080; font-weight: bold\">502</span>.\n",
       "</pre>\n"
      ],
      "text/plain": [
       "Query call with protocol GRPC search failed with message Received http2 header with status: \u001b[1;36m502\u001b[0m.\n"
      ]
     },
     "metadata": {},
     "output_type": "display_data"
    },
    {
     "name": "stderr",
     "output_type": "stream",
     "text": [
      "Queries:  47%|####6     | 47/100 [00:46<00:47,  1.11it/s]\n"
     ]
    },
    {
     "data": {
      "text/html": [
       "<pre style=\"white-space:pre;overflow-x:auto;line-height:normal;font-family:Menlo,'DejaVu Sans Mono',consolas,'Courier New',monospace\">Query call with protocol GRPC search failed with message Received http2 header with status: <span style=\"color: #008080; text-decoration-color: #008080; font-weight: bold\">502</span>.\n",
       "</pre>\n"
      ],
      "text/plain": [
       "Query call with protocol GRPC search failed with message Received http2 header with status: \u001b[1;36m502\u001b[0m.\n"
      ]
     },
     "metadata": {},
     "output_type": "display_data"
    },
    {
     "name": "stderr",
     "output_type": "stream",
     "text": [
      "Queries:  48%|####8     | 48/100 [00:47<00:50,  1.03it/s]\n"
     ]
    },
    {
     "data": {
      "text/html": [
       "<pre style=\"white-space:pre;overflow-x:auto;line-height:normal;font-family:Menlo,'DejaVu Sans Mono',consolas,'Courier New',monospace\">Query call with protocol GRPC search failed with message Received http2 header with status: <span style=\"color: #008080; text-decoration-color: #008080; font-weight: bold\">502</span>.\n",
       "</pre>\n"
      ],
      "text/plain": [
       "Query call with protocol GRPC search failed with message Received http2 header with status: \u001b[1;36m502\u001b[0m.\n"
      ]
     },
     "metadata": {},
     "output_type": "display_data"
    },
    {
     "name": "stderr",
     "output_type": "stream",
     "text": [
      "Queries:  49%|####9     | 49/100 [00:48<00:52,  1.03s/it]\n"
     ]
    },
    {
     "data": {
      "text/html": [
       "<pre style=\"white-space:pre;overflow-x:auto;line-height:normal;font-family:Menlo,'DejaVu Sans Mono',consolas,'Courier New',monospace\">Query call with protocol GRPC search failed with message Received http2 header with status: <span style=\"color: #008080; text-decoration-color: #008080; font-weight: bold\">502</span>.\n",
       "</pre>\n"
      ],
      "text/plain": [
       "Query call with protocol GRPC search failed with message Received http2 header with status: \u001b[1;36m502\u001b[0m.\n"
      ]
     },
     "metadata": {},
     "output_type": "display_data"
    },
    {
     "name": "stderr",
     "output_type": "stream",
     "text": [
      "Queries:  50%|#####     | 50/100 [00:49<00:53,  1.07s/it]\n"
     ]
    },
    {
     "data": {
      "text/html": [
       "<pre style=\"white-space:pre;overflow-x:auto;line-height:normal;font-family:Menlo,'DejaVu Sans Mono',consolas,'Courier New',monospace\">Query call with protocol GRPC search failed with message Received http2 header with status: <span style=\"color: #008080; text-decoration-color: #008080; font-weight: bold\">502</span>.\n",
       "</pre>\n"
      ],
      "text/plain": [
       "Query call with protocol GRPC search failed with message Received http2 header with status: \u001b[1;36m502\u001b[0m.\n"
      ]
     },
     "metadata": {},
     "output_type": "display_data"
    },
    {
     "name": "stderr",
     "output_type": "stream",
     "text": [
      "Queries:  51%|#####1    | 51/100 [00:51<00:53,  1.09s/it]\n"
     ]
    },
    {
     "data": {
      "text/html": [
       "<pre style=\"white-space:pre;overflow-x:auto;line-height:normal;font-family:Menlo,'DejaVu Sans Mono',consolas,'Courier New',monospace\">Query call with protocol GRPC search failed with message Received http2 header with status: <span style=\"color: #008080; text-decoration-color: #008080; font-weight: bold\">502</span>.\n",
       "</pre>\n"
      ],
      "text/plain": [
       "Query call with protocol GRPC search failed with message Received http2 header with status: \u001b[1;36m502\u001b[0m.\n"
      ]
     },
     "metadata": {},
     "output_type": "display_data"
    },
    {
     "name": "stderr",
     "output_type": "stream",
     "text": [
      "Queries:  52%|#####2    | 52/100 [00:52<00:53,  1.11s/it]\n"
     ]
    },
    {
     "data": {
      "text/html": [
       "<pre style=\"white-space:pre;overflow-x:auto;line-height:normal;font-family:Menlo,'DejaVu Sans Mono',consolas,'Courier New',monospace\">Query call with protocol GRPC search failed with message Received http2 header with status: <span style=\"color: #008080; text-decoration-color: #008080; font-weight: bold\">502</span>.\n",
       "</pre>\n"
      ],
      "text/plain": [
       "Query call with protocol GRPC search failed with message Received http2 header with status: \u001b[1;36m502\u001b[0m.\n"
      ]
     },
     "metadata": {},
     "output_type": "display_data"
    },
    {
     "name": "stderr",
     "output_type": "stream",
     "text": [
      "Queries:  53%|#####3    | 53/100 [00:52<00:38,  1.24it/s]\n"
     ]
    },
    {
     "data": {
      "text/html": [
       "<pre style=\"white-space:pre;overflow-x:auto;line-height:normal;font-family:Menlo,'DejaVu Sans Mono',consolas,'Courier New',monospace\">Query call with protocol GRPC search failed with message Received http2 header with status: <span style=\"color: #008080; text-decoration-color: #008080; font-weight: bold\">502</span>.\n",
       "</pre>\n"
      ],
      "text/plain": [
       "Query call with protocol GRPC search failed with message Received http2 header with status: \u001b[1;36m502\u001b[0m.\n"
      ]
     },
     "metadata": {},
     "output_type": "display_data"
    },
    {
     "name": "stderr",
     "output_type": "stream",
     "text": [
      "Queries:  54%|#####4    | 54/100 [00:53<00:41,  1.11it/s]\n"
     ]
    },
    {
     "data": {
      "text/html": [
       "<pre style=\"white-space:pre;overflow-x:auto;line-height:normal;font-family:Menlo,'DejaVu Sans Mono',consolas,'Courier New',monospace\">Query call with protocol GRPC search failed with message Received http2 header with status: <span style=\"color: #008080; text-decoration-color: #008080; font-weight: bold\">502</span>.\n",
       "</pre>\n"
      ],
      "text/plain": [
       "Query call with protocol GRPC search failed with message Received http2 header with status: \u001b[1;36m502\u001b[0m.\n"
      ]
     },
     "metadata": {},
     "output_type": "display_data"
    },
    {
     "name": "stderr",
     "output_type": "stream",
     "text": [
      "Queries:  55%|#####5    | 55/100 [00:54<00:43,  1.03it/s]\n"
     ]
    },
    {
     "data": {
      "text/html": [
       "<pre style=\"white-space:pre;overflow-x:auto;line-height:normal;font-family:Menlo,'DejaVu Sans Mono',consolas,'Courier New',monospace\">Query call with protocol GRPC search failed with message Received http2 header with status: <span style=\"color: #008080; text-decoration-color: #008080; font-weight: bold\">502</span>.\n",
       "</pre>\n"
      ],
      "text/plain": [
       "Query call with protocol GRPC search failed with message Received http2 header with status: \u001b[1;36m502\u001b[0m.\n"
      ]
     },
     "metadata": {},
     "output_type": "display_data"
    },
    {
     "name": "stderr",
     "output_type": "stream",
     "text": [
      "Queries:  56%|#####6    | 56/100 [00:55<00:45,  1.03s/it]\n"
     ]
    },
    {
     "data": {
      "text/html": [
       "<pre style=\"white-space:pre;overflow-x:auto;line-height:normal;font-family:Menlo,'DejaVu Sans Mono',consolas,'Courier New',monospace\">Query call with protocol GRPC search failed with message Received http2 header with status: <span style=\"color: #008080; text-decoration-color: #008080; font-weight: bold\">502</span>.\n",
       "</pre>\n"
      ],
      "text/plain": [
       "Query call with protocol GRPC search failed with message Received http2 header with status: \u001b[1;36m502\u001b[0m.\n"
      ]
     },
     "metadata": {},
     "output_type": "display_data"
    },
    {
     "name": "stderr",
     "output_type": "stream",
     "text": [
      "Queries:  57%|#####6    | 57/100 [00:56<00:45,  1.07s/it]\n"
     ]
    },
    {
     "data": {
      "text/html": [
       "<pre style=\"white-space:pre;overflow-x:auto;line-height:normal;font-family:Menlo,'DejaVu Sans Mono',consolas,'Courier New',monospace\">Query call with protocol GRPC search failed with message Received http2 header with status: <span style=\"color: #008080; text-decoration-color: #008080; font-weight: bold\">502</span>.\n",
       "</pre>\n"
      ],
      "text/plain": [
       "Query call with protocol GRPC search failed with message Received http2 header with status: \u001b[1;36m502\u001b[0m.\n"
      ]
     },
     "metadata": {},
     "output_type": "display_data"
    },
    {
     "name": "stderr",
     "output_type": "stream",
     "text": [
      "Queries:  58%|#####8    | 58/100 [00:58<00:45,  1.09s/it]\n"
     ]
    },
    {
     "data": {
      "text/html": [
       "<pre style=\"white-space:pre;overflow-x:auto;line-height:normal;font-family:Menlo,'DejaVu Sans Mono',consolas,'Courier New',monospace\">Query call with protocol GRPC search failed with message Received http2 header with status: <span style=\"color: #008080; text-decoration-color: #008080; font-weight: bold\">502</span>.\n",
       "</pre>\n"
      ],
      "text/plain": [
       "Query call with protocol GRPC search failed with message Received http2 header with status: \u001b[1;36m502\u001b[0m.\n"
      ]
     },
     "metadata": {},
     "output_type": "display_data"
    },
    {
     "name": "stderr",
     "output_type": "stream",
     "text": [
      "Queries:  59%|#####8    | 59/100 [00:58<00:36,  1.13it/s]\n"
     ]
    },
    {
     "data": {
      "text/html": [
       "<pre style=\"white-space:pre;overflow-x:auto;line-height:normal;font-family:Menlo,'DejaVu Sans Mono',consolas,'Courier New',monospace\">Query call with protocol GRPC search failed with message Received http2 header with status: <span style=\"color: #008080; text-decoration-color: #008080; font-weight: bold\">502</span>.\n",
       "</pre>\n"
      ],
      "text/plain": [
       "Query call with protocol GRPC search failed with message Received http2 header with status: \u001b[1;36m502\u001b[0m.\n"
      ]
     },
     "metadata": {},
     "output_type": "display_data"
    },
    {
     "name": "stderr",
     "output_type": "stream",
     "text": [
      "Queries:  60%|######    | 60/100 [00:58<00:25,  1.54it/s]\n"
     ]
    },
    {
     "data": {
      "text/html": [
       "<pre style=\"white-space:pre;overflow-x:auto;line-height:normal;font-family:Menlo,'DejaVu Sans Mono',consolas,'Courier New',monospace\">Query call with protocol GRPC search failed with message Received http2 header with status: <span style=\"color: #008080; text-decoration-color: #008080; font-weight: bold\">502</span>.\n",
       "</pre>\n"
      ],
      "text/plain": [
       "Query call with protocol GRPC search failed with message Received http2 header with status: \u001b[1;36m502\u001b[0m.\n"
      ]
     },
     "metadata": {},
     "output_type": "display_data"
    },
    {
     "name": "stderr",
     "output_type": "stream",
     "text": [
      "Queries:  61%|######1   | 61/100 [00:58<00:18,  2.06it/s]\n"
     ]
    },
    {
     "data": {
      "text/html": [
       "<pre style=\"white-space:pre;overflow-x:auto;line-height:normal;font-family:Menlo,'DejaVu Sans Mono',consolas,'Courier New',monospace\">Query call with protocol GRPC search failed with message Received http2 header with status: <span style=\"color: #008080; text-decoration-color: #008080; font-weight: bold\">502</span>.\n",
       "</pre>\n"
      ],
      "text/plain": [
       "Query call with protocol GRPC search failed with message Received http2 header with status: \u001b[1;36m502\u001b[0m.\n"
      ]
     },
     "metadata": {},
     "output_type": "display_data"
    },
    {
     "name": "stderr",
     "output_type": "stream",
     "text": [
      "Queries:  62%|######2   | 62/100 [00:58<00:14,  2.70it/s]\n"
     ]
    },
    {
     "data": {
      "text/html": [
       "<pre style=\"white-space:pre;overflow-x:auto;line-height:normal;font-family:Menlo,'DejaVu Sans Mono',consolas,'Courier New',monospace\">Query call with protocol GRPC search failed with message Received http2 header with status: <span style=\"color: #008080; text-decoration-color: #008080; font-weight: bold\">502</span>.\n",
       "</pre>\n"
      ],
      "text/plain": [
       "Query call with protocol GRPC search failed with message Received http2 header with status: \u001b[1;36m502\u001b[0m.\n"
      ]
     },
     "metadata": {},
     "output_type": "display_data"
    },
    {
     "name": "stderr",
     "output_type": "stream",
     "text": [
      "Queries:  63%|######3   | 63/100 [00:58<00:10,  3.46it/s]\n"
     ]
    },
    {
     "data": {
      "text/html": [
       "<pre style=\"white-space:pre;overflow-x:auto;line-height:normal;font-family:Menlo,'DejaVu Sans Mono',consolas,'Courier New',monospace\">Query call with protocol GRPC search failed with message Received http2 header with status: <span style=\"color: #008080; text-decoration-color: #008080; font-weight: bold\">502</span>.\n",
       "</pre>\n"
      ],
      "text/plain": [
       "Query call with protocol GRPC search failed with message Received http2 header with status: \u001b[1;36m502\u001b[0m.\n"
      ]
     },
     "metadata": {},
     "output_type": "display_data"
    },
    {
     "name": "stderr",
     "output_type": "stream",
     "text": [
      "Queries:  64%|######4   | 64/100 [00:59<00:08,  4.30it/s]\n"
     ]
    },
    {
     "data": {
      "text/html": [
       "<pre style=\"white-space:pre;overflow-x:auto;line-height:normal;font-family:Menlo,'DejaVu Sans Mono',consolas,'Courier New',monospace\">Query call with protocol GRPC search failed with message Received http2 header with status: <span style=\"color: #008080; text-decoration-color: #008080; font-weight: bold\">502</span>.\n",
       "</pre>\n"
      ],
      "text/plain": [
       "Query call with protocol GRPC search failed with message Received http2 header with status: \u001b[1;36m502\u001b[0m.\n"
      ]
     },
     "metadata": {},
     "output_type": "display_data"
    },
    {
     "name": "stderr",
     "output_type": "stream",
     "text": [
      "Queries:  65%|######5   | 65/100 [01:00<00:17,  1.96it/s]\n"
     ]
    },
    {
     "data": {
      "text/html": [
       "<pre style=\"white-space:pre;overflow-x:auto;line-height:normal;font-family:Menlo,'DejaVu Sans Mono',consolas,'Courier New',monospace\">Query call with protocol GRPC search failed with message Received http2 header with status: <span style=\"color: #008080; text-decoration-color: #008080; font-weight: bold\">502</span>.\n",
       "</pre>\n"
      ],
      "text/plain": [
       "Query call with protocol GRPC search failed with message Received http2 header with status: \u001b[1;36m502\u001b[0m.\n"
      ]
     },
     "metadata": {},
     "output_type": "display_data"
    },
    {
     "name": "stderr",
     "output_type": "stream",
     "text": [
      "Queries:  66%|######6   | 66/100 [01:01<00:23,  1.42it/s]\n"
     ]
    },
    {
     "data": {
      "text/html": [
       "<pre style=\"white-space:pre;overflow-x:auto;line-height:normal;font-family:Menlo,'DejaVu Sans Mono',consolas,'Courier New',monospace\">Query call with protocol GRPC search failed with message Received http2 header with status: <span style=\"color: #008080; text-decoration-color: #008080; font-weight: bold\">502</span>.\n",
       "</pre>\n"
      ],
      "text/plain": [
       "Query call with protocol GRPC search failed with message Received http2 header with status: \u001b[1;36m502\u001b[0m.\n"
      ]
     },
     "metadata": {},
     "output_type": "display_data"
    },
    {
     "name": "stderr",
     "output_type": "stream",
     "text": [
      "Queries:  67%|######7   | 67/100 [01:02<00:27,  1.19it/s]\n"
     ]
    },
    {
     "data": {
      "text/html": [
       "<pre style=\"white-space:pre;overflow-x:auto;line-height:normal;font-family:Menlo,'DejaVu Sans Mono',consolas,'Courier New',monospace\">Query call with protocol GRPC search failed with message Received http2 header with status: <span style=\"color: #008080; text-decoration-color: #008080; font-weight: bold\">502</span>.\n",
       "</pre>\n"
      ],
      "text/plain": [
       "Query call with protocol GRPC search failed with message Received http2 header with status: \u001b[1;36m502\u001b[0m.\n"
      ]
     },
     "metadata": {},
     "output_type": "display_data"
    },
    {
     "name": "stderr",
     "output_type": "stream",
     "text": [
      "Queries:  68%|######8   | 68/100 [01:02<00:19,  1.62it/s]\n"
     ]
    },
    {
     "data": {
      "text/html": [
       "<pre style=\"white-space:pre;overflow-x:auto;line-height:normal;font-family:Menlo,'DejaVu Sans Mono',consolas,'Courier New',monospace\">Query call with protocol GRPC search failed with message Deadline Exceeded.\n",
       "</pre>\n"
      ],
      "text/plain": [
       "Query call with protocol GRPC search failed with message Deadline Exceeded.\n"
      ]
     },
     "metadata": {},
     "output_type": "display_data"
    },
    {
     "name": "stderr",
     "output_type": "stream",
     "text": [
      "Queries:  69%|######9   | 69/100 [01:32<04:52,  9.44s/it]\n",
      "Queries:  70%|#######   | 70/100 [01:37<04:02,  8.07s/it]\n",
      "Queries:  71%|#######1  | 71/100 [01:42<03:24,  7.05s/it]\n",
      "Queries:  72%|#######2  | 72/100 [01:46<02:57,  6.33s/it]\n",
      "Queries:  73%|#######3  | 73/100 [01:51<02:37,  5.82s/it]\n",
      "Queries:  74%|#######4  | 74/100 [01:56<02:23,  5.54s/it]\n",
      "Queries:  75%|#######5  | 75/100 [02:00<02:12,  5.29s/it]\n",
      "Queries:  76%|#######6  | 76/100 [02:05<02:04,  5.17s/it]\n",
      "Queries:  77%|#######7  | 77/100 [02:10<01:55,  5.03s/it]\n",
      "Queries:  78%|#######8  | 78/100 [02:15<01:49,  4.96s/it]\n",
      "Queries:  79%|#######9  | 79/100 [02:20<01:43,  4.91s/it]\n",
      "Queries:  80%|########  | 80/100 [02:25<01:40,  5.03s/it]\n",
      "Queries:  81%|########1 | 81/100 [02:30<01:34,  4.97s/it]\n",
      "Queries:  82%|########2 | 82/100 [02:35<01:29,  4.95s/it]\n",
      "Queries:  83%|########2 | 83/100 [02:40<01:24,  4.96s/it]\n",
      "Queries:  84%|########4 | 84/100 [02:45<01:19,  4.97s/it]\n",
      "Queries:  85%|########5 | 85/100 [02:50<01:15,  5.00s/it]\n",
      "Queries:  86%|########6 | 86/100 [02:55<01:10,  5.03s/it]\n",
      "Queries:  87%|########7 | 87/100 [03:00<01:05,  5.00s/it]\n",
      "Queries:  88%|########8 | 88/100 [03:05<00:59,  4.98s/it]\n",
      "Queries:  89%|########9 | 89/100 [03:10<00:54,  4.92s/it]\n",
      "Queries:  90%|######### | 90/100 [03:14<00:48,  4.89s/it]\n",
      "Queries:  91%|#########1| 91/100 [03:19<00:43,  4.89s/it]\n",
      "Queries:  92%|#########2| 92/100 [03:25<00:40,  5.01s/it]\n",
      "Queries:  93%|#########3| 93/100 [03:29<00:34,  4.95s/it]\n",
      "Queries:  94%|#########3| 94/100 [03:34<00:29,  4.92s/it]\n",
      "Queries:  95%|#########5| 95/100 [03:39<00:24,  4.90s/it]\n",
      "Queries:  96%|#########6| 96/100 [03:44<00:19,  4.89s/it]\n",
      "Queries:  97%|#########7| 97/100 [03:49<00:14,  4.91s/it]\n",
      "Queries:  98%|#########8| 98/100 [03:54<00:09,  4.97s/it]\n",
      "Queries:  99%|#########9| 99/100 [03:59<00:04,  4.94s/it]\n",
      "Queries: 100%|##########| 100/100 [04:04<00:00,  4.92s/it]\n",
      "Queries: 100%|##########| 100/100 [04:04<00:00,  2.44s/it]\n"
     ]
    },
    {
     "data": {
      "text/html": [
       "<pre style=\"white-space:pre;overflow-x:auto;line-height:normal;font-family:Menlo,'DejaVu Sans Mono',consolas,'Courier New',monospace\">Total Processing Time: <span style=\"color: #008080; text-decoration-color: #008080; font-weight: bold\">4.07</span> minutes\n",
       "</pre>\n"
      ],
      "text/plain": [
       "Total Processing Time: \u001b[1;36m4.07\u001b[0m minutes\n"
      ]
     },
     "metadata": {},
     "output_type": "display_data"
    },
    {
     "data": {
      "text/html": [
       "<pre style=\"white-space:pre;overflow-x:auto;line-height:normal;font-family:Menlo,'DejaVu Sans Mono',consolas,'Courier New',monospace\"><span style=\"color: #008080; text-decoration-color: #008080; font-weight: bold\">0.27</span> <span style=\"color: #008080; text-decoration-color: #008080; font-weight: bold\">0.5041680785233731</span> <span style=\"color: #008080; text-decoration-color: #008080; font-weight: bold\">512</span> <span style=\"color: #008080; text-decoration-color: #008080; font-weight: bold\">40</span>\n",
       "</pre>\n"
      ],
      "text/plain": [
       "\u001b[1;36m0.27\u001b[0m \u001b[1;36m0.5041680785233731\u001b[0m \u001b[1;36m512\u001b[0m \u001b[1;36m40\u001b[0m\n"
      ]
     },
     "metadata": {},
     "output_type": "display_data"
    },
    {
     "name": "stdout",
     "output_type": "stream",
     "text": [
      " 74%|███████▍  | 37/50 [5:31:38<53:08, 245.24s/trial, best loss: -0.88]"
     ]
    },
    {
     "data": {
      "text/html": [
       "<pre style=\"white-space:pre;overflow-x:auto;line-height:normal;font-family:Menlo,'DejaVu Sans Mono',consolas,'Courier New',monospace\"><span style=\"color: #008080; text-decoration-color: #008080; font-weight: bold\">0.6121058992513465</span> <span style=\"color: #008080; text-decoration-color: #008080; font-weight: bold\">256</span> <span style=\"color: #008080; text-decoration-color: #008080; font-weight: bold\">40</span>\n",
       "</pre>\n"
      ],
      "text/plain": [
       "\u001b[1;36m0.6121058992513465\u001b[0m \u001b[1;36m256\u001b[0m \u001b[1;36m40\u001b[0m\n"
      ]
     },
     "metadata": {},
     "output_type": "display_data"
    },
    {
     "name": "stderr",
     "output_type": "stream",
     "text": [
      "Queries:   0%|          | 0/100 [00:00<?, ?it/s]\n",
      "Queries:   1%|1         | 1/100 [00:03<05:39,  3.43s/it]\n",
      "Queries:   2%|2         | 2/100 [00:06<05:28,  3.35s/it]\n",
      "Queries:   3%|3         | 3/100 [00:09<05:11,  3.21s/it]\n",
      "Queries:   4%|4         | 4/100 [00:12<05:01,  3.14s/it]\n",
      "Queries:   5%|5         | 5/100 [00:16<05:02,  3.19s/it]\n",
      "Queries:   6%|6         | 6/100 [00:19<05:04,  3.24s/it]\n",
      "Queries:   7%|7         | 7/100 [00:22<05:00,  3.23s/it]\n",
      "Queries:   8%|8         | 8/100 [00:25<04:58,  3.25s/it]\n",
      "Queries:   9%|9         | 9/100 [00:29<04:53,  3.23s/it]\n",
      "Queries:  10%|#         | 10/100 [00:32<04:50,  3.22s/it]\n",
      "Queries:  11%|#1        | 11/100 [00:35<04:40,  3.15s/it]\n",
      "Queries:  12%|#2        | 12/100 [00:38<04:35,  3.13s/it]\n",
      "Queries:  13%|#3        | 13/100 [00:41<04:28,  3.09s/it]\n",
      "Queries:  14%|#4        | 14/100 [00:44<04:31,  3.16s/it]\n",
      "Queries:  15%|#5        | 15/100 [00:47<04:27,  3.14s/it]\n",
      "Queries:  16%|#6        | 16/100 [00:51<04:26,  3.17s/it]\n",
      "Queries:  17%|#7        | 17/100 [00:54<04:23,  3.18s/it]\n",
      "Queries:  18%|#8        | 18/100 [00:57<04:17,  3.14s/it]\n",
      "Queries:  19%|#9        | 19/100 [01:00<04:12,  3.12s/it]\n",
      "Queries:  20%|##        | 20/100 [01:03<04:05,  3.07s/it]\n",
      "Queries:  21%|##1       | 21/100 [01:06<03:57,  3.01s/it]\n",
      "Queries:  22%|##2       | 22/100 [01:09<03:52,  2.99s/it]\n",
      "Queries:  23%|##3       | 23/100 [01:12<03:55,  3.06s/it]\n",
      "Queries:  24%|##4       | 24/100 [01:15<03:55,  3.10s/it]\n",
      "Queries:  25%|##5       | 25/100 [01:18<03:49,  3.06s/it]\n",
      "Queries:  26%|##6       | 26/100 [01:21<03:43,  3.02s/it]\n",
      "Queries:  27%|##7       | 27/100 [01:24<03:47,  3.12s/it]\n",
      "Queries:  28%|##8       | 28/100 [01:27<03:43,  3.10s/it]\n",
      "Queries:  29%|##9       | 29/100 [01:31<03:43,  3.15s/it]\n",
      "Queries:  30%|###       | 30/100 [01:34<03:36,  3.09s/it]\n",
      "Queries:  31%|###1      | 31/100 [01:37<03:32,  3.07s/it]\n",
      "Queries:  32%|###2      | 32/100 [01:40<03:26,  3.04s/it]\n",
      "Queries:  33%|###3      | 33/100 [01:43<03:26,  3.09s/it]\n",
      "Queries:  34%|###4      | 34/100 [01:46<03:21,  3.05s/it]\n",
      "Queries:  35%|###5      | 35/100 [01:49<03:16,  3.03s/it]\n",
      "Queries:  36%|###6      | 36/100 [01:52<03:13,  3.02s/it]\n",
      "Queries:  37%|###7      | 37/100 [01:55<03:14,  3.09s/it]\n",
      "Queries:  38%|###8      | 38/100 [01:58<03:13,  3.11s/it]\n",
      "Queries:  39%|###9      | 39/100 [02:01<03:12,  3.16s/it]\n",
      "Queries:  40%|####      | 40/100 [02:04<03:03,  3.06s/it]\n",
      "Queries:  41%|####1     | 41/100 [02:07<02:58,  3.03s/it]\n",
      "Queries:  42%|####2     | 42/100 [02:10<02:58,  3.08s/it]\n",
      "Queries:  43%|####3     | 43/100 [02:13<02:54,  3.06s/it]\n",
      "Queries:  44%|####4     | 44/100 [02:16<02:48,  3.01s/it]\n",
      "Queries:  45%|####5     | 45/100 [02:19<02:44,  2.98s/it]\n",
      "Queries:  46%|####6     | 46/100 [02:22<02:40,  2.98s/it]\n",
      "Queries:  47%|####6     | 47/100 [02:25<02:41,  3.04s/it]\n",
      "Queries:  48%|####8     | 48/100 [02:28<02:37,  3.03s/it]\n",
      "Queries:  49%|####9     | 49/100 [02:32<02:37,  3.10s/it]\n",
      "Queries:  50%|#####     | 50/100 [02:35<02:31,  3.04s/it]\n",
      "Queries:  51%|#####1    | 51/100 [02:38<02:30,  3.07s/it]\n",
      "Queries:  52%|#####2    | 52/100 [02:41<02:25,  3.03s/it]\n",
      "Queries:  53%|#####3    | 53/100 [02:44<02:22,  3.03s/it]\n",
      "Queries:  54%|#####4    | 54/100 [02:47<02:22,  3.09s/it]\n",
      "Queries:  55%|#####5    | 55/100 [02:50<02:21,  3.14s/it]\n",
      "Queries:  56%|#####6    | 56/100 [02:53<02:14,  3.05s/it]\n",
      "Queries:  57%|#####6    | 57/100 [02:56<02:10,  3.03s/it]\n",
      "Queries:  58%|#####8    | 58/100 [02:59<02:06,  3.01s/it]\n",
      "Queries:  59%|#####8    | 59/100 [03:02<02:01,  2.98s/it]\n",
      "Queries:  60%|######    | 60/100 [03:05<01:56,  2.92s/it]\n",
      "Queries:  61%|######1   | 61/100 [03:08<01:56,  2.98s/it]\n",
      "Queries:  62%|######2   | 62/100 [03:11<01:56,  3.06s/it]\n",
      "Queries:  63%|######3   | 63/100 [03:14<01:54,  3.10s/it]\n",
      "Queries:  64%|######4   | 64/100 [03:17<01:49,  3.04s/it]\n",
      "Queries:  65%|######5   | 65/100 [03:20<01:44,  2.99s/it]\n",
      "Queries:  66%|######6   | 66/100 [03:23<01:42,  3.01s/it]\n",
      "Queries:  67%|######7   | 67/100 [03:26<01:38,  2.97s/it]\n",
      "Queries:  68%|######8   | 68/100 [03:29<01:35,  3.00s/it]\n",
      "Queries:  69%|######9   | 69/100 [03:32<01:32,  2.99s/it]\n",
      "Queries:  70%|#######   | 70/100 [03:35<01:29,  2.99s/it]\n",
      "Queries:  71%|#######1  | 71/100 [03:38<01:26,  2.98s/it]\n",
      "Queries:  72%|#######2  | 72/100 [03:41<01:23,  2.97s/it]\n",
      "Queries:  73%|#######3  | 73/100 [03:44<01:19,  2.94s/it]\n",
      "Queries:  74%|#######4  | 74/100 [03:47<01:19,  3.04s/it]\n",
      "Queries:  75%|#######5  | 75/100 [03:50<01:16,  3.04s/it]\n",
      "Queries:  76%|#######6  | 76/100 [03:53<01:14,  3.09s/it]\n",
      "Queries:  77%|#######7  | 77/100 [03:56<01:11,  3.12s/it]\n",
      "Queries:  78%|#######8  | 78/100 [03:59<01:08,  3.09s/it]\n",
      "Queries:  79%|#######9  | 79/100 [04:03<01:05,  3.11s/it]\n",
      "Queries:  80%|########  | 80/100 [04:06<01:01,  3.08s/it]\n",
      "Queries:  81%|########1 | 81/100 [04:08<00:57,  3.04s/it]\n",
      "Queries:  82%|########2 | 82/100 [04:11<00:54,  3.00s/it]\n",
      "Queries:  83%|########2 | 83/100 [04:15<00:52,  3.08s/it]\n",
      "Queries:  84%|########4 | 84/100 [04:18<00:48,  3.05s/it]\n",
      "Queries:  85%|########5 | 85/100 [04:20<00:44,  2.96s/it]\n",
      "Queries:  86%|########6 | 86/100 [04:23<00:41,  2.95s/it]\n",
      "Queries:  87%|########7 | 87/100 [04:26<00:37,  2.91s/it]\n",
      "Queries:  88%|########8 | 88/100 [04:29<00:35,  2.94s/it]\n",
      "Queries:  89%|########9 | 89/100 [04:32<00:33,  3.01s/it]\n",
      "Queries:  90%|######### | 90/100 [04:35<00:30,  3.02s/it]\n",
      "Queries:  91%|#########1| 91/100 [04:38<00:27,  3.04s/it]\n",
      "Queries:  92%|#########2| 92/100 [04:41<00:24,  3.03s/it]\n",
      "Queries:  93%|#########3| 93/100 [04:45<00:21,  3.14s/it]\n",
      "Queries:  94%|#########3| 94/100 [04:48<00:18,  3.10s/it]\n",
      "Queries:  95%|#########5| 95/100 [04:51<00:15,  3.07s/it]\n",
      "Queries:  96%|#########6| 96/100 [04:54<00:12,  3.04s/it]\n",
      "Queries:  97%|#########7| 97/100 [04:57<00:09,  3.01s/it]\n",
      "Queries:  98%|#########8| 98/100 [05:00<00:05,  2.99s/it]\n",
      "Queries:  99%|#########9| 99/100 [05:02<00:02,  2.93s/it]\n",
      "Queries: 100%|##########| 100/100 [05:06<00:00,  2.99s/it]\n",
      "Queries: 100%|##########| 100/100 [05:06<00:00,  3.06s/it]\n"
     ]
    },
    {
     "data": {
      "text/html": [
       "<pre style=\"white-space:pre;overflow-x:auto;line-height:normal;font-family:Menlo,'DejaVu Sans Mono',consolas,'Courier New',monospace\">Total Processing Time: <span style=\"color: #008080; text-decoration-color: #008080; font-weight: bold\">5.1</span> minutes\n",
       "</pre>\n"
      ],
      "text/plain": [
       "Total Processing Time: \u001b[1;36m5.1\u001b[0m minutes\n"
      ]
     },
     "metadata": {},
     "output_type": "display_data"
    },
    {
     "data": {
      "text/html": [
       "<pre style=\"white-space:pre;overflow-x:auto;line-height:normal;font-family:Menlo,'DejaVu Sans Mono',consolas,'Courier New',monospace\"><span style=\"color: #008080; text-decoration-color: #008080; font-weight: bold\">0.81</span> <span style=\"color: #008080; text-decoration-color: #008080; font-weight: bold\">0.6121058992513465</span> <span style=\"color: #008080; text-decoration-color: #008080; font-weight: bold\">256</span> <span style=\"color: #008080; text-decoration-color: #008080; font-weight: bold\">40</span>\n",
       "</pre>\n"
      ],
      "text/plain": [
       "\u001b[1;36m0.81\u001b[0m \u001b[1;36m0.6121058992513465\u001b[0m \u001b[1;36m256\u001b[0m \u001b[1;36m40\u001b[0m\n"
      ]
     },
     "metadata": {},
     "output_type": "display_data"
    },
    {
     "name": "stdout",
     "output_type": "stream",
     "text": [
      " 76%|███████▌  | 38/50 [5:36:44<52:42, 263.51s/trial, best loss: -0.88]"
     ]
    },
    {
     "data": {
      "text/html": [
       "<pre style=\"white-space:pre;overflow-x:auto;line-height:normal;font-family:Menlo,'DejaVu Sans Mono',consolas,'Courier New',monospace\"><span style=\"color: #008080; text-decoration-color: #008080; font-weight: bold\">0.38919635389133134</span> <span style=\"color: #008080; text-decoration-color: #008080; font-weight: bold\">512</span> <span style=\"color: #008080; text-decoration-color: #008080; font-weight: bold\">50</span>\n",
       "</pre>\n"
      ],
      "text/plain": [
       "\u001b[1;36m0.38919635389133134\u001b[0m \u001b[1;36m512\u001b[0m \u001b[1;36m50\u001b[0m\n"
      ]
     },
     "metadata": {},
     "output_type": "display_data"
    },
    {
     "name": "stderr",
     "output_type": "stream",
     "text": [
      "Queries:   0%|          | 0/100 [00:00<?, ?it/s]\n",
      "Queries:   1%|1         | 1/100 [00:06<09:54,  6.01s/it]\n",
      "Queries:   2%|2         | 2/100 [00:12<09:49,  6.01s/it]\n",
      "Queries:   3%|3         | 3/100 [00:18<09:43,  6.01s/it]\n",
      "Queries:   4%|4         | 4/100 [00:24<09:36,  6.01s/it]\n",
      "Queries:   5%|5         | 5/100 [00:30<09:30,  6.00s/it]\n",
      "Queries:   6%|6         | 6/100 [00:36<09:24,  6.01s/it]\n",
      "Queries:   7%|7         | 7/100 [00:42<09:18,  6.00s/it]\n",
      "Queries:   8%|8         | 8/100 [00:48<09:19,  6.08s/it]\n",
      "Queries:   9%|9         | 9/100 [00:54<09:10,  6.05s/it]\n",
      "Queries:  10%|#         | 10/100 [01:00<09:02,  6.03s/it]\n",
      "Queries:  11%|#1        | 11/100 [01:06<08:54,  6.01s/it]\n",
      "Queries:  12%|#2        | 12/100 [01:12<08:48,  6.00s/it]\n",
      "Queries:  13%|#3        | 13/100 [01:18<08:41,  6.00s/it]\n",
      "Queries:  14%|#4        | 14/100 [01:24<08:36,  6.00s/it]\n",
      "Queries:  15%|#5        | 15/100 [01:30<08:29,  6.00s/it]\n",
      "Queries:  16%|#6        | 16/100 [01:36<08:23,  6.00s/it]\n",
      "Queries:  17%|#7        | 17/100 [01:42<08:18,  6.00s/it]\n",
      "Queries:  18%|#8        | 18/100 [01:48<08:12,  6.01s/it]\n",
      "Queries:  19%|#9        | 19/100 [01:54<08:12,  6.09s/it]\n",
      "Queries:  20%|##        | 20/100 [02:00<08:04,  6.06s/it]\n",
      "Queries:  21%|##1       | 21/100 [02:06<08:03,  6.12s/it]\n",
      "Queries:  22%|##2       | 22/100 [02:12<07:54,  6.08s/it]\n",
      "Queries:  23%|##3       | 23/100 [02:18<07:46,  6.06s/it]\n",
      "Queries:  24%|##4       | 24/100 [02:24<07:39,  6.04s/it]\n",
      "Queries:  25%|##5       | 25/100 [02:30<07:32,  6.03s/it]\n",
      "Queries:  26%|##6       | 26/100 [02:36<07:25,  6.02s/it]\n",
      "Queries:  27%|##7       | 27/100 [02:42<07:19,  6.02s/it]\n",
      "Queries:  28%|##8       | 28/100 [02:48<07:13,  6.02s/it]\n",
      "Queries:  29%|##9       | 29/100 [02:54<07:06,  6.00s/it]\n",
      "Queries:  30%|###       | 30/100 [03:00<07:00,  6.00s/it]\n",
      "Queries:  31%|###1      | 31/100 [03:06<06:54,  6.00s/it]\n",
      "Queries:  32%|###2      | 32/100 [03:12<06:48,  6.00s/it]\n",
      "Queries:  33%|###3      | 33/100 [03:18<06:42,  6.00s/it]\n",
      "Queries:  34%|###4      | 34/100 [03:24<06:36,  6.00s/it]\n",
      "Queries:  35%|###5      | 35/100 [03:30<06:29,  6.00s/it]\n",
      "Queries:  36%|###6      | 36/100 [03:36<06:23,  6.00s/it]\n",
      "Queries:  37%|###7      | 37/100 [03:42<06:17,  6.00s/it]\n",
      "Queries:  38%|###8      | 38/100 [03:48<06:12,  6.00s/it]\n",
      "Queries:  39%|###9      | 39/100 [03:54<06:06,  6.01s/it]\n",
      "Queries:  40%|####      | 40/100 [04:00<06:00,  6.01s/it]\n",
      "Queries:  41%|####1     | 41/100 [04:06<05:54,  6.01s/it]\n",
      "Queries:  42%|####2     | 42/100 [04:12<05:48,  6.01s/it]\n",
      "Queries:  43%|####3     | 43/100 [04:18<05:42,  6.00s/it]\n",
      "Queries:  44%|####4     | 44/100 [04:24<05:36,  6.00s/it]\n",
      "Queries:  45%|####5     | 45/100 [04:30<05:29,  6.00s/it]\n",
      "Queries:  46%|####6     | 46/100 [04:36<05:23,  5.99s/it]\n",
      "Queries:  47%|####6     | 47/100 [04:42<05:17,  5.99s/it]\n",
      "Queries:  48%|####8     | 48/100 [04:48<05:11,  5.99s/it]\n",
      "Queries:  49%|####9     | 49/100 [04:54<05:05,  5.99s/it]\n",
      "Queries:  50%|#####     | 50/100 [05:00<04:59,  5.99s/it]\n",
      "Queries:  51%|#####1    | 51/100 [05:06<04:53,  5.99s/it]\n",
      "Queries:  52%|#####2    | 52/100 [05:12<04:47,  6.00s/it]\n",
      "Queries:  53%|#####3    | 53/100 [05:18<04:42,  6.00s/it]\n",
      "Queries:  54%|#####4    | 54/100 [05:24<04:36,  6.01s/it]\n",
      "Queries:  55%|#####5    | 55/100 [05:30<04:30,  6.01s/it]\n",
      "Queries:  56%|#####6    | 56/100 [05:36<04:24,  6.00s/it]\n",
      "Queries:  57%|#####6    | 57/100 [05:42<04:17,  6.00s/it]\n",
      "Queries:  58%|#####8    | 58/100 [05:48<04:11,  5.99s/it]\n",
      "Queries:  59%|#####8    | 59/100 [05:54<04:05,  5.99s/it]\n",
      "Queries:  60%|######    | 60/100 [06:00<03:59,  5.99s/it]\n",
      "Queries:  61%|######1   | 61/100 [06:06<03:53,  5.98s/it]\n",
      "Queries:  62%|######2   | 62/100 [06:12<03:47,  5.99s/it]\n",
      "Queries:  63%|######3   | 63/100 [06:18<03:41,  5.99s/it]\n",
      "Queries:  64%|######4   | 64/100 [06:24<03:35,  5.99s/it]\n",
      "Queries:  65%|######5   | 65/100 [06:30<03:29,  6.00s/it]\n",
      "Queries:  66%|######6   | 66/100 [06:36<03:24,  6.00s/it]\n",
      "Queries:  67%|######7   | 67/100 [06:42<03:18,  6.01s/it]\n",
      "Queries:  68%|######8   | 68/100 [06:48<03:12,  6.00s/it]\n",
      "Queries:  69%|######9   | 69/100 [06:54<03:06,  6.00s/it]\n",
      "Queries:  70%|#######   | 70/100 [07:00<03:00,  6.00s/it]\n",
      "Queries:  71%|#######1  | 71/100 [07:06<02:53,  5.99s/it]\n",
      "Queries:  72%|#######2  | 72/100 [07:12<02:47,  6.00s/it]\n",
      "Queries:  73%|#######3  | 73/100 [07:18<02:42,  6.00s/it]\n",
      "Queries:  74%|#######4  | 74/100 [07:24<02:36,  6.00s/it]\n",
      "Queries:  75%|#######5  | 75/100 [07:30<02:30,  6.00s/it]\n",
      "Queries:  76%|#######6  | 76/100 [07:36<02:24,  6.01s/it]\n",
      "Queries:  77%|#######7  | 77/100 [07:42<02:18,  6.01s/it]\n",
      "Queries:  78%|#######8  | 78/100 [07:48<02:12,  6.00s/it]\n",
      "Queries:  79%|#######9  | 79/100 [07:54<02:05,  6.00s/it]\n",
      "Queries:  80%|########  | 80/100 [08:00<01:59,  5.99s/it]\n",
      "Queries:  81%|########1 | 81/100 [08:06<01:53,  6.00s/it]\n",
      "Queries:  82%|########2 | 82/100 [08:12<01:47,  6.00s/it]\n",
      "Queries:  83%|########2 | 83/100 [08:18<01:41,  6.00s/it]\n",
      "Queries:  84%|########4 | 84/100 [08:24<01:35,  6.00s/it]\n",
      "Queries:  85%|########5 | 85/100 [08:30<01:29,  6.00s/it]\n",
      "Queries:  86%|########6 | 86/100 [08:36<01:23,  6.00s/it]\n",
      "Queries:  87%|########7 | 87/100 [08:42<01:17,  6.00s/it]\n",
      "Queries:  88%|########8 | 88/100 [08:48<01:11,  6.00s/it]\n",
      "Queries:  89%|########9 | 89/100 [08:54<01:05,  6.00s/it]\n",
      "Queries:  90%|######### | 90/100 [09:00<00:59,  5.99s/it]\n",
      "Queries:  91%|#########1| 91/100 [09:06<00:53,  5.99s/it]\n",
      "Queries:  92%|#########2| 92/100 [09:12<00:47,  5.99s/it]\n",
      "Queries:  93%|#########3| 93/100 [09:18<00:41,  5.99s/it]\n",
      "Queries:  94%|#########3| 94/100 [09:24<00:35,  5.99s/it]\n",
      "Queries:  95%|#########5| 95/100 [09:30<00:29,  6.00s/it]\n",
      "Queries:  96%|#########6| 96/100 [09:36<00:24,  6.00s/it]\n",
      "Queries:  97%|#########7| 97/100 [09:42<00:18,  6.01s/it]\n",
      "Queries:  98%|#########8| 98/100 [09:48<00:12,  6.01s/it]\n",
      "Queries:  99%|#########9| 99/100 [09:54<00:06,  6.00s/it]\n",
      "Queries: 100%|##########| 100/100 [10:00<00:00,  5.99s/it]\n",
      "Queries: 100%|##########| 100/100 [10:00<00:00,  6.01s/it]\n"
     ]
    },
    {
     "data": {
      "text/html": [
       "<pre style=\"white-space:pre;overflow-x:auto;line-height:normal;font-family:Menlo,'DejaVu Sans Mono',consolas,'Courier New',monospace\">Total Processing Time: <span style=\"color: #008080; text-decoration-color: #008080; font-weight: bold\">10.01</span> minutes\n",
       "</pre>\n"
      ],
      "text/plain": [
       "Total Processing Time: \u001b[1;36m10.01\u001b[0m minutes\n"
      ]
     },
     "metadata": {},
     "output_type": "display_data"
    },
    {
     "data": {
      "text/html": [
       "<pre style=\"white-space:pre;overflow-x:auto;line-height:normal;font-family:Menlo,'DejaVu Sans Mono',consolas,'Courier New',monospace\"><span style=\"color: #008080; text-decoration-color: #008080; font-weight: bold\">0.88</span> <span style=\"color: #008080; text-decoration-color: #008080; font-weight: bold\">0.38919635389133134</span> <span style=\"color: #008080; text-decoration-color: #008080; font-weight: bold\">512</span> <span style=\"color: #008080; text-decoration-color: #008080; font-weight: bold\">50</span>\n",
       "</pre>\n"
      ],
      "text/plain": [
       "\u001b[1;36m0.88\u001b[0m \u001b[1;36m0.38919635389133134\u001b[0m \u001b[1;36m512\u001b[0m \u001b[1;36m50\u001b[0m\n"
      ]
     },
     "metadata": {},
     "output_type": "display_data"
    },
    {
     "name": "stdout",
     "output_type": "stream",
     "text": [
      " 78%|███████▊  | 39/50 [5:46:45<1:06:51, 364.64s/trial, best loss: -0.88]"
     ]
    },
    {
     "data": {
      "text/html": [
       "<pre style=\"white-space:pre;overflow-x:auto;line-height:normal;font-family:Menlo,'DejaVu Sans Mono',consolas,'Courier New',monospace\"><span style=\"color: #008080; text-decoration-color: #008080; font-weight: bold\">0.3702906496488761</span> <span style=\"color: #008080; text-decoration-color: #008080; font-weight: bold\">128</span> <span style=\"color: #008080; text-decoration-color: #008080; font-weight: bold\">50</span>\n",
       "</pre>\n"
      ],
      "text/plain": [
       "\u001b[1;36m0.3702906496488761\u001b[0m \u001b[1;36m128\u001b[0m \u001b[1;36m50\u001b[0m\n"
      ]
     },
     "metadata": {},
     "output_type": "display_data"
    },
    {
     "name": "stderr",
     "output_type": "stream",
     "text": [
      "Queries:   0%|          | 0/100 [00:00<?, ?it/s]\n",
      "Queries:   1%|1         | 1/100 [00:02<03:35,  2.17s/it]\n",
      "Queries:   2%|2         | 2/100 [00:04<03:31,  2.16s/it]\n",
      "Queries:   3%|3         | 3/100 [00:06<03:34,  2.21s/it]\n",
      "Queries:   4%|4         | 4/100 [00:08<03:30,  2.19s/it]\n",
      "Queries:   5%|5         | 5/100 [00:10<03:26,  2.18s/it]\n",
      "Queries:   6%|6         | 6/100 [00:13<03:23,  2.16s/it]\n",
      "Queries:   7%|7         | 7/100 [00:15<03:29,  2.25s/it]\n",
      "Queries:   8%|8         | 8/100 [00:17<03:24,  2.22s/it]\n",
      "Queries:   9%|9         | 9/100 [00:19<03:20,  2.20s/it]\n",
      "Queries:  10%|#         | 10/100 [00:21<03:14,  2.16s/it]\n",
      "Queries:  11%|#1        | 11/100 [00:24<03:22,  2.27s/it]\n",
      "Queries:  12%|#2        | 12/100 [00:26<03:16,  2.24s/it]\n",
      "Queries:  13%|#3        | 13/100 [00:28<03:12,  2.22s/it]\n",
      "Queries:  14%|#4        | 14/100 [00:30<03:08,  2.20s/it]\n",
      "Queries:  15%|#5        | 15/100 [00:33<03:05,  2.18s/it]\n",
      "Queries:  16%|#6        | 16/100 [00:35<03:03,  2.18s/it]\n",
      "Queries:  17%|#7        | 17/100 [00:37<02:58,  2.16s/it]\n",
      "Queries:  18%|#8        | 18/100 [00:39<02:55,  2.14s/it]\n",
      "Queries:  19%|#9        | 19/100 [00:41<02:52,  2.13s/it]\n",
      "Queries:  20%|##        | 20/100 [00:43<02:49,  2.12s/it]\n",
      "Queries:  21%|##1       | 21/100 [00:45<02:47,  2.12s/it]\n",
      "Queries:  22%|##2       | 22/100 [00:47<02:47,  2.14s/it]\n",
      "Queries:  23%|##3       | 23/100 [00:49<02:42,  2.11s/it]\n",
      "Queries:  24%|##4       | 24/100 [00:52<02:39,  2.10s/it]\n",
      "Queries:  25%|##5       | 25/100 [00:54<02:37,  2.11s/it]\n",
      "Queries:  26%|##6       | 26/100 [00:56<02:35,  2.10s/it]\n",
      "Queries:  27%|##7       | 27/100 [00:58<02:30,  2.06s/it]\n",
      "Queries:  28%|##8       | 28/100 [01:00<02:29,  2.07s/it]\n",
      "Queries:  29%|##9       | 29/100 [01:02<02:27,  2.08s/it]\n",
      "Queries:  30%|###       | 30/100 [01:04<02:24,  2.07s/it]\n",
      "Queries:  31%|###1      | 31/100 [01:06<02:20,  2.04s/it]\n",
      "Queries:  32%|###2      | 32/100 [01:08<02:19,  2.06s/it]\n",
      "Queries:  33%|###3      | 33/100 [01:10<02:17,  2.05s/it]\n",
      "Queries:  34%|###4      | 34/100 [01:12<02:15,  2.05s/it]\n",
      "Queries:  35%|###5      | 35/100 [01:14<02:11,  2.03s/it]\n",
      "Queries:  36%|###6      | 36/100 [01:16<02:13,  2.08s/it]\n",
      "Queries:  37%|###7      | 37/100 [01:18<02:10,  2.08s/it]\n",
      "Queries:  38%|###8      | 38/100 [01:21<02:13,  2.15s/it]\n",
      "Queries:  39%|###9      | 39/100 [01:23<02:05,  2.07s/it]\n",
      "Queries:  40%|####      | 40/100 [01:25<02:03,  2.06s/it]\n",
      "Queries:  41%|####1     | 41/100 [01:27<02:00,  2.04s/it]\n",
      "Queries:  42%|####2     | 42/100 [01:29<01:57,  2.03s/it]\n",
      "Queries:  43%|####3     | 43/100 [01:31<01:55,  2.02s/it]\n",
      "Queries:  44%|####4     | 44/100 [01:33<01:54,  2.04s/it]\n",
      "Queries:  45%|####5     | 45/100 [01:35<01:51,  2.03s/it]\n",
      "Queries:  46%|####6     | 46/100 [01:37<01:53,  2.10s/it]\n",
      "Queries:  47%|####6     | 47/100 [01:39<01:50,  2.09s/it]\n",
      "Queries:  48%|####8     | 48/100 [01:41<01:50,  2.12s/it]\n",
      "Queries:  49%|####9     | 49/100 [01:43<01:46,  2.10s/it]\n",
      "Queries:  50%|#####     | 50/100 [01:45<01:42,  2.05s/it]\n",
      "Queries:  51%|#####1    | 51/100 [01:47<01:40,  2.04s/it]\n",
      "Queries:  52%|#####2    | 52/100 [01:49<01:36,  2.00s/it]\n",
      "Queries:  53%|#####3    | 53/100 [01:51<01:32,  1.98s/it]\n",
      "Queries:  54%|#####4    | 54/100 [01:53<01:28,  1.92s/it]\n",
      "Queries:  55%|#####5    | 55/100 [01:55<01:27,  1.95s/it]\n",
      "Queries:  56%|#####6    | 56/100 [01:57<01:26,  1.97s/it]\n",
      "Queries:  57%|#####6    | 57/100 [01:59<01:25,  2.00s/it]\n",
      "Queries:  58%|#####8    | 58/100 [02:01<01:22,  1.97s/it]\n",
      "Queries:  59%|#####8    | 59/100 [02:03<01:20,  1.95s/it]\n",
      "Queries:  60%|######    | 60/100 [02:05<01:19,  1.99s/it]\n",
      "Queries:  61%|######1   | 61/100 [02:07<01:20,  2.07s/it]\n",
      "Queries:  62%|######2   | 62/100 [02:09<01:16,  2.03s/it]\n",
      "Queries:  63%|######3   | 63/100 [02:11<01:14,  2.02s/it]\n",
      "Queries:  64%|######4   | 64/100 [02:13<01:12,  2.00s/it]\n",
      "Queries:  65%|######5   | 65/100 [02:15<01:10,  2.02s/it]\n",
      "Queries:  66%|######6   | 66/100 [02:17<01:08,  2.02s/it]\n",
      "Queries:  67%|######7   | 67/100 [02:19<01:06,  2.02s/it]\n",
      "Queries:  68%|######8   | 68/100 [02:21<01:02,  1.97s/it]\n",
      "Queries:  69%|######9   | 69/100 [02:23<01:01,  1.98s/it]\n",
      "Queries:  70%|#######   | 70/100 [02:25<01:01,  2.06s/it]\n",
      "Queries:  71%|#######1  | 71/100 [02:27<00:59,  2.06s/it]\n",
      "Queries:  72%|#######2  | 72/100 [02:29<00:57,  2.04s/it]\n",
      "Queries:  73%|#######3  | 73/100 [02:31<00:54,  2.02s/it]\n",
      "Queries:  74%|#######4  | 74/100 [02:33<00:52,  2.03s/it]\n",
      "Queries:  75%|#######5  | 75/100 [02:35<00:50,  2.04s/it]\n",
      "Queries:  76%|#######6  | 76/100 [02:37<00:49,  2.04s/it]\n",
      "Queries:  77%|#######7  | 77/100 [02:39<00:46,  2.03s/it]\n",
      "Queries:  78%|#######8  | 78/100 [02:41<00:44,  2.04s/it]\n",
      "Queries:  79%|#######9  | 79/100 [02:44<00:43,  2.08s/it]\n",
      "Queries:  80%|########  | 80/100 [02:46<00:40,  2.04s/it]\n",
      "Queries:  81%|########1 | 81/100 [02:48<00:38,  2.05s/it]\n",
      "Queries:  82%|########2 | 82/100 [02:50<00:36,  2.03s/it]\n",
      "Queries:  83%|########2 | 83/100 [02:52<00:34,  2.04s/it]\n",
      "Queries:  84%|########4 | 84/100 [02:54<00:32,  2.03s/it]\n",
      "Queries:  85%|########5 | 85/100 [02:56<00:30,  2.03s/it]\n",
      "Queries:  86%|########6 | 86/100 [02:58<00:28,  2.06s/it]\n",
      "Queries:  87%|########7 | 87/100 [03:00<00:26,  2.08s/it]\n",
      "Queries:  88%|########8 | 88/100 [03:02<00:24,  2.06s/it]\n",
      "Queries:  89%|########9 | 89/100 [03:04<00:22,  2.06s/it]\n",
      "Queries:  90%|######### | 90/100 [03:06<00:20,  2.05s/it]\n",
      "Queries:  91%|#########1| 91/100 [03:08<00:18,  2.05s/it]\n",
      "Queries:  92%|#########2| 92/100 [03:10<00:16,  2.08s/it]\n",
      "Queries:  93%|#########3| 93/100 [03:12<00:14,  2.05s/it]\n",
      "Queries:  94%|#########3| 94/100 [03:14<00:12,  2.06s/it]\n",
      "Queries:  95%|#########5| 95/100 [03:16<00:10,  2.06s/it]\n",
      "Queries:  96%|#########6| 96/100 [03:18<00:08,  2.05s/it]\n",
      "Queries:  97%|#########7| 97/100 [03:21<00:06,  2.08s/it]\n",
      "Queries:  98%|#########8| 98/100 [03:23<00:04,  2.07s/it]\n",
      "Queries:  99%|#########9| 99/100 [03:25<00:02,  2.03s/it]\n",
      "Queries: 100%|##########| 100/100 [03:27<00:00,  2.04s/it]\n",
      "Queries: 100%|##########| 100/100 [03:27<00:00,  2.07s/it]\n"
     ]
    },
    {
     "data": {
      "text/html": [
       "<pre style=\"white-space:pre;overflow-x:auto;line-height:normal;font-family:Menlo,'DejaVu Sans Mono',consolas,'Courier New',monospace\">Total Processing Time: <span style=\"color: #008080; text-decoration-color: #008080; font-weight: bold\">3.45</span> minutes\n",
       "</pre>\n"
      ],
      "text/plain": [
       "Total Processing Time: \u001b[1;36m3.45\u001b[0m minutes\n"
      ]
     },
     "metadata": {},
     "output_type": "display_data"
    },
    {
     "data": {
      "text/html": [
       "<pre style=\"white-space:pre;overflow-x:auto;line-height:normal;font-family:Menlo,'DejaVu Sans Mono',consolas,'Courier New',monospace\"><span style=\"color: #008080; text-decoration-color: #008080; font-weight: bold\">0.75</span> <span style=\"color: #008080; text-decoration-color: #008080; font-weight: bold\">0.3702906496488761</span> <span style=\"color: #008080; text-decoration-color: #008080; font-weight: bold\">128</span> <span style=\"color: #008080; text-decoration-color: #008080; font-weight: bold\">50</span>\n",
       "</pre>\n"
      ],
      "text/plain": [
       "\u001b[1;36m0.75\u001b[0m \u001b[1;36m0.3702906496488761\u001b[0m \u001b[1;36m128\u001b[0m \u001b[1;36m50\u001b[0m\n"
      ]
     },
     "metadata": {},
     "output_type": "display_data"
    },
    {
     "name": "stdout",
     "output_type": "stream",
     "text": [
      " 80%|████████  | 40/50 [5:50:12<52:53, 317.37s/trial, best loss: -0.88]  "
     ]
    },
    {
     "data": {
      "text/html": [
       "<pre style=\"white-space:pre;overflow-x:auto;line-height:normal;font-family:Menlo,'DejaVu Sans Mono',consolas,'Courier New',monospace\"><span style=\"color: #008080; text-decoration-color: #008080; font-weight: bold\">0.25394392138579774</span> <span style=\"color: #008080; text-decoration-color: #008080; font-weight: bold\">512</span> <span style=\"color: #008080; text-decoration-color: #008080; font-weight: bold\">100</span>\n",
       "</pre>\n"
      ],
      "text/plain": [
       "\u001b[1;36m0.25394392138579774\u001b[0m \u001b[1;36m512\u001b[0m \u001b[1;36m100\u001b[0m\n"
      ]
     },
     "metadata": {},
     "output_type": "display_data"
    },
    {
     "name": "stderr",
     "output_type": "stream",
     "text": [
      "Queries:   0%|          | 0/100 [00:00<?, ?it/s]\n",
      "Queries:   1%|1         | 1/100 [00:11<19:28, 11.80s/it]\n",
      "Queries:   2%|2         | 2/100 [00:23<19:03, 11.66s/it]\n",
      "Queries:   3%|3         | 3/100 [00:34<18:45, 11.61s/it]\n",
      "Queries:   4%|4         | 4/100 [00:46<18:28, 11.54s/it]\n",
      "Queries:   5%|5         | 5/100 [00:57<18:13, 11.51s/it]\n",
      "Queries:   6%|6         | 6/100 [01:09<17:59, 11.49s/it]\n",
      "Queries:   7%|7         | 7/100 [01:20<17:54, 11.56s/it]\n",
      "Queries:   8%|8         | 8/100 [01:32<17:40, 11.53s/it]\n",
      "Queries:   9%|9         | 9/100 [01:43<17:27, 11.51s/it]\n",
      "Queries:  10%|#         | 10/100 [01:55<17:15, 11.51s/it]\n",
      "Queries:  11%|#1        | 11/100 [02:06<17:02, 11.49s/it]\n",
      "Queries:  12%|#2        | 12/100 [02:18<16:49, 11.47s/it]\n",
      "Queries:  13%|#3        | 13/100 [02:29<16:43, 11.53s/it]\n",
      "Queries:  14%|#4        | 14/100 [02:41<16:36, 11.59s/it]\n",
      "Queries:  15%|#5        | 15/100 [02:53<16:22, 11.56s/it]\n",
      "Queries:  16%|#6        | 16/100 [03:04<16:08, 11.52s/it]\n",
      "Queries:  17%|#7        | 17/100 [03:16<15:54, 11.50s/it]\n",
      "Queries:  18%|#8        | 18/100 [03:27<15:39, 11.46s/it]\n",
      "Queries:  19%|#9        | 19/100 [03:38<15:27, 11.45s/it]\n",
      "Queries:  20%|##        | 20/100 [03:50<15:15, 11.44s/it]\n",
      "Queries:  21%|##1       | 21/100 [04:01<15:03, 11.44s/it]\n",
      "Queries:  22%|##2       | 22/100 [04:13<14:52, 11.44s/it]\n",
      "Queries:  23%|##3       | 23/100 [04:24<14:41, 11.44s/it]\n",
      "Queries:  24%|##4       | 24/100 [04:35<14:28, 11.43s/it]\n",
      "Queries:  25%|##5       | 25/100 [04:47<14:16, 11.42s/it]\n",
      "Queries:  26%|##6       | 26/100 [04:58<14:04, 11.42s/it]\n",
      "Queries:  27%|##7       | 27/100 [05:10<13:53, 11.42s/it]\n",
      "Queries:  28%|##8       | 28/100 [05:21<13:42, 11.43s/it]\n",
      "Queries:  29%|##9       | 29/100 [05:33<13:30, 11.41s/it]\n",
      "Queries:  30%|###       | 30/100 [05:44<13:19, 11.42s/it]\n",
      "Queries:  31%|###1      | 31/100 [05:55<13:08, 11.43s/it]\n",
      "Queries:  32%|###2      | 32/100 [06:07<12:57, 11.43s/it]\n",
      "Queries:  33%|###3      | 33/100 [06:18<12:46, 11.44s/it]\n",
      "Queries:  34%|###4      | 34/100 [06:30<12:35, 11.45s/it]\n",
      "Queries:  35%|###5      | 35/100 [06:41<12:24, 11.45s/it]\n",
      "Queries:  36%|###6      | 36/100 [06:53<12:12, 11.44s/it]\n",
      "Queries:  37%|###7      | 37/100 [07:04<12:00, 11.43s/it]\n",
      "Queries:  38%|###8      | 38/100 [07:15<11:48, 11.42s/it]\n",
      "Queries:  39%|###9      | 39/100 [07:27<11:36, 11.42s/it]\n",
      "Queries:  40%|####      | 40/100 [07:38<11:25, 11.43s/it]\n",
      "Queries:  41%|####1     | 41/100 [07:50<11:14, 11.43s/it]\n",
      "Queries:  42%|####2     | 42/100 [08:01<11:02, 11.43s/it]\n",
      "Queries:  43%|####3     | 43/100 [08:13<10:51, 11.42s/it]\n",
      "Queries:  44%|####4     | 44/100 [08:24<10:39, 11.43s/it]\n",
      "Queries:  45%|####5     | 45/100 [08:35<10:29, 11.44s/it]\n",
      "Queries:  46%|####6     | 46/100 [08:47<10:17, 11.44s/it]\n",
      "Queries:  47%|####6     | 47/100 [08:58<10:06, 11.44s/it]\n",
      "Queries:  48%|####8     | 48/100 [09:10<09:54, 11.43s/it]\n",
      "Queries:  49%|####9     | 49/100 [09:21<09:42, 11.41s/it]\n",
      "Queries:  50%|#####     | 50/100 [09:33<09:30, 11.41s/it]\n",
      "Queries:  51%|#####1    | 51/100 [09:44<09:19, 11.41s/it]\n",
      "Queries:  52%|#####2    | 52/100 [09:55<09:08, 11.42s/it]\n",
      "Queries:  53%|#####3    | 53/100 [10:07<08:57, 11.43s/it]\n",
      "Queries:  54%|#####4    | 54/100 [10:18<08:46, 11.44s/it]\n",
      "Queries:  55%|#####5    | 55/100 [10:30<08:34, 11.43s/it]\n",
      "Queries:  56%|#####6    | 56/100 [10:41<08:22, 11.42s/it]\n",
      "Queries:  57%|#####6    | 57/100 [10:53<08:10, 11.42s/it]\n",
      "Queries:  58%|#####8    | 58/100 [11:04<07:59, 11.41s/it]\n",
      "Queries:  59%|#####8    | 59/100 [11:15<07:47, 11.41s/it]\n",
      "Queries:  60%|######    | 60/100 [11:27<07:36, 11.41s/it]\n",
      "Queries:  61%|######1   | 61/100 [11:38<07:25, 11.42s/it]\n",
      "Queries:  62%|######2   | 62/100 [11:50<07:14, 11.43s/it]\n",
      "Queries:  63%|######3   | 63/100 [12:01<07:03, 11.45s/it]\n",
      "Queries:  64%|######4   | 64/100 [12:13<06:51, 11.44s/it]\n",
      "Queries:  65%|######5   | 65/100 [12:24<06:40, 11.44s/it]\n",
      "Queries:  66%|######6   | 66/100 [12:35<06:29, 11.44s/it]\n",
      "Queries:  67%|######7   | 67/100 [12:47<06:17, 11.44s/it]\n",
      "Queries:  68%|######8   | 68/100 [12:58<06:06, 11.45s/it]\n",
      "Queries:  69%|######9   | 69/100 [13:10<05:54, 11.45s/it]\n",
      "Queries:  70%|#######   | 70/100 [13:21<05:45, 11.52s/it]\n",
      "Queries:  71%|#######1  | 71/100 [13:33<05:32, 11.48s/it]\n",
      "Queries:  72%|#######2  | 72/100 [13:44<05:20, 11.46s/it]\n",
      "Queries:  73%|#######3  | 73/100 [13:56<05:09, 11.45s/it]\n",
      "Queries:  74%|#######4  | 74/100 [14:07<04:57, 11.45s/it]\n",
      "Queries:  75%|#######5  | 75/100 [14:19<04:46, 11.45s/it]\n",
      "Queries:  76%|#######6  | 76/100 [14:30<04:36, 11.53s/it]\n",
      "Queries:  77%|#######7  | 77/100 [14:42<04:26, 11.57s/it]\n",
      "Queries:  78%|#######8  | 78/100 [14:53<04:13, 11.53s/it]\n",
      "Queries:  79%|#######9  | 79/100 [15:05<04:01, 11.50s/it]\n",
      "Queries:  80%|########  | 80/100 [15:16<03:49, 11.49s/it]\n",
      "Queries:  81%|########1 | 81/100 [15:28<03:37, 11.47s/it]\n",
      "Queries:  82%|########2 | 82/100 [15:39<03:26, 11.46s/it]\n",
      "Queries:  83%|########2 | 83/100 [15:51<03:16, 11.54s/it]\n",
      "Queries:  84%|########4 | 84/100 [16:02<03:04, 11.51s/it]\n",
      "Queries:  85%|########5 | 85/100 [16:14<02:52, 11.48s/it]\n",
      "Queries:  86%|########6 | 86/100 [16:25<02:40, 11.45s/it]\n",
      "Queries:  87%|########7 | 87/100 [16:37<02:29, 11.52s/it]\n",
      "Queries:  88%|########8 | 88/100 [16:48<02:18, 11.57s/it]\n",
      "Queries:  89%|########9 | 89/100 [17:00<02:06, 11.53s/it]\n",
      "Queries:  90%|######### | 90/100 [17:11<01:55, 11.50s/it]\n",
      "Queries:  91%|#########1| 91/100 [17:23<01:43, 11.48s/it]\n",
      "Queries:  92%|#########2| 92/100 [17:34<01:31, 11.46s/it]\n",
      "Queries:  93%|#########3| 93/100 [17:46<01:20, 11.45s/it]\n",
      "Queries:  94%|#########3| 94/100 [17:57<01:08, 11.45s/it]\n",
      "Queries:  95%|#########5| 95/100 [18:09<00:57, 11.45s/it]\n",
      "Queries:  96%|#########6| 96/100 [18:20<00:45, 11.45s/it]\n",
      "Queries:  97%|#########7| 97/100 [18:31<00:34, 11.44s/it]\n",
      "Queries:  98%|#########8| 98/100 [18:43<00:22, 11.44s/it]\n",
      "Queries:  99%|#########9| 99/100 [18:54<00:11, 11.44s/it]\n",
      "Queries: 100%|##########| 100/100 [19:06<00:00, 11.44s/it]\n",
      "Queries: 100%|##########| 100/100 [19:06<00:00, 11.46s/it]\n"
     ]
    },
    {
     "data": {
      "text/html": [
       "<pre style=\"white-space:pre;overflow-x:auto;line-height:normal;font-family:Menlo,'DejaVu Sans Mono',consolas,'Courier New',monospace\">Total Processing Time: <span style=\"color: #008080; text-decoration-color: #008080; font-weight: bold\">19.1</span> minutes\n",
       "</pre>\n"
      ],
      "text/plain": [
       "Total Processing Time: \u001b[1;36m19.1\u001b[0m minutes\n"
      ]
     },
     "metadata": {},
     "output_type": "display_data"
    },
    {
     "data": {
      "text/html": [
       "<pre style=\"white-space:pre;overflow-x:auto;line-height:normal;font-family:Menlo,'DejaVu Sans Mono',consolas,'Courier New',monospace\"><span style=\"color: #008080; text-decoration-color: #008080; font-weight: bold\">0.88</span> <span style=\"color: #008080; text-decoration-color: #008080; font-weight: bold\">0.25394392138579774</span> <span style=\"color: #008080; text-decoration-color: #008080; font-weight: bold\">512</span> <span style=\"color: #008080; text-decoration-color: #008080; font-weight: bold\">100</span>\n",
       "</pre>\n"
      ],
      "text/plain": [
       "\u001b[1;36m0.88\u001b[0m \u001b[1;36m0.25394392138579774\u001b[0m \u001b[1;36m512\u001b[0m \u001b[1;36m100\u001b[0m\n"
      ]
     },
     "metadata": {},
     "output_type": "display_data"
    },
    {
     "name": "stdout",
     "output_type": "stream",
     "text": [
      " 82%|████████▏ | 41/50 [6:09:18<1:24:54, 566.02s/trial, best loss: -0.88]"
     ]
    },
    {
     "data": {
      "text/html": [
       "<pre style=\"white-space:pre;overflow-x:auto;line-height:normal;font-family:Menlo,'DejaVu Sans Mono',consolas,'Courier New',monospace\"><span style=\"color: #008080; text-decoration-color: #008080; font-weight: bold\">0.3890751447578241</span> <span style=\"color: #008080; text-decoration-color: #008080; font-weight: bold\">256</span> <span style=\"color: #008080; text-decoration-color: #008080; font-weight: bold\">50</span>\n",
       "</pre>\n"
      ],
      "text/plain": [
       "\u001b[1;36m0.3890751447578241\u001b[0m \u001b[1;36m256\u001b[0m \u001b[1;36m50\u001b[0m\n"
      ]
     },
     "metadata": {},
     "output_type": "display_data"
    },
    {
     "name": "stderr",
     "output_type": "stream",
     "text": [
      "Queries:   0%|          | 0/100 [00:00<?, ?it/s]\n",
      "Queries:   1%|1         | 1/100 [00:04<06:52,  4.17s/it]\n",
      "Queries:   2%|2         | 2/100 [00:08<06:36,  4.05s/it]\n",
      "Queries:   3%|3         | 3/100 [00:11<06:20,  3.92s/it]\n",
      "Queries:   4%|4         | 4/100 [00:15<06:09,  3.85s/it]\n",
      "Queries:   5%|5         | 5/100 [00:19<06:08,  3.88s/it]\n",
      "Queries:   6%|6         | 6/100 [00:23<05:57,  3.80s/it]\n",
      "Queries:   7%|7         | 7/100 [00:27<05:56,  3.84s/it]\n",
      "Queries:   8%|8         | 8/100 [00:31<05:57,  3.88s/it]\n",
      "Queries:   9%|9         | 9/100 [00:35<05:53,  3.88s/it]\n",
      "Queries:  10%|#         | 10/100 [00:38<05:50,  3.89s/it]\n",
      "Queries:  11%|#1        | 11/100 [00:42<05:41,  3.83s/it]\n",
      "Queries:  12%|#2        | 12/100 [00:46<05:31,  3.77s/it]\n",
      "Queries:  13%|#3        | 13/100 [00:49<05:26,  3.75s/it]\n",
      "Queries:  14%|#4        | 14/100 [00:53<05:27,  3.81s/it]\n",
      "Queries:  15%|#5        | 15/100 [00:57<05:25,  3.83s/it]\n",
      "Queries:  16%|#6        | 16/100 [01:01<05:25,  3.87s/it]\n",
      "Queries:  17%|#7        | 17/100 [01:05<05:22,  3.88s/it]\n",
      "Queries:  18%|#8        | 18/100 [01:09<05:13,  3.83s/it]\n",
      "Queries:  19%|#9        | 19/100 [01:13<05:09,  3.82s/it]\n",
      "Queries:  20%|##        | 20/100 [01:16<05:01,  3.77s/it]\n",
      "Queries:  21%|##1       | 21/100 [01:20<04:54,  3.72s/it]\n",
      "Queries:  22%|##2       | 22/100 [01:24<04:52,  3.75s/it]\n",
      "Queries:  23%|##3       | 23/100 [01:28<04:53,  3.82s/it]\n",
      "Queries:  24%|##4       | 24/100 [01:32<04:52,  3.84s/it]\n",
      "Queries:  25%|##5       | 25/100 [01:35<04:44,  3.80s/it]\n",
      "Queries:  26%|##6       | 26/100 [01:39<04:39,  3.78s/it]\n",
      "Queries:  27%|##7       | 27/100 [01:43<04:34,  3.76s/it]\n",
      "Queries:  28%|##8       | 28/100 [01:46<04:29,  3.74s/it]\n",
      "Queries:  29%|##9       | 29/100 [01:50<04:29,  3.79s/it]\n",
      "Queries:  30%|###       | 30/100 [01:54<04:21,  3.74s/it]\n",
      "Queries:  31%|###1      | 31/100 [01:58<04:16,  3.71s/it]\n",
      "Queries:  32%|###2      | 32/100 [02:01<04:09,  3.67s/it]\n",
      "Queries:  33%|###3      | 33/100 [02:05<04:04,  3.66s/it]\n",
      "Queries:  34%|###4      | 34/100 [02:08<04:00,  3.64s/it]\n",
      "Queries:  35%|###5      | 35/100 [02:12<03:57,  3.66s/it]\n",
      "Queries:  36%|###6      | 36/100 [02:16<04:00,  3.76s/it]\n",
      "Queries:  37%|###7      | 37/100 [02:20<04:01,  3.83s/it]\n",
      "Queries:  38%|###8      | 38/100 [02:24<03:59,  3.87s/it]\n",
      "Queries:  39%|###9      | 39/100 [02:28<03:56,  3.87s/it]\n",
      "Queries:  40%|####      | 40/100 [02:32<03:48,  3.81s/it]\n",
      "Queries:  41%|####1     | 41/100 [02:35<03:41,  3.75s/it]\n",
      "Queries:  42%|####2     | 42/100 [02:39<03:40,  3.79s/it]\n",
      "Queries:  43%|####3     | 43/100 [02:43<03:33,  3.75s/it]\n",
      "Queries:  44%|####4     | 44/100 [02:46<03:28,  3.72s/it]\n",
      "Queries:  45%|####5     | 45/100 [02:50<03:22,  3.67s/it]\n",
      "Queries:  46%|####6     | 46/100 [02:54<03:17,  3.65s/it]\n",
      "Queries:  47%|####6     | 47/100 [02:57<03:16,  3.71s/it]\n",
      "Queries:  48%|####8     | 48/100 [03:01<03:12,  3.71s/it]\n",
      "Queries:  49%|####9     | 49/100 [03:05<03:09,  3.71s/it]\n",
      "Queries:  50%|#####     | 50/100 [03:08<03:01,  3.62s/it]\n",
      "Queries:  51%|#####1    | 51/100 [03:12<03:00,  3.69s/it]\n",
      "Queries:  52%|#####2    | 52/100 [03:16<02:54,  3.63s/it]\n",
      "Queries:  53%|#####3    | 53/100 [03:19<02:53,  3.69s/it]\n",
      "Queries:  54%|#####4    | 54/100 [03:23<02:53,  3.77s/it]\n",
      "Queries:  55%|#####5    | 55/100 [03:27<02:46,  3.71s/it]\n",
      "Queries:  56%|#####6    | 56/100 [03:31<02:42,  3.70s/it]\n",
      "Queries:  57%|#####6    | 57/100 [03:34<02:37,  3.67s/it]\n",
      "Queries:  58%|#####8    | 58/100 [03:38<02:34,  3.67s/it]\n",
      "Queries:  59%|#####8    | 59/100 [03:42<02:31,  3.71s/it]\n",
      "Queries:  60%|######    | 60/100 [03:45<02:29,  3.73s/it]\n",
      "Queries:  61%|######1   | 61/100 [03:49<02:26,  3.75s/it]\n",
      "Queries:  62%|######2   | 62/100 [03:53<02:24,  3.81s/it]\n",
      "Queries:  63%|######3   | 63/100 [03:57<02:22,  3.86s/it]\n",
      "Queries:  64%|######4   | 64/100 [04:01<02:17,  3.81s/it]\n",
      "Queries:  65%|######5   | 65/100 [04:04<02:11,  3.74s/it]\n",
      "Queries:  66%|######6   | 66/100 [04:08<02:08,  3.79s/it]\n",
      "Queries:  67%|######7   | 67/100 [04:12<02:02,  3.72s/it]\n",
      "Queries:  68%|######8   | 68/100 [04:16<01:58,  3.71s/it]\n",
      "Queries:  69%|######9   | 69/100 [04:19<01:53,  3.67s/it]\n",
      "Queries:  70%|#######   | 70/100 [04:23<01:49,  3.66s/it]\n",
      "Queries:  71%|#######1  | 71/100 [04:26<01:46,  3.66s/it]\n",
      "Queries:  72%|#######2  | 72/100 [04:30<01:42,  3.66s/it]\n",
      "Queries:  73%|#######3  | 73/100 [04:34<01:38,  3.64s/it]\n",
      "Queries:  74%|#######4  | 74/100 [04:37<01:35,  3.67s/it]\n",
      "Queries:  75%|#######5  | 75/100 [04:41<01:32,  3.70s/it]\n",
      "Queries:  76%|#######6  | 76/100 [04:45<01:30,  3.75s/it]\n",
      "Queries:  77%|#######7  | 77/100 [04:49<01:24,  3.68s/it]\n",
      "Queries:  78%|#######8  | 78/100 [04:52<01:21,  3.71s/it]\n",
      "Queries:  79%|#######9  | 79/100 [04:56<01:18,  3.74s/it]\n",
      "Queries:  80%|########  | 80/100 [05:00<01:14,  3.71s/it]\n",
      "Queries:  81%|########1 | 81/100 [05:03<01:09,  3.67s/it]\n",
      "Queries:  82%|########2 | 82/100 [05:07<01:05,  3.66s/it]\n",
      "Queries:  83%|########2 | 83/100 [05:11<01:04,  3.78s/it]\n",
      "Queries:  84%|########4 | 84/100 [05:15<00:59,  3.73s/it]\n",
      "Queries:  85%|########5 | 85/100 [05:18<00:55,  3.70s/it]\n",
      "Queries:  86%|########6 | 86/100 [05:22<00:51,  3.68s/it]\n",
      "Queries:  87%|########7 | 87/100 [05:26<00:47,  3.66s/it]\n",
      "Queries:  88%|########8 | 88/100 [05:29<00:44,  3.70s/it]\n",
      "Queries:  89%|########9 | 89/100 [05:33<00:41,  3.76s/it]\n",
      "Queries:  90%|######### | 90/100 [05:37<00:37,  3.76s/it]\n",
      "Queries:  91%|#########1| 91/100 [05:41<00:33,  3.77s/it]\n",
      "Queries:  92%|#########2| 92/100 [05:44<00:29,  3.72s/it]\n",
      "Queries:  93%|#########3| 93/100 [05:48<00:26,  3.79s/it]\n",
      "Queries:  94%|#########3| 94/100 [05:52<00:22,  3.77s/it]\n",
      "Queries:  95%|#########5| 95/100 [05:56<00:18,  3.75s/it]\n",
      "Queries:  96%|#########6| 96/100 [05:59<00:14,  3.69s/it]\n",
      "Queries:  97%|#########7| 97/100 [06:03<00:10,  3.65s/it]\n",
      "Queries:  98%|#########8| 98/100 [06:07<00:07,  3.65s/it]\n",
      "Queries:  99%|#########9| 99/100 [06:10<00:03,  3.64s/it]\n",
      "Queries: 100%|##########| 100/100 [06:14<00:00,  3.72s/it]\n",
      "Queries: 100%|##########| 100/100 [06:14<00:00,  3.75s/it]\n"
     ]
    },
    {
     "data": {
      "text/html": [
       "<pre style=\"white-space:pre;overflow-x:auto;line-height:normal;font-family:Menlo,'DejaVu Sans Mono',consolas,'Courier New',monospace\">Total Processing Time: <span style=\"color: #008080; text-decoration-color: #008080; font-weight: bold\">6.24</span> minutes\n",
       "</pre>\n"
      ],
      "text/plain": [
       "Total Processing Time: \u001b[1;36m6.24\u001b[0m minutes\n"
      ]
     },
     "metadata": {},
     "output_type": "display_data"
    },
    {
     "data": {
      "text/html": [
       "<pre style=\"white-space:pre;overflow-x:auto;line-height:normal;font-family:Menlo,'DejaVu Sans Mono',consolas,'Courier New',monospace\"><span style=\"color: #008080; text-decoration-color: #008080; font-weight: bold\">0.82</span> <span style=\"color: #008080; text-decoration-color: #008080; font-weight: bold\">0.3890751447578241</span> <span style=\"color: #008080; text-decoration-color: #008080; font-weight: bold\">256</span> <span style=\"color: #008080; text-decoration-color: #008080; font-weight: bold\">50</span>\n",
       "</pre>\n"
      ],
      "text/plain": [
       "\u001b[1;36m0.82\u001b[0m \u001b[1;36m0.3890751447578241\u001b[0m \u001b[1;36m256\u001b[0m \u001b[1;36m50\u001b[0m\n"
      ]
     },
     "metadata": {},
     "output_type": "display_data"
    },
    {
     "name": "stdout",
     "output_type": "stream",
     "text": [
      " 84%|████████▍ | 42/50 [6:15:33<1:07:48, 508.61s/trial, best loss: -0.88]"
     ]
    },
    {
     "data": {
      "text/html": [
       "<pre style=\"white-space:pre;overflow-x:auto;line-height:normal;font-family:Menlo,'DejaVu Sans Mono',consolas,'Courier New',monospace\"><span style=\"color: #008080; text-decoration-color: #008080; font-weight: bold\">0.7136831322646144</span> <span style=\"color: #008080; text-decoration-color: #008080; font-weight: bold\">128</span> <span style=\"color: #008080; text-decoration-color: #008080; font-weight: bold\">80</span>\n",
       "</pre>\n"
      ],
      "text/plain": [
       "\u001b[1;36m0.7136831322646144\u001b[0m \u001b[1;36m128\u001b[0m \u001b[1;36m80\u001b[0m\n"
      ]
     },
     "metadata": {},
     "output_type": "display_data"
    },
    {
     "name": "stderr",
     "output_type": "stream",
     "text": [
      "Queries:   0%|          | 0/100 [00:00<?, ?it/s]\n",
      "Queries:   1%|1         | 1/100 [00:03<05:19,  3.22s/it]\n",
      "Queries:   2%|2         | 2/100 [00:06<05:16,  3.23s/it]\n",
      "Queries:   3%|3         | 3/100 [00:09<05:23,  3.34s/it]\n",
      "Queries:   4%|4         | 4/100 [00:13<05:16,  3.29s/it]\n",
      "Queries:   5%|5         | 5/100 [00:16<05:11,  3.28s/it]\n",
      "Queries:   6%|6         | 6/100 [00:19<05:05,  3.25s/it]\n",
      "Queries:   7%|7         | 7/100 [00:22<04:58,  3.22s/it]\n",
      "Queries:   8%|8         | 8/100 [00:25<04:55,  3.22s/it]\n",
      "Queries:   9%|9         | 9/100 [00:29<04:55,  3.25s/it]\n",
      "Queries:  10%|#         | 10/100 [00:32<04:50,  3.23s/it]\n",
      "Queries:  11%|#1        | 11/100 [00:35<04:54,  3.31s/it]\n",
      "Queries:  12%|#2        | 12/100 [00:39<04:49,  3.28s/it]\n",
      "Queries:  13%|#3        | 13/100 [00:42<04:46,  3.30s/it]\n",
      "Queries:  14%|#4        | 14/100 [00:45<04:44,  3.31s/it]\n",
      "Queries:  15%|#5        | 15/100 [00:49<04:40,  3.30s/it]\n",
      "Queries:  16%|#6        | 16/100 [00:52<04:38,  3.31s/it]\n",
      "Queries:  17%|#7        | 17/100 [00:55<04:32,  3.29s/it]\n",
      "Queries:  18%|#8        | 18/100 [00:58<04:29,  3.29s/it]\n",
      "Queries:  19%|#9        | 19/100 [01:02<04:25,  3.28s/it]\n",
      "Queries:  20%|##        | 20/100 [01:05<04:19,  3.24s/it]\n",
      "Queries:  21%|##1       | 21/100 [01:08<04:16,  3.25s/it]\n",
      "Queries:  22%|##2       | 22/100 [01:12<04:15,  3.28s/it]\n",
      "Queries:  23%|##3       | 23/100 [01:15<04:07,  3.22s/it]\n",
      "Queries:  24%|##4       | 24/100 [01:18<04:04,  3.21s/it]\n",
      "Queries:  25%|##5       | 25/100 [01:21<04:02,  3.23s/it]\n",
      "Queries:  26%|##6       | 26/100 [01:24<03:57,  3.20s/it]\n",
      "Queries:  27%|##7       | 27/100 [01:27<03:48,  3.14s/it]\n",
      "Queries:  28%|##8       | 28/100 [01:30<03:48,  3.17s/it]\n",
      "Queries:  29%|##9       | 29/100 [01:34<03:46,  3.20s/it]\n",
      "Queries:  30%|###       | 30/100 [01:37<03:39,  3.13s/it]\n",
      "Queries:  31%|###1      | 31/100 [01:40<03:36,  3.13s/it]\n",
      "Queries:  32%|###2      | 32/100 [01:43<03:35,  3.17s/it]\n",
      "Queries:  33%|###3      | 33/100 [01:46<03:33,  3.19s/it]\n",
      "Queries:  34%|###4      | 34/100 [01:50<03:31,  3.21s/it]\n",
      "Queries:  35%|###5      | 35/100 [01:53<03:26,  3.18s/it]\n",
      "Queries:  36%|###6      | 36/100 [01:56<03:27,  3.24s/it]\n",
      "Queries:  37%|###7      | 37/100 [01:59<03:24,  3.24s/it]\n",
      "Queries:  38%|###8      | 38/100 [02:02<03:18,  3.20s/it]\n",
      "Queries:  39%|###9      | 39/100 [02:05<03:08,  3.09s/it]\n",
      "Queries:  40%|####      | 40/100 [02:08<03:07,  3.13s/it]\n",
      "Queries:  41%|####1     | 41/100 [02:11<03:02,  3.10s/it]\n",
      "Queries:  42%|####2     | 42/100 [02:15<02:59,  3.10s/it]\n",
      "Queries:  43%|####3     | 43/100 [02:18<02:56,  3.09s/it]\n",
      "Queries:  44%|####4     | 44/100 [02:21<02:56,  3.14s/it]\n",
      "Queries:  45%|####5     | 45/100 [02:24<02:51,  3.13s/it]\n",
      "Queries:  46%|####6     | 46/100 [02:27<02:46,  3.08s/it]\n",
      "Queries:  47%|####6     | 47/100 [02:30<02:44,  3.10s/it]\n",
      "Queries:  48%|####8     | 48/100 [02:33<02:44,  3.17s/it]\n",
      "Queries:  49%|####9     | 49/100 [02:37<02:41,  3.18s/it]\n",
      "Queries:  50%|#####     | 50/100 [02:40<02:35,  3.11s/it]\n",
      "Queries:  51%|#####1    | 51/100 [02:43<02:33,  3.13s/it]\n",
      "Queries:  52%|#####2    | 52/100 [02:46<02:28,  3.10s/it]\n",
      "Queries:  53%|#####3    | 53/100 [02:49<02:24,  3.06s/it]\n",
      "Queries:  54%|#####4    | 54/100 [02:52<02:20,  3.05s/it]\n",
      "Queries:  55%|#####5    | 55/100 [02:55<02:18,  3.08s/it]\n",
      "Queries:  56%|#####6    | 56/100 [02:58<02:15,  3.09s/it]\n",
      "Queries:  57%|#####6    | 57/100 [03:01<02:13,  3.11s/it]\n",
      "Queries:  58%|#####8    | 58/100 [03:04<02:08,  3.07s/it]\n",
      "Queries:  59%|#####8    | 59/100 [03:07<02:06,  3.08s/it]\n",
      "Queries:  60%|######    | 60/100 [03:11<02:05,  3.13s/it]\n",
      "Queries:  61%|######1   | 61/100 [03:14<02:06,  3.24s/it]\n",
      "Queries:  62%|######2   | 62/100 [03:17<02:01,  3.20s/it]\n",
      "Queries:  63%|######3   | 63/100 [03:20<01:57,  3.17s/it]\n",
      "Queries:  64%|######4   | 64/100 [03:23<01:52,  3.14s/it]\n",
      "Queries:  65%|######5   | 65/100 [03:27<01:51,  3.17s/it]\n",
      "Queries:  66%|######6   | 66/100 [03:30<01:46,  3.14s/it]\n",
      "Queries:  67%|######7   | 67/100 [03:33<01:43,  3.13s/it]\n",
      "Queries:  68%|######8   | 68/100 [03:36<01:37,  3.05s/it]\n",
      "Queries:  69%|######9   | 69/100 [03:39<01:34,  3.05s/it]\n",
      "Queries:  70%|#######   | 70/100 [03:42<01:31,  3.05s/it]\n",
      "Queries:  71%|#######1  | 71/100 [03:45<01:29,  3.09s/it]\n",
      "Queries:  72%|#######2  | 72/100 [03:48<01:28,  3.16s/it]\n",
      "Queries:  73%|#######3  | 73/100 [03:51<01:24,  3.14s/it]\n",
      "Queries:  74%|#######4  | 74/100 [03:54<01:21,  3.15s/it]\n",
      "Queries:  75%|#######5  | 75/100 [03:58<01:19,  3.18s/it]\n",
      "Queries:  76%|#######6  | 76/100 [04:01<01:16,  3.19s/it]\n",
      "Queries:  77%|#######7  | 77/100 [04:04<01:13,  3.17s/it]\n",
      "Queries:  78%|#######8  | 78/100 [04:07<01:10,  3.19s/it]\n",
      "Queries:  79%|#######9  | 79/100 [04:11<01:08,  3.25s/it]\n",
      "Queries:  80%|########  | 80/100 [04:14<01:03,  3.17s/it]\n",
      "Queries:  81%|########1 | 81/100 [04:17<01:00,  3.17s/it]\n",
      "Queries:  82%|########2 | 82/100 [04:20<00:56,  3.15s/it]\n",
      "Queries:  83%|########2 | 83/100 [04:23<00:53,  3.17s/it]\n",
      "Queries:  84%|########4 | 84/100 [04:26<00:50,  3.14s/it]\n",
      "Queries:  85%|########5 | 85/100 [04:29<00:47,  3.15s/it]\n",
      "Queries:  86%|########6 | 86/100 [04:33<00:44,  3.19s/it]\n",
      "Queries:  87%|########7 | 87/100 [04:36<00:41,  3.21s/it]\n",
      "Queries:  88%|########8 | 88/100 [04:39<00:38,  3.21s/it]\n",
      "Queries:  89%|########9 | 89/100 [04:42<00:35,  3.19s/it]\n",
      "Queries:  90%|######### | 90/100 [04:45<00:31,  3.18s/it]\n",
      "Queries:  91%|#########1| 91/100 [04:49<00:28,  3.18s/it]\n",
      "Queries:  92%|#########2| 92/100 [04:52<00:25,  3.23s/it]\n",
      "Queries:  93%|#########3| 93/100 [04:55<00:23,  3.29s/it]\n",
      "Queries:  94%|#########3| 94/100 [04:59<00:19,  3.25s/it]\n",
      "Queries:  95%|#########5| 95/100 [05:02<00:16,  3.24s/it]\n",
      "Queries:  96%|#########6| 96/100 [05:05<00:12,  3.19s/it]\n",
      "Queries:  97%|#########7| 97/100 [05:08<00:09,  3.24s/it]\n",
      "Queries:  98%|#########8| 98/100 [05:11<00:06,  3.23s/it]\n",
      "Queries:  99%|#########9| 99/100 [05:15<00:03,  3.18s/it]\n",
      "Queries: 100%|##########| 100/100 [05:18<00:00,  3.13s/it]\n",
      "Queries: 100%|##########| 100/100 [05:18<00:00,  3.18s/it]\n"
     ]
    },
    {
     "data": {
      "text/html": [
       "<pre style=\"white-space:pre;overflow-x:auto;line-height:normal;font-family:Menlo,'DejaVu Sans Mono',consolas,'Courier New',monospace\">Total Processing Time: <span style=\"color: #008080; text-decoration-color: #008080; font-weight: bold\">5.3</span> minutes\n",
       "</pre>\n"
      ],
      "text/plain": [
       "Total Processing Time: \u001b[1;36m5.3\u001b[0m minutes\n"
      ]
     },
     "metadata": {},
     "output_type": "display_data"
    },
    {
     "data": {
      "text/html": [
       "<pre style=\"white-space:pre;overflow-x:auto;line-height:normal;font-family:Menlo,'DejaVu Sans Mono',consolas,'Courier New',monospace\"><span style=\"color: #008080; text-decoration-color: #008080; font-weight: bold\">0.75</span> <span style=\"color: #008080; text-decoration-color: #008080; font-weight: bold\">0.7136831322646144</span> <span style=\"color: #008080; text-decoration-color: #008080; font-weight: bold\">128</span> <span style=\"color: #008080; text-decoration-color: #008080; font-weight: bold\">80</span>\n",
       "</pre>\n"
      ],
      "text/plain": [
       "\u001b[1;36m0.75\u001b[0m \u001b[1;36m0.7136831322646144\u001b[0m \u001b[1;36m128\u001b[0m \u001b[1;36m80\u001b[0m\n"
      ]
     },
     "metadata": {},
     "output_type": "display_data"
    },
    {
     "name": "stdout",
     "output_type": "stream",
     "text": [
      " 86%|████████▌ | 43/50 [6:20:51<52:40, 451.44s/trial, best loss: -0.88]  "
     ]
    },
    {
     "data": {
      "text/html": [
       "<pre style=\"white-space:pre;overflow-x:auto;line-height:normal;font-family:Menlo,'DejaVu Sans Mono',consolas,'Courier New',monospace\"><span style=\"color: #008080; text-decoration-color: #008080; font-weight: bold\">0.6586518526854168</span> <span style=\"color: #008080; text-decoration-color: #008080; font-weight: bold\">512</span> <span style=\"color: #008080; text-decoration-color: #008080; font-weight: bold\">40</span>\n",
       "</pre>\n"
      ],
      "text/plain": [
       "\u001b[1;36m0.6586518526854168\u001b[0m \u001b[1;36m512\u001b[0m \u001b[1;36m40\u001b[0m\n"
      ]
     },
     "metadata": {},
     "output_type": "display_data"
    },
    {
     "name": "stderr",
     "output_type": "stream",
     "text": [
      "Queries:   0%|          | 0/100 [00:00<?, ?it/s]\n",
      "Queries:   1%|1         | 1/100 [00:05<08:23,  5.08s/it]\n",
      "Queries:   2%|2         | 2/100 [00:10<08:13,  5.04s/it]\n",
      "Queries:   3%|3         | 3/100 [00:15<08:03,  4.99s/it]\n",
      "Queries:   4%|4         | 4/100 [00:19<07:55,  4.95s/it]\n",
      "Queries:   5%|5         | 5/100 [00:24<07:47,  4.92s/it]\n",
      "Queries:   6%|6         | 6/100 [00:29<07:41,  4.91s/it]\n",
      "Queries:   7%|7         | 7/100 [00:34<07:37,  4.92s/it]\n",
      "Queries:   8%|8         | 8/100 [00:39<07:38,  4.99s/it]\n",
      "Queries:   9%|9         | 9/100 [00:45<07:44,  5.10s/it]\n",
      "Queries:  10%|#         | 10/100 [00:50<07:35,  5.06s/it]\n",
      "Queries:  11%|#1        | 11/100 [00:55<07:31,  5.07s/it]\n",
      "Queries:  12%|#2        | 12/100 [00:59<07:20,  5.00s/it]\n",
      "Queries:  13%|#3        | 13/100 [01:05<07:17,  5.03s/it]\n",
      "Queries:  14%|#4        | 14/100 [01:10<07:13,  5.04s/it]\n",
      "Queries:  15%|#5        | 15/100 [01:15<07:06,  5.01s/it]\n",
      "Queries:  16%|#6        | 16/100 [01:19<06:56,  4.96s/it]\n",
      "Queries:  17%|#7        | 17/100 [01:24<06:48,  4.92s/it]\n",
      "Queries:  18%|#8        | 18/100 [01:29<06:45,  4.95s/it]\n",
      "Queries:  19%|#9        | 19/100 [01:34<06:37,  4.91s/it]\n",
      "Queries:  20%|##        | 20/100 [01:39<06:30,  4.89s/it]\n",
      "Queries:  21%|##1       | 21/100 [01:44<06:30,  4.94s/it]\n",
      "Queries:  22%|##2       | 22/100 [01:49<06:24,  4.93s/it]\n",
      "Queries:  23%|##3       | 23/100 [01:54<06:17,  4.90s/it]\n",
      "Queries:  24%|##4       | 24/100 [01:59<06:16,  4.95s/it]\n",
      "Queries:  25%|##5       | 25/100 [02:04<06:12,  4.96s/it]\n",
      "Queries:  26%|##6       | 26/100 [02:09<06:07,  4.97s/it]\n",
      "Queries:  27%|##7       | 27/100 [02:14<06:01,  4.96s/it]\n",
      "Queries:  28%|##8       | 28/100 [02:19<05:57,  4.97s/it]\n",
      "Queries:  29%|##9       | 29/100 [02:24<05:49,  4.92s/it]\n",
      "Queries:  30%|###       | 30/100 [02:28<05:42,  4.89s/it]\n",
      "Queries:  31%|###1      | 31/100 [02:33<05:41,  4.95s/it]\n",
      "Queries:  32%|###2      | 32/100 [02:38<05:38,  4.98s/it]\n",
      "Queries:  33%|###3      | 33/100 [02:43<05:32,  4.96s/it]\n",
      "Queries:  34%|###4      | 34/100 [02:48<05:24,  4.92s/it]\n",
      "Queries:  35%|###5      | 35/100 [02:53<05:19,  4.91s/it]\n",
      "Queries:  36%|###6      | 36/100 [02:58<05:12,  4.89s/it]\n",
      "Queries:  37%|###7      | 37/100 [03:03<05:08,  4.89s/it]\n",
      "Queries:  38%|###8      | 38/100 [03:08<05:03,  4.90s/it]\n",
      "Queries:  39%|###9      | 39/100 [03:13<04:57,  4.87s/it]\n",
      "Queries:  40%|####      | 40/100 [03:17<04:52,  4.88s/it]\n",
      "Queries:  41%|####1     | 41/100 [03:22<04:48,  4.89s/it]\n",
      "Queries:  42%|####2     | 42/100 [03:27<04:42,  4.87s/it]\n",
      "Queries:  43%|####3     | 43/100 [03:32<04:37,  4.86s/it]\n",
      "Queries:  44%|####4     | 44/100 [03:37<04:33,  4.88s/it]\n",
      "Queries:  45%|####5     | 45/100 [03:42<04:27,  4.87s/it]\n",
      "Queries:  46%|####6     | 46/100 [03:47<04:22,  4.86s/it]\n",
      "Queries:  47%|####6     | 47/100 [03:51<04:16,  4.85s/it]\n",
      "Queries:  48%|####8     | 48/100 [03:56<04:11,  4.84s/it]\n",
      "Queries:  49%|####9     | 49/100 [04:01<04:09,  4.89s/it]\n",
      "Queries:  50%|#####     | 50/100 [04:06<04:04,  4.89s/it]\n",
      "Queries:  51%|#####1    | 51/100 [04:11<03:58,  4.87s/it]\n",
      "Queries:  52%|#####2    | 52/100 [04:16<03:52,  4.85s/it]\n",
      "Queries:  53%|#####3    | 53/100 [04:21<03:48,  4.86s/it]\n",
      "Queries:  54%|#####4    | 54/100 [04:26<03:43,  4.85s/it]\n",
      "Queries:  55%|#####5    | 55/100 [04:30<03:37,  4.84s/it]\n",
      "Queries:  56%|#####6    | 56/100 [04:35<03:35,  4.91s/it]\n",
      "Queries:  57%|#####6    | 57/100 [04:40<03:29,  4.88s/it]\n",
      "Queries:  58%|#####8    | 58/100 [04:45<03:24,  4.86s/it]\n",
      "Queries:  59%|#####8    | 59/100 [04:50<03:20,  4.90s/it]\n",
      "Queries:  60%|######    | 60/100 [04:55<03:15,  4.90s/it]\n",
      "Queries:  61%|######1   | 61/100 [05:00<03:10,  4.88s/it]\n",
      "Queries:  62%|######2   | 62/100 [05:05<03:06,  4.90s/it]\n",
      "Queries:  63%|######3   | 63/100 [05:10<03:03,  4.96s/it]\n",
      "Queries:  64%|######4   | 64/100 [05:15<02:59,  4.99s/it]\n",
      "Queries:  65%|######5   | 65/100 [05:20<02:55,  5.02s/it]\n",
      "Queries:  66%|######6   | 66/100 [05:25<02:48,  4.96s/it]\n",
      "Queries:  67%|######7   | 67/100 [05:30<02:42,  4.92s/it]\n",
      "Queries:  68%|######8   | 68/100 [05:34<02:36,  4.89s/it]\n",
      "Queries:  69%|######9   | 69/100 [05:39<02:31,  4.87s/it]\n",
      "Queries:  70%|#######   | 70/100 [05:44<02:25,  4.86s/it]\n",
      "Queries:  71%|#######1  | 71/100 [05:49<02:20,  4.85s/it]\n",
      "Queries:  72%|#######2  | 72/100 [05:54<02:15,  4.84s/it]\n",
      "Queries:  73%|#######3  | 73/100 [05:59<02:10,  4.85s/it]\n",
      "Queries:  74%|#######4  | 74/100 [06:04<02:07,  4.92s/it]\n",
      "Queries:  75%|#######5  | 75/100 [06:09<02:02,  4.89s/it]\n",
      "Queries:  76%|#######6  | 76/100 [06:13<01:58,  4.92s/it]\n",
      "Queries:  77%|#######7  | 77/100 [06:18<01:52,  4.90s/it]\n",
      "Queries:  78%|#######8  | 78/100 [06:23<01:47,  4.90s/it]\n",
      "Queries:  79%|#######9  | 79/100 [06:28<01:42,  4.87s/it]\n",
      "Queries:  80%|########  | 80/100 [06:33<01:38,  4.93s/it]\n",
      "Queries:  81%|########1 | 81/100 [06:38<01:32,  4.89s/it]\n",
      "Queries:  82%|########2 | 82/100 [06:43<01:27,  4.87s/it]\n",
      "Queries:  83%|########2 | 83/100 [06:48<01:22,  4.85s/it]\n",
      "Queries:  83%|########2 | 83/100 [06:48<01:23,  4.92s/it]\n"
     ]
    },
    {
     "name": "stdout",
     "output_type": "stream",
     "text": [
      " 86%|████████▌ | 43/50 [6:27:39<1:03:06, 540.93s/trial, best loss: -0.88]\n"
     ]
    },
    {
     "ename": "KeyboardInterrupt",
     "evalue": "",
     "output_type": "error",
     "traceback": [
      "\u001b[0;31m---------------------------------------------------------------------------\u001b[0m",
      "\u001b[0;31mKeyboardInterrupt\u001b[0m                         Traceback (most recent call last)",
      "Cell \u001b[0;32mIn[19], line 1\u001b[0m\n\u001b[0;32m----> 1\u001b[0m x0 \u001b[38;5;241m=\u001b[39m \u001b[43mhp\u001b[49m\u001b[38;5;241;43m.\u001b[39;49m\u001b[43mfmin\u001b[49m\u001b[43m(\u001b[49m\n\u001b[1;32m      2\u001b[0m \u001b[43m    \u001b[49m\u001b[43mfn\u001b[49m\u001b[38;5;241;43m=\u001b[39;49m\u001b[43mf\u001b[49m\u001b[43m,\u001b[49m\n\u001b[1;32m      3\u001b[0m \u001b[43m    \u001b[49m\u001b[43mspace\u001b[49m\u001b[38;5;241;43m=\u001b[39;49m\u001b[43m[\u001b[49m\n\u001b[1;32m      4\u001b[0m \u001b[43m        \u001b[49m\u001b[43mhp\u001b[49m\u001b[38;5;241;43m.\u001b[39;49m\u001b[43mhp\u001b[49m\u001b[38;5;241;43m.\u001b[39;49m\u001b[43muniform\u001b[49m\u001b[43m(\u001b[49m\u001b[38;5;124;43m\"\u001b[39;49m\u001b[38;5;124;43malpha\u001b[39;49m\u001b[38;5;124;43m\"\u001b[39;49m\u001b[43m,\u001b[49m\u001b[43m \u001b[49m\u001b[38;5;241;43m0.2\u001b[39;49m\u001b[43m,\u001b[49m\u001b[43m \u001b[49m\u001b[38;5;241;43m0.8\u001b[39;49m\u001b[43m)\u001b[49m\u001b[43m,\u001b[49m\n\u001b[1;32m      5\u001b[0m \u001b[43m        \u001b[49m\u001b[43mhp\u001b[49m\u001b[38;5;241;43m.\u001b[39;49m\u001b[43mhp\u001b[49m\u001b[38;5;241;43m.\u001b[39;49m\u001b[43mrandint\u001b[49m\u001b[43m(\u001b[49m\u001b[38;5;124;43m\"\u001b[39;49m\u001b[38;5;124;43msize\u001b[39;49m\u001b[38;5;124;43m\"\u001b[39;49m\u001b[43m,\u001b[49m\u001b[43m \u001b[49m\u001b[38;5;241;43m0\u001b[39;49m\u001b[43m,\u001b[49m\u001b[43m \u001b[49m\u001b[38;5;241;43m3\u001b[39;49m\u001b[43m)\u001b[49m\u001b[43m,\u001b[49m\n\u001b[1;32m      6\u001b[0m \u001b[43m        \u001b[49m\u001b[43mhp\u001b[49m\u001b[38;5;241;43m.\u001b[39;49m\u001b[43mhp\u001b[49m\u001b[38;5;241;43m.\u001b[39;49m\u001b[43mrandint\u001b[49m\u001b[43m(\u001b[49m\u001b[38;5;124;43m\"\u001b[39;49m\u001b[38;5;124;43mlimit\u001b[39;49m\u001b[38;5;124;43m\"\u001b[39;49m\u001b[43m,\u001b[49m\u001b[43m \u001b[49m\u001b[38;5;241;43m0\u001b[39;49m\u001b[43m,\u001b[49m\u001b[43m \u001b[49m\u001b[38;5;241;43m5\u001b[39;49m\u001b[43m)\u001b[49m\u001b[43m,\u001b[49m\n\u001b[1;32m      7\u001b[0m \u001b[43m    \u001b[49m\u001b[43m]\u001b[49m\u001b[43m,\u001b[49m\n\u001b[1;32m      8\u001b[0m \u001b[43m    \u001b[49m\u001b[43mmax_evals\u001b[49m\u001b[38;5;241;43m=\u001b[39;49m\u001b[38;5;241;43m50\u001b[39;49m\u001b[43m,\u001b[49m\n\u001b[1;32m      9\u001b[0m \u001b[43m)\u001b[49m\n",
      "File \u001b[0;32m/opt/conda/envs/vec/lib/python3.10/site-packages/hyperopt/fmin.py:586\u001b[0m, in \u001b[0;36mfmin\u001b[0;34m(fn, space, algo, max_evals, timeout, loss_threshold, trials, rstate, allow_trials_fmin, pass_expr_memo_ctrl, catch_eval_exceptions, verbose, return_argmin, points_to_evaluate, max_queue_len, show_progressbar, early_stop_fn, trials_save_file)\u001b[0m\n\u001b[1;32m    583\u001b[0m rval\u001b[38;5;241m.\u001b[39mcatch_eval_exceptions \u001b[38;5;241m=\u001b[39m catch_eval_exceptions\n\u001b[1;32m    585\u001b[0m \u001b[38;5;66;03m# next line is where the fmin is actually executed\u001b[39;00m\n\u001b[0;32m--> 586\u001b[0m \u001b[43mrval\u001b[49m\u001b[38;5;241;43m.\u001b[39;49m\u001b[43mexhaust\u001b[49m\u001b[43m(\u001b[49m\u001b[43m)\u001b[49m\n\u001b[1;32m    588\u001b[0m \u001b[38;5;28;01mif\u001b[39;00m return_argmin:\n\u001b[1;32m    589\u001b[0m     \u001b[38;5;28;01mif\u001b[39;00m \u001b[38;5;28mlen\u001b[39m(trials\u001b[38;5;241m.\u001b[39mtrials) \u001b[38;5;241m==\u001b[39m \u001b[38;5;241m0\u001b[39m:\n",
      "File \u001b[0;32m/opt/conda/envs/vec/lib/python3.10/site-packages/hyperopt/fmin.py:364\u001b[0m, in \u001b[0;36mFMinIter.exhaust\u001b[0;34m(self)\u001b[0m\n\u001b[1;32m    362\u001b[0m \u001b[38;5;28;01mdef\u001b[39;00m \u001b[38;5;21mexhaust\u001b[39m(\u001b[38;5;28mself\u001b[39m):\n\u001b[1;32m    363\u001b[0m     n_done \u001b[38;5;241m=\u001b[39m \u001b[38;5;28mlen\u001b[39m(\u001b[38;5;28mself\u001b[39m\u001b[38;5;241m.\u001b[39mtrials)\n\u001b[0;32m--> 364\u001b[0m     \u001b[38;5;28;43mself\u001b[39;49m\u001b[38;5;241;43m.\u001b[39;49m\u001b[43mrun\u001b[49m\u001b[43m(\u001b[49m\u001b[38;5;28;43mself\u001b[39;49m\u001b[38;5;241;43m.\u001b[39;49m\u001b[43mmax_evals\u001b[49m\u001b[43m \u001b[49m\u001b[38;5;241;43m-\u001b[39;49m\u001b[43m \u001b[49m\u001b[43mn_done\u001b[49m\u001b[43m,\u001b[49m\u001b[43m \u001b[49m\u001b[43mblock_until_done\u001b[49m\u001b[38;5;241;43m=\u001b[39;49m\u001b[38;5;28;43mself\u001b[39;49m\u001b[38;5;241;43m.\u001b[39;49m\u001b[43masynchronous\u001b[49m\u001b[43m)\u001b[49m\n\u001b[1;32m    365\u001b[0m     \u001b[38;5;28mself\u001b[39m\u001b[38;5;241m.\u001b[39mtrials\u001b[38;5;241m.\u001b[39mrefresh()\n\u001b[1;32m    366\u001b[0m     \u001b[38;5;28;01mreturn\u001b[39;00m \u001b[38;5;28mself\u001b[39m\n",
      "File \u001b[0;32m/opt/conda/envs/vec/lib/python3.10/site-packages/hyperopt/fmin.py:300\u001b[0m, in \u001b[0;36mFMinIter.run\u001b[0;34m(self, N, block_until_done)\u001b[0m\n\u001b[1;32m    297\u001b[0m     time\u001b[38;5;241m.\u001b[39msleep(\u001b[38;5;28mself\u001b[39m\u001b[38;5;241m.\u001b[39mpoll_interval_secs)\n\u001b[1;32m    298\u001b[0m \u001b[38;5;28;01melse\u001b[39;00m:\n\u001b[1;32m    299\u001b[0m     \u001b[38;5;66;03m# -- loop over trials and do the jobs directly\u001b[39;00m\n\u001b[0;32m--> 300\u001b[0m     \u001b[38;5;28;43mself\u001b[39;49m\u001b[38;5;241;43m.\u001b[39;49m\u001b[43mserial_evaluate\u001b[49m\u001b[43m(\u001b[49m\u001b[43m)\u001b[49m\n\u001b[1;32m    302\u001b[0m \u001b[38;5;28mself\u001b[39m\u001b[38;5;241m.\u001b[39mtrials\u001b[38;5;241m.\u001b[39mrefresh()\n\u001b[1;32m    303\u001b[0m \u001b[38;5;28;01mif\u001b[39;00m \u001b[38;5;28mself\u001b[39m\u001b[38;5;241m.\u001b[39mtrials_save_file \u001b[38;5;241m!=\u001b[39m \u001b[38;5;124m\"\u001b[39m\u001b[38;5;124m\"\u001b[39m:\n",
      "File \u001b[0;32m/opt/conda/envs/vec/lib/python3.10/site-packages/hyperopt/fmin.py:178\u001b[0m, in \u001b[0;36mFMinIter.serial_evaluate\u001b[0;34m(self, N)\u001b[0m\n\u001b[1;32m    176\u001b[0m ctrl \u001b[38;5;241m=\u001b[39m base\u001b[38;5;241m.\u001b[39mCtrl(\u001b[38;5;28mself\u001b[39m\u001b[38;5;241m.\u001b[39mtrials, current_trial\u001b[38;5;241m=\u001b[39mtrial)\n\u001b[1;32m    177\u001b[0m \u001b[38;5;28;01mtry\u001b[39;00m:\n\u001b[0;32m--> 178\u001b[0m     result \u001b[38;5;241m=\u001b[39m \u001b[38;5;28;43mself\u001b[39;49m\u001b[38;5;241;43m.\u001b[39;49m\u001b[43mdomain\u001b[49m\u001b[38;5;241;43m.\u001b[39;49m\u001b[43mevaluate\u001b[49m\u001b[43m(\u001b[49m\u001b[43mspec\u001b[49m\u001b[43m,\u001b[49m\u001b[43m \u001b[49m\u001b[43mctrl\u001b[49m\u001b[43m)\u001b[49m\n\u001b[1;32m    179\u001b[0m \u001b[38;5;28;01mexcept\u001b[39;00m \u001b[38;5;167;01mException\u001b[39;00m \u001b[38;5;28;01mas\u001b[39;00m e:\n\u001b[1;32m    180\u001b[0m     logger\u001b[38;5;241m.\u001b[39merror(\u001b[38;5;124m\"\u001b[39m\u001b[38;5;124mjob exception: \u001b[39m\u001b[38;5;132;01m%s\u001b[39;00m\u001b[38;5;124m\"\u001b[39m \u001b[38;5;241m%\u001b[39m \u001b[38;5;28mstr\u001b[39m(e))\n",
      "File \u001b[0;32m/opt/conda/envs/vec/lib/python3.10/site-packages/hyperopt/base.py:892\u001b[0m, in \u001b[0;36mDomain.evaluate\u001b[0;34m(self, config, ctrl, attach_attachments)\u001b[0m\n\u001b[1;32m    883\u001b[0m \u001b[38;5;28;01melse\u001b[39;00m:\n\u001b[1;32m    884\u001b[0m     \u001b[38;5;66;03m# -- the \"work\" of evaluating `config` can be written\u001b[39;00m\n\u001b[1;32m    885\u001b[0m     \u001b[38;5;66;03m#    either into the pyll part (self.expr)\u001b[39;00m\n\u001b[1;32m    886\u001b[0m     \u001b[38;5;66;03m#    or the normal Python part (self.fn)\u001b[39;00m\n\u001b[1;32m    887\u001b[0m     pyll_rval \u001b[38;5;241m=\u001b[39m pyll\u001b[38;5;241m.\u001b[39mrec_eval(\n\u001b[1;32m    888\u001b[0m         \u001b[38;5;28mself\u001b[39m\u001b[38;5;241m.\u001b[39mexpr,\n\u001b[1;32m    889\u001b[0m         memo\u001b[38;5;241m=\u001b[39mmemo,\n\u001b[1;32m    890\u001b[0m         print_node_on_error\u001b[38;5;241m=\u001b[39m\u001b[38;5;28mself\u001b[39m\u001b[38;5;241m.\u001b[39mrec_eval_print_node_on_error,\n\u001b[1;32m    891\u001b[0m     )\n\u001b[0;32m--> 892\u001b[0m     rval \u001b[38;5;241m=\u001b[39m \u001b[38;5;28;43mself\u001b[39;49m\u001b[38;5;241;43m.\u001b[39;49m\u001b[43mfn\u001b[49m\u001b[43m(\u001b[49m\u001b[43mpyll_rval\u001b[49m\u001b[43m)\u001b[49m\n\u001b[1;32m    894\u001b[0m \u001b[38;5;28;01mif\u001b[39;00m \u001b[38;5;28misinstance\u001b[39m(rval, (\u001b[38;5;28mfloat\u001b[39m, \u001b[38;5;28mint\u001b[39m, np\u001b[38;5;241m.\u001b[39mnumber)):\n\u001b[1;32m    895\u001b[0m     dict_rval \u001b[38;5;241m=\u001b[39m {\u001b[38;5;124m\"\u001b[39m\u001b[38;5;124mloss\u001b[39m\u001b[38;5;124m\"\u001b[39m: \u001b[38;5;28mfloat\u001b[39m(rval), \u001b[38;5;124m\"\u001b[39m\u001b[38;5;124mstatus\u001b[39m\u001b[38;5;124m\"\u001b[39m: STATUS_OK}\n",
      "Cell \u001b[0;32mIn[16], line 3\u001b[0m, in \u001b[0;36mf\u001b[0;34m(x)\u001b[0m\n\u001b[1;32m      1\u001b[0m \u001b[38;5;28;01mdef\u001b[39;00m \u001b[38;5;21mf\u001b[39m(x):\n\u001b[1;32m      2\u001b[0m     \u001b[38;5;28mprint\u001b[39m(x[\u001b[38;5;241m0\u001b[39m], sizes[x[\u001b[38;5;241m1\u001b[39m]], limits[x[\u001b[38;5;241m2\u001b[39m]])\n\u001b[0;32m----> 3\u001b[0m     res \u001b[38;5;241m=\u001b[39m \u001b[43mexecute_evaluation\u001b[49m\u001b[43m(\u001b[49m\n\u001b[1;32m      4\u001b[0m \u001b[43m        \u001b[49m\u001b[43mgolden_datasets\u001b[49m\u001b[43m[\u001b[49m\u001b[43mx\u001b[49m\u001b[43m[\u001b[49m\u001b[38;5;241;43m1\u001b[39;49m\u001b[43m]\u001b[49m\u001b[43m]\u001b[49m\u001b[43m,\u001b[49m\n\u001b[1;32m      5\u001b[0m \u001b[43m        \u001b[49m\u001b[43mcollection_names\u001b[49m\u001b[43m[\u001b[49m\u001b[43mx\u001b[49m\u001b[43m[\u001b[49m\u001b[38;5;241;43m1\u001b[39;49m\u001b[43m]\u001b[49m\u001b[43m]\u001b[49m\u001b[43m,\u001b[49m\n\u001b[1;32m      6\u001b[0m \u001b[43m        \u001b[49m\u001b[43mretriever\u001b[49m\u001b[38;5;241;43m=\u001b[39;49m\u001b[43mclient\u001b[49m\u001b[43m,\u001b[49m\n\u001b[1;32m      7\u001b[0m \u001b[43m        \u001b[49m\u001b[43mreranker\u001b[49m\u001b[38;5;241;43m=\u001b[39;49m\u001b[43mreranker\u001b[49m\u001b[43m,\u001b[49m\n\u001b[1;32m      8\u001b[0m \u001b[43m        \u001b[49m\u001b[43mchunk_size\u001b[49m\u001b[38;5;241;43m=\u001b[39;49m\u001b[43msizes\u001b[49m\u001b[43m[\u001b[49m\u001b[43mx\u001b[49m\u001b[43m[\u001b[49m\u001b[38;5;241;43m1\u001b[39;49m\u001b[43m]\u001b[49m\u001b[43m]\u001b[49m\u001b[43m,\u001b[49m\n\u001b[1;32m      9\u001b[0m \u001b[43m        \u001b[49m\u001b[43malpha\u001b[49m\u001b[38;5;241;43m=\u001b[39;49m\u001b[43mx\u001b[49m\u001b[43m[\u001b[49m\u001b[38;5;241;43m0\u001b[39;49m\u001b[43m]\u001b[49m\u001b[43m,\u001b[49m\n\u001b[1;32m     10\u001b[0m \u001b[43m        \u001b[49m\u001b[43mretrieve_limit\u001b[49m\u001b[38;5;241;43m=\u001b[39;49m\u001b[43mlimits\u001b[49m\u001b[43m[\u001b[49m\u001b[43mx\u001b[49m\u001b[43m[\u001b[49m\u001b[38;5;241;43m2\u001b[39;49m\u001b[43m]\u001b[49m\u001b[43m]\u001b[49m\u001b[43m,\u001b[49m\n\u001b[1;32m     11\u001b[0m \u001b[43m        \u001b[49m\u001b[43mdir_outpath\u001b[49m\u001b[38;5;241;43m=\u001b[39;49m\u001b[38;5;124;43m\"\u001b[39;49m\u001b[38;5;124;43mdrive/MyDrive/outfiles4/\u001b[39;49m\u001b[38;5;124;43m\"\u001b[39;49m\u001b[43m,\u001b[49m\n\u001b[1;32m     12\u001b[0m \u001b[43m    \u001b[49m\u001b[43m)\u001b[49m\n\u001b[1;32m     13\u001b[0m     \u001b[38;5;28mprint\u001b[39m(res[\u001b[38;5;124m\"\u001b[39m\u001b[38;5;124mhybrid_hit_rate\u001b[39m\u001b[38;5;124m\"\u001b[39m], x[\u001b[38;5;241m0\u001b[39m], sizes[x[\u001b[38;5;241m1\u001b[39m]], limits[x[\u001b[38;5;241m2\u001b[39m]])\n\u001b[1;32m     14\u001b[0m     \u001b[38;5;28;01mreturn\u001b[39;00m (\u001b[38;5;241m-\u001b[39m\u001b[38;5;241m1\u001b[39m) \u001b[38;5;241m*\u001b[39m res[\u001b[38;5;124m\"\u001b[39m\u001b[38;5;124mhybrid_hit_rate\u001b[39m\u001b[38;5;124m\"\u001b[39m]\n",
      "File \u001b[0;32m~/vectorsearch-applications/notebooks/../src/evaluation/retrieval_evaluation.py:478\u001b[0m, in \u001b[0;36mexecute_evaluation\u001b[0;34m(dataset, collection_name, retriever, reranker, alpha, retrieve_limit, top_k, chunk_size, search_type, query_properties, return_properties, dir_outpath, include_miss_info, user_def_params)\u001b[0m\n\u001b[1;32m    476\u001b[0m \u001b[38;5;28;01mtry\u001b[39;00m:\n\u001b[1;32m    477\u001b[0m     \u001b[38;5;28;01mif\u001b[39;00m \u001b[38;5;124m'\u001b[39m\u001b[38;5;124mhybrid\u001b[39m\u001b[38;5;124m'\u001b[39m \u001b[38;5;129;01min\u001b[39;00m search_type:\n\u001b[0;32m--> 478\u001b[0m         hybrid_doc_ids,hybrid_response \u001b[38;5;241m=\u001b[39m \u001b[43mget_doc_ids\u001b[49m\u001b[43m(\u001b[49m\u001b[38;5;124;43m'\u001b[39;49m\u001b[38;5;124;43mhybrid\u001b[39;49m\u001b[38;5;124;43m'\u001b[39;49m\u001b[43m,\u001b[49m\u001b[43m \u001b[49m\u001b[43mretriever\u001b[49m\u001b[43m,\u001b[49m\u001b[43m \u001b[49m\u001b[43mq\u001b[49m\u001b[43m,\u001b[49m\u001b[43m \u001b[49m\u001b[43mcollection_name\u001b[49m\u001b[43m,\u001b[49m\u001b[43m \u001b[49m\u001b[43mreranker\u001b[49m\u001b[43m,\u001b[49m\u001b[43m \u001b[49m\u001b[43mreturn_properties\u001b[49m\u001b[43m,\u001b[49m\u001b[43m \u001b[49m\n\u001b[1;32m    479\u001b[0m \u001b[43m                                         \u001b[49m\u001b[43mretrieve_limit\u001b[49m\u001b[43m,\u001b[49m\u001b[43m \u001b[49m\u001b[43mtop_k\u001b[49m\u001b[43m,\u001b[49m\u001b[43m \u001b[49m\u001b[43malpha\u001b[49m\u001b[43m,\u001b[49m\u001b[43m \u001b[49m\u001b[43mquery_properties\u001b[49m\u001b[43m)\u001b[49m\n\u001b[1;32m    480\u001b[0m     \u001b[38;5;28;01mif\u001b[39;00m \u001b[38;5;124m'\u001b[39m\u001b[38;5;124mkw\u001b[39m\u001b[38;5;124m'\u001b[39m \u001b[38;5;129;01min\u001b[39;00m search_type:\n\u001b[1;32m    481\u001b[0m         kw_doc_ids,kw_response \u001b[38;5;241m=\u001b[39m get_doc_ids(\u001b[38;5;124m'\u001b[39m\u001b[38;5;124mkw\u001b[39m\u001b[38;5;124m'\u001b[39m, retriever, q, collection_name, reranker, return_properties, \n\u001b[1;32m    482\u001b[0m                                  retrieve_limit, top_k, query_properties\u001b[38;5;241m=\u001b[39mquery_properties)\n",
      "File \u001b[0;32m~/vectorsearch-applications/notebooks/../src/evaluation/retrieval_evaluation.py:615\u001b[0m, in \u001b[0;36mget_doc_ids\u001b[0;34m(search_mode, retriever, query, collection_name, reranker, return_properties, retrieve_limit, top_k, alpha, query_properties)\u001b[0m\n\u001b[1;32m    603\u001b[0m \u001b[38;5;28;01mdef\u001b[39;00m \u001b[38;5;21mget_doc_ids\u001b[39m(search_mode: \u001b[38;5;28mstr\u001b[39m, \n\u001b[1;32m    604\u001b[0m                 retriever: WeaviateWCS,\n\u001b[1;32m    605\u001b[0m                 query: \u001b[38;5;28mstr\u001b[39m, \n\u001b[0;32m   (...)\u001b[0m\n\u001b[1;32m    612\u001b[0m                 query_properties: \u001b[38;5;28mlist\u001b[39m[\u001b[38;5;28mstr\u001b[39m]\u001b[38;5;241m=\u001b[39m\u001b[38;5;28;01mNone\u001b[39;00m\n\u001b[1;32m    613\u001b[0m                 ) \u001b[38;5;241m-\u001b[39m\u001b[38;5;241m>\u001b[39m \u001b[38;5;28mlist\u001b[39m[\u001b[38;5;28mstr\u001b[39m]:\n\u001b[1;32m    614\u001b[0m     \u001b[38;5;28;01mif\u001b[39;00m search_mode \u001b[38;5;241m==\u001b[39m \u001b[38;5;124m'\u001b[39m\u001b[38;5;124mhybrid\u001b[39m\u001b[38;5;124m'\u001b[39m:\n\u001b[0;32m--> 615\u001b[0m         response \u001b[38;5;241m=\u001b[39m \u001b[43mretriever\u001b[49m\u001b[38;5;241;43m.\u001b[39;49m\u001b[43mhybrid_search\u001b[49m\u001b[43m(\u001b[49m\u001b[43mrequest\u001b[49m\u001b[38;5;241;43m=\u001b[39;49m\u001b[43mquery\u001b[49m\u001b[43m,\u001b[49m\u001b[43m \u001b[49m\u001b[43mcollection_name\u001b[49m\u001b[38;5;241;43m=\u001b[39;49m\u001b[43mcollection_name\u001b[49m\u001b[43m,\u001b[49m\u001b[43m \u001b[49m\u001b[43mquery_properties\u001b[49m\u001b[38;5;241;43m=\u001b[39;49m\u001b[43mquery_properties\u001b[49m\u001b[43m,\u001b[49m\u001b[43m \u001b[49m\n\u001b[1;32m    616\u001b[0m \u001b[43m                                           \u001b[49m\u001b[43malpha\u001b[49m\u001b[38;5;241;43m=\u001b[39;49m\u001b[43malpha\u001b[49m\u001b[43m,\u001b[49m\u001b[43mlimit\u001b[49m\u001b[38;5;241;43m=\u001b[39;49m\u001b[43mretrieve_limit\u001b[49m\u001b[43m,\u001b[49m\u001b[43mreturn_properties\u001b[49m\u001b[38;5;241;43m=\u001b[39;49m\u001b[43mreturn_properties\u001b[49m\u001b[43m)\u001b[49m  \n\u001b[1;32m    617\u001b[0m     \u001b[38;5;28;01melif\u001b[39;00m search_mode \u001b[38;5;241m==\u001b[39m \u001b[38;5;124m'\u001b[39m\u001b[38;5;124mkw\u001b[39m\u001b[38;5;124m'\u001b[39m:\n\u001b[1;32m    618\u001b[0m         response \u001b[38;5;241m=\u001b[39m retriever\u001b[38;5;241m.\u001b[39mkeyword_search(request\u001b[38;5;241m=\u001b[39mquery, collection_name\u001b[38;5;241m=\u001b[39mcollection_name, query_properties\u001b[38;5;241m=\u001b[39mquery_properties, \n\u001b[1;32m    619\u001b[0m                                             limit\u001b[38;5;241m=\u001b[39mretrieve_limit, return_properties\u001b[38;5;241m=\u001b[39mreturn_properties)\n",
      "File \u001b[0;32m~/vectorsearch-applications/notebooks/../src/database/weaviate_interface_v4.py:393\u001b[0m, in \u001b[0;36mWeaviateWCS.hybrid_search\u001b[0;34m(self, request, collection_name, query_properties, alpha, limit, filter, return_properties, return_raw, device)\u001b[0m\n\u001b[1;32m    391\u001b[0m query_vector \u001b[38;5;241m=\u001b[39m \u001b[38;5;28mself\u001b[39m\u001b[38;5;241m.\u001b[39m_create_query_vector(request, device\u001b[38;5;241m=\u001b[39mdevice)\n\u001b[1;32m    392\u001b[0m collection \u001b[38;5;241m=\u001b[39m \u001b[38;5;28mself\u001b[39m\u001b[38;5;241m.\u001b[39m_client\u001b[38;5;241m.\u001b[39mcollections\u001b[38;5;241m.\u001b[39mget(collection_name)\n\u001b[0;32m--> 393\u001b[0m response \u001b[38;5;241m=\u001b[39m \u001b[43mcollection\u001b[49m\u001b[38;5;241;43m.\u001b[39;49m\u001b[43mquery\u001b[49m\u001b[38;5;241;43m.\u001b[39;49m\u001b[43mhybrid\u001b[49m\u001b[43m(\u001b[49m\n\u001b[1;32m    394\u001b[0m \u001b[43m    \u001b[49m\u001b[43mquery\u001b[49m\u001b[38;5;241;43m=\u001b[39;49m\u001b[43mrequest\u001b[49m\u001b[43m,\u001b[49m\n\u001b[1;32m    395\u001b[0m \u001b[43m    \u001b[49m\u001b[43mquery_properties\u001b[49m\u001b[38;5;241;43m=\u001b[39;49m\u001b[43mquery_properties\u001b[49m\u001b[43m,\u001b[49m\n\u001b[1;32m    396\u001b[0m \u001b[43m    \u001b[49m\u001b[43mfilters\u001b[49m\u001b[38;5;241;43m=\u001b[39;49m\u001b[38;5;28;43mfilter\u001b[39;49m\u001b[43m,\u001b[49m\n\u001b[1;32m    397\u001b[0m \u001b[43m    \u001b[49m\u001b[43mvector\u001b[49m\u001b[38;5;241;43m=\u001b[39;49m\u001b[43mquery_vector\u001b[49m\u001b[43m,\u001b[49m\n\u001b[1;32m    398\u001b[0m \u001b[43m    \u001b[49m\u001b[43malpha\u001b[49m\u001b[38;5;241;43m=\u001b[39;49m\u001b[43malpha\u001b[49m\u001b[43m,\u001b[49m\n\u001b[1;32m    399\u001b[0m \u001b[43m    \u001b[49m\u001b[43mlimit\u001b[49m\u001b[38;5;241;43m=\u001b[39;49m\u001b[43mlimit\u001b[49m\u001b[43m,\u001b[49m\n\u001b[1;32m    400\u001b[0m \u001b[43m    \u001b[49m\u001b[43mreturn_metadata\u001b[49m\u001b[38;5;241;43m=\u001b[39;49m\u001b[43mMetadataQuery\u001b[49m\u001b[43m(\u001b[49m\u001b[43mscore\u001b[49m\u001b[38;5;241;43m=\u001b[39;49m\u001b[38;5;28;43;01mTrue\u001b[39;49;00m\u001b[43m,\u001b[49m\u001b[43m \u001b[49m\u001b[43mdistance\u001b[49m\u001b[38;5;241;43m=\u001b[39;49m\u001b[38;5;28;43;01mTrue\u001b[39;49;00m\u001b[43m)\u001b[49m\u001b[43m,\u001b[49m\n\u001b[1;32m    401\u001b[0m \u001b[43m    \u001b[49m\u001b[43mreturn_properties\u001b[49m\u001b[38;5;241;43m=\u001b[39;49m\u001b[43mreturn_properties\u001b[49m\u001b[43m,\u001b[49m\n\u001b[1;32m    402\u001b[0m \u001b[43m\u001b[49m\u001b[43m)\u001b[49m\n\u001b[1;32m    403\u001b[0m \u001b[38;5;28;01mif\u001b[39;00m return_raw:\n\u001b[1;32m    404\u001b[0m     \u001b[38;5;28;01mreturn\u001b[39;00m response\n",
      "File \u001b[0;32m/opt/conda/envs/vec/lib/python3.10/site-packages/weaviate/collections/queries/hybrid/query.py:84\u001b[0m, in \u001b[0;36m_HybridQuery.hybrid\u001b[0;34m(self, query, alpha, vector, query_properties, fusion_type, limit, offset, auto_limit, filters, rerank, target_vector, include_vector, return_metadata, return_properties, return_references)\u001b[0m\n\u001b[1;32m     19\u001b[0m \u001b[38;5;28;01mdef\u001b[39;00m \u001b[38;5;21mhybrid\u001b[39m(\n\u001b[1;32m     20\u001b[0m     \u001b[38;5;28mself\u001b[39m,\n\u001b[1;32m     21\u001b[0m     query: Optional[\u001b[38;5;28mstr\u001b[39m],\n\u001b[0;32m   (...)\u001b[0m\n\u001b[1;32m     36\u001b[0m     return_references: Optional[ReturnReferences[TReferences]] \u001b[38;5;241m=\u001b[39m \u001b[38;5;28;01mNone\u001b[39;00m,\n\u001b[1;32m     37\u001b[0m ) \u001b[38;5;241m-\u001b[39m\u001b[38;5;241m>\u001b[39m QueryReturnType[Properties, References, TProperties, TReferences]:\n\u001b[1;32m     38\u001b[0m \u001b[38;5;250m    \u001b[39m\u001b[38;5;124;03m\"\"\"Search for objects in this collection using the hybrid algorithm blending keyword-based BM25 and vector-based similarity.\u001b[39;00m\n\u001b[1;32m     39\u001b[0m \n\u001b[1;32m     40\u001b[0m \u001b[38;5;124;03m    See the [docs](https://weaviate.io/developers/weaviate/search/hybrid) for a more detailed explanation.\u001b[39;00m\n\u001b[0;32m   (...)\u001b[0m\n\u001b[1;32m     82\u001b[0m \u001b[38;5;124;03m            If the network connection to Weaviate fails.\u001b[39;00m\n\u001b[1;32m     83\u001b[0m \u001b[38;5;124;03m    \"\"\"\u001b[39;00m\n\u001b[0;32m---> 84\u001b[0m     res \u001b[38;5;241m=\u001b[39m \u001b[38;5;28;43mself\u001b[39;49m\u001b[38;5;241;43m.\u001b[39;49m\u001b[43m_query\u001b[49m\u001b[38;5;241;43m.\u001b[39;49m\u001b[43mhybrid\u001b[49m\u001b[43m(\u001b[49m\n\u001b[1;32m     85\u001b[0m \u001b[43m        \u001b[49m\u001b[43mquery\u001b[49m\u001b[38;5;241;43m=\u001b[39;49m\u001b[43mquery\u001b[49m\u001b[43m,\u001b[49m\n\u001b[1;32m     86\u001b[0m \u001b[43m        \u001b[49m\u001b[43malpha\u001b[49m\u001b[38;5;241;43m=\u001b[39;49m\u001b[43malpha\u001b[49m\u001b[43m,\u001b[49m\n\u001b[1;32m     87\u001b[0m \u001b[43m        \u001b[49m\u001b[43mvector\u001b[49m\u001b[38;5;241;43m=\u001b[39;49m\u001b[43mvector\u001b[49m\u001b[43m,\u001b[49m\n\u001b[1;32m     88\u001b[0m \u001b[43m        \u001b[49m\u001b[43mproperties\u001b[49m\u001b[38;5;241;43m=\u001b[39;49m\u001b[43mquery_properties\u001b[49m\u001b[43m,\u001b[49m\n\u001b[1;32m     89\u001b[0m \u001b[43m        \u001b[49m\u001b[43mfusion_type\u001b[49m\u001b[38;5;241;43m=\u001b[39;49m\u001b[43mfusion_type\u001b[49m\u001b[43m,\u001b[49m\n\u001b[1;32m     90\u001b[0m \u001b[43m        \u001b[49m\u001b[43mlimit\u001b[49m\u001b[38;5;241;43m=\u001b[39;49m\u001b[43mlimit\u001b[49m\u001b[43m,\u001b[49m\n\u001b[1;32m     91\u001b[0m \u001b[43m        \u001b[49m\u001b[43moffset\u001b[49m\u001b[38;5;241;43m=\u001b[39;49m\u001b[43moffset\u001b[49m\u001b[43m,\u001b[49m\n\u001b[1;32m     92\u001b[0m \u001b[43m        \u001b[49m\u001b[43mautocut\u001b[49m\u001b[38;5;241;43m=\u001b[39;49m\u001b[43mauto_limit\u001b[49m\u001b[43m,\u001b[49m\n\u001b[1;32m     93\u001b[0m \u001b[43m        \u001b[49m\u001b[43mfilters\u001b[49m\u001b[38;5;241;43m=\u001b[39;49m\u001b[43mfilters\u001b[49m\u001b[43m,\u001b[49m\n\u001b[1;32m     94\u001b[0m \u001b[43m        \u001b[49m\u001b[43mrerank\u001b[49m\u001b[38;5;241;43m=\u001b[39;49m\u001b[43mrerank\u001b[49m\u001b[43m,\u001b[49m\n\u001b[1;32m     95\u001b[0m \u001b[43m        \u001b[49m\u001b[43mtarget_vector\u001b[49m\u001b[38;5;241;43m=\u001b[39;49m\u001b[43mtarget_vector\u001b[49m\u001b[43m,\u001b[49m\n\u001b[1;32m     96\u001b[0m \u001b[43m        \u001b[49m\u001b[43mreturn_metadata\u001b[49m\u001b[38;5;241;43m=\u001b[39;49m\u001b[38;5;28;43mself\u001b[39;49m\u001b[38;5;241;43m.\u001b[39;49m\u001b[43m_parse_return_metadata\u001b[49m\u001b[43m(\u001b[49m\u001b[43mreturn_metadata\u001b[49m\u001b[43m,\u001b[49m\u001b[43m \u001b[49m\u001b[43minclude_vector\u001b[49m\u001b[43m)\u001b[49m\u001b[43m,\u001b[49m\n\u001b[1;32m     97\u001b[0m \u001b[43m        \u001b[49m\u001b[43mreturn_properties\u001b[49m\u001b[38;5;241;43m=\u001b[39;49m\u001b[38;5;28;43mself\u001b[39;49m\u001b[38;5;241;43m.\u001b[39;49m\u001b[43m_parse_return_properties\u001b[49m\u001b[43m(\u001b[49m\u001b[43mreturn_properties\u001b[49m\u001b[43m)\u001b[49m\u001b[43m,\u001b[49m\n\u001b[1;32m     98\u001b[0m \u001b[43m        \u001b[49m\u001b[43mreturn_references\u001b[49m\u001b[38;5;241;43m=\u001b[39;49m\u001b[38;5;28;43mself\u001b[39;49m\u001b[38;5;241;43m.\u001b[39;49m\u001b[43m_parse_return_references\u001b[49m\u001b[43m(\u001b[49m\u001b[43mreturn_references\u001b[49m\u001b[43m)\u001b[49m\u001b[43m,\u001b[49m\n\u001b[1;32m     99\u001b[0m \u001b[43m    \u001b[49m\u001b[43m)\u001b[49m\n\u001b[1;32m    100\u001b[0m     \u001b[38;5;28;01mreturn\u001b[39;00m \u001b[38;5;28mself\u001b[39m\u001b[38;5;241m.\u001b[39m_result_to_query_return(\n\u001b[1;32m    101\u001b[0m         res,\n\u001b[1;32m    102\u001b[0m         _QueryOptions\u001b[38;5;241m.\u001b[39mfrom_input(\n\u001b[0;32m   (...)\u001b[0m\n\u001b[1;32m    111\u001b[0m         return_references,\n\u001b[1;32m    112\u001b[0m     )\n",
      "File \u001b[0;32m/opt/conda/envs/vec/lib/python3.10/site-packages/weaviate/collections/grpc/query.py:207\u001b[0m, in \u001b[0;36m_QueryGRPC.hybrid\u001b[0;34m(self, query, alpha, vector, properties, fusion_type, limit, offset, autocut, filters, return_metadata, return_properties, return_references, generative, rerank, target_vector)\u001b[0m\n\u001b[1;32m    172\u001b[0m hybrid_search \u001b[38;5;241m=\u001b[39m (\n\u001b[1;32m    173\u001b[0m     search_get_pb2\u001b[38;5;241m.\u001b[39mHybrid(\n\u001b[1;32m    174\u001b[0m         properties\u001b[38;5;241m=\u001b[39mproperties,\n\u001b[0;32m   (...)\u001b[0m\n\u001b[1;32m    191\u001b[0m     \u001b[38;5;28;01melse\u001b[39;00m \u001b[38;5;28;01mNone\u001b[39;00m\n\u001b[1;32m    192\u001b[0m )\n\u001b[1;32m    194\u001b[0m request \u001b[38;5;241m=\u001b[39m \u001b[38;5;28mself\u001b[39m\u001b[38;5;241m.\u001b[39m__create_request(\n\u001b[1;32m    195\u001b[0m     limit\u001b[38;5;241m=\u001b[39mlimit,\n\u001b[1;32m    196\u001b[0m     offset\u001b[38;5;241m=\u001b[39moffset,\n\u001b[0;32m   (...)\u001b[0m\n\u001b[1;32m    204\u001b[0m     hybrid_search\u001b[38;5;241m=\u001b[39mhybrid_search,\n\u001b[1;32m    205\u001b[0m )\n\u001b[0;32m--> 207\u001b[0m \u001b[38;5;28;01mreturn\u001b[39;00m \u001b[38;5;28;43mself\u001b[39;49m\u001b[38;5;241;43m.\u001b[39;49m\u001b[43m__call\u001b[49m\u001b[43m(\u001b[49m\u001b[43mrequest\u001b[49m\u001b[43m)\u001b[49m\n",
      "File \u001b[0;32m/opt/conda/envs/vec/lib/python3.10/site-packages/weaviate/collections/grpc/query.py:609\u001b[0m, in \u001b[0;36m_QueryGRPC.__call\u001b[0;34m(self, request)\u001b[0m\n\u001b[1;32m    607\u001b[0m     \u001b[38;5;28;01massert\u001b[39;00m \u001b[38;5;28mself\u001b[39m\u001b[38;5;241m.\u001b[39m_connection\u001b[38;5;241m.\u001b[39mgrpc_stub \u001b[38;5;129;01mis\u001b[39;00m \u001b[38;5;129;01mnot\u001b[39;00m \u001b[38;5;28;01mNone\u001b[39;00m\n\u001b[1;32m    608\u001b[0m     res: search_get_pb2\u001b[38;5;241m.\u001b[39mSearchReply  \u001b[38;5;66;03m# According to PEP-0526\u001b[39;00m\n\u001b[0;32m--> 609\u001b[0m     res, _ \u001b[38;5;241m=\u001b[39m \u001b[38;5;28;43mself\u001b[39;49m\u001b[38;5;241;43m.\u001b[39;49m\u001b[43m_connection\u001b[49m\u001b[38;5;241;43m.\u001b[39;49m\u001b[43mgrpc_stub\u001b[49m\u001b[38;5;241;43m.\u001b[39;49m\u001b[43mSearch\u001b[49m\u001b[38;5;241;43m.\u001b[39;49m\u001b[43mwith_call\u001b[49m\u001b[43m(\u001b[49m\n\u001b[1;32m    610\u001b[0m \u001b[43m        \u001b[49m\u001b[43mrequest\u001b[49m\u001b[43m,\u001b[49m\n\u001b[1;32m    611\u001b[0m \u001b[43m        \u001b[49m\u001b[43mmetadata\u001b[49m\u001b[38;5;241;43m=\u001b[39;49m\u001b[38;5;28;43mself\u001b[39;49m\u001b[38;5;241;43m.\u001b[39;49m\u001b[43m_connection\u001b[49m\u001b[38;5;241;43m.\u001b[39;49m\u001b[43mgrpc_headers\u001b[49m\u001b[43m(\u001b[49m\u001b[43m)\u001b[49m\u001b[43m,\u001b[49m\n\u001b[1;32m    612\u001b[0m \u001b[43m        \u001b[49m\u001b[43mtimeout\u001b[49m\u001b[38;5;241;43m=\u001b[39;49m\u001b[38;5;28;43mself\u001b[39;49m\u001b[38;5;241;43m.\u001b[39;49m\u001b[43m_connection\u001b[49m\u001b[38;5;241;43m.\u001b[39;49m\u001b[43mtimeout_config\u001b[49m\u001b[38;5;241;43m.\u001b[39;49m\u001b[43mquery\u001b[49m\u001b[43m,\u001b[49m\n\u001b[1;32m    613\u001b[0m \u001b[43m    \u001b[49m\u001b[43m)\u001b[49m\n\u001b[1;32m    615\u001b[0m     \u001b[38;5;28;01mreturn\u001b[39;00m res\n\u001b[1;32m    617\u001b[0m \u001b[38;5;28;01mexcept\u001b[39;00m grpc\u001b[38;5;241m.\u001b[39mRpcError \u001b[38;5;28;01mas\u001b[39;00m e:\n",
      "File \u001b[0;32m/opt/conda/envs/vec/lib/python3.10/site-packages/grpc/_channel.py:1195\u001b[0m, in \u001b[0;36m_UnaryUnaryMultiCallable.with_call\u001b[0;34m(self, request, timeout, metadata, credentials, wait_for_ready, compression)\u001b[0m\n\u001b[1;32m   1183\u001b[0m \u001b[38;5;28;01mdef\u001b[39;00m \u001b[38;5;21mwith_call\u001b[39m(\n\u001b[1;32m   1184\u001b[0m     \u001b[38;5;28mself\u001b[39m,\n\u001b[1;32m   1185\u001b[0m     request: Any,\n\u001b[0;32m   (...)\u001b[0m\n\u001b[1;32m   1190\u001b[0m     compression: Optional[grpc\u001b[38;5;241m.\u001b[39mCompression] \u001b[38;5;241m=\u001b[39m \u001b[38;5;28;01mNone\u001b[39;00m,\n\u001b[1;32m   1191\u001b[0m ) \u001b[38;5;241m-\u001b[39m\u001b[38;5;241m>\u001b[39m Tuple[Any, grpc\u001b[38;5;241m.\u001b[39mCall]:\n\u001b[1;32m   1192\u001b[0m     (\n\u001b[1;32m   1193\u001b[0m         state,\n\u001b[1;32m   1194\u001b[0m         call,\n\u001b[0;32m-> 1195\u001b[0m     ) \u001b[38;5;241m=\u001b[39m \u001b[38;5;28;43mself\u001b[39;49m\u001b[38;5;241;43m.\u001b[39;49m\u001b[43m_blocking\u001b[49m\u001b[43m(\u001b[49m\n\u001b[1;32m   1196\u001b[0m \u001b[43m        \u001b[49m\u001b[43mrequest\u001b[49m\u001b[43m,\u001b[49m\u001b[43m \u001b[49m\u001b[43mtimeout\u001b[49m\u001b[43m,\u001b[49m\u001b[43m \u001b[49m\u001b[43mmetadata\u001b[49m\u001b[43m,\u001b[49m\u001b[43m \u001b[49m\u001b[43mcredentials\u001b[49m\u001b[43m,\u001b[49m\u001b[43m \u001b[49m\u001b[43mwait_for_ready\u001b[49m\u001b[43m,\u001b[49m\u001b[43m \u001b[49m\u001b[43mcompression\u001b[49m\n\u001b[1;32m   1197\u001b[0m \u001b[43m    \u001b[49m\u001b[43m)\u001b[49m\n\u001b[1;32m   1198\u001b[0m     \u001b[38;5;28;01mreturn\u001b[39;00m _end_unary_response_blocking(state, call, \u001b[38;5;28;01mTrue\u001b[39;00m, \u001b[38;5;28;01mNone\u001b[39;00m)\n",
      "File \u001b[0;32m/opt/conda/envs/vec/lib/python3.10/site-packages/grpc/_channel.py:1162\u001b[0m, in \u001b[0;36m_UnaryUnaryMultiCallable._blocking\u001b[0;34m(self, request, timeout, metadata, credentials, wait_for_ready, compression)\u001b[0m\n\u001b[1;32m   1145\u001b[0m state\u001b[38;5;241m.\u001b[39mtarget \u001b[38;5;241m=\u001b[39m _common\u001b[38;5;241m.\u001b[39mdecode(\u001b[38;5;28mself\u001b[39m\u001b[38;5;241m.\u001b[39m_target)\n\u001b[1;32m   1146\u001b[0m call \u001b[38;5;241m=\u001b[39m \u001b[38;5;28mself\u001b[39m\u001b[38;5;241m.\u001b[39m_channel\u001b[38;5;241m.\u001b[39msegregated_call(\n\u001b[1;32m   1147\u001b[0m     cygrpc\u001b[38;5;241m.\u001b[39mPropagationConstants\u001b[38;5;241m.\u001b[39mGRPC_PROPAGATE_DEFAULTS,\n\u001b[1;32m   1148\u001b[0m     \u001b[38;5;28mself\u001b[39m\u001b[38;5;241m.\u001b[39m_method,\n\u001b[0;32m   (...)\u001b[0m\n\u001b[1;32m   1160\u001b[0m     \u001b[38;5;28mself\u001b[39m\u001b[38;5;241m.\u001b[39m_registered_call_handle,\n\u001b[1;32m   1161\u001b[0m )\n\u001b[0;32m-> 1162\u001b[0m event \u001b[38;5;241m=\u001b[39m \u001b[43mcall\u001b[49m\u001b[38;5;241;43m.\u001b[39;49m\u001b[43mnext_event\u001b[49m\u001b[43m(\u001b[49m\u001b[43m)\u001b[49m\n\u001b[1;32m   1163\u001b[0m _handle_event(event, state, \u001b[38;5;28mself\u001b[39m\u001b[38;5;241m.\u001b[39m_response_deserializer)\n\u001b[1;32m   1164\u001b[0m \u001b[38;5;28;01mreturn\u001b[39;00m state, call\n",
      "File \u001b[0;32msrc/python/grpcio/grpc/_cython/_cygrpc/channel.pyx.pxi:400\u001b[0m, in \u001b[0;36mgrpc._cython.cygrpc.SegregatedCall.next_event\u001b[0;34m()\u001b[0m\n",
      "File \u001b[0;32msrc/python/grpcio/grpc/_cython/_cygrpc/channel.pyx.pxi:211\u001b[0m, in \u001b[0;36mgrpc._cython.cygrpc._next_call_event\u001b[0;34m()\u001b[0m\n",
      "File \u001b[0;32msrc/python/grpcio/grpc/_cython/_cygrpc/channel.pyx.pxi:205\u001b[0m, in \u001b[0;36mgrpc._cython.cygrpc._next_call_event\u001b[0;34m()\u001b[0m\n",
      "File \u001b[0;32msrc/python/grpcio/grpc/_cython/_cygrpc/completion_queue.pyx.pxi:78\u001b[0m, in \u001b[0;36mgrpc._cython.cygrpc._latent_event\u001b[0;34m()\u001b[0m\n",
      "File \u001b[0;32msrc/python/grpcio/grpc/_cython/_cygrpc/completion_queue.pyx.pxi:62\u001b[0m, in \u001b[0;36mgrpc._cython.cygrpc._internal_latent_event\u001b[0;34m()\u001b[0m\n",
      "File \u001b[0;32msrc/python/grpcio/grpc/_cython/_cygrpc/completion_queue.pyx.pxi:58\u001b[0m, in \u001b[0;36mgrpc._cython.cygrpc._interpret_event\u001b[0;34m()\u001b[0m\n",
      "File \u001b[0;32msrc/python/grpcio/grpc/_cython/_cygrpc/tag.pyx.pxi:71\u001b[0m, in \u001b[0;36mgrpc._cython.cygrpc._BatchOperationTag.event\u001b[0;34m()\u001b[0m\n",
      "File \u001b[0;32msrc/python/grpcio/grpc/_cython/_cygrpc/operation.pyx.pxi:138\u001b[0m, in \u001b[0;36mgrpc._cython.cygrpc.ReceiveInitialMetadataOperation.un_c\u001b[0;34m()\u001b[0m\n",
      "File \u001b[0;32msrc/python/grpcio/grpc/_cython/_cygrpc/metadata.pyx.pxi:69\u001b[0m, in \u001b[0;36mgrpc._cython.cygrpc._metadata\u001b[0;34m()\u001b[0m\n",
      "File \u001b[0;32msrc/python/grpcio/grpc/_cython/_cygrpc/metadata.pyx.pxi:70\u001b[0m, in \u001b[0;36mgenexpr\u001b[0;34m()\u001b[0m\n",
      "File \u001b[0;32msrc/python/grpcio/grpc/_cython/_cygrpc/metadata.pyx.pxi:64\u001b[0m, in \u001b[0;36mgrpc._cython.cygrpc._metadatum\u001b[0;34m()\u001b[0m\n",
      "File \u001b[0;32m<string>:1\u001b[0m, in \u001b[0;36m<lambda>\u001b[0;34m(_cls, key, value)\u001b[0m\n",
      "\u001b[0;31mKeyboardInterrupt\u001b[0m: "
     ]
    }
   ],
   "source": [
    "x0 = hp.fmin(\n",
    "    fn=f,\n",
    "    space=[\n",
    "        hp.hp.uniform(\"alpha\", 0.2, 0.8),\n",
    "        hp.hp.randint(\"size\", 0, 3),\n",
    "        hp.hp.randint(\"limit\", 0, 5),\n",
    "    ],\n",
    "    max_evals=50,\n",
    ")"
   ]
  },
  {
   "cell_type": "code",
   "execution_count": 12,
   "metadata": {},
   "outputs": [
    {
     "data": {
      "text/html": [
       "<pre style=\"white-space:pre;overflow-x:auto;line-height:normal;font-family:Menlo,'DejaVu Sans Mono',consolas,'Courier New',monospace\"><span style=\"color: #008080; text-decoration-color: #008080; font-weight: bold\">0.54</span> <span style=\"color: #008080; text-decoration-color: #008080; font-weight: bold\">512</span> <span style=\"color: #008080; text-decoration-color: #008080; font-weight: bold\">60</span>\n",
       "</pre>\n"
      ],
      "text/plain": [
       "\u001b[1;36m0.54\u001b[0m \u001b[1;36m512\u001b[0m \u001b[1;36m60\u001b[0m\n"
      ]
     },
     "metadata": {},
     "output_type": "display_data"
    },
    {
     "name": "stderr",
     "output_type": "stream",
     "text": [
      "Queries: 100%|██████████| 100/100 [12:05<00:00,  7.25s/it]\n"
     ]
    },
    {
     "data": {
      "text/html": [
       "<pre style=\"white-space:pre;overflow-x:auto;line-height:normal;font-family:Menlo,'DejaVu Sans Mono',consolas,'Courier New',monospace\">Total Processing Time: <span style=\"color: #008080; text-decoration-color: #008080; font-weight: bold\">12.09</span> minutes\n",
       "</pre>\n"
      ],
      "text/plain": [
       "Total Processing Time: \u001b[1;36m12.09\u001b[0m minutes\n"
      ]
     },
     "metadata": {},
     "output_type": "display_data"
    },
    {
     "data": {
      "text/html": [
       "<pre style=\"white-space:pre;overflow-x:auto;line-height:normal;font-family:Menlo,'DejaVu Sans Mono',consolas,'Courier New',monospace\"><span style=\"color: #008080; text-decoration-color: #008080; font-weight: bold\">0.88</span> <span style=\"color: #008080; text-decoration-color: #008080; font-weight: bold\">0.54</span> <span style=\"color: #008080; text-decoration-color: #008080; font-weight: bold\">512</span> <span style=\"color: #008080; text-decoration-color: #008080; font-weight: bold\">60</span>\n",
       "</pre>\n"
      ],
      "text/plain": [
       "\u001b[1;36m0.88\u001b[0m \u001b[1;36m0.54\u001b[0m \u001b[1;36m512\u001b[0m \u001b[1;36m60\u001b[0m\n"
      ]
     },
     "metadata": {},
     "output_type": "display_data"
    },
    {
     "data": {
      "text/plain": [
       "-0.88"
      ]
     },
     "execution_count": 12,
     "metadata": {},
     "output_type": "execute_result"
    }
   ],
   "source": [
    "f([0.54, 2, 2])"
   ]
  },
  {
   "cell_type": "code",
   "execution_count": null,
   "metadata": {},
   "outputs": [],
   "source": []
  }
 ],
 "metadata": {
  "kernelspec": {
   "display_name": "vec",
   "language": "python",
   "name": "python3"
  },
  "language_info": {
   "codemirror_mode": {
    "name": "ipython",
    "version": 3
   },
   "file_extension": ".py",
   "mimetype": "text/x-python",
   "name": "python",
   "nbconvert_exporter": "python",
   "pygments_lexer": "ipython3",
   "version": "3.10.14"
  }
 },
 "nbformat": 4,
 "nbformat_minor": 2
}
